{
 "cells": [
  {
   "cell_type": "code",
   "execution_count": 0,
   "metadata": {
    "application/vnd.databricks.v1+cell": {
     "cellMetadata": {
      "byteLimit": 2048000,
      "rowLimit": 10000
     },
     "inputWidgets": {},
     "nuid": "01a7f149-f5ea-421d-a80e-5e875819b1b5",
     "showTitle": false,
     "title": ""
    }
   },
   "outputs": [
    {
     "output_type": "display_data",
     "data": {
      "text/html": [
       "<style scoped>\n  .ansiout {\n    display: block;\n    unicode-bidi: embed;\n    white-space: pre-wrap;\n    word-wrap: break-word;\n    word-break: break-all;\n    font-family: \"Source Code Pro\", \"Menlo\", monospace;;\n    font-size: 13px;\n    color: #555;\n    margin-left: 4px;\n    line-height: 19px;\n  }\n</style>\n<div class=\"ansiout\"></div>"
      ]
     },
     "metadata": {
      "application/vnd.databricks.v1+output": {
       "addedWidgets": {},
       "arguments": {},
       "data": "<div class=\"ansiout\"></div>",
       "datasetInfos": [],
       "metadata": {},
       "removedWidgets": [],
       "type": "html"
      }
     },
     "output_type": "display_data"
    }
   ],
   "source": [
    "from pyspark.sql import *\n",
    "from pyspark.sql.functions import *\n",
    "from pyspark.sql.types import *"
   ]
  },
  {
   "cell_type": "markdown",
   "metadata": {
    "application/vnd.databricks.v1+cell": {
     "cellMetadata": {
      "byteLimit": 2048000,
      "rowLimit": 10000
     },
     "inputWidgets": {},
     "nuid": "f00296bf-b3e6-49d2-b11e-eb557c7950e5",
     "showTitle": false,
     "title": ""
    }
   },
   "source": [
    "#Fuente"
   ]
  },
  {
   "cell_type": "code",
   "execution_count": 0,
   "metadata": {
    "application/vnd.databricks.v1+cell": {
     "cellMetadata": {
      "byteLimit": 2048000,
      "rowLimit": 10000
     },
     "inputWidgets": {},
     "nuid": "ee3d41dc-f4ec-42b1-8bc1-079c80c0c008",
     "showTitle": false,
     "title": ""
    }
   },
   "outputs": [
    {
     "output_type": "display_data",
     "data": {
      "text/html": [
       "<style scoped>\n  .ansiout {\n    display: block;\n    unicode-bidi: embed;\n    white-space: pre-wrap;\n    word-wrap: break-word;\n    word-break: break-all;\n    font-family: \"Source Code Pro\", \"Menlo\", monospace;;\n    font-size: 13px;\n    color: #555;\n    margin-left: 4px;\n    line-height: 19px;\n  }\n</style>\n<div class=\"ansiout\"></div>"
      ]
     },
     "metadata": {
      "application/vnd.databricks.v1+output": {
       "addedWidgets": {},
       "arguments": {},
       "data": "<div class=\"ansiout\"></div>",
       "datasetInfos": [],
       "metadata": {},
       "removedWidgets": [],
       "type": "html"
      }
     },
     "output_type": "display_data"
    }
   ],
   "source": [
    "institucion_educativa_df = spark.read.format('csv') \\\n",
    "                                     .option('header', 'true') \\\n",
    "                                     .option('inferSchema', 'true') \\\n",
    "                                     .load('/FileStore/tables/2023_04_11T04_36_02_388Zinstituciones_educativas.csv')"
   ]
  },
  {
   "cell_type": "code",
   "execution_count": 0,
   "metadata": {
    "application/vnd.databricks.v1+cell": {
     "cellMetadata": {
      "byteLimit": 2048000,
      "rowLimit": 10000
     },
     "inputWidgets": {},
     "nuid": "5e00af7d-c6f5-43d4-8630-e30a9cb86bc9",
     "showTitle": false,
     "title": ""
    }
   },
   "outputs": [
    {
     "output_type": "display_data",
     "data": {
      "text/html": [
       "<style scoped>\n  .ansiout {\n    display: block;\n    unicode-bidi: embed;\n    white-space: pre-wrap;\n    word-wrap: break-word;\n    word-break: break-all;\n    font-family: \"Source Code Pro\", \"Menlo\", monospace;;\n    font-size: 13px;\n    color: #555;\n    margin-left: 4px;\n    line-height: 19px;\n  }\n</style>\n<div class=\"ansiout\"></div>"
      ]
     },
     "metadata": {
      "application/vnd.databricks.v1+output": {
       "addedWidgets": {},
       "arguments": {},
       "data": "<div class=\"ansiout\"></div>",
       "datasetInfos": [],
       "metadata": {},
       "removedWidgets": [],
       "type": "html"
      }
     },
     "output_type": "display_data"
    }
   ],
   "source": [
    "universidades_homolac_df = spark.read.format('csv') \\\n",
    "                                     .option('header', 'true') \\\n",
    "                                     .option('inferSchema', 'true') \\\n",
    "                                     .load('/FileStore/tables/universidades_krowdy.csv')"
   ]
  },
  {
   "cell_type": "markdown",
   "metadata": {
    "application/vnd.databricks.v1+cell": {
     "cellMetadata": {
      "byteLimit": 2048000,
      "rowLimit": 10000
     },
     "inputWidgets": {},
     "nuid": "ac1f3ee7-7c4d-4d85-8de9-6ad46a605c65",
     "showTitle": false,
     "title": ""
    }
   },
   "source": [
    "#Transformacion"
   ]
  },
  {
   "cell_type": "code",
   "execution_count": 0,
   "metadata": {
    "application/vnd.databricks.v1+cell": {
     "cellMetadata": {
      "byteLimit": 2048000,
      "rowLimit": 10000
     },
     "inputWidgets": {},
     "nuid": "1505d032-70d3-4025-8b60-84d78d04333b",
     "showTitle": false,
     "title": ""
    }
   },
   "outputs": [
    {
     "output_type": "display_data",
     "data": {
      "text/html": [
       "<style scoped>\n  .ansiout {\n    display: block;\n    unicode-bidi: embed;\n    white-space: pre-wrap;\n    word-wrap: break-word;\n    word-break: break-all;\n    font-family: \"Source Code Pro\", \"Menlo\", monospace;;\n    font-size: 13px;\n    color: #555;\n    margin-left: 4px;\n    line-height: 19px;\n  }\n</style>\n<div class=\"ansiout\"></div>"
      ]
     },
     "metadata": {
      "application/vnd.databricks.v1+output": {
       "addedWidgets": {},
       "arguments": {},
       "data": "<div class=\"ansiout\"></div>",
       "datasetInfos": [],
       "metadata": {},
       "removedWidgets": [],
       "type": "html"
      }
     },
     "output_type": "display_data"
    }
   ],
   "source": [
    "universidades_homolac_df = universidades_homolac_df.withColumn(\"siglas_min\", trim(lower(col('Siglas ')))) \\\n",
    "                                                   .withColumn(\"nombre_min\", trim(lower(col('Nombre ')))) \\\n",
    "                                                   .withColumn(\"id_inei\", trim(col('código INEI'))).drop('código INEI')"
   ]
  },
  {
   "cell_type": "code",
   "execution_count": 0,
   "metadata": {
    "application/vnd.databricks.v1+cell": {
     "cellMetadata": {
      "byteLimit": 2048000,
      "rowLimit": 10000
     },
     "inputWidgets": {},
     "nuid": "f0877095-2589-4cb9-8b05-532c35b54bcb",
     "showTitle": false,
     "title": ""
    }
   },
   "outputs": [
    {
     "output_type": "display_data",
     "data": {
      "text/html": [
       "<style scoped>\n  .ansiout {\n    display: block;\n    unicode-bidi: embed;\n    white-space: pre-wrap;\n    word-wrap: break-word;\n    word-break: break-all;\n    font-family: \"Source Code Pro\", \"Menlo\", monospace;;\n    font-size: 13px;\n    color: #555;\n    margin-left: 4px;\n    line-height: 19px;\n  }\n</style>\n<div class=\"ansiout\"></div>"
      ]
     },
     "metadata": {
      "application/vnd.databricks.v1+output": {
       "addedWidgets": {},
       "arguments": {},
       "data": "<div class=\"ansiout\"></div>",
       "datasetInfos": [],
       "metadata": {},
       "removedWidgets": [],
       "type": "html"
      }
     },
     "output_type": "display_data"
    }
   ],
   "source": [
    "df_homologado = institucion_educativa_df.withColumn(\"value_homologada\", trim(lower(regexp_replace(col('value'), \"\\s+\", \" \"))))"
   ]
  },
  {
   "cell_type": "code",
   "execution_count": 0,
   "metadata": {
    "application/vnd.databricks.v1+cell": {
     "cellMetadata": {
      "byteLimit": 2048000,
      "rowLimit": 10000
     },
     "inputWidgets": {},
     "nuid": "b1b76d84-3eea-4c9b-904d-ba63646da304",
     "showTitle": false,
     "title": ""
    }
   },
   "outputs": [
    {
     "output_type": "display_data",
     "data": {
      "text/html": [
       "<style scoped>\n  .ansiout {\n    display: block;\n    unicode-bidi: embed;\n    white-space: pre-wrap;\n    word-wrap: break-word;\n    word-break: break-all;\n    font-family: \"Source Code Pro\", \"Menlo\", monospace;;\n    font-size: 13px;\n    color: #555;\n    margin-left: 4px;\n    line-height: 19px;\n  }\n</style>\n<div class=\"ansiout\"></div>"
      ]
     },
     "metadata": {
      "application/vnd.databricks.v1+output": {
       "addedWidgets": {},
       "arguments": {},
       "data": "<div class=\"ansiout\"></div>",
       "datasetInfos": [],
       "metadata": {},
       "removedWidgets": [],
       "type": "html"
      }
     },
     "output_type": "display_data"
    }
   ],
   "source": [
    "df_array = df_homologado.select(\"value_homologada\", array(\"cod_inei\").alias(\"cod_inei\"))\n",
    "\n",
    "import json\n",
    "lista_dict = df_array.collect()\n",
    "\n",
    "# Convertir cada elemento de la lista en un diccionario de Python\n",
    "diccionario = {}\n",
    "for elem in lista_dict:\n",
    "    cadena_json = json.dumps(elem.asDict())\n",
    "    dict_elem = json.loads(cadena_json)\n",
    "    diccionario[dict_elem[\"value_homologada\"]] = dict_elem[\"cod_inei\"]"
   ]
  },
  {
   "cell_type": "code",
   "execution_count": 0,
   "metadata": {
    "application/vnd.databricks.v1+cell": {
     "cellMetadata": {
      "byteLimit": 2048000,
      "rowLimit": 10000
     },
     "inputWidgets": {},
     "nuid": "58031ec3-7ed5-44f9-beff-b6a9bf65493f",
     "showTitle": false,
     "title": ""
    }
   },
   "outputs": [
    {
     "output_type": "display_data",
     "data": {
      "text/html": [
       "<style scoped>\n  .ansiout {\n    display: block;\n    unicode-bidi: embed;\n    white-space: pre-wrap;\n    word-wrap: break-word;\n    word-break: break-all;\n    font-family: \"Source Code Pro\", \"Menlo\", monospace;;\n    font-size: 13px;\n    color: #555;\n    margin-left: 4px;\n    line-height: 19px;\n  }\n</style>\n<div class=\"ansiout\"></div>"
      ]
     },
     "metadata": {
      "application/vnd.databricks.v1+output": {
       "addedWidgets": {},
       "arguments": {},
       "data": "<div class=\"ansiout\"></div>",
       "datasetInfos": [],
       "metadata": {},
       "removedWidgets": [],
       "type": "html"
      }
     },
     "output_type": "display_data"
    }
   ],
   "source": [
    "def homologate_name(value_homologada):\n",
    "    if value_homologada in diccionario:\n",
    "        return diccionario[value_homologada][0]  # Reemplazar con el primer sinónimo/abreviatura encontrado\n",
    "    else:\n",
    "        return value_homologada\n",
    "\n",
    "# Aplicar la homologación\n",
    "homologate_udf = udf(homologate_name, StringType())\n",
    "df_homologado = df_homologado.withColumn(\"synonym_name\", homologate_udf(col(\"value_homologada\"))) \\\n",
    "                             .drop('cod_inei')"
   ]
  },
  {
   "cell_type": "code",
   "execution_count": 0,
   "metadata": {
    "application/vnd.databricks.v1+cell": {
     "cellMetadata": {
      "byteLimit": 2048000,
      "rowLimit": 10000
     },
     "inputWidgets": {},
     "nuid": "d80b96ae-f6e2-4513-8a11-2e631d6d86ad",
     "showTitle": false,
     "title": ""
    }
   },
   "outputs": [
    {
     "output_type": "display_data",
     "data": {
      "text/html": [
       "<style scoped>\n  .ansiout {\n    display: block;\n    unicode-bidi: embed;\n    white-space: pre-wrap;\n    word-wrap: break-word;\n    word-break: break-all;\n    font-family: \"Source Code Pro\", \"Menlo\", monospace;;\n    font-size: 13px;\n    color: #555;\n    margin-left: 4px;\n    line-height: 19px;\n  }\n</style>\n<div class=\"ansiout\"></div>"
      ]
     },
     "metadata": {
      "application/vnd.databricks.v1+output": {
       "addedWidgets": {},
       "arguments": {},
       "data": "<div class=\"ansiout\"></div>",
       "datasetInfos": [],
       "metadata": {},
       "removedWidgets": [],
       "type": "html"
      }
     },
     "output_type": "display_data"
    }
   ],
   "source": [
    "data_homologada = df_homologado.join(universidades_homolac_df, universidades_homolac_df.id_inei == df_homologado.synonym_name,'left') \\\n",
    "                               .select('candidateId','value',col('Nombre ').alias('universidad_homologada')) \\\n",
    "                               .filter(col('Nombre ').isNotNull())"
   ]
  },
  {
   "cell_type": "code",
   "execution_count": 0,
   "metadata": {
    "application/vnd.databricks.v1+cell": {
     "cellMetadata": {
      "byteLimit": 2048000,
      "rowLimit": 10000
     },
     "inputWidgets": {},
     "nuid": "0ce45151-efee-4a29-ae49-00c7115d8639",
     "showTitle": false,
     "title": ""
    }
   },
   "outputs": [
    {
     "output_type": "display_data",
     "data": {
      "text/html": [
       "<style scoped>\n  .table-result-container {\n    max-height: 300px;\n    overflow: auto;\n  }\n  table, th, td {\n    border: 1px solid black;\n    border-collapse: collapse;\n  }\n  th, td {\n    padding: 5px;\n  }\n  th {\n    text-align: left;\n  }\n</style><div class='table-result-container'><table class='table-result'><thead style='background-color: white'><tr><th>candidateId</th><th>value</th><th>universidad_homologada</th></tr></thead><tbody><tr><td>630633fa1e599d0009d6dee0</td><td>Ucv</td><td>Universidad César Vallejo S.A.C.</td></tr><tr><td>63063bda29da5b00089fb224</td><td>Universidad Peruana De Ciencias Aplicadas - Upc</td><td>Universidad Peruana de Ciencias Aplicadas S.A.C.</td></tr><tr><td>630665b8594e18004af047fc</td><td>I. E 00 María Auxiliadora, Cercado De Lima</td><td>Universidad María Auxiliadora S.A.C.</td></tr><tr><td>630665b8594e18004af04816</td><td>Universidad Privada Del Norte - Upn</td><td>Universidad Privada del Norte S.A.C.</td></tr><tr><td>630665b8594e18004af04825</td><td>Universidad Nacional Agraria La Molina</td><td>Universidad Nacional Agraria La Molina</td></tr><tr><td>630665b8594e18004af04835</td><td>Universidad Privada San Juan Bautista</td><td>Universidad Privada San Juan Bautista S.A.C.</td></tr><tr><td>630665b8594e18004af04842</td><td>Universidad Peruana De Ciencias Aplicadas (upc)</td><td>Universidad Peruana de Ciencias Aplicadas S.A.C.</td></tr><tr><td>630665b8594e18004af0485d</td><td>Universidad De Ciencias Aplicadas</td><td>Universidad Peruana de Ciencias Aplicadas S.A.C.</td></tr><tr><td>630665b8594e18004af04864</td><td>Universidad Peruana De Ciencias Aplicadas - Upc</td><td>Universidad Peruana de Ciencias Aplicadas S.A.C.</td></tr><tr><td>630665b8594e18004af0489e</td><td>Universidad Cesar Vallejo</td><td>Universidad César Vallejo S.A.C.</td></tr><tr><td>630665b8594e18004af048ca</td><td>Universidad Tecnológica Del Perú</td><td>Universidad Tecnológica del Perú S.A.C.</td></tr><tr><td>630665b8594e18004af048d7</td><td>Universidad Nacional Mayor De San Marcos</td><td>Universidad Nacional Mayor de San Marcos</td></tr><tr><td>630665b8594e18004af048e7</td><td>Upn</td><td>Universidad Privada del Norte S.A.C.</td></tr><tr><td>630665b8594e18004af048fe</td><td>Universidad Privada San Juan Bautista</td><td>Universidad Privada San Juan Bautista S.A.C.</td></tr><tr><td>630665b8594e18004af04907</td><td>Universidad Tecnológica Del Perú</td><td>Universidad Tecnológica del Perú S.A.C.</td></tr><tr><td>630665b8594e18004af0490e</td><td>Instituto San Ignacio De Loyola</td><td>Universidad San Ignacio de Loyola S.R.L.</td></tr><tr><td>630665b8594e18004af0493a</td><td>Universidad Peruana De Ciencias Aplicada</td><td>Universidad Peruana de Ciencias Aplicadas S.A.C.</td></tr><tr><td>630665b8594e18004af04947</td><td>Universidad Privada Del Norte</td><td>Universidad Privada del Norte S.A.C.</td></tr><tr><td>630665b8594e18004af0495a</td><td>San Ignacio De Loyola</td><td>Universidad San Ignacio de Loyola S.R.L.</td></tr><tr><td>630665b8594e18004af0498a</td><td>Universidad Nacional De Piura</td><td>Universidad Nacional de Piura</td></tr><tr><td>630665b8594e18004af049b7</td><td>Universidad César Vallejo</td><td>Universidad César Vallejo S.A.C.</td></tr><tr><td>630665b8594e18004af049bf</td><td>Universidad Nacional De Jaén</td><td>Universidad Nacional de Jaén</td></tr><tr><td>630665b8594e18004af049c7</td><td>Universidad Tecnológica Del Perú</td><td>Universidad Tecnológica del Perú S.A.C.</td></tr><tr><td>630665b8594e18004af049ed</td><td>Universidad Nacional Mayor De San Marcos</td><td>Universidad Nacional Mayor de San Marcos</td></tr><tr><td>630665b8594e18004af049fa</td><td>Universidad Privada Del Norte</td><td>Universidad Privada del Norte S.A.C.</td></tr><tr><td>630665b8594e18004af04a18</td><td>Universidad Privada Del Norte</td><td>Universidad Privada del Norte S.A.C.</td></tr><tr><td>630665b8594e18004af04a3a</td><td>Universidad Cesar Vallejo</td><td>Universidad César Vallejo S.A.C.</td></tr><tr><td>630665b8594e18004af04a5a</td><td>Universidad Tecnológica Del Perú</td><td>Universidad Tecnológica del Perú S.A.C.</td></tr><tr><td>630665b8594e18004af04a68</td><td>Universidad San Ignacio De Loyola</td><td>Universidad San Ignacio de Loyola S.R.L.</td></tr><tr><td>630665b8594e18004af04a89</td><td>Universidad Privada Del Norte</td><td>Universidad Privada del Norte S.A.C.</td></tr><tr><td>630665b8594e18004af04aa0</td><td>Universidad César Vallejo</td><td>Universidad César Vallejo S.A.C.</td></tr><tr><td>630665b8594e18004af04aa7</td><td>Universidad Privada Antenor Orrego</td><td>Universidad Privada Antenor Orrego</td></tr><tr><td>630665b8594e18004af04aaf</td><td>Universidad Ricardo Palma</td><td>Universidad Ricardo Palma</td></tr><tr><td>630665b8594e18004af04ab6</td><td>Universidad Tecnológica Del Perú</td><td>Universidad Tecnológica del Perú S.A.C.</td></tr><tr><td>630665b8594e18004af04ac5</td><td>Universidad Nacional Daniel Alcides Carrión</td><td>Universidad Nacional Daniel Alcides Carrión</td></tr><tr><td>630665b8594e18004af04acf</td><td>Universidad Cesar Vallejo</td><td>Universidad César Vallejo S.A.C.</td></tr><tr><td>630665b8594e18004af04af5</td><td>Universidad Católica Sedes Sapientiae</td><td>Universidad Católica Sedes Sapientiae</td></tr><tr><td>630665b8594e18004af04afd</td><td>Universidad Privada Del Norte</td><td>Universidad Privada del Norte S.A.C.</td></tr><tr><td>630665b8594e18004af04b05</td><td>Universidad Autónoma Del Perú</td><td>Universidad Autónoma del Perú S.A.C.</td></tr><tr><td>630665b8594e18004af04b1e</td><td>Pontificia Universidad Católica Del Perú</td><td>Pontificia Universidad Católica del Perú</td></tr><tr><td>630665b8594e18004af04b26</td><td>Universidad Privada Del Norte</td><td>Universidad Privada del Norte S.A.C.</td></tr><tr><td>630665b8594e18004af04b5c</td><td>Universidad César Vallejo</td><td>Universidad César Vallejo S.A.C.</td></tr><tr><td>630665b8594e18004af04b71</td><td>Universidad César Vallejo​</td><td>Universidad César Vallejo S.A.C.</td></tr><tr><td>630665b8594e18004af04b7e</td><td>Universidad Cesar Vallejo</td><td>Universidad César Vallejo S.A.C.</td></tr><tr><td>630665b8594e18004af04b90</td><td>Universidad Peruana Los Andes</td><td>Universidad Peruana Los Andes</td></tr><tr><td>630665b8594e18004af04ba2</td><td>Universidad Privada Del Norte</td><td>Universidad Privada del Norte S.A.C.</td></tr><tr><td>630665b8594e18004af04bbb</td><td>Usil</td><td>Universidad San Ignacio de Loyola S.R.L.</td></tr><tr><td>630665b8594e18004af04bda</td><td>Universidad Peruana De Ciencias Aplicadas</td><td>Universidad Peruana de Ciencias Aplicadas S.A.C.</td></tr><tr><td>630665b8594e18004af04bfa</td><td>Upn</td><td>Universidad Privada del Norte S.A.C.</td></tr><tr><td>630665b8594e18004af04c08</td><td>Universidad Tecnológica Del Perú</td><td>Universidad Tecnológica del Perú S.A.C.</td></tr><tr><td>630665b8594e18004af04c10</td><td>Universidad Tecnologica Del Peru</td><td>Universidad Tecnológica del Perú S.A.C.</td></tr><tr><td>630665b8594e18004af04c28</td><td>Universidad César Vallejo</td><td>Universidad César Vallejo S.A.C.</td></tr><tr><td>630665b8594e18004af04c3d</td><td>Universidad Privada Del Norte</td><td>Universidad Privada del Norte S.A.C.</td></tr><tr><td>630665b8594e18004af04c55</td><td>Universidad Tecnológica Del Perú</td><td>Universidad Tecnológica del Perú S.A.C.</td></tr><tr><td>630665b8594e18004af04c65</td><td>Universidad Cesar Vallejo - Ucv</td><td>Universidad César Vallejo S.A.C.</td></tr><tr><td>630665b8594e18004af04c77</td><td>Universidad Privada Del Norte</td><td>Universidad Privada del Norte S.A.C.</td></tr><tr><td>630665b8594e18004af04c86</td><td>Universidad Nacional Del Callao - Unac</td><td>Universidad Nacional del Callao</td></tr><tr><td>630665b8594e18004af04c8f</td><td>Pucp</td><td>Pontificia Universidad Católica del Perú</td></tr><tr><td>630665b8594e18004af04ca5</td><td>Universidad Autónoma Del Perú</td><td>Universidad Autónoma del Perú S.A.C.</td></tr><tr><td>630665b8594e18004af04ce2</td><td>César Vallejo - Lima</td><td>Universidad César Vallejo S.A.C.</td></tr><tr><td>630665b8594e18004af04cef</td><td>Universidad Científica Del Sur</td><td>Universidad Científica del Sur S.A.C.</td></tr><tr><td>630665b8594e18004af04cfb</td><td>Universidad Cesar Vallejo</td><td>Universidad César Vallejo S.A.C.</td></tr><tr><td>630665b8594e18004af04d15</td><td>Universidad San Ignacio De Loyola - Usil</td><td>Universidad San Ignacio de Loyola S.R.L.</td></tr><tr><td>630665b8594e18004af04d20</td><td>Universidad San Martin De Porres</td><td>Universidad de San Martín de Porres</td></tr><tr><td>630665b8594e18004af04d3b</td><td>Universidad De San Martín De Porres</td><td>Universidad de San Martín de Porres</td></tr><tr><td>630665b8594e18004af04d4b</td><td>Unap</td><td>Universidad Nacional de la Amazonía Peruana</td></tr><tr><td>630665b8594e18004af04d6a</td><td>Universidad San Ignacio De Loyola - Usil</td><td>Universidad San Ignacio de Loyola S.R.L.</td></tr><tr><td>630665b8594e18004af04d81</td><td>Universidad Peruana Los Andes</td><td>Universidad Peruana Los Andes</td></tr><tr><td>630665b8594e18004af04d8b</td><td>Universidad Peruana Los Andes</td><td>Universidad Peruana Los Andes</td></tr><tr><td>630665b8594e18004af04d91</td><td>Instituto Continental</td><td>Universidad Continental S.A.C.</td></tr><tr><td>630665b8594e18004af04dab</td><td>Universidad Cesar Vallejo</td><td>Universidad César Vallejo S.A.C.</td></tr><tr><td>630665b8594e18004af04db3</td><td>Universidad Nacional De La Amazonia Peruana</td><td>Universidad Nacional de la Amazonía Peruana</td></tr><tr><td>630665b8594e18004af04dc6</td><td>Universidad Tecnológica Del Perú</td><td>Universidad Tecnológica del Perú S.A.C.</td></tr><tr><td>630665b8594e18004af04dee</td><td>Universidad Nacional De La Amazonia Peruana</td><td>Universidad Nacional de la Amazonía Peruana</td></tr><tr><td>630665b8594e18004af04e0b</td><td>Utp - Universidad Tecnológica Del Perú</td><td>Universidad Tecnológica del Perú S.A.C.</td></tr><tr><td>630665b8594e18004af04e14</td><td>Universidad Cesar Vallejo</td><td>Universidad César Vallejo S.A.C.</td></tr><tr><td>630665b8594e18004af04e1b</td><td>Universidad Nacional De La Amazonia Peruana</td><td>Universidad Nacional de la Amazonía Peruana</td></tr><tr><td>630665b8594e18004af04e29</td><td>Universidad Nacional Daniel Alcides Carrión - Undac</td><td>Universidad Nacional Daniel Alcides Carrión</td></tr><tr><td>630665b8594e18004af04e4a</td><td>Universidad Nacional De Tumbes</td><td>Universidad Nacional de Tumbes</td></tr><tr><td>630665b8594e18004af04e52</td><td>Universidad Nacional De Educación Enrique Guzmán Y Valle - La Cantuta</td><td>Universidad Nacional de Educación Enrique Guzmán y Valle</td></tr><tr><td>630665b8594e18004af04e59</td><td>Universidad San Martin De Porres</td><td>Universidad de San Martín de Porres</td></tr><tr><td>630665b8594e18004af04e64</td><td>Universidad Nacional De Tumbes</td><td>Universidad Nacional de Tumbes</td></tr><tr><td>630665b8594e18004af04e6b</td><td>Universidad Privada Del Norte</td><td>Universidad Privada del Norte S.A.C.</td></tr><tr><td>630665b8594e18004af04e8e</td><td>Universidad Tecnológica Del Perú - Utp</td><td>Universidad Tecnológica del Perú S.A.C.</td></tr><tr><td>630665b8594e18004af04ed2</td><td>Universidad Privada Del Norte</td><td>Universidad Privada del Norte S.A.C.</td></tr><tr><td>630665b8594e18004af04eda</td><td>Universidad Del Pacifico</td><td>Universidad del Pacífico</td></tr><tr><td>630665b8594e18004af04ef5</td><td>Enrique Guzmán Y Valle</td><td>Universidad Nacional de Educación Enrique Guzmán y Valle</td></tr><tr><td>630665b8594e18004af04ef5</td><td>Cesar Vallejo</td><td>Universidad César Vallejo S.A.C.</td></tr><tr><td>630665b8594e18004af04efc</td><td>Universidad Nacional Daniel Alcides Carrión</td><td>Universidad Nacional Daniel Alcides Carrión</td></tr><tr><td>630665b8594e18004af04f24</td><td>Daniel Alcides Carrion</td><td>Universidad Nacional Daniel Alcides Carrión</td></tr><tr><td>630665b8594e18004af04f39</td><td>Universidad Peruana Los Andes</td><td>Universidad Peruana Los Andes</td></tr><tr><td>630665b8594e18004af04f42</td><td>Universidad Continental</td><td>Universidad Continental S.A.C.</td></tr><tr><td>630665b8594e18004af04f48</td><td>Universidad De San Martin De Porres - Usmp</td><td>Universidad de San Martín de Porres</td></tr><tr><td>630665b8594e18004af04f57</td><td>Universidad De San Martin De Porres</td><td>Universidad de San Martín de Porres</td></tr><tr><td>630665b8594e18004af04f67</td><td>Universidad Nacional De San Martín</td><td>Universidad Nacional de San Martín</td></tr><tr><td>630665b8594e18004af04f9a</td><td>Universidad Tecnológica Del Perú</td><td>Universidad Tecnológica del Perú S.A.C.</td></tr><tr><td>630665b8594e18004af04fc4</td><td>Universidad Nacional Mayor De San Marcos</td><td>Universidad Nacional Mayor de San Marcos</td></tr><tr><td>630665b8594e18004af04fd2</td><td>Universidad Privada Del Norte</td><td>Universidad Privada del Norte S.A.C.</td></tr><tr><td>630665b8594e18004af04fdf</td><td>Universidad Tecnológica Del Perú</td><td>Universidad Tecnológica del Perú S.A.C.</td></tr><tr><td>630665b8594e18004af04fdf</td><td>Universidad Nacional Mayor De San Marcos</td><td>Universidad Nacional Mayor de San Marcos</td></tr><tr><td>630665b8594e18004af04ffb</td><td>Universidad Nacional Mayor De San Marcos</td><td>Universidad Nacional Mayor de San Marcos</td></tr><tr><td>630665b8594e18004af05008</td><td>Universidad Privada Del Norte</td><td>Universidad Privada del Norte S.A.C.</td></tr><tr><td>630665b8594e18004af0502e</td><td>Universidad Tecnológica Del Perú</td><td>Universidad Tecnológica del Perú S.A.C.</td></tr><tr><td>630665b8594e18004af0505d</td><td>Universidad De San Martin De Porres - Usmp</td><td>Universidad de San Martín de Porres</td></tr><tr><td>630665b8594e18004af05064</td><td>Upn</td><td>Universidad Privada del Norte S.A.C.</td></tr><tr><td>630665b8594e18004af05073</td><td>Universidad Tecnologica Del Peru</td><td>Universidad Tecnológica del Perú S.A.C.</td></tr><tr><td>630665b8594e18004af05085</td><td>Universidad Nacional De La Amazonia Peruana</td><td>Universidad Nacional de la Amazonía Peruana</td></tr><tr><td>630665b8594e18004af0509a</td><td>Universidad Católica Sedes Sapientiae</td><td>Universidad Católica Sedes Sapientiae</td></tr><tr><td>630665b8594e18004af050a1</td><td>Universidad Católica Sedes Sapientiae</td><td>Universidad Católica Sedes Sapientiae</td></tr><tr><td>630665b8594e18004af050c8</td><td>Universidad Privada Del Norte</td><td>Universidad Privada del Norte S.A.C.</td></tr><tr><td>630665b8594e18004af050dd</td><td>San Juan Bosco De Huanuco</td><td>Universidad de Huánuco</td></tr><tr><td>630665b8594e18004af050e4</td><td>Juan Bosco De Huánuco</td><td>Universidad de Huánuco</td></tr><tr><td>630665b8594e18004af05119</td><td>Universidad Privada Del Norte</td><td>Universidad Privada del Norte S.A.C.</td></tr><tr><td>630665b8594e18004af05123</td><td>Unmsm</td><td>Universidad Nacional Mayor de San Marcos</td></tr><tr><td>630665b8594e18004af05149</td><td>Universidad De San Martin De Porres</td><td>Universidad de San Martín de Porres</td></tr><tr><td>630665b8594e18004af0515d</td><td>Universidad Privada Del Norte</td><td>Universidad Privada del Norte S.A.C.</td></tr><tr><td>630665b8594e18004af0516d</td><td>Universidad De Ciencias Aplicadas</td><td>Universidad Peruana de Ciencias Aplicadas S.A.C.</td></tr><tr><td>630665b8594e18004af05179</td><td>Universidad Privada San Juan Bautista</td><td>Universidad Privada San Juan Bautista S.A.C.</td></tr><tr><td>630665b8594e18004af05192</td><td>Universidad San Ignacio De Loyola - Usil</td><td>Universidad San Ignacio de Loyola S.R.L.</td></tr><tr><td>630665b8594e18004af0519c</td><td>Universidad Nacional De La Amazonia Peruana</td><td>Universidad Nacional de la Amazonía Peruana</td></tr><tr><td>630665b8594e18004af051ab</td><td>Universidad Nacional De Tumbes</td><td>Universidad Nacional de Tumbes</td></tr><tr><td>630665b8594e18004af051b3</td><td>Universida Nacional De La Amazonia Peruana</td><td>Universidad Nacional de la Amazonía Peruana</td></tr><tr><td>630665b8594e18004af051ba</td><td>Universidad Privada Del Norte</td><td>Universidad Privada del Norte S.A.C.</td></tr><tr><td>630665b8594e18004af051e5</td><td>Universidad Privada Del Norte - Upn</td><td>Universidad Privada del Norte S.A.C.</td></tr><tr><td>630665b8594e18004af051ff</td><td>Universidad Autónoma Del Perú</td><td>Universidad Autónoma del Perú S.A.C.</td></tr><tr><td>630665b8594e18004af05206</td><td>Instituto San Ignacio De Loyola</td><td>Universidad San Ignacio de Loyola S.R.L.</td></tr><tr><td>630665b8594e18004af05215</td><td>Universidad Científica Del Sur</td><td>Universidad Científica del Sur S.A.C.</td></tr><tr><td>630665b8594e18004af0522e</td><td>Ucv</td><td>Universidad César Vallejo S.A.C.</td></tr><tr><td>630665b8594e18004af0525c</td><td>Instituto Continental</td><td>Universidad Continental S.A.C.</td></tr><tr><td>630665b8594e18004af05282</td><td>Universidad Peruana De Ciencias Aplicadas.</td><td>Universidad Peruana de Ciencias Aplicadas S.A.C.</td></tr><tr><td>630665b8594e18004af05289</td><td>Universidad Cesar Vallejo</td><td>Universidad César Vallejo S.A.C.</td></tr><tr><td>630665b8594e18004af05289</td><td>San Marcos 00503</td><td>Universidad Nacional Mayor de San Marcos</td></tr><tr><td>630665b8594e18004af05294</td><td>Universidad San Ignacio De Loyola</td><td>Universidad San Ignacio de Loyola S.R.L.</td></tr><tr><td>630665b8594e18004af0529e</td><td>Universidad Peruana De Ciencias Aplicadas</td><td>Universidad Peruana de Ciencias Aplicadas S.A.C.</td></tr><tr><td>630665b8594e18004af052a6</td><td>Universidad Autónoma Del Perú</td><td>Universidad Autónoma del Perú S.A.C.</td></tr><tr><td>630665b8594e18004af052ad</td><td>Universidad Privada Del Norte</td><td>Universidad Privada del Norte S.A.C.</td></tr><tr><td>630665b8594e18004af052b5</td><td>Universidad Nacional De Ingenieria</td><td>Universidad Nacional de Ingeniería</td></tr><tr><td>630665b8594e18004af052ca</td><td>Universidad La Salle</td><td>Universidad La Salle</td></tr><tr><td>630665b8594e18004af052ec</td><td>Universidad Nacional Del Altiplano</td><td>Universidad Nacional del Altiplano</td></tr><tr><td>630665b8594e18004af052f9</td><td>Universidad Tecnológica Del Perú</td><td>Universidad Tecnológica del Perú S.A.C.</td></tr><tr><td>630665b8594e18004af05303</td><td>Universidad Privada Del Norte</td><td>Universidad Privada del Norte S.A.C.</td></tr><tr><td>630665b8594e18004af0530f</td><td>Universidad Nacional De Tumbes</td><td>Universidad Nacional de Tumbes</td></tr><tr><td>630665b8594e18004af05317</td><td>Universidad Andina Del Cusco</td><td>Universidad Andina del Cusco</td></tr><tr><td>630665b8594e18004af05320</td><td>Universidad Privada De Tacna</td><td>Universidad Privada de Tacna</td></tr><tr><td>630665b8594e18004af0532c</td><td>Universidad Nacional Del Callao - Unac</td><td>Universidad Nacional del Callao</td></tr><tr><td>630665b8594e18004af05336</td><td>Universidad Tecnologica Del Peru</td><td>Universidad Tecnológica del Perú S.A.C.</td></tr><tr><td>630665b8594e18004af05354</td><td>Universidad Peruana Los Andes</td><td>Universidad Peruana Los Andes</td></tr><tr><td>630665b8594e18004af05397</td><td>Universidad Peruana De Ciencias Aplicadas</td><td>Universidad Peruana de Ciencias Aplicadas S.A.C.</td></tr><tr><td>630665b8594e18004af05397</td><td>Universidad Peruana De Ciencias Aplicadas</td><td>Universidad Peruana de Ciencias Aplicadas S.A.C.</td></tr><tr><td>630665b8594e18004af053a0</td><td>Universidad Nacional De La Amazonia Peruana - Unap</td><td>Universidad Nacional de la Amazonía Peruana</td></tr><tr><td>630665b8594e18004af053b1</td><td>Universidad San Ignacio De Loyola</td><td>Universidad San Ignacio de Loyola S.R.L.</td></tr><tr><td>630665b8594e18004af053b1</td><td>Universidad Peruana Cayetano Heredia</td><td>Universidad Peruana Cayetano Heredia</td></tr><tr><td>630665b8594e18004af053be</td><td>Universidad Continental</td><td>Universidad Continental S.A.C.</td></tr><tr><td>630665b8594e18004af053ce</td><td>Universidad Nacional Del Callao</td><td>Universidad Nacional del Callao</td></tr><tr><td>630665b8594e18004af053f3</td><td>Universidad De Lima</td><td>Universidad de Lima</td></tr><tr><td>630665b8594e18004af053fb</td><td>Universidad Peruana De Ciencias Aplicadas - Upc</td><td>Universidad Peruana de Ciencias Aplicadas S.A.C.</td></tr><tr><td>630665b8594e18004af0540e</td><td>Universidad Privada Del Norte</td><td>Universidad Privada del Norte S.A.C.</td></tr><tr><td>630665b8594e18004af05421</td><td>Universidad Peruana De Ciencias Aplicadas - Upc</td><td>Universidad Peruana de Ciencias Aplicadas S.A.C.</td></tr><tr><td>630665b8594e18004af05449</td><td>Universidad Peruana De Ciencias Aplicadas</td><td>Universidad Peruana de Ciencias Aplicadas S.A.C.</td></tr><tr><td>630665b8594e18004af05463</td><td>Universidad Cesar Vallejo - Ucv</td><td>Universidad César Vallejo S.A.C.</td></tr><tr><td>630665b8594e18004af0546b</td><td>Universidad De Huanuco</td><td>Universidad de Huánuco</td></tr><tr><td>630665b8594e18004af05488</td><td>Universidad Nacional Enrique Guzmán Y Valle</td><td>Universidad Nacional de Educación Enrique Guzmán y Valle</td></tr><tr><td>630665b8594e18004af05490</td><td>Universidad Tecnologica Del Peru</td><td>Universidad Tecnológica del Perú S.A.C.</td></tr><tr><td>630665b8594e18004af05497</td><td>Universidad Cesar Vallejo</td><td>Universidad César Vallejo S.A.C.</td></tr><tr><td>630665b8594e18004af054a1</td><td>Instituto Continental</td><td>Universidad Continental S.A.C.</td></tr><tr><td>630665b8594e18004af054a9</td><td>Universidad César Vallejo</td><td>Universidad César Vallejo S.A.C.</td></tr><tr><td>630665b8594e18004af054b2</td><td>Universidad Nacional De La Amazonia Peruana</td><td>Universidad Nacional de la Amazonía Peruana</td></tr><tr><td>630665b8594e18004af054c0</td><td>Universidad Privada Del Norte</td><td>Universidad Privada del Norte S.A.C.</td></tr><tr><td>630665b8594e18004af054c7</td><td>Universidad Privada Del Norte</td><td>Universidad Privada del Norte S.A.C.</td></tr><tr><td>630665b8594e18004af054e7</td><td>Universidad Andina Del Cusco</td><td>Universidad Andina del Cusco</td></tr><tr><td>630665b8594e18004af054f9</td><td>Universidad Tecnológica Del Perú - Utp</td><td>Universidad Tecnológica del Perú S.A.C.</td></tr><tr><td>630665b8594e18004af05508</td><td>Juan Bosco De Huanuco</td><td>Universidad de Huánuco</td></tr><tr><td>630665b8594e18004af05516</td><td>Universidad Cesar Vallejo</td><td>Universidad César Vallejo S.A.C.</td></tr><tr><td>630665b8594e18004af05550</td><td>Universidad Continental</td><td>Universidad Continental S.A.C.</td></tr><tr><td>630665b8594e18004af05557</td><td>Universidad Tecnológica Del Perú</td><td>Universidad Tecnológica del Perú S.A.C.</td></tr><tr><td>630665b8594e18004af0555e</td><td>Universidad Cesar Vallejo</td><td>Universidad César Vallejo S.A.C.</td></tr><tr><td>630665b8594e18004af0556f</td><td>Universidad Nacional Federico Villarreal</td><td>Universidad Nacional Federico Villarreal</td></tr><tr><td>630665b8594e18004af05576</td><td>Instituto San Ignacio De Loyola</td><td>Universidad San Ignacio de Loyola S.R.L.</td></tr><tr><td>630665b8594e18004af0557c</td><td>Universidad Privada Del Norte</td><td>Universidad Privada del Norte S.A.C.</td></tr><tr><td>630665b8594e18004af055a1</td><td>Universidad Privada Del Norte</td><td>Universidad Privada del Norte S.A.C.</td></tr><tr><td>630665b8594e18004af055b1</td><td>Utp</td><td>Universidad Tecnológica del Perú S.A.C.</td></tr><tr><td>630665b8594e18004af055b8</td><td>Universidad César Vallejo</td><td>Universidad César Vallejo S.A.C.</td></tr><tr><td>630665b8594e18004af055be</td><td>Upn</td><td>Universidad Privada del Norte S.A.C.</td></tr><tr><td>630665b8594e18004af055c5</td><td>Universidad Privada Del Norte</td><td>Universidad Privada del Norte S.A.C.</td></tr><tr><td>630665b8594e18004af055cc</td><td>Universidad Ricardo Palma</td><td>Universidad Ricardo Palma</td></tr><tr><td>630665b8594e18004af055d8</td><td>Universidad Nacional De La  Amazonia Peruana</td><td>Universidad Nacional de la Amazonía Peruana</td></tr><tr><td>630665b8594e18004af055df</td><td>Universidad Nacional De La Amazonía Peruana</td><td>Universidad Nacional de la Amazonía Peruana</td></tr><tr><td>630665b8594e18004af05600</td><td>Universidad Privada Del Norte</td><td>Universidad Privada del Norte S.A.C.</td></tr><tr><td>630665b8594e18004af05613</td><td>Universidad César Vallejo</td><td>Universidad César Vallejo S.A.C.</td></tr><tr><td>630665b8594e18004af05619</td><td>Universidad Maria Auxiliadora</td><td>Universidad María Auxiliadora S.A.C.</td></tr><tr><td>630665b8594e18004af05626</td><td>Universidad De San Martin De Porres</td><td>Universidad de San Martín de Porres</td></tr><tr><td>630665b8594e18004af0562e</td><td>Universidad Andina Del Cusco</td><td>Universidad Andina del Cusco</td></tr><tr><td>630665b8594e18004af05634</td><td>Universidad Privada Del Norte</td><td>Universidad Privada del Norte S.A.C.</td></tr><tr><td>630665b8594e18004af05643</td><td>Universidad Cesar Vallejo</td><td>Universidad César Vallejo S.A.C.</td></tr><tr><td>630665b8594e18004af05653</td><td>Universidad Peruana De Ciencias Aplicadas</td><td>Universidad Peruana de Ciencias Aplicadas S.A.C.</td></tr><tr><td>630665b8594e18004af05663</td><td>Universidad Cesar Vallejo - Ucv</td><td>Universidad César Vallejo S.A.C.</td></tr><tr><td>630665b8594e18004af0566b</td><td>Upc</td><td>Universidad Peruana de Ciencias Aplicadas S.A.C.</td></tr><tr><td>630665b8594e18004af05691</td><td>Universidad De San Martín De Porres</td><td>Universidad de San Martín de Porres</td></tr><tr><td>630665b8594e18004af056af</td><td>Universidad Autonoma Del Peru</td><td>Universidad Autónoma del Perú S.A.C.</td></tr><tr><td>630665b8594e18004af056c1</td><td>Pucp</td><td>Pontificia Universidad Católica del Perú</td></tr><tr><td>630665b8594e18004af056d7</td><td>Universidad Privada Del Norte</td><td>Universidad Privada del Norte S.A.C.</td></tr><tr><td>630665b8594e18004af056ed</td><td>Universidad Cesar Vallejo</td><td>Universidad César Vallejo S.A.C.</td></tr><tr><td>630665b8594e18004af0570c</td><td>Universidad Peruana De Ciencias Aplicadas</td><td>Universidad Peruana de Ciencias Aplicadas S.A.C.</td></tr><tr><td>630665b8594e18004af05713</td><td>Universidad San Martin De Porres</td><td>Universidad de San Martín de Porres</td></tr><tr><td>630665b8594e18004af0572f</td><td>Universidad Nacional De Piura</td><td>Universidad Nacional de Piura</td></tr><tr><td>630665b8594e18004af05751</td><td>Universidad Privada Del Norte</td><td>Universidad Privada del Norte S.A.C.</td></tr><tr><td>630665b8594e18004af05768</td><td>San Ignacio De Loyola</td><td>Universidad San Ignacio de Loyola S.R.L.</td></tr><tr><td>630665b8594e18004af0577c</td><td>Universidad Tecnológica Del Perú</td><td>Universidad Tecnológica del Perú S.A.C.</td></tr><tr><td>630665b8594e18004af05796</td><td>Universidad Ricardo Palma</td><td>Universidad Ricardo Palma</td></tr><tr><td>630665b8594e18004af057a3</td><td>Universidad Privada Del Norte</td><td>Universidad Privada del Norte S.A.C.</td></tr><tr><td>630665b8594e18004af057b7</td><td>Universidad Nacional De Huancavelica</td><td>Universidad Nacional de Huancavelica</td></tr><tr><td>630665b8594e18004af057d0</td><td>Universidad Privada Antenor Orrego</td><td>Universidad Privada Antenor Orrego</td></tr><tr><td>630665b8594e18004af057d8</td><td>Universidad Peruana Unión</td><td>Universidad Peruana Unión</td></tr><tr><td>630665b8594e18004af05827</td><td>Universidad Nacional San Antonio Abad Del Cusco</td><td>Universidad Nacional de San Antonio Abad del Cusco</td></tr><tr><td>630665b8594e18004af0582e</td><td>Universidad Nacional Mayor De San Marcos - Unmsm</td><td>Universidad Nacional Mayor de San Marcos</td></tr><tr><td>630665b8594e18004af05844</td><td>Universidad Privada Del Norte</td><td>Universidad Privada del Norte S.A.C.</td></tr><tr><td>630665b8594e18004af0584f</td><td>Universidad Cesar Vallejo</td><td>Universidad César Vallejo S.A.C.</td></tr><tr><td>630665b8594e18004af05884</td><td>Universidad Tecnologica Del Peru</td><td>Universidad Tecnológica del Perú S.A.C.</td></tr><tr><td>630665b8594e18004af058be</td><td>Universidad Andina Del Cusco</td><td>Universidad Andina del Cusco</td></tr><tr><td>630665b8594e18004af058cd</td><td>Universidad Tecnológica Del Perú</td><td>Universidad Tecnológica del Perú S.A.C.</td></tr><tr><td>630665b8594e18004af058d6</td><td>Universidad Privada De Tacna</td><td>Universidad Privada de Tacna</td></tr><tr><td>630665b8594e18004af058e5</td><td>Universidad Privada Del Norte</td><td>Universidad Privada del Norte S.A.C.</td></tr><tr><td>630665b8594e18004af05904</td><td>Universidad Privada Del Norte</td><td>Universidad Privada del Norte S.A.C.</td></tr><tr><td>630665b8594e18004af05917</td><td>Univesidad Cesar Vallejo</td><td>Universidad César Vallejo S.A.C.</td></tr><tr><td>630665b8594e18004af05924</td><td>Universidad Cesar Vallejo</td><td>Universidad César Vallejo S.A.C.</td></tr><tr><td>630665b8594e18004af0592f</td><td>Universidad Femenina Del Sagrado Corazón - Unife</td><td>Universidad Femenina del Sagrado Corazón</td></tr><tr><td>630665b8594e18004af05938</td><td>Universidad Nacional Del Centro Del Perú</td><td>Universidad Nacional del Centro del Perú</td></tr><tr><td>630665b8594e18004af059a2</td><td>Universidad Cesar Vallejo</td><td>Universidad César Vallejo S.A.C.</td></tr><tr><td>630665b8594e18004af059ca</td><td>Universidad Peruana De Ciencias Aplicadas</td><td>Universidad Peruana de Ciencias Aplicadas S.A.C.</td></tr><tr><td>630665b8594e18004af059d1</td><td>Universidad Nacional De San Martin</td><td>Universidad Nacional de San Martín</td></tr><tr><td>630665b8594e18004af059dc</td><td>Universidad Privada Del Norte</td><td>Universidad Privada del Norte S.A.C.</td></tr><tr><td>630665b8594e18004af059f7</td><td>Universidad Nacional De La Amazonia Peruana</td><td>Universidad Nacional de la Amazonía Peruana</td></tr><tr><td>630665b8594e18004af05a04</td><td>Universidad Peruana De Ciencias Aplicadas</td><td>Universidad Peruana de Ciencias Aplicadas S.A.C.</td></tr><tr><td>630665b8594e18004af05a2c</td><td>Universidad Tecnológica Del Perú</td><td>Universidad Tecnológica del Perú S.A.C.</td></tr><tr><td>630665b8594e18004af05a34</td><td>Universidad Nacional De La Amazonía Peruana</td><td>Universidad Nacional de la Amazonía Peruana</td></tr><tr><td>630665b8594e18004af05a4b</td><td>Universidad Cesar Vallejo</td><td>Universidad César Vallejo S.A.C.</td></tr><tr><td>630665b8594e18004af05a5a</td><td>San Antonio Abad Del Cusco</td><td>Universidad Nacional de San Antonio Abad del Cusco</td></tr><tr><td>630665b8594e18004af05a68</td><td>Universidad Tecnologica De Los Andes</td><td>Universidad Tecnológica de los Andes</td></tr><tr><td>630665b8594e18004af05a7f</td><td>Universidad Andina Del Cusco</td><td>Universidad Andina del Cusco</td></tr><tr><td>630665b8594e18004af05a8a</td><td>San Ignacio De Loyola</td><td>Universidad San Ignacio de Loyola S.R.L.</td></tr><tr><td>630665b8594e18004af05a95</td><td>Universidad Cesar Vallejo</td><td>Universidad César Vallejo S.A.C.</td></tr><tr><td>630665b8594e18004af05abd</td><td>Universidad De San Martin De Porres - Usmp</td><td>Universidad de San Martín de Porres</td></tr><tr><td>630665b8594e18004af05ac6</td><td>Universidad Nacional De Tumbes</td><td>Universidad Nacional de Tumbes</td></tr><tr><td>630665b8594e18004af05ad9</td><td>Cesar Vallejo</td><td>Universidad César Vallejo S.A.C.</td></tr><tr><td>630665b8594e18004af05ae4</td><td>Universidad Nacional De Frontera</td><td>Universidad Nacional de Frontera</td></tr><tr><td>630665b8594e18004af05b0a</td><td>Universidad De Huanuco</td><td>Universidad de Huánuco</td></tr><tr><td>630665b8594e18004af05b19</td><td>Unheval</td><td>Universidad Nacional Hermilio Valdizán de Huánuco</td></tr><tr><td>630665b8594e18004af05b48</td><td>Universidad Privada Del Norte</td><td>Universidad Privada del Norte S.A.C.</td></tr><tr><td>630665b8594e18004af05b58</td><td>San Martín De Porres</td><td>Universidad de San Martín de Porres</td></tr><tr><td>630665b8594e18004af05b66</td><td>Universidad Peruana Unión</td><td>Universidad Peruana Unión</td></tr><tr><td>630665b8594e18004af05b6c</td><td>Universidad Nacional Amazónica De Madre De Dios</td><td>Universidad Nacional Amazónica de Madre de Dios</td></tr><tr><td>630665b8594e18004af05b95</td><td>Universidad Autónoma Del Perú</td><td>Universidad Autónoma del Perú S.A.C.</td></tr><tr><td>630665b8594e18004af05bc3</td><td>Universidad Privada Del Norte</td><td>Universidad Privada del Norte S.A.C.</td></tr><tr><td>630665b8594e18004af05bcd</td><td>Universidad Andina Del Cusco</td><td>Universidad Andina del Cusco</td></tr><tr><td>630665b8594e18004af05bd8</td><td>Universidad Privada Del Norte</td><td>Universidad Privada del Norte S.A.C.</td></tr><tr><td>630665b8594e18004af05bde</td><td>Universidad Tecnológica Del Perú</td><td>Universidad Tecnológica del Perú S.A.C.</td></tr><tr><td>630665b8594e18004af05be8</td><td>Usmp</td><td>Universidad de San Martín de Porres</td></tr><tr><td>630665b8594e18004af05c04</td><td>Universidad Privada Del Norte</td><td>Universidad Privada del Norte S.A.C.</td></tr><tr><td>630665b8594e18004af05c12</td><td>Universidad Privada Del Norte</td><td>Universidad Privada del Norte S.A.C.</td></tr><tr><td>630665b8594e18004af05c2e</td><td>Universidad Jaime Bausate Y Meza</td><td>Universidad Jaime Bausate y Meza</td></tr><tr><td>630665b8594e18004af05c3a</td><td>Universidad Privada Del Norte - Unp</td><td>Universidad Privada del Norte S.A.C.</td></tr><tr><td>630665b8594e18004af05c6c</td><td>Universidad Peruana De Ciencias Aplicadas</td><td>Universidad Peruana de Ciencias Aplicadas S.A.C.</td></tr><tr><td>630665b8594e18004af05c7a</td><td>Universidad Privada Del Norte</td><td>Universidad Privada del Norte S.A.C.</td></tr><tr><td>630665b8594e18004af05c82</td><td>Universidad Autonoma De Ica</td><td>Universidad Autónoma de Ica S.A.C.</td></tr><tr><td>630665b8594e18004af05cac</td><td>Universidad Cesar Vallejo</td><td>Universidad César Vallejo S.A.C.</td></tr><tr><td>630665b8594e18004af05cbc</td><td>Universidad Católica De Santa Maria</td><td>Universidad Católica de Santa María</td></tr><tr><td>630665b8594e18004af05cc4</td><td>Pucp</td><td>Pontificia Universidad Católica del Perú</td></tr><tr><td>630665b8594e18004af05ccb</td><td>Universidad Nacional Agraria De La Selva</td><td>Universidad Nacional Agraria de la Selva</td></tr><tr><td>630665b8594e18004af05cdf</td><td>Universidad Privada San Juan Bautista</td><td>Universidad Privada San Juan Bautista S.A.C.</td></tr><tr><td>630665b8594e18004af05ce5</td><td>Universidad San Martin De Porres</td><td>Universidad de San Martín de Porres</td></tr><tr><td>630665b8594e18004af05cf1</td><td>Universidad Cesar Vallejo - Ucv</td><td>Universidad César Vallejo S.A.C.</td></tr><tr><td>630665b8594e18004af05d04</td><td>Universidad San Martín De Porres</td><td>Universidad de San Martín de Porres</td></tr><tr><td>630665b8594e18004af05d0b</td><td>Universidad Peruana Los Andes</td><td>Universidad Peruana Los Andes</td></tr><tr><td>630665b8594e18004af05d33</td><td>Universidad San Ignacio De Loyola</td><td>Universidad San Ignacio de Loyola S.R.L.</td></tr><tr><td>630665b8594e18004af05d47</td><td>Universidad De San Martin De Porres</td><td>Universidad de San Martín de Porres</td></tr><tr><td>630665b8594e18004af05d54</td><td>Universidad Peruana De Ciencias Aplicadas</td><td>Universidad Peruana de Ciencias Aplicadas S.A.C.</td></tr><tr><td>630665b8594e18004af05d60</td><td>Universidad Nacional Federico Villarreal</td><td>Universidad Nacional Federico Villarreal</td></tr><tr><td>630665b8594e18004af05dc1</td><td>Universidad Privada Del Norte</td><td>Universidad Privada del Norte S.A.C.</td></tr><tr><td>630665b8594e18004af05dd8</td><td>Universidad Tecnológica Del Perú</td><td>Universidad Tecnológica del Perú S.A.C.</td></tr><tr><td>630665b8594e18004af05ddf</td><td>San Luis Gonzaga De Ica</td><td>Universidad Nacional San Luis Gonzaga de Ica</td></tr><tr><td>630665b8594e18004af05dee</td><td>Universidad Nacional Mayor De San Marcos</td><td>Universidad Nacional Mayor de San Marcos</td></tr><tr><td>630665b8594e18004af05e00</td><td>Universidad Tecnologica Del Peru</td><td>Universidad Tecnológica del Perú S.A.C.</td></tr><tr><td>630665b8594e18004af05e55</td><td>Universidad Catolica San Pablo</td><td>Universidad Católica San Pablo</td></tr><tr><td>630665b8594e18004af05e5f</td><td>Pontificia Universidad Católica Del Perú</td><td>Pontificia Universidad Católica del Perú</td></tr><tr><td>630665b8594e18004af05e66</td><td>Universidad Privada San Juan Bautista</td><td>Universidad Privada San Juan Bautista S.A.C.</td></tr><tr><td>630665b8594e18004af05e76</td><td>Universidad Peruana De Ciencias Aplicada</td><td>Universidad Peruana de Ciencias Aplicadas S.A.C.</td></tr><tr><td>630665b8594e18004af05e97</td><td>Universidad Cesar Vallejo</td><td>Universidad César Vallejo S.A.C.</td></tr><tr><td>630665b8594e18004af05ea0</td><td>Universidad Privada Del Norte</td><td>Universidad Privada del Norte S.A.C.</td></tr><tr><td>630665b8594e18004af05eb9</td><td>Instituto San Ignacio De Loyola</td><td>Universidad San Ignacio de Loyola S.R.L.</td></tr><tr><td>630665b8594e18004af05ec3</td><td>Universidad Esan</td><td>Universidad ESAN</td></tr><tr><td>630665b8594e18004af05ed8</td><td>José Faustino Sánchez Carrión</td><td>Universidad Nacional José Faustino Sánchez Carrión</td></tr><tr><td>630665b8594e18004af05ee3</td><td>Universidad Cesar Vallejo - Ucv</td><td>Universidad César Vallejo S.A.C.</td></tr><tr><td>630665b8594e18004af05f00</td><td>Universidad Cesar Vallejo - Ucv</td><td>Universidad César Vallejo S.A.C.</td></tr><tr><td>630665b8594e18004af05f00</td><td>Universidad Cesar Vallejo - Ucv</td><td>Universidad César Vallejo S.A.C.</td></tr><tr><td>630665b8594e18004af05f1e</td><td>Universidad Privada Del Norte - Upn</td><td>Universidad Privada del Norte S.A.C.</td></tr><tr><td>630665b8594e18004af05f32</td><td>Universidad Tecnológica Del Perú</td><td>Universidad Tecnológica del Perú S.A.C.</td></tr><tr><td>630665b8594e18004af05f3a</td><td>Universidad Privada Del Norte</td><td>Universidad Privada del Norte S.A.C.</td></tr><tr><td>630665b8594e18004af05f3a</td><td>Universidad Peruana De Ciencias Aplicadas</td><td>Universidad Peruana de Ciencias Aplicadas S.A.C.</td></tr><tr><td>630665b8594e18004af05f44</td><td>Universidad Peruana De Ciencias Aplicadas</td><td>Universidad Peruana de Ciencias Aplicadas S.A.C.</td></tr><tr><td>630665b8594e18004af05f54</td><td>Universidad Nacional Mayor De San Marcos</td><td>Universidad Nacional Mayor de San Marcos</td></tr><tr><td>630665b8594e18004af05fbb</td><td>Universidad De San Martin De Porres - Usmp</td><td>Universidad de San Martín de Porres</td></tr><tr><td>630665b8594e18004af05fda</td><td>Universidad Nacional Enrique Guzmán Y Valle</td><td>Universidad Nacional de Educación Enrique Guzmán y Valle</td></tr><tr><td>630665b8594e18004af05fe2</td><td>Universidad Privada Del Norte</td><td>Universidad Privada del Norte S.A.C.</td></tr><tr><td>630665b8594e18004af06000</td><td>Universidad Privada Del Norte</td><td>Universidad Privada del Norte S.A.C.</td></tr><tr><td>630665b8594e18004af06008</td><td>Universidad Peruana De Ciencias Aplicadas</td><td>Universidad Peruana de Ciencias Aplicadas S.A.C.</td></tr><tr><td>630665b8594e18004af06017</td><td>Universidad Privada Del Norte</td><td>Universidad Privada del Norte S.A.C.</td></tr><tr><td>630665b8594e18004af0601d</td><td>Universidas Cesar Vallejo</td><td>Universidad César Vallejo S.A.C.</td></tr><tr><td>630665b8594e18004af0602b</td><td>Universidad Privada Del Norte</td><td>Universidad Privada del Norte S.A.C.</td></tr><tr><td>630665b8594e18004af06031</td><td>Universidad Peruana De Ciencias Aplicadas</td><td>Universidad Peruana de Ciencias Aplicadas S.A.C.</td></tr><tr><td>630665b8594e18004af06039</td><td>Universidad Tecnológica Del Perú</td><td>Universidad Tecnológica del Perú S.A.C.</td></tr><tr><td>630665b8594e18004af06043</td><td>Universidad Privada Del Norte</td><td>Universidad Privada del Norte S.A.C.</td></tr><tr><td>630665b8594e18004af0604a</td><td>Universidad Tecnológica Del Perú</td><td>Universidad Tecnológica del Perú S.A.C.</td></tr><tr><td>630665b8594e18004af06054</td><td>Instituto San Ignacio De Loyola</td><td>Universidad San Ignacio de Loyola S.R.L.</td></tr><tr><td>630665b8594e18004af0605c</td><td>Univesidad Privada Del Norte</td><td>Universidad Privada del Norte S.A.C.</td></tr><tr><td>630665b8594e18004af06066</td><td>Instituto San Ignacio De Loyola - Isil</td><td>Universidad San Ignacio de Loyola S.R.L.</td></tr><tr><td>630665b8594e18004af06066</td><td>Universidad Nacional Federico Villarreal - Unfv</td><td>Universidad Nacional Federico Villarreal</td></tr><tr><td>630665b8594e18004af0608e</td><td>Universidad Tecnológica Del Perú</td><td>Universidad Tecnológica del Perú S.A.C.</td></tr><tr><td>630665b8594e18004af06096</td><td>Universidad Nacional De San Martín</td><td>Universidad Nacional de San Martín</td></tr><tr><td>630665b8594e18004af060c4</td><td>Universidad Científica Del Sur</td><td>Universidad Científica del Sur S.A.C.</td></tr><tr><td>630665b8594e18004af060d9</td><td>Universidad Nacional San Luis Gonzaga De Ica</td><td>Universidad Nacional San Luis Gonzaga de Ica</td></tr><tr><td>630665b8594e18004af060e3</td><td>Universidad Nacional De Educación Enrique Guzmán Y Valle - La Cantuta</td><td>Universidad Nacional de Educación Enrique Guzmán y Valle</td></tr><tr><td>630665b8594e18004af06112</td><td>Universidad Ricardo Palma</td><td>Universidad Ricardo Palma</td></tr><tr><td>630665b8594e18004af06127</td><td>Universidad Privada Del Norte</td><td>Universidad Privada del Norte S.A.C.</td></tr><tr><td>630665b8594e18004af0612e</td><td>Universidad Nacional Del Callao</td><td>Universidad Nacional del Callao</td></tr><tr><td>630665b8594e18004af0614d</td><td>San Ignacio De Loyola</td><td>Universidad San Ignacio de Loyola S.R.L.</td></tr><tr><td>630665b8594e18004af0615e</td><td>Universidad Nacional Federico Villarreal</td><td>Universidad Nacional Federico Villarreal</td></tr><tr><td>630665b8594e18004af06169</td><td>Universidad Continental</td><td>Universidad Continental S.A.C.</td></tr><tr><td>630665b8594e18004af06175</td><td>Universidad Cesar Vallejo</td><td>Universidad César Vallejo S.A.C.</td></tr><tr><td>630665b8594e18004af0617c</td><td>Universidad De Lima</td><td>Universidad de Lima</td></tr><tr><td>630665b8594e18004af06185</td><td>Universidad Nacional Mayor De San Marcos</td><td>Universidad Nacional Mayor de San Marcos</td></tr><tr><td>630665b8594e18004af0618c</td><td>Universidad Autónoma Del Perú</td><td>Universidad Autónoma del Perú S.A.C.</td></tr><tr><td>630665b8594e18004af061a7</td><td>Utp</td><td>Universidad Tecnológica del Perú S.A.C.</td></tr><tr><td>630665b8594e18004af061c3</td><td>Universidad Privada Del Norte</td><td>Universidad Privada del Norte S.A.C.</td></tr><tr><td>630665b8594e18004af061cc</td><td>I.e.p Maria Auxiliadora</td><td>Universidad María Auxiliadora S.A.C.</td></tr><tr><td>630665b8594e18004af061d3</td><td>Universidad Peruana De Ciencias Aplicadas - Upc</td><td>Universidad Peruana de Ciencias Aplicadas S.A.C.</td></tr><tr><td>630665b8594e18004af061e3</td><td>Universidad Cesar Vallejo</td><td>Universidad César Vallejo S.A.C.</td></tr><tr><td>630665b8594e18004af061eb</td><td>Instituto San Ignacio De Loyola</td><td>Universidad San Ignacio de Loyola S.R.L.</td></tr><tr><td>630665b8594e18004af0620d</td><td>Universidad Privada Norbert Wiener</td><td>Universidad Privada Norbert Wiener S.A.</td></tr><tr><td>630665b8594e18004af0621a</td><td>Universidad Nacional Del Callao</td><td>Universidad Nacional del Callao</td></tr><tr><td>630665b8594e18004af06221</td><td>Utec</td><td>Universidad de Ingeniería y Tecnología</td></tr><tr><td>630665b8594e18004af06233</td><td>Universidad Tecnológica Del Perú</td><td>Universidad Tecnológica del Perú S.A.C.</td></tr><tr><td>630665b8594e18004af0623b</td><td>Unfv</td><td>Universidad Nacional Federico Villarreal</td></tr><tr><td>630665b8594e18004af0624a</td><td>Universidad Privada Del Norte - Unp</td><td>Universidad Privada del Norte S.A.C.</td></tr><tr><td>630665b8594e18004af06266</td><td>Universidad Tecnológica Del Perú</td><td>Universidad Tecnológica del Perú S.A.C.</td></tr><tr><td>630665b8594e18004af0627e</td><td>Universidad Peruana De Ciencias Aplicadas</td><td>Universidad Peruana de Ciencias Aplicadas S.A.C.</td></tr><tr><td>630665b8594e18004af06285</td><td>Instituto San Ignacio De Loyola</td><td>Universidad San Ignacio de Loyola S.R.L.</td></tr><tr><td>630665b8594e18004af0628c</td><td>Universidad Privada Del Norte</td><td>Universidad Privada del Norte S.A.C.</td></tr><tr><td>630665b8594e18004af0629c</td><td>Universidad Tecnológica Del Perú</td><td>Universidad Tecnológica del Perú S.A.C.</td></tr><tr><td>630665b8594e18004af062b0</td><td>Universidad De Piura</td><td>Universidad de Piura</td></tr><tr><td>630665b8594e18004af062b6</td><td>Universidad Tecnologica Del Peru</td><td>Universidad Tecnológica del Perú S.A.C.</td></tr><tr><td>630665b8594e18004af062bf</td><td>Universidad Nacional De Piura</td><td>Universidad Nacional de Piura</td></tr><tr><td>630665b8594e18004af062c6</td><td>Universidad Tecnológica Del Perú</td><td>Universidad Tecnológica del Perú S.A.C.</td></tr><tr><td>630665b8594e18004af062df</td><td>Upc</td><td>Universidad Peruana de Ciencias Aplicadas S.A.C.</td></tr><tr><td>630665b8594e18004af062fd</td><td>Universidad Nacional Mayor De San Marcos</td><td>Universidad Nacional Mayor de San Marcos</td></tr><tr><td>630665b8594e18004af06304</td><td>Universidad Continental</td><td>Universidad Continental S.A.C.</td></tr><tr><td>630665b8594e18004af06313</td><td>Universidad De San Martin De Porres</td><td>Universidad de San Martín de Porres</td></tr><tr><td>630665b8594e18004af06339</td><td>Universidad César Vallejo</td><td>Universidad César Vallejo S.A.C.</td></tr><tr><td>630665b8594e18004af06347</td><td>Universidad Privada Del Norte</td><td>Universidad Privada del Norte S.A.C.</td></tr><tr><td>630665b8594e18004af0634d</td><td>Universidad Nacional De Piura</td><td>Universidad Nacional de Piura</td></tr><tr><td>630665b8594e18004af0635c</td><td>Universidad Peruana De Ciencias Aplicadas</td><td>Universidad Peruana de Ciencias Aplicadas S.A.C.</td></tr><tr><td>630665b8594e18004af0635c</td><td>Universidad Privada Del Norte</td><td>Universidad Privada del Norte S.A.C.</td></tr><tr><td>630665b8594e18004af06383</td><td>Universidad Privada Del Norte</td><td>Universidad Privada del Norte S.A.C.</td></tr><tr><td>630665b8594e18004af063c1</td><td>Universidad Tecnológica Del Perú</td><td>Universidad Tecnológica del Perú S.A.C.</td></tr><tr><td>630665b8594e18004af063cb</td><td>Upc</td><td>Universidad Peruana de Ciencias Aplicadas S.A.C.</td></tr><tr><td>630665b8594e18004af063f4</td><td>Utp</td><td>Universidad Tecnológica del Perú S.A.C.</td></tr><tr><td>630665b8594e18004af06408</td><td>Universidad Nacional Del Altiplano</td><td>Universidad Nacional del Altiplano</td></tr><tr><td>630665b8594e18004af06408</td><td>Universidad Nacional Del Altiplano</td><td>Universidad Nacional del Altiplano</td></tr><tr><td>630665b8594e18004af06423</td><td>Universidad Cesar Vallejo</td><td>Universidad César Vallejo S.A.C.</td></tr><tr><td>630665b8594e18004af06434</td><td>Universidad De Lima</td><td>Universidad de Lima</td></tr><tr><td>630665b8594e18004af0643d</td><td>Instituto San Ignacio De Loyola</td><td>Universidad San Ignacio de Loyola S.R.L.</td></tr><tr><td>630665b8594e18004af06470</td><td>Universidad Cesar Vallejo</td><td>Universidad César Vallejo S.A.C.</td></tr><tr><td>630665b8594e18004af06478</td><td>Universidad Tecnológica Del Perú</td><td>Universidad Tecnológica del Perú S.A.C.</td></tr><tr><td>630665b8594e18004af06492</td><td>Universidad De Lima</td><td>Universidad de Lima</td></tr><tr><td>630665b8594e18004af064af</td><td>Universidad Cesar Vallejo</td><td>Universidad César Vallejo S.A.C.</td></tr><tr><td>630665b8594e18004af064be</td><td>Universidad Privada Del Norte</td><td>Universidad Privada del Norte S.A.C.</td></tr><tr><td>630665b8594e18004af064cd</td><td>Universidad Nacional Mayor De San Marcos - Unmsm</td><td>Universidad Nacional Mayor de San Marcos</td></tr><tr><td>630665b8594e18004af064d7</td><td>Universidad Tecnológica Del Perú</td><td>Universidad Tecnológica del Perú S.A.C.</td></tr><tr><td>630665b8594e18004af064f4</td><td>Universidad De Lima</td><td>Universidad de Lima</td></tr><tr><td>630665b8594e18004af06512</td><td>Universidad Esan</td><td>Universidad ESAN</td></tr><tr><td>630665b89fa239004bddbf97</td><td>Universidad Peruana De Ciencias Aplicadas</td><td>Universidad Peruana de Ciencias Aplicadas S.A.C.</td></tr><tr><td>630665b89fa239004bddbfd5</td><td>Universidad Cesar Vallejo - Ucv</td><td>Universidad César Vallejo S.A.C.</td></tr><tr><td>630665b89fa239004bddbfee</td><td>Universidad Privada Del Norte</td><td>Universidad Privada del Norte S.A.C.</td></tr><tr><td>630665b89fa239004bddbff7</td><td>Universidad Nacional Tecnológica De Lima Sur</td><td>Universidad Nacional Tecnológica de Lima Sur</td></tr><tr><td>630665b89fa239004bddc017</td><td>Universidad De San Martin De Porres</td><td>Universidad de San Martín de Porres</td></tr><tr><td>630665b89fa239004bddc01f</td><td>Universidad Nacional De Piura</td><td>Universidad Nacional de Piura</td></tr><tr><td>630665b89fa239004bddc02e</td><td>Universidad Tecnológica Del Perú</td><td>Universidad Tecnológica del Perú S.A.C.</td></tr><tr><td>630665b89fa239004bddc038</td><td>Universidad Nacional Del Santa</td><td>Universidad Nacional del Santa</td></tr><tr><td>630665b89fa239004bddc058</td><td>Universidad Tecnológica Del Perú</td><td>Universidad Tecnológica del Perú S.A.C.</td></tr><tr><td>630665b89fa239004bddc062</td><td>Universidad Andina Del Cusco</td><td>Universidad Andina del Cusco</td></tr><tr><td>630665b89fa239004bddc0b3</td><td>Upc</td><td>Universidad Peruana de Ciencias Aplicadas S.A.C.</td></tr><tr><td>630665b89fa239004bddc0be</td><td>Universidad Nacional Mayor De San Marcos</td><td>Universidad Nacional Mayor de San Marcos</td></tr><tr><td>630665b89fa239004bddc0c6</td><td>Universidad Privada Del Norte</td><td>Universidad Privada del Norte S.A.C.</td></tr><tr><td>630665b89fa239004bddc0cc</td><td>Universidad Tecnológica Del Perú - Utp</td><td>Universidad Tecnológica del Perú S.A.C.</td></tr><tr><td>630665b89fa239004bddc0db</td><td>Universidad Privada Del Norte</td><td>Universidad Privada del Norte S.A.C.</td></tr><tr><td>630665b89fa239004bddc0f4</td><td>Universidad Peruana  De Ciencias Aplicadas</td><td>Universidad Peruana de Ciencias Aplicadas S.A.C.</td></tr><tr><td>630665b89fa239004bddc102</td><td>Universidad Señor De Sipan</td><td>Universidad Señor de Sipán S.A.C.</td></tr><tr><td>630665b89fa239004bddc10d</td><td>Universidad Peruana De Ciencias Aplicadas</td><td>Universidad Peruana de Ciencias Aplicadas S.A.C.</td></tr><tr><td>630665b89fa239004bddc129</td><td>Universidad Tecnologica Del Peru</td><td>Universidad Tecnológica del Perú S.A.C.</td></tr><tr><td>630665b89fa239004bddc14b</td><td>Pontificia Universidad Católica Del Perú</td><td>Pontificia Universidad Católica del Perú</td></tr><tr><td>630665b89fa239004bddc151</td><td>Universidad Privada De Tacna</td><td>Universidad Privada de Tacna</td></tr><tr><td>630665b89fa239004bddc16e</td><td>Universidad Nacional De San Agustin De Arequipa</td><td>Universidad Nacional de San Agustín de Arequipa</td></tr><tr><td>630665b89fa239004bddc176</td><td>Universidad César Vallejo</td><td>Universidad César Vallejo S.A.C.</td></tr><tr><td>630665b89fa239004bddc190</td><td>Universidad San Martin De Porres</td><td>Universidad de San Martín de Porres</td></tr><tr><td>630665b89fa239004bddc1a4</td><td>Universidad Privada Del Norte - Unp</td><td>Universidad Privada del Norte S.A.C.</td></tr><tr><td>630665b89fa239004bddc1c7</td><td>Upc</td><td>Universidad Peruana de Ciencias Aplicadas S.A.C.</td></tr><tr><td>630665b89fa239004bddc1c7</td><td>Upn</td><td>Universidad Privada del Norte S.A.C.</td></tr><tr><td>630665b89fa239004bddc1d5</td><td>Universidad Privada Del Norte</td><td>Universidad Privada del Norte S.A.C.</td></tr><tr><td>630665b89fa239004bddc1e6</td><td>Universidad Continental</td><td>Universidad Continental S.A.C.</td></tr><tr><td>630665b89fa239004bddc1f0</td><td>Universidad Tecnológica Del Perú</td><td>Universidad Tecnológica del Perú S.A.C.</td></tr><tr><td>630665b89fa239004bddc232</td><td>Universidad Privada Del Norte</td><td>Universidad Privada del Norte S.A.C.</td></tr><tr><td>630665b89fa239004bddc243</td><td>Universidad Peruana De Ciencias Aplicadas</td><td>Universidad Peruana de Ciencias Aplicadas S.A.C.</td></tr><tr><td>630665b89fa239004bddc27a</td><td>Universidad Nacional Del Callao</td><td>Universidad Nacional del Callao</td></tr><tr><td>630665b89fa239004bddc285</td><td>Universidad Tecnológica Del Perú - Utp</td><td>Universidad Tecnológica del Perú S.A.C.</td></tr><tr><td>630665b89fa239004bddc2b1</td><td>Universidad Cesar Vallejo Trujillo</td><td>Universidad César Vallejo S.A.C.</td></tr><tr><td>630665b89fa239004bddc2b9</td><td>Universidad Privada Del Norte - Unp</td><td>Universidad Privada del Norte S.A.C.</td></tr><tr><td>630665b89fa239004bddc2cd</td><td>Universidad Nacional Agraria De La Selva</td><td>Universidad Nacional Agraria de la Selva</td></tr><tr><td>630665b89fa239004bddc2cd</td><td>I.e. Ricardo Palma Soriano N°32483</td><td>Universidad Ricardo Palma</td></tr><tr><td>630665b89fa239004bddc2da</td><td>Universidad Privada Del Norte</td><td>Universidad Privada del Norte S.A.C.</td></tr><tr><td>630665b89fa239004bddc2e9</td><td>Universidad Nacional Mayor De San Marcos</td><td>Universidad Nacional Mayor de San Marcos</td></tr><tr><td>630665b89fa239004bddc2f9</td><td>Universidad Peruana De Ciencias Aplicadas</td><td>Universidad Peruana de Ciencias Aplicadas S.A.C.</td></tr><tr><td>630665b89fa239004bddc30f</td><td>Universidad Privada Antenor Orrego</td><td>Universidad Privada Antenor Orrego</td></tr><tr><td>630665b89fa239004bddc31b</td><td>Pontificia Universidad Católica Del Perú</td><td>Pontificia Universidad Católica del Perú</td></tr><tr><td>630665b89fa239004bddc325</td><td>Universidad Privada Del Norte</td><td>Universidad Privada del Norte S.A.C.</td></tr><tr><td>630665b89fa239004bddc335</td><td>Universidad Continental</td><td>Universidad Continental S.A.C.</td></tr><tr><td>630665b89fa239004bddc354</td><td>Universidad César Vallejo</td><td>Universidad César Vallejo S.A.C.</td></tr><tr><td>630665b89fa239004bddc385</td><td>Universidad Peruana De Ciencias Aplicadas (upc)</td><td>Universidad Peruana de Ciencias Aplicadas S.A.C.</td></tr><tr><td>630665b89fa239004bddc38c</td><td>Universidad Científica Del Sur</td><td>Universidad Científica del Sur S.A.C.</td></tr><tr><td>630665b89fa239004bddc3ae</td><td>Universidad San Ignacio De Loyola</td><td>Universidad San Ignacio de Loyola S.R.L.</td></tr><tr><td>630665b89fa239004bddc3be</td><td>Universidad De Ciencias Aplicadas</td><td>Universidad Peruana de Ciencias Aplicadas S.A.C.</td></tr><tr><td>630665b89fa239004bddc402</td><td>Upc</td><td>Universidad Peruana de Ciencias Aplicadas S.A.C.</td></tr><tr><td>630665b89fa239004bddc411</td><td>Universidad Cesar Vallejo</td><td>Universidad César Vallejo S.A.C.</td></tr><tr><td>630665b89fa239004bddc437</td><td>Universidad De Lima</td><td>Universidad de Lima</td></tr><tr><td>630665b89fa239004bddc442</td><td>Universidad Peruana Unión - Upeu</td><td>Universidad Peruana Unión</td></tr><tr><td>630665b89fa239004bddc449</td><td>Universidad San Ignacio De Loyola - Usil</td><td>Universidad San Ignacio de Loyola S.R.L.</td></tr><tr><td>630665b89fa239004bddc458</td><td>Universidad Peruana Los Andes (upla)</td><td>Universidad Peruana Los Andes</td></tr><tr><td>630665b89fa239004bddc460</td><td>Universidad Nacional Mayor De San Marcos</td><td>Universidad Nacional Mayor de San Marcos</td></tr><tr><td>630665b89fa239004bddc46e</td><td>Universidad Nacional De San Agustín De Arequipa</td><td>Universidad Nacional de San Agustín de Arequipa</td></tr><tr><td>630665b89fa239004bddc48c</td><td>Universidad Privada Del Norte</td><td>Universidad Privada del Norte S.A.C.</td></tr><tr><td>630665b89fa239004bddc4a2</td><td>Universidad Cesar Vallejo</td><td>Universidad César Vallejo S.A.C.</td></tr><tr><td>630665b89fa239004bddc4ad</td><td>Universidad Privada Del Norte</td><td>Universidad Privada del Norte S.A.C.</td></tr><tr><td>630665b89fa239004bddc4bd</td><td>Universidad Privada Del Norte</td><td>Universidad Privada del Norte S.A.C.</td></tr><tr><td>630665b89fa239004bddc4c5</td><td>Universidad De Huánuco - Udh</td><td>Universidad de Huánuco</td></tr><tr><td>630665b89fa239004bddc4dc</td><td>Instituto San Ignacio De Loyola</td><td>Universidad San Ignacio de Loyola S.R.L.</td></tr><tr><td>630665b89fa239004bddc4e3</td><td>Universidad Nacional Federico Villarreal</td><td>Universidad Nacional Federico Villarreal</td></tr><tr><td>630665b89fa239004bddc4ec</td><td>Universidad Privada Del Norte</td><td>Universidad Privada del Norte S.A.C.</td></tr><tr><td>630665b89fa239004bddc509</td><td>Universidad Cesar Vallejo</td><td>Universidad César Vallejo S.A.C.</td></tr><tr><td>630665b89fa239004bddc522</td><td>Universidad Tecnológica Del Perú</td><td>Universidad Tecnológica del Perú S.A.C.</td></tr><tr><td>630665b89fa239004bddc52d</td><td>Universidad Tecnologica Del Peru</td><td>Universidad Tecnológica del Perú S.A.C.</td></tr><tr><td>630665b89fa239004bddc534</td><td>San Ignacio De Loyola</td><td>Universidad San Ignacio de Loyola S.R.L.</td></tr><tr><td>630665b89fa239004bddc542</td><td>Universidad Tecnológica Del Perú</td><td>Universidad Tecnológica del Perú S.A.C.</td></tr><tr><td>630665b89fa239004bddc54a</td><td>Universidad Cesar Vallejo - Ucv</td><td>Universidad César Vallejo S.A.C.</td></tr><tr><td>630665b89fa239004bddc588</td><td>Universidad Peruana De Ciencias Aplicadas</td><td>Universidad Peruana de Ciencias Aplicadas S.A.C.</td></tr><tr><td>630665b89fa239004bddc591</td><td>Universidad Enrique Guzmán Y Valle- La Cantuta</td><td>Universidad Nacional de Educación Enrique Guzmán y Valle</td></tr><tr><td>630665b89fa239004bddc598</td><td>Universidad Nacional Federico Villarreal</td><td>Universidad Nacional Federico Villarreal</td></tr><tr><td>630665b89fa239004bddc5a7</td><td>Universidad César Vallejo</td><td>Universidad César Vallejo S.A.C.</td></tr><tr><td>630665b89fa239004bddc5e0</td><td>Cesar Vallejo</td><td>Universidad César Vallejo S.A.C.</td></tr><tr><td>630665b89fa239004bddc607</td><td>Universidad San Ignacio De Loyola</td><td>Universidad San Ignacio de Loyola S.R.L.</td></tr><tr><td>630665b89fa239004bddc60e</td><td>Universidad De Piura</td><td>Universidad de Piura</td></tr><tr><td>630665b89fa239004bddc615</td><td>Universidad De San Martín De Porres</td><td>Universidad de San Martín de Porres</td></tr><tr><td>630665b89fa239004bddc61c</td><td>Universidad San Ignacio De Loyola</td><td>Universidad San Ignacio de Loyola S.R.L.</td></tr><tr><td>630665b89fa239004bddc625</td><td>Pontificia Universidad Católica Del Perú - Pucp</td><td>Pontificia Universidad Católica del Perú</td></tr><tr><td>630665b89fa239004bddc62d</td><td>Universidad Tecnológica Del Perú</td><td>Universidad Tecnológica del Perú S.A.C.</td></tr><tr><td>630665b89fa239004bddc65c</td><td>Universidad De San Martin De Porres</td><td>Universidad de San Martín de Porres</td></tr><tr><td>630665b89fa239004bddc672</td><td>Universidad Privada Del Norte</td><td>Universidad Privada del Norte S.A.C.</td></tr><tr><td>630665b89fa239004bddc67c</td><td>Universidad Nacional Mayor De San Marcos</td><td>Universidad Nacional Mayor de San Marcos</td></tr><tr><td>630665b89fa239004bddc699</td><td>Universidad Nacional De Ucayali</td><td>Universidad Nacional de Ucayali</td></tr><tr><td>630665b89fa239004bddc6a9</td><td>Universidad Nacional Tecnológica De Lima Sur</td><td>Universidad Nacional Tecnológica de Lima Sur</td></tr><tr><td>630665b89fa239004bddc6b1</td><td>Universidad Cesar Vallejo</td><td>Universidad César Vallejo S.A.C.</td></tr><tr><td>630665b89fa239004bddc6bb</td><td>Upn</td><td>Universidad Privada del Norte S.A.C.</td></tr><tr><td>630665b89fa239004bddc6d3</td><td>Universidad Ricardo Palma</td><td>Universidad Ricardo Palma</td></tr><tr><td>630665b89fa239004bddc6db</td><td>Universidad Privada Del Norte</td><td>Universidad Privada del Norte S.A.C.</td></tr><tr><td>630665b89fa239004bddc6ec</td><td>Universidad De San Martin De Porres - Usmp</td><td>Universidad de San Martín de Porres</td></tr><tr><td>630665b89fa239004bddc6fc</td><td>Universidad Privada Del Norte - Unp</td><td>Universidad Privada del Norte S.A.C.</td></tr><tr><td>630665b89fa239004bddc714</td><td>Universidad César Vallejo</td><td>Universidad César Vallejo S.A.C.</td></tr><tr><td>630665b89fa239004bddc723</td><td>Universidad Privada Del Norte</td><td>Universidad Privada del Norte S.A.C.</td></tr><tr><td>630665b89fa239004bddc731</td><td>Universidad De San Martin De Porres</td><td>Universidad de San Martín de Porres</td></tr><tr><td>630665b89fa239004bddc740</td><td>Universidad Cesar Vallejo</td><td>Universidad César Vallejo S.A.C.</td></tr><tr><td>630665b89fa239004bddc752</td><td>Universidad Privada Del Norte</td><td>Universidad Privada del Norte S.A.C.</td></tr><tr><td>630665b89fa239004bddc769</td><td>Universidad Privada Del Norte</td><td>Universidad Privada del Norte S.A.C.</td></tr><tr><td>630665b89fa239004bddc776</td><td>Universidad Privada Del Norte</td><td>Universidad Privada del Norte S.A.C.</td></tr><tr><td>630665b89fa239004bddc776</td><td>Universidad De Piura</td><td>Universidad de Piura</td></tr><tr><td>630665b89fa239004bddc786</td><td>Usil - San Ignacio De Loyola</td><td>Universidad San Ignacio de Loyola S.R.L.</td></tr><tr><td>630665b89fa239004bddc7dc</td><td>Universidad Privada Del Norte</td><td>Universidad Privada del Norte S.A.C.</td></tr><tr><td>630665b89fa239004bddc808</td><td>Universidad Tecnológica Del Perú</td><td>Universidad Tecnológica del Perú S.A.C.</td></tr><tr><td>630665b89fa239004bddc812</td><td>Pucp</td><td>Pontificia Universidad Católica del Perú</td></tr><tr><td>630665b89fa239004bddc812</td><td>Pucp</td><td>Pontificia Universidad Católica del Perú</td></tr><tr><td>630665b89fa239004bddc835</td><td>Universidad Tecnológica Del Perú</td><td>Universidad Tecnológica del Perú S.A.C.</td></tr><tr><td>630665b89fa239004bddc85e</td><td>Universidad Privada Del Norte</td><td>Universidad Privada del Norte S.A.C.</td></tr><tr><td>630665b89fa239004bddc872</td><td>Universidad Privada San Juan  Bautista</td><td>Universidad Privada San Juan Bautista S.A.C.</td></tr><tr><td>630665b89fa239004bddc87f</td><td>Universidad Nacional Mayor De San Marcos</td><td>Universidad Nacional Mayor de San Marcos</td></tr><tr><td>630665b89fa239004bddc893</td><td>Universidad César Vallejo</td><td>Universidad César Vallejo S.A.C.</td></tr><tr><td>630665b89fa239004bddc89c</td><td>Universidad Privada Del Norte</td><td>Universidad Privada del Norte S.A.C.</td></tr><tr><td>630665b89fa239004bddc8a3</td><td>Upn</td><td>Universidad Privada del Norte S.A.C.</td></tr><tr><td>630665b89fa239004bddc8c9</td><td>Universidad Tecnológica Del Perú</td><td>Universidad Tecnológica del Perú S.A.C.</td></tr><tr><td>630665b89fa239004bddc8db</td><td>Utp</td><td>Universidad Tecnológica del Perú S.A.C.</td></tr><tr><td>630665b89fa239004bddc8e3</td><td>Universidad Cesar Vallejo</td><td>Universidad César Vallejo S.A.C.</td></tr><tr><td>630665b89fa239004bddc8e9</td><td>Universidad Católica De Santa Maria</td><td>Universidad Católica de Santa María</td></tr><tr><td>630665b89fa239004bddc917</td><td>Universidad Privada Del Norte</td><td>Universidad Privada del Norte S.A.C.</td></tr><tr><td>630665b89fa239004bddc930</td><td>Universidad Peruana De Ciencias Aplicadas</td><td>Universidad Peruana de Ciencias Aplicadas S.A.C.</td></tr><tr><td>630665b89fa239004bddc937</td><td>Universidad Privada Del Norte</td><td>Universidad Privada del Norte S.A.C.</td></tr><tr><td>630665b89fa239004bddc93f</td><td>Universidad Católica Tecnologica Del Peru</td><td>Universidad Tecnológica del Perú S.A.C.</td></tr><tr><td>630665b89fa239004bddc94d</td><td>Universidad Privada Del Norte</td><td>Universidad Privada del Norte S.A.C.</td></tr><tr><td>630665b89fa239004bddc95f</td><td>Universidad Cesar Vallejo</td><td>Universidad César Vallejo S.A.C.</td></tr><tr><td>630665b89fa239004bddc977</td><td>Universidad Nacional Del Callao - Unac</td><td>Universidad Nacional del Callao</td></tr><tr><td>630665b89fa239004bddc983</td><td>Universidad Peruana De Ciencias Aplicadas</td><td>Universidad Peruana de Ciencias Aplicadas S.A.C.</td></tr><tr><td>630665b89fa239004bddc993</td><td>Universidad San Ignacio De Loyola</td><td>Universidad San Ignacio de Loyola S.R.L.</td></tr><tr><td>630665b89fa239004bddc9a7</td><td>Instituto San Ignacio De Loyola</td><td>Universidad San Ignacio de Loyola S.R.L.</td></tr><tr><td>630665b89fa239004bddc9d2</td><td>Universidad Privada Del Norte</td><td>Universidad Privada del Norte S.A.C.</td></tr><tr><td>630665b89fa239004bddc9e6</td><td>Universidad Nacional Mayor De San Marcos</td><td>Universidad Nacional Mayor de San Marcos</td></tr><tr><td>630665b89fa239004bddc9f2</td><td>Universidad Privada Del Norte</td><td>Universidad Privada del Norte S.A.C.</td></tr><tr><td>630665b89fa239004bddca0e</td><td>Universidad Nacional Del Callao</td><td>Universidad Nacional del Callao</td></tr><tr><td>630665b89fa239004bddca3a</td><td>Universidad Católica De Santa María</td><td>Universidad Católica de Santa María</td></tr><tr><td>630665b89fa239004bddca42</td><td>Instituto San Ignacio De Loyola - Isil</td><td>Universidad San Ignacio de Loyola S.R.L.</td></tr><tr><td>630665b89fa239004bddca42</td><td>Universidad San Ignacio De Loyola - Usil</td><td>Universidad San Ignacio de Loyola S.R.L.</td></tr><tr><td>630665b89fa239004bddca55</td><td>Universidad Privada Del Norte</td><td>Universidad Privada del Norte S.A.C.</td></tr><tr><td>630665b89fa239004bddca75</td><td>Universidad De San Martin De Porres - Usmp</td><td>Universidad de San Martín de Porres</td></tr><tr><td>630665b89fa239004bddca94</td><td>Universidad Nacional Del Callao</td><td>Universidad Nacional del Callao</td></tr><tr><td>630665b89fa239004bddcac8</td><td>Universidad Nacional Federico Villarreal</td><td>Universidad Nacional Federico Villarreal</td></tr><tr><td>630665b89fa239004bddcad0</td><td>Universidad Privada Del Norte - Unp</td><td>Universidad Privada del Norte S.A.C.</td></tr><tr><td>630665b89fa239004bddcae5</td><td>Universidad Cesar Vallejo</td><td>Universidad César Vallejo S.A.C.</td></tr><tr><td>630665b89fa239004bddcaec</td><td>Universidad Privada San Juan Bautista</td><td>Universidad Privada San Juan Bautista S.A.C.</td></tr><tr><td>630665b89fa239004bddcafb</td><td>Universidad Autónoma Del Perú - Ua</td><td>Universidad Autónoma del Perú S.A.C.</td></tr><tr><td>630665b89fa239004bddcb03</td><td>Upn</td><td>Universidad Privada del Norte S.A.C.</td></tr><tr><td>630665b89fa239004bddcb1b</td><td>San Ignacio  De Loyola</td><td>Universidad San Ignacio de Loyola S.R.L.</td></tr><tr><td>630665b89fa239004bddcb32</td><td>Universidad Cesar Vallejo</td><td>Universidad César Vallejo S.A.C.</td></tr><tr><td>630665b89fa239004bddcb5b</td><td>Upc</td><td>Universidad Peruana de Ciencias Aplicadas S.A.C.</td></tr><tr><td>630665b89fa239004bddcb7c</td><td>Universidad Cesar Vallejo</td><td>Universidad César Vallejo S.A.C.</td></tr><tr><td>630665b89fa239004bddcb8c</td><td>Universidad Privada Del Norte</td><td>Universidad Privada del Norte S.A.C.</td></tr><tr><td>630665b89fa239004bddcb9f</td><td>Upn</td><td>Universidad Privada del Norte S.A.C.</td></tr><tr><td>630665b89fa239004bddcba7</td><td>Universidad San Ignacio De Loyola</td><td>Universidad San Ignacio de Loyola S.R.L.</td></tr><tr><td>630665b89fa239004bddcbb6</td><td>Universidad Nacional De Educacion Enrique Guzman Y Valle Une</td><td>Universidad Nacional de Educación Enrique Guzmán y Valle</td></tr><tr><td>630665b89fa239004bddcbc1</td><td>Universidad Privada Del Norte</td><td>Universidad Privada del Norte S.A.C.</td></tr><tr><td>630665b89fa239004bddcbde</td><td>Universidad Ricardo Palma</td><td>Universidad Ricardo Palma</td></tr><tr><td>630665b89fa239004bddcc27</td><td>Universidad Privada Norbert Wiener</td><td>Universidad Privada Norbert Wiener S.A.</td></tr><tr><td>630665b89fa239004bddcc2e</td><td>Universidad Peruana De Ciencias Aplicadas - Upc</td><td>Universidad Peruana de Ciencias Aplicadas S.A.C.</td></tr><tr><td>630665b89fa239004bddcc63</td><td>Universidad César Vallejo</td><td>Universidad César Vallejo S.A.C.</td></tr><tr><td>630665b89fa239004bddcc6c</td><td>Instituto San Ignacio De Loyola</td><td>Universidad San Ignacio de Loyola S.R.L.</td></tr><tr><td>630665b89fa239004bddcc6c</td><td>Universidad San Martin De Porres</td><td>Universidad de San Martín de Porres</td></tr><tr><td>630665b89fa239004bddcc88</td><td>Universidad San Martín De Porres</td><td>Universidad de San Martín de Porres</td></tr><tr><td>630665b89fa239004bddcc92</td><td>Universidad Nacional De Cañete</td><td>Universidad Nacional de Cañete</td></tr><tr><td>630665b89fa239004bddcc9e</td><td>Universidad Cesar Vallejo</td><td>Universidad César Vallejo S.A.C.</td></tr><tr><td>630665b89fa239004bddcd1a</td><td>Universidad Privada Del Norte</td><td>Universidad Privada del Norte S.A.C.</td></tr><tr><td>630665b89fa239004bddcd3c</td><td>Universidad César Vallejo</td><td>Universidad César Vallejo S.A.C.</td></tr><tr><td>630665b89fa239004bddcd51</td><td>Universidad Andina Del Cusco</td><td>Universidad Andina del Cusco</td></tr><tr><td>630665b89fa239004bddcd77</td><td>Universidad Cesar Vallejo</td><td>Universidad César Vallejo S.A.C.</td></tr><tr><td>630665b89fa239004bddcd7e</td><td>Universidad Privada Del Norte</td><td>Universidad Privada del Norte S.A.C.</td></tr><tr><td>630665b89fa239004bddcd98</td><td>Universidad César Vallejo</td><td>Universidad César Vallejo S.A.C.</td></tr><tr><td>630665b89fa239004bddcda0</td><td>Universidad Nacional Del Altiplano</td><td>Universidad Nacional del Altiplano</td></tr><tr><td>630665b89fa239004bddcda0</td><td>Universidad Nacional Del Altiplano</td><td>Universidad Nacional del Altiplano</td></tr><tr><td>630665b89fa239004bddcdbe</td><td>Universidad Tecnológica Del Perú</td><td>Universidad Tecnológica del Perú S.A.C.</td></tr><tr><td>630665b89fa239004bddcdd0</td><td>Universidad Privada Del Norte - Upn</td><td>Universidad Privada del Norte S.A.C.</td></tr><tr><td>630665b89fa239004bddcdd8</td><td>Universidad Cesar Vallejo</td><td>Universidad César Vallejo S.A.C.</td></tr><tr><td>630665b89fa239004bddce0a</td><td>Universidad Nacional Micaela Bastidas De Apurimac</td><td>Universidad Nacional Micaela Bastidas de Apurímac</td></tr><tr><td>630665b89fa239004bddce10</td><td>Unfv</td><td>Universidad Nacional Federico Villarreal</td></tr><tr><td>630665b89fa239004bddce19</td><td>Universidad Privada Del Norte</td><td>Universidad Privada del Norte S.A.C.</td></tr><tr><td>630665b89fa239004bddce34</td><td>Universidad Privada Del Norte</td><td>Universidad Privada del Norte S.A.C.</td></tr><tr><td>630665b89fa239004bddce3d</td><td>Universidad Católica De Santa María</td><td>Universidad Católica de Santa María</td></tr><tr><td>630665b89fa239004bddce62</td><td>Universidad De Lima</td><td>Universidad de Lima</td></tr><tr><td>630665b89fa239004bddce71</td><td>Universidad Privada Del Norte</td><td>Universidad Privada del Norte S.A.C.</td></tr><tr><td>630665b89fa239004bddce82</td><td>Universidad Privada Del Norte</td><td>Universidad Privada del Norte S.A.C.</td></tr><tr><td>630665b89fa239004bddce8a</td><td>Universidad Cesar Vallejo</td><td>Universidad César Vallejo S.A.C.</td></tr><tr><td>630665b89fa239004bddceaa</td><td>Universidad Privada Del Norte - Upn</td><td>Universidad Privada del Norte S.A.C.</td></tr><tr><td>630665b89fa239004bddcec2</td><td>Universidad Cesar Vallejo</td><td>Universidad César Vallejo S.A.C.</td></tr><tr><td>630665b89fa239004bddceef</td><td>Universidad Privada Del Norte</td><td>Universidad Privada del Norte S.A.C.</td></tr><tr><td>630665b89fa239004bddcf00</td><td>Universidad Cesar Vallejo - Ucv</td><td>Universidad César Vallejo S.A.C.</td></tr><tr><td>630665b89fa239004bddcf16</td><td>Pucp</td><td>Pontificia Universidad Católica del Perú</td></tr><tr><td>630665b89fa239004bddcf32</td><td>Universidad Privada Del Norte</td><td>Universidad Privada del Norte S.A.C.</td></tr><tr><td>630665b89fa239004bddcf3a</td><td>Universidad Nacional Mayor De San Marcos</td><td>Universidad Nacional Mayor de San Marcos</td></tr><tr><td>630665b89fa239004bddcf40</td><td>Universidad Nacional Del Centro Del Perú</td><td>Universidad Nacional del Centro del Perú</td></tr><tr><td>630665b89fa239004bddcf7e</td><td>Universidad Ricardo Palma</td><td>Universidad Ricardo Palma</td></tr><tr><td>630665b89fa239004bddcfa5</td><td>Universidad Privada Del Norte</td><td>Universidad Privada del Norte S.A.C.</td></tr><tr><td>630665b89fa239004bddcfab</td><td>Universidad Antonio Ruiz De Montoya</td><td>Universidad Antonio Ruiz de Montoya</td></tr><tr><td>630665b89fa239004bddcfb1</td><td>Autónoma Del Perú</td><td>Universidad Autónoma del Perú S.A.C.</td></tr><tr><td>630665b89fa239004bddcff2</td><td>Universidad San Martin De Porres</td><td>Universidad de San Martín de Porres</td></tr><tr><td>630665b89fa239004bddd00e</td><td>Universidad Nacional Mayor De San Marcos</td><td>Universidad Nacional Mayor de San Marcos</td></tr><tr><td>630665b89fa239004bddd01b</td><td>Universidad Tecnológica Del Perú - Utp</td><td>Universidad Tecnológica del Perú S.A.C.</td></tr><tr><td>630665b89fa239004bddd03c</td><td>Unife</td><td>Universidad Femenina del Sagrado Corazón</td></tr><tr><td>630665b89fa239004bddd044</td><td>Utp</td><td>Universidad Tecnológica del Perú S.A.C.</td></tr><tr><td>630665b89fa239004bddd04b</td><td>Universidad Cesar Vallejo</td><td>Universidad César Vallejo S.A.C.</td></tr><tr><td>630665b89fa239004bddd058</td><td>I.s.t.p Santiago Antunez De Mayolo - Huancayo</td><td>Universidad Nacional Santiago Antúnez de Mayolo</td></tr><tr><td>630665b89fa239004bddd074</td><td>Instituto Superior San Ignacio De Loyola (isil)</td><td>Universidad San Ignacio de Loyola S.R.L.</td></tr><tr><td>630665b89fa239004bddd088</td><td>Universidad Tecnológica Del Perú</td><td>Universidad Tecnológica del Perú S.A.C.</td></tr><tr><td>630665b89fa239004bddd09c</td><td>Utp</td><td>Universidad Tecnológica del Perú S.A.C.</td></tr><tr><td>630665b89fa239004bddd0b0</td><td>Universidad Tecnológica Del Perú</td><td>Universidad Tecnológica del Perú S.A.C.</td></tr><tr><td>630665b89fa239004bddd0c3</td><td>Universidad Nacional San Luis Gonzaga De Ica - Unica</td><td>Universidad Nacional San Luis Gonzaga de Ica</td></tr><tr><td>630665b89fa239004bddd0cc</td><td>Universidad De Lima</td><td>Universidad de Lima</td></tr><tr><td>630665b89fa239004bddd0d2</td><td>Universidad Peruana De Ciencias Aplicadas</td><td>Universidad Peruana de Ciencias Aplicadas S.A.C.</td></tr><tr><td>630665b89fa239004bddd0df</td><td>Universidad Nacional Del Callao</td><td>Universidad Nacional del Callao</td></tr><tr><td>630665b89fa239004bddd14b</td><td>Universidad Peruana De Ciencias Aplicadas</td><td>Universidad Peruana de Ciencias Aplicadas S.A.C.</td></tr><tr><td>630665b89fa239004bddd153</td><td>Universidad Privada Del Norte</td><td>Universidad Privada del Norte S.A.C.</td></tr><tr><td>630665b89fa239004bddd15e</td><td>Universidad Privada Del Norte</td><td>Universidad Privada del Norte S.A.C.</td></tr><tr><td>630665b89fa239004bddd174</td><td>Universidad San Ignacio De Loyola - Usil</td><td>Universidad San Ignacio de Loyola S.R.L.</td></tr><tr><td>630665b89fa239004bddd17e</td><td>Universidad Nacional San Luis Gonzaga De Ica - Unica</td><td>Universidad Nacional San Luis Gonzaga de Ica</td></tr><tr><td>630665b89fa239004bddd192</td><td>Universidad Cesar Vallejo</td><td>Universidad César Vallejo S.A.C.</td></tr><tr><td>630665b89fa239004bddd192</td><td>Universidad Cesar Vallejo - Ucv</td><td>Universidad César Vallejo S.A.C.</td></tr><tr><td>630665b89fa239004bddd1a1</td><td>Autónoma Del Perú</td><td>Universidad Autónoma del Perú S.A.C.</td></tr><tr><td>630665b89fa239004bddd1af</td><td>Universidad San Martín De Porres</td><td>Universidad de San Martín de Porres</td></tr><tr><td>630665b89fa239004bddd1b5</td><td>Universidad Nacional Mayor De San Marcos</td><td>Universidad Nacional Mayor de San Marcos</td></tr><tr><td>630665b89fa239004bddd1c6</td><td>Universidad Ricardo Palma</td><td>Universidad Ricardo Palma</td></tr><tr><td>630665b89fa239004bddd1d2</td><td>Universidad San Ignacio De Loyola</td><td>Universidad San Ignacio de Loyola S.R.L.</td></tr><tr><td>630665b89fa239004bddd1dc</td><td>Universidad Cesar Vallejo</td><td>Universidad César Vallejo S.A.C.</td></tr><tr><td>630665b89fa239004bddd1eb</td><td>Universidad Del Pacífico</td><td>Universidad del Pacífico</td></tr><tr><td>630665b89fa239004bddd1f8</td><td>Universidad Cesar Vallejo</td><td>Universidad César Vallejo S.A.C.</td></tr><tr><td>630665b89fa239004bddd205</td><td>Universidad San Ignacio De Loyola</td><td>Universidad San Ignacio de Loyola S.R.L.</td></tr><tr><td>630665b89fa239004bddd22c</td><td>Universidad Autónoma Del Perú - Ua</td><td>Universidad Autónoma del Perú S.A.C.</td></tr><tr><td>630665b89fa239004bddd253</td><td>Universidad Autónoma Del Perú</td><td>Universidad Autónoma del Perú S.A.C.</td></tr><tr><td>630665b89fa239004bddd25a</td><td>Universidad Privada Del Norte</td><td>Universidad Privada del Norte S.A.C.</td></tr><tr><td>630665b89fa239004bddd260</td><td>Cesar Vallejo</td><td>Universidad César Vallejo S.A.C.</td></tr><tr><td>630665b89fa239004bddd268</td><td>Universidad Peruana Los Andes</td><td>Universidad Peruana Los Andes</td></tr><tr><td>630665b89fa239004bddd283</td><td>Universidad Peruana De Ciencias Aplicadas - Upc</td><td>Universidad Peruana de Ciencias Aplicadas S.A.C.</td></tr><tr><td>630665b89fa239004bddd2b0</td><td>Unife</td><td>Universidad Femenina del Sagrado Corazón</td></tr><tr><td>630665b89fa239004bddd2e2</td><td>Upc</td><td>Universidad Peruana de Ciencias Aplicadas S.A.C.</td></tr><tr><td>630665b89fa239004bddd325</td><td>Universidad Cesar Vallejo</td><td>Universidad César Vallejo S.A.C.</td></tr><tr><td>630665b89fa239004bddd332</td><td>Universidad Cesar Vallejo</td><td>Universidad César Vallejo S.A.C.</td></tr><tr><td>630665b89fa239004bddd343</td><td>Universidad Cesar Vallejo</td><td>Universidad César Vallejo S.A.C.</td></tr><tr><td>630665b89fa239004bddd358</td><td>Universidad Cesar Vallejo</td><td>Universidad César Vallejo S.A.C.</td></tr><tr><td>630665b89fa239004bddd35f</td><td>Upc</td><td>Universidad Peruana de Ciencias Aplicadas S.A.C.</td></tr><tr><td>630665b89fa239004bddd371</td><td>Instituto San Ignacio De Loyola</td><td>Universidad San Ignacio de Loyola S.R.L.</td></tr><tr><td>630665b89fa239004bddd393</td><td>Universidad Esan</td><td>Universidad ESAN</td></tr><tr><td>630665b89fa239004bddd3b7</td><td>Universidad Privada Antenor Orrego</td><td>Universidad Privada Antenor Orrego</td></tr><tr><td>630665b89fa239004bddd3c0</td><td>Universidad Nacional De La Amazonía Peruana</td><td>Universidad Nacional de la Amazonía Peruana</td></tr><tr><td>630665b89fa239004bddd3dc</td><td>Universidad Privada Del Norte</td><td>Universidad Privada del Norte S.A.C.</td></tr><tr><td>630665b89fa239004bddd3e3</td><td>Upn</td><td>Universidad Privada del Norte S.A.C.</td></tr><tr><td>630665b89fa239004bddd3ea</td><td>Instituto Continental</td><td>Universidad Continental S.A.C.</td></tr><tr><td>630665b89fa239004bddd3fe</td><td>Upn</td><td>Universidad Privada del Norte S.A.C.</td></tr><tr><td>630665b89fa239004bddd415</td><td>Universidad Tecnológica Del Perú</td><td>Universidad Tecnológica del Perú S.A.C.</td></tr><tr><td>630665b89fa239004bddd421</td><td>Universidad Cesar Vallejo</td><td>Universidad César Vallejo S.A.C.</td></tr><tr><td>630665b89fa239004bddd428</td><td>Universidad Cesar Vallejo - Ucv</td><td>Universidad César Vallejo S.A.C.</td></tr><tr><td>630665b89fa239004bddd438</td><td>Universidad De San Martín De Porres</td><td>Universidad de San Martín de Porres</td></tr><tr><td>630665b89fa239004bddd445</td><td>Universidad Privada Del Norte</td><td>Universidad Privada del Norte S.A.C.</td></tr><tr><td>630665b89fa239004bddd44c</td><td>Instituto Continental</td><td>Universidad Continental S.A.C.</td></tr><tr><td>630665b89fa239004bddd453</td><td>Instituto San Ignacio De Loyola</td><td>Universidad San Ignacio de Loyola S.R.L.</td></tr><tr><td>630665b89fa239004bddd45a</td><td>Universidad De San Martin De Porres - Usmp</td><td>Universidad de San Martín de Porres</td></tr><tr><td>630665b89fa239004bddd463</td><td>Universidad San Martin De Porres</td><td>Universidad de San Martín de Porres</td></tr><tr><td>630665b89fa239004bddd486</td><td>Universidad Continental</td><td>Universidad Continental S.A.C.</td></tr><tr><td>630665b89fa239004bddd490</td><td>Universidad Esan</td><td>Universidad ESAN</td></tr><tr><td>630665b89fa239004bddd497</td><td>Universidad Cesar Vallejo</td><td>Universidad César Vallejo S.A.C.</td></tr><tr><td>630665b89fa239004bddd4b7</td><td>Universidad Peruana Unión</td><td>Universidad Peruana Unión</td></tr><tr><td>630665b89fa239004bddd4bf</td><td>Universidad San Ignacio De Loyola</td><td>Universidad San Ignacio de Loyola S.R.L.</td></tr><tr><td>630665b89fa239004bddd4bf</td><td>Universidad Privada Del Norte</td><td>Universidad Privada del Norte S.A.C.</td></tr><tr><td>630665b89fa239004bddd4d1</td><td>Universidad Cesar Vallejo</td><td>Universidad César Vallejo S.A.C.</td></tr><tr><td>630665b89fa239004bddd4d7</td><td>Universidad Autonoma Del Peru</td><td>Universidad Autónoma del Perú S.A.C.</td></tr><tr><td>630665b89fa239004bddd516</td><td>Universidad Peruana De Ciencias Aplicadas</td><td>Universidad Peruana de Ciencias Aplicadas S.A.C.</td></tr><tr><td>630665b89fa239004bddd525</td><td>Universidad Privada Del Norte</td><td>Universidad Privada del Norte S.A.C.</td></tr><tr><td>630665b89fa239004bddd52d</td><td>Universidad Cesar Vallejo</td><td>Universidad César Vallejo S.A.C.</td></tr><tr><td>630665b89fa239004bddd538</td><td>Universidad San Martin De Porres</td><td>Universidad de San Martín de Porres</td></tr><tr><td>630665b89fa239004bddd55a</td><td>María Auxiliadora - Breña</td><td>Universidad María Auxiliadora S.A.C.</td></tr><tr><td>630665b89fa239004bddd565</td><td>Cesar Vallejo</td><td>Universidad César Vallejo S.A.C.</td></tr><tr><td>630665b89fa239004bddd576</td><td>Universidad Cesar Vallejo</td><td>Universidad César Vallejo S.A.C.</td></tr><tr><td>630665b89fa239004bddd593</td><td>Universidad Nacional Mayor De San Marcos</td><td>Universidad Nacional Mayor de San Marcos</td></tr><tr><td>630665b89fa239004bddd59c</td><td>Universidad San Luis Gonzaga De Ica</td><td>Universidad Nacional San Luis Gonzaga de Ica</td></tr><tr><td>630665b89fa239004bddd5a9</td><td>Universidad San Ignacio De Loyola</td><td>Universidad San Ignacio de Loyola S.R.L.</td></tr><tr><td>630665b89fa239004bddd5af</td><td>Universidad Privada Del Norte</td><td>Universidad Privada del Norte S.A.C.</td></tr><tr><td>630665b89fa239004bddd5d5</td><td>Universidad Cientifica Del Sur</td><td>Universidad Científica del Sur S.A.C.</td></tr><tr><td>630665b89fa239004bddd5fe</td><td>Upc</td><td>Universidad Peruana de Ciencias Aplicadas S.A.C.</td></tr><tr><td>630665b89fa239004bddd619</td><td>Universidad Nacional De Moquegua</td><td>Universidad Nacional de Moquegua</td></tr><tr><td>630665b89fa239004bddd665</td><td>Universidad Tecnológica Del Perú</td><td>Universidad Tecnológica del Perú S.A.C.</td></tr><tr><td>630665b89fa239004bddd672</td><td>Universidad Privada Del Norte</td><td>Universidad Privada del Norte S.A.C.</td></tr><tr><td>630665b89fa239004bddd689</td><td>Universidad Tecnológica Del Perú</td><td>Universidad Tecnológica del Perú S.A.C.</td></tr><tr><td>630665b89fa239004bddd698</td><td>Universidad Tecnológica Del Perú</td><td>Universidad Tecnológica del Perú S.A.C.</td></tr><tr><td>630665b89fa239004bddd6ab</td><td>Universidad Tecnológica Del Perú</td><td>Universidad Tecnológica del Perú S.A.C.</td></tr><tr><td>630665b89fa239004bddd6bd</td><td>Universidad César Vallejo</td><td>Universidad César Vallejo S.A.C.</td></tr><tr><td>630665b89fa239004bddd6ca</td><td>Universidad Autónoma Del Perú</td><td>Universidad Autónoma del Perú S.A.C.</td></tr><tr><td>630665b89fa239004bddd6d4</td><td>Universidad Privada Del Norte</td><td>Universidad Privada del Norte S.A.C.</td></tr><tr><td>630665b89fa239004bddd6e2</td><td>Universidad Peruana De Ciencias Aplicadas (upc)</td><td>Universidad Peruana de Ciencias Aplicadas S.A.C.</td></tr><tr><td>630665b89fa239004bddd6e2</td><td>Instituto De Idiomas De La Pontificia Universidad Católica Del Perú</td><td>Pontificia Universidad Católica del Perú</td></tr><tr><td>630665b89fa239004bddd6f9</td><td>Universidad Nacional Federico Villarreal</td><td>Universidad Nacional Federico Villarreal</td></tr><tr><td>630665b89fa239004bddd71a</td><td>Universidad Nacional Del Callao</td><td>Universidad Nacional del Callao</td></tr><tr><td>630665b89fa239004bddd72c</td><td>Universida Peruana De Ciencias Aplicadas</td><td>Universidad Peruana de Ciencias Aplicadas S.A.C.</td></tr><tr><td>630665b99fa239004bddd754</td><td>Universidad Privada Del Norte</td><td>Universidad Privada del Norte S.A.C.</td></tr><tr><td>630665b99fa239004bddd7c4</td><td>Cesar Vallejo</td><td>Universidad César Vallejo S.A.C.</td></tr><tr><td>630665b99fa239004bddd7ee</td><td>Universidad Nacional De Trujillo</td><td>Universidad Nacional de Trujillo</td></tr><tr><td>630665b99fa239004bddd803</td><td>Universidad Ricardo Palma</td><td>Universidad Ricardo Palma</td></tr><tr><td>630665b99fa239004bddd80b</td><td>Universidad Nacional De Ingeniería</td><td>Universidad Nacional de Ingeniería</td></tr><tr><td>630665b99fa239004bddd831</td><td>Universidad Privada Del Norte</td><td>Universidad Privada del Norte S.A.C.</td></tr><tr><td>630665b99fa239004bddd84e</td><td>Universidad Peruana De Ciencias Aplicadas</td><td>Universidad Peruana de Ciencias Aplicadas S.A.C.</td></tr><tr><td>630665b99fa239004bddd868</td><td>Unalm</td><td>Universidad Nacional Agraria La Molina</td></tr><tr><td>630665b99fa239004bddd868</td><td>Unfv</td><td>Universidad Nacional Federico Villarreal</td></tr><tr><td>630665b99fa239004bddd883</td><td>Universidad Privada Del Norte (upn)</td><td>Universidad Privada del Norte S.A.C.</td></tr><tr><td>630665b99fa239004bddd896</td><td>Universidad César Vallejo</td><td>Universidad César Vallejo S.A.C.</td></tr><tr><td>630665b99fa239004bddd8c7</td><td>Universidad Privada Del Norte</td><td>Universidad Privada del Norte S.A.C.</td></tr><tr><td>630665b99fa239004bddd8ce</td><td>Universidad Privada Del Norte Upn</td><td>Universidad Privada del Norte S.A.C.</td></tr><tr><td>630665b99fa239004bddd8ff</td><td>Universidad Continental</td><td>Universidad Continental S.A.C.</td></tr><tr><td>630665b99fa239004bddd91c</td><td>San Ignacio De Loyola</td><td>Universidad San Ignacio de Loyola S.R.L.</td></tr><tr><td>630665b99fa239004bddd933</td><td>Universidad  Nacional  Del Callao</td><td>Universidad Nacional del Callao</td></tr><tr><td>630665b99fa239004bddd946</td><td>Universidad Peruana Los Andes</td><td>Universidad Peruana Los Andes</td></tr><tr><td>630665b99fa239004bddd954</td><td>Universidad Nacional De Trujillo - Unitru</td><td>Universidad Nacional de Trujillo</td></tr><tr><td>630665b99fa239004bddd96b</td><td>Universidad Privada Del Norte</td><td>Universidad Privada del Norte S.A.C.</td></tr><tr><td>630665b99fa239004bddd979</td><td>Universidad César Vallejo</td><td>Universidad César Vallejo S.A.C.</td></tr><tr><td>630665b99fa239004bddd991</td><td>Universidad Privada Del Norte - Upn</td><td>Universidad Privada del Norte S.A.C.</td></tr><tr><td>630665b99fa239004bddd9a7</td><td>Universidad Nacional De Trujillo</td><td>Universidad Nacional de Trujillo</td></tr><tr><td>630665b99fa239004bddd9b8</td><td>Universidad Privada Del Norte - Upn</td><td>Universidad Privada del Norte S.A.C.</td></tr><tr><td>630665b99fa239004bddd9cf</td><td>Universidad San Ignacio De Loyola - Usil</td><td>Universidad San Ignacio de Loyola S.R.L.</td></tr><tr><td>630665b99fa239004bddd9dd</td><td>Universidad Peruana De Ciencias Aplicadas</td><td>Universidad Peruana de Ciencias Aplicadas S.A.C.</td></tr><tr><td>630665b99fa239004bddd9f9</td><td>Universidad San Ignacio De Loyola - Usil</td><td>Universidad San Ignacio de Loyola S.R.L.</td></tr><tr><td>630665b99fa239004bddda07</td><td>Jorge Basadre Grohmann 6089</td><td>Universidad Nacional Jorge Basadre Grohmann</td></tr><tr><td>630665b99fa239004bddda21</td><td>Universidad Tecnologica Del Peru</td><td>Universidad Tecnológica del Perú S.A.C.</td></tr><tr><td>630665b99fa239004bddda37</td><td>Universidad Privada Del Norte</td><td>Universidad Privada del Norte S.A.C.</td></tr><tr><td>630665b99fa239004bddda55</td><td>Universidad Privada Del Norte</td><td>Universidad Privada del Norte S.A.C.</td></tr><tr><td>630665b99fa239004bddda5c</td><td>Universidad Tecnológica Del Perú</td><td>Universidad Tecnológica del Perú S.A.C.</td></tr><tr><td>630665b99fa239004bddda6b</td><td>Lalito José María Arguedas</td><td>Universidad Nacional José María Arguedas</td></tr><tr><td>630665b99fa239004bddda8d</td><td>Universidad Privada Del Norte</td><td>Universidad Privada del Norte S.A.C.</td></tr><tr><td>630665b99fa239004bdddaba</td><td>Universidad Privada Del Norte - Upn</td><td>Universidad Privada del Norte S.A.C.</td></tr><tr><td>630665b99fa239004bdddacb</td><td>Universidad Cesar Vallejo</td><td>Universidad César Vallejo S.A.C.</td></tr><tr><td>630665b99fa239004bdddacb</td><td>Universidad De San Martin De Porres</td><td>Universidad de San Martín de Porres</td></tr><tr><td>630665b99fa239004bdddad5</td><td>Universidad César Vallejo</td><td>Universidad César Vallejo S.A.C.</td></tr><tr><td>630665b99fa239004bdddae7</td><td>Utp</td><td>Universidad Tecnológica del Perú S.A.C.</td></tr><tr><td>630665b99fa239004bdddb21</td><td>Universidad Nacional Daniel Alcides Carrion</td><td>Universidad Nacional Daniel Alcides Carrión</td></tr><tr><td>630665b99fa239004bdddb66</td><td>Isil ( Instituto San Ignacio De Loyola)</td><td>Universidad San Ignacio de Loyola S.R.L.</td></tr><tr><td>630665b99fa239004bdddb6e</td><td>Universidad Autonoma De  Ica</td><td>Universidad Autónoma de Ica S.A.C.</td></tr><tr><td>630665b99fa239004bdddb8f</td><td>Universidad Nacional Mayor De San Marcos</td><td>Universidad Nacional Mayor de San Marcos</td></tr><tr><td>630665b99fa239004bdddb97</td><td>Instituto San Ignacio De Loyola - Isil</td><td>Universidad San Ignacio de Loyola S.R.L.</td></tr><tr><td>630665b99fa239004bdddbc3</td><td>Utp</td><td>Universidad Tecnológica del Perú S.A.C.</td></tr><tr><td>630665b99fa239004bdddbd7</td><td>Universidad Privada Norbert Wiener - U Wiener</td><td>Universidad Privada Norbert Wiener S.A.</td></tr><tr><td>630665b99fa239004bdddbe7</td><td>Universidad Peruana De Ciencias Aplicadas</td><td>Universidad Peruana de Ciencias Aplicadas S.A.C.</td></tr><tr><td>630665b99fa239004bdddbf9</td><td>Universidad San Ignacio De Loyola</td><td>Universidad San Ignacio de Loyola S.R.L.</td></tr><tr><td>630665b99fa239004bdddc00</td><td>Universidad Cesar Vallejo</td><td>Universidad César Vallejo S.A.C.</td></tr><tr><td>630665b99fa239004bdddc12</td><td>Universidad Nacional Mayor De San Marcos</td><td>Universidad Nacional Mayor de San Marcos</td></tr><tr><td>630665b99fa239004bdddc19</td><td>Universidad Cesar Vallejo</td><td>Universidad César Vallejo S.A.C.</td></tr><tr><td>630665b99fa239004bdddc25</td><td>Universidad Del Pacifico</td><td>Universidad del Pacífico</td></tr><tr><td>630665b99fa239004bdddc2d</td><td>Universidad Privada Del Norte</td><td>Universidad Privada del Norte S.A.C.</td></tr><tr><td>630665b99fa239004bdddc38</td><td>Upc - Universidad Peruana De Ciencias Aplicadas</td><td>Universidad Peruana de Ciencias Aplicadas S.A.C.</td></tr><tr><td>630665b99fa239004bdddc93</td><td>Universidad Tecnologica Del Peru</td><td>Universidad Tecnológica del Perú S.A.C.</td></tr><tr><td>630665b99fa239004bdddcae</td><td>Universidad Cesar Vallejo</td><td>Universidad César Vallejo S.A.C.</td></tr><tr><td>630665b99fa239004bdddce4</td><td>Universidad Cesar Vallejo - Ucv</td><td>Universidad César Vallejo S.A.C.</td></tr><tr><td>630665b99fa239004bdddcf4</td><td>Universidad Nacional Federico Villarreal</td><td>Universidad Nacional Federico Villarreal</td></tr><tr><td>630665b99fa239004bdddcfb</td><td>Universidad  Maria Auxiliadora</td><td>Universidad María Auxiliadora S.A.C.</td></tr><tr><td>630665b99fa239004bdddd04</td><td>Universidad Tecnológica Del Perú</td><td>Universidad Tecnológica del Perú S.A.C.</td></tr><tr><td>630665b99fa239004bdddd2f</td><td>Universidad César Vallejo</td><td>Universidad César Vallejo S.A.C.</td></tr><tr><td>630665b99fa239004bdddd45</td><td>Universidad Cesar Vallejo - Ucv</td><td>Universidad César Vallejo S.A.C.</td></tr><tr><td>630665b99fa239004bdddd4e</td><td>Universidad Tecnológica Del Perú</td><td>Universidad Tecnológica del Perú S.A.C.</td></tr><tr><td>630665bc594e18004af0822c</td><td>Univeridad Privada Del Norte</td><td>Universidad Privada del Norte S.A.C.</td></tr><tr><td>630665bc594e18004af0823a</td><td>Cesar Vallejo</td><td>Universidad César Vallejo S.A.C.</td></tr><tr><td>630665bc594e18004af0824c</td><td>Universidad Tecnológica Del Perú</td><td>Universidad Tecnológica del Perú S.A.C.</td></tr><tr><td>630665bc594e18004af08254</td><td>Universidad Nacional Del Callao</td><td>Universidad Nacional del Callao</td></tr><tr><td>630665bc594e18004af08276</td><td>Universidad De San Martin De Porres - Usmp</td><td>Universidad de San Martín de Porres</td></tr><tr><td>630665bc594e18004af08294</td><td>Universidad Privada Del Norte</td><td>Universidad Privada del Norte S.A.C.</td></tr><tr><td>630665bc594e18004af0829b</td><td>Universidad Cesar Vallejo - Ucv</td><td>Universidad César Vallejo S.A.C.</td></tr><tr><td>630665bc594e18004af082b7</td><td>Upc</td><td>Universidad Peruana de Ciencias Aplicadas S.A.C.</td></tr><tr><td>630665bc594e18004af082be</td><td>Universidad Privada Del Norte</td><td>Universidad Privada del Norte S.A.C.</td></tr><tr><td>630665bc594e18004af082cf</td><td>Universidad Privada Del Norte (upn)</td><td>Universidad Privada del Norte S.A.C.</td></tr><tr><td>630665bc594e18004af082f7</td><td>Universidad Peruana De Ciencias Aplicadas</td><td>Universidad Peruana de Ciencias Aplicadas S.A.C.</td></tr><tr><td>630665bc594e18004af082f7</td><td>I.e Por Convenio 000 María Auxiliadora</td><td>Universidad María Auxiliadora S.A.C.</td></tr><tr><td>630665bc594e18004af08302</td><td>Universidad Católica De Santa María</td><td>Universidad Católica de Santa María</td></tr><tr><td>630665bc594e18004af08312</td><td>Universidad Privada Del Norte</td><td>Universidad Privada del Norte S.A.C.</td></tr><tr><td>630665bc594e18004af08320</td><td>Universidad San Ignacio De Loyola</td><td>Universidad San Ignacio de Loyola S.R.L.</td></tr><tr><td>630665bc594e18004af0834e</td><td>Universidad Privada Del Norte</td><td>Universidad Privada del Norte S.A.C.</td></tr><tr><td>630665bc594e18004af08373</td><td>Upc</td><td>Universidad Peruana de Ciencias Aplicadas S.A.C.</td></tr><tr><td>630665bc594e18004af0837b</td><td>Universidad Nacional Del Callao - Unac</td><td>Universidad Nacional del Callao</td></tr><tr><td>630665bc594e18004af0839c</td><td>Universidad Nacional De Ingeniería</td><td>Universidad Nacional de Ingeniería</td></tr><tr><td>630665bc594e18004af083a4</td><td>Cesar Vallejo</td><td>Universidad César Vallejo S.A.C.</td></tr><tr><td>630665bc594e18004af083b6</td><td>Universidad Nacional Federico Villarreal</td><td>Universidad Nacional Federico Villarreal</td></tr><tr><td>630665bc594e18004af083cb</td><td>Universidad Tecnológica Del Perú</td><td>Universidad Tecnológica del Perú S.A.C.</td></tr><tr><td>630665bc594e18004af083dc</td><td>Universidad Tecnológica Del Perú - Utp</td><td>Universidad Tecnológica del Perú S.A.C.</td></tr><tr><td>630665bc594e18004af083eb</td><td>Universidad Católica San Pablo</td><td>Universidad Católica San Pablo</td></tr><tr><td>630665bc594e18004af083f2</td><td>Upc</td><td>Universidad Peruana de Ciencias Aplicadas S.A.C.</td></tr><tr><td>630665bc594e18004af083f8</td><td>Universidad Nacional Mayor De San Marcos</td><td>Universidad Nacional Mayor de San Marcos</td></tr><tr><td>630665bc594e18004af083ff</td><td>Universidad Privada Del Norte</td><td>Universidad Privada del Norte S.A.C.</td></tr><tr><td>630665bc594e18004af0842f</td><td>Universidad César Vallejo</td><td>Universidad César Vallejo S.A.C.</td></tr><tr><td>630665bc594e18004af08437</td><td>Universidad Cesar Vallejo</td><td>Universidad César Vallejo S.A.C.</td></tr><tr><td>630665bc594e18004af08444</td><td>Upn</td><td>Universidad Privada del Norte S.A.C.</td></tr><tr><td>630665bc594e18004af08454</td><td>Upc</td><td>Universidad Peruana de Ciencias Aplicadas S.A.C.</td></tr><tr><td>630665bc594e18004af0845b</td><td>Universidad Privada Del Norte - Unp</td><td>Universidad Privada del Norte S.A.C.</td></tr><tr><td>630665bc594e18004af08470</td><td>Universidad Peruana De Ciencias Aplicadas - Upc</td><td>Universidad Peruana de Ciencias Aplicadas S.A.C.</td></tr><tr><td>630665bc594e18004af084a2</td><td>Utp</td><td>Universidad Tecnológica del Perú S.A.C.</td></tr><tr><td>630665bc594e18004af084b1</td><td>Universidad Nacional Federico Villarreal</td><td>Universidad Nacional Federico Villarreal</td></tr><tr><td>630665bc594e18004af084b9</td><td>Utp</td><td>Universidad Tecnológica del Perú S.A.C.</td></tr><tr><td>630665bc594e18004af084e5</td><td>Universidad San Ignacio De Loyola - Usil</td><td>Universidad San Ignacio de Loyola S.R.L.</td></tr><tr><td>630665bc594e18004af084fc</td><td>Universidad Nacional De Trujillo</td><td>Universidad Nacional de Trujillo</td></tr><tr><td>630665bc594e18004af08506</td><td>Universidad Privada Del Norte</td><td>Universidad Privada del Norte S.A.C.</td></tr><tr><td>630665bc594e18004af0850c</td><td>Universidad Tecnológica Del Perú</td><td>Universidad Tecnológica del Perú S.A.C.</td></tr><tr><td>630665bc594e18004af0853c</td><td>Universidad César Vallejo (ucv)</td><td>Universidad César Vallejo S.A.C.</td></tr><tr><td>630665bc594e18004af08543</td><td>Utp</td><td>Universidad Tecnológica del Perú S.A.C.</td></tr><tr><td>630665bc594e18004af0855a</td><td>Cesar Vallejo</td><td>Universidad César Vallejo S.A.C.</td></tr><tr><td>630665bc594e18004af08567</td><td>Universidad Peruana Los Andes</td><td>Universidad Peruana Los Andes</td></tr><tr><td>630665bc594e18004af0856d</td><td>Universidad San Ignacio De Loyola - Usil</td><td>Universidad San Ignacio de Loyola S.R.L.</td></tr><tr><td>630665bc594e18004af08575</td><td>Universidad Privada Del Norte</td><td>Universidad Privada del Norte S.A.C.</td></tr><tr><td>630665bc594e18004af0857d</td><td>Universidad Nacional Jose Faustino Sanchez Carrion</td><td>Universidad Nacional José Faustino Sánchez Carrión</td></tr><tr><td>630665bc594e18004af085c9</td><td>Universidad Tecnológica Del Perú</td><td>Universidad Tecnológica del Perú S.A.C.</td></tr><tr><td>630665bc594e18004af085e1</td><td>Universidad Ricardo Palma</td><td>Universidad Ricardo Palma</td></tr><tr><td>630665bc594e18004af085ec</td><td>Universidad Privada Del Norte</td><td>Universidad Privada del Norte S.A.C.</td></tr><tr><td>630665bc594e18004af085ec</td><td>Universidad Cesar Vallejo</td><td>Universidad César Vallejo S.A.C.</td></tr><tr><td>630665bc594e18004af085f8</td><td>Universidad Cesar Vallejo</td><td>Universidad César Vallejo S.A.C.</td></tr><tr><td>630665bc594e18004af08617</td><td>Universidad Marcelino Champagnat</td><td>Universidad Marcelino Champagnat</td></tr><tr><td>630665bc594e18004af08652</td><td>Universidad Cesar Vallejo</td><td>Universidad César Vallejo S.A.C.</td></tr><tr><td>630665bc594e18004af0868e</td><td>Universidad Tecnológica Del Perú - Utp</td><td>Universidad Tecnológica del Perú S.A.C.</td></tr><tr><td>630665bc594e18004af08695</td><td>Universidad Ricardo Palma</td><td>Universidad Ricardo Palma</td></tr><tr><td>630665bc594e18004af0869e</td><td>Universidad Cesar Vallejo - Ucv</td><td>Universidad César Vallejo S.A.C.</td></tr><tr><td>630665bc594e18004af086ae</td><td>Universidad Privada San Juan Bautista - Upsjb</td><td>Universidad Privada San Juan Bautista S.A.C.</td></tr><tr><td>630665bc594e18004af086f5</td><td>Universidad Nacional De Ingenieria</td><td>Universidad Nacional de Ingeniería</td></tr><tr><td>630665bc594e18004af086f5</td><td>Colegio La Salle</td><td>Universidad La Salle</td></tr><tr><td>630665bc594e18004af08714</td><td>Usil</td><td>Universidad San Ignacio de Loyola S.R.L.</td></tr><tr><td>630665bc594e18004af0871c</td><td>Universidad César Vallejo</td><td>Universidad César Vallejo S.A.C.</td></tr><tr><td>630665bc594e18004af08725</td><td>Universidad Nacional De San Martín</td><td>Universidad Nacional de San Martín</td></tr><tr><td>630665bc594e18004af08730</td><td>Universidad Tecnológica Del Perú</td><td>Universidad Tecnológica del Perú S.A.C.</td></tr><tr><td>630665bc594e18004af0873f</td><td>Instituto San Ignacio De Loyola - Isil</td><td>Universidad San Ignacio de Loyola S.R.L.</td></tr><tr><td>630665bc594e18004af0873f</td><td>Universidad De San Martin De Porres - Usmp</td><td>Universidad de San Martín de Porres</td></tr><tr><td>630665bc594e18004af0874c</td><td>Universidad San Marcos</td><td>Universidad Nacional Mayor de San Marcos</td></tr><tr><td>630665bc9fa239004bddfb80</td><td>Daniel Alcides Carrion</td><td>Universidad Nacional Daniel Alcides Carrión</td></tr><tr><td>630665bc9fa239004bddfb86</td><td>Universidad Privada Del Norte</td><td>Universidad Privada del Norte S.A.C.</td></tr><tr><td>630665bc9fa239004bddfb98</td><td>Universidad Privada Del Norte</td><td>Universidad Privada del Norte S.A.C.</td></tr><tr><td>630665bc9fa239004bddfbb4</td><td>Upc</td><td>Universidad Peruana de Ciencias Aplicadas S.A.C.</td></tr><tr><td>630665bc9fa239004bddfbc6</td><td>Universidad Peruana De Ciencias Aplicadas</td><td>Universidad Peruana de Ciencias Aplicadas S.A.C.</td></tr><tr><td>630665bc9fa239004bddfbd5</td><td>Universidad Nacional Federico Villarreal</td><td>Universidad Nacional Federico Villarreal</td></tr><tr><td>630665bc9fa239004bddfbe4</td><td>Universidad Tecnológica De Los Andes</td><td>Universidad Tecnológica de los Andes</td></tr><tr><td>630665bc9fa239004bddfc04</td><td>Universidad Nacional De San Cristóbal De Huamanga</td><td>Universidad Nacional de San Cristóbal de Huamanga</td></tr><tr><td>630665bc9fa239004bddfc40</td><td>Upn</td><td>Universidad Privada del Norte S.A.C.</td></tr><tr><td>630665bc9fa239004bddfc50</td><td>Universidad Cesar Vallejo</td><td>Universidad César Vallejo S.A.C.</td></tr><tr><td>630665bc9fa239004bddfc57</td><td>Universidad Cesar Vallejo</td><td>Universidad César Vallejo S.A.C.</td></tr><tr><td>630665bc9fa239004bddfcb6</td><td>Universidad Nacional Federico Villarreal</td><td>Universidad Nacional Federico Villarreal</td></tr><tr><td>630665bc9fa239004bddfcbd</td><td>San Ignacio De Loyola</td><td>Universidad San Ignacio de Loyola S.R.L.</td></tr><tr><td>630665bc9fa239004bddfcd6</td><td>San Ignacio De Loyola</td><td>Universidad San Ignacio de Loyola S.R.L.</td></tr><tr><td>630665bc9fa239004bddfcee</td><td>Universidad Cesar Vallejo</td><td>Universidad César Vallejo S.A.C.</td></tr><tr><td>630665bc9fa239004bddfd00</td><td>Universidad San Martín De Porres</td><td>Universidad de San Martín de Porres</td></tr><tr><td>630665bc9fa239004bddfd07</td><td>Universidad Privada Del Norte</td><td>Universidad Privada del Norte S.A.C.</td></tr><tr><td>630665bc9fa239004bddfd0e</td><td>Universidad San Martin De Porres</td><td>Universidad de San Martín de Porres</td></tr><tr><td>630665bc9fa239004bddfd0e</td><td>Universidad Católica Santo Toribio De Mogrovejo</td><td>Universidad Católica Santo Toribio de Mogrovejo</td></tr><tr><td>630665bc9fa239004bddfd18</td><td>Universidad Nacional De Piura</td><td>Universidad Nacional de Piura</td></tr><tr><td>630665bc9fa239004bddfd26</td><td>Universidad Peruana De Ciencias Aplicadas (upc)</td><td>Universidad Peruana de Ciencias Aplicadas S.A.C.</td></tr><tr><td>630665bc9fa239004bddfd26</td><td>Enrique Guzmán Y Valle 3084</td><td>Universidad Nacional de Educación Enrique Guzmán y Valle</td></tr><tr><td>630665bc9fa239004bddfd32</td><td>Utp</td><td>Universidad Tecnológica del Perú S.A.C.</td></tr><tr><td>630665bd9fa239004bddfd47</td><td>Universidad San Martin De Porres</td><td>Universidad de San Martín de Porres</td></tr><tr><td>630665bd9fa239004bddfd4f</td><td>Universidad César Vallejo</td><td>Universidad César Vallejo S.A.C.</td></tr><tr><td>630665bd9fa239004bddfd6e</td><td>Univesidad San Ignacio De Loyola</td><td>Universidad San Ignacio de Loyola S.R.L.</td></tr><tr><td>630665bd9fa239004bddfd88</td><td>Universidad César Vallejo</td><td>Universidad César Vallejo S.A.C.</td></tr><tr><td>630665bd9fa239004bddfd8e</td><td>Universidad Privada Del Norte</td><td>Universidad Privada del Norte S.A.C.</td></tr><tr><td>630665bd9fa239004bddfd95</td><td>Universidad Nacional De Piura</td><td>Universidad Nacional de Piura</td></tr><tr><td>630665bd9fa239004bddfd95</td><td>Escuela Técnica Superior De La Universidad Nacional De Piura</td><td>Universidad Nacional de Piura</td></tr><tr><td>630665bd9fa239004bddfd9d</td><td>Universidad Andina Del Cusco</td><td>Universidad Andina del Cusco</td></tr><tr><td>630665bd9fa239004bddfda3</td><td>Universidad De Lima</td><td>Universidad de Lima</td></tr><tr><td>630665bd9fa239004bddfdaf</td><td>Instituto Continental</td><td>Universidad Continental S.A.C.</td></tr><tr><td>630665bd9fa239004bddfdc7</td><td>Universidad Del Pacífico</td><td>Universidad del Pacífico</td></tr><tr><td>630665bd9fa239004bddfdcd</td><td>Universidad Nacional De Piura</td><td>Universidad Nacional de Piura</td></tr><tr><td>630665bd9fa239004bddfdd5</td><td>Universidad Privada Antenor Orrego</td><td>Universidad Privada Antenor Orrego</td></tr><tr><td>630665bd9fa239004bddfdf2</td><td>Universidad Peruana De Ciencias Aplicadas</td><td>Universidad Peruana de Ciencias Aplicadas S.A.C.</td></tr><tr><td>630665bd9fa239004bddfe03</td><td>Universidad Peruana De Ciencias Aplicadas</td><td>Universidad Peruana de Ciencias Aplicadas S.A.C.</td></tr><tr><td>630665bd9fa239004bddfe19</td><td>Universidad De Lima - Ulima</td><td>Universidad de Lima</td></tr><tr><td>630665bd9fa239004bddfe20</td><td>Universidad Nacional Del Centro Del Perú</td><td>Universidad Nacional del Centro del Perú</td></tr><tr><td>630665bd9fa239004bddfe27</td><td>Upn</td><td>Universidad Privada del Norte S.A.C.</td></tr><tr><td>630665bd9fa239004bddfe3e</td><td>Universidad Privada Del Norte</td><td>Universidad Privada del Norte S.A.C.</td></tr><tr><td>630665bd9fa239004bddfe44</td><td>Universidad Privada Del Norte</td><td>Universidad Privada del Norte S.A.C.</td></tr><tr><td>630665bd9fa239004bddfe5a</td><td>I.e. Santiago Antúnez De Mayolo</td><td>Universidad Nacional Santiago Antúnez de Mayolo</td></tr><tr><td>630665bd9fa239004bddfe7b</td><td>Universidad De San Martin De Porres</td><td>Universidad de San Martín de Porres</td></tr><tr><td>630665bd9fa239004bddfe83</td><td>Universidad Peruana De Ciencias Aplicadas</td><td>Universidad Peruana de Ciencias Aplicadas S.A.C.</td></tr><tr><td>630665bd9fa239004bddfe89</td><td>Universidad Privada Del Norte</td><td>Universidad Privada del Norte S.A.C.</td></tr><tr><td>630665bd9fa239004bddfe89</td><td>Instituto Superior Tecnologico Publico San Marcos</td><td>Universidad Nacional Mayor de San Marcos</td></tr><tr><td>630665bd9fa239004bddfeb0</td><td>Universidad Peruana De Ciencias Aplicadas</td><td>Universidad Peruana de Ciencias Aplicadas S.A.C.</td></tr><tr><td>630665bd9fa239004bddfecb</td><td>San Luis Gonzaga De Ica</td><td>Universidad Nacional San Luis Gonzaga de Ica</td></tr><tr><td>630665bd9fa239004bddfed5</td><td>Daniel Alcides Carrión</td><td>Universidad Nacional Daniel Alcides Carrión</td></tr><tr><td>630665bd9fa239004bddff00</td><td>Universidad Privada Del Norte</td><td>Universidad Privada del Norte S.A.C.</td></tr><tr><td>630665bd9fa239004bddff07</td><td>Uac</td><td>Universidad Andina del Cusco</td></tr><tr><td>630665bd9fa239004bddff0e</td><td>San Ignacio De Loyola</td><td>Universidad San Ignacio de Loyola S.R.L.</td></tr><tr><td>630665bd9fa239004bddff1d</td><td>Institulo Continental</td><td>Universidad Continental S.A.C.</td></tr><tr><td>630665bd9fa239004bddff2b</td><td>Universidad Privada Del Norte</td><td>Universidad Privada del Norte S.A.C.</td></tr><tr><td>630665bd9fa239004bddff40</td><td>Universidad Privada Del Norte</td><td>Universidad Privada del Norte S.A.C.</td></tr><tr><td>630665bd9fa239004bddff63</td><td>Universidad San Martín De Porres</td><td>Universidad de San Martín de Porres</td></tr><tr><td>630665bd9fa239004bddff7c</td><td>Universidad San Martin De Porres</td><td>Universidad de San Martín de Porres</td></tr><tr><td>630665bd9fa239004bddff95</td><td>Universidad Privada Del Norte</td><td>Universidad Privada del Norte S.A.C.</td></tr><tr><td>630665bd9fa239004bddff9d</td><td>Upn</td><td>Universidad Privada del Norte S.A.C.</td></tr><tr><td>630665bd9fa239004bddffa5</td><td>San Martín De Porres</td><td>Universidad de San Martín de Porres</td></tr><tr><td>630665bd9fa239004bddffb9</td><td>Universidad Privada Del Norte - Upn</td><td>Universidad Privada del Norte S.A.C.</td></tr><tr><td>630665bd9fa239004bddffc1</td><td>Universidad Nacional Federico Villarreal</td><td>Universidad Nacional Federico Villarreal</td></tr><tr><td>630665bd9fa239004bddffcf</td><td>Usmp</td><td>Universidad de San Martín de Porres</td></tr><tr><td>630665bd9fa239004bddffdd</td><td>Instituto San Ignacio De Loyola</td><td>Universidad San Ignacio de Loyola S.R.L.</td></tr><tr><td>630665bd9fa239004bddffe6</td><td>Universidad Señor De Sipan</td><td>Universidad Señor de Sipán S.A.C.</td></tr><tr><td>630665bd9fa239004bde001f</td><td>Universidad San Ignacio De Loyola</td><td>Universidad San Ignacio de Loyola S.R.L.</td></tr><tr><td>630665bd9fa239004bde0028</td><td>Universidad Esan</td><td>Universidad ESAN</td></tr><tr><td>630665bd9fa239004bde0030</td><td>Universidad Nacional Federico Villarreal - Unfv</td><td>Universidad Nacional Federico Villarreal</td></tr><tr><td>630665bd9fa239004bde003b</td><td>Universidad Catolica San Pablo</td><td>Universidad Católica San Pablo</td></tr><tr><td>630665bd9fa239004bde0049</td><td>Universidad Andina Del Cusco</td><td>Universidad Andina del Cusco</td></tr><tr><td>630665bd9fa239004bde0051</td><td>Universidad Tecnológica De Los Andes</td><td>Universidad Tecnológica de los Andes</td></tr><tr><td>630665bd9fa239004bde0051</td><td>I.e.p San Martín De Porres</td><td>Universidad de San Martín de Porres</td></tr><tr><td>630665bd9fa239004bde005b</td><td>Universidad De San Martin De Porres - Lima</td><td>Universidad de San Martín de Porres</td></tr><tr><td>630665bd9fa239004bde006d</td><td>Universidad Cesar Vallejo - Ucv</td><td>Universidad César Vallejo S.A.C.</td></tr><tr><td>630665bd9fa239004bde0073</td><td>Universidad Nacional Federico Villarreal - Unfv</td><td>Universidad Nacional Federico Villarreal</td></tr><tr><td>630665bd9fa239004bde008a</td><td>Universidad Andina Del Cusco</td><td>Universidad Andina del Cusco</td></tr><tr><td>630665bd9fa239004bde0094</td><td>Universidad Ricardo Palma</td><td>Universidad Ricardo Palma</td></tr><tr><td>630665bd9fa239004bde009b</td><td>Universidad Privada Del Norte</td><td>Universidad Privada del Norte S.A.C.</td></tr><tr><td>630665bd9fa239004bde00a3</td><td>Universidad Peruana De Ciencias Aplicadas</td><td>Universidad Peruana de Ciencias Aplicadas S.A.C.</td></tr><tr><td>630665bd9fa239004bde00a9</td><td>Universidad Privada San Juan Bautista</td><td>Universidad Privada San Juan Bautista S.A.C.</td></tr><tr><td>630665bd9fa239004bde00b9</td><td>Universidad Peruana De Ciencias Aplicadas</td><td>Universidad Peruana de Ciencias Aplicadas S.A.C.</td></tr><tr><td>630665bd9fa239004bde00c7</td><td>Universidad Cesar Vallejo</td><td>Universidad César Vallejo S.A.C.</td></tr><tr><td>630665bd9fa239004bde00d5</td><td>Universidad Nacional Tecnológica De Lima Sur</td><td>Universidad Nacional Tecnológica de Lima Sur</td></tr><tr><td>630665bd9fa239004bde00d5</td><td>Universidad Tecnológica Del Perú</td><td>Universidad Tecnológica del Perú S.A.C.</td></tr><tr><td>630665bd9fa239004bde00f4</td><td>San Ignacio De Loyola</td><td>Universidad San Ignacio de Loyola S.R.L.</td></tr><tr><td>630665bd9fa239004bde011a</td><td>Universidad Nacional De Piura</td><td>Universidad Nacional de Piura</td></tr><tr><td>630665bd9fa239004bde0128</td><td>Universidad Privada Del Norte</td><td>Universidad Privada del Norte S.A.C.</td></tr><tr><td>630665bd9fa239004bde0143</td><td>Utp</td><td>Universidad Tecnológica del Perú S.A.C.</td></tr><tr><td>630665bd9fa239004bde014e</td><td>Centro De Idiomas De La Universidad De San Martín De Porres</td><td>Universidad de San Martín de Porres</td></tr><tr><td>630665bd9fa239004bde014e</td><td>Universidad De San Martín De Porres</td><td>Universidad de San Martín de Porres</td></tr><tr><td>630665bd9fa239004bde015c</td><td>Univerisdad Privada Del Norte</td><td>Universidad Privada del Norte S.A.C.</td></tr><tr><td>630665bd9fa239004bde0199</td><td>Universidad César Vallejo</td><td>Universidad César Vallejo S.A.C.</td></tr><tr><td>630665bd9fa239004bde01ae</td><td>Universidad Cesar Vallejo - Ucv</td><td>Universidad César Vallejo S.A.C.</td></tr><tr><td>630665bd9fa239004bde01b6</td><td>Instituto San Ignacio De Loyola - Isil</td><td>Universidad San Ignacio de Loyola S.R.L.</td></tr><tr><td>630665bd9fa239004bde01c6</td><td>Universidad Privada Del Norte</td><td>Universidad Privada del Norte S.A.C.</td></tr><tr><td>630665bd9fa239004bde01cd</td><td>Upla</td><td>Universidad Peruana Los Andes</td></tr><tr><td>630665bd9fa239004bde01ef</td><td>Universidad Privada Del Norte</td><td>Universidad Privada del Norte S.A.C.</td></tr><tr><td>630665bd9fa239004bde020c</td><td>Universidad Católica Santo Toribio De Mogrovejo</td><td>Universidad Católica Santo Toribio de Mogrovejo</td></tr><tr><td>630665bd9fa239004bde0214</td><td>Universidad Tecnológica Del Perú</td><td>Universidad Tecnológica del Perú S.A.C.</td></tr><tr><td>630665bd9fa239004bde0214</td><td>Unalm</td><td>Universidad Nacional Agraria La Molina</td></tr><tr><td>630665bd9fa239004bde021f</td><td>Universidad Tecnológica Del Perú</td><td>Universidad Tecnológica del Perú S.A.C.</td></tr><tr><td>630665bd9fa239004bde0225</td><td>Universidad Andina Del Cusco</td><td>Universidad Andina del Cusco</td></tr><tr><td>630665bd9fa239004bde022e</td><td>Universidad Privada Del Norte</td><td>Universidad Privada del Norte S.A.C.</td></tr><tr><td>630665bd9fa239004bde027f</td><td>Universidad Privada Del Norte</td><td>Universidad Privada del Norte S.A.C.</td></tr><tr><td>630665bd9fa239004bde0296</td><td>Santo Toribio De Mogrovejo</td><td>Universidad Católica Santo Toribio de Mogrovejo</td></tr><tr><td>630665bd9fa239004bde02b0</td><td>Universidad Peruana Los Andes</td><td>Universidad Peruana Los Andes</td></tr><tr><td>630665bd9fa239004bde02bb</td><td>Pontificia Universidad Católica Del Perú</td><td>Pontificia Universidad Católica del Perú</td></tr><tr><td>630665bd9fa239004bde02d9</td><td>Undac</td><td>Universidad Nacional Daniel Alcides Carrión</td></tr><tr><td>630665bd9fa239004bde02e0</td><td>Universidad Privada Antenor Orrego</td><td>Universidad Privada Antenor Orrego</td></tr><tr><td>630665bd9fa239004bde02e6</td><td>Universidad Andina Del Cusco</td><td>Universidad Andina del Cusco</td></tr><tr><td>630665bd9fa239004bde02ec</td><td>Universidad César Vallejo</td><td>Universidad César Vallejo S.A.C.</td></tr><tr><td>630665bd9fa239004bde02f4</td><td>Universidad Federico Villarreal</td><td>Universidad Nacional Federico Villarreal</td></tr><tr><td>630665bd9fa239004bde0300</td><td>Universidad Nacional De Piura</td><td>Universidad Nacional de Piura</td></tr><tr><td>630665bd9fa239004bde0307</td><td>Universidad Cesar Vallejo</td><td>Universidad César Vallejo S.A.C.</td></tr><tr><td>630665bd9fa239004bde0322</td><td>Universidad Privada César Vallejo</td><td>Universidad César Vallejo S.A.C.</td></tr><tr><td>630665bd9fa239004bde0340</td><td>Universidad Católica De Santa Maria</td><td>Universidad Católica de Santa María</td></tr><tr><td>630665bd9fa239004bde0347</td><td>Universidad Nacional Mayor De San Marcos</td><td>Universidad Nacional Mayor de San Marcos</td></tr><tr><td>630665bd9fa239004bde0362</td><td>Universidad Cesar Vallejo - Ucv</td><td>Universidad César Vallejo S.A.C.</td></tr><tr><td>630665bd9fa239004bde0368</td><td>Universidad Continental</td><td>Universidad Continental S.A.C.</td></tr><tr><td>630665bd9fa239004bde0382</td><td>Instituto San Ignacio De Loyola</td><td>Universidad San Ignacio de Loyola S.R.L.</td></tr><tr><td>630665bd9fa239004bde038a</td><td>Universidad Cesar Vallejo</td><td>Universidad César Vallejo S.A.C.</td></tr><tr><td>630665bd9fa239004bde0390</td><td>Universidad Nacional De Educación Enrique Guzmán Y Valle</td><td>Universidad Nacional de Educación Enrique Guzmán y Valle</td></tr><tr><td>630665bd9fa239004bde03a9</td><td>Universidad Peruana De Ciencias Aplicadas</td><td>Universidad Peruana de Ciencias Aplicadas S.A.C.</td></tr><tr><td>630665bd9fa239004bde03cf</td><td>Universidad Privada Del Norte</td><td>Universidad Privada del Norte S.A.C.</td></tr><tr><td>630665bd9fa239004bde03dd</td><td>Universidad Cesar Vallejo</td><td>Universidad César Vallejo S.A.C.</td></tr><tr><td>630665bd9fa239004bde0412</td><td>Universidad Andina Del Cusco</td><td>Universidad Andina del Cusco</td></tr><tr><td>630665bd9fa239004bde041a</td><td>Universidad Nacional De Trujillo</td><td>Universidad Nacional de Trujillo</td></tr><tr><td>630665bd9fa239004bde043f</td><td>Universidad Cesar Vallejo</td><td>Universidad César Vallejo S.A.C.</td></tr><tr><td>630665bd9fa239004bde046f</td><td>Universidad Privada Del Norte</td><td>Universidad Privada del Norte S.A.C.</td></tr><tr><td>630665bd9fa239004bde047e</td><td>Universidad Tecnologica Del Peru</td><td>Universidad Tecnológica del Perú S.A.C.</td></tr><tr><td>630665bd9fa239004bde0491</td><td>Universidad Tecnológica Del Perú</td><td>Universidad Tecnológica del Perú S.A.C.</td></tr><tr><td>630665bd9fa239004bde049f</td><td>Unife</td><td>Universidad Femenina del Sagrado Corazón</td></tr><tr><td>630665bd9fa239004bde04ab</td><td>Universidad Privada Del Norte</td><td>Universidad Privada del Norte S.A.C.</td></tr><tr><td>630665bd9fa239004bde04b8</td><td>Universidad Católica De Trujillo Benedicto Xvi</td><td>Universidad Católica de Trujillo Benedicto XVI</td></tr><tr><td>630665bd9fa239004bde04bf</td><td>Universidad Autónoma Del Perú</td><td>Universidad Autónoma del Perú S.A.C.</td></tr><tr><td>630665bd9fa239004bde04e9</td><td>Upn</td><td>Universidad Privada del Norte S.A.C.</td></tr><tr><td>630665bd9fa239004bde04fd</td><td>Universidad Cesar Vallejo - Ucv</td><td>Universidad César Vallejo S.A.C.</td></tr><tr><td>630665bd9fa239004bde0508</td><td>Universidad Nacional Del Callao</td><td>Universidad Nacional del Callao</td></tr><tr><td>630665bd9fa239004bde051f</td><td>Universidad Esan</td><td>Universidad ESAN</td></tr><tr><td>630665bd9fa239004bde052e</td><td>Instituto San Ignacio De Loyola</td><td>Universidad San Ignacio de Loyola S.R.L.</td></tr><tr><td>630665bd9fa239004bde0534</td><td>Universidad De San Martín De Porres</td><td>Universidad de San Martín de Porres</td></tr><tr><td>630665bd9fa239004bde053a</td><td>Universidad Cientifica Del Sur</td><td>Universidad Científica del Sur S.A.C.</td></tr><tr><td>630665bd9fa239004bde0541</td><td>Cesar Vallejo</td><td>Universidad César Vallejo S.A.C.</td></tr><tr><td>630665bd9fa239004bde0556</td><td>Universidad Nacional Del Altiplano</td><td>Universidad Nacional del Altiplano</td></tr><tr><td>630665bd9fa239004bde0562</td><td>Usat</td><td>Universidad Católica Santo Toribio de Mogrovejo</td></tr><tr><td>630665bd9fa239004bde0570</td><td>Universidad Cesar Vallejo</td><td>Universidad César Vallejo S.A.C.</td></tr><tr><td>630665bd9fa239004bde0580</td><td>Universidad Privada Del Norte</td><td>Universidad Privada del Norte S.A.C.</td></tr><tr><td>630665bd9fa239004bde0594</td><td>Universidad Cesar Vallejo</td><td>Universidad César Vallejo S.A.C.</td></tr><tr><td>630665bd9fa239004bde059a</td><td>Universidad Tecnológica Del Perú</td><td>Universidad Tecnológica del Perú S.A.C.</td></tr><tr><td>630665bd9fa239004bde05a4</td><td>Universidad Esan</td><td>Universidad ESAN</td></tr><tr><td>630665bd9fa239004bde05c3</td><td>Usil</td><td>Universidad San Ignacio de Loyola S.R.L.</td></tr><tr><td>630665bd9fa239004bde05d4</td><td>Universidad Ricardo Palma</td><td>Universidad Ricardo Palma</td></tr><tr><td>630665bd9fa239004bde05dc</td><td>Universidad Privada Del Norte</td><td>Universidad Privada del Norte S.A.C.</td></tr><tr><td>630665bd9fa239004bde05e4</td><td>Universidad Privada Del Norte</td><td>Universidad Privada del Norte S.A.C.</td></tr><tr><td>630665bd9fa239004bde05f4</td><td>Universidad Nacional De Ucayali</td><td>Universidad Nacional de Ucayali</td></tr><tr><td>630665bd9fa239004bde05f4</td><td>Universidad Nacional De Ucayali</td><td>Universidad Nacional de Ucayali</td></tr><tr><td>630665bd9fa239004bde0600</td><td>Universidad Nacional Del Callao - Unac</td><td>Universidad Nacional del Callao</td></tr><tr><td>630665bd9fa239004bde0618</td><td>Universidad Cesar Vallejo</td><td>Universidad César Vallejo S.A.C.</td></tr><tr><td>630665bd9fa239004bde0625</td><td>Universidad Católica San Pablo</td><td>Universidad Católica San Pablo</td></tr><tr><td>630665bd9fa239004bde062c</td><td>Universidad Nacional De Ingeniería</td><td>Universidad Nacional de Ingeniería</td></tr><tr><td>630665bd9fa239004bde0632</td><td>Universidad Femenina Del Sagrado Corazón</td><td>Universidad Femenina del Sagrado Corazón</td></tr><tr><td>630665bd9fa239004bde0632</td><td>Maria Auxiliadora - Chosica</td><td>Universidad María Auxiliadora S.A.C.</td></tr><tr><td>630665bd9fa239004bde063d</td><td>Universidad Privada Del Norte</td><td>Universidad Privada del Norte S.A.C.</td></tr><tr><td>630665bd9fa239004bde064f</td><td>Universidad Cesar Vallejo</td><td>Universidad César Vallejo S.A.C.</td></tr><tr><td>630665bd9fa239004bde0682</td><td>Universidad Privada Antenor Orrego</td><td>Universidad Privada Antenor Orrego</td></tr><tr><td>630665bd9fa239004bde0689</td><td>Universidad San Ignacio De Loyola</td><td>Universidad San Ignacio de Loyola S.R.L.</td></tr><tr><td>630665bd9fa239004bde06a9</td><td>Universidad Cesar Vallejo</td><td>Universidad César Vallejo S.A.C.</td></tr><tr><td>630665bd9fa239004bde06bf</td><td>Universidad Cesar Vallejo</td><td>Universidad César Vallejo S.A.C.</td></tr><tr><td>630665bd9fa239004bde06cb</td><td>Universidad San Ignacio De Loyola - Usil</td><td>Universidad San Ignacio de Loyola S.R.L.</td></tr><tr><td>630665bd9fa239004bde06d9</td><td>Unheval</td><td>Universidad Nacional Hermilio Valdizán de Huánuco</td></tr><tr><td>630665bd9fa239004bde06e7</td><td>Universidad Privada Del Norte</td><td>Universidad Privada del Norte S.A.C.</td></tr><tr><td>630665bd9fa239004bde06ef</td><td>Universidad De Huánuco</td><td>Universidad de Huánuco</td></tr><tr><td>630665bd9fa239004bde06f6</td><td>San Miguel De La Salle</td><td>Universidad La Salle</td></tr><tr><td>630665bd9fa239004bde0733</td><td>Universidad Católica Sedes Sapientiae</td><td>Universidad Católica Sedes Sapientiae</td></tr><tr><td>630665bd9fa239004bde073a</td><td>Universidad Privada Del Norte</td><td>Universidad Privada del Norte S.A.C.</td></tr><tr><td>630665bd9fa239004bde0740</td><td>Universidad Privada Del Norte</td><td>Universidad Privada del Norte S.A.C.</td></tr><tr><td>630665bd9fa239004bde074f</td><td>Universidad Nacional De La Amazonia Peruana (unap)</td><td>Universidad Nacional de la Amazonía Peruana</td></tr><tr><td>630665bd9fa239004bde075d</td><td>Universidad De Huánuco</td><td>Universidad de Huánuco</td></tr><tr><td>630665bd9fa239004bde0782</td><td>Universidad Del Pacifico</td><td>Universidad del Pacífico</td></tr><tr><td>630665bd9fa239004bde0789</td><td>Universidad Privada Antenor Orrego</td><td>Universidad Privada Antenor Orrego</td></tr><tr><td>630665bd9fa239004bde0790</td><td>Universidad Cesar Vallejo - Ucv</td><td>Universidad César Vallejo S.A.C.</td></tr><tr><td>630665bd9fa239004bde0799</td><td>Universidad Católica De Santa Maria</td><td>Universidad Católica de Santa María</td></tr><tr><td>630665bd9fa239004bde07a5</td><td>Universidad Privada Del Norte</td><td>Universidad Privada del Norte S.A.C.</td></tr><tr><td>630665bd9fa239004bde07ac</td><td>Universidad Privada Del Norte</td><td>Universidad Privada del Norte S.A.C.</td></tr><tr><td>630665bd9fa239004bde07cb</td><td>Universidad Cesar Vallejo</td><td>Universidad César Vallejo S.A.C.</td></tr><tr><td>630665bd9fa239004bde07da</td><td>Universidad San Ignacio De Loyola</td><td>Universidad San Ignacio de Loyola S.R.L.</td></tr><tr><td>630665bd9fa239004bde07e9</td><td>Universidad Tecnológica Del Perú</td><td>Universidad Tecnológica del Perú S.A.C.</td></tr><tr><td>630665bd9fa239004bde07f0</td><td>Upao</td><td>Universidad Privada Antenor Orrego</td></tr><tr><td>630665bd9fa239004bde0802</td><td>Universidad Nacional Mayor De San Marcos</td><td>Universidad Nacional Mayor de San Marcos</td></tr><tr><td>630665bd9fa239004bde0809</td><td>Universidad Cesar Vallejo</td><td>Universidad César Vallejo S.A.C.</td></tr><tr><td>630665bd9fa239004bde0843</td><td>Universidad De Piura</td><td>Universidad de Piura</td></tr><tr><td>630665bd9fa239004bde0849</td><td>Universidad César Vallejo</td><td>Universidad César Vallejo S.A.C.</td></tr><tr><td>630665bd9fa239004bde0866</td><td>Universidad Tecnológica Del Perú</td><td>Universidad Tecnológica del Perú S.A.C.</td></tr><tr><td>630665bd9fa239004bde086d</td><td>Universidad Privada Del Norte</td><td>Universidad Privada del Norte S.A.C.</td></tr><tr><td>630665bd9fa239004bde0875</td><td>Institución Educativa María Auxiliadora-chulucanas</td><td>Universidad María Auxiliadora S.A.C.</td></tr><tr><td>630665bd9fa239004bde087c</td><td>Universidad Tecnológica Del Perú (utp)</td><td>Universidad Tecnológica del Perú S.A.C.</td></tr><tr><td>630665bd9fa239004bde088a</td><td>Universidad Católica De Trujillo Benedicto Xvi</td><td>Universidad Católica de Trujillo Benedicto XVI</td></tr><tr><td>630665bd9fa239004bde08a2</td><td>Universidad Cesar Vallejo</td><td>Universidad César Vallejo S.A.C.</td></tr><tr><td>630665bd9fa239004bde08bc</td><td>Universidad Cesar Vallejo</td><td>Universidad César Vallejo S.A.C.</td></tr><tr><td>630665bd9fa239004bde08de</td><td>Universidad Nacional De Piura</td><td>Universidad Nacional de Piura</td></tr><tr><td>630665bd9fa239004bde08de</td><td>Iep Federico Villarreal</td><td>Universidad Nacional Federico Villarreal</td></tr><tr><td>630665bd9fa239004bde08f2</td><td>Universidad Privada Del Norte</td><td>Universidad Privada del Norte S.A.C.</td></tr><tr><td>630665bd9fa239004bde0902</td><td>Universidad Privada Del Norte</td><td>Universidad Privada del Norte S.A.C.</td></tr><tr><td>630665bd9fa239004bde090a</td><td>Universidad Privada Del Norte</td><td>Universidad Privada del Norte S.A.C.</td></tr><tr><td>630665bd9fa239004bde092d</td><td>Pontificia Universidad Católica Del Perú</td><td>Pontificia Universidad Católica del Perú</td></tr><tr><td>630665bd9fa239004bde0936</td><td>Universidad De Piura</td><td>Universidad de Piura</td></tr><tr><td>630665bd9fa239004bde0944</td><td>Universidad Privada Del Norte</td><td>Universidad Privada del Norte S.A.C.</td></tr><tr><td>630665bd9fa239004bde094a</td><td>Universidad César Vallejo</td><td>Universidad César Vallejo S.A.C.</td></tr><tr><td>630665bd9fa239004bde095c</td><td>Universidad Nacional Micaela Bastidas De Apurímac</td><td>Universidad Nacional Micaela Bastidas de Apurímac</td></tr><tr><td>630665bd9fa239004bde0964</td><td>Universidad Privada Del Norte</td><td>Universidad Privada del Norte S.A.C.</td></tr><tr><td>630665bd9fa239004bde096e</td><td>Universidad Privada Cesar Vallejo</td><td>Universidad César Vallejo S.A.C.</td></tr><tr><td>630665bd9fa239004bde097c</td><td>Pontificia Universidad Católica Del Perú</td><td>Pontificia Universidad Católica del Perú</td></tr><tr><td>630665bd9fa239004bde0988</td><td>Universidad Peruana De Ciencias Aplicadas</td><td>Universidad Peruana de Ciencias Aplicadas S.A.C.</td></tr><tr><td>630665bd9fa239004bde0988</td><td>Universidad Nacional José Faustino Sánchez Carrión</td><td>Universidad Nacional José Faustino Sánchez Carrión</td></tr><tr><td>630665bd9fa239004bde09a0</td><td>Universidad Nacional De Piura</td><td>Universidad Nacional de Piura</td></tr><tr><td>630665bd9fa239004bde09ad</td><td>Universidad Privada Del Norte</td><td>Universidad Privada del Norte S.A.C.</td></tr><tr><td>630665bd9fa239004bde09b4</td><td>Universidad Andina Del Cusco</td><td>Universidad Andina del Cusco</td></tr><tr><td>630665bd9fa239004bde09c1</td><td>Universidad Privada Del Norte - Upn</td><td>Universidad Privada del Norte S.A.C.</td></tr><tr><td>630665bd9fa239004bde09c9</td><td>Universidad Continental</td><td>Universidad Continental S.A.C.</td></tr><tr><td>630665bd9fa239004bde09d4</td><td>Universidad Nacional De Trujillo</td><td>Universidad Nacional de Trujillo</td></tr><tr><td>630665bd9fa239004bde09e2</td><td>Universidad Nacional José Faustino  Sánchez Carrión</td><td>Universidad Nacional José Faustino Sánchez Carrión</td></tr><tr><td>630665bd9fa239004bde09eb</td><td>Universidad Privada Del Norte</td><td>Universidad Privada del Norte S.A.C.</td></tr><tr><td>630665bd9fa239004bde09f4</td><td>Universidad Peruana De Ciencias Aplicadas</td><td>Universidad Peruana de Ciencias Aplicadas S.A.C.</td></tr><tr><td>630665bd9fa239004bde0a07</td><td>Upc</td><td>Universidad Peruana de Ciencias Aplicadas S.A.C.</td></tr><tr><td>630665bd9fa239004bde0a12</td><td>Universidad Esan</td><td>Universidad ESAN</td></tr><tr><td>630665bd9fa239004bde0a30</td><td>Upt</td><td>Universidad Privada de Tacna</td></tr><tr><td>630665bd9fa239004bde0a4d</td><td>Universidad Privada Del Norte</td><td>Universidad Privada del Norte S.A.C.</td></tr><tr><td>630665bd9fa239004bde0a61</td><td>Universidad De San Martin De Porres</td><td>Universidad de San Martín de Porres</td></tr><tr><td>630665bd9fa239004bde0a76</td><td>Universidad San Martin De Porres</td><td>Universidad de San Martín de Porres</td></tr><tr><td>630665bd9fa239004bde0a88</td><td>Universidad Cesar Vallejo</td><td>Universidad César Vallejo S.A.C.</td></tr><tr><td>630665bd9fa239004bde0a8f</td><td>Universidad Nacional Federico Villarreal</td><td>Universidad Nacional Federico Villarreal</td></tr><tr><td>630665bd9fa239004bde0a95</td><td>Universidad Privada Del Norte - Unp</td><td>Universidad Privada del Norte S.A.C.</td></tr><tr><td>630665bd9fa239004bde0aa8</td><td>Universidad Cesar Vallejo</td><td>Universidad César Vallejo S.A.C.</td></tr><tr><td>630665bd9fa239004bde0aaf</td><td>Universidad Privada Del Norte - Upn</td><td>Universidad Privada del Norte S.A.C.</td></tr><tr><td>630665bd9fa239004bde0abe</td><td>Universidad Privada Del Norte</td><td>Universidad Privada del Norte S.A.C.</td></tr><tr><td>630665bd9fa239004bde0add</td><td>Universidad San Ignacio De Loyola</td><td>Universidad San Ignacio de Loyola S.R.L.</td></tr><tr><td>630665bd9fa239004bde0ae4</td><td>Universidad Privada Antenor Orrego</td><td>Universidad Privada Antenor Orrego</td></tr><tr><td>630665bd9fa239004bde0aea</td><td>San Martin De Porres</td><td>Universidad de San Martín de Porres</td></tr><tr><td>630665bd9fa239004bde0af9</td><td>Universidad Nacional Micaela Bastidas De Apurímac</td><td>Universidad Nacional Micaela Bastidas de Apurímac</td></tr><tr><td>630665bd9fa239004bde0b01</td><td>Universidad Cesar Vallejo - Ucv</td><td>Universidad César Vallejo S.A.C.</td></tr><tr><td>630665bd9fa239004bde0b16</td><td>Universidad Nacional Jose Faustino Sanchez Carrion</td><td>Universidad Nacional José Faustino Sánchez Carrión</td></tr><tr><td>630665bd9fa239004bde0b22</td><td>Universidad Privada De Tacna</td><td>Universidad Privada de Tacna</td></tr><tr><td>630665bd9fa239004bde0b39</td><td>Univresidad Peruana Unión</td><td>Universidad Peruana Unión</td></tr><tr><td>630665bd9fa239004bde0b45</td><td>Universidad Privada Antenor Orrego</td><td>Universidad Privada Antenor Orrego</td></tr><tr><td>630665bd9fa239004bde0b69</td><td>Universidad Católica De Santa María</td><td>Universidad Católica de Santa María</td></tr><tr><td>630665bd9fa239004bde0b77</td><td>Universidad Privada Del Norte</td><td>Universidad Privada del Norte S.A.C.</td></tr><tr><td>630665bd9fa239004bde0b9b</td><td>Universidad Peruana De Ciencias Aplicadas</td><td>Universidad Peruana de Ciencias Aplicadas S.A.C.</td></tr><tr><td>630665bd9fa239004bde0ba2</td><td>Universidad César Vallejo</td><td>Universidad César Vallejo S.A.C.</td></tr><tr><td>630665bd9fa239004bde0bb3</td><td>Univeraidad Cesar Vallejo</td><td>Universidad César Vallejo S.A.C.</td></tr><tr><td>630665bd9fa239004bde0bbe</td><td>Universidad Peruana De Ciencias Aplicadas (upc)</td><td>Universidad Peruana de Ciencias Aplicadas S.A.C.</td></tr><tr><td>630665bd9fa239004bde0bca</td><td>Universidad Nacional De La Amazonía Peruana</td><td>Universidad Nacional de la Amazonía Peruana</td></tr><tr><td>630665bd9fa239004bde0bd1</td><td>Universidad Tecnológica Del Perú</td><td>Universidad Tecnológica del Perú S.A.C.</td></tr><tr><td>630665bd9fa239004bde0bfe</td><td>Universidad Cesar Vallejo</td><td>Universidad César Vallejo S.A.C.</td></tr><tr><td>630665bd9fa239004bde0c05</td><td>Upn</td><td>Universidad Privada del Norte S.A.C.</td></tr><tr><td>630665bd9fa239004bde0c1a</td><td>Universidad Privada San Juan Bautista</td><td>Universidad Privada San Juan Bautista S.A.C.</td></tr><tr><td>630665bd9fa239004bde0c21</td><td>Universidad Cesar Vallejo</td><td>Universidad César Vallejo S.A.C.</td></tr><tr><td>630665bd9fa239004bde0c29</td><td>Universidad Tecnológica Del Perú</td><td>Universidad Tecnológica del Perú S.A.C.</td></tr><tr><td>630665bd9fa239004bde0c35</td><td>Universidad Peruana Los Andes (upla)</td><td>Universidad Peruana Los Andes</td></tr><tr><td>630665bd9fa239004bde0c3f</td><td>Universidad Continental</td><td>Universidad Continental S.A.C.</td></tr><tr><td>630665bd9fa239004bde0c5c</td><td>Universidad Privada Del Norte</td><td>Universidad Privada del Norte S.A.C.</td></tr><tr><td>630665bd9fa239004bde0c6c</td><td>Universidad Privada Del Norte</td><td>Universidad Privada del Norte S.A.C.</td></tr><tr><td>630665bd9fa239004bde0c72</td><td>Universidad Tecnológica Del Perú</td><td>Universidad Tecnológica del Perú S.A.C.</td></tr><tr><td>630665bd9fa239004bde0c7b</td><td>Universidad Privada Del Norte</td><td>Universidad Privada del Norte S.A.C.</td></tr><tr><td>630665bd9fa239004bde0c82</td><td>Universidad Tecnologica Del Peru</td><td>Universidad Tecnológica del Perú S.A.C.</td></tr><tr><td>630665bd9fa239004bde0c89</td><td>Universidad Cesar Vallejo</td><td>Universidad César Vallejo S.A.C.</td></tr><tr><td>630665bd9fa239004bde0cb7</td><td>Universidad Privada Del Norte</td><td>Universidad Privada del Norte S.A.C.</td></tr><tr><td>630665bd9fa239004bde0cde</td><td>Universidad Científica Del Sur</td><td>Universidad Científica del Sur S.A.C.</td></tr><tr><td>630665bd9fa239004bde0ce6</td><td>Universidad Privada Del Norte</td><td>Universidad Privada del Norte S.A.C.</td></tr><tr><td>630665bd9fa239004bde0ced</td><td>Universidad Privada Del Norte</td><td>Universidad Privada del Norte S.A.C.</td></tr><tr><td>630665bd9fa239004bde0d04</td><td>Universidad Católica Santo Toribio De Mogrovejo</td><td>Universidad Católica Santo Toribio de Mogrovejo</td></tr><tr><td>630665bd9fa239004bde0d0a</td><td>Universidad Católica Sedes Sapientiae</td><td>Universidad Católica Sedes Sapientiae</td></tr><tr><td>630665bd9fa239004bde0d18</td><td>Universidad Tecnologica Del Peru</td><td>Universidad Tecnológica del Perú S.A.C.</td></tr><tr><td>630665bd9fa239004bde0d2b</td><td>Universidad San Ignacio De Loyola</td><td>Universidad San Ignacio de Loyola S.R.L.</td></tr><tr><td>630665bd9fa239004bde0d4d</td><td>Universidad César Vallejo</td><td>Universidad César Vallejo S.A.C.</td></tr><tr><td>630665bd9fa239004bde0d96</td><td>Universidad San Ignacio De Loyola - Usil</td><td>Universidad San Ignacio de Loyola S.R.L.</td></tr><tr><td>630665bd9fa239004bde0da0</td><td>Universidad Cesar Vallejo - Ucv</td><td>Universidad César Vallejo S.A.C.</td></tr><tr><td>630665bd9fa239004bde0dba</td><td>Universidad Ricardo Palma</td><td>Universidad Ricardo Palma</td></tr><tr><td>630665bd9fa239004bde0dc1</td><td>Universidad De Piura</td><td>Universidad de Piura</td></tr><tr><td>630665bd9fa239004bde0dc7</td><td>Universidad Católica San Pablo</td><td>Universidad Católica San Pablo</td></tr><tr><td>630665bd9fa239004bde0de2</td><td>Universidad Peruana De Ciencias Aplicadas</td><td>Universidad Peruana de Ciencias Aplicadas S.A.C.</td></tr><tr><td>630665bd9fa239004bde0def</td><td>Instituto Continental</td><td>Universidad Continental S.A.C.</td></tr><tr><td>630665bd9fa239004bde0df5</td><td>Universidad Privada Del Norte - Upn</td><td>Universidad Privada del Norte S.A.C.</td></tr><tr><td>630665bd9fa239004bde0e0b</td><td>Universidad Antonio Ruiz De Montoya</td><td>Universidad Antonio Ruiz de Montoya</td></tr><tr><td>630665bd9fa239004bde0e11</td><td>Universidad Nacional De Piura</td><td>Universidad Nacional de Piura</td></tr><tr><td>630665bd9fa239004bde0e4b</td><td>Universidad Peruana De Ciencias Aplicadas</td><td>Universidad Peruana de Ciencias Aplicadas S.A.C.</td></tr><tr><td>630665bd9fa239004bde0e61</td><td>Universidad Tecnológica Del Perú</td><td>Universidad Tecnológica del Perú S.A.C.</td></tr><tr><td>630665bd9fa239004bde0e7a</td><td>Universidad Peruana Unión</td><td>Universidad Peruana Unión</td></tr><tr><td>630665bd9fa239004bde0e83</td><td>Universidad Privada Del Norte</td><td>Universidad Privada del Norte S.A.C.</td></tr><tr><td>630665bd9fa239004bde0e8a</td><td>Universidad César Vallejo</td><td>Universidad César Vallejo S.A.C.</td></tr><tr><td>630665bd9fa239004bde0e8a</td><td>Universidad César Vallejo</td><td>Universidad César Vallejo S.A.C.</td></tr><tr><td>630665bd9fa239004bde0e8a</td><td>Universidad César Vallejo</td><td>Universidad César Vallejo S.A.C.</td></tr><tr><td>630665bd9fa239004bde0ea9</td><td>Universidad Nacional De La Amazonia Peruana</td><td>Universidad Nacional de la Amazonía Peruana</td></tr><tr><td>630665bd9fa239004bde0ed2</td><td>Universidad Autonoma Del Peru</td><td>Universidad Autónoma del Perú S.A.C.</td></tr><tr><td>630665bd9fa239004bde0ee6</td><td>Universidad De Lima</td><td>Universidad de Lima</td></tr><tr><td>630665bd9fa239004bde0f0b</td><td>Universidad Peruana De Ciencias Aplicadas - Upc</td><td>Universidad Peruana de Ciencias Aplicadas S.A.C.</td></tr><tr><td>630665bd9fa239004bde0f2c</td><td>Universidad San Ignacio De Loyola - Usil</td><td>Universidad San Ignacio de Loyola S.R.L.</td></tr><tr><td>630665bd9fa239004bde0f4b</td><td>Universidad Nacional De Fronteras</td><td>Universidad Nacional de Frontera</td></tr><tr><td>630665bd9fa239004bde0f53</td><td>Universidad Privada Del Norte - Upn</td><td>Universidad Privada del Norte S.A.C.</td></tr><tr><td>630665bd9fa239004bde0f60</td><td>Universidad Privada Del Norte</td><td>Universidad Privada del Norte S.A.C.</td></tr><tr><td>630665bd9fa239004bde0f83</td><td>Universidad Cesar Vallejo</td><td>Universidad César Vallejo S.A.C.</td></tr><tr><td>630665bd9fa239004bde0f8a</td><td>Universidad Tecnológica Del Perú - Utp</td><td>Universidad Tecnológica del Perú S.A.C.</td></tr><tr><td>630665bd9fa239004bde0fa2</td><td>Universidad Nacional Agraria La Molina - La Molina</td><td>Universidad Nacional Agraria La Molina</td></tr><tr><td>630665bd9fa239004bde0fbb</td><td>Universidad César Vallejo</td><td>Universidad César Vallejo S.A.C.</td></tr><tr><td>630665bd9fa239004bde0fe5</td><td>Universidad De Piura</td><td>Universidad de Piura</td></tr><tr><td>630665bd9fa239004bde0fed</td><td>Universidad Cesar Vallejo</td><td>Universidad César Vallejo S.A.C.</td></tr><tr><td>630665bd9fa239004bde0ff5</td><td>Universidad Autónoma Del Perú - Ua</td><td>Universidad Autónoma del Perú S.A.C.</td></tr><tr><td>630665bd9fa239004bde0ffe</td><td>Instituto Continental</td><td>Universidad Continental S.A.C.</td></tr><tr><td>630665bd9fa239004bde1004</td><td>Pontificia Universidad Católica Del Perú</td><td>Pontificia Universidad Católica del Perú</td></tr><tr><td>630665bd9fa239004bde100f</td><td>Universidad Privada Del Norte</td><td>Universidad Privada del Norte S.A.C.</td></tr><tr><td>630665bd9fa239004bde101e</td><td>Udep</td><td>Universidad de Piura</td></tr><tr><td>630665bd9fa239004bde1035</td><td>Universidad Nacional De Piura</td><td>Universidad Nacional de Piura</td></tr><tr><td>630665bd9fa239004bde104c</td><td>Universidad Andina Del Cusco</td><td>Universidad Andina del Cusco</td></tr><tr><td>630665bd9fa239004bde1053</td><td>Upn</td><td>Universidad Privada del Norte S.A.C.</td></tr><tr><td>630665bd9fa239004bde105c</td><td>Universidad Ricardo Palma</td><td>Universidad Ricardo Palma</td></tr><tr><td>630665bd9fa239004bde1077</td><td>Universidad Privada Del Norte</td><td>Universidad Privada del Norte S.A.C.</td></tr><tr><td>630665bd9fa239004bde1084</td><td>Universidad Privada Antenor Orrego</td><td>Universidad Privada Antenor Orrego</td></tr><tr><td>630665bd9fa239004bde1093</td><td>Universidad Nacional De Piura</td><td>Universidad Nacional de Piura</td></tr><tr><td>630665bd9fa239004bde10ae</td><td>Universidad Cesar Vallejo</td><td>Universidad César Vallejo S.A.C.</td></tr><tr><td>630665bd9fa239004bde10ae</td><td>Universidad Cesar Vallejo</td><td>Universidad César Vallejo S.A.C.</td></tr><tr><td>630665bd9fa239004bde10bd</td><td>Universidad De San Martin De Porres - Usmp</td><td>Universidad de San Martín de Porres</td></tr><tr><td>630665bd9fa239004bde10d2</td><td>Instituto San Ignacio De Loyola (isil)</td><td>Universidad San Ignacio de Loyola S.R.L.</td></tr><tr><td>630665bd9fa239004bde10f8</td><td>Usil</td><td>Universidad San Ignacio de Loyola S.R.L.</td></tr><tr><td>630665bd9fa239004bde1112</td><td>Universidad Privada Norbert Wiener</td><td>Universidad Privada Norbert Wiener S.A.</td></tr><tr><td>630665bd9fa239004bde1142</td><td>Universidad Nacional Mayor De San Marcos</td><td>Universidad Nacional Mayor de San Marcos</td></tr><tr><td>630665bd9fa239004bde1148</td><td>Upao</td><td>Universidad Privada Antenor Orrego</td></tr><tr><td>630665bd9fa239004bde115f</td><td>Universidad Privada San Juan Bautista - Upsjb</td><td>Universidad Privada San Juan Bautista S.A.C.</td></tr><tr><td>630665bd9fa239004bde119f</td><td>Universidad Privada Del Norte</td><td>Universidad Privada del Norte S.A.C.</td></tr><tr><td>630665bd9fa239004bde11ab</td><td>Universidad Cesar Vallejo</td><td>Universidad César Vallejo S.A.C.</td></tr><tr><td>630665bd9fa239004bde11b4</td><td>Universidad Privada Del Norte</td><td>Universidad Privada del Norte S.A.C.</td></tr><tr><td>630665bd9fa239004bde11bc</td><td>Universidad Privada Antenor Orrego</td><td>Universidad Privada Antenor Orrego</td></tr><tr><td>630665bd9fa239004bde11c4</td><td>Universidad De San Martín De Porres</td><td>Universidad de San Martín de Porres</td></tr><tr><td>630665bd9fa239004bde11ea</td><td>Universidad Privada Del Norte</td><td>Universidad Privada del Norte S.A.C.</td></tr><tr><td>630665bd9fa239004bde11fa</td><td>Universidad Privada Del Norte - Upn</td><td>Universidad Privada del Norte S.A.C.</td></tr><tr><td>630665bd9fa239004bde11fa</td><td>Universidad Peruana Los Andes - Upla</td><td>Universidad Peruana Los Andes</td></tr><tr><td>630665bd9fa239004bde120d</td><td>Universidad San Martín De Porres</td><td>Universidad de San Martín de Porres</td></tr><tr><td>630665bd9fa239004bde1214</td><td>Universidad Privada Del Norte - Unp</td><td>Universidad Privada del Norte S.A.C.</td></tr><tr><td>630665bd9fa239004bde121a</td><td>Universidad Nacional Del Centro Del Perú</td><td>Universidad Nacional del Centro del Perú</td></tr><tr><td>630665bd9fa239004bde1242</td><td>Universidad Peruana Los Andes</td><td>Universidad Peruana Los Andes</td></tr><tr><td>630665bd9fa239004bde126c</td><td>Ricardo Palma</td><td>Universidad Ricardo Palma</td></tr><tr><td>630665bd9fa239004bde127a</td><td>Universidad César Vallejo</td><td>Universidad César Vallejo S.A.C.</td></tr><tr><td>630665bd9fa239004bde1303</td><td>Universidad Andina Del Cusco</td><td>Universidad Andina del Cusco</td></tr><tr><td>630665bd9fa239004bde1309</td><td>Escuela Tecnica Superior De Universidad Nacional De Piura</td><td>Universidad Nacional de Piura</td></tr><tr><td>630665bd9fa239004bde1318</td><td>Universidad Tecnológica Del Perú</td><td>Universidad Tecnológica del Perú S.A.C.</td></tr><tr><td>630665bd9fa239004bde1330</td><td>Universidad Privada Del Norte</td><td>Universidad Privada del Norte S.A.C.</td></tr><tr><td>630665bd9fa239004bde1330</td><td>Universidad San Martin De Porres</td><td>Universidad de San Martín de Porres</td></tr><tr><td>630665bd9fa239004bde1344</td><td>Universidad San Ignacio De Loyola</td><td>Universidad San Ignacio de Loyola S.R.L.</td></tr><tr><td>630665bd9fa239004bde134d</td><td>Universidad Ricardo Palma</td><td>Universidad Ricardo Palma</td></tr><tr><td>630665bd9fa239004bde137e</td><td>Universidad Peruana De Ciencias Aplicadas</td><td>Universidad Peruana de Ciencias Aplicadas S.A.C.</td></tr><tr><td>630665bd9fa239004bde1386</td><td>Universidad Cesar Vallejo - Ucv</td><td>Universidad César Vallejo S.A.C.</td></tr><tr><td>630665bd9fa239004bde13f6</td><td>Universidad Privada Del Norte</td><td>Universidad Privada del Norte S.A.C.</td></tr><tr><td>630665bd9fa239004bde13f6</td><td>Universidad Privada Del Norte</td><td>Universidad Privada del Norte S.A.C.</td></tr><tr><td>630665bd9fa239004bde13fe</td><td>Universidad Privada Del Norte</td><td>Universidad Privada del Norte S.A.C.</td></tr><tr><td>630665bd9fa239004bde1408</td><td>Universidad Peruana De Ciencias Aplicadas</td><td>Universidad Peruana de Ciencias Aplicadas S.A.C.</td></tr><tr><td>630665bd9fa239004bde1429</td><td>Universidad Nacional Del Callao</td><td>Universidad Nacional del Callao</td></tr><tr><td>630665bd9fa239004bde1430</td><td>Universidad Peruana Los Andes</td><td>Universidad Peruana Los Andes</td></tr><tr><td>630665bd9fa239004bde144b</td><td>Universidad Privada Del Norte</td><td>Universidad Privada del Norte S.A.C.</td></tr><tr><td>630665bd9fa239004bde1484</td><td>Universidad Cesar Vallejo</td><td>Universidad César Vallejo S.A.C.</td></tr><tr><td>630665bd9fa239004bde148b</td><td>Universidad Nacional De Jaén</td><td>Universidad Nacional de Jaén</td></tr><tr><td>630665bd9fa239004bde1492</td><td>Cesar Vallejo</td><td>Universidad César Vallejo S.A.C.</td></tr><tr><td>630665bd9fa239004bde149a</td><td>Universidad Privada Antenor Orrego</td><td>Universidad Privada Antenor Orrego</td></tr><tr><td>630665bd9fa239004bde14ae</td><td>Universidad Autónoma Del Perú</td><td>Universidad Autónoma del Perú S.A.C.</td></tr><tr><td>630665bd9fa239004bde14b5</td><td>Universidad De San Martín De Porres</td><td>Universidad de San Martín de Porres</td></tr><tr><td>630665bd9fa239004bde14ca</td><td>Universidad Tecnológica Del Perú</td><td>Universidad Tecnológica del Perú S.A.C.</td></tr><tr><td>630665bd9fa239004bde14d9</td><td>Universidad San Ignacio De Loyola</td><td>Universidad San Ignacio de Loyola S.R.L.</td></tr><tr><td>630665bd9fa239004bde14f0</td><td>Universidad Cesar Vallejo</td><td>Universidad César Vallejo S.A.C.</td></tr><tr><td>630665bd9fa239004bde14f9</td><td>Autónoma Del Perú</td><td>Universidad Autónoma del Perú S.A.C.</td></tr><tr><td>630665bd9fa239004bde150d</td><td>Universidad Privada Del Norte</td><td>Universidad Privada del Norte S.A.C.</td></tr><tr><td>630665bd9fa239004bde1514</td><td>Universidad Peruana De Ciencias Aplicadas</td><td>Universidad Peruana de Ciencias Aplicadas S.A.C.</td></tr><tr><td>630665bd9fa239004bde1529</td><td>Universidad Cesar Vallejo</td><td>Universidad César Vallejo S.A.C.</td></tr><tr><td>630665bd9fa239004bde1570</td><td>Upn</td><td>Universidad Privada del Norte S.A.C.</td></tr><tr><td>630665bd9fa239004bde157f</td><td>Universidad Privada Del Norte</td><td>Universidad Privada del Norte S.A.C.</td></tr><tr><td>630665bd9fa239004bde158e</td><td>Universidad Cesar Vallejo</td><td>Universidad César Vallejo S.A.C.</td></tr><tr><td>630665bd9fa239004bde1597</td><td>Universidad Nacional Del Centro Del Perú</td><td>Universidad Nacional del Centro del Perú</td></tr><tr><td>630665bd9fa239004bde15a6</td><td>Universidad Femenina Del Sagrado Corazon</td><td>Universidad Femenina del Sagrado Corazón</td></tr><tr><td>630665bd9fa239004bde15a6</td><td>Universidad Nacional De Ingeniería</td><td>Universidad Nacional de Ingeniería</td></tr><tr><td>630665bd9fa239004bde15b3</td><td>Universidad Nacional De Trujillo</td><td>Universidad Nacional de Trujillo</td></tr><tr><td>630665bd9fa239004bde15bb</td><td>Universidad Nacional Mayor De San Marcos</td><td>Universidad Nacional Mayor de San Marcos</td></tr><tr><td>630665bd9fa239004bde15c1</td><td>Universida Peruana De Ciencias Aplicadas</td><td>Universidad Peruana de Ciencias Aplicadas S.A.C.</td></tr><tr><td>630665bd9fa239004bde15d4</td><td>Autónoma Del Perú</td><td>Universidad Autónoma del Perú S.A.C.</td></tr><tr><td>630665bd9fa239004bde15df</td><td>Instituto Continental</td><td>Universidad Continental S.A.C.</td></tr><tr><td>630665bd9fa239004bde15e6</td><td>Universidad César Vallejo</td><td>Universidad César Vallejo S.A.C.</td></tr><tr><td>630665bd9fa239004bde15ef</td><td>Universidad Tecnológica Del Perú</td><td>Universidad Tecnológica del Perú S.A.C.</td></tr><tr><td>630665bd9fa239004bde1616</td><td>Universidad Tecnológica Del Perú - Utp</td><td>Universidad Tecnológica del Perú S.A.C.</td></tr><tr><td>630665bd9fa239004bde161c</td><td>Universidad Cesar Vallejo</td><td>Universidad César Vallejo S.A.C.</td></tr><tr><td>630665bd9fa239004bde1623</td><td>Universidad Tecnológica Del Perú</td><td>Universidad Tecnológica del Perú S.A.C.</td></tr><tr><td>630665bd9fa239004bde162e</td><td>Universidad Cesar Vallejo</td><td>Universidad César Vallejo S.A.C.</td></tr><tr><td>630665bd9fa239004bde1635</td><td>Universidad Privada Del Norte</td><td>Universidad Privada del Norte S.A.C.</td></tr><tr><td>630665bd9fa239004bde163c</td><td>Universidad Cesar Vallejo</td><td>Universidad César Vallejo S.A.C.</td></tr><tr><td>630665bd9fa239004bde165d</td><td>Universidad Peruana De Ciencias Aplicadas</td><td>Universidad Peruana de Ciencias Aplicadas S.A.C.</td></tr><tr><td>630665bd9fa239004bde1690</td><td>Universidad Nacional Agraria La Molina</td><td>Universidad Nacional Agraria La Molina</td></tr><tr><td>630665bd9fa239004bde1690</td><td>I.e.p. San Marcos</td><td>Universidad Nacional Mayor de San Marcos</td></tr><tr><td>630665bd9fa239004bde169e</td><td>Universida Privada Norbert Wiener</td><td>Universidad Privada Norbert Wiener S.A.</td></tr><tr><td>630665bd9fa239004bde16a6</td><td>Instituto San Ignacio De Loyola</td><td>Universidad San Ignacio de Loyola S.R.L.</td></tr><tr><td>630665bd9fa239004bde16ac</td><td>Universidad Autónoma Del Perú</td><td>Universidad Autónoma del Perú S.A.C.</td></tr><tr><td>630665bd9fa239004bde16c7</td><td>Universidad Privada Antenor Orrego</td><td>Universidad Privada Antenor Orrego</td></tr><tr><td>630665bd9fa239004bde16ce</td><td>Universidad Antonio Ruiz De Montoya</td><td>Universidad Antonio Ruiz de Montoya</td></tr><tr><td>630665bd9fa239004bde16d7</td><td>Universidad Nacional De Cañete</td><td>Universidad Nacional de Cañete</td></tr><tr><td>630665bd9fa239004bde16ec</td><td>Universidad Nacional De Frontera</td><td>Universidad Nacional de Frontera</td></tr><tr><td>630665bd9fa239004bde171d</td><td>Universidad Privada Del Norte</td><td>Universidad Privada del Norte S.A.C.</td></tr><tr><td>630665bd9fa239004bde172a</td><td>Universidad San Martin De Porres</td><td>Universidad de San Martín de Porres</td></tr><tr><td>630665bd9fa239004bde1740</td><td>Universidad Privada Del Norte</td><td>Universidad Privada del Norte S.A.C.</td></tr><tr><td>630665b8594e18004af05b81</td><td>Universidad Tecnológica Del Perú</td><td>Universidad Tecnológica del Perú S.A.C.</td></tr><tr><td>630665bd9fa239004bde14a7</td><td>Universidad Cesar Vallejo</td><td>Universidad César Vallejo S.A.C.</td></tr><tr><td>63067656d7fa700008e7ffe9</td><td>Upc</td><td>Universidad Peruana de Ciencias Aplicadas S.A.C.</td></tr><tr><td>630665bd9fa239004bde0163</td><td>Universidad Científica Del Sur</td><td>Universidad Científica del Sur S.A.C.</td></tr><tr><td>630665b8594e18004af05cd3</td><td>Universidad San Martin De Porres</td><td>Universidad de San Martín de Porres</td></tr><tr><td>630682aed7fa700008e8054d</td><td>Universidad Tecnológica Del Perú - Utp</td><td>Universidad Tecnológica del Perú S.A.C.</td></tr><tr><td>63068e62d7fa700008e80ffa</td><td>Ucv</td><td>Universidad César Vallejo S.A.C.</td></tr><tr><td>6306905d0b25100008422f63</td><td>Utp</td><td>Universidad Tecnológica del Perú S.A.C.</td></tr><tr><td>6306a40a1e599d0009d71271</td><td>Utp</td><td>Universidad Tecnológica del Perú S.A.C.</td></tr><tr><td>630665bd9fa239004bde06d4</td><td>Cesar Vallejo</td><td>Universidad César Vallejo S.A.C.</td></tr><tr><td>6306bbf00b251000084247f7</td><td>Enrique Guzmán Y Valle</td><td>Universidad Nacional de Educación Enrique Guzmán y Valle</td></tr><tr><td>6306bbf00b251000084247f7</td><td>Universidad Nacional Enrique Guzmán Y Valle</td><td>Universidad Nacional de Educación Enrique Guzmán y Valle</td></tr><tr><td>6306c22629da5b0008a08e6c</td><td>Universidad San Ignacio De Loyola</td><td>Universidad San Ignacio de Loyola S.R.L.</td></tr><tr><td>6306c22629da5b0008a08e6c</td><td>Instituto San Ignacio De Loyola</td><td>Universidad San Ignacio de Loyola S.R.L.</td></tr><tr><td>6306ca151e599d0009d726b5</td><td>San Isidro De Piura</td><td>Universidad de Piura</td></tr><tr><td>6306cba529da5b0008a092b4</td><td>Universidad Nacional Del Callao - Unac</td><td>Universidad Nacional del Callao</td></tr><tr><td>6306cba529da5b0008a092b4</td><td>Universidad Nacional Federico Villarreal - Unfv</td><td>Universidad Nacional Federico Villarreal</td></tr><tr><td>630665b89fa239004bddc812</td><td>Upc</td><td>Universidad Peruana de Ciencias Aplicadas S.A.C.</td></tr><tr><td>6306cd870b2510000842505f</td><td>Universidad Tecnológica Del Perú</td><td>Universidad Tecnológica del Perú S.A.C.</td></tr><tr><td>6306d2a829da5b0008a09699</td><td>Universidad Cesar Vallejo</td><td>Universidad César Vallejo S.A.C.</td></tr><tr><td>6306d6099fa239004bdf063f</td><td>Universidad Privada Del Norte</td><td>Universidad Privada del Norte S.A.C.</td></tr><tr><td>6306d6099fa239004bdf052b</td><td>Universidad Católica Sedes Sapientiae - Ucss</td><td>Universidad Católica Sedes Sapientiae</td></tr><tr><td>6306d63d594e18004af0ddb4</td><td>Universidad San Ignacio De Loyola</td><td>Universidad San Ignacio de Loyola S.R.L.</td></tr><tr><td>6306d66b594e18004af0e2c5</td><td>Universidad De Ciencias Aplicadas</td><td>Universidad Peruana de Ciencias Aplicadas S.A.C.</td></tr><tr><td>6306d777594e18004af0e887</td><td>Universidad Privada Del Norte</td><td>Universidad Privada del Norte S.A.C.</td></tr><tr><td>6306d777594e18004af0e9dd</td><td>Universidad Privada Del Norte - Unp</td><td>Universidad Privada del Norte S.A.C.</td></tr><tr><td>6306d8179fa239004bdf28b7</td><td>Universidad Mayor De San Marcos</td><td>Universidad Nacional Mayor de San Marcos</td></tr><tr><td>6306d6099fa239004bdf0f81</td><td>Universidad De San Martin De Porres</td><td>Universidad de San Martín de Porres</td></tr><tr><td>6306d6099fa239004bdf0f81</td><td>Cetpro  Cayetano Heredia</td><td>Universidad Peruana Cayetano Heredia</td></tr><tr><td>6306d777594e18004af0e659</td><td>Universidad César Vallejo</td><td>Universidad César Vallejo S.A.C.</td></tr><tr><td>6306d777594e18004af0f163</td><td>Universidad Cesar Vallejo - Ucv</td><td>Universidad César Vallejo S.A.C.</td></tr><tr><td>6306d63c594e18004af0dab4</td><td>Universidad Tecnológica Del Perú</td><td>Universidad Tecnológica del Perú S.A.C.</td></tr><tr><td>6306d777594e18004af0f133</td><td>Universidad Privada Del Norte</td><td>Universidad Privada del Norte S.A.C.</td></tr><tr><td>6306d6099fa239004bdf0495</td><td>Universidad Nacional Del Callao</td><td>Universidad Nacional del Callao</td></tr><tr><td>6306d777594e18004af0e8db</td><td>Universidad Privada Del Norte</td><td>Universidad Privada del Norte S.A.C.</td></tr><tr><td>6306d852594e18004af1000e</td><td>Instituto San Ignacio De Loyola - Isil</td><td>Universidad San Ignacio de Loyola S.R.L.</td></tr><tr><td>6306d852594e18004af1000e</td><td>Instituto San Ignacio De Loyola</td><td>Universidad San Ignacio de Loyola S.R.L.</td></tr><tr><td>6306d8699fa239004bdf3225</td><td>Upc</td><td>Universidad Peruana de Ciencias Aplicadas S.A.C.</td></tr><tr><td>6306d82b594e18004af0fbb1</td><td>Universidad Peruana De Ciencias Aplicadas - Upc</td><td>Universidad Peruana de Ciencias Aplicadas S.A.C.</td></tr><tr><td>6306d82b594e18004af0fbb1</td><td>Universidad Peruana De Ciencias Aplicadas - Upc</td><td>Universidad Peruana de Ciencias Aplicadas S.A.C.</td></tr><tr><td>6306d777594e18004af0f15d</td><td>Universidad Cesar Vallejo</td><td>Universidad César Vallejo S.A.C.</td></tr><tr><td>6306d777594e18004af0eafd</td><td>Universidad César Vallejo</td><td>Universidad César Vallejo S.A.C.</td></tr><tr><td>6306d63d594e18004af0e066</td><td>Universidad Privada Del Norte</td><td>Universidad Privada del Norte S.A.C.</td></tr><tr><td>6306d777594e18004af0f0d3</td><td>Universidad Privada Del Norte</td><td>Universidad Privada del Norte S.A.C.</td></tr><tr><td>6306d777594e18004af0edfd</td><td>Universidad Privada Del Norte</td><td>Universidad Privada del Norte S.A.C.</td></tr><tr><td>6306d777594e18004af0e9e9</td><td>Universidad Cesar Vallejo</td><td>Universidad César Vallejo S.A.C.</td></tr><tr><td>6306d63d594e18004af0de14</td><td>Universidad Peruana De Ciencias Aplicadas - Upc</td><td>Universidad Peruana de Ciencias Aplicadas S.A.C.</td></tr><tr><td>6306d66b594e18004af0e2fb</td><td>Universidad Nacional Del Callao</td><td>Universidad Nacional del Callao</td></tr><tr><td>6306d63c594e18004af0d94c</td><td>Universidad Privada Del Norte</td><td>Universidad Privada del Norte S.A.C.</td></tr><tr><td>6306d6099fa239004bdf03ed</td><td>Universidad San Ignacio De Loyola - Usil</td><td>Universidad San Ignacio de Loyola S.R.L.</td></tr><tr><td>6306d63d594e18004af0dec2</td><td>Universidad Cesar Vallejo - Ucv</td><td>Universidad César Vallejo S.A.C.</td></tr><tr><td>6306d8699fa239004bdf352b</td><td>Universidad Privada Del Norte - Unp</td><td>Universidad Privada del Norte S.A.C.</td></tr><tr><td>6306d777594e18004af0f103</td><td>Universidad Privada Del Norte</td><td>Universidad Privada del Norte S.A.C.</td></tr><tr><td>6306d802594e18004af0f32e</td><td>Universidad Nacional De Educación Enrique Guzmán Y Valle - La Cantuta</td><td>Universidad Nacional de Educación Enrique Guzmán y Valle</td></tr><tr><td>6306d777594e18004af0ebed</td><td>Usmp</td><td>Universidad de San Martín de Porres</td></tr><tr><td>6306d63c594e18004af0d9be</td><td>Universidad Nacional Del Callao</td><td>Universidad Nacional del Callao</td></tr><tr><td>6306d6099fa239004bdf0e31</td><td>Universidad Cesar Vallejo - Ucv</td><td>Universidad César Vallejo S.A.C.</td></tr><tr><td>6306d6099fa239004bdf0e31</td><td>Universidad Nacional De Ingeniería - Uni</td><td>Universidad Nacional de Ingeniería</td></tr><tr><td>6306d6099fa239004bdf0e31</td><td>Universidad Cesar Vallejo - Ucv</td><td>Universidad César Vallejo S.A.C.</td></tr><tr><td>6306d8179fa239004bdf2e63</td><td>Universidad Tecnológica Del Perú - Utp</td><td>Universidad Tecnológica del Perú S.A.C.</td></tr><tr><td>6306d8179fa239004bdf2995</td><td>Universidad De Ciencias Aplicadas</td><td>Universidad Peruana de Ciencias Aplicadas S.A.C.</td></tr><tr><td>6306d6099fa239004bdf0beb</td><td>Universidad De San Martin De Porres - Usmp</td><td>Universidad de San Martín de Porres</td></tr><tr><td>6306d63d594e18004af0dbce</td><td>Universidad San Ignacio De Loyola - Usil</td><td>Universidad San Ignacio de Loyola S.R.L.</td></tr><tr><td>6306d63d594e18004af0dbce</td><td>Instituto San Ignacio De Loyola</td><td>Universidad San Ignacio de Loyola S.R.L.</td></tr><tr><td>6306d78c9fa239004bdf2260</td><td>Universidad Señor De Sipán - Uss</td><td>Universidad Señor de Sipán S.A.C.</td></tr><tr><td>6306d63c594e18004af0d6a0</td><td>Universidad Nacional Del Callao</td><td>Universidad Nacional del Callao</td></tr><tr><td>6306d63d594e18004af0dfee</td><td>Universidad Privada Del  Norte</td><td>Universidad Privada del Norte S.A.C.</td></tr><tr><td>6306d777594e18004af0ee09</td><td>Universidad Cientifica Del Sur</td><td>Universidad Científica del Sur S.A.C.</td></tr><tr><td>6306d63d594e18004af0daf6</td><td>Universidad De Lima</td><td>Universidad de Lima</td></tr><tr><td>6306d6099fa239004bdf0dfb</td><td>Universidad Privada Del Norte</td><td>Universidad Privada del Norte S.A.C.</td></tr><tr><td>6306d853594e18004af104e8</td><td>Universidad San Martin De Porres</td><td>Universidad de San Martín de Porres</td></tr><tr><td>6306d63c594e18004af0d8da</td><td>Universidad De Ciencias Aplicadas - Upc</td><td>Universidad Peruana de Ciencias Aplicadas S.A.C.</td></tr><tr><td>6306d8699fa239004bdf3387</td><td>Universidad Señor De Sipán</td><td>Universidad Señor de Sipán S.A.C.</td></tr><tr><td>6306d777594e18004af0e767</td><td>Universidad Privada Del Norte - Upn</td><td>Universidad Privada del Norte S.A.C.</td></tr><tr><td>6306d7ef9fa239004bdf257a</td><td>Universidad Nacional De San Martín</td><td>Universidad Nacional de San Martín</td></tr><tr><td>6306d802594e18004af0f62e</td><td>Universidad Nacional Federico Villarreal</td><td>Universidad Nacional Federico Villarreal</td></tr><tr><td>6306dc680b25100008425b50</td><td>Universidad Católica Sedes Sapientiae</td><td>Universidad Católica Sedes Sapientiae</td></tr><tr><td>6306d6549fa239004bdf1540</td><td>Universidad De Lima</td><td>Universidad de Lima</td></tr><tr><td>6306d63d594e18004af0dc88</td><td>Cesar Vallejo</td><td>Universidad César Vallejo S.A.C.</td></tr><tr><td>6306d8179fa239004bdf2eab</td><td>Universidad Nacional Del Callao</td><td>Universidad Nacional del Callao</td></tr><tr><td>6306d8179fa239004bdf2eab</td><td>Agustiniano San Martin De Porres</td><td>Universidad de San Martín de Porres</td></tr><tr><td>6306d777594e18004af0e8bd</td><td>Universidad Privada Del Norte</td><td>Universidad Privada del Norte S.A.C.</td></tr><tr><td>6306d6dd9fa239004bdf1ee5</td><td>Universidad Tecnológica Del Perú - Utp</td><td>Universidad Tecnológica del Perú S.A.C.</td></tr><tr><td>6306d777594e18004af0eaf1</td><td>Universidad Peruana De Ciencias Aplicadas</td><td>Universidad Peruana de Ciencias Aplicadas S.A.C.</td></tr><tr><td>6306d82b594e18004af0fcb9</td><td>Universidad Privada Del Norte</td><td>Universidad Privada del Norte S.A.C.</td></tr><tr><td>6306d852594e18004af0ffa8</td><td>Universidad Peruana De Ciencias Aplicadas</td><td>Universidad Peruana de Ciencias Aplicadas S.A.C.</td></tr><tr><td>6306d777594e18004af0ea19</td><td>Universidad Privada Del Norte</td><td>Universidad Privada del Norte S.A.C.</td></tr><tr><td>6306d63d594e18004af0df3a</td><td>Universidad Nacional Federico Villarreal</td><td>Universidad Nacional Federico Villarreal</td></tr><tr><td>6306d777594e18004af0eac7</td><td>Universidad César Vallejo</td><td>Universidad César Vallejo S.A.C.</td></tr><tr><td>6306d802594e18004af0f610</td><td>Universidad Privada Del Norte</td><td>Universidad Privada del Norte S.A.C.</td></tr><tr><td>6306d82b594e18004af0fe81</td><td>Universidad Nacional Federico Villarreal</td><td>Universidad Nacional Federico Villarreal</td></tr><tr><td>6306d63d594e18004af0df5e</td><td>Upc Universidad Peruana De Ciencias Aplicadas</td><td>Universidad Peruana de Ciencias Aplicadas S.A.C.</td></tr><tr><td>6306d6099fa239004bdf0aa7</td><td>Universidad Católica Sedes Sapientiae</td><td>Universidad Católica Sedes Sapientiae</td></tr><tr><td>6306d8179fa239004bdf273d</td><td>Upc</td><td>Universidad Peruana de Ciencias Aplicadas S.A.C.</td></tr><tr><td>6306d8179fa239004bdf286f</td><td>Upc</td><td>Universidad Peruana de Ciencias Aplicadas S.A.C.</td></tr><tr><td>6306d82b594e18004af0fc5f</td><td>Universidad Privada Del Norte</td><td>Universidad Privada del Norte S.A.C.</td></tr><tr><td>6306d777594e18004af0eeb7</td><td>Universidad Cesar Vallejo - Ucv</td><td>Universidad César Vallejo S.A.C.</td></tr><tr><td>6306d6099fa239004bdf0d41</td><td>Universidad Privada Del Norte</td><td>Universidad Privada del Norte S.A.C.</td></tr><tr><td>6306d802594e18004af0fb5c</td><td>Universidad San Martín De Porres</td><td>Universidad de San Martín de Porres</td></tr><tr><td>6306d82b594e18004af0fbed</td><td>Universidad Nacional Del Callao</td><td>Universidad Nacional del Callao</td></tr><tr><td>6306d6099fa239004bdf0417</td><td>Universidad Privada Del Norte - Upn</td><td>Universidad Privada del Norte S.A.C.</td></tr><tr><td>6306d777594e18004af0eb2d</td><td>Universidad De San Martin De Porres - Usmp</td><td>Universidad de San Martín de Porres</td></tr><tr><td>6306d777594e18004af0e791</td><td>Universidad Ricardo Palma</td><td>Universidad Ricardo Palma</td></tr><tr><td>6306d777594e18004af0ef05</td><td>Upn</td><td>Universidad Privada del Norte S.A.C.</td></tr><tr><td>6306d777594e18004af0ed4f</td><td>Universidad Ricardo Palma</td><td>Universidad Ricardo Palma</td></tr><tr><td>6306d63d594e18004af0de32</td><td>Universidad Privada Del Norte</td><td>Universidad Privada del Norte S.A.C.</td></tr><tr><td>6306d63c594e18004af0d802</td><td>Universidad Privada Del Norte</td><td>Universidad Privada del Norte S.A.C.</td></tr><tr><td>6306dfa8d7fa700008e8409e</td><td>Universidad Cesar Vallejo - Ucv</td><td>Universidad César Vallejo S.A.C.</td></tr><tr><td>6306dfa8d7fa700008e8409e</td><td>Universidad Cesar Vallejo - Ucv</td><td>Universidad César Vallejo S.A.C.</td></tr><tr><td>6306d777594e18004af0ea6d</td><td>Universidad Cesar Vallejo</td><td>Universidad César Vallejo S.A.C.</td></tr><tr><td>6306d63d594e18004af0e162</td><td>Universidad Privada Del Norte</td><td>Universidad Privada del Norte S.A.C.</td></tr><tr><td>6306d6099fa239004bdf0dad</td><td>Universidad Nacional Del Callao - Unac</td><td>Universidad Nacional del Callao</td></tr><tr><td>6306d82b594e18004af0feff</td><td>Upc</td><td>Universidad Peruana de Ciencias Aplicadas S.A.C.</td></tr><tr><td>6306d6099fa239004bdf0159</td><td>Universidad San Ignacio De Loyola</td><td>Universidad San Ignacio de Loyola S.R.L.</td></tr><tr><td>6306d63d594e18004af0dece</td><td>Universidad Tecnológica Del Perú - Utp</td><td>Universidad Tecnológica del Perú S.A.C.</td></tr><tr><td>6306d6dd9fa239004bdf1f81</td><td>Universidad Tecnológica Del Perú</td><td>Universidad Tecnológica del Perú S.A.C.</td></tr><tr><td>6306d6099fa239004bdf01fb</td><td>Utp</td><td>Universidad Tecnológica del Perú S.A.C.</td></tr><tr><td>6306d853594e18004af1017c</td><td>Universidad Cesar Vallejo</td><td>Universidad César Vallejo S.A.C.</td></tr><tr><td>6306d777594e18004af0eb81</td><td>Universalidad Privada Del Norte</td><td>Universidad Privada del Norte S.A.C.</td></tr><tr><td>6306d6dd9fa239004bdf207d</td><td>Universidad Maria Auxiliadora</td><td>Universidad María Auxiliadora S.A.C.</td></tr><tr><td>6306d63c594e18004af0d99a</td><td>Upn</td><td>Universidad Privada del Norte S.A.C.</td></tr><tr><td>6306d777594e18004af0e88d</td><td>Universidad Cesar Vallejo - Ucv</td><td>Universidad César Vallejo S.A.C.</td></tr><tr><td>6306d8179fa239004bdf2a7f</td><td>Universidad Privada Del Norte - Upn</td><td>Universidad Privada del Norte S.A.C.</td></tr><tr><td>6306d777594e18004af0e8f9</td><td>Instituto San Ignacio De Loyola</td><td>Universidad San Ignacio de Loyola S.R.L.</td></tr><tr><td>6306d87c594e18004af1076b</td><td>Universidad Privada Del Norte</td><td>Universidad Privada del Norte S.A.C.</td></tr><tr><td>6306d777594e18004af0ec35</td><td>Universidad Tecnológica Del Perú</td><td>Universidad Tecnológica del Perú S.A.C.</td></tr><tr><td>6306d8179fa239004bdf2b27</td><td>Universidad De San Martin De Porres</td><td>Universidad de San Martín de Porres</td></tr><tr><td>6306d853594e18004af10386</td><td>Universidad Nacional Agraria La Molina</td><td>Universidad Nacional Agraria La Molina</td></tr><tr><td>6306d853594e18004af100d4</td><td>Upc</td><td>Universidad Peruana de Ciencias Aplicadas S.A.C.</td></tr><tr><td>6306d802594e18004af0f72a</td><td>Universidad Tecnológica Del Perú</td><td>Universidad Tecnológica del Perú S.A.C.</td></tr><tr><td>6306d802594e18004af0fafc</td><td>Universidad San Ignacio De Loyola</td><td>Universidad San Ignacio de Loyola S.R.L.</td></tr><tr><td>6306d777594e18004af0e737</td><td>Universidad Cesar Vallejo</td><td>Universidad César Vallejo S.A.C.</td></tr><tr><td>6306d802594e18004af0f694</td><td>Universidad Tecnológica Del Perú</td><td>Universidad Tecnológica del Perú S.A.C.</td></tr><tr><td>6306d802594e18004af0f694</td><td>Universidad Tecnológica Del Perú</td><td>Universidad Tecnológica del Perú S.A.C.</td></tr><tr><td>6306d777594e18004af0eae5</td><td>Universidad Tecnológica Del Perú</td><td>Universidad Tecnológica del Perú S.A.C.</td></tr><tr><td>6306d777594e18004af0e953</td><td>Universidad Tecnológica Del Perú</td><td>Universidad Tecnológica del Perú S.A.C.</td></tr><tr><td>6306d8179fa239004bdf2e27</td><td>Universidad César Vallejo</td><td>Universidad César Vallejo S.A.C.</td></tr><tr><td>6306d82b594e18004af0fd37</td><td>Universidad Señor De Sipan</td><td>Universidad Señor de Sipán S.A.C.</td></tr><tr><td>6306d63d594e18004af0dfa6</td><td>Universidad Privada Del Norte</td><td>Universidad Privada del Norte S.A.C.</td></tr><tr><td>6306d777594e18004af0e707</td><td>Universidad Nacional Del Callao</td><td>Universidad Nacional del Callao</td></tr><tr><td>6306d777594e18004af0ef9b</td><td>Universidad Tecnológica Del Perú</td><td>Universidad Tecnológica del Perú S.A.C.</td></tr><tr><td>6306d8179fa239004bdf2a37</td><td>Universidad Peruana De Ciencias Aplicadas</td><td>Universidad Peruana de Ciencias Aplicadas S.A.C.</td></tr><tr><td>6306d8179fa239004bdf2a37</td><td>Instituto San Ignacio De Loyola</td><td>Universidad San Ignacio de Loyola S.R.L.</td></tr><tr><td>6306d802594e18004af0fa1e</td><td>Universidada Privada Del Norte</td><td>Universidad Privada del Norte S.A.C.</td></tr><tr><td>6306d777594e18004af0ee93</td><td>Universidadcatólica Sedes Sapientiae</td><td>Universidad Católica Sedes Sapientiae</td></tr><tr><td>6306d6549fa239004bdf10f6</td><td>Universidad Nacional Federico Villarreal</td><td>Universidad Nacional Federico Villarreal</td></tr><tr><td>6306d777594e18004af0f04f</td><td>Universidad Privada Antenor Orrego</td><td>Universidad Privada Antenor Orrego</td></tr><tr><td>6306d82b594e18004af0ff4d</td><td>Universidad San Martin De Porres</td><td>Universidad de San Martín de Porres</td></tr><tr><td>6306d6099fa239004bdf04d7</td><td>Universidad Privada Del Norte - Upn</td><td>Universidad Privada del Norte S.A.C.</td></tr><tr><td>6306d777594e18004af0e761</td><td>Universidad Nacional Del Callao</td><td>Universidad Nacional del Callao</td></tr><tr><td>6306d8179fa239004bdf2e5d</td><td>Universidad Peruana De Ciencias Aplicadas</td><td>Universidad Peruana de Ciencias Aplicadas S.A.C.</td></tr><tr><td>6306d8179fa239004bdf2b81</td><td>Universidad Cesar Vallejo</td><td>Universidad César Vallejo S.A.C.</td></tr><tr><td>6306d6099fa239004bdf08a3</td><td>Universidad Privada Del Norte</td><td>Universidad Privada del Norte S.A.C.</td></tr><tr><td>6306d6099fa239004bdf08a3</td><td>Universidad De San Martin De Porres</td><td>Universidad de San Martín de Porres</td></tr><tr><td>6306d777594e18004af0ec9b</td><td>Politecnico Nacional Del Callao</td><td>Universidad Nacional del Callao</td></tr><tr><td>6306d7c0594e18004af0f2b5</td><td>Universidad San Martin De Porres</td><td>Universidad de San Martín de Porres</td></tr><tr><td>6306d853594e18004af103bc</td><td>Universidad Autónoma Del Perú - Ua</td><td>Universidad Autónoma del Perú S.A.C.</td></tr><tr><td>6306d67e9fa239004bdf1b6b</td><td>Universidad Continental</td><td>Universidad Continental S.A.C.</td></tr><tr><td>6306d8179fa239004bdf2ddf</td><td>Universidad Privada Norbert Wiener</td><td>Universidad Privada Norbert Wiener S.A.</td></tr><tr><td>6306d777594e18004af0ec4d</td><td>Universidad Privada Del Norte - Upn</td><td>Universidad Privada del Norte S.A.C.</td></tr><tr><td>6306d777594e18004af0ec4d</td><td>Centro De Idiomas De La Universidad De San Martin De Porres</td><td>Universidad de San Martín de Porres</td></tr><tr><td>6306d802594e18004af0f5c2</td><td>Universidad Privada Del Norte</td><td>Universidad Privada del Norte S.A.C.</td></tr><tr><td>6306d6099fa239004bdf0db9</td><td>Universidad Privada Del Norte - Unp</td><td>Universidad Privada del Norte S.A.C.</td></tr><tr><td>6306d8179fa239004bdf2b21</td><td>Universidad Cesar Vallejo</td><td>Universidad César Vallejo S.A.C.</td></tr><tr><td>6306d66b594e18004af0e26b</td><td>Univercidad Cesar Vallejo</td><td>Universidad César Vallejo S.A.C.</td></tr><tr><td>6306d777594e18004af0e7af</td><td>Universidad Cesar Vallejo</td><td>Universidad César Vallejo S.A.C.</td></tr><tr><td>6306d777594e18004af0f097</td><td>Universidad Privada Del Norte</td><td>Universidad Privada del Norte S.A.C.</td></tr><tr><td>6306d777594e18004af0f079</td><td>Universidad  Cesar  Vallejo</td><td>Universidad César Vallejo S.A.C.</td></tr><tr><td>6306d8179fa239004bdf296b</td><td>Universidad Cesar Vallejo</td><td>Universidad César Vallejo S.A.C.</td></tr><tr><td>6306d6dd9fa239004bdf1fdb</td><td>Asociacion Universidad Privada San Juan Bautista</td><td>Universidad Privada San Juan Bautista S.A.C.</td></tr><tr><td>6306d777594e18004af0e935</td><td>Universidad Jose Faustino Sanchez Carrion</td><td>Universidad Nacional José Faustino Sánchez Carrión</td></tr><tr><td>6306d777594e18004af0ed91</td><td>Upn</td><td>Universidad Privada del Norte S.A.C.</td></tr><tr><td>6306d802594e18004af0fb92</td><td>Universidad Privada San Juan Bautista</td><td>Universidad Privada San Juan Bautista S.A.C.</td></tr><tr><td>6306d777594e18004af0f037</td><td>Universidad San Martin De Porres</td><td>Universidad de San Martín de Porres</td></tr><tr><td>6306d82b594e18004af0fbf9</td><td>Universidad Nacional Del Callao</td><td>Universidad Nacional del Callao</td></tr><tr><td>6306d6099fa239004bdf0309</td><td>Upn</td><td>Universidad Privada del Norte S.A.C.</td></tr><tr><td>6306d802594e18004af0f856</td><td>Universidad César Vallejo</td><td>Universidad César Vallejo S.A.C.</td></tr><tr><td>6306d777594e18004af0e911</td><td>Universidad San Martin De Porres</td><td>Universidad de San Martín de Porres</td></tr><tr><td>6306d777594e18004af0e959</td><td>Universidad Nacional Del Callao</td><td>Universidad Nacional del Callao</td></tr><tr><td>6306d6099fa239004bdf0dd7</td><td>Ucss</td><td>Universidad Católica Sedes Sapientiae</td></tr><tr><td>6306d853594e18004af102ea</td><td>Universidad Cesar Vallejo - Ucv</td><td>Universidad César Vallejo S.A.C.</td></tr><tr><td>6306d853594e18004af102ea</td><td>Universidad Cesar Vallejo - Ucv</td><td>Universidad César Vallejo S.A.C.</td></tr><tr><td>6306d777594e18004af0ef5f</td><td>Universidad Tecnológica Del Perú</td><td>Universidad Tecnológica del Perú S.A.C.</td></tr><tr><td>6306d777594e18004af0eaa9</td><td>Universidad César Vallejo</td><td>Universidad César Vallejo S.A.C.</td></tr><tr><td>6306d6099fa239004bdf0f69</td><td>Universidad Peruana Los Andes - Upla</td><td>Universidad Peruana Los Andes</td></tr><tr><td>6306d6549fa239004bdf1750</td><td>Universidad Privada Del Norte</td><td>Universidad Privada del Norte S.A.C.</td></tr><tr><td>6306d6099fa239004bdf0867</td><td>Universidad Tecnológica Del Perú</td><td>Universidad Tecnológica del Perú S.A.C.</td></tr><tr><td>6306d8179fa239004bdf26cb</td><td>Universidad San Ignacio De Loyola</td><td>Universidad San Ignacio de Loyola S.R.L.</td></tr><tr><td>6306faa61e599d0009d74349</td><td>Universidad Nacional De Piura</td><td>Universidad Nacional de Piura</td></tr><tr><td>6306d777594e18004af0f139</td><td>Universidad Privada Del Norte - Upn</td><td>Universidad Privada del Norte S.A.C.</td></tr><tr><td>6306d6549fa239004bdf14aa</td><td>Upc</td><td>Universidad Peruana de Ciencias Aplicadas S.A.C.</td></tr><tr><td>6306d63d594e18004af0dc1c</td><td>Universidad Cesar Vallejo</td><td>Universidad César Vallejo S.A.C.</td></tr><tr><td>6306d67e9fa239004bdf1cc7</td><td>Universidad Continental</td><td>Universidad Continental S.A.C.</td></tr><tr><td>6306d777594e18004af0e851</td><td>Universidad Cesar Vallejo - Ucv</td><td>Universidad César Vallejo S.A.C.</td></tr><tr><td>6306d777594e18004af0e7fd</td><td>Universidad Privada Del Norte</td><td>Universidad Privada del Norte S.A.C.</td></tr><tr><td>6306feca29da5b0008a0b2b9</td><td>Tecnológica Del Perú</td><td>Universidad Tecnológica del Perú S.A.C.</td></tr><tr><td>6306d8179fa239004bdf276d</td><td>Universidad Científica Del Sur - Ucsur</td><td>Universidad Científica del Sur S.A.C.</td></tr><tr><td>6306d777594e18004af0e701</td><td>Universidad Privada San Juan Bautista</td><td>Universidad Privada San Juan Bautista S.A.C.</td></tr><tr><td>6306d8179fa239004bdf2ca1</td><td>Universidad Cesar Vallejo - Ucv</td><td>Universidad César Vallejo S.A.C.</td></tr><tr><td>6306d777594e18004af0ecbf</td><td>Universidad Privada Del Norte</td><td>Universidad Privada del Norte S.A.C.</td></tr><tr><td>6306d6549fa239004bdf171a</td><td>Universidad Cesar Vallejo</td><td>Universidad César Vallejo S.A.C.</td></tr><tr><td>6306d8179fa239004bdf27b5</td><td>Universidad De San Martin De Porres</td><td>Universidad de San Martín de Porres</td></tr><tr><td>6306d6099fa239004bdf023d</td><td>Universidad Privada Del Norte - Upn</td><td>Universidad Privada del Norte S.A.C.</td></tr><tr><td>6306d70e9fa239004bdf21b0</td><td>Universidad Peruana Los Andes</td><td>Universidad Peruana Los Andes</td></tr><tr><td>6306d6549fa239004bdf15ee</td><td>Universidad Continental</td><td>Universidad Continental S.A.C.</td></tr><tr><td>6306d802594e18004af0f90a</td><td>Universidad Cesar Vallejo</td><td>Universidad César Vallejo S.A.C.</td></tr><tr><td>6306d777594e18004af0e79d</td><td>Universidad Tecnologica Del Peru</td><td>Universidad Tecnológica del Perú S.A.C.</td></tr><tr><td>6306d63c594e18004af0d772</td><td>Universidad Tecnológica Del Perú</td><td>Universidad Tecnológica del Perú S.A.C.</td></tr><tr><td>6306d8179fa239004bdf28f3</td><td>Universidad Privada Del Norte.</td><td>Universidad Privada del Norte S.A.C.</td></tr><tr><td>6306d63d594e18004af0e21c</td><td>Universidad Cesar Vallejo</td><td>Universidad César Vallejo S.A.C.</td></tr><tr><td>6306d802594e18004af0f958</td><td>Instituto Daniel Alcides Carrion</td><td>Universidad Nacional Daniel Alcides Carrión</td></tr><tr><td>6306d66b594e18004af0e271</td><td>Universidad De San Martin De Porres - Usmp</td><td>Universidad de San Martín de Porres</td></tr><tr><td>6306d777594e18004af0e92f</td><td>Universidad Peruana De Ciencias Aplicadas - Upc</td><td>Universidad Peruana de Ciencias Aplicadas S.A.C.</td></tr><tr><td>6306d777594e18004af0eaaf</td><td>Universidad Privada Del Norte</td><td>Universidad Privada del Norte S.A.C.</td></tr><tr><td>6306d67e9fa239004bdf1a1b</td><td>Universidad Continental</td><td>Universidad Continental S.A.C.</td></tr><tr><td>6306d777594e18004af0e749</td><td>Universidad Privada Del Norte</td><td>Universidad Privada del Norte S.A.C.</td></tr><tr><td>6306d777594e18004af0e7f1</td><td>Universidad Nacional De Ingeniería</td><td>Universidad Nacional de Ingeniería</td></tr><tr><td>6306d8699fa239004bdf3297</td><td>Usil</td><td>Universidad San Ignacio de Loyola S.R.L.</td></tr><tr><td>6306d777594e18004af0e9fb</td><td>Universidad Nacional Federico Villarreal</td><td>Universidad Nacional Federico Villarreal</td></tr><tr><td>6306d802594e18004af0f60a</td><td>Universidad San Ignacio De Loyola - Usil</td><td>Universidad San Ignacio de Loyola S.R.L.</td></tr><tr><td>6306d777594e18004af0e785</td><td>Universidad Peruana De Ciencias Aplicadas</td><td>Universidad Peruana de Ciencias Aplicadas S.A.C.</td></tr><tr><td>6306d82b594e18004af0fd61</td><td>Universidad Tecnologica Del Peru</td><td>Universidad Tecnológica del Perú S.A.C.</td></tr><tr><td>6306d777594e18004af0ef65</td><td>Universidad Cesar Vallejo</td><td>Universidad César Vallejo S.A.C.</td></tr><tr><td>6306d6099fa239004bdf0d29</td><td>Universidad Ricardo Palma</td><td>Universidad Ricardo Palma</td></tr><tr><td>6306d82b594e18004af0fd85</td><td>Universidad Católica Sedes Sapientiae</td><td>Universidad Católica Sedes Sapientiae</td></tr><tr><td>6306d777594e18004af0ee6f</td><td>Universidad Privada Del Norte</td><td>Universidad Privada del Norte S.A.C.</td></tr><tr><td>6306d8179fa239004bdf283f</td><td>Científica Del Sur</td><td>Universidad Científica del Sur S.A.C.</td></tr><tr><td>6306d6099fa239004bdf0def</td><td>Universidad Cesar Vallejo - Ucv</td><td>Universidad César Vallejo S.A.C.</td></tr><tr><td>6306d777594e18004af0e8d5</td><td>Upn</td><td>Universidad Privada del Norte S.A.C.</td></tr><tr><td>6306d6549fa239004bdf125e</td><td>Utp</td><td>Universidad Tecnológica del Perú S.A.C.</td></tr><tr><td>6306d853594e18004af101ca</td><td>Universidad Esan</td><td>Universidad ESAN</td></tr><tr><td>6306d802594e18004af0f9e2</td><td>Universidad César Vallejo</td><td>Universidad César Vallejo S.A.C.</td></tr><tr><td>6306d87b594e18004af10561</td><td>Universidad Cesar Vallejo - Ucv</td><td>Universidad César Vallejo S.A.C.</td></tr><tr><td>6306d777594e18004af0ed79</td><td>Universidad Cesar Vallejo</td><td>Universidad César Vallejo S.A.C.</td></tr><tr><td>630783ae1e599d0009d7513e</td><td>Instituto San Ignacio De Loyola</td><td>Universidad San Ignacio de Loyola S.R.L.</td></tr><tr><td>6306d777594e18004af0ee69</td><td>Universidad Continental</td><td>Universidad Continental S.A.C.</td></tr><tr><td>6306d777594e18004af0e977</td><td>Universidad Cesar Vallejo</td><td>Universidad César Vallejo S.A.C.</td></tr><tr><td>6306d6099fa239004bdf0189</td><td>Universidad Tecnológica Del Perú</td><td>Universidad Tecnológica del Perú S.A.C.</td></tr><tr><td>6306d802594e18004af0f98e</td><td>Universidad De San Martín De Porres</td><td>Universidad de San Martín de Porres</td></tr><tr><td>6306d777594e18004af0ee0f</td><td>Universidad De San Martin De Porres - Usmp</td><td>Universidad de San Martín de Porres</td></tr><tr><td>6306d6099fa239004bdf0945</td><td>Universidad De San Martin De Porres - Usmp</td><td>Universidad de San Martín de Porres</td></tr><tr><td>6306d6099fa239004bdf0543</td><td>Universidad Nacional Mayor De San Marcos</td><td>Universidad Nacional Mayor de San Marcos</td></tr><tr><td>6306d8179fa239004bdf27d9</td><td>Instituto San Ignacio De Loyola</td><td>Universidad San Ignacio de Loyola S.R.L.</td></tr><tr><td>6306d777594e18004af0ebb7</td><td>Científica Del Sur</td><td>Universidad Científica del Sur S.A.C.</td></tr><tr><td>6306d63d594e18004af0def8</td><td>Utp</td><td>Universidad Tecnológica del Perú S.A.C.</td></tr><tr><td>6306d63d594e18004af0dce8</td><td>Universidad Peruana De Ciencias Aplicadas - Upc</td><td>Universidad Peruana de Ciencias Aplicadas S.A.C.</td></tr><tr><td>6307923ce86a980008defa25</td><td>Universidad Peruana De Ciencias Aplicadas</td><td>Universidad Peruana de Ciencias Aplicadas S.A.C.</td></tr><tr><td>6306d777594e18004af0efbf</td><td>Instituto Federico Villarreal</td><td>Universidad Nacional Federico Villarreal</td></tr><tr><td>6306d87b594e18004af10657</td><td>Untels</td><td>Universidad Nacional Tecnológica de Lima Sur</td></tr><tr><td>6306d853594e18004af104e2</td><td>Universidad Tecnológica Del Perú</td><td>Universidad Tecnológica del Perú S.A.C.</td></tr><tr><td>6306d777594e18004af0eab5</td><td>Universidad Privada Del Norte</td><td>Universidad Privada del Norte S.A.C.</td></tr><tr><td>6306d777594e18004af0f08b</td><td>Cesar Vallejo</td><td>Universidad César Vallejo S.A.C.</td></tr><tr><td>6306d6099fa239004bdf08af</td><td>Universidad Cesar Vallejo - Ucv</td><td>Universidad César Vallejo S.A.C.</td></tr><tr><td>6306d852594e18004af10038</td><td>Universidad Tecnológica Del Perú</td><td>Universidad Tecnológica del Perú S.A.C.</td></tr><tr><td>6306d63c594e18004af0d76c</td><td>Universidad Nacional De Educación Enrique Guzmán Y Valle  La Cantuta</td><td>Universidad Nacional de Educación Enrique Guzmán y Valle</td></tr><tr><td>6306d8699fa239004bdf3489</td><td>Universidad Privada Del Norte</td><td>Universidad Privada del Norte S.A.C.</td></tr><tr><td>6306d777594e18004af0e9cb</td><td>Universidad Privada Del Norte</td><td>Universidad Privada del Norte S.A.C.</td></tr><tr><td>6306d6549fa239004bdf1270</td><td>Universidad Privada De Tacna - Upt</td><td>Universidad Privada de Tacna</td></tr><tr><td>6306d8179fa239004bdf2cb9</td><td>Universidad San Martin  De Porres</td><td>Universidad de San Martín de Porres</td></tr><tr><td>6306d777594e18004af0ee45</td><td>Universidad Privada Del Norte</td><td>Universidad Privada del Norte S.A.C.</td></tr><tr><td>6306d6099fa239004bdf0b31</td><td>Universidad Privada Del Norte</td><td>Universidad Privada del Norte S.A.C.</td></tr><tr><td>6306d777594e18004af0eff5</td><td>Universidad Nacional Federico Villarreal - Unfv</td><td>Universidad Nacional Federico Villarreal</td></tr><tr><td>6306d6099fa239004bdf1023</td><td>Universidad Privada Del Norte</td><td>Universidad Privada del Norte S.A.C.</td></tr><tr><td>6306d82b594e18004af0fc3b</td><td>Utp</td><td>Universidad Tecnológica del Perú S.A.C.</td></tr><tr><td>6306d8179fa239004bdf2c8f</td><td>Universidad San Ignacio De Loyola</td><td>Universidad San Ignacio de Loyola S.R.L.</td></tr><tr><td>6306d8179fa239004bdf264d</td><td>Universidad Cesar Vallejo</td><td>Universidad César Vallejo S.A.C.</td></tr><tr><td>6306d8699fa239004bdf3219</td><td>Instituto San Ignacio De Loyola</td><td>Universidad San Ignacio de Loyola S.R.L.</td></tr><tr><td>6306d8699fa239004bdf3219</td><td>Universidad Peruana De Ciencias Aplicadas - Upc</td><td>Universidad Peruana de Ciencias Aplicadas S.A.C.</td></tr><tr><td>6306d8699fa239004bdf3219</td><td>Instituto San Ignacio De Loyola - Isil</td><td>Universidad San Ignacio de Loyola S.R.L.</td></tr><tr><td>6306d853594e18004af1014c</td><td>Universidad Privada Del Norte</td><td>Universidad Privada del Norte S.A.C.</td></tr><tr><td>6306d802594e18004af0f54a</td><td>Universidad Privada Del Norte</td><td>Universidad Privada del Norte S.A.C.</td></tr><tr><td>6306d802594e18004af0f6dc</td><td>Continental</td><td>Universidad Continental S.A.C.</td></tr><tr><td>6306d6099fa239004bdf0885</td><td>Universidad Privada Del Norte</td><td>Universidad Privada del Norte S.A.C.</td></tr><tr><td>6306d67e9fa239004bdf1b5f</td><td>Universidad Continental</td><td>Universidad Continental S.A.C.</td></tr><tr><td>6306d67e9fa239004bdf1b5f</td><td>Instituto Continental</td><td>Universidad Continental S.A.C.</td></tr><tr><td>6306d802594e18004af0f6be</td><td>Universidad Privada Norbert Wiener</td><td>Universidad Privada Norbert Wiener S.A.</td></tr><tr><td>6306d802594e18004af0f6be</td><td>Universidad Nacional De Trujillo - Unt</td><td>Universidad Nacional de Trujillo</td></tr><tr><td>6306d63c594e18004af0da6c</td><td>Universidad Tecnologica Del Peru</td><td>Universidad Tecnológica del Perú S.A.C.</td></tr><tr><td>6306d777594e18004af0ebbd</td><td>Universidad Privada Del Norte</td><td>Universidad Privada del Norte S.A.C.</td></tr><tr><td>6306d87b594e18004af10723</td><td>Universidad Nacional Del Callao - Unac</td><td>Universidad Nacional del Callao</td></tr><tr><td>6306d6549fa239004bdf12be</td><td>Universidad Privada Del Norte</td><td>Universidad Privada del Norte S.A.C.</td></tr><tr><td>6306d853594e18004af10134</td><td>Universidad Privada Del Norte - Upn</td><td>Universidad Privada del Norte S.A.C.</td></tr><tr><td>6306d777594e18004af0ef8f</td><td>Universidad Tecnológica Del Perú</td><td>Universidad Tecnológica del Perú S.A.C.</td></tr><tr><td>6306d777594e18004af0e7cd</td><td>Universidad Tecnológica Del Perú</td><td>Universidad Tecnológica del Perú S.A.C.</td></tr><tr><td>6306d777594e18004af0e70d</td><td>Upc</td><td>Universidad Peruana de Ciencias Aplicadas S.A.C.</td></tr><tr><td>6306d6dd9fa239004bdf1ecd</td><td>Utp</td><td>Universidad Tecnológica del Perú S.A.C.</td></tr><tr><td>6307d1fc1e599d0009d78382</td><td>Universidad San Ignacio De Loyola</td><td>Universidad San Ignacio de Loyola S.R.L.</td></tr><tr><td>6306d8179fa239004bdf2af1</td><td>Universidad Tecnológica Del Perú</td><td>Universidad Tecnológica del Perú S.A.C.</td></tr><tr><td>6306d8699fa239004bdf33f3</td><td>Universidad Tecnológica Del Perú - Utp</td><td>Universidad Tecnológica del Perú S.A.C.</td></tr><tr><td>6306d777594e18004af0efad</td><td>Upn</td><td>Universidad Privada del Norte S.A.C.</td></tr><tr><td>6306d6099fa239004bdf0423</td><td>Universidad Ricardo Palma</td><td>Universidad Ricardo Palma</td></tr><tr><td>6306d63d594e18004af0dd06</td><td>San Martín De Porres</td><td>Universidad de San Martín de Porres</td></tr><tr><td>6306d777594e18004af0e827</td><td>Ucss</td><td>Universidad Católica Sedes Sapientiae</td></tr><tr><td>6306d6099fa239004bdf0fb1</td><td>Universidad Nacional Federico Villarreal - Unfv</td><td>Universidad Nacional Federico Villarreal</td></tr><tr><td>6306d63c594e18004af0d8ce</td><td>Universidad Privada Del Norte</td><td>Universidad Privada del Norte S.A.C.</td></tr><tr><td>6306d802594e18004af0f46c</td><td>Universidad Privada Del Norte - Upn</td><td>Universidad Privada del Norte S.A.C.</td></tr><tr><td>6306d66b594e18004af0e373</td><td>Universidad Tecnológica Del Perú</td><td>Universidad Tecnológica del Perú S.A.C.</td></tr><tr><td>6306d8179fa239004bdf28cf</td><td>Iep María Auxiliadora</td><td>Universidad María Auxiliadora S.A.C.</td></tr><tr><td>6306d777594e18004af0f00d</td><td>Universidad Nacional De Educación Enrique Guzmán Y Valle</td><td>Universidad Nacional de Educación Enrique Guzmán y Valle</td></tr><tr><td>6306d63d594e18004af0de26</td><td>Universidad Peruana De Ciencias Aplicadas (upc)</td><td>Universidad Peruana de Ciencias Aplicadas S.A.C.</td></tr><tr><td>6306d63d594e18004af0e1da</td><td>Universidad Católica Santo Toribio De Mogrovejo</td><td>Universidad Católica Santo Toribio de Mogrovejo</td></tr><tr><td>6306d87c594e18004af10765</td><td>Universidad Nacional Del Callao - Unac</td><td>Universidad Nacional del Callao</td></tr><tr><td>630800e4d7fa700008e89d35</td><td>Universidad Privada Del Norte</td><td>Universidad Privada del Norte S.A.C.</td></tr><tr><td>6306d8699fa239004bdf3435</td><td>Upc</td><td>Universidad Peruana de Ciencias Aplicadas S.A.C.</td></tr><tr><td>6306d63d594e18004af0e11a</td><td>Universidad César Vallejo</td><td>Universidad César Vallejo S.A.C.</td></tr><tr><td>630821df29da5b0008a10b31</td><td>Universidad Privada Señor De Sipan</td><td>Universidad Señor de Sipán S.A.C.</td></tr><tr><td>6306d63d594e18004af0e234</td><td>Universidad Privada Norbert Wiener</td><td>Universidad Privada Norbert Wiener S.A.</td></tr><tr><td>6306d63c594e18004af0d7ba</td><td>San Ignacio De Loyola</td><td>Universidad San Ignacio de Loyola S.R.L.</td></tr><tr><td>6308254d29da5b0008a10c75</td><td>Universidad San Ignacio De Loyola</td><td>Universidad San Ignacio de Loyola S.R.L.</td></tr><tr><td>6306d802594e18004af0f802</td><td>Universidad Tecnológica Del Perú-utp</td><td>Universidad Tecnológica del Perú S.A.C.</td></tr><tr><td>630829a629da5b0008a10ddd</td><td>Universidad De San Martin De Porres</td><td>Universidad de San Martín de Porres</td></tr><tr><td>6306d853594e18004af104d6</td><td>Universidad Tecnológica Del Perú</td><td>Universidad Tecnológica del Perú S.A.C.</td></tr><tr><td>630665bc594e18004af082f7</td><td>I.e Por Convenio 0001 María Auxiliadora</td><td>Universidad María Auxiliadora S.A.C.</td></tr><tr><td>6306d777594e18004af0e6fb</td><td>Instituto San Ignacio De Loyola</td><td>Universidad San Ignacio de Loyola S.R.L.</td></tr><tr><td>6306d63c594e18004af0d9dc</td><td>Universidad Tecnológica Del Perú</td><td>Universidad Tecnológica del Perú S.A.C.</td></tr><tr><td>6306d6549fa239004bdf10d8</td><td>Universidad Cesar Vallejo - Ucv</td><td>Universidad César Vallejo S.A.C.</td></tr><tr><td>6306d6549fa239004bdf10d8</td><td>Universidad Privada Del Norte</td><td>Universidad Privada del Norte S.A.C.</td></tr><tr><td>6306d63d594e18004af0deaa</td><td>Universidad Privada Del Norte</td><td>Universidad Privada del Norte S.A.C.</td></tr><tr><td>63083da5e86a980008df93a1</td><td>Universidad De Piura</td><td>Universidad de Piura</td></tr><tr><td>63083f2dd7fa700008e8b10a</td><td>Univercidad Jose Faustino Sanchez Carrion</td><td>Universidad Nacional José Faustino Sánchez Carrión</td></tr><tr><td>6308400be86a980008df9496</td><td>Universidad Cesar Vallejo - Ucv</td><td>Universidad César Vallejo S.A.C.</td></tr><tr><td>6308407bb92f4f0008bfaf3a</td><td>Universidad Tecnológica Del Perú - Utp</td><td>Universidad Tecnológica del Perú S.A.C.</td></tr><tr><td>6306d777594e18004af0e899</td><td>Universidad De San Martín De Porres</td><td>Universidad de San Martín de Porres</td></tr><tr><td>6306d853594e18004af1024e</td><td>Universidad Cesar Vallejo</td><td>Universidad César Vallejo S.A.C.</td></tr><tr><td>6306d63d594e18004af0dda8</td><td>Universidad Tecnológica Del Perú</td><td>Universidad Tecnológica del Perú S.A.C.</td></tr><tr><td>6306d8179fa239004bdf271f</td><td>I.e 7069 César Vallejo</td><td>Universidad César Vallejo S.A.C.</td></tr><tr><td>6306d8699fa239004bdf3381</td><td>Universidad Tecnológica Del Perú - Utp</td><td>Universidad Tecnológica del Perú S.A.C.</td></tr><tr><td>6306d6549fa239004bdf14c8</td><td>Universidad Peruana De Ciencias Aplicadas</td><td>Universidad Peruana de Ciencias Aplicadas S.A.C.</td></tr><tr><td>6306d82b594e18004af0fbbd</td><td>Universidad Peruana De Ciencias Aplicadas</td><td>Universidad Peruana de Ciencias Aplicadas S.A.C.</td></tr><tr><td>6306d6099fa239004bdf0ddd</td><td>Unmsm</td><td>Universidad Nacional Mayor de San Marcos</td></tr><tr><td>6306d777594e18004af0f085</td><td>Universidad Tecnológica Del Perú</td><td>Universidad Tecnológica del Perú S.A.C.</td></tr><tr><td>6306d777594e18004af0ef11</td><td>Universidad Cesar Vallejo</td><td>Universidad César Vallejo S.A.C.</td></tr><tr><td>6308c194b92f4f0008bfcaee</td><td>Universidad Nacional Del Callao</td><td>Universidad Nacional del Callao</td></tr><tr><td>6306d63d594e18004af0dc04</td><td>Universidad Tecnológica Del Perú</td><td>Universidad Tecnológica del Perú S.A.C.</td></tr><tr><td>6308e5fe29da5b0008a13b64</td><td>Universidad San Martín De Porres</td><td>Universidad de San Martín de Porres</td></tr><tr><td>6308e882e86a980008e0054e</td><td>Universidad Tecnologica Del Peru</td><td>Universidad Tecnológica del Perú S.A.C.</td></tr><tr><td>6306d8179fa239004bdf29bf</td><td>Universidad Privada Del Norte</td><td>Universidad Privada del Norte S.A.C.</td></tr><tr><td>6306d777594e18004af0e6e9</td><td>Universidad Privada Del Norte</td><td>Universidad Privada del Norte S.A.C.</td></tr><tr><td>6306d777594e18004af0f049</td><td>Universidad Privada Del Norte</td><td>Universidad Privada del Norte S.A.C.</td></tr><tr><td>6306d777594e18004af0ed43</td><td>Isil - Instituto San Ignacio De Loyola</td><td>Universidad San Ignacio de Loyola S.R.L.</td></tr><tr><td>6306d777594e18004af0eaa3</td><td>Universidad San Martin De Porres</td><td>Universidad de San Martín de Porres</td></tr><tr><td>6306d63d594e18004af0e1f8</td><td>Universidad Ricardo Palma</td><td>Universidad Ricardo Palma</td></tr><tr><td>630944cde86a980008e04c21</td><td>Universidad Cesar Vallejo - Ucv</td><td>Universidad César Vallejo S.A.C.</td></tr><tr><td>6306d777594e18004af0ea2b</td><td>Universidad César Vallejo</td><td>Universidad César Vallejo S.A.C.</td></tr><tr><td>63094d5c0b25100008434755</td><td>Upc</td><td>Universidad Peruana de Ciencias Aplicadas S.A.C.</td></tr><tr><td>6306d8179fa239004bdf2a2b</td><td>Universidad Peruana De Ciencias Aplicadas - Upc</td><td>Universidad Peruana de Ciencias Aplicadas S.A.C.</td></tr><tr><td>6306d777594e18004af0e893</td><td>Universidad Tecnológica Del Perú - Utp</td><td>Universidad Tecnológica del Perú S.A.C.</td></tr><tr><td>6306d777594e18004af0e87b</td><td>Universidad Nacional Del Callao</td><td>Universidad Nacional del Callao</td></tr><tr><td>6306d82b594e18004af0fd6d</td><td>Universidad  Nacional De Piura - Unp</td><td>Universidad Nacional de Piura</td></tr><tr><td>6306d82b594e18004af0fd6d</td><td>Universidad  Nacional De Piura - Unp</td><td>Universidad Nacional de Piura</td></tr><tr><td>6309bdb2d7fa700008e949d6</td><td>Universidad Privada Del Norte - Upn</td><td>Universidad Privada del Norte S.A.C.</td></tr><tr><td>6306d802594e18004af0f73c</td><td>Universidad De San Martin De Porres</td><td>Universidad de San Martín de Porres</td></tr><tr><td>6306d63c594e18004af0d712</td><td>Universidad Tecnológica Del Perú</td><td>Universidad Tecnológica del Perú S.A.C.</td></tr><tr><td>630a2cd4d7fa700008e95018</td><td>Universidad Tecnológica Del Perú</td><td>Universidad Tecnológica del Perú S.A.C.</td></tr><tr><td>6306d63d594e18004af0df7c</td><td>Universidad Nacional Mayor De San Marcos</td><td>Universidad Nacional Mayor de San Marcos</td></tr><tr><td>6306d8179fa239004bdf2d67</td><td>Universidad Tecnológica Del Perú - Utp</td><td>Universidad Tecnológica del Perú S.A.C.</td></tr><tr><td>6306d853594e18004af10476</td><td>Universidad De San Martin De Porres - Usmp</td><td>Universidad de San Martín de Porres</td></tr><tr><td>630a7e57b92f4f0008c0aaa2</td><td>Universidad Tecnológica Del Perú</td><td>Universidad Tecnológica del Perú S.A.C.</td></tr><tr><td>630a84f629da5b0008a1d681</td><td>Universidad San Ignacio De Loyola - Usil</td><td>Universidad San Ignacio de Loyola S.R.L.</td></tr><tr><td>630a84f629da5b0008a1d681</td><td>Instituto San Ignacio De Loyola - Isil</td><td>Universidad San Ignacio de Loyola S.R.L.</td></tr><tr><td>630a9adfd7fa700008e96a86</td><td>Universidad Nacional De Piura</td><td>Universidad Nacional de Piura</td></tr><tr><td>6306d82b594e18004af0fe4b</td><td>Universidad Privada Del Norte</td><td>Universidad Privada del Norte S.A.C.</td></tr><tr><td>6306d777594e18004af0e7a9</td><td>Universidad Privada Del Norte</td><td>Universidad Privada del Norte S.A.C.</td></tr><tr><td>6306d63d594e18004af0de20</td><td>Universidad De Lima</td><td>Universidad de Lima</td></tr><tr><td>630be93fe86a980008e0bf6e</td><td>Universidad Nacional Federico Villarreal.</td><td>Universidad Nacional Federico Villarreal</td></tr><tr><td>6306d777594e18004af0eed5</td><td>Universidad Nacional Federico Villarreal - Unfv</td><td>Universidad Nacional Federico Villarreal</td></tr><tr><td>630c4770d7fa700008e9929e</td><td>Daniel Alcides Carrión</td><td>Universidad Nacional Daniel Alcides Carrión</td></tr><tr><td>6306d8179fa239004bdf2b8d</td><td>Universidad Peruana De Ciencias Aplicadas - Upc</td><td>Universidad Peruana de Ciencias Aplicadas S.A.C.</td></tr><tr><td>6306d63d594e18004af0e192</td><td>Universidad Tecnológica Del Perú - Utp</td><td>Universidad Tecnológica del Perú S.A.C.</td></tr><tr><td>6306d777594e18004af0e815</td><td>Universidad San Ignacio De Loyola - Usil</td><td>Universidad San Ignacio de Loyola S.R.L.</td></tr><tr><td>630cd8ddd7fa700008e99b17</td><td>Instituto San Ignacio De Loyola - Isil</td><td>Universidad San Ignacio de Loyola S.R.L.</td></tr><tr><td>630ce0b31e599d0009d899ac</td><td>Universidad Peruana De Ciencias Aplicadas</td><td>Universidad Peruana de Ciencias Aplicadas S.A.C.</td></tr><tr><td>6306d802594e18004af0f538</td><td>Universidad Cesar Vallejo</td><td>Universidad César Vallejo S.A.C.</td></tr><tr><td>630cf7f7d7fa700008e9a93b</td><td>Universidad Privada San Juan Bautista</td><td>Universidad Privada San Juan Bautista S.A.C.</td></tr><tr><td>630d071ad7fa700008e9aea4</td><td>Universidad De Piura</td><td>Universidad de Piura</td></tr><tr><td>6306d63c594e18004af0d736</td><td>Universidad San Ignacio De Loyola</td><td>Universidad San Ignacio de Loyola S.R.L.</td></tr><tr><td>630d389db92f4f0008c0fd9f</td><td>Universidad Privada Del Norte</td><td>Universidad Privada del Norte S.A.C.</td></tr><tr><td>630d39d3b92f4f0008c0fe87</td><td>Universidad Nacional Del Callao</td><td>Universidad Nacional del Callao</td></tr><tr><td>630d6fad9bdb400009f442c8</td><td>Universidad Cesar Vallejo.</td><td>Universidad César Vallejo S.A.C.</td></tr><tr><td>630d7e907e5d980009c6e0a5</td><td>Universidad Nacional De San Antonio Abad Del Cusco - Unsaac</td><td>Universidad Nacional de San Antonio Abad del Cusco</td></tr><tr><td>630d7e907e5d980009c6e0a5</td><td>Universidad Nacional De San Antonio Abad Del Cusco - Unsaac</td><td>Universidad Nacional de San Antonio Abad del Cusco</td></tr><tr><td>6306d63d594e18004af0dc5e</td><td>Universidad Privada Del Norte</td><td>Universidad Privada del Norte S.A.C.</td></tr><tr><td>630e3d989bdb400009f4573d</td><td>Universidad Tecnológica Del Perú-utp</td><td>Universidad Tecnológica del Perú S.A.C.</td></tr><tr><td>630e863a516b7b0008dd5dfc</td><td>Upc</td><td>Universidad Peruana de Ciencias Aplicadas S.A.C.</td></tr><tr><td>630e8bd0516b7b0008dd5eb5</td><td>Universidad Privada Del Norte - Upn</td><td>Universidad Privada del Norte S.A.C.</td></tr><tr><td>6306d6dd9fa239004bdf1eb5</td><td>Universidad Nacional De La Amazonía Peruana</td><td>Universidad Nacional de la Amazonía Peruana</td></tr><tr><td>6306d82b594e18004af0fe63</td><td>Universidad Católica Sedes Sapientiae - Ucss</td><td>Universidad Católica Sedes Sapientiae</td></tr><tr><td>630665b89fa239004bddc497</td><td>Instituto San Ignacio De Loyola</td><td>Universidad San Ignacio de Loyola S.R.L.</td></tr><tr><td>6306d8179fa239004bdf2d7f</td><td>Universidad Ricardo Palma</td><td>Universidad Ricardo Palma</td></tr><tr><td>630ec5ab9bdb400009f46e20</td><td>Universidad Autónoma Del Perú - Ua</td><td>Universidad Autónoma del Perú S.A.C.</td></tr><tr><td>630ed0d61d665a00086fc39b</td><td>Universidad San Ignacio De Loyola</td><td>Universidad San Ignacio de Loyola S.R.L.</td></tr><tr><td>630f9d077e5d980009c725f7</td><td>Universidad Privada Norbert Wiener (uwiener)</td><td>Universidad Privada Norbert Wiener S.A.</td></tr><tr><td>6306d82b594e18004af0ff83</td><td>Universidad Tecnológica Del Perú (utp)</td><td>Universidad Tecnológica del Perú S.A.C.</td></tr><tr><td>6306d8179fa239004bdf2a0d</td><td>Universidad Nacional Agraria La Molina - La Molina</td><td>Universidad Nacional Agraria La Molina</td></tr><tr><td>6306d6099fa239004bdf0399</td><td>Universidad San Ignacio De Loyola - Usil</td><td>Universidad San Ignacio de Loyola S.R.L.</td></tr><tr><td>6306d63c594e18004af0d844</td><td>Universidad Nacional Federico Villarreal</td><td>Universidad Nacional Federico Villarreal</td></tr><tr><td>630ffd4e7e5d980009c74e82</td><td>Universidad Cesar Vallejo</td><td>Universidad César Vallejo S.A.C.</td></tr><tr><td>630fff6c5a5f2e0009f8f002</td><td>Centro De Informatica Y Telecomunicacion De La Universidad Nacional  De Tumbes</td><td>Universidad Nacional de Tumbes</td></tr><tr><td>6306d853594e18004af1006e</td><td>Universidad Nacional Del Callao - Unac</td><td>Universidad Nacional del Callao</td></tr><tr><td>631028df5a5f2e0009f8ff85</td><td>Universidad De San Martin De Porres - Usmp</td><td>Universidad de San Martín de Porres</td></tr><tr><td>631056af5a5f2e0009f908ea</td><td>Universidad Cesar Vallejo - Ucv</td><td>Universidad César Vallejo S.A.C.</td></tr><tr><td>6310c17b5a5f2e0009f9104b</td><td>Universidad Tecnológica Del Perú</td><td>Universidad Tecnológica del Perú S.A.C.</td></tr><tr><td>6306d777594e18004af0e923</td><td>Universidad Tecnológica Del Perú</td><td>Universidad Tecnológica del Perú S.A.C.</td></tr><tr><td>6310d7429bdb400009f4d8f9</td><td>Universidad Privada Del Norte - Unp</td><td>Universidad Privada del Norte S.A.C.</td></tr><tr><td>6310f0d01d665a0008703762</td><td>Universidad Tecnológica Del Perú</td><td>Universidad Tecnológica del Perú S.A.C.</td></tr><tr><td>631109f57e5d980009c79124</td><td>Universidad Tecnológica Del Perú</td><td>Universidad Tecnológica del Perú S.A.C.</td></tr><tr><td>63110a109bdb400009f4fa94</td><td>Unfv</td><td>Universidad Nacional Federico Villarreal</td></tr><tr><td>63111ffb4253530009af7954</td><td>Universidad Católica Sedes Sapientiae - Ucss</td><td>Universidad Católica Sedes Sapientiae</td></tr><tr><td>6306d802594e18004af0f706</td><td>Instituto San Ignacio De Loyola Isil</td><td>Universidad San Ignacio de Loyola S.R.L.</td></tr><tr><td>6306d802594e18004af0f760</td><td>Universidad Nacional De Piura</td><td>Universidad Nacional de Piura</td></tr><tr><td>6306d802594e18004af0fad8</td><td>Universidad Cesar Vallejo</td><td>Universidad César Vallejo S.A.C.</td></tr><tr><td>6306d853594e18004af100e6</td><td>Universidad De San Martín De Porres</td><td>Universidad de San Martín de Porres</td></tr><tr><td>631166067e5d980009c7b49c</td><td>Universidad Nacional Del Callao</td><td>Universidad Nacional del Callao</td></tr><tr><td>6306d63d594e18004af0dcc4</td><td>Universidad Cesar Vallejo</td><td>Universidad César Vallejo S.A.C.</td></tr><tr><td>63119faff4622c0008c18647</td><td>Universidad Privada Del Norte</td><td>Universidad Privada del Norte S.A.C.</td></tr><tr><td>63120bce5073940008a1f648</td><td>Universidad Privada Del Norte</td><td>Universidad Privada del Norte S.A.C.</td></tr><tr><td>631228135073940008a1fec0</td><td>Universidad Tecnologica Del Peru</td><td>Universidad Tecnológica del Perú S.A.C.</td></tr><tr><td>631256826442660008f376b5</td><td>Universidad  Privada  Del Norte</td><td>Universidad Privada del Norte S.A.C.</td></tr><tr><td>6306d82b594e18004af0fe03</td><td>Universidad Cesar Vallejo</td><td>Universidad César Vallejo S.A.C.</td></tr><tr><td>63127e158ad71a0008d6fd53</td><td>Universidad San Ignacio De Loyola - Usil</td><td>Universidad San Ignacio de Loyola S.R.L.</td></tr><tr><td>631280468ad71a0008d6fe12</td><td>Universidad Privada Del Norte - Unp</td><td>Universidad Privada del Norte S.A.C.</td></tr><tr><td>6306d6dd9fa239004bdf1e7f</td><td>Universidad Nacional Mayor De San Marcos</td><td>Universidad Nacional Mayor de San Marcos</td></tr><tr><td>6306d6dd9fa239004bdf1e7f</td><td>Universidad Nacional Del Callao</td><td>Universidad Nacional del Callao</td></tr><tr><td>6306d6dd9fa239004bdf1e7f</td><td>Universidad Nacional Mayor De San Marcos</td><td>Universidad Nacional Mayor de San Marcos</td></tr><tr><td>631242cd6442660008f368a2</td><td>Universidad Continental De Ciencias E Ingeniería - Ucci</td><td>Universidad Continental S.A.C.</td></tr><tr><td>631242cd6442660008f368a2</td><td>Universidad Continental De Ciencias E Ingeniería - Ucci</td><td>Universidad Continental S.A.C.</td></tr><tr><td>631242cd6442660008f368a2</td><td>Universidad Continental De Ciencias E Ingeniería - Ucci</td><td>Universidad Continental S.A.C.</td></tr><tr><td>631242cd6442660008f368a2</td><td>Universidad Continental De Ciencias E Ingeniería - Ucci</td><td>Universidad Continental S.A.C.</td></tr><tr><td>631242cd6442660008f368a2</td><td>Universidad Nacional Del Centro Del Peru</td><td>Universidad Nacional del Centro del Perú</td></tr><tr><td>631242cd6442660008f368a2</td><td>Universidad Continental De Ciencias E In</td><td>Universidad Continental S.A.C.</td></tr><tr><td>631242cd6442660008f368a2</td><td>Universidad Nacional Del Centro Del Peru</td><td>Universidad Nacional del Centro del Perú</td></tr><tr><td>631242cd6442660008f368a2</td><td>Universidad Continental De Ciencias E Ingenieria</td><td>Universidad Continental S.A.C.</td></tr><tr><td>6317658fe5ee99003f0aa504</td><td>Universidad Cesar Vallejo</td><td>Universidad César Vallejo S.A.C.</td></tr><tr><td>6306d8179fa239004bdf28a5</td><td>Universidad De San Martín De Porres</td><td>Universidad de San Martín de Porres</td></tr><tr><td>6306d802594e18004af0f4d2</td><td>Universidad Privada Del Norte</td><td>Universidad Privada del Norte S.A.C.</td></tr><tr><td>6318d1339bc8d90009563dee</td><td>Universidad San Martín De Porres</td><td>Universidad de San Martín de Porres</td></tr><tr><td>6318ed821c7bdc00081b9bb6</td><td>Universidad Peruana De Ciencias Aplicadas - Upc</td><td>Universidad Peruana de Ciencias Aplicadas S.A.C.</td></tr><tr><td>631910cf1c7bdc00081bad11</td><td>Universidad Nacional Federico Villarreal</td><td>Universidad Nacional Federico Villarreal</td></tr><tr><td>63191dd319d98e0008e9bacd</td><td>Universidad Privada Del Norte</td><td>Universidad Privada del Norte S.A.C.</td></tr><tr><td>6306d777594e18004af0e695</td><td>Universidad Nacional Agraria De La Selva - Unas</td><td>Universidad Nacional Agraria de la Selva</td></tr><tr><td>631948461c7bdc00081bc6f8</td><td>Universidad Ricardo Palma</td><td>Universidad Ricardo Palma</td></tr><tr><td>631949178a691c00087c5d98</td><td>Universidad Cesar Vallejo</td><td>Universidad César Vallejo S.A.C.</td></tr><tr><td>63194c678a691c00087c6039</td><td>Universidad Tecnológica Del Perú</td><td>Universidad Tecnológica del Perú S.A.C.</td></tr><tr><td>63194fbd8a691c00087c61c3</td><td>Universidad San Ignacio De Loyola - Usil</td><td>Universidad San Ignacio de Loyola S.R.L.</td></tr><tr><td>631952331c7bdc00081bccc6</td><td>Universidad Privada Del Norte</td><td>Universidad Privada del Norte S.A.C.</td></tr><tr><td>631956249bc8d90009568215</td><td>Unac</td><td>Universidad Nacional del Callao</td></tr><tr><td>63195614c31a670008a59a1a</td><td>Universidad Tecnológica Del Perú</td><td>Universidad Tecnológica del Perú S.A.C.</td></tr><tr><td>63195a19c31a670008a59b5f</td><td>Universidad De Ciencias Aplicadas</td><td>Universidad Peruana de Ciencias Aplicadas S.A.C.</td></tr><tr><td>63195a19c31a670008a59b5f</td><td>Le Cordon Bleu Peru</td><td>Universidad Le Cordon Bleu S.A.C.</td></tr><tr><td>63195a578a691c00087c68ff</td><td>Universidad Continental</td><td>Universidad Continental S.A.C.</td></tr><tr><td>63195ccc8a691c00087c699e</td><td>Universidad Nacional Federico Villarreal - Unfv</td><td>Universidad Nacional Federico Villarreal</td></tr><tr><td>6319635219d98e0008e9dd05</td><td>Universidad Privada Del Norte - Upn</td><td>Universidad Privada del Norte S.A.C.</td></tr><tr><td>6319658d1c7bdc00081bd442</td><td>Instituto San Ignacio De Loyola - Isil</td><td>Universidad San Ignacio de Loyola S.R.L.</td></tr><tr><td>6319696a19d98e0008e9def9</td><td>Universidad César Vallejo</td><td>Universidad César Vallejo S.A.C.</td></tr><tr><td>63196ea59bc8d90009568889</td><td>Universidad Privada Del Norte</td><td>Universidad Privada del Norte S.A.C.</td></tr><tr><td>63197a058a691c00087c70f6</td><td>Universidad Católica Sedes Sapientiae</td><td>Universidad Católica Sedes Sapientiae</td></tr><tr><td>6319834acfc3230008d97c2d</td><td>Universidad Jaime Bausate Y Meza</td><td>Universidad Jaime Bausate y Meza</td></tr><tr><td>6319d4a419d98e0008e9e855</td><td>Universidad Nacional De Educación Enrique Guzmán Y Valle - La Cantuta</td><td>Universidad Nacional de Educación Enrique Guzmán y Valle</td></tr><tr><td>6319ed481c7bdc00081be00c</td><td>Universidad Tecnológica Del Perú - Utp</td><td>Universidad Tecnológica del Perú S.A.C.</td></tr><tr><td>631a060519d98e0008e9ee89</td><td>Universidad Nacional Federico Villarreal</td><td>Universidad Nacional Federico Villarreal</td></tr><tr><td>631a0c5b9bc8d90009569a0b</td><td>Universidad Nacional Mayor De San Marcos</td><td>Universidad Nacional Mayor de San Marcos</td></tr><tr><td>631a385bc31a670008a5c351</td><td>Universidad Privada Del Norte</td><td>Universidad Privada del Norte S.A.C.</td></tr><tr><td>631a42b1c31a670008a5c591</td><td>Universidad Privada Del Norte - Upn</td><td>Universidad Privada del Norte S.A.C.</td></tr><tr><td>631a46b419d98e0008ea0db4</td><td>Universidad César Vallejo</td><td>Universidad César Vallejo S.A.C.</td></tr><tr><td>631a87ca9bc8d9000956d025</td><td>Universidad Nacional José Faustino Sánchez Carrión</td><td>Universidad Nacional José Faustino Sánchez Carrión</td></tr><tr><td>631a937167f46700086816ed</td><td>Universidad Nacional De La Amazonia Peruana - Unap</td><td>Universidad Nacional de la Amazonía Peruana</td></tr><tr><td>631a9fad8ddb27000869af69</td><td>Universidad Ricardo Palma</td><td>Universidad Ricardo Palma</td></tr><tr><td>631aadcb1c56340008d6ae47</td><td>Universidad César Vallejo</td><td>Universidad César Vallejo S.A.C.</td></tr><tr><td>631b37501c56340008d6b7f0</td><td>Universidad Tecnológica Del Perú</td><td>Universidad Tecnológica del Perú S.A.C.</td></tr><tr><td>631b42ff756c7c0009647844</td><td>Universidad Nacional Federico Villarreal</td><td>Universidad Nacional Federico Villarreal</td></tr><tr><td>631a58a18a691c00087ca0e0</td><td>Cesar Vallejo</td><td>Universidad César Vallejo S.A.C.</td></tr><tr><td>631a58a18a691c00087ca0e0</td><td>Cesar Vallejo</td><td>Universidad César Vallejo S.A.C.</td></tr><tr><td>631b49ddbac1bc000908cbba</td><td>Universidad Privada Del Norte</td><td>Universidad Privada del Norte S.A.C.</td></tr><tr><td>631b5c451c56340008d6bcc1</td><td>Universidad Tecnologica Del Peru</td><td>Universidad Tecnológica del Perú S.A.C.</td></tr><tr><td>631b596067f4670008682b46</td><td>Pontificia Universidad Católica Del Perú</td><td>Pontificia Universidad Católica del Perú</td></tr><tr><td>631b596067f4670008682b46</td><td>Universidad Nacional Mayor De San Marcos</td><td>Universidad Nacional Mayor de San Marcos</td></tr><tr><td>6306d802594e18004af0f7b4</td><td>Universidad Nacional Mayor De San Marcos</td><td>Universidad Nacional Mayor de San Marcos</td></tr><tr><td>631be713756c7c000964a4c3</td><td>Universidad Tecnológica Del Perú</td><td>Universidad Tecnológica del Perú S.A.C.</td></tr><tr><td>631cce4a8ddb27000869fe8f</td><td>Universidad Tecnológica Del Perú</td><td>Universidad Tecnológica del Perú S.A.C.</td></tr><tr><td>631ccfb68ddb27000869fe97</td><td>Universidad Privada San Juan Bautista</td><td>Universidad Privada San Juan Bautista S.A.C.</td></tr><tr><td>631ce60967f4670008686b9e</td><td>Universidad Nacional Del Callao</td><td>Universidad Nacional del Callao</td></tr><tr><td>631d24df1c56340008d70886</td><td>Universidad Cesar Vallejo</td><td>Universidad César Vallejo S.A.C.</td></tr><tr><td>631eb2161c56340008d71f7a</td><td>Univesidad Nacional Mayor De San Marcos</td><td>Universidad Nacional Mayor de San Marcos</td></tr><tr><td>631e0d02bac1bc0009092e1d</td><td>Universidad Privada Antenor Orrego</td><td>Universidad Privada Antenor Orrego</td></tr><tr><td>631f4e5367f4670008689418</td><td>Universidad Privada Del Norte</td><td>Universidad Privada del Norte S.A.C.</td></tr><tr><td>631f4250756c7c000964e3c2</td><td>Universidad Cesar Vallejo - Ucv</td><td>Universidad César Vallejo S.A.C.</td></tr><tr><td>631fb94bbac1bc0009096a76</td><td>Universidad Privada Del Norte - Upn</td><td>Universidad Privada del Norte S.A.C.</td></tr><tr><td>631f9c0dec32bd0007ba453f</td><td>Universidad Privada Del Norte</td><td>Universidad Privada del Norte S.A.C.</td></tr><tr><td>631f9c0dec32bd0007ba453f</td><td>Universidad Mayor De San Marcos</td><td>Universidad Nacional Mayor de San Marcos</td></tr><tr><td>631f5afe844cb4003f2ddb79</td><td>Universidad Privada Del Norte</td><td>Universidad Privada del Norte S.A.C.</td></tr><tr><td>631ff421469d5700083df48f</td><td>Universidad Peruana De Ciencias Aplicadas</td><td>Universidad Peruana de Ciencias Aplicadas S.A.C.</td></tr><tr><td>63201345e5ee99003f13743b</td><td>Universidad Privada Del Norte - Upn</td><td>Universidad Privada del Norte S.A.C.</td></tr><tr><td>63201345e5ee99003f13743b</td><td>Universidad Cesar Vallejo - Ucv</td><td>Universidad César Vallejo S.A.C.</td></tr><tr><td>63201345e5ee99003f1375e5</td><td>Universidad Privada Del Norte ( Upn )</td><td>Universidad Privada del Norte S.A.C.</td></tr><tr><td>6320b774e5ee99003f15525d</td><td>Univ Cesar Vallejo</td><td>Universidad César Vallejo S.A.C.</td></tr><tr><td>63201345e5ee99003f1372b5</td><td>Universidad Privada Del Norte</td><td>Universidad Privada del Norte S.A.C.</td></tr><tr><td>6320b774e5ee99003f155257</td><td>Universidad Nacional De Educación Enrique Guzman Y Valle</td><td>Universidad Nacional de Educación Enrique Guzmán y Valle</td></tr><tr><td>6321f446e5ee99003f166cc4</td><td>Universidad Federico Villarreal</td><td>Universidad Nacional Federico Villarreal</td></tr><tr><td>6321f446e5ee99003f166cb8</td><td>Universidad Nacional Del Callao</td><td>Universidad Nacional del Callao</td></tr><tr><td>63201345e5ee99003f1375bb</td><td>Universidad Privada Del Norte</td><td>Universidad Privada del Norte S.A.C.</td></tr><tr><td>632356b4e5ee99003f1779dd</td><td>Universidad Federico Villarreal</td><td>Universidad Nacional Federico Villarreal</td></tr><tr><td>631d38fe469d5700083d9b0e</td><td>Universidad San Ignacio De Loyola</td><td>Universidad San Ignacio de Loyola S.R.L.</td></tr><tr><td>632356b4e5ee99003f1779e9</td><td>Universidad Nacional De San Martín</td><td>Universidad Nacional de San Martín</td></tr><tr><td>63290f672ff5e80008d83c43</td><td>Universidad Cientifica  Del Sur</td><td>Universidad Científica del Sur S.A.C.</td></tr><tr><td>6306d777594e18004af0ec7d</td><td>Utp</td><td>Universidad Tecnológica del Perú S.A.C.</td></tr><tr><td>632b232a35b6d50040d3452e</td><td>Universidad César Vallejo</td><td>Universidad César Vallejo S.A.C.</td></tr><tr><td>632c74527e473700401d4670</td><td>Universidad Cesar Vallejo - Ucv</td><td>Universidad César Vallejo S.A.C.</td></tr><tr><td>632c74527e473700401d4652</td><td>Cesar Vallejo</td><td>Universidad César Vallejo S.A.C.</td></tr><tr><td>632c74527e473700401d4664</td><td>Univeridad Privada Del Norte</td><td>Universidad Privada del Norte S.A.C.</td></tr><tr><td>633757fd7e473700402fbff9</td><td>José Cayetano Heredia</td><td>Universidad Peruana Cayetano Heredia</td></tr><tr><td>6337bc26ea7d3a0008c7b250</td><td>Universidad Católica Sedes Sapientiae</td><td>Universidad Católica Sedes Sapientiae</td></tr><tr><td>633aff6832fb480008052f9d</td><td>Universidad Autónoma De Ica</td><td>Universidad Autónoma de Ica S.A.C.</td></tr><tr><td>633aff6832fb480008052fb1</td><td>Cesar Vallejo</td><td>Universidad César Vallejo S.A.C.</td></tr><tr><td>633aff6832fb480008052fb1</td><td>Cesar Vallejo</td><td>Universidad César Vallejo S.A.C.</td></tr><tr><td>633aff6832fb480008052fb9</td><td>Univesidad César Vallejo</td><td>Universidad César Vallejo S.A.C.</td></tr><tr><td>633aff6832fb480008053005</td><td>Universidad Privada Del Norte</td><td>Universidad Privada del Norte S.A.C.</td></tr><tr><td>633aff6832fb480008053043</td><td>Universidad Privada Del Norte</td><td>Universidad Privada del Norte S.A.C.</td></tr><tr><td>633aff6832fb4800080530f8</td><td>Universidad Tecnológica Del Perú</td><td>Universidad Tecnológica del Perú S.A.C.</td></tr><tr><td>633aff6832fb480008053135</td><td>Universidad Nacional De Tumbes - Unt</td><td>Universidad Nacional de Tumbes</td></tr><tr><td>633aff6832fb480008053059</td><td>Universidad Nacional Del Callao Unac</td><td>Universidad Nacional del Callao</td></tr><tr><td>633aff6832fb48000805312b</td><td>Utp</td><td>Universidad Tecnológica del Perú S.A.C.</td></tr><tr><td>633aff6832fb4800080531ff</td><td>Universidad Nacional Mayor De San Marcos</td><td>Universidad Nacional Mayor de San Marcos</td></tr><tr><td>633aff6832fb4800080531b6</td><td>I.e César Vallejo</td><td>Universidad César Vallejo S.A.C.</td></tr><tr><td>633aff6832fb4800080532bd</td><td>Universidad Cesar Vallejo</td><td>Universidad César Vallejo S.A.C.</td></tr><tr><td>633aff6832fb480008052f93</td><td>Universidad Privada Del Norte</td><td>Universidad Privada del Norte S.A.C.</td></tr><tr><td>633aff6832fb4800080532e9</td><td>Universidad Privada Del Norte</td><td>Universidad Privada del Norte S.A.C.</td></tr><tr><td>633aff6832fb4800080532fb</td><td>Universidad Nacional Del Callao - Unac</td><td>Universidad Nacional del Callao</td></tr><tr><td>633aff6832fb48000805331b</td><td>Universidad Tecnológica Del Perú</td><td>Universidad Tecnológica del Perú S.A.C.</td></tr><tr><td>633aff6832fb480008053327</td><td>Universidad Privada Del Norte</td><td>Universidad Privada del Norte S.A.C.</td></tr><tr><td>633aff6832fb48000805332e</td><td>Universidad Privada Del Norte - Upn</td><td>Universidad Privada del Norte S.A.C.</td></tr><tr><td>633fd4e0ed0d7a00076650fb</td><td>San Ignacio De Loyola</td><td>Universidad San Ignacio de Loyola S.R.L.</td></tr><tr><td>63102ceb1d665a00087019b7</td><td>Utp</td><td>Universidad Tecnológica del Perú S.A.C.</td></tr><tr><td>6310bfd54253530009af4988</td><td>Universidad Tecnológica Del Perú</td><td>Universidad Tecnológica del Perú S.A.C.</td></tr><tr><td>6310cc964253530009af4d77</td><td>Universidad Privada Del Norte</td><td>Universidad Privada del Norte S.A.C.</td></tr><tr><td>631104575a5f2e0009f9304e</td><td>Universidad Privada Del Norte</td><td>Universidad Privada del Norte S.A.C.</td></tr><tr><td>63112c8d9bdb400009f50857</td><td>Universidad Privada Del Norte</td><td>Universidad Privada del Norte S.A.C.</td></tr><tr><td>63113bbd4253530009af851d</td><td>Universidad Cesar Vallejo</td><td>Universidad César Vallejo S.A.C.</td></tr><tr><td>63113bbd4253530009af851d</td><td>Universidad Cesar Vallejo</td><td>Universidad César Vallejo S.A.C.</td></tr><tr><td>6311438c4253530009af889e</td><td>Universidad Tecnológica Del Perú</td><td>Universidad Tecnológica del Perú S.A.C.</td></tr><tr><td>63115f954253530009af9439</td><td>Universidad Tecnológica Del Perú</td><td>Universidad Tecnológica del Perú S.A.C.</td></tr><tr><td>631168355a5f2e0009f95ad1</td><td>Universidad De Ciencias Aplicadas</td><td>Universidad Peruana de Ciencias Aplicadas S.A.C.</td></tr><tr><td>63116b965a5f2e0009f95cb3</td><td>Universidad Privada Antenor Orrego</td><td>Universidad Privada Antenor Orrego</td></tr><tr><td>63117268f4622c0008c17c3d</td><td>Universidad Privada Del Norte</td><td>Universidad Privada del Norte S.A.C.</td></tr><tr><td>63121bf803ed1f00085bed81</td><td>Universidad Privada Del Norte</td><td>Universidad Privada del Norte S.A.C.</td></tr><tr><td>6312222d0d11cc000ad2d040</td><td>Universidad San Agustín De Arequipa</td><td>Universidad Nacional de San Agustín de Arequipa</td></tr><tr><td>63121ff403ed1f00085bee9f</td><td>Upc</td><td>Universidad Peruana de Ciencias Aplicadas S.A.C.</td></tr><tr><td>631242e803ed1f00085bfd05</td><td>Ricardo Palma</td><td>Universidad Ricardo Palma</td></tr><tr><td>631254698ad71a0008d6f0a7</td><td>Universidad  Privada  Del Norte</td><td>Universidad Privada del Norte S.A.C.</td></tr><tr><td>631260545073940008a21857</td><td>Universidad Autonoma Del Peru</td><td>Universidad Autónoma del Perú S.A.C.</td></tr><tr><td>6312a4a8e5ee99003f0868a4</td><td>Universidad Tecnológica Del Perú</td><td>Universidad Tecnológica del Perú S.A.C.</td></tr><tr><td>6312a43d844cb4003f22de4c</td><td>Universidad Cesar Vallejo - Ucv</td><td>Universidad César Vallejo S.A.C.</td></tr><tr><td>6312a4a8e5ee99003f0863d0</td><td>Universidad Tecnológica Del Perú</td><td>Universidad Tecnológica del Perú S.A.C.</td></tr><tr><td>6312a43d844cb4003f22e026</td><td>Universidad Privada Del Norte</td><td>Universidad Privada del Norte S.A.C.</td></tr><tr><td>63128e34844cb4003f22c784</td><td>Universidad Privada Del Norte</td><td>Universidad Privada del Norte S.A.C.</td></tr><tr><td>6312a4a8e5ee99003f086b26</td><td>Universidad Nacional De Cañete</td><td>Universidad Nacional de Cañete</td></tr><tr><td>63128e34844cb4003f22bf0e</td><td>Universidad Tecnológica Del Perú</td><td>Universidad Tecnológica del Perú S.A.C.</td></tr><tr><td>6312a4a8e5ee99003f0863e2</td><td>Universidad Tecnológica Del Perú - Utp</td><td>Universidad Tecnológica del Perú S.A.C.</td></tr><tr><td>6312a4a8e5ee99003f0865ec</td><td>Universidad Peruana De Ciencias Aplicadas</td><td>Universidad Peruana de Ciencias Aplicadas S.A.C.</td></tr><tr><td>6312a4a8e5ee99003f085fc2</td><td>Universidad Privada Del Norte</td><td>Universidad Privada del Norte S.A.C.</td></tr><tr><td>63128e34844cb4003f22baca</td><td>Universidad Privada Del Norte</td><td>Universidad Privada del Norte S.A.C.</td></tr><tr><td>63128e34844cb4003f22ba58</td><td>Upn</td><td>Universidad Privada del Norte S.A.C.</td></tr><tr><td>63128e34844cb4003f22bd6a</td><td>Universidad Privada Del Norte</td><td>Universidad Privada del Norte S.A.C.</td></tr><tr><td>63128e34844cb4003f22bdf4</td><td>Universidad Privada Del Norte</td><td>Universidad Privada del Norte S.A.C.</td></tr><tr><td>6312a4a8e5ee99003f086802</td><td>Universidad Cesar Vallejo</td><td>Universidad César Vallejo S.A.C.</td></tr><tr><td>6312a4a8e5ee99003f085f02</td><td>Utp</td><td>Universidad Tecnológica del Perú S.A.C.</td></tr><tr><td>63128e34844cb4003f22ba9a</td><td>Universidad Tecnológica Del Perú</td><td>Universidad Tecnológica del Perú S.A.C.</td></tr><tr><td>63128e34844cb4003f22bd7c</td><td>Universidad Nacional Del Callao</td><td>Universidad Nacional del Callao</td></tr><tr><td>6312a4a8e5ee99003f085698</td><td>Universidad Cesar Vallejo</td><td>Universidad César Vallejo S.A.C.</td></tr><tr><td>63128e34844cb4003f22c0a6</td><td>Univerdidad Privada Norbert Wiener</td><td>Universidad Privada Norbert Wiener S.A.</td></tr><tr><td>6312a4a8e5ee99003f086a48</td><td>Universidad De San Martín De Porres</td><td>Universidad de San Martín de Porres</td></tr><tr><td>6312a4a8e5ee99003f086a0c</td><td>Universidad Nacional Del Callao</td><td>Universidad Nacional del Callao</td></tr><tr><td>6312a4a8e5ee99003f086832</td><td>Universidad De San Martin De Porres</td><td>Universidad de San Martín de Porres</td></tr><tr><td>63128e33844cb4003f22b8d8</td><td>Universidad Nacional Federico Villarreal - Unfv</td><td>Universidad Nacional Federico Villarreal</td></tr><tr><td>6312a4a8e5ee99003f085932</td><td>Universidad Privada Del Norte</td><td>Universidad Privada del Norte S.A.C.</td></tr><tr><td>63128e34844cb4003f22c6c4</td><td>Universidad Cesar Vallejo  Ucv</td><td>Universidad César Vallejo S.A.C.</td></tr><tr><td>6312a43d844cb4003f22e632</td><td>Universidad Privada Del Norte</td><td>Universidad Privada del Norte S.A.C.</td></tr><tr><td>63128e34844cb4003f22c544</td><td>Universidad César Vallejo</td><td>Universidad César Vallejo S.A.C.</td></tr><tr><td>6312a4a8e5ee99003f086400</td><td>Universidad Privada Del Norte</td><td>Universidad Privada del Norte S.A.C.</td></tr><tr><td>6312a4a8e5ee99003f0864fc</td><td>Daniel Alcides Carrión</td><td>Universidad Nacional Daniel Alcides Carrión</td></tr><tr><td>63128e34844cb4003f22c19c</td><td>Universidad Nacional Santiago Antúnez De Mayolo, Huaraz</td><td>Universidad Nacional Santiago Antúnez de Mayolo</td></tr><tr><td>6312b39a5073940008a23c8b</td><td>Universidad Nacional De Piura</td><td>Universidad Nacional de Piura</td></tr><tr><td>6312a4a8e5ee99003f086c52</td><td>Instituto San Ignacio De Loyola</td><td>Universidad San Ignacio de Loyola S.R.L.</td></tr><tr><td>6312a4a8e5ee99003f08581e</td><td>Universidad Científica Del Sur</td><td>Universidad Científica del Sur S.A.C.</td></tr><tr><td>6312a43d844cb4003f22dde6</td><td>Universidad Privada Del Norte</td><td>Universidad Privada del Norte S.A.C.</td></tr><tr><td>63128e34844cb4003f22bb9c</td><td>Universidad Nacional Del Callao</td><td>Universidad Nacional del Callao</td></tr><tr><td>6312a43d844cb4003f22dfcc</td><td>Universodad Privada Del Norte</td><td>Universidad Privada del Norte S.A.C.</td></tr><tr><td>6312b796f4622c0008c1d6f8</td><td>Universidad Peruana De Ciencias Aplicadas - Upc</td><td>Universidad Peruana de Ciencias Aplicadas S.A.C.</td></tr><tr><td>63128e34844cb4003f22bcc8</td><td>Usil</td><td>Universidad San Ignacio de Loyola S.R.L.</td></tr><tr><td>63128e33844cb4003f22b794</td><td>Universidad Cesar Vallejo - Ucv</td><td>Universidad César Vallejo S.A.C.</td></tr><tr><td>63128e33844cb4003f22b794</td><td>Universidad Privada Del Norte</td><td>Universidad Privada del Norte S.A.C.</td></tr><tr><td>63128e34844cb4003f22bbba</td><td>Universidad Cesar Vallejo</td><td>Universidad César Vallejo S.A.C.</td></tr><tr><td>6312a4a8e5ee99003f085f5c</td><td>Usil</td><td>Universidad San Ignacio de Loyola S.R.L.</td></tr><tr><td>63128e34844cb4003f22bbf0</td><td>Universidad De Ciencias Aplicadas - Upc</td><td>Universidad Peruana de Ciencias Aplicadas S.A.C.</td></tr><tr><td>6312a4a8e5ee99003f086046</td><td>Universidad Privada Del Norte</td><td>Universidad Privada del Norte S.A.C.</td></tr><tr><td>63128e34844cb4003f22c4f6</td><td>Universidad Privada Del Norte</td><td>Universidad Privada del Norte S.A.C.</td></tr><tr><td>6312a4a8e5ee99003f086868</td><td>Universidad Cesar Vallejo - Ucv</td><td>Universidad César Vallejo S.A.C.</td></tr><tr><td>6312a4a8e5ee99003f086070</td><td>Universidad Privada Del Norte</td><td>Universidad Privada del Norte S.A.C.</td></tr><tr><td>6312a4a8e5ee99003f086ac6</td><td>Universidad Tecnológica Del Perú</td><td>Universidad Tecnológica del Perú S.A.C.</td></tr><tr><td>6312a4a8e5ee99003f08573a</td><td>Universidad Privada Del Norte</td><td>Universidad Privada del Norte S.A.C.</td></tr><tr><td>6312a4a8e5ee99003f0858c6</td><td>Universidad Peruana De Ciencias Aplicadas</td><td>Universidad Peruana de Ciencias Aplicadas S.A.C.</td></tr><tr><td>6312a4a8e5ee99003f0858c6</td><td>I.e Por Convenio 0001 María Auxiliadora</td><td>Universidad María Auxiliadora S.A.C.</td></tr><tr><td>63128e34844cb4003f22c778</td><td>Universidad Privada Del Norte (upn)</td><td>Universidad Privada del Norte S.A.C.</td></tr><tr><td>63128e34844cb4003f22c778</td><td>Universidad Peruana De Ciencias Aplicadas (upc)</td><td>Universidad Peruana de Ciencias Aplicadas S.A.C.</td></tr><tr><td>6312a4a8e5ee99003f086622</td><td>Instituto De La Clínica Ricardo Palma</td><td>Universidad Ricardo Palma</td></tr><tr><td>6312a4a8e5ee99003f086622</td><td>Universidad Le Cordon Bleu</td><td>Universidad Le Cordon Bleu S.A.C.</td></tr><tr><td>6312a4a8e5ee99003f086184</td><td>Universidad Tecnológica Del Perú</td><td>Universidad Tecnológica del Perú S.A.C.</td></tr><tr><td>6312a4a8e5ee99003f086874</td><td>Utp</td><td>Universidad Tecnológica del Perú S.A.C.</td></tr><tr><td>6312a4a8e5ee99003f086aae</td><td>Universidad Privada Del Norte</td><td>Universidad Privada del Norte S.A.C.</td></tr><tr><td>63128e34844cb4003f22c8b0</td><td>Universidad Nacional Del Callao</td><td>Universidad Nacional del Callao</td></tr><tr><td>6312a4a8e5ee99003f086b02</td><td>Universidad Tecnológica Del Perú</td><td>Universidad Tecnológica del Perú S.A.C.</td></tr><tr><td>6312a4a8e5ee99003f0866a0</td><td>Universidad Autonoma Del Peru</td><td>Universidad Autónoma del Perú S.A.C.</td></tr><tr><td>6312e01f5073940008a248fc</td><td>Universidad Peruana De Ciencias Aplicadas - Upc</td><td>Universidad Peruana de Ciencias Aplicadas S.A.C.</td></tr><tr><td>6312a4a9e5ee99003f086cd0</td><td>Universidad Tecnológica Del Perú</td><td>Universidad Tecnológica del Perú S.A.C.</td></tr><tr><td>63128e34844cb4003f22c03a</td><td>Universidad Ricardo Palma</td><td>Universidad Ricardo Palma</td></tr><tr><td>6312a4a8e5ee99003f0856e0</td><td>Universidad San Ignacio De Loyola</td><td>Universidad San Ignacio de Loyola S.R.L.</td></tr><tr><td>6312a4a8e5ee99003f085a76</td><td>Universidad San Martín De Porres</td><td>Universidad de San Martín de Porres</td></tr><tr><td>6312a4a8e5ee99003f0859f2</td><td>Universidad Tecnológica Del Perú</td><td>Universidad Tecnológica del Perú S.A.C.</td></tr><tr><td>6312a4a8e5ee99003f085b2a</td><td>Universidad Nacional Mayor De San Marcos</td><td>Universidad Nacional Mayor de San Marcos</td></tr><tr><td>63128e34844cb4003f22bf20</td><td>Universidad Peruana De Ciencias Aplicada</td><td>Universidad Peruana de Ciencias Aplicadas S.A.C.</td></tr><tr><td>63128e34844cb4003f22c60a</td><td>Univerisdad Tecnologica Del Peru</td><td>Universidad Tecnológica del Perú S.A.C.</td></tr><tr><td>6312a4a8e5ee99003f086b68</td><td>Universidad Privada Del Norte</td><td>Universidad Privada del Norte S.A.C.</td></tr><tr><td>63128e34844cb4003f22c292</td><td>Universidad Cesar Vallejo - Ucv</td><td>Universidad César Vallejo S.A.C.</td></tr><tr><td>6312a4a8e5ee99003f086208</td><td>Universidad Nacional Mayor De San Marcos</td><td>Universidad Nacional Mayor de San Marcos</td></tr><tr><td>6312a4a8e5ee99003f085c74</td><td>Universidad Tecnológica Del Perú</td><td>Universidad Tecnológica del Perú S.A.C.</td></tr><tr><td>6312a4a8e5ee99003f085b9c</td><td>Universidad Peruana De Ciencias Aplicadas - Upc</td><td>Universidad Peruana de Ciencias Aplicadas S.A.C.</td></tr><tr><td>63128e34844cb4003f22c86e</td><td>Universidad Cesar Vallejo</td><td>Universidad César Vallejo S.A.C.</td></tr><tr><td>6312a4a8e5ee99003f086568</td><td>Universidad Privada Del Norte</td><td>Universidad Privada del Norte S.A.C.</td></tr><tr><td>63128e33844cb4003f22b87e</td><td>Upc</td><td>Universidad Peruana de Ciencias Aplicadas S.A.C.</td></tr><tr><td>6312a4a8e5ee99003f085d2e</td><td>Universidad San Ignacio De Loyola</td><td>Universidad San Ignacio de Loyola S.R.L.</td></tr><tr><td>63128e33844cb4003f22b8fc</td><td>Universidad Privada Del Norte</td><td>Universidad Privada del Norte S.A.C.</td></tr><tr><td>63128e34844cb4003f22c61c</td><td>Instituto San Ignacio De Loyola - Isil</td><td>Universidad San Ignacio de Loyola S.R.L.</td></tr><tr><td>6312a4a8e5ee99003f085bd8</td><td>Universidad Ricardo Palma</td><td>Universidad Ricardo Palma</td></tr><tr><td>6312a4a8e5ee99003f0865e0</td><td>Universidad Privada Del Norte</td><td>Universidad Privada del Norte S.A.C.</td></tr><tr><td>63128e34844cb4003f22be4e</td><td>Ucv</td><td>Universidad César Vallejo S.A.C.</td></tr><tr><td>6312a4a8e5ee99003f085fb0</td><td>Universidad Privada Del Norte - Upn</td><td>Universidad Privada del Norte S.A.C.</td></tr><tr><td>6312a4a8e5ee99003f086c04</td><td>Universidad De San Martin De Porres - Usmp</td><td>Universidad de San Martín de Porres</td></tr><tr><td>63128e34844cb4003f22c928</td><td>Universidad Peruana De Ciencias Aplicadas</td><td>Universidad Peruana de Ciencias Aplicadas S.A.C.</td></tr><tr><td>6312a4a8e5ee99003f086028</td><td>Universidad Privada Del Norte</td><td>Universidad Privada del Norte S.A.C.</td></tr><tr><td>6312a4a8e5ee99003f085dfa</td><td>Upc</td><td>Universidad Peruana de Ciencias Aplicadas S.A.C.</td></tr><tr><td>63128e34844cb4003f22c43c</td><td>Universidad Cesar Vallejo</td><td>Universidad César Vallejo S.A.C.</td></tr><tr><td>6312a4a8e5ee99003f08650e</td><td>Universidad Privada Del Norte</td><td>Universidad Privada del Norte S.A.C.</td></tr><tr><td>6312a43d844cb4003f22e548</td><td>Universidad César Vallejo</td><td>Universidad César Vallejo S.A.C.</td></tr><tr><td>6312a4a9e5ee99003f086d54</td><td>Universidad Tecnologica Del Peru</td><td>Universidad Tecnológica del Perú S.A.C.</td></tr><tr><td>6312a4a8e5ee99003f0864b4</td><td>César Vallejo</td><td>Universidad César Vallejo S.A.C.</td></tr><tr><td>6312a4a9e5ee99003f086d18</td><td>Universidad Cesar Vallejo</td><td>Universidad César Vallejo S.A.C.</td></tr><tr><td>63128e34844cb4003f22c74e</td><td>Cesar Vallejo</td><td>Universidad César Vallejo S.A.C.</td></tr><tr><td>6313e0db8ad71a0008d743d8</td><td>Universidad Nacional Federico Villarreal</td><td>Universidad Nacional Federico Villarreal</td></tr><tr><td>6312a4a8e5ee99003f08639a</td><td>Utp</td><td>Universidad Tecnológica del Perú S.A.C.</td></tr><tr><td>63128e34844cb4003f22c3e2</td><td>Universidad Peruana De Ciencias Aplicadas</td><td>Universidad Peruana de Ciencias Aplicadas S.A.C.</td></tr><tr><td>6312a43d844cb4003f22e4d6</td><td>Universidad Nacional De Trujillo</td><td>Universidad Nacional de Trujillo</td></tr><tr><td>6312a43d844cb4003f22e62c</td><td>Universidad Privada Del Norte - Unp</td><td>Universidad Privada del Norte S.A.C.</td></tr><tr><td>6312a43d844cb4003f22e62c</td><td>Universidad Privada Antenor Orrego</td><td>Universidad Privada Antenor Orrego</td></tr><tr><td>63143bd6f4622c0008c2105b</td><td>Universidad Nacional Del Callao</td><td>Universidad Nacional del Callao</td></tr><tr><td>63128e34844cb4003f22c136</td><td>Universidad Nacional Del Callao</td><td>Universidad Nacional del Callao</td></tr><tr><td>6312a4a8e5ee99003f085d58</td><td>Universidad Nacional Federico Villarreal - Unfv</td><td>Universidad Nacional Federico Villarreal</td></tr><tr><td>6312a4a8e5ee99003f0858a8</td><td>Universidad Cesar Vallejo</td><td>Universidad César Vallejo S.A.C.</td></tr><tr><td>63128e34844cb4003f22c6dc</td><td>Universidad Privada Del Norte</td><td>Universidad Privada del Norte S.A.C.</td></tr><tr><td>6312a43d844cb4003f22e2fc</td><td>Universidad Privada Del Norte</td><td>Universidad Privada del Norte S.A.C.</td></tr><tr><td>63128e34844cb4003f22bc32</td><td>Universidad Privada Del Norte - Unp</td><td>Universidad Privada del Norte S.A.C.</td></tr><tr><td>6314d39b0d11cc000ad35818</td><td>Universidad Cesar Vallejo - Ucv</td><td>Universidad César Vallejo S.A.C.</td></tr><tr><td>6312a4a9e5ee99003f086d42</td><td>San Ignacio De Loyola</td><td>Universidad San Ignacio de Loyola S.R.L.</td></tr><tr><td>6312a4a8e5ee99003f08567a</td><td>Universidad Esan</td><td>Universidad ESAN</td></tr><tr><td>631539e05073940008a2812c</td><td>Universidad Privada Del Norte</td><td>Universidad Privada del Norte S.A.C.</td></tr><tr><td>6312a4a8e5ee99003f08658c</td><td>Universidad Nacional De Educación Enrique Guzmán Y Valle - La Cantuta</td><td>Universidad Nacional de Educación Enrique Guzmán y Valle</td></tr><tr><td>6312a4a8e5ee99003f085896</td><td>Universidad Nacional Mayor De San Marcos</td><td>Universidad Nacional Mayor de San Marcos</td></tr><tr><td>63128e34844cb4003f22c1c0</td><td>Universidad Privada Del Norte</td><td>Universidad Privada del Norte S.A.C.</td></tr><tr><td>6312a4a8e5ee99003f08691c</td><td>Universidad Nacional Mayor De San Marcos</td><td>Universidad Nacional Mayor de San Marcos</td></tr><tr><td>6315636103ed1f00085ec4bf</td><td>Universidad Privada Del Norte</td><td>Universidad Privada del Norte S.A.C.</td></tr><tr><td>6312a4a8e5ee99003f0859f8</td><td>Universidad Tecnológica Del Perú</td><td>Universidad Tecnológica del Perú S.A.C.</td></tr><tr><td>631576600d11cc000ad36f95</td><td>Universidad Privada Del Norte</td><td>Universidad Privada del Norte S.A.C.</td></tr><tr><td>6315ac5703ed1f00085ecd2d</td><td>Universidad César Vallejo</td><td>Universidad César Vallejo S.A.C.</td></tr><tr><td>6312a4a8e5ee99003f08644e</td><td>Universidad Peruana De Ciencias Aplicadas.</td><td>Universidad Peruana de Ciencias Aplicadas S.A.C.</td></tr><tr><td>63160d575073940008a292fe</td><td>Instituto Continental</td><td>Universidad Continental S.A.C.</td></tr><tr><td>631612b88ad71a0008d77107</td><td>Universidad Privada Del Norte</td><td>Universidad Privada del Norte S.A.C.</td></tr><tr><td>6312a43d844cb4003f22e0a4</td><td>Universidad Nacional De Trujillo</td><td>Universidad Nacional de Trujillo</td></tr><tr><td>63161d1a8ad71a0008d774c6</td><td>San Martin De Porres</td><td>Universidad de San Martín de Porres</td></tr><tr><td>63162c11844cb4003f239ae9</td><td>Universidad Privada Del Norte</td><td>Universidad Privada del Norte S.A.C.</td></tr><tr><td>63162c11844cb4003f239ac5</td><td>Universidad Nacional Tecnológica De Lima Sur</td><td>Universidad Nacional Tecnológica de Lima Sur</td></tr><tr><td>63128e34844cb4003f22c826</td><td>Universidad Nacional Federico Villarreal</td><td>Universidad Nacional Federico Villarreal</td></tr><tr><td>6312a4a8e5ee99003f085c9e</td><td>Upc</td><td>Universidad Peruana de Ciencias Aplicadas S.A.C.</td></tr><tr><td>63162c11844cb4003f239acb</td><td>Universidad Cesar Vallejo</td><td>Universidad César Vallejo S.A.C.</td></tr><tr><td>631659676442660008f41b15</td><td>Universidad Tecnológica Del Perú - Utp</td><td>Universidad Tecnológica del Perú S.A.C.</td></tr><tr><td>631662740d11cc000ad39aed</td><td>Ricardo Palma</td><td>Universidad Ricardo Palma</td></tr><tr><td>63166a6f6442660008f421d8</td><td>Universidad Privada Del Norte</td><td>Universidad Privada del Norte S.A.C.</td></tr><tr><td>63166c310d11cc000ad39dfd</td><td>Universidad Privada Del Norte</td><td>Universidad Privada del Norte S.A.C.</td></tr><tr><td>63167df88ad71a0008d798ac</td><td>Upc</td><td>Universidad Peruana de Ciencias Aplicadas S.A.C.</td></tr><tr><td>631689b30d11cc000ad3a8ff</td><td>Universidad Tecnológica Del Perú</td><td>Universidad Tecnológica del Perú S.A.C.</td></tr><tr><td>63168cb95073940008a2f9e1</td><td>Universidad Nacional Mayor De San Marcos</td><td>Universidad Nacional Mayor de San Marcos</td></tr><tr><td>6316922c03ed1f00085f71cf</td><td>Universidad Cesar Vallejo</td><td>Universidad César Vallejo S.A.C.</td></tr><tr><td>6316a6eb5073940008a30408</td><td>Universidad Privada Del Norte</td><td>Universidad Privada del Norte S.A.C.</td></tr><tr><td>6316a6c86442660008f4393c</td><td>Utp</td><td>Universidad Tecnológica del Perú S.A.C.</td></tr><tr><td>6316ab2303ed1f00085f797d</td><td>Universidad Privada Del Norte</td><td>Universidad Privada del Norte S.A.C.</td></tr><tr><td>6316b4dc03ed1f00085f7c26</td><td>Universidad Nacional De Ingenieria</td><td>Universidad Nacional de Ingeniería</td></tr><tr><td>6316b4dc03ed1f00085f7c26</td><td>Colegio La Salle</td><td>Universidad La Salle</td></tr><tr><td>6316cffd8ad71a0008d83a39</td><td>Universidad Tecnológica Del Perú - Utp</td><td>Universidad Tecnológica del Perú S.A.C.</td></tr><tr><td>6316e9c2f4622c0008c27bac</td><td>Universidad Nacional Mayor De San Marcos</td><td>Universidad Nacional Mayor de San Marcos</td></tr><tr><td>63174f7e03ed1f00085f8be3</td><td>Universidad Cesar Vallejo</td><td>Universidad César Vallejo S.A.C.</td></tr><tr><td>631774ee03ed1f00085f9661</td><td>Instituto San Ignacio De Loyola</td><td>Universidad San Ignacio de Loyola S.R.L.</td></tr><tr><td>63177aa18ad71a0008d84cc9</td><td>Ucv</td><td>Universidad César Vallejo S.A.C.</td></tr><tr><td>6312a4a8e5ee99003f085d8e</td><td>San Ignacio De Loyola - Isil</td><td>Universidad San Ignacio de Loyola S.R.L.</td></tr><tr><td>631766b2e5ee99003f0aa522</td><td>Universidad César Vallejo</td><td>Universidad César Vallejo S.A.C.</td></tr><tr><td>6312a43d844cb4003f22e48e</td><td>Universidad Cesar Vallejo</td><td>Universidad César Vallejo S.A.C.</td></tr><tr><td>6317a85103ed1f00085fb88b</td><td>Universidad César Vallejo</td><td>Universidad César Vallejo S.A.C.</td></tr><tr><td>6317a85103ed1f00085fb88b</td><td>I.e.p José María Arguedas</td><td>Universidad Nacional José María Arguedas</td></tr><tr><td>6317a85103ed1f00085fb88b</td><td>I.e Jec Daniel Alcides Carrión</td><td>Universidad Nacional Daniel Alcides Carrión</td></tr><tr><td>6317966f0d11cc000ad3e293</td><td>Universidad Tecnologica Del Peru</td><td>Universidad Tecnológica del Perú S.A.C.</td></tr><tr><td>6317b54f03ed1f00085fbd48</td><td>Universidad Nacional Del Callao</td><td>Universidad Nacional del Callao</td></tr><tr><td>6317b71a03ed1f00085fbe19</td><td>Universidad San Ignacio De Loyola - Usil</td><td>Universidad San Ignacio de Loyola S.R.L.</td></tr><tr><td>6317b71a03ed1f00085fbe19</td><td>Instituto San Ignacio De Loyola - Isil</td><td>Universidad San Ignacio de Loyola S.R.L.</td></tr><tr><td>63162c11844cb4003f239afb</td><td>Universidad San Ignacio De Loyola</td><td>Universidad San Ignacio de Loyola S.R.L.</td></tr><tr><td>6317c0c20d11cc000ad3f9ad</td><td>Universidad Nacional Del Callao</td><td>Universidad Nacional del Callao</td></tr><tr><td>6317db0919d98e0008e970e2</td><td>Universidad Privada Del Norte</td><td>Universidad Privada del Norte S.A.C.</td></tr><tr><td>6317dfaacfc3230008d91339</td><td>Universidad Cesar Vallejo - Ucv</td><td>Universidad César Vallejo S.A.C.</td></tr><tr><td>63128e34844cb4003f22beb4</td><td>Universidad César Vallejo</td><td>Universidad César Vallejo S.A.C.</td></tr><tr><td>6317ed9a9bc8d90009562124</td><td>Universidad Tecnológica Del Perú - Utp</td><td>Universidad Tecnológica del Perú S.A.C.</td></tr><tr><td>631800c48a691c00087bed56</td><td>Universidad Cesar Vallejo</td><td>Universidad César Vallejo S.A.C.</td></tr><tr><td>6312a4a8e5ee99003f086c8e</td><td>\"Universidad Particular \"\"san Martín De Porres\"\"\"</td><td>Universidad de San Martín de Porres</td></tr><tr><td>631820571c7bdc00081b7bba</td><td>Universidad De San Martín De Porres</td><td>Universidad de San Martín de Porres</td></tr><tr><td>631831868a691c00087bf9e3</td><td>Universidad San Ignacio De Loyola</td><td>Universidad San Ignacio de Loyola S.R.L.</td></tr><tr><td>6318ba879bc8d90009563849</td><td>Universidad Privada Del Norte</td><td>Universidad Privada del Norte S.A.C.</td></tr><tr><td>631766b2e5ee99003f0aa54c</td><td>Universidad Privada Del Norte</td><td>Universidad Privada del Norte S.A.C.</td></tr><tr><td>6318bec2cfc3230008d92c47</td><td>Universidad Nacional Federico Villarreal - Unfv</td><td>Universidad Nacional Federico Villarreal</td></tr><tr><td>6318c52a1c7bdc00081b8900</td><td>Universidad Cesar Vallejo - Ucv</td><td>Universidad César Vallejo S.A.C.</td></tr><tr><td>6318ea5a8a691c00087c2f0e</td><td>Universidad Peruana De Ciencias Aplicadas - Upc</td><td>Universidad Peruana de Ciencias Aplicadas S.A.C.</td></tr><tr><td>63190f121c7bdc00081bac19</td><td>Universidad Nacional Federico Villarreal</td><td>Universidad Nacional Federico Villarreal</td></tr><tr><td>63191b3e8a691c00087c435f</td><td>Universidad Privada Del Norte</td><td>Universidad Privada del Norte S.A.C.</td></tr><tr><td>6319297319d98e0008e9c0d4</td><td>Utp</td><td>Universidad Tecnológica del Perú S.A.C.</td></tr><tr><td>63162c1c5073940008a29ea7</td><td>Universidad Cesar Vallejo</td><td>Universidad César Vallejo S.A.C.</td></tr><tr><td>6319486119d98e0008e9cfdd</td><td>Universidad Cesar Vallejo</td><td>Universidad César Vallejo S.A.C.</td></tr><tr><td>6312a4a8e5ee99003f086ae4</td><td>Universidad Nacional Federico Villarreal</td><td>Universidad Nacional Federico Villarreal</td></tr><tr><td>63128e34844cb4003f22c4c6</td><td>Universidad Privada Del Norte</td><td>Universidad Privada del Norte S.A.C.</td></tr><tr><td>63197cba19d98e0008e9e49e</td><td>Universidad Privada Del Norte</td><td>Universidad Privada del Norte S.A.C.</td></tr><tr><td>6312a4a8e5ee99003f086676</td><td>Universidad Nacional Del Centro Del Perú - Uncp</td><td>Universidad Nacional del Centro del Perú</td></tr><tr><td>631a080e1c7bdc00081be4be</td><td>Universidad San Martin De Porres</td><td>Universidad de San Martín de Porres</td></tr><tr><td>631a08ce19d98e0008e9ef34</td><td>Universidad Cesar Vallejo</td><td>Universidad César Vallejo S.A.C.</td></tr><tr><td>631a12b69bc8d90009569c44</td><td>Universidad Privada Del Norte</td><td>Universidad Privada del Norte S.A.C.</td></tr><tr><td>631a1af89bc8d90009569f9f</td><td>Universidad Tecnologica Del Peru</td><td>Universidad Tecnológica del Perú S.A.C.</td></tr><tr><td>631a53accfc3230008d9a6bf</td><td>Universidad Autónoma De Ica</td><td>Universidad Autónoma de Ica S.A.C.</td></tr><tr><td>631a5a93c31a670008a5d587</td><td>Universidad Nacional Mayor De San Marcos - Unmsm</td><td>Universidad Nacional Mayor de San Marcos</td></tr><tr><td>631a5b651c7bdc00081c0761</td><td>Cesar Vallejo</td><td>Universidad César Vallejo S.A.C.</td></tr><tr><td>631a5b651c7bdc00081c0761</td><td>Cesar Vallejo</td><td>Universidad César Vallejo S.A.C.</td></tr><tr><td>631a6d459bc8d9000956c396</td><td>Universidad Cesar Vallejo</td><td>Universidad César Vallejo S.A.C.</td></tr><tr><td>631a753b8a691c00087cae0c</td><td>Univesidad César Vallejo</td><td>Universidad César Vallejo S.A.C.</td></tr><tr><td>631a86048a691c00087cb4e4</td><td>Universidad Nacional José Faustino Sánchez Carrión</td><td>Universidad Nacional José Faustino Sánchez Carrión</td></tr><tr><td>631aa07d469d5700083d410d</td><td>Universidad Nacional De Piura</td><td>Universidad Nacional de Piura</td></tr><tr><td>631ab6f91c56340008d6b0aa</td><td>Universidad Peruana De Ciencias Aplicadas - Upc</td><td>Universidad Peruana de Ciencias Aplicadas S.A.C.</td></tr><tr><td>631b412e756c7c000964782d</td><td>Universidad Tecnológica Del Perú</td><td>Universidad Tecnológica del Perú S.A.C.</td></tr><tr><td>631b89a7756c7c0009648679</td><td>Universidad De San Martin De Porres - Usmp</td><td>Universidad de San Martín de Porres</td></tr><tr><td>631b8e6067f467000868371c</td><td>Universidad Privada Del Norte</td><td>Universidad Privada del Norte S.A.C.</td></tr><tr><td>631ba9568ddb27000869dccf</td><td>Universidad Privada Del Norte - Upn</td><td>Universidad Privada del Norte S.A.C.</td></tr><tr><td>63128e34844cb4003f22bde2</td><td>Upn</td><td>Universidad Privada del Norte S.A.C.</td></tr><tr><td>631cc245bac1bc000909153e</td><td>Universidad Jaime Bausate Y Meza</td><td>Universidad Jaime Bausate y Meza</td></tr><tr><td>631cd3cebac1bc0009091e8d</td><td>Universidad Privada De Ciencias Aplicadas</td><td>Universidad Peruana de Ciencias Aplicadas S.A.C.</td></tr><tr><td>631ce90b756c7c000964c0f8</td><td>Universidad Esan</td><td>Universidad ESAN</td></tr><tr><td>631d25981c56340008d70895</td><td>Universidad Tecnológica Del Perú</td><td>Universidad Tecnológica del Perú S.A.C.</td></tr><tr><td>631e0d3767f4670008687aba</td><td>Universidad Privada Antenor Orrego</td><td>Universidad Privada Antenor Orrego</td></tr><tr><td>631e0f961c56340008d710cc</td><td>Unfv</td><td>Universidad Nacional Federico Villarreal</td></tr><tr><td>631e661167f46700086883ce</td><td>Usmp</td><td>Universidad de San Martín de Porres</td></tr><tr><td>631e726b756c7c000964d9a3</td><td>Upc</td><td>Universidad Peruana de Ciencias Aplicadas S.A.C.</td></tr><tr><td>63128e33844cb4003f22b986</td><td>Universidad Continental</td><td>Universidad Continental S.A.C.</td></tr><tr><td>631f48a38ddb2700086a2c06</td><td>Universidad Jaime Bausate Y Meza - Jbm</td><td>Universidad Jaime Bausate y Meza</td></tr><tr><td>631f5c7d67f4670008689707</td><td>Universidad Tecnológica Del Perú</td><td>Universidad Tecnológica del Perú S.A.C.</td></tr><tr><td>631f5e7d8ddb2700086a310a</td><td>Universidad César Vallejo</td><td>Universidad César Vallejo S.A.C.</td></tr><tr><td>631f6657bac1bc0009094a39</td><td>Universidad Peruana De Ciencias Aplicadas</td><td>Universidad Peruana de Ciencias Aplicadas S.A.C.</td></tr><tr><td>631f974c8ddb2700086a42d0</td><td>Utp</td><td>Universidad Tecnológica del Perú S.A.C.</td></tr><tr><td>631f9d77bac1bc0009095db7</td><td>Universidad Privada Del Norte</td><td>Universidad Privada del Norte S.A.C.</td></tr><tr><td>631fa091756c7c000965026d</td><td>Universidad Tecnológica Del Perú</td><td>Universidad Tecnológica del Perú S.A.C.</td></tr><tr><td>631fccab469d5700083de2a7</td><td>Universidad Privada Del Norte</td><td>Universidad Privada del Norte S.A.C.</td></tr><tr><td>631fce27bac1bc00090972fd</td><td>Universidad San Ignacio De Loyola - Usil</td><td>Universidad San Ignacio de Loyola S.R.L.</td></tr><tr><td>631fd43e1c56340008d75b61</td><td>Univesidad  Cesar Vallejo</td><td>Universidad César Vallejo S.A.C.</td></tr><tr><td>631ff753756c7c0009652c47</td><td>Universidad Nacional Agraria La Molina</td><td>Universidad Nacional Agraria La Molina</td></tr><tr><td>631ff753756c7c0009652c47</td><td>Universidad De Lima</td><td>Universidad de Lima</td></tr><tr><td>63200c48bac1bc0009098d90</td><td>Universidad San Ignacio De Loyola</td><td>Universidad San Ignacio de Loyola S.R.L.</td></tr><tr><td>63200cf467f467000868de12</td><td>Universidad Tecnológica Del Perú - Utp</td><td>Universidad Tecnológica del Perú S.A.C.</td></tr><tr><td>63200d1f67f467000868de35</td><td>Universidad Tecnológica Del Perú</td><td>Universidad Tecnológica del Perú S.A.C.</td></tr><tr><td>63200f70e5ee99003f133eef</td><td>Utp</td><td>Universidad Tecnológica del Perú S.A.C.</td></tr><tr><td>63200f70e5ee99003f135905</td><td>Universidad Cesar Vallejo</td><td>Universidad César Vallejo S.A.C.</td></tr><tr><td>63200f70e5ee99003f133f19</td><td>Universidad Privada Norbert Wiener</td><td>Universidad Privada Norbert Wiener S.A.</td></tr><tr><td>63200f70e5ee99003f1346e1</td><td>Utp</td><td>Universidad Tecnológica del Perú S.A.C.</td></tr><tr><td>63200feb67f467000868e040</td><td>Universidad Tecnologica Del Peru</td><td>Universidad Tecnológica del Perú S.A.C.</td></tr><tr><td>63200f70e5ee99003f133607</td><td>Upn</td><td>Universidad Privada del Norte S.A.C.</td></tr><tr><td>63200f70e5ee99003f13551b</td><td>Universidad Privada Del Norte - Unp</td><td>Universidad Privada del Norte S.A.C.</td></tr><tr><td>63200f70e5ee99003f135587</td><td>Universidad Cesar Vallejo</td><td>Universidad César Vallejo S.A.C.</td></tr><tr><td>63200f70e5ee99003f134855</td><td>Universidad Privada Del Norte</td><td>Universidad Privada del Norte S.A.C.</td></tr><tr><td>63200ecb1c56340008d775ef</td><td>Universidad Privada San Juan Bautista - Upsjb</td><td>Universidad Privada San Juan Bautista S.A.C.</td></tr><tr><td>63200f71e5ee99003f135fb3</td><td>Universidad Privada Del Norte</td><td>Universidad Privada del Norte S.A.C.</td></tr><tr><td>63200f71e5ee99003f136841</td><td>Universidad San Martin De Porres</td><td>Universidad de San Martín de Porres</td></tr><tr><td>63200f71e5ee99003f135f53</td><td>Universidad Peruana De Ciencias Aplicadas - Upc</td><td>Universidad Peruana de Ciencias Aplicadas S.A.C.</td></tr><tr><td>63200f70e5ee99003f135407</td><td>Universidad Privada Del Norte</td><td>Universidad Privada del Norte S.A.C.</td></tr><tr><td>63200f70e5ee99003f134a89</td><td>Universidad Tecnologica Del Peru</td><td>Universidad Tecnológica del Perú S.A.C.</td></tr><tr><td>63200f70e5ee99003f134f4b</td><td>Universidad Privada Del Norte</td><td>Universidad Privada del Norte S.A.C.</td></tr><tr><td>63200f70e5ee99003f134f51</td><td>Universidad Autónoma Del Perú - Ua</td><td>Universidad Autónoma del Perú S.A.C.</td></tr><tr><td>63200f71e5ee99003f13602b</td><td>Universidad Privada Del Norte - Upn</td><td>Universidad Privada del Norte S.A.C.</td></tr><tr><td>63200f71e5ee99003f13602b</td><td>Universidad De San Martin De Porres - Usmp</td><td>Universidad de San Martín de Porres</td></tr><tr><td>63200f71e5ee99003f136517</td><td>Academia Cesar Vallejo</td><td>Universidad César Vallejo S.A.C.</td></tr><tr><td>63200f70e5ee99003f1354a3</td><td>Universidad Tecnológica Del Perú</td><td>Universidad Tecnológica del Perú S.A.C.</td></tr><tr><td>63200f70e5ee99003f13589f</td><td>Utp</td><td>Universidad Tecnológica del Perú S.A.C.</td></tr><tr><td>63200f71e5ee99003f1361f9</td><td>Universidad Tecnológica Del Perú</td><td>Universidad Tecnológica del Perú S.A.C.</td></tr><tr><td>63200f71e5ee99003f136007</td><td>Universidad Privada San Juan Bautista</td><td>Universidad Privada San Juan Bautista S.A.C.</td></tr><tr><td>63200f71e5ee99003f1361cf</td><td>Universidad Cesar Vallejo</td><td>Universidad César Vallejo S.A.C.</td></tr><tr><td>63200f70e5ee99003f135479</td><td>Universidad Tecnológica Del Perú - Utp</td><td>Universidad Tecnológica del Perú S.A.C.</td></tr><tr><td>63200f70e5ee99003f1337f9</td><td>Cesar Vallejo</td><td>Universidad César Vallejo S.A.C.</td></tr><tr><td>63200f70e5ee99003f134591</td><td>Universidad De Piura - Campus Lima</td><td>Universidad de Piura</td></tr><tr><td>63200f70e5ee99003f134a7d</td><td>Universidad Naciónal Federico Villarreal</td><td>Universidad Nacional Federico Villarreal</td></tr><tr><td>63200f70e5ee99003f134aad</td><td>Universidad De Ciencias Aplicadas</td><td>Universidad Peruana de Ciencias Aplicadas S.A.C.</td></tr><tr><td>63200f70e5ee99003f134597</td><td>Universidad Privada San Juan Bautista</td><td>Universidad Privada San Juan Bautista S.A.C.</td></tr><tr><td>63200f71e5ee99003f135eed</td><td>Instituto San Ignacio De Loyola</td><td>Universidad San Ignacio de Loyola S.R.L.</td></tr><tr><td>63200f71e5ee99003f1363f7</td><td>Universidad Nacional De La Amazonia Peruana</td><td>Universidad Nacional de la Amazonía Peruana</td></tr><tr><td>63200f71e5ee99003f135da3</td><td>Científica Del Sur</td><td>Universidad Científica del Sur S.A.C.</td></tr><tr><td>63200f70e5ee99003f134075</td><td>Upc Universidad Peruana De Ciencias Aplicadas</td><td>Universidad Peruana de Ciencias Aplicadas S.A.C.</td></tr><tr><td>63200f70e5ee99003f134075</td><td>Upc</td><td>Universidad Peruana de Ciencias Aplicadas S.A.C.</td></tr><tr><td>63200f70e5ee99003f135125</td><td>Universidad Privada Del Norte</td><td>Universidad Privada del Norte S.A.C.</td></tr><tr><td>63200f71e5ee99003f135a8b</td><td>Universidad Nacional De La Amazonia Peruana - Unap</td><td>Universidad Nacional de la Amazonía Peruana</td></tr><tr><td>63208db4bac1bc000909ad30</td><td>Instituto San Ignacio De Loyola</td><td>Universidad San Ignacio de Loyola S.R.L.</td></tr><tr><td>63200f71e5ee99003f136247</td><td>Universidad Peruana De Ciencias Aplicadas - Upc</td><td>Universidad Peruana de Ciencias Aplicadas S.A.C.</td></tr><tr><td>63200f71e5ee99003f136247</td><td>Ricardo Palma N°5099</td><td>Universidad Ricardo Palma</td></tr><tr><td>63200f71e5ee99003f135ad9</td><td>Universidad Enrique Guzman Y Valle</td><td>Universidad Nacional de Educación Enrique Guzmán y Valle</td></tr><tr><td>63200f70e5ee99003f13489d</td><td>Universidad Autónoma Del Perú</td><td>Universidad Autónoma del Perú S.A.C.</td></tr><tr><td>6312a4a8e5ee99003f085b30</td><td>San Ignacio De Loyola</td><td>Universidad San Ignacio de Loyola S.R.L.</td></tr><tr><td>63200f71e5ee99003f13676f</td><td>Universidad Privada Del Norte</td><td>Universidad Privada del Norte S.A.C.</td></tr><tr><td>6320b286844cb4003f31ff21</td><td>Universidad Privada Del Norte</td><td>Universidad Privada del Norte S.A.C.</td></tr><tr><td>6320b286844cb4003f31fa2f</td><td>Universidad Tecnológica Del Perú</td><td>Universidad Tecnológica del Perú S.A.C.</td></tr><tr><td>63200f70e5ee99003f1344ef</td><td>Universidad De San Martin De Porres - Usmp</td><td>Universidad de San Martín de Porres</td></tr><tr><td>6320b286844cb4003f31f8b5</td><td>Universidad Privada Del Norte</td><td>Universidad Privada del Norte S.A.C.</td></tr><tr><td>6320b286844cb4003f31fed9</td><td>Upla</td><td>Universidad Peruana Los Andes</td></tr><tr><td>6320b286844cb4003f32018b</td><td>Universidad Privada César Vallejo</td><td>Universidad César Vallejo S.A.C.</td></tr><tr><td>6320b286844cb4003f31fcab</td><td>Universidad Tecnológica Del Perú</td><td>Universidad Tecnológica del Perú S.A.C.</td></tr><tr><td>63200f70e5ee99003f134a0b</td><td>Universidad Cesar Vallejo</td><td>Universidad César Vallejo S.A.C.</td></tr><tr><td>63200f70e5ee99003f135461</td><td>Universidad De San Martin De Porres</td><td>Universidad de San Martín de Porres</td></tr><tr><td>6320c48e756c7c0009657910</td><td>Universidad Nacional José Faustino Sánchez Carrión</td><td>Universidad Nacional José Faustino Sánchez Carrión</td></tr><tr><td>63200f70e5ee99003f134c93</td><td>Universidad Nacional Federico Villarreal</td><td>Universidad Nacional Federico Villarreal</td></tr><tr><td>63200f70e5ee99003f1337b7</td><td>Instituto Daniel Alcides Carrion</td><td>Universidad Nacional Daniel Alcides Carrión</td></tr><tr><td>6320b286844cb4003f31fa11</td><td>Universidad Cesar Vallejo</td><td>Universidad César Vallejo S.A.C.</td></tr><tr><td>6320b286844cb4003f320077</td><td>Universidad Privada Del Norte - Unp</td><td>Universidad Privada del Norte S.A.C.</td></tr><tr><td>6320d87467f4670008692c79</td><td>Universidad Tecnológica Del Perú</td><td>Universidad Tecnológica del Perú S.A.C.</td></tr><tr><td>6320b286844cb4003f3203fb</td><td>Universidad Nacional De Tumbes - Unt</td><td>Universidad Nacional de Tumbes</td></tr><tr><td>6320dec367f4670008692ffa</td><td>Universidad Cesar Vallejo</td><td>Universidad César Vallejo S.A.C.</td></tr><tr><td>63200f71e5ee99003f136271</td><td>Universidad Nacional Federico Villarreal</td><td>Universidad Nacional Federico Villarreal</td></tr><tr><td>6320e1e667f467000869318d</td><td>Universidad Privada San Juan Bautista</td><td>Universidad Privada San Juan Bautista S.A.C.</td></tr><tr><td>6320b286844cb4003f31f819</td><td>Universidad Privada Del Norte</td><td>Universidad Privada del Norte S.A.C.</td></tr><tr><td>6320b286844cb4003f31fe07</td><td>Mártir Daniel Alcides Carrión 0142</td><td>Universidad Nacional Daniel Alcides Carrión</td></tr><tr><td>6320b286844cb4003f31fd05</td><td>Universidad Católica Sedes Sapientiae - Ucss</td><td>Universidad Católica Sedes Sapientiae</td></tr><tr><td>63200f70e5ee99003f1342cd</td><td>Universidad Privada San Juan Bautista</td><td>Universidad Privada San Juan Bautista S.A.C.</td></tr><tr><td>63200f70e5ee99003f134ce7</td><td>Universidad Privada Del Norte</td><td>Universidad Privada del Norte S.A.C.</td></tr><tr><td>63200f70e5ee99003f133bef</td><td>Universidad Tecnológica Del Perú</td><td>Universidad Tecnológica del Perú S.A.C.</td></tr><tr><td>63200f70e5ee99003f133bef</td><td>Universidad De San Martin De Porres - Usmp</td><td>Universidad de San Martín de Porres</td></tr><tr><td>63200f70e5ee99003f1346b1</td><td>Universidad Privada Del Norte</td><td>Universidad Privada del Norte S.A.C.</td></tr><tr><td>6320b286844cb4003f32036b</td><td>Universidad Privada Del Norte - Upn</td><td>Universidad Privada del Norte S.A.C.</td></tr><tr><td>6320b286844cb4003f32036b</td><td>Universidad Privada Del Norte - Upn</td><td>Universidad Privada del Norte S.A.C.</td></tr><tr><td>63200f70e5ee99003f133871</td><td>Universidad Privada Del Norte</td><td>Universidad Privada del Norte S.A.C.</td></tr><tr><td>63212c338ddb2700086af6ca</td><td>Universidad Privada Del Norte</td><td>Universidad Privada del Norte S.A.C.</td></tr><tr><td>63200f70e5ee99003f1357c1</td><td>Universidad Tecnológica Del Perú</td><td>Universidad Tecnológica del Perú S.A.C.</td></tr><tr><td>63200f70e5ee99003f133fd3</td><td>Universidad Privada Del Norte</td><td>Universidad Privada del Norte S.A.C.</td></tr><tr><td>63200f70e5ee99003f133fd3</td><td>Universidad Privada Del Norte - Upn</td><td>Universidad Privada del Norte S.A.C.</td></tr><tr><td>6321fddaf737840008623a62</td><td>Universidad Católica Sedes Sapientiae</td><td>Universidad Católica Sedes Sapientiae</td></tr><tr><td>63200f71e5ee99003f135e69</td><td>Universidad Nacional Del Callao Unac</td><td>Universidad Nacional del Callao</td></tr><tr><td>63222504e5ee99003f17022f</td><td>Universidad Nacional Mayor De San Marcos</td><td>Universidad Nacional Mayor de San Marcos</td></tr><tr><td>632225ca844cb4003f33dac2</td><td>Universidad Cesar Vallejo</td><td>Universidad César Vallejo S.A.C.</td></tr><tr><td>632225ca844cb4003f33e01a</td><td>Universidad Peruana De Ciencias Aplicadas</td><td>Universidad Peruana de Ciencias Aplicadas S.A.C.</td></tr><tr><td>632225ca844cb4003f33dd44</td><td>Universidad Nacional Agraria La Molina</td><td>Universidad Nacional Agraria La Molina</td></tr><tr><td>63222504e5ee99003f16fc65</td><td>Universidad Privada Del Norte</td><td>Universidad Privada del Norte S.A.C.</td></tr><tr><td>632225ca844cb4003f33d9e4</td><td>Universidad Privada Del Norte</td><td>Universidad Privada del Norte S.A.C.</td></tr><tr><td>632225ca844cb4003f33dbee</td><td>Universidad Privada Del Norte</td><td>Universidad Privada del Norte S.A.C.</td></tr><tr><td>632225ca844cb4003f33e290</td><td>Universidad Cesar Vallejo</td><td>Universidad César Vallejo S.A.C.</td></tr><tr><td>632225ca844cb4003f33dbd6</td><td>Universidad Privada Del Norte</td><td>Universidad Privada del Norte S.A.C.</td></tr><tr><td>63222828e5ee99003f172959</td><td>Universidad Privada Del Norte</td><td>Universidad Privada del Norte S.A.C.</td></tr><tr><td>63222828e5ee99003f17332b</td><td>Universidad San Martin De Porres</td><td>Universidad de San Martín de Porres</td></tr><tr><td>632225ca844cb4003f33dcb4</td><td>Utp</td><td>Universidad Tecnológica del Perú S.A.C.</td></tr><tr><td>63222828e5ee99003f172c3b</td><td>Uch</td><td>Asociación Civil Universidad de Ciencias y Humanidades</td></tr><tr><td>63222a52dd74a60009784b86</td><td>Universidad Peruana De Ciencias Aplicadas</td><td>Universidad Peruana de Ciencias Aplicadas S.A.C.</td></tr><tr><td>63222828e5ee99003f173a81</td><td>Universidad Cesar Vallejo</td><td>Universidad César Vallejo S.A.C.</td></tr><tr><td>63222828e5ee99003f172ce9</td><td>Univ Privada San Juan Bautista</td><td>Universidad Privada San Juan Bautista S.A.C.</td></tr><tr><td>632225ca844cb4003f33dd68</td><td>Universidad Privada Del Norte</td><td>Universidad Privada del Norte S.A.C.</td></tr><tr><td>632225ca844cb4003f33e650</td><td>Universidad Privada Del Norte</td><td>Universidad Privada del Norte S.A.C.</td></tr><tr><td>63222504e5ee99003f170235</td><td>Unmsm</td><td>Universidad Nacional Mayor de San Marcos</td></tr><tr><td>63222828e5ee99003f173955</td><td>I.e.p César Vallejo Mendoza</td><td>Universidad César Vallejo S.A.C.</td></tr><tr><td>63222504e5ee99003f16fd1f</td><td>Universidad Tecnológica Del Perú</td><td>Universidad Tecnológica del Perú S.A.C.</td></tr><tr><td>632231c23f580700080c4167</td><td>Universida Nacional Del Callao</td><td>Universidad Nacional del Callao</td></tr><tr><td>632225ca844cb4003f33e3c2</td><td>Universidad Privada Del Norte</td><td>Universidad Privada del Norte S.A.C.</td></tr><tr><td>63222828e5ee99003f1735e3</td><td>Universidad Privada Antenor Orrego - Upao</td><td>Universidad Privada Antenor Orrego</td></tr><tr><td>6321ff0de5ee99003f169e2c</td><td>Instituto Daniel Alcides Carrion</td><td>Universidad Nacional Daniel Alcides Carrión</td></tr><tr><td>63222504e5ee99003f1700c1</td><td>Universidad Cesar Vallejo</td><td>Universidad César Vallejo S.A.C.</td></tr><tr><td>6322355e107693000854451b</td><td>Universidad De Ciencias Aplicadas</td><td>Universidad Peruana de Ciencias Aplicadas S.A.C.</td></tr><tr><td>63222828e5ee99003f173205</td><td>Cesar Vallejo</td><td>Universidad César Vallejo S.A.C.</td></tr><tr><td>63222504e5ee99003f16fde5</td><td>Universidad Privada Del Norte</td><td>Universidad Privada del Norte S.A.C.</td></tr><tr><td>63222828e5ee99003f172f41</td><td>Universidad San Martín De Porres</td><td>Universidad de San Martín de Porres</td></tr><tr><td>632225ca844cb4003f33db5e</td><td>Instituto Ricardo Palma</td><td>Universidad Ricardo Palma</td></tr><tr><td>63222504e5ee99003f16fcd7</td><td>Universidad Peruana De Ciencias Aplicadas - Upc</td><td>Universidad Peruana de Ciencias Aplicadas S.A.C.</td></tr><tr><td>63222828e5ee99003f1738c5</td><td>Universidad Nacional Del Callao</td><td>Universidad Nacional del Callao</td></tr><tr><td>6312a4a8e5ee99003f086220</td><td>Universidad Cesar Vallejo</td><td>Universidad César Vallejo S.A.C.</td></tr><tr><td>632225ca844cb4003f33db40</td><td>Universidad De San Martin De Porres</td><td>Universidad de San Martín de Porres</td></tr><tr><td>6320b286844cb4003f3203d1</td><td>Utp</td><td>Universidad Tecnológica del Perú S.A.C.</td></tr><tr><td>632244c81076930008544ac1</td><td>Universidad De San Martín De Porres</td><td>Universidad de San Martín de Porres</td></tr><tr><td>63222828e5ee99003f172fe3</td><td>Universidad Privada Del Norte</td><td>Universidad Privada del Norte S.A.C.</td></tr><tr><td>63222828e5ee99003f1733df</td><td>Universidad Cesar Vallejo</td><td>Universidad César Vallejo S.A.C.</td></tr><tr><td>63222828e5ee99003f1733df</td><td>Universidad Nacional Del Callao</td><td>Universidad Nacional del Callao</td></tr><tr><td>632225ca844cb4003f33dfd8</td><td>Universidad Tecnologica Del Peru</td><td>Universidad Tecnológica del Perú S.A.C.</td></tr><tr><td>63222504e5ee99003f16fa6d</td><td>Universidad Católica Sedes Sapientiae</td><td>Universidad Católica Sedes Sapientiae</td></tr><tr><td>6321ff0de5ee99003f169e08</td><td>Universidad Católica Sedes Sapientiae</td><td>Universidad Católica Sedes Sapientiae</td></tr><tr><td>6322585554294b0009268749</td><td>Utp</td><td>Universidad Tecnológica del Perú S.A.C.</td></tr><tr><td>632225ca844cb4003f33e59c</td><td>Universidad Privada Del Norte</td><td>Universidad Privada del Norte S.A.C.</td></tr><tr><td>63222505e5ee99003f170631</td><td>Jose Maria Arguedas</td><td>Universidad Nacional José María Arguedas</td></tr><tr><td>632225ca844cb4003f33e584</td><td>Universidad Privada Del Norte</td><td>Universidad Privada del Norte S.A.C.</td></tr><tr><td>632225ca844cb4003f33e1e8</td><td>Maria Auxiliadora</td><td>Universidad María Auxiliadora S.A.C.</td></tr><tr><td>63222828e5ee99003f1729e9</td><td>Upn</td><td>Universidad Privada del Norte S.A.C.</td></tr><tr><td>63222828e5ee99003f172a4f</td><td>Cesar Vallejo</td><td>Universidad César Vallejo S.A.C.</td></tr><tr><td>63222828e5ee99003f172a4f</td><td>Ricardo Palma 5099</td><td>Universidad Ricardo Palma</td></tr><tr><td>63200f70e5ee99003f135281</td><td>Utp</td><td>Universidad Tecnológica del Perú S.A.C.</td></tr><tr><td>632225ca844cb4003f33e5e4</td><td>Universidad De Lima</td><td>Universidad de Lima</td></tr><tr><td>632225ca844cb4003f33e5e4</td><td>Universidad San Ignacio De Loyola</td><td>Universidad San Ignacio de Loyola S.R.L.</td></tr><tr><td>63222505e5ee99003f1706f1</td><td>Universidad Tecnológica Del Perú</td><td>Universidad Tecnológica del Perú S.A.C.</td></tr><tr><td>63222504e5ee99003f170199</td><td>110 San Marcos</td><td>Universidad Nacional Mayor de San Marcos</td></tr><tr><td>6322ba1f1076930008547140</td><td>Universidad Peruana De Ciencias Aplicadas</td><td>Universidad Peruana de Ciencias Aplicadas S.A.C.</td></tr><tr><td>63222504e5ee99003f16f359</td><td>Universidad Particular San Martin De Porres</td><td>Universidad de San Martín de Porres</td></tr><tr><td>6322cf49dd74a60009787fe0</td><td>Universidad San Ignacio De Loyola(cpel)</td><td>Universidad San Ignacio de Loyola S.R.L.</td></tr><tr><td>6322d01854294b000926a693</td><td>Universidad Cesar Vallejo</td><td>Universidad César Vallejo S.A.C.</td></tr><tr><td>632225ca844cb4003f33e6f2</td><td>Universidad Nacional Mayor De San Marcos</td><td>Universidad Nacional Mayor de San Marcos</td></tr><tr><td>63222504e5ee99003f16f2ff</td><td>Universidad Tecnológica Del Perú</td><td>Universidad Tecnológica del Perú S.A.C.</td></tr><tr><td>63222504e5ee99003f16f2ff</td><td>San José La Salle</td><td>Universidad La Salle</td></tr><tr><td>632225ca844cb4003f33eb4e</td><td>Universidad Tecnológica Del Perú</td><td>Universidad Tecnológica del Perú S.A.C.</td></tr><tr><td>632225ca844cb4003f33e500</td><td>Universidad Privada Del Norte</td><td>Universidad Privada del Norte S.A.C.</td></tr><tr><td>63222504e5ee99003f16f959</td><td>Universidad Privada Del Norte</td><td>Universidad Privada del Norte S.A.C.</td></tr><tr><td>63222504e5ee99003f16f5f3</td><td>Universidad Privada Del Norte</td><td>Universidad Privada del Norte S.A.C.</td></tr><tr><td>632347a38fcf7b0009661bdd</td><td>Universidad Tecnológica Del Perú - Utp</td><td>Universidad Tecnológica del Perú S.A.C.</td></tr><tr><td>6312a4a8e5ee99003f08677e</td><td>Universidad Cesar Vallejo</td><td>Universidad César Vallejo S.A.C.</td></tr><tr><td>63128e34844cb4003f22ca18</td><td>Universidad Cesar Vallejo</td><td>Universidad César Vallejo S.A.C.</td></tr><tr><td>632225ca844cb4003f33e9da</td><td>Universidad Nacional Mayor De San Marcos</td><td>Universidad Nacional Mayor de San Marcos</td></tr><tr><td>632225ca844cb4003f33da80</td><td>Ucv</td><td>Universidad César Vallejo S.A.C.</td></tr><tr><td>632225ca844cb4003f33e566</td><td>Universidad Tecnológica Del Perú</td><td>Universidad Tecnológica del Perú S.A.C.</td></tr><tr><td>632225ca844cb4003f33ddda</td><td>Ricardo Palma</td><td>Universidad Ricardo Palma</td></tr><tr><td>63222504e5ee99003f170367</td><td>Upsjb</td><td>Universidad Privada San Juan Bautista S.A.C.</td></tr><tr><td>632225ca844cb4003f33e194</td><td>Universidad Nacional Del Callao</td><td>Universidad Nacional del Callao</td></tr><tr><td>63200f70e5ee99003f13554b</td><td>Universidad Cesar Vallejo - Ucv</td><td>Universidad César Vallejo S.A.C.</td></tr><tr><td>632225ca844cb4003f33eab8</td><td>Universidad Privada Del Norte</td><td>Universidad Privada del Norte S.A.C.</td></tr><tr><td>63222828e5ee99003f172a79</td><td>Universidad Cesar Vallejo</td><td>Universidad César Vallejo S.A.C.</td></tr><tr><td>6312a4a8e5ee99003f085776</td><td>Universidad Cesar Vallejo</td><td>Universidad César Vallejo S.A.C.</td></tr><tr><td>6323d168107693000855032e</td><td>Universidad Privada Señor De Sipan</td><td>Universidad Señor de Sipán S.A.C.</td></tr><tr><td>6323fa0b07cea60008252c2f</td><td>Instituto San Ignacio De Loyola - Isil</td><td>Universidad San Ignacio de Loyola S.R.L.</td></tr><tr><td>632225ca844cb4003f33e680</td><td>Universidad De Lima</td><td>Universidad de Lima</td></tr><tr><td>63222505e5ee99003f170433</td><td>Universidad Cesar Vallejo.</td><td>Universidad César Vallejo S.A.C.</td></tr><tr><td>63222504e5ee99003f16f557</td><td>Upc</td><td>Universidad Peruana de Ciencias Aplicadas S.A.C.</td></tr><tr><td>63128e34844cb4003f22c610</td><td>Universidad Tecnológica Del Perú - Utp</td><td>Universidad Tecnológica del Perú S.A.C.</td></tr><tr><td>6324a0b5a82561004072ada4</td><td>Instituto Superior Tecnológico Continental</td><td>Universidad Continental S.A.C.</td></tr><tr><td>632225ca844cb4003f33db64</td><td>Jose Maria Arguedas 2027</td><td>Universidad Nacional José María Arguedas</td></tr><tr><td>63222828e5ee99003f173997</td><td>Cesar Vallejo</td><td>Universidad César Vallejo S.A.C.</td></tr><tr><td>63250d5a36d47f00088aca56</td><td>Universidad Privada Cesar Vallejo</td><td>Universidad César Vallejo S.A.C.</td></tr><tr><td>632518d236d47f00088acccc</td><td>Universidad Privada Del Norte</td><td>Universidad Privada del Norte S.A.C.</td></tr><tr><td>6320b286844cb4003f31fec1</td><td>Universidad Privada Del Norte - Upn</td><td>Universidad Privada del Norte S.A.C.</td></tr><tr><td>63252a8a4df37200081bc09d</td><td>Escuela De Postgrado - Universidad Católica Sedes Sapientiae</td><td>Universidad Católica Sedes Sapientiae</td></tr><tr><td>63252a8a4df37200081bc09d</td><td>Universidad Católica Sedes Sapientiae - Ucss</td><td>Universidad Católica Sedes Sapientiae</td></tr><tr><td>63200f70e5ee99003f134b49</td><td>Universidad Privada Del Norte</td><td>Universidad Privada del Norte S.A.C.</td></tr><tr><td>632543db2ff5e80008d7bdee</td><td>Universidad Privada Del Norte</td><td>Universidad Privada del Norte S.A.C.</td></tr><tr><td>6325d6b107cea600082570a6</td><td>Universidad Peruana De Ciencias Aplicadas - Upc</td><td>Universidad Peruana de Ciencias Aplicadas S.A.C.</td></tr><tr><td>6325f6b7ded60b0009efbada</td><td>Universidad César Vallejo</td><td>Universidad César Vallejo S.A.C.</td></tr><tr><td>63277e8aded60b0009efdd6b</td><td>Universidad Nacional Federico Villarreal</td><td>Universidad Nacional Federico Villarreal</td></tr><tr><td>63278004cc8427000916ed3f</td><td>Universidad Privada Del Norte</td><td>Universidad Privada del Norte S.A.C.</td></tr><tr><td>6327a2cfcc8427000916f0d7</td><td>Universidad Peruana De Ciencias Aplicadas</td><td>Universidad Peruana de Ciencias Aplicadas S.A.C.</td></tr><tr><td>63222504e5ee99003f170361</td><td>Universidad Cesar Vallejo</td><td>Universidad César Vallejo S.A.C.</td></tr><tr><td>632225ca844cb4003f33dc6c</td><td>I.e César Vallejo</td><td>Universidad César Vallejo S.A.C.</td></tr><tr><td>6327fb3eded60b0009efee59</td><td>Universidad Privada Del Norte</td><td>Universidad Privada del Norte S.A.C.</td></tr><tr><td>6328cc9cded60b0009f00db3</td><td>Universidad Tecnológica Del Perú - Utp</td><td>Universidad Tecnológica del Perú S.A.C.</td></tr><tr><td>6329122f36d47f00088b8a5e</td><td>Universidad Privada San Juan Bautista</td><td>Universidad Privada San Juan Bautista S.A.C.</td></tr><tr><td>63128e33844cb4003f22b8c6</td><td>Universidad Católica Sedes Sapientiae - Ucss</td><td>Universidad Católica Sedes Sapientiae</td></tr><tr><td>63128e33844cb4003f22b8c6</td><td>Universidad Privada San Juan Bautista - Upsjb</td><td>Universidad Privada San Juan Bautista S.A.C.</td></tr><tr><td>632920464df37200081c5522</td><td>Universidad Privada Del Norte - Upn</td><td>Universidad Privada del Norte S.A.C.</td></tr><tr><td>63293141cc842700091751b9</td><td>Instituto San Ignacio De Loyola</td><td>Universidad San Ignacio de Loyola S.R.L.</td></tr><tr><td>63200f70e5ee99003f1342e5</td><td>Universidad Tecnológica Del Perú-utp</td><td>Universidad Tecnológica del Perú S.A.C.</td></tr><tr><td>632a3846ded60b0009f08c0d</td><td>Universidad Peruana De Ciencias Aplicadas-upc</td><td>Universidad Peruana de Ciencias Aplicadas S.A.C.</td></tr><tr><td>632a3f2d4df37200081ca417</td><td>Universidad Privada Del Norte</td><td>Universidad Privada del Norte S.A.C.</td></tr><tr><td>632a41a7d1b76a0040939d1b</td><td>Universidad César Vallejo</td><td>Universidad César Vallejo S.A.C.</td></tr><tr><td>632a41a7d1b76a0040939d27</td><td>Universidad Cesar Vallejo</td><td>Universidad César Vallejo S.A.C.</td></tr><tr><td>632a41a7d1b76a0040939d21</td><td>Universidad César Vallejo</td><td>Universidad César Vallejo S.A.C.</td></tr><tr><td>632a73704df37200081cbf9b</td><td>Universidad Privada Del Norte</td><td>Universidad Privada del Norte S.A.C.</td></tr><tr><td>632b0fd336d47f00088c1cb1</td><td>Usil</td><td>Universidad San Ignacio de Loyola S.R.L.</td></tr><tr><td>632b47142ff5e80008d8de24</td><td>Universidad Privada Del Norte</td><td>Universidad Privada del Norte S.A.C.</td></tr><tr><td>632b4aa107cea6000826ddf3</td><td>Instituto San Ignacio De Loyola - Isil</td><td>Universidad San Ignacio de Loyola S.R.L.</td></tr><tr><td>632b6b98ded60b0009f0f1fa</td><td>Universidad Privada Del Norte - Upn</td><td>Universidad Privada del Norte S.A.C.</td></tr><tr><td>632bc49307cea60008271bd4</td><td>Universidad Tecnologica Del Peru U.t.p</td><td>Universidad Tecnológica del Perú S.A.C.</td></tr><tr><td>632bec132ff5e80008d9350d</td><td>Universidad Privada Del Norte</td><td>Universidad Privada del Norte S.A.C.</td></tr><tr><td>632bee1d2ff5e80008d936f7</td><td>Daniel Alcides Carrion</td><td>Universidad Nacional Daniel Alcides Carrión</td></tr><tr><td>632befc14df37200081d5ba2</td><td>Universidad Peruana De Ciencias Aplicadas</td><td>Universidad Peruana de Ciencias Aplicadas S.A.C.</td></tr><tr><td>632bf1ddded60b0009f12ecb</td><td>Universidad César Vallejo</td><td>Universidad César Vallejo S.A.C.</td></tr><tr><td>632bf24536d47f00088c8691</td><td>Universidad Privada Del Norte</td><td>Universidad Privada del Norte S.A.C.</td></tr><tr><td>632bf2a9cc8427000918b22b</td><td>Universidad Cesar Vallejo</td><td>Universidad César Vallejo S.A.C.</td></tr><tr><td>632bfd11ded60b0009f13283</td><td>Universidad Privada Cesar Vallejo</td><td>Universidad César Vallejo S.A.C.</td></tr><tr><td>632c5ca507cea60008273c75</td><td>Universidad Privada Del Norte</td><td>Universidad Privada del Norte S.A.C.</td></tr><tr><td>632c652fded60b0009f14059</td><td>Untels</td><td>Universidad Nacional Tecnológica de Lima Sur</td></tr><tr><td>632c90f607cea600082756ae</td><td>Instituto Federico Villarreal</td><td>Universidad Nacional Federico Villarreal</td></tr><tr><td>632c9726ded60b0009f16084</td><td>Universidad Cesar Vallejo</td><td>Universidad César Vallejo S.A.C.</td></tr><tr><td>63128e34844cb4003f22c08e</td><td>Universidad Privada Del Norte</td><td>Universidad Privada del Norte S.A.C.</td></tr><tr><td>632cbe4636d47f00088ccbde</td><td>Universidad Ricardo Palma</td><td>Universidad Ricardo Palma</td></tr><tr><td>63200f70e5ee99003f133b0b</td><td>Universidad Tecnológica Del Perú</td><td>Universidad Tecnológica del Perú S.A.C.</td></tr><tr><td>632ceacc07cea60008278b20</td><td>Universidad Nacional Del Callao</td><td>Universidad Nacional del Callao</td></tr><tr><td>632ceafa4df37200081dbab8</td><td>Universidad Privada Del Norte</td><td>Universidad Privada del Norte S.A.C.</td></tr><tr><td>632d0edb1fb7e50008d3a935</td><td>Universidad Continental</td><td>Universidad Continental S.A.C.</td></tr><tr><td>632d0edb1fb7e50008d3a935</td><td>Universidad Esan</td><td>Universidad ESAN</td></tr><tr><td>632d1767e0486e0008265dcf</td><td>Universidad Nacional Federico Villarreal</td><td>Universidad Nacional Federico Villarreal</td></tr><tr><td>63222828e5ee99003f172ecf</td><td>Universidad Tecnológica Del Perú</td><td>Universidad Tecnológica del Perú S.A.C.</td></tr><tr><td>632d5b5a11da310008e3bc31</td><td>Instituto San Ignacio De Loyola</td><td>Universidad San Ignacio de Loyola S.R.L.</td></tr><tr><td>6320b286844cb4003f31fa1d</td><td>Universidad Privada Del Norte</td><td>Universidad Privada del Norte S.A.C.</td></tr><tr><td>63288757d1b76a0040915ebe</td><td>Universidad Tecnológica Del Perú - Utp</td><td>Universidad Tecnológica del Perú S.A.C.</td></tr><tr><td>632e95912201690008fb0774</td><td>Autónoma Del Perú</td><td>Universidad Autónoma del Perú S.A.C.</td></tr><tr><td>632f832ae0486e0008275a4e</td><td>Universidad Autonoma Del Peru</td><td>Universidad Autónoma del Perú S.A.C.</td></tr><tr><td>6330a91b662c7d000996b116</td><td>Universidad Nacional Mayor De San Marcos - Unmsm</td><td>Universidad Nacional Mayor de San Marcos</td></tr><tr><td>6330da9f662c7d000996b4e9</td><td>U. Ricardo Palma</td><td>Universidad Ricardo Palma</td></tr><tr><td>63222828e5ee99003f172cf5</td><td>Universidad Cesar Vallejo</td><td>Universidad César Vallejo S.A.C.</td></tr><tr><td>6331d96e2da20600098062ec</td><td>Universidad Autónoma Del Perú</td><td>Universidad Autónoma del Perú S.A.C.</td></tr><tr><td>63322ad01fb7e50008d51130</td><td>Universidad San Ignacio De Loyola</td><td>Universidad San Ignacio de Loyola S.R.L.</td></tr><tr><td>633254b7e0486e000827e27f</td><td>Universidad Nacional Del Callao - Unac</td><td>Universidad Nacional del Callao</td></tr><tr><td>63329bae11da310008e4d8aa</td><td>Universidad Cesar Vallejo - Ucv</td><td>Universidad César Vallejo S.A.C.</td></tr><tr><td>6333036a2201690008fbd032</td><td>Mártir Daniel Alcides Carrión</td><td>Universidad Nacional Daniel Alcides Carrión</td></tr><tr><td>633314be35b6d50040dc44f0</td><td>Universidad Cesar Vallejo</td><td>Universidad César Vallejo S.A.C.</td></tr><tr><td>63335b5c1fb7e50008d562a3</td><td>Universidad César Vallejo</td><td>Universidad César Vallejo S.A.C.</td></tr><tr><td>63128e34844cb4003f22bc20</td><td>Universidad Privada Del Norte</td><td>Universidad Privada del Norte S.A.C.</td></tr><tr><td>633388a035b6d50040dcd41e</td><td>Usil</td><td>Universidad San Ignacio de Loyola S.R.L.</td></tr><tr><td>633314be35b6d50040dc44de</td><td>Universidad Privada Del Norte</td><td>Universidad Privada del Norte S.A.C.</td></tr><tr><td>6333d47811da310008e538f9</td><td>Upn</td><td>Universidad Privada del Norte S.A.C.</td></tr><tr><td>6333fe3a5ed3120009ab9bde</td><td>Universidad Privada Del Norte</td><td>Universidad Privada del Norte S.A.C.</td></tr><tr><td>633492b2eb7e8b000954503f</td><td>Universidad Tecnológica Del Perú</td><td>Universidad Tecnológica del Perú S.A.C.</td></tr><tr><td>6334a5c50b33a90008e8567b</td><td>Universidad Privada Del Norte</td><td>Universidad Privada del Norte S.A.C.</td></tr><tr><td>6334b0200dd666000838c010</td><td>Universidad De San Martin De Porres</td><td>Universidad de San Martín de Porres</td></tr><tr><td>63200f70e5ee99003f1356ef</td><td>Universidad Peruana De Ciencias Aplicadas</td><td>Universidad Peruana de Ciencias Aplicadas S.A.C.</td></tr><tr><td>6334cb6b601bec000889e7ff</td><td>Universidad Privada Del Norte</td><td>Universidad Privada del Norte S.A.C.</td></tr><tr><td>63350cda601bec00088a01f0</td><td>Universidad Privada Del Norte - Upn</td><td>Universidad Privada del Norte S.A.C.</td></tr><tr><td>63352504eb7e8b000954892d</td><td>Universidad Tecnológica Del Perú - Utp</td><td>Universidad Tecnológica del Perú S.A.C.</td></tr><tr><td>6335acfd35b6d50040df797b</td><td>Utp</td><td>Universidad Tecnológica del Perú S.A.C.</td></tr><tr><td>6335ca1beb7e8b0009549dd8</td><td>Universidad Científica Del Sur</td><td>Universidad Científica del Sur S.A.C.</td></tr><tr><td>6336198a5ed3120009aefc4b</td><td>Universidad Privada Del Norte</td><td>Universidad Privada del Norte S.A.C.</td></tr><tr><td>63372ea1ea7d3a0008c77ce2</td><td>Universidad Cesar Vallejo</td><td>Universidad César Vallejo S.A.C.</td></tr><tr><td>6338b235e86b9a0008a24f36</td><td>Universidad De San Martín De Porres</td><td>Universidad de San Martín de Porres</td></tr><tr><td>633a048902dfe10008393613</td><td>Universidad San Ignacio De Loyola</td><td>Universidad San Ignacio de Loyola S.R.L.</td></tr><tr><td>633a50ffe86b9a0008a27066</td><td>Universidad Peruana De Ciencias Aplicadas</td><td>Universidad Peruana de Ciencias Aplicadas S.A.C.</td></tr><tr><td>63102ceb1d665a00087019b7</td><td>Utp</td><td>Universidad Tecnológica del Perú S.A.C.</td></tr><tr><td>6310bfd54253530009af4988</td><td>Universidad Tecnológica Del Perú</td><td>Universidad Tecnológica del Perú S.A.C.</td></tr><tr><td>6310cc964253530009af4d77</td><td>Universidad Privada Del Norte</td><td>Universidad Privada del Norte S.A.C.</td></tr><tr><td>631104575a5f2e0009f9304e</td><td>Universidad Privada Del Norte</td><td>Universidad Privada del Norte S.A.C.</td></tr><tr><td>63112c8d9bdb400009f50857</td><td>Universidad Privada Del Norte</td><td>Universidad Privada del Norte S.A.C.</td></tr><tr><td>63113bbd4253530009af851d</td><td>Universidad Cesar Vallejo</td><td>Universidad César Vallejo S.A.C.</td></tr><tr><td>63113bbd4253530009af851d</td><td>Universidad Cesar Vallejo</td><td>Universidad César Vallejo S.A.C.</td></tr><tr><td>6311438c4253530009af889e</td><td>Universidad Tecnológica Del Perú</td><td>Universidad Tecnológica del Perú S.A.C.</td></tr><tr><td>63115f954253530009af9439</td><td>Universidad Tecnológica Del Perú</td><td>Universidad Tecnológica del Perú S.A.C.</td></tr><tr><td>631168355a5f2e0009f95ad1</td><td>Universidad De Ciencias Aplicadas</td><td>Universidad Peruana de Ciencias Aplicadas S.A.C.</td></tr><tr><td>63116b965a5f2e0009f95cb3</td><td>Universidad Privada Antenor Orrego</td><td>Universidad Privada Antenor Orrego</td></tr><tr><td>63117268f4622c0008c17c3d</td><td>Universidad Privada Del Norte</td><td>Universidad Privada del Norte S.A.C.</td></tr><tr><td>63121bf803ed1f00085bed81</td><td>Universidad Privada Del Norte</td><td>Universidad Privada del Norte S.A.C.</td></tr><tr><td>6312222d0d11cc000ad2d040</td><td>Universidad San Agustín De Arequipa</td><td>Universidad Nacional de San Agustín de Arequipa</td></tr><tr><td>63121ff403ed1f00085bee9f</td><td>Upc</td><td>Universidad Peruana de Ciencias Aplicadas S.A.C.</td></tr><tr><td>631242e803ed1f00085bfd05</td><td>Ricardo Palma</td><td>Universidad Ricardo Palma</td></tr><tr><td>631254698ad71a0008d6f0a7</td><td>Universidad  Privada  Del Norte</td><td>Universidad Privada del Norte S.A.C.</td></tr><tr><td>631260545073940008a21857</td><td>Universidad Autonoma Del Peru</td><td>Universidad Autónoma del Perú S.A.C.</td></tr><tr><td>6312a4a8e5ee99003f0868a4</td><td>Universidad Tecnológica Del Perú</td><td>Universidad Tecnológica del Perú S.A.C.</td></tr><tr><td>6312a43d844cb4003f22de4c</td><td>Universidad Cesar Vallejo - Ucv</td><td>Universidad César Vallejo S.A.C.</td></tr><tr><td>6312a4a8e5ee99003f0863d0</td><td>Universidad Tecnológica Del Perú</td><td>Universidad Tecnológica del Perú S.A.C.</td></tr><tr><td>6312a43d844cb4003f22e026</td><td>Universidad Privada Del Norte</td><td>Universidad Privada del Norte S.A.C.</td></tr><tr><td>63128e34844cb4003f22c784</td><td>Universidad Privada Del Norte</td><td>Universidad Privada del Norte S.A.C.</td></tr><tr><td>6312a4a8e5ee99003f086b26</td><td>Universidad Nacional De Cañete</td><td>Universidad Nacional de Cañete</td></tr><tr><td>63128e34844cb4003f22bf0e</td><td>Universidad Tecnológica Del Perú</td><td>Universidad Tecnológica del Perú S.A.C.</td></tr><tr><td>6312a4a8e5ee99003f0863e2</td><td>Universidad Tecnológica Del Perú - Utp</td><td>Universidad Tecnológica del Perú S.A.C.</td></tr><tr><td>6312a4a8e5ee99003f0865ec</td><td>Universidad Peruana De Ciencias Aplicadas</td><td>Universidad Peruana de Ciencias Aplicadas S.A.C.</td></tr><tr><td>6312a4a8e5ee99003f085fc2</td><td>Universidad Privada Del Norte</td><td>Universidad Privada del Norte S.A.C.</td></tr><tr><td>63128e34844cb4003f22baca</td><td>Universidad Privada Del Norte</td><td>Universidad Privada del Norte S.A.C.</td></tr><tr><td>63128e34844cb4003f22ba58</td><td>Upn</td><td>Universidad Privada del Norte S.A.C.</td></tr><tr><td>63128e34844cb4003f22bd6a</td><td>Universidad Privada Del Norte</td><td>Universidad Privada del Norte S.A.C.</td></tr><tr><td>63128e34844cb4003f22bdf4</td><td>Universidad Privada Del Norte</td><td>Universidad Privada del Norte S.A.C.</td></tr><tr><td>6312a4a8e5ee99003f086802</td><td>Universidad Cesar Vallejo</td><td>Universidad César Vallejo S.A.C.</td></tr><tr><td>6312a4a8e5ee99003f085f02</td><td>Utp</td><td>Universidad Tecnológica del Perú S.A.C.</td></tr><tr><td>63128e34844cb4003f22ba9a</td><td>Universidad Tecnológica Del Perú</td><td>Universidad Tecnológica del Perú S.A.C.</td></tr><tr><td>63128e34844cb4003f22bd7c</td><td>Universidad Nacional Del Callao</td><td>Universidad Nacional del Callao</td></tr><tr><td>6312a4a8e5ee99003f085698</td><td>Universidad Cesar Vallejo</td><td>Universidad César Vallejo S.A.C.</td></tr><tr><td>63128e34844cb4003f22c0a6</td><td>Univerdidad Privada Norbert Wiener</td><td>Universidad Privada Norbert Wiener S.A.</td></tr><tr><td>6312a4a8e5ee99003f086a48</td><td>Universidad De San Martín De Porres</td><td>Universidad de San Martín de Porres</td></tr><tr><td>6312a4a8e5ee99003f086a0c</td><td>Universidad Nacional Del Callao</td><td>Universidad Nacional del Callao</td></tr><tr><td>6312a4a8e5ee99003f086832</td><td>Universidad De San Martin De Porres</td><td>Universidad de San Martín de Porres</td></tr><tr><td>63128e33844cb4003f22b8d8</td><td>Universidad Nacional Federico Villarreal - Unfv</td><td>Universidad Nacional Federico Villarreal</td></tr><tr><td>6312a4a8e5ee99003f085932</td><td>Universidad Privada Del Norte</td><td>Universidad Privada del Norte S.A.C.</td></tr><tr><td>63128e34844cb4003f22c6c4</td><td>Universidad Cesar Vallejo  Ucv</td><td>Universidad César Vallejo S.A.C.</td></tr><tr><td>6312a43d844cb4003f22e632</td><td>Universidad Privada Del Norte</td><td>Universidad Privada del Norte S.A.C.</td></tr><tr><td>63128e34844cb4003f22c544</td><td>Universidad César Vallejo</td><td>Universidad César Vallejo S.A.C.</td></tr><tr><td>6312a4a8e5ee99003f086400</td><td>Universidad Privada Del Norte</td><td>Universidad Privada del Norte S.A.C.</td></tr><tr><td>6312a4a8e5ee99003f0864fc</td><td>Daniel Alcides Carrión</td><td>Universidad Nacional Daniel Alcides Carrión</td></tr><tr><td>63128e34844cb4003f22c19c</td><td>Universidad Nacional Santiago Antúnez De Mayolo, Huaraz</td><td>Universidad Nacional Santiago Antúnez de Mayolo</td></tr><tr><td>6312b39a5073940008a23c8b</td><td>Universidad Nacional De Piura</td><td>Universidad Nacional de Piura</td></tr><tr><td>6312a4a8e5ee99003f086c52</td><td>Instituto San Ignacio De Loyola</td><td>Universidad San Ignacio de Loyola S.R.L.</td></tr><tr><td>6312a4a8e5ee99003f08581e</td><td>Universidad Científica Del Sur</td><td>Universidad Científica del Sur S.A.C.</td></tr><tr><td>6312a43d844cb4003f22dde6</td><td>Universidad Privada Del Norte</td><td>Universidad Privada del Norte S.A.C.</td></tr><tr><td>63128e34844cb4003f22bb9c</td><td>Universidad Nacional Del Callao</td><td>Universidad Nacional del Callao</td></tr><tr><td>6312a43d844cb4003f22dfcc</td><td>Universodad Privada Del Norte</td><td>Universidad Privada del Norte S.A.C.</td></tr><tr><td>6312b796f4622c0008c1d6f8</td><td>Universidad Peruana De Ciencias Aplicadas - Upc</td><td>Universidad Peruana de Ciencias Aplicadas S.A.C.</td></tr><tr><td>63128e34844cb4003f22bcc8</td><td>Usil</td><td>Universidad San Ignacio de Loyola S.R.L.</td></tr><tr><td>63128e33844cb4003f22b794</td><td>Universidad Cesar Vallejo - Ucv</td><td>Universidad César Vallejo S.A.C.</td></tr><tr><td>63128e33844cb4003f22b794</td><td>Universidad Privada Del Norte</td><td>Universidad Privada del Norte S.A.C.</td></tr><tr><td>63128e34844cb4003f22bbba</td><td>Universidad Cesar Vallejo</td><td>Universidad César Vallejo S.A.C.</td></tr><tr><td>6312a4a8e5ee99003f085f5c</td><td>Usil</td><td>Universidad San Ignacio de Loyola S.R.L.</td></tr><tr><td>63128e34844cb4003f22bbf0</td><td>Universidad De Ciencias Aplicadas - Upc</td><td>Universidad Peruana de Ciencias Aplicadas S.A.C.</td></tr><tr><td>6312a4a8e5ee99003f086046</td><td>Universidad Privada Del Norte</td><td>Universidad Privada del Norte S.A.C.</td></tr><tr><td>63128e34844cb4003f22c4f6</td><td>Universidad Privada Del Norte</td><td>Universidad Privada del Norte S.A.C.</td></tr><tr><td>6312a4a8e5ee99003f086868</td><td>Universidad Cesar Vallejo - Ucv</td><td>Universidad César Vallejo S.A.C.</td></tr><tr><td>6312a4a8e5ee99003f086070</td><td>Universidad Privada Del Norte</td><td>Universidad Privada del Norte S.A.C.</td></tr><tr><td>6312a4a8e5ee99003f086ac6</td><td>Universidad Tecnológica Del Perú</td><td>Universidad Tecnológica del Perú S.A.C.</td></tr><tr><td>6312a4a8e5ee99003f08573a</td><td>Universidad Privada Del Norte</td><td>Universidad Privada del Norte S.A.C.</td></tr><tr><td>6312a4a8e5ee99003f0858c6</td><td>Universidad Peruana De Ciencias Aplicadas</td><td>Universidad Peruana de Ciencias Aplicadas S.A.C.</td></tr><tr><td>6312a4a8e5ee99003f0858c6</td><td>I.e Por Convenio 0001 María Auxiliadora</td><td>Universidad María Auxiliadora S.A.C.</td></tr><tr><td>63128e34844cb4003f22c778</td><td>Universidad Privada Del Norte (upn)</td><td>Universidad Privada del Norte S.A.C.</td></tr><tr><td>63128e34844cb4003f22c778</td><td>Universidad Peruana De Ciencias Aplicadas (upc)</td><td>Universidad Peruana de Ciencias Aplicadas S.A.C.</td></tr><tr><td>6312a4a8e5ee99003f086622</td><td>Instituto De La Clínica Ricardo Palma</td><td>Universidad Ricardo Palma</td></tr><tr><td>6312a4a8e5ee99003f086622</td><td>Universidad Le Cordon Bleu</td><td>Universidad Le Cordon Bleu S.A.C.</td></tr><tr><td>6312a4a8e5ee99003f086184</td><td>Universidad Tecnológica Del Perú</td><td>Universidad Tecnológica del Perú S.A.C.</td></tr><tr><td>6312a4a8e5ee99003f086874</td><td>Utp</td><td>Universidad Tecnológica del Perú S.A.C.</td></tr><tr><td>6312a4a8e5ee99003f086aae</td><td>Universidad Privada Del Norte</td><td>Universidad Privada del Norte S.A.C.</td></tr><tr><td>63128e34844cb4003f22c8b0</td><td>Universidad Nacional Del Callao</td><td>Universidad Nacional del Callao</td></tr><tr><td>6312a4a8e5ee99003f086b02</td><td>Universidad Tecnológica Del Perú</td><td>Universidad Tecnológica del Perú S.A.C.</td></tr><tr><td>6312a4a8e5ee99003f0866a0</td><td>Universidad Autonoma Del Peru</td><td>Universidad Autónoma del Perú S.A.C.</td></tr><tr><td>6312e01f5073940008a248fc</td><td>Universidad Peruana De Ciencias Aplicadas - Upc</td><td>Universidad Peruana de Ciencias Aplicadas S.A.C.</td></tr><tr><td>6312a4a9e5ee99003f086cd0</td><td>Universidad Tecnológica Del Perú</td><td>Universidad Tecnológica del Perú S.A.C.</td></tr><tr><td>63128e34844cb4003f22c03a</td><td>Universidad Ricardo Palma</td><td>Universidad Ricardo Palma</td></tr><tr><td>6312a4a8e5ee99003f0856e0</td><td>Universidad San Ignacio De Loyola</td><td>Universidad San Ignacio de Loyola S.R.L.</td></tr><tr><td>6312a4a8e5ee99003f085a76</td><td>Universidad San Martín De Porres</td><td>Universidad de San Martín de Porres</td></tr><tr><td>6312a4a8e5ee99003f0859f2</td><td>Universidad Tecnológica Del Perú</td><td>Universidad Tecnológica del Perú S.A.C.</td></tr><tr><td>6312a4a8e5ee99003f085b2a</td><td>Universidad Nacional Mayor De San Marcos</td><td>Universidad Nacional Mayor de San Marcos</td></tr><tr><td>63128e34844cb4003f22bf20</td><td>Universidad Peruana De Ciencias Aplicada</td><td>Universidad Peruana de Ciencias Aplicadas S.A.C.</td></tr><tr><td>63128e34844cb4003f22c60a</td><td>Univerisdad Tecnologica Del Peru</td><td>Universidad Tecnológica del Perú S.A.C.</td></tr><tr><td>6312a4a8e5ee99003f086b68</td><td>Universidad Privada Del Norte</td><td>Universidad Privada del Norte S.A.C.</td></tr><tr><td>63128e34844cb4003f22c292</td><td>Universidad Cesar Vallejo - Ucv</td><td>Universidad César Vallejo S.A.C.</td></tr><tr><td>6312a4a8e5ee99003f086208</td><td>Universidad Nacional Mayor De San Marcos</td><td>Universidad Nacional Mayor de San Marcos</td></tr><tr><td>6312a4a8e5ee99003f085c74</td><td>Universidad Tecnológica Del Perú</td><td>Universidad Tecnológica del Perú S.A.C.</td></tr><tr><td>6312a4a8e5ee99003f085b9c</td><td>Universidad Peruana De Ciencias Aplicadas - Upc</td><td>Universidad Peruana de Ciencias Aplicadas S.A.C.</td></tr><tr><td>63128e34844cb4003f22c86e</td><td>Universidad Cesar Vallejo</td><td>Universidad César Vallejo S.A.C.</td></tr><tr><td>6312a4a8e5ee99003f086568</td><td>Universidad Privada Del Norte</td><td>Universidad Privada del Norte S.A.C.</td></tr><tr><td>63128e33844cb4003f22b87e</td><td>Upc</td><td>Universidad Peruana de Ciencias Aplicadas S.A.C.</td></tr><tr><td>6312a4a8e5ee99003f085d2e</td><td>Universidad San Ignacio De Loyola</td><td>Universidad San Ignacio de Loyola S.R.L.</td></tr><tr><td>63128e33844cb4003f22b8fc</td><td>Universidad Privada Del Norte</td><td>Universidad Privada del Norte S.A.C.</td></tr><tr><td>63128e34844cb4003f22c61c</td><td>Instituto San Ignacio De Loyola - Isil</td><td>Universidad San Ignacio de Loyola S.R.L.</td></tr><tr><td>6312a4a8e5ee99003f085bd8</td><td>Universidad Ricardo Palma</td><td>Universidad Ricardo Palma</td></tr><tr><td>6312a4a8e5ee99003f0865e0</td><td>Universidad Privada Del Norte</td><td>Universidad Privada del Norte S.A.C.</td></tr><tr><td>63128e34844cb4003f22be4e</td><td>Ucv</td><td>Universidad César Vallejo S.A.C.</td></tr><tr><td>6312a4a8e5ee99003f085fb0</td><td>Universidad Privada Del Norte - Upn</td><td>Universidad Privada del Norte S.A.C.</td></tr><tr><td>6312a4a8e5ee99003f086c04</td><td>Universidad De San Martin De Porres - Usmp</td><td>Universidad de San Martín de Porres</td></tr><tr><td>63128e34844cb4003f22c928</td><td>Universidad Peruana De Ciencias Aplicadas</td><td>Universidad Peruana de Ciencias Aplicadas S.A.C.</td></tr><tr><td>6312a4a8e5ee99003f086028</td><td>Universidad Privada Del Norte</td><td>Universidad Privada del Norte S.A.C.</td></tr><tr><td>6312a4a8e5ee99003f085dfa</td><td>Upc</td><td>Universidad Peruana de Ciencias Aplicadas S.A.C.</td></tr><tr><td>63128e34844cb4003f22c43c</td><td>Universidad Cesar Vallejo</td><td>Universidad César Vallejo S.A.C.</td></tr><tr><td>6312a4a8e5ee99003f08650e</td><td>Universidad Privada Del Norte</td><td>Universidad Privada del Norte S.A.C.</td></tr><tr><td>6312a43d844cb4003f22e548</td><td>Universidad César Vallejo</td><td>Universidad César Vallejo S.A.C.</td></tr><tr><td>6312a4a9e5ee99003f086d54</td><td>Universidad Tecnologica Del Peru</td><td>Universidad Tecnológica del Perú S.A.C.</td></tr><tr><td>6312a4a8e5ee99003f0864b4</td><td>César Vallejo</td><td>Universidad César Vallejo S.A.C.</td></tr><tr><td>6312a4a9e5ee99003f086d18</td><td>Universidad Cesar Vallejo</td><td>Universidad César Vallejo S.A.C.</td></tr><tr><td>63128e34844cb4003f22c74e</td><td>Cesar Vallejo</td><td>Universidad César Vallejo S.A.C.</td></tr><tr><td>6313e0db8ad71a0008d743d8</td><td>Universidad Nacional Federico Villarreal</td><td>Universidad Nacional Federico Villarreal</td></tr><tr><td>6312a4a8e5ee99003f08639a</td><td>Utp</td><td>Universidad Tecnológica del Perú S.A.C.</td></tr><tr><td>63128e34844cb4003f22c3e2</td><td>Universidad Peruana De Ciencias Aplicadas</td><td>Universidad Peruana de Ciencias Aplicadas S.A.C.</td></tr><tr><td>6312a43d844cb4003f22e4d6</td><td>Universidad Nacional De Trujillo</td><td>Universidad Nacional de Trujillo</td></tr><tr><td>6312a43d844cb4003f22e62c</td><td>Universidad Privada Del Norte - Unp</td><td>Universidad Privada del Norte S.A.C.</td></tr><tr><td>6312a43d844cb4003f22e62c</td><td>Universidad Privada Antenor Orrego</td><td>Universidad Privada Antenor Orrego</td></tr><tr><td>63143bd6f4622c0008c2105b</td><td>Universidad Nacional Del Callao</td><td>Universidad Nacional del Callao</td></tr><tr><td>63128e34844cb4003f22c136</td><td>Universidad Nacional Del Callao</td><td>Universidad Nacional del Callao</td></tr><tr><td>6312a4a8e5ee99003f085d58</td><td>Universidad Nacional Federico Villarreal - Unfv</td><td>Universidad Nacional Federico Villarreal</td></tr><tr><td>6312a4a8e5ee99003f0858a8</td><td>Universidad Cesar Vallejo</td><td>Universidad César Vallejo S.A.C.</td></tr><tr><td>63128e34844cb4003f22c6dc</td><td>Universidad Privada Del Norte</td><td>Universidad Privada del Norte S.A.C.</td></tr><tr><td>6312a43d844cb4003f22e2fc</td><td>Universidad Privada Del Norte</td><td>Universidad Privada del Norte S.A.C.</td></tr><tr><td>63128e34844cb4003f22bc32</td><td>Universidad Privada Del Norte - Unp</td><td>Universidad Privada del Norte S.A.C.</td></tr><tr><td>6314d39b0d11cc000ad35818</td><td>Universidad Cesar Vallejo - Ucv</td><td>Universidad César Vallejo S.A.C.</td></tr><tr><td>6312a4a9e5ee99003f086d42</td><td>San Ignacio De Loyola</td><td>Universidad San Ignacio de Loyola S.R.L.</td></tr><tr><td>6312a4a8e5ee99003f08567a</td><td>Universidad Esan</td><td>Universidad ESAN</td></tr><tr><td>631539e05073940008a2812c</td><td>Universidad Privada Del Norte</td><td>Universidad Privada del Norte S.A.C.</td></tr><tr><td>6312a4a8e5ee99003f08658c</td><td>Universidad Nacional De Educación Enrique Guzmán Y Valle - La Cantuta</td><td>Universidad Nacional de Educación Enrique Guzmán y Valle</td></tr><tr><td>6312a4a8e5ee99003f085896</td><td>Universidad Nacional Mayor De San Marcos</td><td>Universidad Nacional Mayor de San Marcos</td></tr><tr><td>63128e34844cb4003f22c1c0</td><td>Universidad Privada Del Norte</td><td>Universidad Privada del Norte S.A.C.</td></tr><tr><td>6312a4a8e5ee99003f08691c</td><td>Universidad Nacional Mayor De San Marcos</td><td>Universidad Nacional Mayor de San Marcos</td></tr><tr><td>6315636103ed1f00085ec4bf</td><td>Universidad Privada Del Norte</td><td>Universidad Privada del Norte S.A.C.</td></tr><tr><td>6312a4a8e5ee99003f0859f8</td><td>Universidad Tecnológica Del Perú</td><td>Universidad Tecnológica del Perú S.A.C.</td></tr><tr><td>631576600d11cc000ad36f95</td><td>Universidad Privada Del Norte</td><td>Universidad Privada del Norte S.A.C.</td></tr><tr><td>6315ac5703ed1f00085ecd2d</td><td>Universidad César Vallejo</td><td>Universidad César Vallejo S.A.C.</td></tr><tr><td>6312a4a8e5ee99003f08644e</td><td>Universidad Peruana De Ciencias Aplicadas.</td><td>Universidad Peruana de Ciencias Aplicadas S.A.C.</td></tr><tr><td>63160d575073940008a292fe</td><td>Instituto Continental</td><td>Universidad Continental S.A.C.</td></tr><tr><td>631612b88ad71a0008d77107</td><td>Universidad Privada Del Norte</td><td>Universidad Privada del Norte S.A.C.</td></tr><tr><td>6312a43d844cb4003f22e0a4</td><td>Universidad Nacional De Trujillo</td><td>Universidad Nacional de Trujillo</td></tr><tr><td>63161d1a8ad71a0008d774c6</td><td>San Martin De Porres</td><td>Universidad de San Martín de Porres</td></tr><tr><td>63162c11844cb4003f239ae9</td><td>Universidad Privada Del Norte</td><td>Universidad Privada del Norte S.A.C.</td></tr><tr><td>63162c11844cb4003f239ac5</td><td>Universidad Nacional Tecnológica De Lima Sur</td><td>Universidad Nacional Tecnológica de Lima Sur</td></tr><tr><td>63128e34844cb4003f22c826</td><td>Universidad Nacional Federico Villarreal</td><td>Universidad Nacional Federico Villarreal</td></tr><tr><td>6312a4a8e5ee99003f085c9e</td><td>Upc</td><td>Universidad Peruana de Ciencias Aplicadas S.A.C.</td></tr><tr><td>63162c11844cb4003f239acb</td><td>Universidad Cesar Vallejo</td><td>Universidad César Vallejo S.A.C.</td></tr><tr><td>631659676442660008f41b15</td><td>Universidad Tecnológica Del Perú - Utp</td><td>Universidad Tecnológica del Perú S.A.C.</td></tr><tr><td>631662740d11cc000ad39aed</td><td>Ricardo Palma</td><td>Universidad Ricardo Palma</td></tr><tr><td>63166a6f6442660008f421d8</td><td>Universidad Privada Del Norte</td><td>Universidad Privada del Norte S.A.C.</td></tr><tr><td>63166c310d11cc000ad39dfd</td><td>Universidad Privada Del Norte</td><td>Universidad Privada del Norte S.A.C.</td></tr><tr><td>63167df88ad71a0008d798ac</td><td>Upc</td><td>Universidad Peruana de Ciencias Aplicadas S.A.C.</td></tr><tr><td>631689b30d11cc000ad3a8ff</td><td>Universidad Tecnológica Del Perú</td><td>Universidad Tecnológica del Perú S.A.C.</td></tr><tr><td>63168cb95073940008a2f9e1</td><td>Universidad Nacional Mayor De San Marcos</td><td>Universidad Nacional Mayor de San Marcos</td></tr><tr><td>6316922c03ed1f00085f71cf</td><td>Universidad Cesar Vallejo</td><td>Universidad César Vallejo S.A.C.</td></tr><tr><td>6316a6eb5073940008a30408</td><td>Universidad Privada Del Norte</td><td>Universidad Privada del Norte S.A.C.</td></tr><tr><td>6316a6c86442660008f4393c</td><td>Utp</td><td>Universidad Tecnológica del Perú S.A.C.</td></tr><tr><td>6316ab2303ed1f00085f797d</td><td>Universidad Privada Del Norte</td><td>Universidad Privada del Norte S.A.C.</td></tr><tr><td>6316b4dc03ed1f00085f7c26</td><td>Universidad Nacional De Ingenieria</td><td>Universidad Nacional de Ingeniería</td></tr><tr><td>6316b4dc03ed1f00085f7c26</td><td>Colegio La Salle</td><td>Universidad La Salle</td></tr><tr><td>6316cffd8ad71a0008d83a39</td><td>Universidad Tecnológica Del Perú - Utp</td><td>Universidad Tecnológica del Perú S.A.C.</td></tr><tr><td>6316e9c2f4622c0008c27bac</td><td>Universidad Nacional Mayor De San Marcos</td><td>Universidad Nacional Mayor de San Marcos</td></tr><tr><td>63174f7e03ed1f00085f8be3</td><td>Universidad Cesar Vallejo</td><td>Universidad César Vallejo S.A.C.</td></tr><tr><td>631774ee03ed1f00085f9661</td><td>Instituto San Ignacio De Loyola</td><td>Universidad San Ignacio de Loyola S.R.L.</td></tr><tr><td>63177aa18ad71a0008d84cc9</td><td>Ucv</td><td>Universidad César Vallejo S.A.C.</td></tr><tr><td>6312a4a8e5ee99003f085d8e</td><td>San Ignacio De Loyola - Isil</td><td>Universidad San Ignacio de Loyola S.R.L.</td></tr><tr><td>631766b2e5ee99003f0aa522</td><td>Universidad César Vallejo</td><td>Universidad César Vallejo S.A.C.</td></tr><tr><td>6312a43d844cb4003f22e48e</td><td>Universidad Cesar Vallejo</td><td>Universidad César Vallejo S.A.C.</td></tr><tr><td>6317a85103ed1f00085fb88b</td><td>Universidad César Vallejo</td><td>Universidad César Vallejo S.A.C.</td></tr><tr><td>6317a85103ed1f00085fb88b</td><td>I.e.p José María Arguedas</td><td>Universidad Nacional José María Arguedas</td></tr><tr><td>6317a85103ed1f00085fb88b</td><td>I.e Jec Daniel Alcides Carrión</td><td>Universidad Nacional Daniel Alcides Carrión</td></tr><tr><td>6317966f0d11cc000ad3e293</td><td>Universidad Tecnologica Del Peru</td><td>Universidad Tecnológica del Perú S.A.C.</td></tr><tr><td>6317b54f03ed1f00085fbd48</td><td>Universidad Nacional Del Callao</td><td>Universidad Nacional del Callao</td></tr><tr><td>6317b71a03ed1f00085fbe19</td><td>Universidad San Ignacio De Loyola - Usil</td><td>Universidad San Ignacio de Loyola S.R.L.</td></tr><tr><td>6317b71a03ed1f00085fbe19</td><td>Instituto San Ignacio De Loyola - Isil</td><td>Universidad San Ignacio de Loyola S.R.L.</td></tr><tr><td>63162c11844cb4003f239afb</td><td>Universidad San Ignacio De Loyola</td><td>Universidad San Ignacio de Loyola S.R.L.</td></tr><tr><td>6317c0c20d11cc000ad3f9ad</td><td>Universidad Nacional Del Callao</td><td>Universidad Nacional del Callao</td></tr><tr><td>6317db0919d98e0008e970e2</td><td>Universidad Privada Del Norte</td><td>Universidad Privada del Norte S.A.C.</td></tr><tr><td>6317dfaacfc3230008d91339</td><td>Universidad Cesar Vallejo - Ucv</td><td>Universidad César Vallejo S.A.C.</td></tr><tr><td>63128e34844cb4003f22beb4</td><td>Universidad César Vallejo</td><td>Universidad César Vallejo S.A.C.</td></tr><tr><td>6317ed9a9bc8d90009562124</td><td>Universidad Tecnológica Del Perú - Utp</td><td>Universidad Tecnológica del Perú S.A.C.</td></tr><tr><td>631800c48a691c00087bed56</td><td>Universidad Cesar Vallejo</td><td>Universidad César Vallejo S.A.C.</td></tr><tr><td>6312a4a8e5ee99003f086c8e</td><td>\"Universidad Particular \"\"san Martín De Porres\"\"\"</td><td>Universidad de San Martín de Porres</td></tr><tr><td>631820571c7bdc00081b7bba</td><td>Universidad De San Martín De Porres</td><td>Universidad de San Martín de Porres</td></tr><tr><td>631831868a691c00087bf9e3</td><td>Universidad San Ignacio De Loyola</td><td>Universidad San Ignacio de Loyola S.R.L.</td></tr><tr><td>6318ba879bc8d90009563849</td><td>Universidad Privada Del Norte</td><td>Universidad Privada del Norte S.A.C.</td></tr><tr><td>631766b2e5ee99003f0aa54c</td><td>Universidad Privada Del Norte</td><td>Universidad Privada del Norte S.A.C.</td></tr><tr><td>6318bec2cfc3230008d92c47</td><td>Universidad Nacional Federico Villarreal - Unfv</td><td>Universidad Nacional Federico Villarreal</td></tr><tr><td>6318c52a1c7bdc00081b8900</td><td>Universidad Cesar Vallejo - Ucv</td><td>Universidad César Vallejo S.A.C.</td></tr><tr><td>6318ea5a8a691c00087c2f0e</td><td>Universidad Peruana De Ciencias Aplicadas - Upc</td><td>Universidad Peruana de Ciencias Aplicadas S.A.C.</td></tr><tr><td>63190f121c7bdc00081bac19</td><td>Universidad Nacional Federico Villarreal</td><td>Universidad Nacional Federico Villarreal</td></tr><tr><td>63191b3e8a691c00087c435f</td><td>Universidad Privada Del Norte</td><td>Universidad Privada del Norte S.A.C.</td></tr><tr><td>6319297319d98e0008e9c0d4</td><td>Utp</td><td>Universidad Tecnológica del Perú S.A.C.</td></tr><tr><td>63162c1c5073940008a29ea7</td><td>Universidad Cesar Vallejo</td><td>Universidad César Vallejo S.A.C.</td></tr><tr><td>6319486119d98e0008e9cfdd</td><td>Universidad Cesar Vallejo</td><td>Universidad César Vallejo S.A.C.</td></tr><tr><td>6312a4a8e5ee99003f086ae4</td><td>Universidad Nacional Federico Villarreal</td><td>Universidad Nacional Federico Villarreal</td></tr><tr><td>63128e34844cb4003f22c4c6</td><td>Universidad Privada Del Norte</td><td>Universidad Privada del Norte S.A.C.</td></tr><tr><td>63197cba19d98e0008e9e49e</td><td>Universidad Privada Del Norte</td><td>Universidad Privada del Norte S.A.C.</td></tr><tr><td>6312a4a8e5ee99003f086676</td><td>Universidad Nacional Del Centro Del Perú - Uncp</td><td>Universidad Nacional del Centro del Perú</td></tr><tr><td>631a080e1c7bdc00081be4be</td><td>Universidad San Martin De Porres</td><td>Universidad de San Martín de Porres</td></tr><tr><td>631a08ce19d98e0008e9ef34</td><td>Universidad Cesar Vallejo</td><td>Universidad César Vallejo S.A.C.</td></tr><tr><td>631a12b69bc8d90009569c44</td><td>Universidad Privada Del Norte</td><td>Universidad Privada del Norte S.A.C.</td></tr><tr><td>631a1af89bc8d90009569f9f</td><td>Universidad Tecnologica Del Peru</td><td>Universidad Tecnológica del Perú S.A.C.</td></tr><tr><td>631a5a93c31a670008a5d587</td><td>Universidad Nacional Mayor De San Marcos - Unmsm</td><td>Universidad Nacional Mayor de San Marcos</td></tr><tr><td>631a6d459bc8d9000956c396</td><td>Universidad Cesar Vallejo</td><td>Universidad César Vallejo S.A.C.</td></tr><tr><td>631a86048a691c00087cb4e4</td><td>Universidad Nacional José Faustino Sánchez Carrión</td><td>Universidad Nacional José Faustino Sánchez Carrión</td></tr><tr><td>631aa07d469d5700083d410d</td><td>Universidad Nacional De Piura</td><td>Universidad Nacional de Piura</td></tr><tr><td>631ab6f91c56340008d6b0aa</td><td>Universidad Peruana De Ciencias Aplicadas - Upc</td><td>Universidad Peruana de Ciencias Aplicadas S.A.C.</td></tr><tr><td>631b412e756c7c000964782d</td><td>Universidad Tecnológica Del Perú</td><td>Universidad Tecnológica del Perú S.A.C.</td></tr><tr><td>631b89a7756c7c0009648679</td><td>Universidad De San Martin De Porres - Usmp</td><td>Universidad de San Martín de Porres</td></tr><tr><td>631b8e6067f467000868371c</td><td>Universidad Privada Del Norte</td><td>Universidad Privada del Norte S.A.C.</td></tr><tr><td>631ba9568ddb27000869dccf</td><td>Universidad Privada Del Norte - Upn</td><td>Universidad Privada del Norte S.A.C.</td></tr><tr><td>63128e34844cb4003f22bde2</td><td>Upn</td><td>Universidad Privada del Norte S.A.C.</td></tr><tr><td>631cc245bac1bc000909153e</td><td>Universidad Jaime Bausate Y Meza</td><td>Universidad Jaime Bausate y Meza</td></tr><tr><td>631cd3cebac1bc0009091e8d</td><td>Universidad Privada De Ciencias Aplicadas</td><td>Universidad Peruana de Ciencias Aplicadas S.A.C.</td></tr><tr><td>631ce90b756c7c000964c0f8</td><td>Universidad Esan</td><td>Universidad ESAN</td></tr><tr><td>631d25981c56340008d70895</td><td>Universidad Tecnológica Del Perú</td><td>Universidad Tecnológica del Perú S.A.C.</td></tr><tr><td>631e0d3767f4670008687aba</td><td>Universidad Privada Antenor Orrego</td><td>Universidad Privada Antenor Orrego</td></tr><tr><td>631e0f961c56340008d710cc</td><td>Unfv</td><td>Universidad Nacional Federico Villarreal</td></tr><tr><td>631e661167f46700086883ce</td><td>Usmp</td><td>Universidad de San Martín de Porres</td></tr><tr><td>631e726b756c7c000964d9a3</td><td>Upc</td><td>Universidad Peruana de Ciencias Aplicadas S.A.C.</td></tr><tr><td>63128e33844cb4003f22b986</td><td>Universidad Continental</td><td>Universidad Continental S.A.C.</td></tr><tr><td>631f48a38ddb2700086a2c06</td><td>Universidad Jaime Bausate Y Meza - Jbm</td><td>Universidad Jaime Bausate y Meza</td></tr><tr><td>631f5c7d67f4670008689707</td><td>Universidad Tecnológica Del Perú</td><td>Universidad Tecnológica del Perú S.A.C.</td></tr><tr><td>631f5e7d8ddb2700086a310a</td><td>Universidad César Vallejo</td><td>Universidad César Vallejo S.A.C.</td></tr><tr><td>631f6657bac1bc0009094a39</td><td>Universidad Peruana De Ciencias Aplicadas</td><td>Universidad Peruana de Ciencias Aplicadas S.A.C.</td></tr><tr><td>631f974c8ddb2700086a42d0</td><td>Utp</td><td>Universidad Tecnológica del Perú S.A.C.</td></tr><tr><td>631f9d77bac1bc0009095db7</td><td>Universidad Privada Del Norte</td><td>Universidad Privada del Norte S.A.C.</td></tr><tr><td>631fa091756c7c000965026d</td><td>Universidad Tecnológica Del Perú</td><td>Universidad Tecnológica del Perú S.A.C.</td></tr><tr><td>631fce27bac1bc00090972fd</td><td>Universidad San Ignacio De Loyola - Usil</td><td>Universidad San Ignacio de Loyola S.R.L.</td></tr><tr><td>631fd43e1c56340008d75b61</td><td>Univesidad  Cesar Vallejo</td><td>Universidad César Vallejo S.A.C.</td></tr><tr><td>631ff753756c7c0009652c47</td><td>Universidad Nacional Agraria La Molina</td><td>Universidad Nacional Agraria La Molina</td></tr><tr><td>631ff753756c7c0009652c47</td><td>Universidad De Lima</td><td>Universidad de Lima</td></tr><tr><td>63200c48bac1bc0009098d90</td><td>Universidad San Ignacio De Loyola</td><td>Universidad San Ignacio de Loyola S.R.L.</td></tr><tr><td>63200cf467f467000868de12</td><td>Universidad Tecnológica Del Perú - Utp</td><td>Universidad Tecnológica del Perú S.A.C.</td></tr><tr><td>63200d1f67f467000868de35</td><td>Universidad Tecnológica Del Perú</td><td>Universidad Tecnológica del Perú S.A.C.</td></tr><tr><td>63200f70e5ee99003f133eef</td><td>Utp</td><td>Universidad Tecnológica del Perú S.A.C.</td></tr><tr><td>63200f70e5ee99003f135905</td><td>Universidad Cesar Vallejo</td><td>Universidad César Vallejo S.A.C.</td></tr><tr><td>63200f70e5ee99003f133f19</td><td>Universidad Privada Norbert Wiener</td><td>Universidad Privada Norbert Wiener S.A.</td></tr><tr><td>63200f70e5ee99003f1346e1</td><td>Utp</td><td>Universidad Tecnológica del Perú S.A.C.</td></tr><tr><td>63200feb67f467000868e040</td><td>Universidad Tecnologica Del Peru</td><td>Universidad Tecnológica del Perú S.A.C.</td></tr><tr><td>63200f70e5ee99003f133607</td><td>Upn</td><td>Universidad Privada del Norte S.A.C.</td></tr><tr><td>63200f70e5ee99003f13551b</td><td>Universidad Privada Del Norte - Unp</td><td>Universidad Privada del Norte S.A.C.</td></tr><tr><td>63200f70e5ee99003f135587</td><td>Universidad Cesar Vallejo</td><td>Universidad César Vallejo S.A.C.</td></tr><tr><td>63200f70e5ee99003f134855</td><td>Universidad Privada Del Norte</td><td>Universidad Privada del Norte S.A.C.</td></tr><tr><td>63200ecb1c56340008d775ef</td><td>Universidad Privada San Juan Bautista - Upsjb</td><td>Universidad Privada San Juan Bautista S.A.C.</td></tr><tr><td>63200f71e5ee99003f135fb3</td><td>Universidad Privada Del Norte</td><td>Universidad Privada del Norte S.A.C.</td></tr><tr><td>63200f71e5ee99003f136841</td><td>Universidad San Martin De Porres</td><td>Universidad de San Martín de Porres</td></tr><tr><td>63200f71e5ee99003f135f53</td><td>Universidad Peruana De Ciencias Aplicadas - Upc</td><td>Universidad Peruana de Ciencias Aplicadas S.A.C.</td></tr><tr><td>63200f70e5ee99003f135407</td><td>Universidad Privada Del Norte</td><td>Universidad Privada del Norte S.A.C.</td></tr><tr><td>63200f70e5ee99003f134a89</td><td>Universidad Tecnologica Del Peru</td><td>Universidad Tecnológica del Perú S.A.C.</td></tr><tr><td>63200f70e5ee99003f134f51</td><td>Universidad Autónoma Del Perú - Ua</td><td>Universidad Autónoma del Perú S.A.C.</td></tr><tr><td>63200f71e5ee99003f13602b</td><td>Universidad Privada Del Norte - Upn</td><td>Universidad Privada del Norte S.A.C.</td></tr><tr><td>63200f71e5ee99003f13602b</td><td>Universidad De San Martin De Porres - Usmp</td><td>Universidad de San Martín de Porres</td></tr><tr><td>63200f71e5ee99003f136517</td><td>Academia Cesar Vallejo</td><td>Universidad César Vallejo S.A.C.</td></tr><tr><td>63200f70e5ee99003f1354a3</td><td>Universidad Tecnológica Del Perú</td><td>Universidad Tecnológica del Perú S.A.C.</td></tr><tr><td>63200f70e5ee99003f13589f</td><td>Utp</td><td>Universidad Tecnológica del Perú S.A.C.</td></tr><tr><td>63200f71e5ee99003f1361f9</td><td>Universidad Tecnológica Del Perú</td><td>Universidad Tecnológica del Perú S.A.C.</td></tr><tr><td>63200f71e5ee99003f136007</td><td>Universidad Privada San Juan Bautista</td><td>Universidad Privada San Juan Bautista S.A.C.</td></tr><tr><td>63200f71e5ee99003f1361cf</td><td>Universidad Cesar Vallejo</td><td>Universidad César Vallejo S.A.C.</td></tr><tr><td>63200f70e5ee99003f135479</td><td>Universidad Tecnológica Del Perú - Utp</td><td>Universidad Tecnológica del Perú S.A.C.</td></tr><tr><td>63200f70e5ee99003f1337f9</td><td>Cesar Vallejo</td><td>Universidad César Vallejo S.A.C.</td></tr><tr><td>63200f70e5ee99003f134591</td><td>Universidad De Piura - Campus Lima</td><td>Universidad de Piura</td></tr><tr><td>63200f70e5ee99003f134a7d</td><td>Universidad Naciónal Federico Villarreal</td><td>Universidad Nacional Federico Villarreal</td></tr><tr><td>63200f70e5ee99003f134aad</td><td>Universidad De Ciencias Aplicadas</td><td>Universidad Peruana de Ciencias Aplicadas S.A.C.</td></tr><tr><td>63200f70e5ee99003f134597</td><td>Universidad Privada San Juan Bautista</td><td>Universidad Privada San Juan Bautista S.A.C.</td></tr><tr><td>63200f71e5ee99003f135eed</td><td>Instituto San Ignacio De Loyola</td><td>Universidad San Ignacio de Loyola S.R.L.</td></tr><tr><td>63200f71e5ee99003f1363f7</td><td>Universidad Nacional De La Amazonia Peruana</td><td>Universidad Nacional de la Amazonía Peruana</td></tr><tr><td>63200f71e5ee99003f135da3</td><td>Científica Del Sur</td><td>Universidad Científica del Sur S.A.C.</td></tr><tr><td>63200f70e5ee99003f134075</td><td>Upc Universidad Peruana De Ciencias Aplicadas</td><td>Universidad Peruana de Ciencias Aplicadas S.A.C.</td></tr><tr><td>63200f70e5ee99003f134075</td><td>Upc</td><td>Universidad Peruana de Ciencias Aplicadas S.A.C.</td></tr><tr><td>63200f70e5ee99003f135125</td><td>Universidad Privada Del Norte</td><td>Universidad Privada del Norte S.A.C.</td></tr><tr><td>63200f71e5ee99003f135a8b</td><td>Universidad Nacional De La Amazonia Peruana - Unap</td><td>Universidad Nacional de la Amazonía Peruana</td></tr><tr><td>63208db4bac1bc000909ad30</td><td>Instituto San Ignacio De Loyola</td><td>Universidad San Ignacio de Loyola S.R.L.</td></tr><tr><td>63200f71e5ee99003f136247</td><td>Universidad Peruana De Ciencias Aplicadas - Upc</td><td>Universidad Peruana de Ciencias Aplicadas S.A.C.</td></tr><tr><td>63200f71e5ee99003f136247</td><td>Ricardo Palma N°5099</td><td>Universidad Ricardo Palma</td></tr><tr><td>63200f71e5ee99003f135ad9</td><td>Universidad Enrique Guzman Y Valle</td><td>Universidad Nacional de Educación Enrique Guzmán y Valle</td></tr><tr><td>63200f70e5ee99003f13489d</td><td>Universidad Autónoma Del Perú</td><td>Universidad Autónoma del Perú S.A.C.</td></tr><tr><td>6312a4a8e5ee99003f085b30</td><td>San Ignacio De Loyola</td><td>Universidad San Ignacio de Loyola S.R.L.</td></tr><tr><td>63200f71e5ee99003f13676f</td><td>Universidad Privada Del Norte</td><td>Universidad Privada del Norte S.A.C.</td></tr><tr><td>6320b286844cb4003f31ff21</td><td>Universidad Privada Del Norte</td><td>Universidad Privada del Norte S.A.C.</td></tr><tr><td>6320b286844cb4003f31fa2f</td><td>Universidad Tecnológica Del Perú</td><td>Universidad Tecnológica del Perú S.A.C.</td></tr><tr><td>63200f70e5ee99003f1344ef</td><td>Universidad De San Martin De Porres - Usmp</td><td>Universidad de San Martín de Porres</td></tr><tr><td>6320b286844cb4003f31f8b5</td><td>Universidad Privada Del Norte</td><td>Universidad Privada del Norte S.A.C.</td></tr><tr><td>6320b286844cb4003f31fed9</td><td>Upla</td><td>Universidad Peruana Los Andes</td></tr><tr><td>6320b286844cb4003f32018b</td><td>Universidad Privada César Vallejo</td><td>Universidad César Vallejo S.A.C.</td></tr><tr><td>63200f70e5ee99003f134a0b</td><td>Universidad Cesar Vallejo</td><td>Universidad César Vallejo S.A.C.</td></tr><tr><td>63200f70e5ee99003f135461</td><td>Universidad De San Martin De Porres</td><td>Universidad de San Martín de Porres</td></tr><tr><td>6320c48e756c7c0009657910</td><td>Universidad Nacional José Faustino Sánchez Carrión</td><td>Universidad Nacional José Faustino Sánchez Carrión</td></tr><tr><td>63200f70e5ee99003f134c93</td><td>Universidad Nacional Federico Villarreal</td><td>Universidad Nacional Federico Villarreal</td></tr><tr><td>63200f70e5ee99003f1337b7</td><td>Instituto Daniel Alcides Carrion</td><td>Universidad Nacional Daniel Alcides Carrión</td></tr><tr><td>6320b286844cb4003f31fa11</td><td>Universidad Cesar Vallejo</td><td>Universidad César Vallejo S.A.C.</td></tr><tr><td>6320b286844cb4003f320077</td><td>Universidad Privada Del Norte - Unp</td><td>Universidad Privada del Norte S.A.C.</td></tr><tr><td>6320d87467f4670008692c79</td><td>Universidad Tecnológica Del Perú</td><td>Universidad Tecnológica del Perú S.A.C.</td></tr><tr><td>6320dec367f4670008692ffa</td><td>Universidad Cesar Vallejo</td><td>Universidad César Vallejo S.A.C.</td></tr><tr><td>63200f71e5ee99003f136271</td><td>Universidad Nacional Federico Villarreal</td><td>Universidad Nacional Federico Villarreal</td></tr><tr><td>6320e1e667f467000869318d</td><td>Universidad Privada San Juan Bautista</td><td>Universidad Privada San Juan Bautista S.A.C.</td></tr><tr><td>6320b286844cb4003f31f819</td><td>Universidad Privada Del Norte</td><td>Universidad Privada del Norte S.A.C.</td></tr><tr><td>6320b286844cb4003f31fe07</td><td>Mártir Daniel Alcides Carrión 0142</td><td>Universidad Nacional Daniel Alcides Carrión</td></tr><tr><td>6320b286844cb4003f31fd05</td><td>Universidad Católica Sedes Sapientiae - Ucss</td><td>Universidad Católica Sedes Sapientiae</td></tr><tr><td>63200f70e5ee99003f1342cd</td><td>Universidad Privada San Juan Bautista</td><td>Universidad Privada San Juan Bautista S.A.C.</td></tr><tr><td>63200f70e5ee99003f134ce7</td><td>Universidad Privada Del Norte</td><td>Universidad Privada del Norte S.A.C.</td></tr><tr><td>63200f70e5ee99003f133bef</td><td>Universidad Tecnológica Del Perú</td><td>Universidad Tecnológica del Perú S.A.C.</td></tr><tr><td>63200f70e5ee99003f133bef</td><td>Universidad De San Martin De Porres - Usmp</td><td>Universidad de San Martín de Porres</td></tr><tr><td>63200f70e5ee99003f1346b1</td><td>Universidad Privada Del Norte</td><td>Universidad Privada del Norte S.A.C.</td></tr><tr><td>6320b286844cb4003f32036b</td><td>Universidad Privada Del Norte - Upn</td><td>Universidad Privada del Norte S.A.C.</td></tr><tr><td>6320b286844cb4003f32036b</td><td>Universidad Privada Del Norte - Upn</td><td>Universidad Privada del Norte S.A.C.</td></tr><tr><td>63200f70e5ee99003f133871</td><td>Universidad Privada Del Norte</td><td>Universidad Privada del Norte S.A.C.</td></tr><tr><td>63212c338ddb2700086af6ca</td><td>Universidad Privada Del Norte</td><td>Universidad Privada del Norte S.A.C.</td></tr><tr><td>63200f70e5ee99003f1357c1</td><td>Universidad Tecnológica Del Perú</td><td>Universidad Tecnológica del Perú S.A.C.</td></tr><tr><td>63200f70e5ee99003f133fd3</td><td>Universidad Privada Del Norte</td><td>Universidad Privada del Norte S.A.C.</td></tr><tr><td>63200f70e5ee99003f133fd3</td><td>Universidad Privada Del Norte - Upn</td><td>Universidad Privada del Norte S.A.C.</td></tr><tr><td>6321fddaf737840008623a62</td><td>Universidad Católica Sedes Sapientiae</td><td>Universidad Católica Sedes Sapientiae</td></tr><tr><td>63222504e5ee99003f17022f</td><td>Universidad Nacional Mayor De San Marcos</td><td>Universidad Nacional Mayor de San Marcos</td></tr><tr><td>632225ca844cb4003f33dac2</td><td>Universidad Cesar Vallejo</td><td>Universidad César Vallejo S.A.C.</td></tr><tr><td>632225ca844cb4003f33e01a</td><td>Universidad Peruana De Ciencias Aplicadas</td><td>Universidad Peruana de Ciencias Aplicadas S.A.C.</td></tr><tr><td>632225ca844cb4003f33dd44</td><td>Universidad Nacional Agraria La Molina</td><td>Universidad Nacional Agraria La Molina</td></tr><tr><td>63222504e5ee99003f16fc65</td><td>Universidad Privada Del Norte</td><td>Universidad Privada del Norte S.A.C.</td></tr><tr><td>632225ca844cb4003f33d9e4</td><td>Universidad Privada Del Norte</td><td>Universidad Privada del Norte S.A.C.</td></tr><tr><td>632225ca844cb4003f33dbee</td><td>Universidad Privada Del Norte</td><td>Universidad Privada del Norte S.A.C.</td></tr><tr><td>632225ca844cb4003f33e290</td><td>Universidad Cesar Vallejo</td><td>Universidad César Vallejo S.A.C.</td></tr><tr><td>632225ca844cb4003f33dbd6</td><td>Universidad Privada Del Norte</td><td>Universidad Privada del Norte S.A.C.</td></tr><tr><td>63222828e5ee99003f172959</td><td>Universidad Privada Del Norte</td><td>Universidad Privada del Norte S.A.C.</td></tr><tr><td>63222828e5ee99003f17332b</td><td>Universidad San Martin De Porres</td><td>Universidad de San Martín de Porres</td></tr><tr><td>632225ca844cb4003f33dcb4</td><td>Utp</td><td>Universidad Tecnológica del Perú S.A.C.</td></tr><tr><td>63222828e5ee99003f172c3b</td><td>Uch</td><td>Asociación Civil Universidad de Ciencias y Humanidades</td></tr><tr><td>63222a52dd74a60009784b86</td><td>Universidad Peruana De Ciencias Aplicadas</td><td>Universidad Peruana de Ciencias Aplicadas S.A.C.</td></tr><tr><td>63222828e5ee99003f173a81</td><td>Universidad Cesar Vallejo</td><td>Universidad César Vallejo S.A.C.</td></tr><tr><td>63222828e5ee99003f172ce9</td><td>Univ Privada San Juan Bautista</td><td>Universidad Privada San Juan Bautista S.A.C.</td></tr><tr><td>632225ca844cb4003f33dd68</td><td>Universidad Privada Del Norte</td><td>Universidad Privada del Norte S.A.C.</td></tr><tr><td>632225ca844cb4003f33e650</td><td>Universidad Privada Del Norte</td><td>Universidad Privada del Norte S.A.C.</td></tr><tr><td>63222504e5ee99003f170235</td><td>Unmsm</td><td>Universidad Nacional Mayor de San Marcos</td></tr><tr><td>63222828e5ee99003f173955</td><td>I.e.p César Vallejo Mendoza</td><td>Universidad César Vallejo S.A.C.</td></tr><tr><td>63222504e5ee99003f16fd1f</td><td>Universidad Tecnológica Del Perú</td><td>Universidad Tecnológica del Perú S.A.C.</td></tr><tr><td>632231c23f580700080c4167</td><td>Universida Nacional Del Callao</td><td>Universidad Nacional del Callao</td></tr><tr><td>632225ca844cb4003f33e3c2</td><td>Universidad Privada Del Norte</td><td>Universidad Privada del Norte S.A.C.</td></tr><tr><td>63222828e5ee99003f1735e3</td><td>Universidad Privada Antenor Orrego - Upao</td><td>Universidad Privada Antenor Orrego</td></tr><tr><td>6321ff0de5ee99003f169e2c</td><td>Instituto Daniel Alcides Carrion</td><td>Universidad Nacional Daniel Alcides Carrión</td></tr><tr><td>63222504e5ee99003f1700c1</td><td>Universidad Cesar Vallejo</td><td>Universidad César Vallejo S.A.C.</td></tr><tr><td>6322355e107693000854451b</td><td>Universidad De Ciencias Aplicadas</td><td>Universidad Peruana de Ciencias Aplicadas S.A.C.</td></tr><tr><td>63222828e5ee99003f173205</td><td>Cesar Vallejo</td><td>Universidad César Vallejo S.A.C.</td></tr><tr><td>63222504e5ee99003f16fde5</td><td>Universidad Privada Del Norte</td><td>Universidad Privada del Norte S.A.C.</td></tr><tr><td>63222828e5ee99003f172f41</td><td>Universidad San Martín De Porres</td><td>Universidad de San Martín de Porres</td></tr><tr><td>632225ca844cb4003f33db5e</td><td>Instituto Ricardo Palma</td><td>Universidad Ricardo Palma</td></tr><tr><td>63222504e5ee99003f16fcd7</td><td>Universidad Peruana De Ciencias Aplicadas - Upc</td><td>Universidad Peruana de Ciencias Aplicadas S.A.C.</td></tr><tr><td>63222828e5ee99003f1738c5</td><td>Universidad Nacional Del Callao</td><td>Universidad Nacional del Callao</td></tr><tr><td>6312a4a8e5ee99003f086220</td><td>Universidad Cesar Vallejo</td><td>Universidad César Vallejo S.A.C.</td></tr><tr><td>632225ca844cb4003f33db40</td><td>Universidad De San Martin De Porres</td><td>Universidad de San Martín de Porres</td></tr><tr><td>632244c81076930008544ac1</td><td>Universidad De San Martín De Porres</td><td>Universidad de San Martín de Porres</td></tr><tr><td>63222828e5ee99003f172fe3</td><td>Universidad Privada Del Norte</td><td>Universidad Privada del Norte S.A.C.</td></tr><tr><td>63222828e5ee99003f1733df</td><td>Universidad Cesar Vallejo</td><td>Universidad César Vallejo S.A.C.</td></tr><tr><td>63222828e5ee99003f1733df</td><td>Universidad Nacional Del Callao</td><td>Universidad Nacional del Callao</td></tr><tr><td>632225ca844cb4003f33dfd8</td><td>Universidad Tecnologica Del Peru</td><td>Universidad Tecnológica del Perú S.A.C.</td></tr><tr><td>63222504e5ee99003f16fa6d</td><td>Universidad Católica Sedes Sapientiae</td><td>Universidad Católica Sedes Sapientiae</td></tr><tr><td>6321ff0de5ee99003f169e08</td><td>Universidad Católica Sedes Sapientiae</td><td>Universidad Católica Sedes Sapientiae</td></tr><tr><td>6322585554294b0009268749</td><td>Utp</td><td>Universidad Tecnológica del Perú S.A.C.</td></tr><tr><td>632225ca844cb4003f33e59c</td><td>Universidad Privada Del Norte</td><td>Universidad Privada del Norte S.A.C.</td></tr><tr><td>63222505e5ee99003f170631</td><td>Jose Maria Arguedas</td><td>Universidad Nacional José María Arguedas</td></tr><tr><td>632225ca844cb4003f33e584</td><td>Universidad Privada Del Norte</td><td>Universidad Privada del Norte S.A.C.</td></tr><tr><td>632225ca844cb4003f33e1e8</td><td>Maria Auxiliadora</td><td>Universidad María Auxiliadora S.A.C.</td></tr><tr><td>63222828e5ee99003f1729e9</td><td>Upn</td><td>Universidad Privada del Norte S.A.C.</td></tr><tr><td>63222828e5ee99003f172a4f</td><td>Cesar Vallejo</td><td>Universidad César Vallejo S.A.C.</td></tr><tr><td>63222828e5ee99003f172a4f</td><td>Ricardo Palma 5099</td><td>Universidad Ricardo Palma</td></tr><tr><td>63200f70e5ee99003f135281</td><td>Utp</td><td>Universidad Tecnológica del Perú S.A.C.</td></tr><tr><td>632225ca844cb4003f33e5e4</td><td>Universidad De Lima</td><td>Universidad de Lima</td></tr><tr><td>632225ca844cb4003f33e5e4</td><td>Universidad San Ignacio De Loyola</td><td>Universidad San Ignacio de Loyola S.R.L.</td></tr><tr><td>63222505e5ee99003f1706f1</td><td>Universidad Tecnológica Del Perú</td><td>Universidad Tecnológica del Perú S.A.C.</td></tr><tr><td>63222504e5ee99003f170199</td><td>110 San Marcos</td><td>Universidad Nacional Mayor de San Marcos</td></tr><tr><td>6322ba1f1076930008547140</td><td>Universidad Peruana De Ciencias Aplicadas</td><td>Universidad Peruana de Ciencias Aplicadas S.A.C.</td></tr><tr><td>63222504e5ee99003f16f359</td><td>Universidad Particular San Martin De Porres</td><td>Universidad de San Martín de Porres</td></tr><tr><td>6322cf49dd74a60009787fe0</td><td>Universidad San Ignacio De Loyola(cpel)</td><td>Universidad San Ignacio de Loyola S.R.L.</td></tr><tr><td>6322d01854294b000926a693</td><td>Universidad Cesar Vallejo</td><td>Universidad César Vallejo S.A.C.</td></tr><tr><td>632225ca844cb4003f33e6f2</td><td>Universidad Nacional Mayor De San Marcos</td><td>Universidad Nacional Mayor de San Marcos</td></tr><tr><td>63222504e5ee99003f16f2ff</td><td>Universidad Tecnológica Del Perú</td><td>Universidad Tecnológica del Perú S.A.C.</td></tr><tr><td>63222504e5ee99003f16f2ff</td><td>San José La Salle</td><td>Universidad La Salle</td></tr><tr><td>632225ca844cb4003f33eb4e</td><td>Universidad Tecnológica Del Perú</td><td>Universidad Tecnológica del Perú S.A.C.</td></tr><tr><td>632225ca844cb4003f33e500</td><td>Universidad Privada Del Norte</td><td>Universidad Privada del Norte S.A.C.</td></tr><tr><td>63222504e5ee99003f16f959</td><td>Universidad Privada Del Norte</td><td>Universidad Privada del Norte S.A.C.</td></tr><tr><td>63222504e5ee99003f16f5f3</td><td>Universidad Privada Del Norte</td><td>Universidad Privada del Norte S.A.C.</td></tr><tr><td>632347a38fcf7b0009661bdd</td><td>Universidad Tecnológica Del Perú - Utp</td><td>Universidad Tecnológica del Perú S.A.C.</td></tr><tr><td>6312a4a8e5ee99003f08677e</td><td>Universidad Cesar Vallejo</td><td>Universidad César Vallejo S.A.C.</td></tr><tr><td>63128e34844cb4003f22ca18</td><td>Universidad Cesar Vallejo</td><td>Universidad César Vallejo S.A.C.</td></tr><tr><td>632225ca844cb4003f33da80</td><td>Ucv</td><td>Universidad César Vallejo S.A.C.</td></tr><tr><td>632225ca844cb4003f33e566</td><td>Universidad Tecnológica Del Perú</td><td>Universidad Tecnológica del Perú S.A.C.</td></tr><tr><td>632225ca844cb4003f33ddda</td><td>Ricardo Palma</td><td>Universidad Ricardo Palma</td></tr><tr><td>63222504e5ee99003f170367</td><td>Upsjb</td><td>Universidad Privada San Juan Bautista S.A.C.</td></tr><tr><td>632225ca844cb4003f33e194</td><td>Universidad Nacional Del Callao</td><td>Universidad Nacional del Callao</td></tr><tr><td>63200f70e5ee99003f13554b</td><td>Universidad Cesar Vallejo - Ucv</td><td>Universidad César Vallejo S.A.C.</td></tr><tr><td>632225ca844cb4003f33eab8</td><td>Universidad Privada Del Norte</td><td>Universidad Privada del Norte S.A.C.</td></tr><tr><td>63222828e5ee99003f172a79</td><td>Universidad Cesar Vallejo</td><td>Universidad César Vallejo S.A.C.</td></tr><tr><td>6312a4a8e5ee99003f085776</td><td>Universidad Cesar Vallejo</td><td>Universidad César Vallejo S.A.C.</td></tr><tr><td>6323d168107693000855032e</td><td>Universidad Privada Señor De Sipan</td><td>Universidad Señor de Sipán S.A.C.</td></tr><tr><td>6323fa0b07cea60008252c2f</td><td>Instituto San Ignacio De Loyola - Isil</td><td>Universidad San Ignacio de Loyola S.R.L.</td></tr><tr><td>632225ca844cb4003f33e680</td><td>Universidad De Lima</td><td>Universidad de Lima</td></tr><tr><td>63222505e5ee99003f170433</td><td>Universidad Cesar Vallejo.</td><td>Universidad César Vallejo S.A.C.</td></tr><tr><td>63222504e5ee99003f16f557</td><td>Upc</td><td>Universidad Peruana de Ciencias Aplicadas S.A.C.</td></tr><tr><td>63128e34844cb4003f22c610</td><td>Universidad Tecnológica Del Perú - Utp</td><td>Universidad Tecnológica del Perú S.A.C.</td></tr><tr><td>6324a0b5a82561004072ada4</td><td>Instituto Superior Tecnológico Continental</td><td>Universidad Continental S.A.C.</td></tr><tr><td>632225ca844cb4003f33db64</td><td>Jose Maria Arguedas 2027</td><td>Universidad Nacional José María Arguedas</td></tr><tr><td>63222828e5ee99003f173997</td><td>Cesar Vallejo</td><td>Universidad César Vallejo S.A.C.</td></tr><tr><td>63250d5a36d47f00088aca56</td><td>Universidad Privada Cesar Vallejo</td><td>Universidad César Vallejo S.A.C.</td></tr><tr><td>632518d236d47f00088acccc</td><td>Universidad Privada Del Norte</td><td>Universidad Privada del Norte S.A.C.</td></tr><tr><td>6320b286844cb4003f31fec1</td><td>Universidad Privada Del Norte - Upn</td><td>Universidad Privada del Norte S.A.C.</td></tr><tr><td>63252a8a4df37200081bc09d</td><td>Escuela De Postgrado - Universidad Católica Sedes Sapientiae</td><td>Universidad Católica Sedes Sapientiae</td></tr><tr><td>63252a8a4df37200081bc09d</td><td>Universidad Católica Sedes Sapientiae - Ucss</td><td>Universidad Católica Sedes Sapientiae</td></tr><tr><td>63200f70e5ee99003f134b49</td><td>Universidad Privada Del Norte</td><td>Universidad Privada del Norte S.A.C.</td></tr><tr><td>632543db2ff5e80008d7bdee</td><td>Universidad Privada Del Norte</td><td>Universidad Privada del Norte S.A.C.</td></tr><tr><td>6325d6b107cea600082570a6</td><td>Universidad Peruana De Ciencias Aplicadas - Upc</td><td>Universidad Peruana de Ciencias Aplicadas S.A.C.</td></tr><tr><td>6325f6b7ded60b0009efbada</td><td>Universidad César Vallejo</td><td>Universidad César Vallejo S.A.C.</td></tr><tr><td>63277e8aded60b0009efdd6b</td><td>Universidad Nacional Federico Villarreal</td><td>Universidad Nacional Federico Villarreal</td></tr><tr><td>63278004cc8427000916ed3f</td><td>Universidad Privada Del Norte</td><td>Universidad Privada del Norte S.A.C.</td></tr><tr><td>6327a2cfcc8427000916f0d7</td><td>Universidad Peruana De Ciencias Aplicadas</td><td>Universidad Peruana de Ciencias Aplicadas S.A.C.</td></tr><tr><td>63222504e5ee99003f170361</td><td>Universidad Cesar Vallejo</td><td>Universidad César Vallejo S.A.C.</td></tr><tr><td>6327fb3eded60b0009efee59</td><td>Universidad Privada Del Norte</td><td>Universidad Privada del Norte S.A.C.</td></tr><tr><td>6328cc9cded60b0009f00db3</td><td>Universidad Tecnológica Del Perú - Utp</td><td>Universidad Tecnológica del Perú S.A.C.</td></tr><tr><td>6329122f36d47f00088b8a5e</td><td>Universidad Privada San Juan Bautista</td><td>Universidad Privada San Juan Bautista S.A.C.</td></tr><tr><td>63128e33844cb4003f22b8c6</td><td>Universidad Católica Sedes Sapientiae - Ucss</td><td>Universidad Católica Sedes Sapientiae</td></tr><tr><td>63128e33844cb4003f22b8c6</td><td>Universidad Privada San Juan Bautista - Upsjb</td><td>Universidad Privada San Juan Bautista S.A.C.</td></tr><tr><td>632920464df37200081c5522</td><td>Universidad Privada Del Norte - Upn</td><td>Universidad Privada del Norte S.A.C.</td></tr><tr><td>63293141cc842700091751b9</td><td>Instituto San Ignacio De Loyola</td><td>Universidad San Ignacio de Loyola S.R.L.</td></tr><tr><td>63200f70e5ee99003f1342e5</td><td>Universidad Tecnológica Del Perú-utp</td><td>Universidad Tecnológica del Perú S.A.C.</td></tr><tr><td>632a3846ded60b0009f08c0d</td><td>Universidad Peruana De Ciencias Aplicadas-upc</td><td>Universidad Peruana de Ciencias Aplicadas S.A.C.</td></tr><tr><td>632a3f2d4df37200081ca417</td><td>Universidad Privada Del Norte</td><td>Universidad Privada del Norte S.A.C.</td></tr><tr><td>632a41a7d1b76a0040939d1b</td><td>Universidad César Vallejo</td><td>Universidad César Vallejo S.A.C.</td></tr><tr><td>632a41a7d1b76a0040939d27</td><td>Universidad Cesar Vallejo</td><td>Universidad César Vallejo S.A.C.</td></tr><tr><td>632a41a7d1b76a0040939d21</td><td>Universidad César Vallejo</td><td>Universidad César Vallejo S.A.C.</td></tr><tr><td>632a73704df37200081cbf9b</td><td>Universidad Privada Del Norte</td><td>Universidad Privada del Norte S.A.C.</td></tr><tr><td>632b0fd336d47f00088c1cb1</td><td>Usil</td><td>Universidad San Ignacio de Loyola S.R.L.</td></tr><tr><td>632b47142ff5e80008d8de24</td><td>Universidad Privada Del Norte</td><td>Universidad Privada del Norte S.A.C.</td></tr><tr><td>632b4aa107cea6000826ddf3</td><td>Instituto San Ignacio De Loyola - Isil</td><td>Universidad San Ignacio de Loyola S.R.L.</td></tr><tr><td>632b6b98ded60b0009f0f1fa</td><td>Universidad Privada Del Norte - Upn</td><td>Universidad Privada del Norte S.A.C.</td></tr><tr><td>632bc49307cea60008271bd4</td><td>Universidad Tecnologica Del Peru U.t.p</td><td>Universidad Tecnológica del Perú S.A.C.</td></tr><tr><td>632bec132ff5e80008d9350d</td><td>Universidad Privada Del Norte</td><td>Universidad Privada del Norte S.A.C.</td></tr><tr><td>632bee1d2ff5e80008d936f7</td><td>Daniel Alcides Carrion</td><td>Universidad Nacional Daniel Alcides Carrión</td></tr><tr><td>632befc14df37200081d5ba2</td><td>Universidad Peruana De Ciencias Aplicadas</td><td>Universidad Peruana de Ciencias Aplicadas S.A.C.</td></tr><tr><td>632bf1ddded60b0009f12ecb</td><td>Universidad César Vallejo</td><td>Universidad César Vallejo S.A.C.</td></tr><tr><td>632bf24536d47f00088c8691</td><td>Universidad Privada Del Norte</td><td>Universidad Privada del Norte S.A.C.</td></tr><tr><td>632bf2a9cc8427000918b22b</td><td>Universidad Cesar Vallejo</td><td>Universidad César Vallejo S.A.C.</td></tr><tr><td>632bfd11ded60b0009f13283</td><td>Universidad Privada Cesar Vallejo</td><td>Universidad César Vallejo S.A.C.</td></tr><tr><td>632c5ca507cea60008273c75</td><td>Universidad Privada Del Norte</td><td>Universidad Privada del Norte S.A.C.</td></tr><tr><td>632c652fded60b0009f14059</td><td>Untels</td><td>Universidad Nacional Tecnológica de Lima Sur</td></tr><tr><td>632c90f607cea600082756ae</td><td>Instituto Federico Villarreal</td><td>Universidad Nacional Federico Villarreal</td></tr><tr><td>632cbe4636d47f00088ccbde</td><td>Universidad Ricardo Palma</td><td>Universidad Ricardo Palma</td></tr><tr><td>63200f70e5ee99003f133b0b</td><td>Universidad Tecnológica Del Perú</td><td>Universidad Tecnológica del Perú S.A.C.</td></tr><tr><td>632ceacc07cea60008278b20</td><td>Universidad Nacional Del Callao</td><td>Universidad Nacional del Callao</td></tr><tr><td>632d0edb1fb7e50008d3a935</td><td>Universidad Continental</td><td>Universidad Continental S.A.C.</td></tr><tr><td>632d0edb1fb7e50008d3a935</td><td>Universidad Esan</td><td>Universidad ESAN</td></tr><tr><td>632d1767e0486e0008265dcf</td><td>Universidad Nacional Federico Villarreal</td><td>Universidad Nacional Federico Villarreal</td></tr><tr><td>63222828e5ee99003f172ecf</td><td>Universidad Tecnológica Del Perú</td><td>Universidad Tecnológica del Perú S.A.C.</td></tr><tr><td>632d5b5a11da310008e3bc31</td><td>Instituto San Ignacio De Loyola</td><td>Universidad San Ignacio de Loyola S.R.L.</td></tr><tr><td>6320b286844cb4003f31fa1d</td><td>Universidad Privada Del Norte</td><td>Universidad Privada del Norte S.A.C.</td></tr><tr><td>63288757d1b76a0040915ebe</td><td>Universidad Tecnológica Del Perú - Utp</td><td>Universidad Tecnológica del Perú S.A.C.</td></tr><tr><td>632e95912201690008fb0774</td><td>Autónoma Del Perú</td><td>Universidad Autónoma del Perú S.A.C.</td></tr><tr><td>632f832ae0486e0008275a4e</td><td>Universidad Autonoma Del Peru</td><td>Universidad Autónoma del Perú S.A.C.</td></tr><tr><td>6330a91b662c7d000996b116</td><td>Universidad Nacional Mayor De San Marcos - Unmsm</td><td>Universidad Nacional Mayor de San Marcos</td></tr><tr><td>6330da9f662c7d000996b4e9</td><td>U. Ricardo Palma</td><td>Universidad Ricardo Palma</td></tr><tr><td>63222828e5ee99003f172cf5</td><td>Universidad Cesar Vallejo</td><td>Universidad César Vallejo S.A.C.</td></tr><tr><td>6331d96e2da20600098062ec</td><td>Universidad Autónoma Del Perú</td><td>Universidad Autónoma del Perú S.A.C.</td></tr><tr><td>63322ad01fb7e50008d51130</td><td>Universidad San Ignacio De Loyola</td><td>Universidad San Ignacio de Loyola S.R.L.</td></tr><tr><td>63329bae11da310008e4d8aa</td><td>Universidad Cesar Vallejo - Ucv</td><td>Universidad César Vallejo S.A.C.</td></tr><tr><td>6333036a2201690008fbd032</td><td>Mártir Daniel Alcides Carrión</td><td>Universidad Nacional Daniel Alcides Carrión</td></tr><tr><td>633314be35b6d50040dc44f0</td><td>Universidad Cesar Vallejo</td><td>Universidad César Vallejo S.A.C.</td></tr><tr><td>63335b5c1fb7e50008d562a3</td><td>Universidad César Vallejo</td><td>Universidad César Vallejo S.A.C.</td></tr><tr><td>63128e34844cb4003f22bc20</td><td>Universidad Privada Del Norte</td><td>Universidad Privada del Norte S.A.C.</td></tr><tr><td>633388a035b6d50040dcd41e</td><td>Usil</td><td>Universidad San Ignacio de Loyola S.R.L.</td></tr><tr><td>633314be35b6d50040dc44de</td><td>Universidad Privada Del Norte</td><td>Universidad Privada del Norte S.A.C.</td></tr><tr><td>6333d47811da310008e538f9</td><td>Upn</td><td>Universidad Privada del Norte S.A.C.</td></tr><tr><td>6333fe3a5ed3120009ab9bde</td><td>Universidad Privada Del Norte</td><td>Universidad Privada del Norte S.A.C.</td></tr><tr><td>6334a5c50b33a90008e8567b</td><td>Universidad Privada Del Norte</td><td>Universidad Privada del Norte S.A.C.</td></tr><tr><td>6334b0200dd666000838c010</td><td>Universidad De San Martin De Porres</td><td>Universidad de San Martín de Porres</td></tr><tr><td>63200f70e5ee99003f1356ef</td><td>Universidad Peruana De Ciencias Aplicadas</td><td>Universidad Peruana de Ciencias Aplicadas S.A.C.</td></tr><tr><td>63352504eb7e8b000954892d</td><td>Universidad Tecnológica Del Perú - Utp</td><td>Universidad Tecnológica del Perú S.A.C.</td></tr><tr><td>6335acfd35b6d50040df797b</td><td>Utp</td><td>Universidad Tecnológica del Perú S.A.C.</td></tr><tr><td>6335ca1beb7e8b0009549dd8</td><td>Universidad Científica Del Sur</td><td>Universidad Científica del Sur S.A.C.</td></tr><tr><td>6336198a5ed3120009aefc4b</td><td>Universidad Privada Del Norte</td><td>Universidad Privada del Norte S.A.C.</td></tr><tr><td>63372ea1ea7d3a0008c77ce2</td><td>Universidad Cesar Vallejo</td><td>Universidad César Vallejo S.A.C.</td></tr><tr><td>6338b235e86b9a0008a24f36</td><td>Universidad De San Martín De Porres</td><td>Universidad de San Martín de Porres</td></tr><tr><td>633a048902dfe10008393613</td><td>Universidad San Ignacio De Loyola</td><td>Universidad San Ignacio de Loyola S.R.L.</td></tr><tr><td>633a50ffe86b9a0008a27066</td><td>Universidad Peruana De Ciencias Aplicadas</td><td>Universidad Peruana de Ciencias Aplicadas S.A.C.</td></tr><tr><td>633b42bca09afe0008f4fb5b</td><td>Universidad Privada Del Norte</td><td>Universidad Privada del Norte S.A.C.</td></tr><tr><td>633b479102dfe10008397670</td><td>Universidad Peruana Los Andes - Upla</td><td>Universidad Peruana Los Andes</td></tr><tr><td>633cff9bf844e600094927a2</td><td>Universidad Científica Del Sur</td><td>Universidad Científica del Sur S.A.C.</td></tr><tr><td>633dd0ddb26dc80009bc2061</td><td>Universidad Señor De Sipan</td><td>Universidad Señor de Sipán S.A.C.</td></tr><tr><td>633dee6b0ea4bd0008917326</td><td>Universidad Tecnológica Del Perú</td><td>Universidad Tecnológica del Perú S.A.C.</td></tr><tr><td>633deedfe282c90008a3dbd8</td><td>Universidad Privada Del Norte</td><td>Universidad Privada del Norte S.A.C.</td></tr><tr><td>633df3cb816cc80008575a01</td><td>Universidad Cesar Vallejo</td><td>Universidad César Vallejo S.A.C.</td></tr><tr><td>633f3b127e47370040358125</td><td>Universidad Cesar Vallejo - Ucv</td><td>Universidad César Vallejo S.A.C.</td></tr><tr><td>633f51fb80b9d30009c9dcc4</td><td>Universidad César Vallejo</td><td>Universidad César Vallejo S.A.C.</td></tr><tr><td>63128e33844cb4003f22b764</td><td>Universidad San Ignacio De Loyola</td><td>Universidad San Ignacio de Loyola S.R.L.</td></tr><tr><td>63222504e5ee99003f16f8c9</td><td>Universidad San Ignacio De Loyola</td><td>Universidad San Ignacio de Loyola S.R.L.</td></tr><tr><td>634066cced0d7a000766658f</td><td>Universidad Privada Del Norte</td><td>Universidad Privada del Norte S.A.C.</td></tr><tr><td>6340399835b6d50040ee29c6</td><td>Universidad César Vallejo</td><td>Universidad César Vallejo S.A.C.</td></tr><tr><td>6340a60a2d149d0009b4f736</td><td>Universidad De San Martin De Porres - Usmp</td><td>Universidad de San Martín de Porres</td></tr><tr><td>6340e49d6f9d1d0009ae03a0</td><td>Universidad Nacional Daniel Alcides Carrión - Undac</td><td>Universidad Nacional Daniel Alcides Carrión</td></tr><tr><td>6340ea4be65ec50008d33751</td><td>Universidad Cesar Vallejo</td><td>Universidad César Vallejo S.A.C.</td></tr><tr><td>63416bf80448640008e05fca</td><td>Universidad Peruana De Ciencias Aplicadas</td><td>Universidad Peruana de Ciencias Aplicadas S.A.C.</td></tr><tr><td>634238296f9d1d0009ae2ba9</td><td>Universidad Peruana De Ciencias Aplicadas</td><td>Universidad Peruana de Ciencias Aplicadas S.A.C.</td></tr><tr><td>634246c26f9d1d0009ae2c3b</td><td>Upn</td><td>Universidad Privada del Norte S.A.C.</td></tr><tr><td>6345a9831c4e12000ad5af6b</td><td>San Ignacio De Loyola</td><td>Universidad San Ignacio de Loyola S.R.L.</td></tr><tr><td>6345b8430122c700096cc203</td><td>Unsaac</td><td>Universidad Nacional de San Antonio Abad del Cusco</td></tr><tr><td>63457e827e47370040391d04</td><td>Universidad Cesar Vallejo - Ucv</td><td>Universidad César Vallejo S.A.C.</td></tr><tr><td>63457e827e47370040391d16</td><td>Universidad Privada Del Norte - Unp</td><td>Universidad Privada del Norte S.A.C.</td></tr><tr><td>63457e827e47370040391cbc</td><td>Universidad Tecnológica Del Perú - Utp</td><td>Universidad Tecnológica del Perú S.A.C.</td></tr><tr><td>6346424a27ee550009de43e2</td><td>Utp</td><td>Universidad Tecnológica del Perú S.A.C.</td></tr><tr><td>634715d1c999a6000884ec21</td><td>Universidad Peruana De Ciencias Aplicadas - Upc</td><td>Universidad Peruana de Ciencias Aplicadas S.A.C.</td></tr><tr><td>63471daac999a6000884f2b0</td><td>Universidad Continental</td><td>Universidad Continental S.A.C.</td></tr><tr><td>6347628feb924b0008ed718a</td><td>Universidad Peruana Los Andes</td><td>Universidad Peruana Los Andes</td></tr><tr><td>634829d9eb924b0008ed8b4e</td><td>Universidad Privada Del Norte - Upn</td><td>Universidad Privada del Norte S.A.C.</td></tr><tr><td>6348587a1ef0cb00090a4b18</td><td>Universidad César Vallejo</td><td>Universidad César Vallejo S.A.C.</td></tr><tr><td>6348c2911ef0cb00090a8a4b</td><td>Universidad Tecnológica Del Perú</td><td>Universidad Tecnológica del Perú S.A.C.</td></tr><tr><td>634955a4bf94c20009cde2d6</td><td>Universidad De San Martín De Porres</td><td>Universidad de San Martín de Porres</td></tr><tr><td>634a4c071528ff0009cef509</td><td>Universidad Tecnológica Del Perú</td><td>Universidad Tecnológica del Perú S.A.C.</td></tr><tr><td>634afdb4901e650008bdd921</td><td>Universidad De San Martín De Porres</td><td>Universidad de San Martín de Porres</td></tr><tr><td>634b7b93bf94c20009ce6b21</td><td>Universidad Peruana De Ciencias Aplicadas</td><td>Universidad Peruana de Ciencias Aplicadas S.A.C.</td></tr><tr><td>634ccb371528ff0009cf3ac4</td><td>Universidad Privada Del Norte</td><td>Universidad Privada del Norte S.A.C.</td></tr><tr><td>633f3b127e47370040358137</td><td>Universidad Cesar Vallejo - Ucv</td><td>Universidad César Vallejo S.A.C.</td></tr><tr><td>634da2192ee72a00086226bb</td><td>Utp</td><td>Universidad Tecnológica del Perú S.A.C.</td></tr><tr><td>634dd708bf94c20009ced4c2</td><td>Universidad Tecnológica Del Perú</td><td>Universidad Tecnológica del Perú S.A.C.</td></tr><tr><td>634e96b6901e650008be7ebe</td><td>Universidad San Ignacio De Loyola</td><td>Universidad San Ignacio de Loyola S.R.L.</td></tr><tr><td>634ea0071528ff0009d03131</td><td>Universidad Cesar Vallejo</td><td>Universidad César Vallejo S.A.C.</td></tr><tr><td>634ecad196916500096f59e3</td><td>Universidad San Martin De Porres</td><td>Universidad de San Martín de Porres</td></tr><tr><td>634f0ee396916500096f7a29</td><td>Universidad Autónoma Del Perú</td><td>Universidad Autónoma del Perú S.A.C.</td></tr><tr><td>634f5f73bf94c20009cf469f</td><td>Universidad Privada Cesar Vallejo</td><td>Universidad César Vallejo S.A.C.</td></tr><tr><td>6312a4a8e5ee99003f0863ac</td><td>Universidad Cesar Vallejo - Ucv</td><td>Universidad César Vallejo S.A.C.</td></tr><tr><td>6312a4a8e5ee99003f0863ac</td><td>Universidad Cesar Vallejo - Ucv</td><td>Universidad César Vallejo S.A.C.</td></tr></tbody></table></div>"
      ]
     },
     "metadata": {
      "application/vnd.databricks.v1+output": {
       "addedWidgets": {},
       "aggData": [],
       "aggError": "",
       "aggOverflow": false,
       "aggSchema": [],
       "aggSeriesLimitReached": false,
       "aggType": "",
       "arguments": {},
       "columnCustomDisplayInfos": {},
       "data": [
        [
         "630633fa1e599d0009d6dee0",
         "Ucv",
         "Universidad César Vallejo S.A.C."
        ],
        [
         "63063bda29da5b00089fb224",
         "Universidad Peruana De Ciencias Aplicadas - Upc",
         "Universidad Peruana de Ciencias Aplicadas S.A.C."
        ],
        [
         "630665b8594e18004af047fc",
         "I. E 00 María Auxiliadora, Cercado De Lima",
         "Universidad María Auxiliadora S.A.C."
        ],
        [
         "630665b8594e18004af04816",
         "Universidad Privada Del Norte - Upn",
         "Universidad Privada del Norte S.A.C."
        ],
        [
         "630665b8594e18004af04825",
         "Universidad Nacional Agraria La Molina",
         "Universidad Nacional Agraria La Molina"
        ],
        [
         "630665b8594e18004af04835",
         "Universidad Privada San Juan Bautista",
         "Universidad Privada San Juan Bautista S.A.C."
        ],
        [
         "630665b8594e18004af04842",
         "Universidad Peruana De Ciencias Aplicadas (upc)",
         "Universidad Peruana de Ciencias Aplicadas S.A.C."
        ],
        [
         "630665b8594e18004af0485d",
         "Universidad De Ciencias Aplicadas",
         "Universidad Peruana de Ciencias Aplicadas S.A.C."
        ],
        [
         "630665b8594e18004af04864",
         "Universidad Peruana De Ciencias Aplicadas - Upc",
         "Universidad Peruana de Ciencias Aplicadas S.A.C."
        ],
        [
         "630665b8594e18004af0489e",
         "Universidad Cesar Vallejo",
         "Universidad César Vallejo S.A.C."
        ],
        [
         "630665b8594e18004af048ca",
         "Universidad Tecnológica Del Perú",
         "Universidad Tecnológica del Perú S.A.C."
        ],
        [
         "630665b8594e18004af048d7",
         "Universidad Nacional Mayor De San Marcos",
         "Universidad Nacional Mayor de San Marcos"
        ],
        [
         "630665b8594e18004af048e7",
         "Upn",
         "Universidad Privada del Norte S.A.C."
        ],
        [
         "630665b8594e18004af048fe",
         "Universidad Privada San Juan Bautista",
         "Universidad Privada San Juan Bautista S.A.C."
        ],
        [
         "630665b8594e18004af04907",
         "Universidad Tecnológica Del Perú",
         "Universidad Tecnológica del Perú S.A.C."
        ],
        [
         "630665b8594e18004af0490e",
         "Instituto San Ignacio De Loyola",
         "Universidad San Ignacio de Loyola S.R.L."
        ],
        [
         "630665b8594e18004af0493a",
         "Universidad Peruana De Ciencias Aplicada",
         "Universidad Peruana de Ciencias Aplicadas S.A.C."
        ],
        [
         "630665b8594e18004af04947",
         "Universidad Privada Del Norte",
         "Universidad Privada del Norte S.A.C."
        ],
        [
         "630665b8594e18004af0495a",
         "San Ignacio De Loyola",
         "Universidad San Ignacio de Loyola S.R.L."
        ],
        [
         "630665b8594e18004af0498a",
         "Universidad Nacional De Piura",
         "Universidad Nacional de Piura"
        ],
        [
         "630665b8594e18004af049b7",
         "Universidad César Vallejo",
         "Universidad César Vallejo S.A.C."
        ],
        [
         "630665b8594e18004af049bf",
         "Universidad Nacional De Jaén",
         "Universidad Nacional de Jaén"
        ],
        [
         "630665b8594e18004af049c7",
         "Universidad Tecnológica Del Perú",
         "Universidad Tecnológica del Perú S.A.C."
        ],
        [
         "630665b8594e18004af049ed",
         "Universidad Nacional Mayor De San Marcos",
         "Universidad Nacional Mayor de San Marcos"
        ],
        [
         "630665b8594e18004af049fa",
         "Universidad Privada Del Norte",
         "Universidad Privada del Norte S.A.C."
        ],
        [
         "630665b8594e18004af04a18",
         "Universidad Privada Del Norte",
         "Universidad Privada del Norte S.A.C."
        ],
        [
         "630665b8594e18004af04a3a",
         "Universidad Cesar Vallejo",
         "Universidad César Vallejo S.A.C."
        ],
        [
         "630665b8594e18004af04a5a",
         "Universidad Tecnológica Del Perú",
         "Universidad Tecnológica del Perú S.A.C."
        ],
        [
         "630665b8594e18004af04a68",
         "Universidad San Ignacio De Loyola",
         "Universidad San Ignacio de Loyola S.R.L."
        ],
        [
         "630665b8594e18004af04a89",
         "Universidad Privada Del Norte",
         "Universidad Privada del Norte S.A.C."
        ],
        [
         "630665b8594e18004af04aa0",
         "Universidad César Vallejo",
         "Universidad César Vallejo S.A.C."
        ],
        [
         "630665b8594e18004af04aa7",
         "Universidad Privada Antenor Orrego",
         "Universidad Privada Antenor Orrego"
        ],
        [
         "630665b8594e18004af04aaf",
         "Universidad Ricardo Palma",
         "Universidad Ricardo Palma"
        ],
        [
         "630665b8594e18004af04ab6",
         "Universidad Tecnológica Del Perú",
         "Universidad Tecnológica del Perú S.A.C."
        ],
        [
         "630665b8594e18004af04ac5",
         "Universidad Nacional Daniel Alcides Carrión",
         "Universidad Nacional Daniel Alcides Carrión"
        ],
        [
         "630665b8594e18004af04acf",
         "Universidad Cesar Vallejo",
         "Universidad César Vallejo S.A.C."
        ],
        [
         "630665b8594e18004af04af5",
         "Universidad Católica Sedes Sapientiae",
         "Universidad Católica Sedes Sapientiae"
        ],
        [
         "630665b8594e18004af04afd",
         "Universidad Privada Del Norte",
         "Universidad Privada del Norte S.A.C."
        ],
        [
         "630665b8594e18004af04b05",
         "Universidad Autónoma Del Perú",
         "Universidad Autónoma del Perú S.A.C."
        ],
        [
         "630665b8594e18004af04b1e",
         "Pontificia Universidad Católica Del Perú",
         "Pontificia Universidad Católica del Perú"
        ],
        [
         "630665b8594e18004af04b26",
         "Universidad Privada Del Norte",
         "Universidad Privada del Norte S.A.C."
        ],
        [
         "630665b8594e18004af04b5c",
         "Universidad César Vallejo",
         "Universidad César Vallejo S.A.C."
        ],
        [
         "630665b8594e18004af04b71",
         "Universidad César Vallejo​",
         "Universidad César Vallejo S.A.C."
        ],
        [
         "630665b8594e18004af04b7e",
         "Universidad Cesar Vallejo",
         "Universidad César Vallejo S.A.C."
        ],
        [
         "630665b8594e18004af04b90",
         "Universidad Peruana Los Andes",
         "Universidad Peruana Los Andes"
        ],
        [
         "630665b8594e18004af04ba2",
         "Universidad Privada Del Norte",
         "Universidad Privada del Norte S.A.C."
        ],
        [
         "630665b8594e18004af04bbb",
         "Usil",
         "Universidad San Ignacio de Loyola S.R.L."
        ],
        [
         "630665b8594e18004af04bda",
         "Universidad Peruana De Ciencias Aplicadas",
         "Universidad Peruana de Ciencias Aplicadas S.A.C."
        ],
        [
         "630665b8594e18004af04bfa",
         "Upn",
         "Universidad Privada del Norte S.A.C."
        ],
        [
         "630665b8594e18004af04c08",
         "Universidad Tecnológica Del Perú",
         "Universidad Tecnológica del Perú S.A.C."
        ],
        [
         "630665b8594e18004af04c10",
         "Universidad Tecnologica Del Peru",
         "Universidad Tecnológica del Perú S.A.C."
        ],
        [
         "630665b8594e18004af04c28",
         "Universidad César Vallejo",
         "Universidad César Vallejo S.A.C."
        ],
        [
         "630665b8594e18004af04c3d",
         "Universidad Privada Del Norte",
         "Universidad Privada del Norte S.A.C."
        ],
        [
         "630665b8594e18004af04c55",
         "Universidad Tecnológica Del Perú",
         "Universidad Tecnológica del Perú S.A.C."
        ],
        [
         "630665b8594e18004af04c65",
         "Universidad Cesar Vallejo - Ucv",
         "Universidad César Vallejo S.A.C."
        ],
        [
         "630665b8594e18004af04c77",
         "Universidad Privada Del Norte",
         "Universidad Privada del Norte S.A.C."
        ],
        [
         "630665b8594e18004af04c86",
         "Universidad Nacional Del Callao - Unac",
         "Universidad Nacional del Callao"
        ],
        [
         "630665b8594e18004af04c8f",
         "Pucp",
         "Pontificia Universidad Católica del Perú"
        ],
        [
         "630665b8594e18004af04ca5",
         "Universidad Autónoma Del Perú",
         "Universidad Autónoma del Perú S.A.C."
        ],
        [
         "630665b8594e18004af04ce2",
         "César Vallejo - Lima",
         "Universidad César Vallejo S.A.C."
        ],
        [
         "630665b8594e18004af04cef",
         "Universidad Científica Del Sur",
         "Universidad Científica del Sur S.A.C."
        ],
        [
         "630665b8594e18004af04cfb",
         "Universidad Cesar Vallejo",
         "Universidad César Vallejo S.A.C."
        ],
        [
         "630665b8594e18004af04d15",
         "Universidad San Ignacio De Loyola - Usil",
         "Universidad San Ignacio de Loyola S.R.L."
        ],
        [
         "630665b8594e18004af04d20",
         "Universidad San Martin De Porres",
         "Universidad de San Martín de Porres"
        ],
        [
         "630665b8594e18004af04d3b",
         "Universidad De San Martín De Porres",
         "Universidad de San Martín de Porres"
        ],
        [
         "630665b8594e18004af04d4b",
         "Unap",
         "Universidad Nacional de la Amazonía Peruana"
        ],
        [
         "630665b8594e18004af04d6a",
         "Universidad San Ignacio De Loyola - Usil",
         "Universidad San Ignacio de Loyola S.R.L."
        ],
        [
         "630665b8594e18004af04d81",
         "Universidad Peruana Los Andes",
         "Universidad Peruana Los Andes"
        ],
        [
         "630665b8594e18004af04d8b",
         "Universidad Peruana Los Andes",
         "Universidad Peruana Los Andes"
        ],
        [
         "630665b8594e18004af04d91",
         "Instituto Continental",
         "Universidad Continental S.A.C."
        ],
        [
         "630665b8594e18004af04dab",
         "Universidad Cesar Vallejo",
         "Universidad César Vallejo S.A.C."
        ],
        [
         "630665b8594e18004af04db3",
         "Universidad Nacional De La Amazonia Peruana",
         "Universidad Nacional de la Amazonía Peruana"
        ],
        [
         "630665b8594e18004af04dc6",
         "Universidad Tecnológica Del Perú",
         "Universidad Tecnológica del Perú S.A.C."
        ],
        [
         "630665b8594e18004af04dee",
         "Universidad Nacional De La Amazonia Peruana",
         "Universidad Nacional de la Amazonía Peruana"
        ],
        [
         "630665b8594e18004af04e0b",
         "Utp - Universidad Tecnológica Del Perú",
         "Universidad Tecnológica del Perú S.A.C."
        ],
        [
         "630665b8594e18004af04e14",
         "Universidad Cesar Vallejo",
         "Universidad César Vallejo S.A.C."
        ],
        [
         "630665b8594e18004af04e1b",
         "Universidad Nacional De La Amazonia Peruana",
         "Universidad Nacional de la Amazonía Peruana"
        ],
        [
         "630665b8594e18004af04e29",
         "Universidad Nacional Daniel Alcides Carrión - Undac",
         "Universidad Nacional Daniel Alcides Carrión"
        ],
        [
         "630665b8594e18004af04e4a",
         "Universidad Nacional De Tumbes",
         "Universidad Nacional de Tumbes"
        ],
        [
         "630665b8594e18004af04e52",
         "Universidad Nacional De Educación Enrique Guzmán Y Valle - La Cantuta",
         "Universidad Nacional de Educación Enrique Guzmán y Valle"
        ],
        [
         "630665b8594e18004af04e59",
         "Universidad San Martin De Porres",
         "Universidad de San Martín de Porres"
        ],
        [
         "630665b8594e18004af04e64",
         "Universidad Nacional De Tumbes",
         "Universidad Nacional de Tumbes"
        ],
        [
         "630665b8594e18004af04e6b",
         "Universidad Privada Del Norte",
         "Universidad Privada del Norte S.A.C."
        ],
        [
         "630665b8594e18004af04e8e",
         "Universidad Tecnológica Del Perú - Utp",
         "Universidad Tecnológica del Perú S.A.C."
        ],
        [
         "630665b8594e18004af04ed2",
         "Universidad Privada Del Norte",
         "Universidad Privada del Norte S.A.C."
        ],
        [
         "630665b8594e18004af04eda",
         "Universidad Del Pacifico",
         "Universidad del Pacífico"
        ],
        [
         "630665b8594e18004af04ef5",
         "Enrique Guzmán Y Valle",
         "Universidad Nacional de Educación Enrique Guzmán y Valle"
        ],
        [
         "630665b8594e18004af04ef5",
         "Cesar Vallejo",
         "Universidad César Vallejo S.A.C."
        ],
        [
         "630665b8594e18004af04efc",
         "Universidad Nacional Daniel Alcides Carrión",
         "Universidad Nacional Daniel Alcides Carrión"
        ],
        [
         "630665b8594e18004af04f24",
         "Daniel Alcides Carrion",
         "Universidad Nacional Daniel Alcides Carrión"
        ],
        [
         "630665b8594e18004af04f39",
         "Universidad Peruana Los Andes",
         "Universidad Peruana Los Andes"
        ],
        [
         "630665b8594e18004af04f42",
         "Universidad Continental",
         "Universidad Continental S.A.C."
        ],
        [
         "630665b8594e18004af04f48",
         "Universidad De San Martin De Porres - Usmp",
         "Universidad de San Martín de Porres"
        ],
        [
         "630665b8594e18004af04f57",
         "Universidad De San Martin De Porres",
         "Universidad de San Martín de Porres"
        ],
        [
         "630665b8594e18004af04f67",
         "Universidad Nacional De San Martín",
         "Universidad Nacional de San Martín"
        ],
        [
         "630665b8594e18004af04f9a",
         "Universidad Tecnológica Del Perú",
         "Universidad Tecnológica del Perú S.A.C."
        ],
        [
         "630665b8594e18004af04fc4",
         "Universidad Nacional Mayor De San Marcos",
         "Universidad Nacional Mayor de San Marcos"
        ],
        [
         "630665b8594e18004af04fd2",
         "Universidad Privada Del Norte",
         "Universidad Privada del Norte S.A.C."
        ],
        [
         "630665b8594e18004af04fdf",
         "Universidad Tecnológica Del Perú",
         "Universidad Tecnológica del Perú S.A.C."
        ],
        [
         "630665b8594e18004af04fdf",
         "Universidad Nacional Mayor De San Marcos",
         "Universidad Nacional Mayor de San Marcos"
        ],
        [
         "630665b8594e18004af04ffb",
         "Universidad Nacional Mayor De San Marcos",
         "Universidad Nacional Mayor de San Marcos"
        ],
        [
         "630665b8594e18004af05008",
         "Universidad Privada Del Norte",
         "Universidad Privada del Norte S.A.C."
        ],
        [
         "630665b8594e18004af0502e",
         "Universidad Tecnológica Del Perú",
         "Universidad Tecnológica del Perú S.A.C."
        ],
        [
         "630665b8594e18004af0505d",
         "Universidad De San Martin De Porres - Usmp",
         "Universidad de San Martín de Porres"
        ],
        [
         "630665b8594e18004af05064",
         "Upn",
         "Universidad Privada del Norte S.A.C."
        ],
        [
         "630665b8594e18004af05073",
         "Universidad Tecnologica Del Peru",
         "Universidad Tecnológica del Perú S.A.C."
        ],
        [
         "630665b8594e18004af05085",
         "Universidad Nacional De La Amazonia Peruana",
         "Universidad Nacional de la Amazonía Peruana"
        ],
        [
         "630665b8594e18004af0509a",
         "Universidad Católica Sedes Sapientiae",
         "Universidad Católica Sedes Sapientiae"
        ],
        [
         "630665b8594e18004af050a1",
         "Universidad Católica Sedes Sapientiae",
         "Universidad Católica Sedes Sapientiae"
        ],
        [
         "630665b8594e18004af050c8",
         "Universidad Privada Del Norte",
         "Universidad Privada del Norte S.A.C."
        ],
        [
         "630665b8594e18004af050dd",
         "San Juan Bosco De Huanuco",
         "Universidad de Huánuco"
        ],
        [
         "630665b8594e18004af050e4",
         "Juan Bosco De Huánuco",
         "Universidad de Huánuco"
        ],
        [
         "630665b8594e18004af05119",
         "Universidad Privada Del Norte",
         "Universidad Privada del Norte S.A.C."
        ],
        [
         "630665b8594e18004af05123",
         "Unmsm",
         "Universidad Nacional Mayor de San Marcos"
        ],
        [
         "630665b8594e18004af05149",
         "Universidad De San Martin De Porres",
         "Universidad de San Martín de Porres"
        ],
        [
         "630665b8594e18004af0515d",
         "Universidad Privada Del Norte",
         "Universidad Privada del Norte S.A.C."
        ],
        [
         "630665b8594e18004af0516d",
         "Universidad De Ciencias Aplicadas",
         "Universidad Peruana de Ciencias Aplicadas S.A.C."
        ],
        [
         "630665b8594e18004af05179",
         "Universidad Privada San Juan Bautista",
         "Universidad Privada San Juan Bautista S.A.C."
        ],
        [
         "630665b8594e18004af05192",
         "Universidad San Ignacio De Loyola - Usil",
         "Universidad San Ignacio de Loyola S.R.L."
        ],
        [
         "630665b8594e18004af0519c",
         "Universidad Nacional De La Amazonia Peruana",
         "Universidad Nacional de la Amazonía Peruana"
        ],
        [
         "630665b8594e18004af051ab",
         "Universidad Nacional De Tumbes",
         "Universidad Nacional de Tumbes"
        ],
        [
         "630665b8594e18004af051b3",
         "Universida Nacional De La Amazonia Peruana",
         "Universidad Nacional de la Amazonía Peruana"
        ],
        [
         "630665b8594e18004af051ba",
         "Universidad Privada Del Norte",
         "Universidad Privada del Norte S.A.C."
        ],
        [
         "630665b8594e18004af051e5",
         "Universidad Privada Del Norte - Upn",
         "Universidad Privada del Norte S.A.C."
        ],
        [
         "630665b8594e18004af051ff",
         "Universidad Autónoma Del Perú",
         "Universidad Autónoma del Perú S.A.C."
        ],
        [
         "630665b8594e18004af05206",
         "Instituto San Ignacio De Loyola",
         "Universidad San Ignacio de Loyola S.R.L."
        ],
        [
         "630665b8594e18004af05215",
         "Universidad Científica Del Sur",
         "Universidad Científica del Sur S.A.C."
        ],
        [
         "630665b8594e18004af0522e",
         "Ucv",
         "Universidad César Vallejo S.A.C."
        ],
        [
         "630665b8594e18004af0525c",
         "Instituto Continental",
         "Universidad Continental S.A.C."
        ],
        [
         "630665b8594e18004af05282",
         "Universidad Peruana De Ciencias Aplicadas.",
         "Universidad Peruana de Ciencias Aplicadas S.A.C."
        ],
        [
         "630665b8594e18004af05289",
         "Universidad Cesar Vallejo",
         "Universidad César Vallejo S.A.C."
        ],
        [
         "630665b8594e18004af05289",
         "San Marcos 00503",
         "Universidad Nacional Mayor de San Marcos"
        ],
        [
         "630665b8594e18004af05294",
         "Universidad San Ignacio De Loyola",
         "Universidad San Ignacio de Loyola S.R.L."
        ],
        [
         "630665b8594e18004af0529e",
         "Universidad Peruana De Ciencias Aplicadas",
         "Universidad Peruana de Ciencias Aplicadas S.A.C."
        ],
        [
         "630665b8594e18004af052a6",
         "Universidad Autónoma Del Perú",
         "Universidad Autónoma del Perú S.A.C."
        ],
        [
         "630665b8594e18004af052ad",
         "Universidad Privada Del Norte",
         "Universidad Privada del Norte S.A.C."
        ],
        [
         "630665b8594e18004af052b5",
         "Universidad Nacional De Ingenieria",
         "Universidad Nacional de Ingeniería"
        ],
        [
         "630665b8594e18004af052ca",
         "Universidad La Salle",
         "Universidad La Salle"
        ],
        [
         "630665b8594e18004af052ec",
         "Universidad Nacional Del Altiplano",
         "Universidad Nacional del Altiplano"
        ],
        [
         "630665b8594e18004af052f9",
         "Universidad Tecnológica Del Perú",
         "Universidad Tecnológica del Perú S.A.C."
        ],
        [
         "630665b8594e18004af05303",
         "Universidad Privada Del Norte",
         "Universidad Privada del Norte S.A.C."
        ],
        [
         "630665b8594e18004af0530f",
         "Universidad Nacional De Tumbes",
         "Universidad Nacional de Tumbes"
        ],
        [
         "630665b8594e18004af05317",
         "Universidad Andina Del Cusco",
         "Universidad Andina del Cusco"
        ],
        [
         "630665b8594e18004af05320",
         "Universidad Privada De Tacna",
         "Universidad Privada de Tacna"
        ],
        [
         "630665b8594e18004af0532c",
         "Universidad Nacional Del Callao - Unac",
         "Universidad Nacional del Callao"
        ],
        [
         "630665b8594e18004af05336",
         "Universidad Tecnologica Del Peru",
         "Universidad Tecnológica del Perú S.A.C."
        ],
        [
         "630665b8594e18004af05354",
         "Universidad Peruana Los Andes",
         "Universidad Peruana Los Andes"
        ],
        [
         "630665b8594e18004af05397",
         "Universidad Peruana De Ciencias Aplicadas",
         "Universidad Peruana de Ciencias Aplicadas S.A.C."
        ],
        [
         "630665b8594e18004af05397",
         "Universidad Peruana De Ciencias Aplicadas",
         "Universidad Peruana de Ciencias Aplicadas S.A.C."
        ],
        [
         "630665b8594e18004af053a0",
         "Universidad Nacional De La Amazonia Peruana - Unap",
         "Universidad Nacional de la Amazonía Peruana"
        ],
        [
         "630665b8594e18004af053b1",
         "Universidad San Ignacio De Loyola",
         "Universidad San Ignacio de Loyola S.R.L."
        ],
        [
         "630665b8594e18004af053b1",
         "Universidad Peruana Cayetano Heredia",
         "Universidad Peruana Cayetano Heredia"
        ],
        [
         "630665b8594e18004af053be",
         "Universidad Continental",
         "Universidad Continental S.A.C."
        ],
        [
         "630665b8594e18004af053ce",
         "Universidad Nacional Del Callao",
         "Universidad Nacional del Callao"
        ],
        [
         "630665b8594e18004af053f3",
         "Universidad De Lima",
         "Universidad de Lima"
        ],
        [
         "630665b8594e18004af053fb",
         "Universidad Peruana De Ciencias Aplicadas - Upc",
         "Universidad Peruana de Ciencias Aplicadas S.A.C."
        ],
        [
         "630665b8594e18004af0540e",
         "Universidad Privada Del Norte",
         "Universidad Privada del Norte S.A.C."
        ],
        [
         "630665b8594e18004af05421",
         "Universidad Peruana De Ciencias Aplicadas - Upc",
         "Universidad Peruana de Ciencias Aplicadas S.A.C."
        ],
        [
         "630665b8594e18004af05449",
         "Universidad Peruana De Ciencias Aplicadas",
         "Universidad Peruana de Ciencias Aplicadas S.A.C."
        ],
        [
         "630665b8594e18004af05463",
         "Universidad Cesar Vallejo - Ucv",
         "Universidad César Vallejo S.A.C."
        ],
        [
         "630665b8594e18004af0546b",
         "Universidad De Huanuco",
         "Universidad de Huánuco"
        ],
        [
         "630665b8594e18004af05488",
         "Universidad Nacional Enrique Guzmán Y Valle",
         "Universidad Nacional de Educación Enrique Guzmán y Valle"
        ],
        [
         "630665b8594e18004af05490",
         "Universidad Tecnologica Del Peru",
         "Universidad Tecnológica del Perú S.A.C."
        ],
        [
         "630665b8594e18004af05497",
         "Universidad Cesar Vallejo",
         "Universidad César Vallejo S.A.C."
        ],
        [
         "630665b8594e18004af054a1",
         "Instituto Continental",
         "Universidad Continental S.A.C."
        ],
        [
         "630665b8594e18004af054a9",
         "Universidad César Vallejo",
         "Universidad César Vallejo S.A.C."
        ],
        [
         "630665b8594e18004af054b2",
         "Universidad Nacional De La Amazonia Peruana",
         "Universidad Nacional de la Amazonía Peruana"
        ],
        [
         "630665b8594e18004af054c0",
         "Universidad Privada Del Norte",
         "Universidad Privada del Norte S.A.C."
        ],
        [
         "630665b8594e18004af054c7",
         "Universidad Privada Del Norte",
         "Universidad Privada del Norte S.A.C."
        ],
        [
         "630665b8594e18004af054e7",
         "Universidad Andina Del Cusco",
         "Universidad Andina del Cusco"
        ],
        [
         "630665b8594e18004af054f9",
         "Universidad Tecnológica Del Perú - Utp",
         "Universidad Tecnológica del Perú S.A.C."
        ],
        [
         "630665b8594e18004af05508",
         "Juan Bosco De Huanuco",
         "Universidad de Huánuco"
        ],
        [
         "630665b8594e18004af05516",
         "Universidad Cesar Vallejo",
         "Universidad César Vallejo S.A.C."
        ],
        [
         "630665b8594e18004af05550",
         "Universidad Continental",
         "Universidad Continental S.A.C."
        ],
        [
         "630665b8594e18004af05557",
         "Universidad Tecnológica Del Perú",
         "Universidad Tecnológica del Perú S.A.C."
        ],
        [
         "630665b8594e18004af0555e",
         "Universidad Cesar Vallejo",
         "Universidad César Vallejo S.A.C."
        ],
        [
         "630665b8594e18004af0556f",
         "Universidad Nacional Federico Villarreal",
         "Universidad Nacional Federico Villarreal"
        ],
        [
         "630665b8594e18004af05576",
         "Instituto San Ignacio De Loyola",
         "Universidad San Ignacio de Loyola S.R.L."
        ],
        [
         "630665b8594e18004af0557c",
         "Universidad Privada Del Norte",
         "Universidad Privada del Norte S.A.C."
        ],
        [
         "630665b8594e18004af055a1",
         "Universidad Privada Del Norte",
         "Universidad Privada del Norte S.A.C."
        ],
        [
         "630665b8594e18004af055b1",
         "Utp",
         "Universidad Tecnológica del Perú S.A.C."
        ],
        [
         "630665b8594e18004af055b8",
         "Universidad César Vallejo",
         "Universidad César Vallejo S.A.C."
        ],
        [
         "630665b8594e18004af055be",
         "Upn",
         "Universidad Privada del Norte S.A.C."
        ],
        [
         "630665b8594e18004af055c5",
         "Universidad Privada Del Norte",
         "Universidad Privada del Norte S.A.C."
        ],
        [
         "630665b8594e18004af055cc",
         "Universidad Ricardo Palma",
         "Universidad Ricardo Palma"
        ],
        [
         "630665b8594e18004af055d8",
         "Universidad Nacional De La  Amazonia Peruana",
         "Universidad Nacional de la Amazonía Peruana"
        ],
        [
         "630665b8594e18004af055df",
         "Universidad Nacional De La Amazonía Peruana",
         "Universidad Nacional de la Amazonía Peruana"
        ],
        [
         "630665b8594e18004af05600",
         "Universidad Privada Del Norte",
         "Universidad Privada del Norte S.A.C."
        ],
        [
         "630665b8594e18004af05613",
         "Universidad César Vallejo",
         "Universidad César Vallejo S.A.C."
        ],
        [
         "630665b8594e18004af05619",
         "Universidad Maria Auxiliadora",
         "Universidad María Auxiliadora S.A.C."
        ],
        [
         "630665b8594e18004af05626",
         "Universidad De San Martin De Porres",
         "Universidad de San Martín de Porres"
        ],
        [
         "630665b8594e18004af0562e",
         "Universidad Andina Del Cusco",
         "Universidad Andina del Cusco"
        ],
        [
         "630665b8594e18004af05634",
         "Universidad Privada Del Norte",
         "Universidad Privada del Norte S.A.C."
        ],
        [
         "630665b8594e18004af05643",
         "Universidad Cesar Vallejo",
         "Universidad César Vallejo S.A.C."
        ],
        [
         "630665b8594e18004af05653",
         "Universidad Peruana De Ciencias Aplicadas",
         "Universidad Peruana de Ciencias Aplicadas S.A.C."
        ],
        [
         "630665b8594e18004af05663",
         "Universidad Cesar Vallejo - Ucv",
         "Universidad César Vallejo S.A.C."
        ],
        [
         "630665b8594e18004af0566b",
         "Upc",
         "Universidad Peruana de Ciencias Aplicadas S.A.C."
        ],
        [
         "630665b8594e18004af05691",
         "Universidad De San Martín De Porres",
         "Universidad de San Martín de Porres"
        ],
        [
         "630665b8594e18004af056af",
         "Universidad Autonoma Del Peru",
         "Universidad Autónoma del Perú S.A.C."
        ],
        [
         "630665b8594e18004af056c1",
         "Pucp",
         "Pontificia Universidad Católica del Perú"
        ],
        [
         "630665b8594e18004af056d7",
         "Universidad Privada Del Norte",
         "Universidad Privada del Norte S.A.C."
        ],
        [
         "630665b8594e18004af056ed",
         "Universidad Cesar Vallejo",
         "Universidad César Vallejo S.A.C."
        ],
        [
         "630665b8594e18004af0570c",
         "Universidad Peruana De Ciencias Aplicadas",
         "Universidad Peruana de Ciencias Aplicadas S.A.C."
        ],
        [
         "630665b8594e18004af05713",
         "Universidad San Martin De Porres",
         "Universidad de San Martín de Porres"
        ],
        [
         "630665b8594e18004af0572f",
         "Universidad Nacional De Piura",
         "Universidad Nacional de Piura"
        ],
        [
         "630665b8594e18004af05751",
         "Universidad Privada Del Norte",
         "Universidad Privada del Norte S.A.C."
        ],
        [
         "630665b8594e18004af05768",
         "San Ignacio De Loyola",
         "Universidad San Ignacio de Loyola S.R.L."
        ],
        [
         "630665b8594e18004af0577c",
         "Universidad Tecnológica Del Perú",
         "Universidad Tecnológica del Perú S.A.C."
        ],
        [
         "630665b8594e18004af05796",
         "Universidad Ricardo Palma",
         "Universidad Ricardo Palma"
        ],
        [
         "630665b8594e18004af057a3",
         "Universidad Privada Del Norte",
         "Universidad Privada del Norte S.A.C."
        ],
        [
         "630665b8594e18004af057b7",
         "Universidad Nacional De Huancavelica",
         "Universidad Nacional de Huancavelica"
        ],
        [
         "630665b8594e18004af057d0",
         "Universidad Privada Antenor Orrego",
         "Universidad Privada Antenor Orrego"
        ],
        [
         "630665b8594e18004af057d8",
         "Universidad Peruana Unión",
         "Universidad Peruana Unión"
        ],
        [
         "630665b8594e18004af05827",
         "Universidad Nacional San Antonio Abad Del Cusco",
         "Universidad Nacional de San Antonio Abad del Cusco"
        ],
        [
         "630665b8594e18004af0582e",
         "Universidad Nacional Mayor De San Marcos - Unmsm",
         "Universidad Nacional Mayor de San Marcos"
        ],
        [
         "630665b8594e18004af05844",
         "Universidad Privada Del Norte",
         "Universidad Privada del Norte S.A.C."
        ],
        [
         "630665b8594e18004af0584f",
         "Universidad Cesar Vallejo",
         "Universidad César Vallejo S.A.C."
        ],
        [
         "630665b8594e18004af05884",
         "Universidad Tecnologica Del Peru",
         "Universidad Tecnológica del Perú S.A.C."
        ],
        [
         "630665b8594e18004af058be",
         "Universidad Andina Del Cusco",
         "Universidad Andina del Cusco"
        ],
        [
         "630665b8594e18004af058cd",
         "Universidad Tecnológica Del Perú",
         "Universidad Tecnológica del Perú S.A.C."
        ],
        [
         "630665b8594e18004af058d6",
         "Universidad Privada De Tacna",
         "Universidad Privada de Tacna"
        ],
        [
         "630665b8594e18004af058e5",
         "Universidad Privada Del Norte",
         "Universidad Privada del Norte S.A.C."
        ],
        [
         "630665b8594e18004af05904",
         "Universidad Privada Del Norte",
         "Universidad Privada del Norte S.A.C."
        ],
        [
         "630665b8594e18004af05917",
         "Univesidad Cesar Vallejo",
         "Universidad César Vallejo S.A.C."
        ],
        [
         "630665b8594e18004af05924",
         "Universidad Cesar Vallejo",
         "Universidad César Vallejo S.A.C."
        ],
        [
         "630665b8594e18004af0592f",
         "Universidad Femenina Del Sagrado Corazón - Unife",
         "Universidad Femenina del Sagrado Corazón"
        ],
        [
         "630665b8594e18004af05938",
         "Universidad Nacional Del Centro Del Perú",
         "Universidad Nacional del Centro del Perú"
        ],
        [
         "630665b8594e18004af059a2",
         "Universidad Cesar Vallejo",
         "Universidad César Vallejo S.A.C."
        ],
        [
         "630665b8594e18004af059ca",
         "Universidad Peruana De Ciencias Aplicadas",
         "Universidad Peruana de Ciencias Aplicadas S.A.C."
        ],
        [
         "630665b8594e18004af059d1",
         "Universidad Nacional De San Martin",
         "Universidad Nacional de San Martín"
        ],
        [
         "630665b8594e18004af059dc",
         "Universidad Privada Del Norte",
         "Universidad Privada del Norte S.A.C."
        ],
        [
         "630665b8594e18004af059f7",
         "Universidad Nacional De La Amazonia Peruana",
         "Universidad Nacional de la Amazonía Peruana"
        ],
        [
         "630665b8594e18004af05a04",
         "Universidad Peruana De Ciencias Aplicadas",
         "Universidad Peruana de Ciencias Aplicadas S.A.C."
        ],
        [
         "630665b8594e18004af05a2c",
         "Universidad Tecnológica Del Perú",
         "Universidad Tecnológica del Perú S.A.C."
        ],
        [
         "630665b8594e18004af05a34",
         "Universidad Nacional De La Amazonía Peruana",
         "Universidad Nacional de la Amazonía Peruana"
        ],
        [
         "630665b8594e18004af05a4b",
         "Universidad Cesar Vallejo",
         "Universidad César Vallejo S.A.C."
        ],
        [
         "630665b8594e18004af05a5a",
         "San Antonio Abad Del Cusco",
         "Universidad Nacional de San Antonio Abad del Cusco"
        ],
        [
         "630665b8594e18004af05a68",
         "Universidad Tecnologica De Los Andes",
         "Universidad Tecnológica de los Andes"
        ],
        [
         "630665b8594e18004af05a7f",
         "Universidad Andina Del Cusco",
         "Universidad Andina del Cusco"
        ],
        [
         "630665b8594e18004af05a8a",
         "San Ignacio De Loyola",
         "Universidad San Ignacio de Loyola S.R.L."
        ],
        [
         "630665b8594e18004af05a95",
         "Universidad Cesar Vallejo",
         "Universidad César Vallejo S.A.C."
        ],
        [
         "630665b8594e18004af05abd",
         "Universidad De San Martin De Porres - Usmp",
         "Universidad de San Martín de Porres"
        ],
        [
         "630665b8594e18004af05ac6",
         "Universidad Nacional De Tumbes",
         "Universidad Nacional de Tumbes"
        ],
        [
         "630665b8594e18004af05ad9",
         "Cesar Vallejo",
         "Universidad César Vallejo S.A.C."
        ],
        [
         "630665b8594e18004af05ae4",
         "Universidad Nacional De Frontera",
         "Universidad Nacional de Frontera"
        ],
        [
         "630665b8594e18004af05b0a",
         "Universidad De Huanuco",
         "Universidad de Huánuco"
        ],
        [
         "630665b8594e18004af05b19",
         "Unheval",
         "Universidad Nacional Hermilio Valdizán de Huánuco"
        ],
        [
         "630665b8594e18004af05b48",
         "Universidad Privada Del Norte",
         "Universidad Privada del Norte S.A.C."
        ],
        [
         "630665b8594e18004af05b58",
         "San Martín De Porres",
         "Universidad de San Martín de Porres"
        ],
        [
         "630665b8594e18004af05b66",
         "Universidad Peruana Unión",
         "Universidad Peruana Unión"
        ],
        [
         "630665b8594e18004af05b6c",
         "Universidad Nacional Amazónica De Madre De Dios",
         "Universidad Nacional Amazónica de Madre de Dios"
        ],
        [
         "630665b8594e18004af05b95",
         "Universidad Autónoma Del Perú",
         "Universidad Autónoma del Perú S.A.C."
        ],
        [
         "630665b8594e18004af05bc3",
         "Universidad Privada Del Norte",
         "Universidad Privada del Norte S.A.C."
        ],
        [
         "630665b8594e18004af05bcd",
         "Universidad Andina Del Cusco",
         "Universidad Andina del Cusco"
        ],
        [
         "630665b8594e18004af05bd8",
         "Universidad Privada Del Norte",
         "Universidad Privada del Norte S.A.C."
        ],
        [
         "630665b8594e18004af05bde",
         "Universidad Tecnológica Del Perú",
         "Universidad Tecnológica del Perú S.A.C."
        ],
        [
         "630665b8594e18004af05be8",
         "Usmp",
         "Universidad de San Martín de Porres"
        ],
        [
         "630665b8594e18004af05c04",
         "Universidad Privada Del Norte",
         "Universidad Privada del Norte S.A.C."
        ],
        [
         "630665b8594e18004af05c12",
         "Universidad Privada Del Norte",
         "Universidad Privada del Norte S.A.C."
        ],
        [
         "630665b8594e18004af05c2e",
         "Universidad Jaime Bausate Y Meza",
         "Universidad Jaime Bausate y Meza"
        ],
        [
         "630665b8594e18004af05c3a",
         "Universidad Privada Del Norte - Unp",
         "Universidad Privada del Norte S.A.C."
        ],
        [
         "630665b8594e18004af05c6c",
         "Universidad Peruana De Ciencias Aplicadas",
         "Universidad Peruana de Ciencias Aplicadas S.A.C."
        ],
        [
         "630665b8594e18004af05c7a",
         "Universidad Privada Del Norte",
         "Universidad Privada del Norte S.A.C."
        ],
        [
         "630665b8594e18004af05c82",
         "Universidad Autonoma De Ica",
         "Universidad Autónoma de Ica S.A.C."
        ],
        [
         "630665b8594e18004af05cac",
         "Universidad Cesar Vallejo",
         "Universidad César Vallejo S.A.C."
        ],
        [
         "630665b8594e18004af05cbc",
         "Universidad Católica De Santa Maria",
         "Universidad Católica de Santa María"
        ],
        [
         "630665b8594e18004af05cc4",
         "Pucp",
         "Pontificia Universidad Católica del Perú"
        ],
        [
         "630665b8594e18004af05ccb",
         "Universidad Nacional Agraria De La Selva",
         "Universidad Nacional Agraria de la Selva"
        ],
        [
         "630665b8594e18004af05cdf",
         "Universidad Privada San Juan Bautista",
         "Universidad Privada San Juan Bautista S.A.C."
        ],
        [
         "630665b8594e18004af05ce5",
         "Universidad San Martin De Porres",
         "Universidad de San Martín de Porres"
        ],
        [
         "630665b8594e18004af05cf1",
         "Universidad Cesar Vallejo - Ucv",
         "Universidad César Vallejo S.A.C."
        ],
        [
         "630665b8594e18004af05d04",
         "Universidad San Martín De Porres",
         "Universidad de San Martín de Porres"
        ],
        [
         "630665b8594e18004af05d0b",
         "Universidad Peruana Los Andes",
         "Universidad Peruana Los Andes"
        ],
        [
         "630665b8594e18004af05d33",
         "Universidad San Ignacio De Loyola",
         "Universidad San Ignacio de Loyola S.R.L."
        ],
        [
         "630665b8594e18004af05d47",
         "Universidad De San Martin De Porres",
         "Universidad de San Martín de Porres"
        ],
        [
         "630665b8594e18004af05d54",
         "Universidad Peruana De Ciencias Aplicadas",
         "Universidad Peruana de Ciencias Aplicadas S.A.C."
        ],
        [
         "630665b8594e18004af05d60",
         "Universidad Nacional Federico Villarreal",
         "Universidad Nacional Federico Villarreal"
        ],
        [
         "630665b8594e18004af05dc1",
         "Universidad Privada Del Norte",
         "Universidad Privada del Norte S.A.C."
        ],
        [
         "630665b8594e18004af05dd8",
         "Universidad Tecnológica Del Perú",
         "Universidad Tecnológica del Perú S.A.C."
        ],
        [
         "630665b8594e18004af05ddf",
         "San Luis Gonzaga De Ica",
         "Universidad Nacional San Luis Gonzaga de Ica"
        ],
        [
         "630665b8594e18004af05dee",
         "Universidad Nacional Mayor De San Marcos",
         "Universidad Nacional Mayor de San Marcos"
        ],
        [
         "630665b8594e18004af05e00",
         "Universidad Tecnologica Del Peru",
         "Universidad Tecnológica del Perú S.A.C."
        ],
        [
         "630665b8594e18004af05e55",
         "Universidad Catolica San Pablo",
         "Universidad Católica San Pablo"
        ],
        [
         "630665b8594e18004af05e5f",
         "Pontificia Universidad Católica Del Perú",
         "Pontificia Universidad Católica del Perú"
        ],
        [
         "630665b8594e18004af05e66",
         "Universidad Privada San Juan Bautista",
         "Universidad Privada San Juan Bautista S.A.C."
        ],
        [
         "630665b8594e18004af05e76",
         "Universidad Peruana De Ciencias Aplicada",
         "Universidad Peruana de Ciencias Aplicadas S.A.C."
        ],
        [
         "630665b8594e18004af05e97",
         "Universidad Cesar Vallejo",
         "Universidad César Vallejo S.A.C."
        ],
        [
         "630665b8594e18004af05ea0",
         "Universidad Privada Del Norte",
         "Universidad Privada del Norte S.A.C."
        ],
        [
         "630665b8594e18004af05eb9",
         "Instituto San Ignacio De Loyola",
         "Universidad San Ignacio de Loyola S.R.L."
        ],
        [
         "630665b8594e18004af05ec3",
         "Universidad Esan",
         "Universidad ESAN"
        ],
        [
         "630665b8594e18004af05ed8",
         "José Faustino Sánchez Carrión",
         "Universidad Nacional José Faustino Sánchez Carrión"
        ],
        [
         "630665b8594e18004af05ee3",
         "Universidad Cesar Vallejo - Ucv",
         "Universidad César Vallejo S.A.C."
        ],
        [
         "630665b8594e18004af05f00",
         "Universidad Cesar Vallejo - Ucv",
         "Universidad César Vallejo S.A.C."
        ],
        [
         "630665b8594e18004af05f00",
         "Universidad Cesar Vallejo - Ucv",
         "Universidad César Vallejo S.A.C."
        ],
        [
         "630665b8594e18004af05f1e",
         "Universidad Privada Del Norte - Upn",
         "Universidad Privada del Norte S.A.C."
        ],
        [
         "630665b8594e18004af05f32",
         "Universidad Tecnológica Del Perú",
         "Universidad Tecnológica del Perú S.A.C."
        ],
        [
         "630665b8594e18004af05f3a",
         "Universidad Privada Del Norte",
         "Universidad Privada del Norte S.A.C."
        ],
        [
         "630665b8594e18004af05f3a",
         "Universidad Peruana De Ciencias Aplicadas",
         "Universidad Peruana de Ciencias Aplicadas S.A.C."
        ],
        [
         "630665b8594e18004af05f44",
         "Universidad Peruana De Ciencias Aplicadas",
         "Universidad Peruana de Ciencias Aplicadas S.A.C."
        ],
        [
         "630665b8594e18004af05f54",
         "Universidad Nacional Mayor De San Marcos",
         "Universidad Nacional Mayor de San Marcos"
        ],
        [
         "630665b8594e18004af05fbb",
         "Universidad De San Martin De Porres - Usmp",
         "Universidad de San Martín de Porres"
        ],
        [
         "630665b8594e18004af05fda",
         "Universidad Nacional Enrique Guzmán Y Valle",
         "Universidad Nacional de Educación Enrique Guzmán y Valle"
        ],
        [
         "630665b8594e18004af05fe2",
         "Universidad Privada Del Norte",
         "Universidad Privada del Norte S.A.C."
        ],
        [
         "630665b8594e18004af06000",
         "Universidad Privada Del Norte",
         "Universidad Privada del Norte S.A.C."
        ],
        [
         "630665b8594e18004af06008",
         "Universidad Peruana De Ciencias Aplicadas",
         "Universidad Peruana de Ciencias Aplicadas S.A.C."
        ],
        [
         "630665b8594e18004af06017",
         "Universidad Privada Del Norte",
         "Universidad Privada del Norte S.A.C."
        ],
        [
         "630665b8594e18004af0601d",
         "Universidas Cesar Vallejo",
         "Universidad César Vallejo S.A.C."
        ],
        [
         "630665b8594e18004af0602b",
         "Universidad Privada Del Norte",
         "Universidad Privada del Norte S.A.C."
        ],
        [
         "630665b8594e18004af06031",
         "Universidad Peruana De Ciencias Aplicadas",
         "Universidad Peruana de Ciencias Aplicadas S.A.C."
        ],
        [
         "630665b8594e18004af06039",
         "Universidad Tecnológica Del Perú",
         "Universidad Tecnológica del Perú S.A.C."
        ],
        [
         "630665b8594e18004af06043",
         "Universidad Privada Del Norte",
         "Universidad Privada del Norte S.A.C."
        ],
        [
         "630665b8594e18004af0604a",
         "Universidad Tecnológica Del Perú",
         "Universidad Tecnológica del Perú S.A.C."
        ],
        [
         "630665b8594e18004af06054",
         "Instituto San Ignacio De Loyola",
         "Universidad San Ignacio de Loyola S.R.L."
        ],
        [
         "630665b8594e18004af0605c",
         "Univesidad Privada Del Norte",
         "Universidad Privada del Norte S.A.C."
        ],
        [
         "630665b8594e18004af06066",
         "Instituto San Ignacio De Loyola - Isil",
         "Universidad San Ignacio de Loyola S.R.L."
        ],
        [
         "630665b8594e18004af06066",
         "Universidad Nacional Federico Villarreal - Unfv",
         "Universidad Nacional Federico Villarreal"
        ],
        [
         "630665b8594e18004af0608e",
         "Universidad Tecnológica Del Perú",
         "Universidad Tecnológica del Perú S.A.C."
        ],
        [
         "630665b8594e18004af06096",
         "Universidad Nacional De San Martín",
         "Universidad Nacional de San Martín"
        ],
        [
         "630665b8594e18004af060c4",
         "Universidad Científica Del Sur",
         "Universidad Científica del Sur S.A.C."
        ],
        [
         "630665b8594e18004af060d9",
         "Universidad Nacional San Luis Gonzaga De Ica",
         "Universidad Nacional San Luis Gonzaga de Ica"
        ],
        [
         "630665b8594e18004af060e3",
         "Universidad Nacional De Educación Enrique Guzmán Y Valle - La Cantuta",
         "Universidad Nacional de Educación Enrique Guzmán y Valle"
        ],
        [
         "630665b8594e18004af06112",
         "Universidad Ricardo Palma",
         "Universidad Ricardo Palma"
        ],
        [
         "630665b8594e18004af06127",
         "Universidad Privada Del Norte",
         "Universidad Privada del Norte S.A.C."
        ],
        [
         "630665b8594e18004af0612e",
         "Universidad Nacional Del Callao",
         "Universidad Nacional del Callao"
        ],
        [
         "630665b8594e18004af0614d",
         "San Ignacio De Loyola",
         "Universidad San Ignacio de Loyola S.R.L."
        ],
        [
         "630665b8594e18004af0615e",
         "Universidad Nacional Federico Villarreal",
         "Universidad Nacional Federico Villarreal"
        ],
        [
         "630665b8594e18004af06169",
         "Universidad Continental",
         "Universidad Continental S.A.C."
        ],
        [
         "630665b8594e18004af06175",
         "Universidad Cesar Vallejo",
         "Universidad César Vallejo S.A.C."
        ],
        [
         "630665b8594e18004af0617c",
         "Universidad De Lima",
         "Universidad de Lima"
        ],
        [
         "630665b8594e18004af06185",
         "Universidad Nacional Mayor De San Marcos",
         "Universidad Nacional Mayor de San Marcos"
        ],
        [
         "630665b8594e18004af0618c",
         "Universidad Autónoma Del Perú",
         "Universidad Autónoma del Perú S.A.C."
        ],
        [
         "630665b8594e18004af061a7",
         "Utp",
         "Universidad Tecnológica del Perú S.A.C."
        ],
        [
         "630665b8594e18004af061c3",
         "Universidad Privada Del Norte",
         "Universidad Privada del Norte S.A.C."
        ],
        [
         "630665b8594e18004af061cc",
         "I.e.p Maria Auxiliadora",
         "Universidad María Auxiliadora S.A.C."
        ],
        [
         "630665b8594e18004af061d3",
         "Universidad Peruana De Ciencias Aplicadas - Upc",
         "Universidad Peruana de Ciencias Aplicadas S.A.C."
        ],
        [
         "630665b8594e18004af061e3",
         "Universidad Cesar Vallejo",
         "Universidad César Vallejo S.A.C."
        ],
        [
         "630665b8594e18004af061eb",
         "Instituto San Ignacio De Loyola",
         "Universidad San Ignacio de Loyola S.R.L."
        ],
        [
         "630665b8594e18004af0620d",
         "Universidad Privada Norbert Wiener",
         "Universidad Privada Norbert Wiener S.A."
        ],
        [
         "630665b8594e18004af0621a",
         "Universidad Nacional Del Callao",
         "Universidad Nacional del Callao"
        ],
        [
         "630665b8594e18004af06221",
         "Utec",
         "Universidad de Ingeniería y Tecnología"
        ],
        [
         "630665b8594e18004af06233",
         "Universidad Tecnológica Del Perú",
         "Universidad Tecnológica del Perú S.A.C."
        ],
        [
         "630665b8594e18004af0623b",
         "Unfv",
         "Universidad Nacional Federico Villarreal"
        ],
        [
         "630665b8594e18004af0624a",
         "Universidad Privada Del Norte - Unp",
         "Universidad Privada del Norte S.A.C."
        ],
        [
         "630665b8594e18004af06266",
         "Universidad Tecnológica Del Perú",
         "Universidad Tecnológica del Perú S.A.C."
        ],
        [
         "630665b8594e18004af0627e",
         "Universidad Peruana De Ciencias Aplicadas",
         "Universidad Peruana de Ciencias Aplicadas S.A.C."
        ],
        [
         "630665b8594e18004af06285",
         "Instituto San Ignacio De Loyola",
         "Universidad San Ignacio de Loyola S.R.L."
        ],
        [
         "630665b8594e18004af0628c",
         "Universidad Privada Del Norte",
         "Universidad Privada del Norte S.A.C."
        ],
        [
         "630665b8594e18004af0629c",
         "Universidad Tecnológica Del Perú",
         "Universidad Tecnológica del Perú S.A.C."
        ],
        [
         "630665b8594e18004af062b0",
         "Universidad De Piura",
         "Universidad de Piura"
        ],
        [
         "630665b8594e18004af062b6",
         "Universidad Tecnologica Del Peru",
         "Universidad Tecnológica del Perú S.A.C."
        ],
        [
         "630665b8594e18004af062bf",
         "Universidad Nacional De Piura",
         "Universidad Nacional de Piura"
        ],
        [
         "630665b8594e18004af062c6",
         "Universidad Tecnológica Del Perú",
         "Universidad Tecnológica del Perú S.A.C."
        ],
        [
         "630665b8594e18004af062df",
         "Upc",
         "Universidad Peruana de Ciencias Aplicadas S.A.C."
        ],
        [
         "630665b8594e18004af062fd",
         "Universidad Nacional Mayor De San Marcos",
         "Universidad Nacional Mayor de San Marcos"
        ],
        [
         "630665b8594e18004af06304",
         "Universidad Continental",
         "Universidad Continental S.A.C."
        ],
        [
         "630665b8594e18004af06313",
         "Universidad De San Martin De Porres",
         "Universidad de San Martín de Porres"
        ],
        [
         "630665b8594e18004af06339",
         "Universidad César Vallejo",
         "Universidad César Vallejo S.A.C."
        ],
        [
         "630665b8594e18004af06347",
         "Universidad Privada Del Norte",
         "Universidad Privada del Norte S.A.C."
        ],
        [
         "630665b8594e18004af0634d",
         "Universidad Nacional De Piura",
         "Universidad Nacional de Piura"
        ],
        [
         "630665b8594e18004af0635c",
         "Universidad Peruana De Ciencias Aplicadas",
         "Universidad Peruana de Ciencias Aplicadas S.A.C."
        ],
        [
         "630665b8594e18004af0635c",
         "Universidad Privada Del Norte",
         "Universidad Privada del Norte S.A.C."
        ],
        [
         "630665b8594e18004af06383",
         "Universidad Privada Del Norte",
         "Universidad Privada del Norte S.A.C."
        ],
        [
         "630665b8594e18004af063c1",
         "Universidad Tecnológica Del Perú",
         "Universidad Tecnológica del Perú S.A.C."
        ],
        [
         "630665b8594e18004af063cb",
         "Upc",
         "Universidad Peruana de Ciencias Aplicadas S.A.C."
        ],
        [
         "630665b8594e18004af063f4",
         "Utp",
         "Universidad Tecnológica del Perú S.A.C."
        ],
        [
         "630665b8594e18004af06408",
         "Universidad Nacional Del Altiplano",
         "Universidad Nacional del Altiplano"
        ],
        [
         "630665b8594e18004af06408",
         "Universidad Nacional Del Altiplano",
         "Universidad Nacional del Altiplano"
        ],
        [
         "630665b8594e18004af06423",
         "Universidad Cesar Vallejo",
         "Universidad César Vallejo S.A.C."
        ],
        [
         "630665b8594e18004af06434",
         "Universidad De Lima",
         "Universidad de Lima"
        ],
        [
         "630665b8594e18004af0643d",
         "Instituto San Ignacio De Loyola",
         "Universidad San Ignacio de Loyola S.R.L."
        ],
        [
         "630665b8594e18004af06470",
         "Universidad Cesar Vallejo",
         "Universidad César Vallejo S.A.C."
        ],
        [
         "630665b8594e18004af06478",
         "Universidad Tecnológica Del Perú",
         "Universidad Tecnológica del Perú S.A.C."
        ],
        [
         "630665b8594e18004af06492",
         "Universidad De Lima",
         "Universidad de Lima"
        ],
        [
         "630665b8594e18004af064af",
         "Universidad Cesar Vallejo",
         "Universidad César Vallejo S.A.C."
        ],
        [
         "630665b8594e18004af064be",
         "Universidad Privada Del Norte",
         "Universidad Privada del Norte S.A.C."
        ],
        [
         "630665b8594e18004af064cd",
         "Universidad Nacional Mayor De San Marcos - Unmsm",
         "Universidad Nacional Mayor de San Marcos"
        ],
        [
         "630665b8594e18004af064d7",
         "Universidad Tecnológica Del Perú",
         "Universidad Tecnológica del Perú S.A.C."
        ],
        [
         "630665b8594e18004af064f4",
         "Universidad De Lima",
         "Universidad de Lima"
        ],
        [
         "630665b8594e18004af06512",
         "Universidad Esan",
         "Universidad ESAN"
        ],
        [
         "630665b89fa239004bddbf97",
         "Universidad Peruana De Ciencias Aplicadas",
         "Universidad Peruana de Ciencias Aplicadas S.A.C."
        ],
        [
         "630665b89fa239004bddbfd5",
         "Universidad Cesar Vallejo - Ucv",
         "Universidad César Vallejo S.A.C."
        ],
        [
         "630665b89fa239004bddbfee",
         "Universidad Privada Del Norte",
         "Universidad Privada del Norte S.A.C."
        ],
        [
         "630665b89fa239004bddbff7",
         "Universidad Nacional Tecnológica De Lima Sur",
         "Universidad Nacional Tecnológica de Lima Sur"
        ],
        [
         "630665b89fa239004bddc017",
         "Universidad De San Martin De Porres",
         "Universidad de San Martín de Porres"
        ],
        [
         "630665b89fa239004bddc01f",
         "Universidad Nacional De Piura",
         "Universidad Nacional de Piura"
        ],
        [
         "630665b89fa239004bddc02e",
         "Universidad Tecnológica Del Perú",
         "Universidad Tecnológica del Perú S.A.C."
        ],
        [
         "630665b89fa239004bddc038",
         "Universidad Nacional Del Santa",
         "Universidad Nacional del Santa"
        ],
        [
         "630665b89fa239004bddc058",
         "Universidad Tecnológica Del Perú",
         "Universidad Tecnológica del Perú S.A.C."
        ],
        [
         "630665b89fa239004bddc062",
         "Universidad Andina Del Cusco",
         "Universidad Andina del Cusco"
        ],
        [
         "630665b89fa239004bddc0b3",
         "Upc",
         "Universidad Peruana de Ciencias Aplicadas S.A.C."
        ],
        [
         "630665b89fa239004bddc0be",
         "Universidad Nacional Mayor De San Marcos",
         "Universidad Nacional Mayor de San Marcos"
        ],
        [
         "630665b89fa239004bddc0c6",
         "Universidad Privada Del Norte",
         "Universidad Privada del Norte S.A.C."
        ],
        [
         "630665b89fa239004bddc0cc",
         "Universidad Tecnológica Del Perú - Utp",
         "Universidad Tecnológica del Perú S.A.C."
        ],
        [
         "630665b89fa239004bddc0db",
         "Universidad Privada Del Norte",
         "Universidad Privada del Norte S.A.C."
        ],
        [
         "630665b89fa239004bddc0f4",
         "Universidad Peruana  De Ciencias Aplicadas",
         "Universidad Peruana de Ciencias Aplicadas S.A.C."
        ],
        [
         "630665b89fa239004bddc102",
         "Universidad Señor De Sipan",
         "Universidad Señor de Sipán S.A.C."
        ],
        [
         "630665b89fa239004bddc10d",
         "Universidad Peruana De Ciencias Aplicadas",
         "Universidad Peruana de Ciencias Aplicadas S.A.C."
        ],
        [
         "630665b89fa239004bddc129",
         "Universidad Tecnologica Del Peru",
         "Universidad Tecnológica del Perú S.A.C."
        ],
        [
         "630665b89fa239004bddc14b",
         "Pontificia Universidad Católica Del Perú",
         "Pontificia Universidad Católica del Perú"
        ],
        [
         "630665b89fa239004bddc151",
         "Universidad Privada De Tacna",
         "Universidad Privada de Tacna"
        ],
        [
         "630665b89fa239004bddc16e",
         "Universidad Nacional De San Agustin De Arequipa",
         "Universidad Nacional de San Agustín de Arequipa"
        ],
        [
         "630665b89fa239004bddc176",
         "Universidad César Vallejo",
         "Universidad César Vallejo S.A.C."
        ],
        [
         "630665b89fa239004bddc190",
         "Universidad San Martin De Porres",
         "Universidad de San Martín de Porres"
        ],
        [
         "630665b89fa239004bddc1a4",
         "Universidad Privada Del Norte - Unp",
         "Universidad Privada del Norte S.A.C."
        ],
        [
         "630665b89fa239004bddc1c7",
         "Upc",
         "Universidad Peruana de Ciencias Aplicadas S.A.C."
        ],
        [
         "630665b89fa239004bddc1c7",
         "Upn",
         "Universidad Privada del Norte S.A.C."
        ],
        [
         "630665b89fa239004bddc1d5",
         "Universidad Privada Del Norte",
         "Universidad Privada del Norte S.A.C."
        ],
        [
         "630665b89fa239004bddc1e6",
         "Universidad Continental",
         "Universidad Continental S.A.C."
        ],
        [
         "630665b89fa239004bddc1f0",
         "Universidad Tecnológica Del Perú",
         "Universidad Tecnológica del Perú S.A.C."
        ],
        [
         "630665b89fa239004bddc232",
         "Universidad Privada Del Norte",
         "Universidad Privada del Norte S.A.C."
        ],
        [
         "630665b89fa239004bddc243",
         "Universidad Peruana De Ciencias Aplicadas",
         "Universidad Peruana de Ciencias Aplicadas S.A.C."
        ],
        [
         "630665b89fa239004bddc27a",
         "Universidad Nacional Del Callao",
         "Universidad Nacional del Callao"
        ],
        [
         "630665b89fa239004bddc285",
         "Universidad Tecnológica Del Perú - Utp",
         "Universidad Tecnológica del Perú S.A.C."
        ],
        [
         "630665b89fa239004bddc2b1",
         "Universidad Cesar Vallejo Trujillo",
         "Universidad César Vallejo S.A.C."
        ],
        [
         "630665b89fa239004bddc2b9",
         "Universidad Privada Del Norte - Unp",
         "Universidad Privada del Norte S.A.C."
        ],
        [
         "630665b89fa239004bddc2cd",
         "Universidad Nacional Agraria De La Selva",
         "Universidad Nacional Agraria de la Selva"
        ],
        [
         "630665b89fa239004bddc2cd",
         "I.e. Ricardo Palma Soriano N°32483",
         "Universidad Ricardo Palma"
        ],
        [
         "630665b89fa239004bddc2da",
         "Universidad Privada Del Norte",
         "Universidad Privada del Norte S.A.C."
        ],
        [
         "630665b89fa239004bddc2e9",
         "Universidad Nacional Mayor De San Marcos",
         "Universidad Nacional Mayor de San Marcos"
        ],
        [
         "630665b89fa239004bddc2f9",
         "Universidad Peruana De Ciencias Aplicadas",
         "Universidad Peruana de Ciencias Aplicadas S.A.C."
        ],
        [
         "630665b89fa239004bddc30f",
         "Universidad Privada Antenor Orrego",
         "Universidad Privada Antenor Orrego"
        ],
        [
         "630665b89fa239004bddc31b",
         "Pontificia Universidad Católica Del Perú",
         "Pontificia Universidad Católica del Perú"
        ],
        [
         "630665b89fa239004bddc325",
         "Universidad Privada Del Norte",
         "Universidad Privada del Norte S.A.C."
        ],
        [
         "630665b89fa239004bddc335",
         "Universidad Continental",
         "Universidad Continental S.A.C."
        ],
        [
         "630665b89fa239004bddc354",
         "Universidad César Vallejo",
         "Universidad César Vallejo S.A.C."
        ],
        [
         "630665b89fa239004bddc385",
         "Universidad Peruana De Ciencias Aplicadas (upc)",
         "Universidad Peruana de Ciencias Aplicadas S.A.C."
        ],
        [
         "630665b89fa239004bddc38c",
         "Universidad Científica Del Sur",
         "Universidad Científica del Sur S.A.C."
        ],
        [
         "630665b89fa239004bddc3ae",
         "Universidad San Ignacio De Loyola",
         "Universidad San Ignacio de Loyola S.R.L."
        ],
        [
         "630665b89fa239004bddc3be",
         "Universidad De Ciencias Aplicadas",
         "Universidad Peruana de Ciencias Aplicadas S.A.C."
        ],
        [
         "630665b89fa239004bddc402",
         "Upc",
         "Universidad Peruana de Ciencias Aplicadas S.A.C."
        ],
        [
         "630665b89fa239004bddc411",
         "Universidad Cesar Vallejo",
         "Universidad César Vallejo S.A.C."
        ],
        [
         "630665b89fa239004bddc437",
         "Universidad De Lima",
         "Universidad de Lima"
        ],
        [
         "630665b89fa239004bddc442",
         "Universidad Peruana Unión - Upeu",
         "Universidad Peruana Unión"
        ],
        [
         "630665b89fa239004bddc449",
         "Universidad San Ignacio De Loyola - Usil",
         "Universidad San Ignacio de Loyola S.R.L."
        ],
        [
         "630665b89fa239004bddc458",
         "Universidad Peruana Los Andes (upla)",
         "Universidad Peruana Los Andes"
        ],
        [
         "630665b89fa239004bddc460",
         "Universidad Nacional Mayor De San Marcos",
         "Universidad Nacional Mayor de San Marcos"
        ],
        [
         "630665b89fa239004bddc46e",
         "Universidad Nacional De San Agustín De Arequipa",
         "Universidad Nacional de San Agustín de Arequipa"
        ],
        [
         "630665b89fa239004bddc48c",
         "Universidad Privada Del Norte",
         "Universidad Privada del Norte S.A.C."
        ],
        [
         "630665b89fa239004bddc4a2",
         "Universidad Cesar Vallejo",
         "Universidad César Vallejo S.A.C."
        ],
        [
         "630665b89fa239004bddc4ad",
         "Universidad Privada Del Norte",
         "Universidad Privada del Norte S.A.C."
        ],
        [
         "630665b89fa239004bddc4bd",
         "Universidad Privada Del Norte",
         "Universidad Privada del Norte S.A.C."
        ],
        [
         "630665b89fa239004bddc4c5",
         "Universidad De Huánuco - Udh",
         "Universidad de Huánuco"
        ],
        [
         "630665b89fa239004bddc4dc",
         "Instituto San Ignacio De Loyola",
         "Universidad San Ignacio de Loyola S.R.L."
        ],
        [
         "630665b89fa239004bddc4e3",
         "Universidad Nacional Federico Villarreal",
         "Universidad Nacional Federico Villarreal"
        ],
        [
         "630665b89fa239004bddc4ec",
         "Universidad Privada Del Norte",
         "Universidad Privada del Norte S.A.C."
        ],
        [
         "630665b89fa239004bddc509",
         "Universidad Cesar Vallejo",
         "Universidad César Vallejo S.A.C."
        ],
        [
         "630665b89fa239004bddc522",
         "Universidad Tecnológica Del Perú",
         "Universidad Tecnológica del Perú S.A.C."
        ],
        [
         "630665b89fa239004bddc52d",
         "Universidad Tecnologica Del Peru",
         "Universidad Tecnológica del Perú S.A.C."
        ],
        [
         "630665b89fa239004bddc534",
         "San Ignacio De Loyola",
         "Universidad San Ignacio de Loyola S.R.L."
        ],
        [
         "630665b89fa239004bddc542",
         "Universidad Tecnológica Del Perú",
         "Universidad Tecnológica del Perú S.A.C."
        ],
        [
         "630665b89fa239004bddc54a",
         "Universidad Cesar Vallejo - Ucv",
         "Universidad César Vallejo S.A.C."
        ],
        [
         "630665b89fa239004bddc588",
         "Universidad Peruana De Ciencias Aplicadas",
         "Universidad Peruana de Ciencias Aplicadas S.A.C."
        ],
        [
         "630665b89fa239004bddc591",
         "Universidad Enrique Guzmán Y Valle- La Cantuta",
         "Universidad Nacional de Educación Enrique Guzmán y Valle"
        ],
        [
         "630665b89fa239004bddc598",
         "Universidad Nacional Federico Villarreal",
         "Universidad Nacional Federico Villarreal"
        ],
        [
         "630665b89fa239004bddc5a7",
         "Universidad César Vallejo",
         "Universidad César Vallejo S.A.C."
        ],
        [
         "630665b89fa239004bddc5e0",
         "Cesar Vallejo",
         "Universidad César Vallejo S.A.C."
        ],
        [
         "630665b89fa239004bddc607",
         "Universidad San Ignacio De Loyola",
         "Universidad San Ignacio de Loyola S.R.L."
        ],
        [
         "630665b89fa239004bddc60e",
         "Universidad De Piura",
         "Universidad de Piura"
        ],
        [
         "630665b89fa239004bddc615",
         "Universidad De San Martín De Porres",
         "Universidad de San Martín de Porres"
        ],
        [
         "630665b89fa239004bddc61c",
         "Universidad San Ignacio De Loyola",
         "Universidad San Ignacio de Loyola S.R.L."
        ],
        [
         "630665b89fa239004bddc625",
         "Pontificia Universidad Católica Del Perú - Pucp",
         "Pontificia Universidad Católica del Perú"
        ],
        [
         "630665b89fa239004bddc62d",
         "Universidad Tecnológica Del Perú",
         "Universidad Tecnológica del Perú S.A.C."
        ],
        [
         "630665b89fa239004bddc65c",
         "Universidad De San Martin De Porres",
         "Universidad de San Martín de Porres"
        ],
        [
         "630665b89fa239004bddc672",
         "Universidad Privada Del Norte",
         "Universidad Privada del Norte S.A.C."
        ],
        [
         "630665b89fa239004bddc67c",
         "Universidad Nacional Mayor De San Marcos",
         "Universidad Nacional Mayor de San Marcos"
        ],
        [
         "630665b89fa239004bddc699",
         "Universidad Nacional De Ucayali",
         "Universidad Nacional de Ucayali"
        ],
        [
         "630665b89fa239004bddc6a9",
         "Universidad Nacional Tecnológica De Lima Sur",
         "Universidad Nacional Tecnológica de Lima Sur"
        ],
        [
         "630665b89fa239004bddc6b1",
         "Universidad Cesar Vallejo",
         "Universidad César Vallejo S.A.C."
        ],
        [
         "630665b89fa239004bddc6bb",
         "Upn",
         "Universidad Privada del Norte S.A.C."
        ],
        [
         "630665b89fa239004bddc6d3",
         "Universidad Ricardo Palma",
         "Universidad Ricardo Palma"
        ],
        [
         "630665b89fa239004bddc6db",
         "Universidad Privada Del Norte",
         "Universidad Privada del Norte S.A.C."
        ],
        [
         "630665b89fa239004bddc6ec",
         "Universidad De San Martin De Porres - Usmp",
         "Universidad de San Martín de Porres"
        ],
        [
         "630665b89fa239004bddc6fc",
         "Universidad Privada Del Norte - Unp",
         "Universidad Privada del Norte S.A.C."
        ],
        [
         "630665b89fa239004bddc714",
         "Universidad César Vallejo",
         "Universidad César Vallejo S.A.C."
        ],
        [
         "630665b89fa239004bddc723",
         "Universidad Privada Del Norte",
         "Universidad Privada del Norte S.A.C."
        ],
        [
         "630665b89fa239004bddc731",
         "Universidad De San Martin De Porres",
         "Universidad de San Martín de Porres"
        ],
        [
         "630665b89fa239004bddc740",
         "Universidad Cesar Vallejo",
         "Universidad César Vallejo S.A.C."
        ],
        [
         "630665b89fa239004bddc752",
         "Universidad Privada Del Norte",
         "Universidad Privada del Norte S.A.C."
        ],
        [
         "630665b89fa239004bddc769",
         "Universidad Privada Del Norte",
         "Universidad Privada del Norte S.A.C."
        ],
        [
         "630665b89fa239004bddc776",
         "Universidad Privada Del Norte",
         "Universidad Privada del Norte S.A.C."
        ],
        [
         "630665b89fa239004bddc776",
         "Universidad De Piura",
         "Universidad de Piura"
        ],
        [
         "630665b89fa239004bddc786",
         "Usil - San Ignacio De Loyola",
         "Universidad San Ignacio de Loyola S.R.L."
        ],
        [
         "630665b89fa239004bddc7dc",
         "Universidad Privada Del Norte",
         "Universidad Privada del Norte S.A.C."
        ],
        [
         "630665b89fa239004bddc808",
         "Universidad Tecnológica Del Perú",
         "Universidad Tecnológica del Perú S.A.C."
        ],
        [
         "630665b89fa239004bddc812",
         "Pucp",
         "Pontificia Universidad Católica del Perú"
        ],
        [
         "630665b89fa239004bddc812",
         "Pucp",
         "Pontificia Universidad Católica del Perú"
        ],
        [
         "630665b89fa239004bddc835",
         "Universidad Tecnológica Del Perú",
         "Universidad Tecnológica del Perú S.A.C."
        ],
        [
         "630665b89fa239004bddc85e",
         "Universidad Privada Del Norte",
         "Universidad Privada del Norte S.A.C."
        ],
        [
         "630665b89fa239004bddc872",
         "Universidad Privada San Juan  Bautista",
         "Universidad Privada San Juan Bautista S.A.C."
        ],
        [
         "630665b89fa239004bddc87f",
         "Universidad Nacional Mayor De San Marcos",
         "Universidad Nacional Mayor de San Marcos"
        ],
        [
         "630665b89fa239004bddc893",
         "Universidad César Vallejo",
         "Universidad César Vallejo S.A.C."
        ],
        [
         "630665b89fa239004bddc89c",
         "Universidad Privada Del Norte",
         "Universidad Privada del Norte S.A.C."
        ],
        [
         "630665b89fa239004bddc8a3",
         "Upn",
         "Universidad Privada del Norte S.A.C."
        ],
        [
         "630665b89fa239004bddc8c9",
         "Universidad Tecnológica Del Perú",
         "Universidad Tecnológica del Perú S.A.C."
        ],
        [
         "630665b89fa239004bddc8db",
         "Utp",
         "Universidad Tecnológica del Perú S.A.C."
        ],
        [
         "630665b89fa239004bddc8e3",
         "Universidad Cesar Vallejo",
         "Universidad César Vallejo S.A.C."
        ],
        [
         "630665b89fa239004bddc8e9",
         "Universidad Católica De Santa Maria",
         "Universidad Católica de Santa María"
        ],
        [
         "630665b89fa239004bddc917",
         "Universidad Privada Del Norte",
         "Universidad Privada del Norte S.A.C."
        ],
        [
         "630665b89fa239004bddc930",
         "Universidad Peruana De Ciencias Aplicadas",
         "Universidad Peruana de Ciencias Aplicadas S.A.C."
        ],
        [
         "630665b89fa239004bddc937",
         "Universidad Privada Del Norte",
         "Universidad Privada del Norte S.A.C."
        ],
        [
         "630665b89fa239004bddc93f",
         "Universidad Católica Tecnologica Del Peru",
         "Universidad Tecnológica del Perú S.A.C."
        ],
        [
         "630665b89fa239004bddc94d",
         "Universidad Privada Del Norte",
         "Universidad Privada del Norte S.A.C."
        ],
        [
         "630665b89fa239004bddc95f",
         "Universidad Cesar Vallejo",
         "Universidad César Vallejo S.A.C."
        ],
        [
         "630665b89fa239004bddc977",
         "Universidad Nacional Del Callao - Unac",
         "Universidad Nacional del Callao"
        ],
        [
         "630665b89fa239004bddc983",
         "Universidad Peruana De Ciencias Aplicadas",
         "Universidad Peruana de Ciencias Aplicadas S.A.C."
        ],
        [
         "630665b89fa239004bddc993",
         "Universidad San Ignacio De Loyola",
         "Universidad San Ignacio de Loyola S.R.L."
        ],
        [
         "630665b89fa239004bddc9a7",
         "Instituto San Ignacio De Loyola",
         "Universidad San Ignacio de Loyola S.R.L."
        ],
        [
         "630665b89fa239004bddc9d2",
         "Universidad Privada Del Norte",
         "Universidad Privada del Norte S.A.C."
        ],
        [
         "630665b89fa239004bddc9e6",
         "Universidad Nacional Mayor De San Marcos",
         "Universidad Nacional Mayor de San Marcos"
        ],
        [
         "630665b89fa239004bddc9f2",
         "Universidad Privada Del Norte",
         "Universidad Privada del Norte S.A.C."
        ],
        [
         "630665b89fa239004bddca0e",
         "Universidad Nacional Del Callao",
         "Universidad Nacional del Callao"
        ],
        [
         "630665b89fa239004bddca3a",
         "Universidad Católica De Santa María",
         "Universidad Católica de Santa María"
        ],
        [
         "630665b89fa239004bddca42",
         "Instituto San Ignacio De Loyola - Isil",
         "Universidad San Ignacio de Loyola S.R.L."
        ],
        [
         "630665b89fa239004bddca42",
         "Universidad San Ignacio De Loyola - Usil",
         "Universidad San Ignacio de Loyola S.R.L."
        ],
        [
         "630665b89fa239004bddca55",
         "Universidad Privada Del Norte",
         "Universidad Privada del Norte S.A.C."
        ],
        [
         "630665b89fa239004bddca75",
         "Universidad De San Martin De Porres - Usmp",
         "Universidad de San Martín de Porres"
        ],
        [
         "630665b89fa239004bddca94",
         "Universidad Nacional Del Callao",
         "Universidad Nacional del Callao"
        ],
        [
         "630665b89fa239004bddcac8",
         "Universidad Nacional Federico Villarreal",
         "Universidad Nacional Federico Villarreal"
        ],
        [
         "630665b89fa239004bddcad0",
         "Universidad Privada Del Norte - Unp",
         "Universidad Privada del Norte S.A.C."
        ],
        [
         "630665b89fa239004bddcae5",
         "Universidad Cesar Vallejo",
         "Universidad César Vallejo S.A.C."
        ],
        [
         "630665b89fa239004bddcaec",
         "Universidad Privada San Juan Bautista",
         "Universidad Privada San Juan Bautista S.A.C."
        ],
        [
         "630665b89fa239004bddcafb",
         "Universidad Autónoma Del Perú - Ua",
         "Universidad Autónoma del Perú S.A.C."
        ],
        [
         "630665b89fa239004bddcb03",
         "Upn",
         "Universidad Privada del Norte S.A.C."
        ],
        [
         "630665b89fa239004bddcb1b",
         "San Ignacio  De Loyola",
         "Universidad San Ignacio de Loyola S.R.L."
        ],
        [
         "630665b89fa239004bddcb32",
         "Universidad Cesar Vallejo",
         "Universidad César Vallejo S.A.C."
        ],
        [
         "630665b89fa239004bddcb5b",
         "Upc",
         "Universidad Peruana de Ciencias Aplicadas S.A.C."
        ],
        [
         "630665b89fa239004bddcb7c",
         "Universidad Cesar Vallejo",
         "Universidad César Vallejo S.A.C."
        ],
        [
         "630665b89fa239004bddcb8c",
         "Universidad Privada Del Norte",
         "Universidad Privada del Norte S.A.C."
        ],
        [
         "630665b89fa239004bddcb9f",
         "Upn",
         "Universidad Privada del Norte S.A.C."
        ],
        [
         "630665b89fa239004bddcba7",
         "Universidad San Ignacio De Loyola",
         "Universidad San Ignacio de Loyola S.R.L."
        ],
        [
         "630665b89fa239004bddcbb6",
         "Universidad Nacional De Educacion Enrique Guzman Y Valle Une",
         "Universidad Nacional de Educación Enrique Guzmán y Valle"
        ],
        [
         "630665b89fa239004bddcbc1",
         "Universidad Privada Del Norte",
         "Universidad Privada del Norte S.A.C."
        ],
        [
         "630665b89fa239004bddcbde",
         "Universidad Ricardo Palma",
         "Universidad Ricardo Palma"
        ],
        [
         "630665b89fa239004bddcc27",
         "Universidad Privada Norbert Wiener",
         "Universidad Privada Norbert Wiener S.A."
        ],
        [
         "630665b89fa239004bddcc2e",
         "Universidad Peruana De Ciencias Aplicadas - Upc",
         "Universidad Peruana de Ciencias Aplicadas S.A.C."
        ],
        [
         "630665b89fa239004bddcc63",
         "Universidad César Vallejo",
         "Universidad César Vallejo S.A.C."
        ],
        [
         "630665b89fa239004bddcc6c",
         "Instituto San Ignacio De Loyola",
         "Universidad San Ignacio de Loyola S.R.L."
        ],
        [
         "630665b89fa239004bddcc6c",
         "Universidad San Martin De Porres",
         "Universidad de San Martín de Porres"
        ],
        [
         "630665b89fa239004bddcc88",
         "Universidad San Martín De Porres",
         "Universidad de San Martín de Porres"
        ],
        [
         "630665b89fa239004bddcc92",
         "Universidad Nacional De Cañete",
         "Universidad Nacional de Cañete"
        ],
        [
         "630665b89fa239004bddcc9e",
         "Universidad Cesar Vallejo",
         "Universidad César Vallejo S.A.C."
        ],
        [
         "630665b89fa239004bddcd1a",
         "Universidad Privada Del Norte",
         "Universidad Privada del Norte S.A.C."
        ],
        [
         "630665b89fa239004bddcd3c",
         "Universidad César Vallejo",
         "Universidad César Vallejo S.A.C."
        ],
        [
         "630665b89fa239004bddcd51",
         "Universidad Andina Del Cusco",
         "Universidad Andina del Cusco"
        ],
        [
         "630665b89fa239004bddcd77",
         "Universidad Cesar Vallejo",
         "Universidad César Vallejo S.A.C."
        ],
        [
         "630665b89fa239004bddcd7e",
         "Universidad Privada Del Norte",
         "Universidad Privada del Norte S.A.C."
        ],
        [
         "630665b89fa239004bddcd98",
         "Universidad César Vallejo",
         "Universidad César Vallejo S.A.C."
        ],
        [
         "630665b89fa239004bddcda0",
         "Universidad Nacional Del Altiplano",
         "Universidad Nacional del Altiplano"
        ],
        [
         "630665b89fa239004bddcda0",
         "Universidad Nacional Del Altiplano",
         "Universidad Nacional del Altiplano"
        ],
        [
         "630665b89fa239004bddcdbe",
         "Universidad Tecnológica Del Perú",
         "Universidad Tecnológica del Perú S.A.C."
        ],
        [
         "630665b89fa239004bddcdd0",
         "Universidad Privada Del Norte - Upn",
         "Universidad Privada del Norte S.A.C."
        ],
        [
         "630665b89fa239004bddcdd8",
         "Universidad Cesar Vallejo",
         "Universidad César Vallejo S.A.C."
        ],
        [
         "630665b89fa239004bddce0a",
         "Universidad Nacional Micaela Bastidas De Apurimac",
         "Universidad Nacional Micaela Bastidas de Apurímac"
        ],
        [
         "630665b89fa239004bddce10",
         "Unfv",
         "Universidad Nacional Federico Villarreal"
        ],
        [
         "630665b89fa239004bddce19",
         "Universidad Privada Del Norte",
         "Universidad Privada del Norte S.A.C."
        ],
        [
         "630665b89fa239004bddce34",
         "Universidad Privada Del Norte",
         "Universidad Privada del Norte S.A.C."
        ],
        [
         "630665b89fa239004bddce3d",
         "Universidad Católica De Santa María",
         "Universidad Católica de Santa María"
        ],
        [
         "630665b89fa239004bddce62",
         "Universidad De Lima",
         "Universidad de Lima"
        ],
        [
         "630665b89fa239004bddce71",
         "Universidad Privada Del Norte",
         "Universidad Privada del Norte S.A.C."
        ],
        [
         "630665b89fa239004bddce82",
         "Universidad Privada Del Norte",
         "Universidad Privada del Norte S.A.C."
        ],
        [
         "630665b89fa239004bddce8a",
         "Universidad Cesar Vallejo",
         "Universidad César Vallejo S.A.C."
        ],
        [
         "630665b89fa239004bddceaa",
         "Universidad Privada Del Norte - Upn",
         "Universidad Privada del Norte S.A.C."
        ],
        [
         "630665b89fa239004bddcec2",
         "Universidad Cesar Vallejo",
         "Universidad César Vallejo S.A.C."
        ],
        [
         "630665b89fa239004bddceef",
         "Universidad Privada Del Norte",
         "Universidad Privada del Norte S.A.C."
        ],
        [
         "630665b89fa239004bddcf00",
         "Universidad Cesar Vallejo - Ucv",
         "Universidad César Vallejo S.A.C."
        ],
        [
         "630665b89fa239004bddcf16",
         "Pucp",
         "Pontificia Universidad Católica del Perú"
        ],
        [
         "630665b89fa239004bddcf32",
         "Universidad Privada Del Norte",
         "Universidad Privada del Norte S.A.C."
        ],
        [
         "630665b89fa239004bddcf3a",
         "Universidad Nacional Mayor De San Marcos",
         "Universidad Nacional Mayor de San Marcos"
        ],
        [
         "630665b89fa239004bddcf40",
         "Universidad Nacional Del Centro Del Perú",
         "Universidad Nacional del Centro del Perú"
        ],
        [
         "630665b89fa239004bddcf7e",
         "Universidad Ricardo Palma",
         "Universidad Ricardo Palma"
        ],
        [
         "630665b89fa239004bddcfa5",
         "Universidad Privada Del Norte",
         "Universidad Privada del Norte S.A.C."
        ],
        [
         "630665b89fa239004bddcfab",
         "Universidad Antonio Ruiz De Montoya",
         "Universidad Antonio Ruiz de Montoya"
        ],
        [
         "630665b89fa239004bddcfb1",
         "Autónoma Del Perú",
         "Universidad Autónoma del Perú S.A.C."
        ],
        [
         "630665b89fa239004bddcff2",
         "Universidad San Martin De Porres",
         "Universidad de San Martín de Porres"
        ],
        [
         "630665b89fa239004bddd00e",
         "Universidad Nacional Mayor De San Marcos",
         "Universidad Nacional Mayor de San Marcos"
        ],
        [
         "630665b89fa239004bddd01b",
         "Universidad Tecnológica Del Perú - Utp",
         "Universidad Tecnológica del Perú S.A.C."
        ],
        [
         "630665b89fa239004bddd03c",
         "Unife",
         "Universidad Femenina del Sagrado Corazón"
        ],
        [
         "630665b89fa239004bddd044",
         "Utp",
         "Universidad Tecnológica del Perú S.A.C."
        ],
        [
         "630665b89fa239004bddd04b",
         "Universidad Cesar Vallejo",
         "Universidad César Vallejo S.A.C."
        ],
        [
         "630665b89fa239004bddd058",
         "I.s.t.p Santiago Antunez De Mayolo - Huancayo",
         "Universidad Nacional Santiago Antúnez de Mayolo"
        ],
        [
         "630665b89fa239004bddd074",
         "Instituto Superior San Ignacio De Loyola (isil)",
         "Universidad San Ignacio de Loyola S.R.L."
        ],
        [
         "630665b89fa239004bddd088",
         "Universidad Tecnológica Del Perú",
         "Universidad Tecnológica del Perú S.A.C."
        ],
        [
         "630665b89fa239004bddd09c",
         "Utp",
         "Universidad Tecnológica del Perú S.A.C."
        ],
        [
         "630665b89fa239004bddd0b0",
         "Universidad Tecnológica Del Perú",
         "Universidad Tecnológica del Perú S.A.C."
        ],
        [
         "630665b89fa239004bddd0c3",
         "Universidad Nacional San Luis Gonzaga De Ica - Unica",
         "Universidad Nacional San Luis Gonzaga de Ica"
        ],
        [
         "630665b89fa239004bddd0cc",
         "Universidad De Lima",
         "Universidad de Lima"
        ],
        [
         "630665b89fa239004bddd0d2",
         "Universidad Peruana De Ciencias Aplicadas",
         "Universidad Peruana de Ciencias Aplicadas S.A.C."
        ],
        [
         "630665b89fa239004bddd0df",
         "Universidad Nacional Del Callao",
         "Universidad Nacional del Callao"
        ],
        [
         "630665b89fa239004bddd14b",
         "Universidad Peruana De Ciencias Aplicadas",
         "Universidad Peruana de Ciencias Aplicadas S.A.C."
        ],
        [
         "630665b89fa239004bddd153",
         "Universidad Privada Del Norte",
         "Universidad Privada del Norte S.A.C."
        ],
        [
         "630665b89fa239004bddd15e",
         "Universidad Privada Del Norte",
         "Universidad Privada del Norte S.A.C."
        ],
        [
         "630665b89fa239004bddd174",
         "Universidad San Ignacio De Loyola - Usil",
         "Universidad San Ignacio de Loyola S.R.L."
        ],
        [
         "630665b89fa239004bddd17e",
         "Universidad Nacional San Luis Gonzaga De Ica - Unica",
         "Universidad Nacional San Luis Gonzaga de Ica"
        ],
        [
         "630665b89fa239004bddd192",
         "Universidad Cesar Vallejo",
         "Universidad César Vallejo S.A.C."
        ],
        [
         "630665b89fa239004bddd192",
         "Universidad Cesar Vallejo - Ucv",
         "Universidad César Vallejo S.A.C."
        ],
        [
         "630665b89fa239004bddd1a1",
         "Autónoma Del Perú",
         "Universidad Autónoma del Perú S.A.C."
        ],
        [
         "630665b89fa239004bddd1af",
         "Universidad San Martín De Porres",
         "Universidad de San Martín de Porres"
        ],
        [
         "630665b89fa239004bddd1b5",
         "Universidad Nacional Mayor De San Marcos",
         "Universidad Nacional Mayor de San Marcos"
        ],
        [
         "630665b89fa239004bddd1c6",
         "Universidad Ricardo Palma",
         "Universidad Ricardo Palma"
        ],
        [
         "630665b89fa239004bddd1d2",
         "Universidad San Ignacio De Loyola",
         "Universidad San Ignacio de Loyola S.R.L."
        ],
        [
         "630665b89fa239004bddd1dc",
         "Universidad Cesar Vallejo",
         "Universidad César Vallejo S.A.C."
        ],
        [
         "630665b89fa239004bddd1eb",
         "Universidad Del Pacífico",
         "Universidad del Pacífico"
        ],
        [
         "630665b89fa239004bddd1f8",
         "Universidad Cesar Vallejo",
         "Universidad César Vallejo S.A.C."
        ],
        [
         "630665b89fa239004bddd205",
         "Universidad San Ignacio De Loyola",
         "Universidad San Ignacio de Loyola S.R.L."
        ],
        [
         "630665b89fa239004bddd22c",
         "Universidad Autónoma Del Perú - Ua",
         "Universidad Autónoma del Perú S.A.C."
        ],
        [
         "630665b89fa239004bddd253",
         "Universidad Autónoma Del Perú",
         "Universidad Autónoma del Perú S.A.C."
        ],
        [
         "630665b89fa239004bddd25a",
         "Universidad Privada Del Norte",
         "Universidad Privada del Norte S.A.C."
        ],
        [
         "630665b89fa239004bddd260",
         "Cesar Vallejo",
         "Universidad César Vallejo S.A.C."
        ],
        [
         "630665b89fa239004bddd268",
         "Universidad Peruana Los Andes",
         "Universidad Peruana Los Andes"
        ],
        [
         "630665b89fa239004bddd283",
         "Universidad Peruana De Ciencias Aplicadas - Upc",
         "Universidad Peruana de Ciencias Aplicadas S.A.C."
        ],
        [
         "630665b89fa239004bddd2b0",
         "Unife",
         "Universidad Femenina del Sagrado Corazón"
        ],
        [
         "630665b89fa239004bddd2e2",
         "Upc",
         "Universidad Peruana de Ciencias Aplicadas S.A.C."
        ],
        [
         "630665b89fa239004bddd325",
         "Universidad Cesar Vallejo",
         "Universidad César Vallejo S.A.C."
        ],
        [
         "630665b89fa239004bddd332",
         "Universidad Cesar Vallejo",
         "Universidad César Vallejo S.A.C."
        ],
        [
         "630665b89fa239004bddd343",
         "Universidad Cesar Vallejo",
         "Universidad César Vallejo S.A.C."
        ],
        [
         "630665b89fa239004bddd358",
         "Universidad Cesar Vallejo",
         "Universidad César Vallejo S.A.C."
        ],
        [
         "630665b89fa239004bddd35f",
         "Upc",
         "Universidad Peruana de Ciencias Aplicadas S.A.C."
        ],
        [
         "630665b89fa239004bddd371",
         "Instituto San Ignacio De Loyola",
         "Universidad San Ignacio de Loyola S.R.L."
        ],
        [
         "630665b89fa239004bddd393",
         "Universidad Esan",
         "Universidad ESAN"
        ],
        [
         "630665b89fa239004bddd3b7",
         "Universidad Privada Antenor Orrego",
         "Universidad Privada Antenor Orrego"
        ],
        [
         "630665b89fa239004bddd3c0",
         "Universidad Nacional De La Amazonía Peruana",
         "Universidad Nacional de la Amazonía Peruana"
        ],
        [
         "630665b89fa239004bddd3dc",
         "Universidad Privada Del Norte",
         "Universidad Privada del Norte S.A.C."
        ],
        [
         "630665b89fa239004bddd3e3",
         "Upn",
         "Universidad Privada del Norte S.A.C."
        ],
        [
         "630665b89fa239004bddd3ea",
         "Instituto Continental",
         "Universidad Continental S.A.C."
        ],
        [
         "630665b89fa239004bddd3fe",
         "Upn",
         "Universidad Privada del Norte S.A.C."
        ],
        [
         "630665b89fa239004bddd415",
         "Universidad Tecnológica Del Perú",
         "Universidad Tecnológica del Perú S.A.C."
        ],
        [
         "630665b89fa239004bddd421",
         "Universidad Cesar Vallejo",
         "Universidad César Vallejo S.A.C."
        ],
        [
         "630665b89fa239004bddd428",
         "Universidad Cesar Vallejo - Ucv",
         "Universidad César Vallejo S.A.C."
        ],
        [
         "630665b89fa239004bddd438",
         "Universidad De San Martín De Porres",
         "Universidad de San Martín de Porres"
        ],
        [
         "630665b89fa239004bddd445",
         "Universidad Privada Del Norte",
         "Universidad Privada del Norte S.A.C."
        ],
        [
         "630665b89fa239004bddd44c",
         "Instituto Continental",
         "Universidad Continental S.A.C."
        ],
        [
         "630665b89fa239004bddd453",
         "Instituto San Ignacio De Loyola",
         "Universidad San Ignacio de Loyola S.R.L."
        ],
        [
         "630665b89fa239004bddd45a",
         "Universidad De San Martin De Porres - Usmp",
         "Universidad de San Martín de Porres"
        ],
        [
         "630665b89fa239004bddd463",
         "Universidad San Martin De Porres",
         "Universidad de San Martín de Porres"
        ],
        [
         "630665b89fa239004bddd486",
         "Universidad Continental",
         "Universidad Continental S.A.C."
        ],
        [
         "630665b89fa239004bddd490",
         "Universidad Esan",
         "Universidad ESAN"
        ],
        [
         "630665b89fa239004bddd497",
         "Universidad Cesar Vallejo",
         "Universidad César Vallejo S.A.C."
        ],
        [
         "630665b89fa239004bddd4b7",
         "Universidad Peruana Unión",
         "Universidad Peruana Unión"
        ],
        [
         "630665b89fa239004bddd4bf",
         "Universidad San Ignacio De Loyola",
         "Universidad San Ignacio de Loyola S.R.L."
        ],
        [
         "630665b89fa239004bddd4bf",
         "Universidad Privada Del Norte",
         "Universidad Privada del Norte S.A.C."
        ],
        [
         "630665b89fa239004bddd4d1",
         "Universidad Cesar Vallejo",
         "Universidad César Vallejo S.A.C."
        ],
        [
         "630665b89fa239004bddd4d7",
         "Universidad Autonoma Del Peru",
         "Universidad Autónoma del Perú S.A.C."
        ],
        [
         "630665b89fa239004bddd516",
         "Universidad Peruana De Ciencias Aplicadas",
         "Universidad Peruana de Ciencias Aplicadas S.A.C."
        ],
        [
         "630665b89fa239004bddd525",
         "Universidad Privada Del Norte",
         "Universidad Privada del Norte S.A.C."
        ],
        [
         "630665b89fa239004bddd52d",
         "Universidad Cesar Vallejo",
         "Universidad César Vallejo S.A.C."
        ],
        [
         "630665b89fa239004bddd538",
         "Universidad San Martin De Porres",
         "Universidad de San Martín de Porres"
        ],
        [
         "630665b89fa239004bddd55a",
         "María Auxiliadora - Breña",
         "Universidad María Auxiliadora S.A.C."
        ],
        [
         "630665b89fa239004bddd565",
         "Cesar Vallejo",
         "Universidad César Vallejo S.A.C."
        ],
        [
         "630665b89fa239004bddd576",
         "Universidad Cesar Vallejo",
         "Universidad César Vallejo S.A.C."
        ],
        [
         "630665b89fa239004bddd593",
         "Universidad Nacional Mayor De San Marcos",
         "Universidad Nacional Mayor de San Marcos"
        ],
        [
         "630665b89fa239004bddd59c",
         "Universidad San Luis Gonzaga De Ica",
         "Universidad Nacional San Luis Gonzaga de Ica"
        ],
        [
         "630665b89fa239004bddd5a9",
         "Universidad San Ignacio De Loyola",
         "Universidad San Ignacio de Loyola S.R.L."
        ],
        [
         "630665b89fa239004bddd5af",
         "Universidad Privada Del Norte",
         "Universidad Privada del Norte S.A.C."
        ],
        [
         "630665b89fa239004bddd5d5",
         "Universidad Cientifica Del Sur",
         "Universidad Científica del Sur S.A.C."
        ],
        [
         "630665b89fa239004bddd5fe",
         "Upc",
         "Universidad Peruana de Ciencias Aplicadas S.A.C."
        ],
        [
         "630665b89fa239004bddd619",
         "Universidad Nacional De Moquegua",
         "Universidad Nacional de Moquegua"
        ],
        [
         "630665b89fa239004bddd665",
         "Universidad Tecnológica Del Perú",
         "Universidad Tecnológica del Perú S.A.C."
        ],
        [
         "630665b89fa239004bddd672",
         "Universidad Privada Del Norte",
         "Universidad Privada del Norte S.A.C."
        ],
        [
         "630665b89fa239004bddd689",
         "Universidad Tecnológica Del Perú",
         "Universidad Tecnológica del Perú S.A.C."
        ],
        [
         "630665b89fa239004bddd698",
         "Universidad Tecnológica Del Perú",
         "Universidad Tecnológica del Perú S.A.C."
        ],
        [
         "630665b89fa239004bddd6ab",
         "Universidad Tecnológica Del Perú",
         "Universidad Tecnológica del Perú S.A.C."
        ],
        [
         "630665b89fa239004bddd6bd",
         "Universidad César Vallejo",
         "Universidad César Vallejo S.A.C."
        ],
        [
         "630665b89fa239004bddd6ca",
         "Universidad Autónoma Del Perú",
         "Universidad Autónoma del Perú S.A.C."
        ],
        [
         "630665b89fa239004bddd6d4",
         "Universidad Privada Del Norte",
         "Universidad Privada del Norte S.A.C."
        ],
        [
         "630665b89fa239004bddd6e2",
         "Universidad Peruana De Ciencias Aplicadas (upc)",
         "Universidad Peruana de Ciencias Aplicadas S.A.C."
        ],
        [
         "630665b89fa239004bddd6e2",
         "Instituto De Idiomas De La Pontificia Universidad Católica Del Perú",
         "Pontificia Universidad Católica del Perú"
        ],
        [
         "630665b89fa239004bddd6f9",
         "Universidad Nacional Federico Villarreal",
         "Universidad Nacional Federico Villarreal"
        ],
        [
         "630665b89fa239004bddd71a",
         "Universidad Nacional Del Callao",
         "Universidad Nacional del Callao"
        ],
        [
         "630665b89fa239004bddd72c",
         "Universida Peruana De Ciencias Aplicadas",
         "Universidad Peruana de Ciencias Aplicadas S.A.C."
        ],
        [
         "630665b99fa239004bddd754",
         "Universidad Privada Del Norte",
         "Universidad Privada del Norte S.A.C."
        ],
        [
         "630665b99fa239004bddd7c4",
         "Cesar Vallejo",
         "Universidad César Vallejo S.A.C."
        ],
        [
         "630665b99fa239004bddd7ee",
         "Universidad Nacional De Trujillo",
         "Universidad Nacional de Trujillo"
        ],
        [
         "630665b99fa239004bddd803",
         "Universidad Ricardo Palma",
         "Universidad Ricardo Palma"
        ],
        [
         "630665b99fa239004bddd80b",
         "Universidad Nacional De Ingeniería",
         "Universidad Nacional de Ingeniería"
        ],
        [
         "630665b99fa239004bddd831",
         "Universidad Privada Del Norte",
         "Universidad Privada del Norte S.A.C."
        ],
        [
         "630665b99fa239004bddd84e",
         "Universidad Peruana De Ciencias Aplicadas",
         "Universidad Peruana de Ciencias Aplicadas S.A.C."
        ],
        [
         "630665b99fa239004bddd868",
         "Unalm",
         "Universidad Nacional Agraria La Molina"
        ],
        [
         "630665b99fa239004bddd868",
         "Unfv",
         "Universidad Nacional Federico Villarreal"
        ],
        [
         "630665b99fa239004bddd883",
         "Universidad Privada Del Norte (upn)",
         "Universidad Privada del Norte S.A.C."
        ],
        [
         "630665b99fa239004bddd896",
         "Universidad César Vallejo",
         "Universidad César Vallejo S.A.C."
        ],
        [
         "630665b99fa239004bddd8c7",
         "Universidad Privada Del Norte",
         "Universidad Privada del Norte S.A.C."
        ],
        [
         "630665b99fa239004bddd8ce",
         "Universidad Privada Del Norte Upn",
         "Universidad Privada del Norte S.A.C."
        ],
        [
         "630665b99fa239004bddd8ff",
         "Universidad Continental",
         "Universidad Continental S.A.C."
        ],
        [
         "630665b99fa239004bddd91c",
         "San Ignacio De Loyola",
         "Universidad San Ignacio de Loyola S.R.L."
        ],
        [
         "630665b99fa239004bddd933",
         "Universidad  Nacional  Del Callao",
         "Universidad Nacional del Callao"
        ],
        [
         "630665b99fa239004bddd946",
         "Universidad Peruana Los Andes",
         "Universidad Peruana Los Andes"
        ],
        [
         "630665b99fa239004bddd954",
         "Universidad Nacional De Trujillo - Unitru",
         "Universidad Nacional de Trujillo"
        ],
        [
         "630665b99fa239004bddd96b",
         "Universidad Privada Del Norte",
         "Universidad Privada del Norte S.A.C."
        ],
        [
         "630665b99fa239004bddd979",
         "Universidad César Vallejo",
         "Universidad César Vallejo S.A.C."
        ],
        [
         "630665b99fa239004bddd991",
         "Universidad Privada Del Norte - Upn",
         "Universidad Privada del Norte S.A.C."
        ],
        [
         "630665b99fa239004bddd9a7",
         "Universidad Nacional De Trujillo",
         "Universidad Nacional de Trujillo"
        ],
        [
         "630665b99fa239004bddd9b8",
         "Universidad Privada Del Norte - Upn",
         "Universidad Privada del Norte S.A.C."
        ],
        [
         "630665b99fa239004bddd9cf",
         "Universidad San Ignacio De Loyola - Usil",
         "Universidad San Ignacio de Loyola S.R.L."
        ],
        [
         "630665b99fa239004bddd9dd",
         "Universidad Peruana De Ciencias Aplicadas",
         "Universidad Peruana de Ciencias Aplicadas S.A.C."
        ],
        [
         "630665b99fa239004bddd9f9",
         "Universidad San Ignacio De Loyola - Usil",
         "Universidad San Ignacio de Loyola S.R.L."
        ],
        [
         "630665b99fa239004bddda07",
         "Jorge Basadre Grohmann 6089",
         "Universidad Nacional Jorge Basadre Grohmann"
        ],
        [
         "630665b99fa239004bddda21",
         "Universidad Tecnologica Del Peru",
         "Universidad Tecnológica del Perú S.A.C."
        ],
        [
         "630665b99fa239004bddda37",
         "Universidad Privada Del Norte",
         "Universidad Privada del Norte S.A.C."
        ],
        [
         "630665b99fa239004bddda55",
         "Universidad Privada Del Norte",
         "Universidad Privada del Norte S.A.C."
        ],
        [
         "630665b99fa239004bddda5c",
         "Universidad Tecnológica Del Perú",
         "Universidad Tecnológica del Perú S.A.C."
        ],
        [
         "630665b99fa239004bddda6b",
         "Lalito José María Arguedas",
         "Universidad Nacional José María Arguedas"
        ],
        [
         "630665b99fa239004bddda8d",
         "Universidad Privada Del Norte",
         "Universidad Privada del Norte S.A.C."
        ],
        [
         "630665b99fa239004bdddaba",
         "Universidad Privada Del Norte - Upn",
         "Universidad Privada del Norte S.A.C."
        ],
        [
         "630665b99fa239004bdddacb",
         "Universidad Cesar Vallejo",
         "Universidad César Vallejo S.A.C."
        ],
        [
         "630665b99fa239004bdddacb",
         "Universidad De San Martin De Porres",
         "Universidad de San Martín de Porres"
        ],
        [
         "630665b99fa239004bdddad5",
         "Universidad César Vallejo",
         "Universidad César Vallejo S.A.C."
        ],
        [
         "630665b99fa239004bdddae7",
         "Utp",
         "Universidad Tecnológica del Perú S.A.C."
        ],
        [
         "630665b99fa239004bdddb21",
         "Universidad Nacional Daniel Alcides Carrion",
         "Universidad Nacional Daniel Alcides Carrión"
        ],
        [
         "630665b99fa239004bdddb66",
         "Isil ( Instituto San Ignacio De Loyola)",
         "Universidad San Ignacio de Loyola S.R.L."
        ],
        [
         "630665b99fa239004bdddb6e",
         "Universidad Autonoma De  Ica",
         "Universidad Autónoma de Ica S.A.C."
        ],
        [
         "630665b99fa239004bdddb8f",
         "Universidad Nacional Mayor De San Marcos",
         "Universidad Nacional Mayor de San Marcos"
        ],
        [
         "630665b99fa239004bdddb97",
         "Instituto San Ignacio De Loyola - Isil",
         "Universidad San Ignacio de Loyola S.R.L."
        ],
        [
         "630665b99fa239004bdddbc3",
         "Utp",
         "Universidad Tecnológica del Perú S.A.C."
        ],
        [
         "630665b99fa239004bdddbd7",
         "Universidad Privada Norbert Wiener - U Wiener",
         "Universidad Privada Norbert Wiener S.A."
        ],
        [
         "630665b99fa239004bdddbe7",
         "Universidad Peruana De Ciencias Aplicadas",
         "Universidad Peruana de Ciencias Aplicadas S.A.C."
        ],
        [
         "630665b99fa239004bdddbf9",
         "Universidad San Ignacio De Loyola",
         "Universidad San Ignacio de Loyola S.R.L."
        ],
        [
         "630665b99fa239004bdddc00",
         "Universidad Cesar Vallejo",
         "Universidad César Vallejo S.A.C."
        ],
        [
         "630665b99fa239004bdddc12",
         "Universidad Nacional Mayor De San Marcos",
         "Universidad Nacional Mayor de San Marcos"
        ],
        [
         "630665b99fa239004bdddc19",
         "Universidad Cesar Vallejo",
         "Universidad César Vallejo S.A.C."
        ],
        [
         "630665b99fa239004bdddc25",
         "Universidad Del Pacifico",
         "Universidad del Pacífico"
        ],
        [
         "630665b99fa239004bdddc2d",
         "Universidad Privada Del Norte",
         "Universidad Privada del Norte S.A.C."
        ],
        [
         "630665b99fa239004bdddc38",
         "Upc - Universidad Peruana De Ciencias Aplicadas",
         "Universidad Peruana de Ciencias Aplicadas S.A.C."
        ],
        [
         "630665b99fa239004bdddc93",
         "Universidad Tecnologica Del Peru",
         "Universidad Tecnológica del Perú S.A.C."
        ],
        [
         "630665b99fa239004bdddcae",
         "Universidad Cesar Vallejo",
         "Universidad César Vallejo S.A.C."
        ],
        [
         "630665b99fa239004bdddce4",
         "Universidad Cesar Vallejo - Ucv",
         "Universidad César Vallejo S.A.C."
        ],
        [
         "630665b99fa239004bdddcf4",
         "Universidad Nacional Federico Villarreal",
         "Universidad Nacional Federico Villarreal"
        ],
        [
         "630665b99fa239004bdddcfb",
         "Universidad  Maria Auxiliadora",
         "Universidad María Auxiliadora S.A.C."
        ],
        [
         "630665b99fa239004bdddd04",
         "Universidad Tecnológica Del Perú",
         "Universidad Tecnológica del Perú S.A.C."
        ],
        [
         "630665b99fa239004bdddd2f",
         "Universidad César Vallejo",
         "Universidad César Vallejo S.A.C."
        ],
        [
         "630665b99fa239004bdddd45",
         "Universidad Cesar Vallejo - Ucv",
         "Universidad César Vallejo S.A.C."
        ],
        [
         "630665b99fa239004bdddd4e",
         "Universidad Tecnológica Del Perú",
         "Universidad Tecnológica del Perú S.A.C."
        ],
        [
         "630665bc594e18004af0822c",
         "Univeridad Privada Del Norte",
         "Universidad Privada del Norte S.A.C."
        ],
        [
         "630665bc594e18004af0823a",
         "Cesar Vallejo",
         "Universidad César Vallejo S.A.C."
        ],
        [
         "630665bc594e18004af0824c",
         "Universidad Tecnológica Del Perú",
         "Universidad Tecnológica del Perú S.A.C."
        ],
        [
         "630665bc594e18004af08254",
         "Universidad Nacional Del Callao",
         "Universidad Nacional del Callao"
        ],
        [
         "630665bc594e18004af08276",
         "Universidad De San Martin De Porres - Usmp",
         "Universidad de San Martín de Porres"
        ],
        [
         "630665bc594e18004af08294",
         "Universidad Privada Del Norte",
         "Universidad Privada del Norte S.A.C."
        ],
        [
         "630665bc594e18004af0829b",
         "Universidad Cesar Vallejo - Ucv",
         "Universidad César Vallejo S.A.C."
        ],
        [
         "630665bc594e18004af082b7",
         "Upc",
         "Universidad Peruana de Ciencias Aplicadas S.A.C."
        ],
        [
         "630665bc594e18004af082be",
         "Universidad Privada Del Norte",
         "Universidad Privada del Norte S.A.C."
        ],
        [
         "630665bc594e18004af082cf",
         "Universidad Privada Del Norte (upn)",
         "Universidad Privada del Norte S.A.C."
        ],
        [
         "630665bc594e18004af082f7",
         "Universidad Peruana De Ciencias Aplicadas",
         "Universidad Peruana de Ciencias Aplicadas S.A.C."
        ],
        [
         "630665bc594e18004af082f7",
         "I.e Por Convenio 000 María Auxiliadora",
         "Universidad María Auxiliadora S.A.C."
        ],
        [
         "630665bc594e18004af08302",
         "Universidad Católica De Santa María",
         "Universidad Católica de Santa María"
        ],
        [
         "630665bc594e18004af08312",
         "Universidad Privada Del Norte",
         "Universidad Privada del Norte S.A.C."
        ],
        [
         "630665bc594e18004af08320",
         "Universidad San Ignacio De Loyola",
         "Universidad San Ignacio de Loyola S.R.L."
        ],
        [
         "630665bc594e18004af0834e",
         "Universidad Privada Del Norte",
         "Universidad Privada del Norte S.A.C."
        ],
        [
         "630665bc594e18004af08373",
         "Upc",
         "Universidad Peruana de Ciencias Aplicadas S.A.C."
        ],
        [
         "630665bc594e18004af0837b",
         "Universidad Nacional Del Callao - Unac",
         "Universidad Nacional del Callao"
        ],
        [
         "630665bc594e18004af0839c",
         "Universidad Nacional De Ingeniería",
         "Universidad Nacional de Ingeniería"
        ],
        [
         "630665bc594e18004af083a4",
         "Cesar Vallejo",
         "Universidad César Vallejo S.A.C."
        ],
        [
         "630665bc594e18004af083b6",
         "Universidad Nacional Federico Villarreal",
         "Universidad Nacional Federico Villarreal"
        ],
        [
         "630665bc594e18004af083cb",
         "Universidad Tecnológica Del Perú",
         "Universidad Tecnológica del Perú S.A.C."
        ],
        [
         "630665bc594e18004af083dc",
         "Universidad Tecnológica Del Perú - Utp",
         "Universidad Tecnológica del Perú S.A.C."
        ],
        [
         "630665bc594e18004af083eb",
         "Universidad Católica San Pablo",
         "Universidad Católica San Pablo"
        ],
        [
         "630665bc594e18004af083f2",
         "Upc",
         "Universidad Peruana de Ciencias Aplicadas S.A.C."
        ],
        [
         "630665bc594e18004af083f8",
         "Universidad Nacional Mayor De San Marcos",
         "Universidad Nacional Mayor de San Marcos"
        ],
        [
         "630665bc594e18004af083ff",
         "Universidad Privada Del Norte",
         "Universidad Privada del Norte S.A.C."
        ],
        [
         "630665bc594e18004af0842f",
         "Universidad César Vallejo",
         "Universidad César Vallejo S.A.C."
        ],
        [
         "630665bc594e18004af08437",
         "Universidad Cesar Vallejo",
         "Universidad César Vallejo S.A.C."
        ],
        [
         "630665bc594e18004af08444",
         "Upn",
         "Universidad Privada del Norte S.A.C."
        ],
        [
         "630665bc594e18004af08454",
         "Upc",
         "Universidad Peruana de Ciencias Aplicadas S.A.C."
        ],
        [
         "630665bc594e18004af0845b",
         "Universidad Privada Del Norte - Unp",
         "Universidad Privada del Norte S.A.C."
        ],
        [
         "630665bc594e18004af08470",
         "Universidad Peruana De Ciencias Aplicadas - Upc",
         "Universidad Peruana de Ciencias Aplicadas S.A.C."
        ],
        [
         "630665bc594e18004af084a2",
         "Utp",
         "Universidad Tecnológica del Perú S.A.C."
        ],
        [
         "630665bc594e18004af084b1",
         "Universidad Nacional Federico Villarreal",
         "Universidad Nacional Federico Villarreal"
        ],
        [
         "630665bc594e18004af084b9",
         "Utp",
         "Universidad Tecnológica del Perú S.A.C."
        ],
        [
         "630665bc594e18004af084e5",
         "Universidad San Ignacio De Loyola - Usil",
         "Universidad San Ignacio de Loyola S.R.L."
        ],
        [
         "630665bc594e18004af084fc",
         "Universidad Nacional De Trujillo",
         "Universidad Nacional de Trujillo"
        ],
        [
         "630665bc594e18004af08506",
         "Universidad Privada Del Norte",
         "Universidad Privada del Norte S.A.C."
        ],
        [
         "630665bc594e18004af0850c",
         "Universidad Tecnológica Del Perú",
         "Universidad Tecnológica del Perú S.A.C."
        ],
        [
         "630665bc594e18004af0853c",
         "Universidad César Vallejo (ucv)",
         "Universidad César Vallejo S.A.C."
        ],
        [
         "630665bc594e18004af08543",
         "Utp",
         "Universidad Tecnológica del Perú S.A.C."
        ],
        [
         "630665bc594e18004af0855a",
         "Cesar Vallejo",
         "Universidad César Vallejo S.A.C."
        ],
        [
         "630665bc594e18004af08567",
         "Universidad Peruana Los Andes",
         "Universidad Peruana Los Andes"
        ],
        [
         "630665bc594e18004af0856d",
         "Universidad San Ignacio De Loyola - Usil",
         "Universidad San Ignacio de Loyola S.R.L."
        ],
        [
         "630665bc594e18004af08575",
         "Universidad Privada Del Norte",
         "Universidad Privada del Norte S.A.C."
        ],
        [
         "630665bc594e18004af0857d",
         "Universidad Nacional Jose Faustino Sanchez Carrion",
         "Universidad Nacional José Faustino Sánchez Carrión"
        ],
        [
         "630665bc594e18004af085c9",
         "Universidad Tecnológica Del Perú",
         "Universidad Tecnológica del Perú S.A.C."
        ],
        [
         "630665bc594e18004af085e1",
         "Universidad Ricardo Palma",
         "Universidad Ricardo Palma"
        ],
        [
         "630665bc594e18004af085ec",
         "Universidad Privada Del Norte",
         "Universidad Privada del Norte S.A.C."
        ],
        [
         "630665bc594e18004af085ec",
         "Universidad Cesar Vallejo",
         "Universidad César Vallejo S.A.C."
        ],
        [
         "630665bc594e18004af085f8",
         "Universidad Cesar Vallejo",
         "Universidad César Vallejo S.A.C."
        ],
        [
         "630665bc594e18004af08617",
         "Universidad Marcelino Champagnat",
         "Universidad Marcelino Champagnat"
        ],
        [
         "630665bc594e18004af08652",
         "Universidad Cesar Vallejo",
         "Universidad César Vallejo S.A.C."
        ],
        [
         "630665bc594e18004af0868e",
         "Universidad Tecnológica Del Perú - Utp",
         "Universidad Tecnológica del Perú S.A.C."
        ],
        [
         "630665bc594e18004af08695",
         "Universidad Ricardo Palma",
         "Universidad Ricardo Palma"
        ],
        [
         "630665bc594e18004af0869e",
         "Universidad Cesar Vallejo - Ucv",
         "Universidad César Vallejo S.A.C."
        ],
        [
         "630665bc594e18004af086ae",
         "Universidad Privada San Juan Bautista - Upsjb",
         "Universidad Privada San Juan Bautista S.A.C."
        ],
        [
         "630665bc594e18004af086f5",
         "Universidad Nacional De Ingenieria",
         "Universidad Nacional de Ingeniería"
        ],
        [
         "630665bc594e18004af086f5",
         "Colegio La Salle",
         "Universidad La Salle"
        ],
        [
         "630665bc594e18004af08714",
         "Usil",
         "Universidad San Ignacio de Loyola S.R.L."
        ],
        [
         "630665bc594e18004af0871c",
         "Universidad César Vallejo",
         "Universidad César Vallejo S.A.C."
        ],
        [
         "630665bc594e18004af08725",
         "Universidad Nacional De San Martín",
         "Universidad Nacional de San Martín"
        ],
        [
         "630665bc594e18004af08730",
         "Universidad Tecnológica Del Perú",
         "Universidad Tecnológica del Perú S.A.C."
        ],
        [
         "630665bc594e18004af0873f",
         "Instituto San Ignacio De Loyola - Isil",
         "Universidad San Ignacio de Loyola S.R.L."
        ],
        [
         "630665bc594e18004af0873f",
         "Universidad De San Martin De Porres - Usmp",
         "Universidad de San Martín de Porres"
        ],
        [
         "630665bc594e18004af0874c",
         "Universidad San Marcos",
         "Universidad Nacional Mayor de San Marcos"
        ],
        [
         "630665bc9fa239004bddfb80",
         "Daniel Alcides Carrion",
         "Universidad Nacional Daniel Alcides Carrión"
        ],
        [
         "630665bc9fa239004bddfb86",
         "Universidad Privada Del Norte",
         "Universidad Privada del Norte S.A.C."
        ],
        [
         "630665bc9fa239004bddfb98",
         "Universidad Privada Del Norte",
         "Universidad Privada del Norte S.A.C."
        ],
        [
         "630665bc9fa239004bddfbb4",
         "Upc",
         "Universidad Peruana de Ciencias Aplicadas S.A.C."
        ],
        [
         "630665bc9fa239004bddfbc6",
         "Universidad Peruana De Ciencias Aplicadas",
         "Universidad Peruana de Ciencias Aplicadas S.A.C."
        ],
        [
         "630665bc9fa239004bddfbd5",
         "Universidad Nacional Federico Villarreal",
         "Universidad Nacional Federico Villarreal"
        ],
        [
         "630665bc9fa239004bddfbe4",
         "Universidad Tecnológica De Los Andes",
         "Universidad Tecnológica de los Andes"
        ],
        [
         "630665bc9fa239004bddfc04",
         "Universidad Nacional De San Cristóbal De Huamanga",
         "Universidad Nacional de San Cristóbal de Huamanga"
        ],
        [
         "630665bc9fa239004bddfc40",
         "Upn",
         "Universidad Privada del Norte S.A.C."
        ],
        [
         "630665bc9fa239004bddfc50",
         "Universidad Cesar Vallejo",
         "Universidad César Vallejo S.A.C."
        ],
        [
         "630665bc9fa239004bddfc57",
         "Universidad Cesar Vallejo",
         "Universidad César Vallejo S.A.C."
        ],
        [
         "630665bc9fa239004bddfcb6",
         "Universidad Nacional Federico Villarreal",
         "Universidad Nacional Federico Villarreal"
        ],
        [
         "630665bc9fa239004bddfcbd",
         "San Ignacio De Loyola",
         "Universidad San Ignacio de Loyola S.R.L."
        ],
        [
         "630665bc9fa239004bddfcd6",
         "San Ignacio De Loyola",
         "Universidad San Ignacio de Loyola S.R.L."
        ],
        [
         "630665bc9fa239004bddfcee",
         "Universidad Cesar Vallejo",
         "Universidad César Vallejo S.A.C."
        ],
        [
         "630665bc9fa239004bddfd00",
         "Universidad San Martín De Porres",
         "Universidad de San Martín de Porres"
        ],
        [
         "630665bc9fa239004bddfd07",
         "Universidad Privada Del Norte",
         "Universidad Privada del Norte S.A.C."
        ],
        [
         "630665bc9fa239004bddfd0e",
         "Universidad San Martin De Porres",
         "Universidad de San Martín de Porres"
        ],
        [
         "630665bc9fa239004bddfd0e",
         "Universidad Católica Santo Toribio De Mogrovejo",
         "Universidad Católica Santo Toribio de Mogrovejo"
        ],
        [
         "630665bc9fa239004bddfd18",
         "Universidad Nacional De Piura",
         "Universidad Nacional de Piura"
        ],
        [
         "630665bc9fa239004bddfd26",
         "Universidad Peruana De Ciencias Aplicadas (upc)",
         "Universidad Peruana de Ciencias Aplicadas S.A.C."
        ],
        [
         "630665bc9fa239004bddfd26",
         "Enrique Guzmán Y Valle 3084",
         "Universidad Nacional de Educación Enrique Guzmán y Valle"
        ],
        [
         "630665bc9fa239004bddfd32",
         "Utp",
         "Universidad Tecnológica del Perú S.A.C."
        ],
        [
         "630665bd9fa239004bddfd47",
         "Universidad San Martin De Porres",
         "Universidad de San Martín de Porres"
        ],
        [
         "630665bd9fa239004bddfd4f",
         "Universidad César Vallejo",
         "Universidad César Vallejo S.A.C."
        ],
        [
         "630665bd9fa239004bddfd6e",
         "Univesidad San Ignacio De Loyola",
         "Universidad San Ignacio de Loyola S.R.L."
        ],
        [
         "630665bd9fa239004bddfd88",
         "Universidad César Vallejo",
         "Universidad César Vallejo S.A.C."
        ],
        [
         "630665bd9fa239004bddfd8e",
         "Universidad Privada Del Norte",
         "Universidad Privada del Norte S.A.C."
        ],
        [
         "630665bd9fa239004bddfd95",
         "Universidad Nacional De Piura",
         "Universidad Nacional de Piura"
        ],
        [
         "630665bd9fa239004bddfd95",
         "Escuela Técnica Superior De La Universidad Nacional De Piura",
         "Universidad Nacional de Piura"
        ],
        [
         "630665bd9fa239004bddfd9d",
         "Universidad Andina Del Cusco",
         "Universidad Andina del Cusco"
        ],
        [
         "630665bd9fa239004bddfda3",
         "Universidad De Lima",
         "Universidad de Lima"
        ],
        [
         "630665bd9fa239004bddfdaf",
         "Instituto Continental",
         "Universidad Continental S.A.C."
        ],
        [
         "630665bd9fa239004bddfdc7",
         "Universidad Del Pacífico",
         "Universidad del Pacífico"
        ],
        [
         "630665bd9fa239004bddfdcd",
         "Universidad Nacional De Piura",
         "Universidad Nacional de Piura"
        ],
        [
         "630665bd9fa239004bddfdd5",
         "Universidad Privada Antenor Orrego",
         "Universidad Privada Antenor Orrego"
        ],
        [
         "630665bd9fa239004bddfdf2",
         "Universidad Peruana De Ciencias Aplicadas",
         "Universidad Peruana de Ciencias Aplicadas S.A.C."
        ],
        [
         "630665bd9fa239004bddfe03",
         "Universidad Peruana De Ciencias Aplicadas",
         "Universidad Peruana de Ciencias Aplicadas S.A.C."
        ],
        [
         "630665bd9fa239004bddfe19",
         "Universidad De Lima - Ulima",
         "Universidad de Lima"
        ],
        [
         "630665bd9fa239004bddfe20",
         "Universidad Nacional Del Centro Del Perú",
         "Universidad Nacional del Centro del Perú"
        ],
        [
         "630665bd9fa239004bddfe27",
         "Upn",
         "Universidad Privada del Norte S.A.C."
        ],
        [
         "630665bd9fa239004bddfe3e",
         "Universidad Privada Del Norte",
         "Universidad Privada del Norte S.A.C."
        ],
        [
         "630665bd9fa239004bddfe44",
         "Universidad Privada Del Norte",
         "Universidad Privada del Norte S.A.C."
        ],
        [
         "630665bd9fa239004bddfe5a",
         "I.e. Santiago Antúnez De Mayolo",
         "Universidad Nacional Santiago Antúnez de Mayolo"
        ],
        [
         "630665bd9fa239004bddfe7b",
         "Universidad De San Martin De Porres",
         "Universidad de San Martín de Porres"
        ],
        [
         "630665bd9fa239004bddfe83",
         "Universidad Peruana De Ciencias Aplicadas",
         "Universidad Peruana de Ciencias Aplicadas S.A.C."
        ],
        [
         "630665bd9fa239004bddfe89",
         "Universidad Privada Del Norte",
         "Universidad Privada del Norte S.A.C."
        ],
        [
         "630665bd9fa239004bddfe89",
         "Instituto Superior Tecnologico Publico San Marcos",
         "Universidad Nacional Mayor de San Marcos"
        ],
        [
         "630665bd9fa239004bddfeb0",
         "Universidad Peruana De Ciencias Aplicadas",
         "Universidad Peruana de Ciencias Aplicadas S.A.C."
        ],
        [
         "630665bd9fa239004bddfecb",
         "San Luis Gonzaga De Ica",
         "Universidad Nacional San Luis Gonzaga de Ica"
        ],
        [
         "630665bd9fa239004bddfed5",
         "Daniel Alcides Carrión",
         "Universidad Nacional Daniel Alcides Carrión"
        ],
        [
         "630665bd9fa239004bddff00",
         "Universidad Privada Del Norte",
         "Universidad Privada del Norte S.A.C."
        ],
        [
         "630665bd9fa239004bddff07",
         "Uac",
         "Universidad Andina del Cusco"
        ],
        [
         "630665bd9fa239004bddff0e",
         "San Ignacio De Loyola",
         "Universidad San Ignacio de Loyola S.R.L."
        ],
        [
         "630665bd9fa239004bddff1d",
         "Institulo Continental",
         "Universidad Continental S.A.C."
        ],
        [
         "630665bd9fa239004bddff2b",
         "Universidad Privada Del Norte",
         "Universidad Privada del Norte S.A.C."
        ],
        [
         "630665bd9fa239004bddff40",
         "Universidad Privada Del Norte",
         "Universidad Privada del Norte S.A.C."
        ],
        [
         "630665bd9fa239004bddff63",
         "Universidad San Martín De Porres",
         "Universidad de San Martín de Porres"
        ],
        [
         "630665bd9fa239004bddff7c",
         "Universidad San Martin De Porres",
         "Universidad de San Martín de Porres"
        ],
        [
         "630665bd9fa239004bddff95",
         "Universidad Privada Del Norte",
         "Universidad Privada del Norte S.A.C."
        ],
        [
         "630665bd9fa239004bddff9d",
         "Upn",
         "Universidad Privada del Norte S.A.C."
        ],
        [
         "630665bd9fa239004bddffa5",
         "San Martín De Porres",
         "Universidad de San Martín de Porres"
        ],
        [
         "630665bd9fa239004bddffb9",
         "Universidad Privada Del Norte - Upn",
         "Universidad Privada del Norte S.A.C."
        ],
        [
         "630665bd9fa239004bddffc1",
         "Universidad Nacional Federico Villarreal",
         "Universidad Nacional Federico Villarreal"
        ],
        [
         "630665bd9fa239004bddffcf",
         "Usmp",
         "Universidad de San Martín de Porres"
        ],
        [
         "630665bd9fa239004bddffdd",
         "Instituto San Ignacio De Loyola",
         "Universidad San Ignacio de Loyola S.R.L."
        ],
        [
         "630665bd9fa239004bddffe6",
         "Universidad Señor De Sipan",
         "Universidad Señor de Sipán S.A.C."
        ],
        [
         "630665bd9fa239004bde001f",
         "Universidad San Ignacio De Loyola",
         "Universidad San Ignacio de Loyola S.R.L."
        ],
        [
         "630665bd9fa239004bde0028",
         "Universidad Esan",
         "Universidad ESAN"
        ],
        [
         "630665bd9fa239004bde0030",
         "Universidad Nacional Federico Villarreal - Unfv",
         "Universidad Nacional Federico Villarreal"
        ],
        [
         "630665bd9fa239004bde003b",
         "Universidad Catolica San Pablo",
         "Universidad Católica San Pablo"
        ],
        [
         "630665bd9fa239004bde0049",
         "Universidad Andina Del Cusco",
         "Universidad Andina del Cusco"
        ],
        [
         "630665bd9fa239004bde0051",
         "Universidad Tecnológica De Los Andes",
         "Universidad Tecnológica de los Andes"
        ],
        [
         "630665bd9fa239004bde0051",
         "I.e.p San Martín De Porres",
         "Universidad de San Martín de Porres"
        ],
        [
         "630665bd9fa239004bde005b",
         "Universidad De San Martin De Porres - Lima",
         "Universidad de San Martín de Porres"
        ],
        [
         "630665bd9fa239004bde006d",
         "Universidad Cesar Vallejo - Ucv",
         "Universidad César Vallejo S.A.C."
        ],
        [
         "630665bd9fa239004bde0073",
         "Universidad Nacional Federico Villarreal - Unfv",
         "Universidad Nacional Federico Villarreal"
        ],
        [
         "630665bd9fa239004bde008a",
         "Universidad Andina Del Cusco",
         "Universidad Andina del Cusco"
        ],
        [
         "630665bd9fa239004bde0094",
         "Universidad Ricardo Palma",
         "Universidad Ricardo Palma"
        ],
        [
         "630665bd9fa239004bde009b",
         "Universidad Privada Del Norte",
         "Universidad Privada del Norte S.A.C."
        ],
        [
         "630665bd9fa239004bde00a3",
         "Universidad Peruana De Ciencias Aplicadas",
         "Universidad Peruana de Ciencias Aplicadas S.A.C."
        ],
        [
         "630665bd9fa239004bde00a9",
         "Universidad Privada San Juan Bautista",
         "Universidad Privada San Juan Bautista S.A.C."
        ],
        [
         "630665bd9fa239004bde00b9",
         "Universidad Peruana De Ciencias Aplicadas",
         "Universidad Peruana de Ciencias Aplicadas S.A.C."
        ],
        [
         "630665bd9fa239004bde00c7",
         "Universidad Cesar Vallejo",
         "Universidad César Vallejo S.A.C."
        ],
        [
         "630665bd9fa239004bde00d5",
         "Universidad Nacional Tecnológica De Lima Sur",
         "Universidad Nacional Tecnológica de Lima Sur"
        ],
        [
         "630665bd9fa239004bde00d5",
         "Universidad Tecnológica Del Perú",
         "Universidad Tecnológica del Perú S.A.C."
        ],
        [
         "630665bd9fa239004bde00f4",
         "San Ignacio De Loyola",
         "Universidad San Ignacio de Loyola S.R.L."
        ],
        [
         "630665bd9fa239004bde011a",
         "Universidad Nacional De Piura",
         "Universidad Nacional de Piura"
        ],
        [
         "630665bd9fa239004bde0128",
         "Universidad Privada Del Norte",
         "Universidad Privada del Norte S.A.C."
        ],
        [
         "630665bd9fa239004bde0143",
         "Utp",
         "Universidad Tecnológica del Perú S.A.C."
        ],
        [
         "630665bd9fa239004bde014e",
         "Centro De Idiomas De La Universidad De San Martín De Porres",
         "Universidad de San Martín de Porres"
        ],
        [
         "630665bd9fa239004bde014e",
         "Universidad De San Martín De Porres",
         "Universidad de San Martín de Porres"
        ],
        [
         "630665bd9fa239004bde015c",
         "Univerisdad Privada Del Norte",
         "Universidad Privada del Norte S.A.C."
        ],
        [
         "630665bd9fa239004bde0199",
         "Universidad César Vallejo",
         "Universidad César Vallejo S.A.C."
        ],
        [
         "630665bd9fa239004bde01ae",
         "Universidad Cesar Vallejo - Ucv",
         "Universidad César Vallejo S.A.C."
        ],
        [
         "630665bd9fa239004bde01b6",
         "Instituto San Ignacio De Loyola - Isil",
         "Universidad San Ignacio de Loyola S.R.L."
        ],
        [
         "630665bd9fa239004bde01c6",
         "Universidad Privada Del Norte",
         "Universidad Privada del Norte S.A.C."
        ],
        [
         "630665bd9fa239004bde01cd",
         "Upla",
         "Universidad Peruana Los Andes"
        ],
        [
         "630665bd9fa239004bde01ef",
         "Universidad Privada Del Norte",
         "Universidad Privada del Norte S.A.C."
        ],
        [
         "630665bd9fa239004bde020c",
         "Universidad Católica Santo Toribio De Mogrovejo",
         "Universidad Católica Santo Toribio de Mogrovejo"
        ],
        [
         "630665bd9fa239004bde0214",
         "Universidad Tecnológica Del Perú",
         "Universidad Tecnológica del Perú S.A.C."
        ],
        [
         "630665bd9fa239004bde0214",
         "Unalm",
         "Universidad Nacional Agraria La Molina"
        ],
        [
         "630665bd9fa239004bde021f",
         "Universidad Tecnológica Del Perú",
         "Universidad Tecnológica del Perú S.A.C."
        ],
        [
         "630665bd9fa239004bde0225",
         "Universidad Andina Del Cusco",
         "Universidad Andina del Cusco"
        ],
        [
         "630665bd9fa239004bde022e",
         "Universidad Privada Del Norte",
         "Universidad Privada del Norte S.A.C."
        ],
        [
         "630665bd9fa239004bde027f",
         "Universidad Privada Del Norte",
         "Universidad Privada del Norte S.A.C."
        ],
        [
         "630665bd9fa239004bde0296",
         "Santo Toribio De Mogrovejo",
         "Universidad Católica Santo Toribio de Mogrovejo"
        ],
        [
         "630665bd9fa239004bde02b0",
         "Universidad Peruana Los Andes",
         "Universidad Peruana Los Andes"
        ],
        [
         "630665bd9fa239004bde02bb",
         "Pontificia Universidad Católica Del Perú",
         "Pontificia Universidad Católica del Perú"
        ],
        [
         "630665bd9fa239004bde02d9",
         "Undac",
         "Universidad Nacional Daniel Alcides Carrión"
        ],
        [
         "630665bd9fa239004bde02e0",
         "Universidad Privada Antenor Orrego",
         "Universidad Privada Antenor Orrego"
        ],
        [
         "630665bd9fa239004bde02e6",
         "Universidad Andina Del Cusco",
         "Universidad Andina del Cusco"
        ],
        [
         "630665bd9fa239004bde02ec",
         "Universidad César Vallejo",
         "Universidad César Vallejo S.A.C."
        ],
        [
         "630665bd9fa239004bde02f4",
         "Universidad Federico Villarreal",
         "Universidad Nacional Federico Villarreal"
        ],
        [
         "630665bd9fa239004bde0300",
         "Universidad Nacional De Piura",
         "Universidad Nacional de Piura"
        ],
        [
         "630665bd9fa239004bde0307",
         "Universidad Cesar Vallejo",
         "Universidad César Vallejo S.A.C."
        ],
        [
         "630665bd9fa239004bde0322",
         "Universidad Privada César Vallejo",
         "Universidad César Vallejo S.A.C."
        ],
        [
         "630665bd9fa239004bde0340",
         "Universidad Católica De Santa Maria",
         "Universidad Católica de Santa María"
        ],
        [
         "630665bd9fa239004bde0347",
         "Universidad Nacional Mayor De San Marcos",
         "Universidad Nacional Mayor de San Marcos"
        ],
        [
         "630665bd9fa239004bde0362",
         "Universidad Cesar Vallejo - Ucv",
         "Universidad César Vallejo S.A.C."
        ],
        [
         "630665bd9fa239004bde0368",
         "Universidad Continental",
         "Universidad Continental S.A.C."
        ],
        [
         "630665bd9fa239004bde0382",
         "Instituto San Ignacio De Loyola",
         "Universidad San Ignacio de Loyola S.R.L."
        ],
        [
         "630665bd9fa239004bde038a",
         "Universidad Cesar Vallejo",
         "Universidad César Vallejo S.A.C."
        ],
        [
         "630665bd9fa239004bde0390",
         "Universidad Nacional De Educación Enrique Guzmán Y Valle",
         "Universidad Nacional de Educación Enrique Guzmán y Valle"
        ],
        [
         "630665bd9fa239004bde03a9",
         "Universidad Peruana De Ciencias Aplicadas",
         "Universidad Peruana de Ciencias Aplicadas S.A.C."
        ],
        [
         "630665bd9fa239004bde03cf",
         "Universidad Privada Del Norte",
         "Universidad Privada del Norte S.A.C."
        ],
        [
         "630665bd9fa239004bde03dd",
         "Universidad Cesar Vallejo",
         "Universidad César Vallejo S.A.C."
        ],
        [
         "630665bd9fa239004bde0412",
         "Universidad Andina Del Cusco",
         "Universidad Andina del Cusco"
        ],
        [
         "630665bd9fa239004bde041a",
         "Universidad Nacional De Trujillo",
         "Universidad Nacional de Trujillo"
        ],
        [
         "630665bd9fa239004bde043f",
         "Universidad Cesar Vallejo",
         "Universidad César Vallejo S.A.C."
        ],
        [
         "630665bd9fa239004bde046f",
         "Universidad Privada Del Norte",
         "Universidad Privada del Norte S.A.C."
        ],
        [
         "630665bd9fa239004bde047e",
         "Universidad Tecnologica Del Peru",
         "Universidad Tecnológica del Perú S.A.C."
        ],
        [
         "630665bd9fa239004bde0491",
         "Universidad Tecnológica Del Perú",
         "Universidad Tecnológica del Perú S.A.C."
        ],
        [
         "630665bd9fa239004bde049f",
         "Unife",
         "Universidad Femenina del Sagrado Corazón"
        ],
        [
         "630665bd9fa239004bde04ab",
         "Universidad Privada Del Norte",
         "Universidad Privada del Norte S.A.C."
        ],
        [
         "630665bd9fa239004bde04b8",
         "Universidad Católica De Trujillo Benedicto Xvi",
         "Universidad Católica de Trujillo Benedicto XVI"
        ],
        [
         "630665bd9fa239004bde04bf",
         "Universidad Autónoma Del Perú",
         "Universidad Autónoma del Perú S.A.C."
        ],
        [
         "630665bd9fa239004bde04e9",
         "Upn",
         "Universidad Privada del Norte S.A.C."
        ],
        [
         "630665bd9fa239004bde04fd",
         "Universidad Cesar Vallejo - Ucv",
         "Universidad César Vallejo S.A.C."
        ],
        [
         "630665bd9fa239004bde0508",
         "Universidad Nacional Del Callao",
         "Universidad Nacional del Callao"
        ],
        [
         "630665bd9fa239004bde051f",
         "Universidad Esan",
         "Universidad ESAN"
        ],
        [
         "630665bd9fa239004bde052e",
         "Instituto San Ignacio De Loyola",
         "Universidad San Ignacio de Loyola S.R.L."
        ],
        [
         "630665bd9fa239004bde0534",
         "Universidad De San Martín De Porres",
         "Universidad de San Martín de Porres"
        ],
        [
         "630665bd9fa239004bde053a",
         "Universidad Cientifica Del Sur",
         "Universidad Científica del Sur S.A.C."
        ],
        [
         "630665bd9fa239004bde0541",
         "Cesar Vallejo",
         "Universidad César Vallejo S.A.C."
        ],
        [
         "630665bd9fa239004bde0556",
         "Universidad Nacional Del Altiplano",
         "Universidad Nacional del Altiplano"
        ],
        [
         "630665bd9fa239004bde0562",
         "Usat",
         "Universidad Católica Santo Toribio de Mogrovejo"
        ],
        [
         "630665bd9fa239004bde0570",
         "Universidad Cesar Vallejo",
         "Universidad César Vallejo S.A.C."
        ],
        [
         "630665bd9fa239004bde0580",
         "Universidad Privada Del Norte",
         "Universidad Privada del Norte S.A.C."
        ],
        [
         "630665bd9fa239004bde0594",
         "Universidad Cesar Vallejo",
         "Universidad César Vallejo S.A.C."
        ],
        [
         "630665bd9fa239004bde059a",
         "Universidad Tecnológica Del Perú",
         "Universidad Tecnológica del Perú S.A.C."
        ],
        [
         "630665bd9fa239004bde05a4",
         "Universidad Esan",
         "Universidad ESAN"
        ],
        [
         "630665bd9fa239004bde05c3",
         "Usil",
         "Universidad San Ignacio de Loyola S.R.L."
        ],
        [
         "630665bd9fa239004bde05d4",
         "Universidad Ricardo Palma",
         "Universidad Ricardo Palma"
        ],
        [
         "630665bd9fa239004bde05dc",
         "Universidad Privada Del Norte",
         "Universidad Privada del Norte S.A.C."
        ],
        [
         "630665bd9fa239004bde05e4",
         "Universidad Privada Del Norte",
         "Universidad Privada del Norte S.A.C."
        ],
        [
         "630665bd9fa239004bde05f4",
         "Universidad Nacional De Ucayali",
         "Universidad Nacional de Ucayali"
        ],
        [
         "630665bd9fa239004bde05f4",
         "Universidad Nacional De Ucayali",
         "Universidad Nacional de Ucayali"
        ],
        [
         "630665bd9fa239004bde0600",
         "Universidad Nacional Del Callao - Unac",
         "Universidad Nacional del Callao"
        ],
        [
         "630665bd9fa239004bde0618",
         "Universidad Cesar Vallejo",
         "Universidad César Vallejo S.A.C."
        ],
        [
         "630665bd9fa239004bde0625",
         "Universidad Católica San Pablo",
         "Universidad Católica San Pablo"
        ],
        [
         "630665bd9fa239004bde062c",
         "Universidad Nacional De Ingeniería",
         "Universidad Nacional de Ingeniería"
        ],
        [
         "630665bd9fa239004bde0632",
         "Universidad Femenina Del Sagrado Corazón",
         "Universidad Femenina del Sagrado Corazón"
        ],
        [
         "630665bd9fa239004bde0632",
         "Maria Auxiliadora - Chosica",
         "Universidad María Auxiliadora S.A.C."
        ],
        [
         "630665bd9fa239004bde063d",
         "Universidad Privada Del Norte",
         "Universidad Privada del Norte S.A.C."
        ],
        [
         "630665bd9fa239004bde064f",
         "Universidad Cesar Vallejo",
         "Universidad César Vallejo S.A.C."
        ],
        [
         "630665bd9fa239004bde0682",
         "Universidad Privada Antenor Orrego",
         "Universidad Privada Antenor Orrego"
        ],
        [
         "630665bd9fa239004bde0689",
         "Universidad San Ignacio De Loyola",
         "Universidad San Ignacio de Loyola S.R.L."
        ],
        [
         "630665bd9fa239004bde06a9",
         "Universidad Cesar Vallejo",
         "Universidad César Vallejo S.A.C."
        ],
        [
         "630665bd9fa239004bde06bf",
         "Universidad Cesar Vallejo",
         "Universidad César Vallejo S.A.C."
        ],
        [
         "630665bd9fa239004bde06cb",
         "Universidad San Ignacio De Loyola - Usil",
         "Universidad San Ignacio de Loyola S.R.L."
        ],
        [
         "630665bd9fa239004bde06d9",
         "Unheval",
         "Universidad Nacional Hermilio Valdizán de Huánuco"
        ],
        [
         "630665bd9fa239004bde06e7",
         "Universidad Privada Del Norte",
         "Universidad Privada del Norte S.A.C."
        ],
        [
         "630665bd9fa239004bde06ef",
         "Universidad De Huánuco",
         "Universidad de Huánuco"
        ],
        [
         "630665bd9fa239004bde06f6",
         "San Miguel De La Salle",
         "Universidad La Salle"
        ],
        [
         "630665bd9fa239004bde0733",
         "Universidad Católica Sedes Sapientiae",
         "Universidad Católica Sedes Sapientiae"
        ],
        [
         "630665bd9fa239004bde073a",
         "Universidad Privada Del Norte",
         "Universidad Privada del Norte S.A.C."
        ],
        [
         "630665bd9fa239004bde0740",
         "Universidad Privada Del Norte",
         "Universidad Privada del Norte S.A.C."
        ],
        [
         "630665bd9fa239004bde074f",
         "Universidad Nacional De La Amazonia Peruana (unap)",
         "Universidad Nacional de la Amazonía Peruana"
        ],
        [
         "630665bd9fa239004bde075d",
         "Universidad De Huánuco",
         "Universidad de Huánuco"
        ],
        [
         "630665bd9fa239004bde0782",
         "Universidad Del Pacifico",
         "Universidad del Pacífico"
        ],
        [
         "630665bd9fa239004bde0789",
         "Universidad Privada Antenor Orrego",
         "Universidad Privada Antenor Orrego"
        ],
        [
         "630665bd9fa239004bde0790",
         "Universidad Cesar Vallejo - Ucv",
         "Universidad César Vallejo S.A.C."
        ],
        [
         "630665bd9fa239004bde0799",
         "Universidad Católica De Santa Maria",
         "Universidad Católica de Santa María"
        ],
        [
         "630665bd9fa239004bde07a5",
         "Universidad Privada Del Norte",
         "Universidad Privada del Norte S.A.C."
        ],
        [
         "630665bd9fa239004bde07ac",
         "Universidad Privada Del Norte",
         "Universidad Privada del Norte S.A.C."
        ],
        [
         "630665bd9fa239004bde07cb",
         "Universidad Cesar Vallejo",
         "Universidad César Vallejo S.A.C."
        ],
        [
         "630665bd9fa239004bde07da",
         "Universidad San Ignacio De Loyola",
         "Universidad San Ignacio de Loyola S.R.L."
        ],
        [
         "630665bd9fa239004bde07e9",
         "Universidad Tecnológica Del Perú",
         "Universidad Tecnológica del Perú S.A.C."
        ],
        [
         "630665bd9fa239004bde07f0",
         "Upao",
         "Universidad Privada Antenor Orrego"
        ],
        [
         "630665bd9fa239004bde0802",
         "Universidad Nacional Mayor De San Marcos",
         "Universidad Nacional Mayor de San Marcos"
        ],
        [
         "630665bd9fa239004bde0809",
         "Universidad Cesar Vallejo",
         "Universidad César Vallejo S.A.C."
        ],
        [
         "630665bd9fa239004bde0843",
         "Universidad De Piura",
         "Universidad de Piura"
        ],
        [
         "630665bd9fa239004bde0849",
         "Universidad César Vallejo",
         "Universidad César Vallejo S.A.C."
        ],
        [
         "630665bd9fa239004bde0866",
         "Universidad Tecnológica Del Perú",
         "Universidad Tecnológica del Perú S.A.C."
        ],
        [
         "630665bd9fa239004bde086d",
         "Universidad Privada Del Norte",
         "Universidad Privada del Norte S.A.C."
        ],
        [
         "630665bd9fa239004bde0875",
         "Institución Educativa María Auxiliadora-chulucanas",
         "Universidad María Auxiliadora S.A.C."
        ],
        [
         "630665bd9fa239004bde087c",
         "Universidad Tecnológica Del Perú (utp)",
         "Universidad Tecnológica del Perú S.A.C."
        ],
        [
         "630665bd9fa239004bde088a",
         "Universidad Católica De Trujillo Benedicto Xvi",
         "Universidad Católica de Trujillo Benedicto XVI"
        ],
        [
         "630665bd9fa239004bde08a2",
         "Universidad Cesar Vallejo",
         "Universidad César Vallejo S.A.C."
        ],
        [
         "630665bd9fa239004bde08bc",
         "Universidad Cesar Vallejo",
         "Universidad César Vallejo S.A.C."
        ],
        [
         "630665bd9fa239004bde08de",
         "Universidad Nacional De Piura",
         "Universidad Nacional de Piura"
        ],
        [
         "630665bd9fa239004bde08de",
         "Iep Federico Villarreal",
         "Universidad Nacional Federico Villarreal"
        ],
        [
         "630665bd9fa239004bde08f2",
         "Universidad Privada Del Norte",
         "Universidad Privada del Norte S.A.C."
        ],
        [
         "630665bd9fa239004bde0902",
         "Universidad Privada Del Norte",
         "Universidad Privada del Norte S.A.C."
        ],
        [
         "630665bd9fa239004bde090a",
         "Universidad Privada Del Norte",
         "Universidad Privada del Norte S.A.C."
        ],
        [
         "630665bd9fa239004bde092d",
         "Pontificia Universidad Católica Del Perú",
         "Pontificia Universidad Católica del Perú"
        ],
        [
         "630665bd9fa239004bde0936",
         "Universidad De Piura",
         "Universidad de Piura"
        ],
        [
         "630665bd9fa239004bde0944",
         "Universidad Privada Del Norte",
         "Universidad Privada del Norte S.A.C."
        ],
        [
         "630665bd9fa239004bde094a",
         "Universidad César Vallejo",
         "Universidad César Vallejo S.A.C."
        ],
        [
         "630665bd9fa239004bde095c",
         "Universidad Nacional Micaela Bastidas De Apurímac",
         "Universidad Nacional Micaela Bastidas de Apurímac"
        ],
        [
         "630665bd9fa239004bde0964",
         "Universidad Privada Del Norte",
         "Universidad Privada del Norte S.A.C."
        ],
        [
         "630665bd9fa239004bde096e",
         "Universidad Privada Cesar Vallejo",
         "Universidad César Vallejo S.A.C."
        ],
        [
         "630665bd9fa239004bde097c",
         "Pontificia Universidad Católica Del Perú",
         "Pontificia Universidad Católica del Perú"
        ],
        [
         "630665bd9fa239004bde0988",
         "Universidad Peruana De Ciencias Aplicadas",
         "Universidad Peruana de Ciencias Aplicadas S.A.C."
        ],
        [
         "630665bd9fa239004bde0988",
         "Universidad Nacional José Faustino Sánchez Carrión",
         "Universidad Nacional José Faustino Sánchez Carrión"
        ],
        [
         "630665bd9fa239004bde09a0",
         "Universidad Nacional De Piura",
         "Universidad Nacional de Piura"
        ],
        [
         "630665bd9fa239004bde09ad",
         "Universidad Privada Del Norte",
         "Universidad Privada del Norte S.A.C."
        ],
        [
         "630665bd9fa239004bde09b4",
         "Universidad Andina Del Cusco",
         "Universidad Andina del Cusco"
        ],
        [
         "630665bd9fa239004bde09c1",
         "Universidad Privada Del Norte - Upn",
         "Universidad Privada del Norte S.A.C."
        ],
        [
         "630665bd9fa239004bde09c9",
         "Universidad Continental",
         "Universidad Continental S.A.C."
        ],
        [
         "630665bd9fa239004bde09d4",
         "Universidad Nacional De Trujillo",
         "Universidad Nacional de Trujillo"
        ],
        [
         "630665bd9fa239004bde09e2",
         "Universidad Nacional José Faustino  Sánchez Carrión",
         "Universidad Nacional José Faustino Sánchez Carrión"
        ],
        [
         "630665bd9fa239004bde09eb",
         "Universidad Privada Del Norte",
         "Universidad Privada del Norte S.A.C."
        ],
        [
         "630665bd9fa239004bde09f4",
         "Universidad Peruana De Ciencias Aplicadas",
         "Universidad Peruana de Ciencias Aplicadas S.A.C."
        ],
        [
         "630665bd9fa239004bde0a07",
         "Upc",
         "Universidad Peruana de Ciencias Aplicadas S.A.C."
        ],
        [
         "630665bd9fa239004bde0a12",
         "Universidad Esan",
         "Universidad ESAN"
        ],
        [
         "630665bd9fa239004bde0a30",
         "Upt",
         "Universidad Privada de Tacna"
        ],
        [
         "630665bd9fa239004bde0a4d",
         "Universidad Privada Del Norte",
         "Universidad Privada del Norte S.A.C."
        ],
        [
         "630665bd9fa239004bde0a61",
         "Universidad De San Martin De Porres",
         "Universidad de San Martín de Porres"
        ],
        [
         "630665bd9fa239004bde0a76",
         "Universidad San Martin De Porres",
         "Universidad de San Martín de Porres"
        ],
        [
         "630665bd9fa239004bde0a88",
         "Universidad Cesar Vallejo",
         "Universidad César Vallejo S.A.C."
        ],
        [
         "630665bd9fa239004bde0a8f",
         "Universidad Nacional Federico Villarreal",
         "Universidad Nacional Federico Villarreal"
        ],
        [
         "630665bd9fa239004bde0a95",
         "Universidad Privada Del Norte - Unp",
         "Universidad Privada del Norte S.A.C."
        ],
        [
         "630665bd9fa239004bde0aa8",
         "Universidad Cesar Vallejo",
         "Universidad César Vallejo S.A.C."
        ],
        [
         "630665bd9fa239004bde0aaf",
         "Universidad Privada Del Norte - Upn",
         "Universidad Privada del Norte S.A.C."
        ],
        [
         "630665bd9fa239004bde0abe",
         "Universidad Privada Del Norte",
         "Universidad Privada del Norte S.A.C."
        ],
        [
         "630665bd9fa239004bde0add",
         "Universidad San Ignacio De Loyola",
         "Universidad San Ignacio de Loyola S.R.L."
        ],
        [
         "630665bd9fa239004bde0ae4",
         "Universidad Privada Antenor Orrego",
         "Universidad Privada Antenor Orrego"
        ],
        [
         "630665bd9fa239004bde0aea",
         "San Martin De Porres",
         "Universidad de San Martín de Porres"
        ],
        [
         "630665bd9fa239004bde0af9",
         "Universidad Nacional Micaela Bastidas De Apurímac",
         "Universidad Nacional Micaela Bastidas de Apurímac"
        ],
        [
         "630665bd9fa239004bde0b01",
         "Universidad Cesar Vallejo - Ucv",
         "Universidad César Vallejo S.A.C."
        ],
        [
         "630665bd9fa239004bde0b16",
         "Universidad Nacional Jose Faustino Sanchez Carrion",
         "Universidad Nacional José Faustino Sánchez Carrión"
        ],
        [
         "630665bd9fa239004bde0b22",
         "Universidad Privada De Tacna",
         "Universidad Privada de Tacna"
        ],
        [
         "630665bd9fa239004bde0b39",
         "Univresidad Peruana Unión",
         "Universidad Peruana Unión"
        ],
        [
         "630665bd9fa239004bde0b45",
         "Universidad Privada Antenor Orrego",
         "Universidad Privada Antenor Orrego"
        ],
        [
         "630665bd9fa239004bde0b69",
         "Universidad Católica De Santa María",
         "Universidad Católica de Santa María"
        ],
        [
         "630665bd9fa239004bde0b77",
         "Universidad Privada Del Norte",
         "Universidad Privada del Norte S.A.C."
        ],
        [
         "630665bd9fa239004bde0b9b",
         "Universidad Peruana De Ciencias Aplicadas",
         "Universidad Peruana de Ciencias Aplicadas S.A.C."
        ],
        [
         "630665bd9fa239004bde0ba2",
         "Universidad César Vallejo",
         "Universidad César Vallejo S.A.C."
        ],
        [
         "630665bd9fa239004bde0bb3",
         "Univeraidad Cesar Vallejo",
         "Universidad César Vallejo S.A.C."
        ],
        [
         "630665bd9fa239004bde0bbe",
         "Universidad Peruana De Ciencias Aplicadas (upc)",
         "Universidad Peruana de Ciencias Aplicadas S.A.C."
        ],
        [
         "630665bd9fa239004bde0bca",
         "Universidad Nacional De La Amazonía Peruana",
         "Universidad Nacional de la Amazonía Peruana"
        ],
        [
         "630665bd9fa239004bde0bd1",
         "Universidad Tecnológica Del Perú",
         "Universidad Tecnológica del Perú S.A.C."
        ],
        [
         "630665bd9fa239004bde0bfe",
         "Universidad Cesar Vallejo",
         "Universidad César Vallejo S.A.C."
        ],
        [
         "630665bd9fa239004bde0c05",
         "Upn",
         "Universidad Privada del Norte S.A.C."
        ],
        [
         "630665bd9fa239004bde0c1a",
         "Universidad Privada San Juan Bautista",
         "Universidad Privada San Juan Bautista S.A.C."
        ],
        [
         "630665bd9fa239004bde0c21",
         "Universidad Cesar Vallejo",
         "Universidad César Vallejo S.A.C."
        ],
        [
         "630665bd9fa239004bde0c29",
         "Universidad Tecnológica Del Perú",
         "Universidad Tecnológica del Perú S.A.C."
        ],
        [
         "630665bd9fa239004bde0c35",
         "Universidad Peruana Los Andes (upla)",
         "Universidad Peruana Los Andes"
        ],
        [
         "630665bd9fa239004bde0c3f",
         "Universidad Continental",
         "Universidad Continental S.A.C."
        ],
        [
         "630665bd9fa239004bde0c5c",
         "Universidad Privada Del Norte",
         "Universidad Privada del Norte S.A.C."
        ],
        [
         "630665bd9fa239004bde0c6c",
         "Universidad Privada Del Norte",
         "Universidad Privada del Norte S.A.C."
        ],
        [
         "630665bd9fa239004bde0c72",
         "Universidad Tecnológica Del Perú",
         "Universidad Tecnológica del Perú S.A.C."
        ],
        [
         "630665bd9fa239004bde0c7b",
         "Universidad Privada Del Norte",
         "Universidad Privada del Norte S.A.C."
        ],
        [
         "630665bd9fa239004bde0c82",
         "Universidad Tecnologica Del Peru",
         "Universidad Tecnológica del Perú S.A.C."
        ],
        [
         "630665bd9fa239004bde0c89",
         "Universidad Cesar Vallejo",
         "Universidad César Vallejo S.A.C."
        ],
        [
         "630665bd9fa239004bde0cb7",
         "Universidad Privada Del Norte",
         "Universidad Privada del Norte S.A.C."
        ],
        [
         "630665bd9fa239004bde0cde",
         "Universidad Científica Del Sur",
         "Universidad Científica del Sur S.A.C."
        ],
        [
         "630665bd9fa239004bde0ce6",
         "Universidad Privada Del Norte",
         "Universidad Privada del Norte S.A.C."
        ],
        [
         "630665bd9fa239004bde0ced",
         "Universidad Privada Del Norte",
         "Universidad Privada del Norte S.A.C."
        ],
        [
         "630665bd9fa239004bde0d04",
         "Universidad Católica Santo Toribio De Mogrovejo",
         "Universidad Católica Santo Toribio de Mogrovejo"
        ],
        [
         "630665bd9fa239004bde0d0a",
         "Universidad Católica Sedes Sapientiae",
         "Universidad Católica Sedes Sapientiae"
        ],
        [
         "630665bd9fa239004bde0d18",
         "Universidad Tecnologica Del Peru",
         "Universidad Tecnológica del Perú S.A.C."
        ],
        [
         "630665bd9fa239004bde0d2b",
         "Universidad San Ignacio De Loyola",
         "Universidad San Ignacio de Loyola S.R.L."
        ],
        [
         "630665bd9fa239004bde0d4d",
         "Universidad César Vallejo",
         "Universidad César Vallejo S.A.C."
        ],
        [
         "630665bd9fa239004bde0d96",
         "Universidad San Ignacio De Loyola - Usil",
         "Universidad San Ignacio de Loyola S.R.L."
        ],
        [
         "630665bd9fa239004bde0da0",
         "Universidad Cesar Vallejo - Ucv",
         "Universidad César Vallejo S.A.C."
        ],
        [
         "630665bd9fa239004bde0dba",
         "Universidad Ricardo Palma",
         "Universidad Ricardo Palma"
        ],
        [
         "630665bd9fa239004bde0dc1",
         "Universidad De Piura",
         "Universidad de Piura"
        ],
        [
         "630665bd9fa239004bde0dc7",
         "Universidad Católica San Pablo",
         "Universidad Católica San Pablo"
        ],
        [
         "630665bd9fa239004bde0de2",
         "Universidad Peruana De Ciencias Aplicadas",
         "Universidad Peruana de Ciencias Aplicadas S.A.C."
        ],
        [
         "630665bd9fa239004bde0def",
         "Instituto Continental",
         "Universidad Continental S.A.C."
        ],
        [
         "630665bd9fa239004bde0df5",
         "Universidad Privada Del Norte - Upn",
         "Universidad Privada del Norte S.A.C."
        ],
        [
         "630665bd9fa239004bde0e0b",
         "Universidad Antonio Ruiz De Montoya",
         "Universidad Antonio Ruiz de Montoya"
        ],
        [
         "630665bd9fa239004bde0e11",
         "Universidad Nacional De Piura",
         "Universidad Nacional de Piura"
        ],
        [
         "630665bd9fa239004bde0e4b",
         "Universidad Peruana De Ciencias Aplicadas",
         "Universidad Peruana de Ciencias Aplicadas S.A.C."
        ],
        [
         "630665bd9fa239004bde0e61",
         "Universidad Tecnológica Del Perú",
         "Universidad Tecnológica del Perú S.A.C."
        ],
        [
         "630665bd9fa239004bde0e7a",
         "Universidad Peruana Unión",
         "Universidad Peruana Unión"
        ],
        [
         "630665bd9fa239004bde0e83",
         "Universidad Privada Del Norte",
         "Universidad Privada del Norte S.A.C."
        ],
        [
         "630665bd9fa239004bde0e8a",
         "Universidad César Vallejo",
         "Universidad César Vallejo S.A.C."
        ],
        [
         "630665bd9fa239004bde0e8a",
         "Universidad César Vallejo",
         "Universidad César Vallejo S.A.C."
        ],
        [
         "630665bd9fa239004bde0e8a",
         "Universidad César Vallejo",
         "Universidad César Vallejo S.A.C."
        ],
        [
         "630665bd9fa239004bde0ea9",
         "Universidad Nacional De La Amazonia Peruana",
         "Universidad Nacional de la Amazonía Peruana"
        ],
        [
         "630665bd9fa239004bde0ed2",
         "Universidad Autonoma Del Peru",
         "Universidad Autónoma del Perú S.A.C."
        ],
        [
         "630665bd9fa239004bde0ee6",
         "Universidad De Lima",
         "Universidad de Lima"
        ],
        [
         "630665bd9fa239004bde0f0b",
         "Universidad Peruana De Ciencias Aplicadas - Upc",
         "Universidad Peruana de Ciencias Aplicadas S.A.C."
        ],
        [
         "630665bd9fa239004bde0f2c",
         "Universidad San Ignacio De Loyola - Usil",
         "Universidad San Ignacio de Loyola S.R.L."
        ],
        [
         "630665bd9fa239004bde0f4b",
         "Universidad Nacional De Fronteras",
         "Universidad Nacional de Frontera"
        ],
        [
         "630665bd9fa239004bde0f53",
         "Universidad Privada Del Norte - Upn",
         "Universidad Privada del Norte S.A.C."
        ],
        [
         "630665bd9fa239004bde0f60",
         "Universidad Privada Del Norte",
         "Universidad Privada del Norte S.A.C."
        ],
        [
         "630665bd9fa239004bde0f83",
         "Universidad Cesar Vallejo",
         "Universidad César Vallejo S.A.C."
        ],
        [
         "630665bd9fa239004bde0f8a",
         "Universidad Tecnológica Del Perú - Utp",
         "Universidad Tecnológica del Perú S.A.C."
        ],
        [
         "630665bd9fa239004bde0fa2",
         "Universidad Nacional Agraria La Molina - La Molina",
         "Universidad Nacional Agraria La Molina"
        ],
        [
         "630665bd9fa239004bde0fbb",
         "Universidad César Vallejo",
         "Universidad César Vallejo S.A.C."
        ],
        [
         "630665bd9fa239004bde0fe5",
         "Universidad De Piura",
         "Universidad de Piura"
        ],
        [
         "630665bd9fa239004bde0fed",
         "Universidad Cesar Vallejo",
         "Universidad César Vallejo S.A.C."
        ],
        [
         "630665bd9fa239004bde0ff5",
         "Universidad Autónoma Del Perú - Ua",
         "Universidad Autónoma del Perú S.A.C."
        ],
        [
         "630665bd9fa239004bde0ffe",
         "Instituto Continental",
         "Universidad Continental S.A.C."
        ],
        [
         "630665bd9fa239004bde1004",
         "Pontificia Universidad Católica Del Perú",
         "Pontificia Universidad Católica del Perú"
        ],
        [
         "630665bd9fa239004bde100f",
         "Universidad Privada Del Norte",
         "Universidad Privada del Norte S.A.C."
        ],
        [
         "630665bd9fa239004bde101e",
         "Udep",
         "Universidad de Piura"
        ],
        [
         "630665bd9fa239004bde1035",
         "Universidad Nacional De Piura",
         "Universidad Nacional de Piura"
        ],
        [
         "630665bd9fa239004bde104c",
         "Universidad Andina Del Cusco",
         "Universidad Andina del Cusco"
        ],
        [
         "630665bd9fa239004bde1053",
         "Upn",
         "Universidad Privada del Norte S.A.C."
        ],
        [
         "630665bd9fa239004bde105c",
         "Universidad Ricardo Palma",
         "Universidad Ricardo Palma"
        ],
        [
         "630665bd9fa239004bde1077",
         "Universidad Privada Del Norte",
         "Universidad Privada del Norte S.A.C."
        ],
        [
         "630665bd9fa239004bde1084",
         "Universidad Privada Antenor Orrego",
         "Universidad Privada Antenor Orrego"
        ],
        [
         "630665bd9fa239004bde1093",
         "Universidad Nacional De Piura",
         "Universidad Nacional de Piura"
        ],
        [
         "630665bd9fa239004bde10ae",
         "Universidad Cesar Vallejo",
         "Universidad César Vallejo S.A.C."
        ],
        [
         "630665bd9fa239004bde10ae",
         "Universidad Cesar Vallejo",
         "Universidad César Vallejo S.A.C."
        ],
        [
         "630665bd9fa239004bde10bd",
         "Universidad De San Martin De Porres - Usmp",
         "Universidad de San Martín de Porres"
        ],
        [
         "630665bd9fa239004bde10d2",
         "Instituto San Ignacio De Loyola (isil)",
         "Universidad San Ignacio de Loyola S.R.L."
        ],
        [
         "630665bd9fa239004bde10f8",
         "Usil",
         "Universidad San Ignacio de Loyola S.R.L."
        ],
        [
         "630665bd9fa239004bde1112",
         "Universidad Privada Norbert Wiener",
         "Universidad Privada Norbert Wiener S.A."
        ],
        [
         "630665bd9fa239004bde1142",
         "Universidad Nacional Mayor De San Marcos",
         "Universidad Nacional Mayor de San Marcos"
        ],
        [
         "630665bd9fa239004bde1148",
         "Upao",
         "Universidad Privada Antenor Orrego"
        ],
        [
         "630665bd9fa239004bde115f",
         "Universidad Privada San Juan Bautista - Upsjb",
         "Universidad Privada San Juan Bautista S.A.C."
        ],
        [
         "630665bd9fa239004bde119f",
         "Universidad Privada Del Norte",
         "Universidad Privada del Norte S.A.C."
        ],
        [
         "630665bd9fa239004bde11ab",
         "Universidad Cesar Vallejo",
         "Universidad César Vallejo S.A.C."
        ],
        [
         "630665bd9fa239004bde11b4",
         "Universidad Privada Del Norte",
         "Universidad Privada del Norte S.A.C."
        ],
        [
         "630665bd9fa239004bde11bc",
         "Universidad Privada Antenor Orrego",
         "Universidad Privada Antenor Orrego"
        ],
        [
         "630665bd9fa239004bde11c4",
         "Universidad De San Martín De Porres",
         "Universidad de San Martín de Porres"
        ],
        [
         "630665bd9fa239004bde11ea",
         "Universidad Privada Del Norte",
         "Universidad Privada del Norte S.A.C."
        ],
        [
         "630665bd9fa239004bde11fa",
         "Universidad Privada Del Norte - Upn",
         "Universidad Privada del Norte S.A.C."
        ],
        [
         "630665bd9fa239004bde11fa",
         "Universidad Peruana Los Andes - Upla",
         "Universidad Peruana Los Andes"
        ],
        [
         "630665bd9fa239004bde120d",
         "Universidad San Martín De Porres",
         "Universidad de San Martín de Porres"
        ],
        [
         "630665bd9fa239004bde1214",
         "Universidad Privada Del Norte - Unp",
         "Universidad Privada del Norte S.A.C."
        ],
        [
         "630665bd9fa239004bde121a",
         "Universidad Nacional Del Centro Del Perú",
         "Universidad Nacional del Centro del Perú"
        ],
        [
         "630665bd9fa239004bde1242",
         "Universidad Peruana Los Andes",
         "Universidad Peruana Los Andes"
        ],
        [
         "630665bd9fa239004bde126c",
         "Ricardo Palma",
         "Universidad Ricardo Palma"
        ],
        [
         "630665bd9fa239004bde127a",
         "Universidad César Vallejo",
         "Universidad César Vallejo S.A.C."
        ],
        [
         "630665bd9fa239004bde1303",
         "Universidad Andina Del Cusco",
         "Universidad Andina del Cusco"
        ],
        [
         "630665bd9fa239004bde1309",
         "Escuela Tecnica Superior De Universidad Nacional De Piura",
         "Universidad Nacional de Piura"
        ],
        [
         "630665bd9fa239004bde1318",
         "Universidad Tecnológica Del Perú",
         "Universidad Tecnológica del Perú S.A.C."
        ],
        [
         "630665bd9fa239004bde1330",
         "Universidad Privada Del Norte",
         "Universidad Privada del Norte S.A.C."
        ],
        [
         "630665bd9fa239004bde1330",
         "Universidad San Martin De Porres",
         "Universidad de San Martín de Porres"
        ],
        [
         "630665bd9fa239004bde1344",
         "Universidad San Ignacio De Loyola",
         "Universidad San Ignacio de Loyola S.R.L."
        ],
        [
         "630665bd9fa239004bde134d",
         "Universidad Ricardo Palma",
         "Universidad Ricardo Palma"
        ],
        [
         "630665bd9fa239004bde137e",
         "Universidad Peruana De Ciencias Aplicadas",
         "Universidad Peruana de Ciencias Aplicadas S.A.C."
        ],
        [
         "630665bd9fa239004bde1386",
         "Universidad Cesar Vallejo - Ucv",
         "Universidad César Vallejo S.A.C."
        ],
        [
         "630665bd9fa239004bde13f6",
         "Universidad Privada Del Norte",
         "Universidad Privada del Norte S.A.C."
        ],
        [
         "630665bd9fa239004bde13f6",
         "Universidad Privada Del Norte",
         "Universidad Privada del Norte S.A.C."
        ],
        [
         "630665bd9fa239004bde13fe",
         "Universidad Privada Del Norte",
         "Universidad Privada del Norte S.A.C."
        ],
        [
         "630665bd9fa239004bde1408",
         "Universidad Peruana De Ciencias Aplicadas",
         "Universidad Peruana de Ciencias Aplicadas S.A.C."
        ],
        [
         "630665bd9fa239004bde1429",
         "Universidad Nacional Del Callao",
         "Universidad Nacional del Callao"
        ],
        [
         "630665bd9fa239004bde1430",
         "Universidad Peruana Los Andes",
         "Universidad Peruana Los Andes"
        ],
        [
         "630665bd9fa239004bde144b",
         "Universidad Privada Del Norte",
         "Universidad Privada del Norte S.A.C."
        ],
        [
         "630665bd9fa239004bde1484",
         "Universidad Cesar Vallejo",
         "Universidad César Vallejo S.A.C."
        ],
        [
         "630665bd9fa239004bde148b",
         "Universidad Nacional De Jaén",
         "Universidad Nacional de Jaén"
        ],
        [
         "630665bd9fa239004bde1492",
         "Cesar Vallejo",
         "Universidad César Vallejo S.A.C."
        ],
        [
         "630665bd9fa239004bde149a",
         "Universidad Privada Antenor Orrego",
         "Universidad Privada Antenor Orrego"
        ],
        [
         "630665bd9fa239004bde14ae",
         "Universidad Autónoma Del Perú",
         "Universidad Autónoma del Perú S.A.C."
        ],
        [
         "630665bd9fa239004bde14b5",
         "Universidad De San Martín De Porres",
         "Universidad de San Martín de Porres"
        ],
        [
         "630665bd9fa239004bde14ca",
         "Universidad Tecnológica Del Perú",
         "Universidad Tecnológica del Perú S.A.C."
        ],
        [
         "630665bd9fa239004bde14d9",
         "Universidad San Ignacio De Loyola",
         "Universidad San Ignacio de Loyola S.R.L."
        ],
        [
         "630665bd9fa239004bde14f0",
         "Universidad Cesar Vallejo",
         "Universidad César Vallejo S.A.C."
        ],
        [
         "630665bd9fa239004bde14f9",
         "Autónoma Del Perú",
         "Universidad Autónoma del Perú S.A.C."
        ],
        [
         "630665bd9fa239004bde150d",
         "Universidad Privada Del Norte",
         "Universidad Privada del Norte S.A.C."
        ],
        [
         "630665bd9fa239004bde1514",
         "Universidad Peruana De Ciencias Aplicadas",
         "Universidad Peruana de Ciencias Aplicadas S.A.C."
        ],
        [
         "630665bd9fa239004bde1529",
         "Universidad Cesar Vallejo",
         "Universidad César Vallejo S.A.C."
        ],
        [
         "630665bd9fa239004bde1570",
         "Upn",
         "Universidad Privada del Norte S.A.C."
        ],
        [
         "630665bd9fa239004bde157f",
         "Universidad Privada Del Norte",
         "Universidad Privada del Norte S.A.C."
        ],
        [
         "630665bd9fa239004bde158e",
         "Universidad Cesar Vallejo",
         "Universidad César Vallejo S.A.C."
        ],
        [
         "630665bd9fa239004bde1597",
         "Universidad Nacional Del Centro Del Perú",
         "Universidad Nacional del Centro del Perú"
        ],
        [
         "630665bd9fa239004bde15a6",
         "Universidad Femenina Del Sagrado Corazon",
         "Universidad Femenina del Sagrado Corazón"
        ],
        [
         "630665bd9fa239004bde15a6",
         "Universidad Nacional De Ingeniería",
         "Universidad Nacional de Ingeniería"
        ],
        [
         "630665bd9fa239004bde15b3",
         "Universidad Nacional De Trujillo",
         "Universidad Nacional de Trujillo"
        ],
        [
         "630665bd9fa239004bde15bb",
         "Universidad Nacional Mayor De San Marcos",
         "Universidad Nacional Mayor de San Marcos"
        ],
        [
         "630665bd9fa239004bde15c1",
         "Universida Peruana De Ciencias Aplicadas",
         "Universidad Peruana de Ciencias Aplicadas S.A.C."
        ],
        [
         "630665bd9fa239004bde15d4",
         "Autónoma Del Perú",
         "Universidad Autónoma del Perú S.A.C."
        ],
        [
         "630665bd9fa239004bde15df",
         "Instituto Continental",
         "Universidad Continental S.A.C."
        ],
        [
         "630665bd9fa239004bde15e6",
         "Universidad César Vallejo",
         "Universidad César Vallejo S.A.C."
        ],
        [
         "630665bd9fa239004bde15ef",
         "Universidad Tecnológica Del Perú",
         "Universidad Tecnológica del Perú S.A.C."
        ],
        [
         "630665bd9fa239004bde1616",
         "Universidad Tecnológica Del Perú - Utp",
         "Universidad Tecnológica del Perú S.A.C."
        ],
        [
         "630665bd9fa239004bde161c",
         "Universidad Cesar Vallejo",
         "Universidad César Vallejo S.A.C."
        ],
        [
         "630665bd9fa239004bde1623",
         "Universidad Tecnológica Del Perú",
         "Universidad Tecnológica del Perú S.A.C."
        ],
        [
         "630665bd9fa239004bde162e",
         "Universidad Cesar Vallejo",
         "Universidad César Vallejo S.A.C."
        ],
        [
         "630665bd9fa239004bde1635",
         "Universidad Privada Del Norte",
         "Universidad Privada del Norte S.A.C."
        ],
        [
         "630665bd9fa239004bde163c",
         "Universidad Cesar Vallejo",
         "Universidad César Vallejo S.A.C."
        ],
        [
         "630665bd9fa239004bde165d",
         "Universidad Peruana De Ciencias Aplicadas",
         "Universidad Peruana de Ciencias Aplicadas S.A.C."
        ],
        [
         "630665bd9fa239004bde1690",
         "Universidad Nacional Agraria La Molina",
         "Universidad Nacional Agraria La Molina"
        ],
        [
         "630665bd9fa239004bde1690",
         "I.e.p. San Marcos",
         "Universidad Nacional Mayor de San Marcos"
        ],
        [
         "630665bd9fa239004bde169e",
         "Universida Privada Norbert Wiener",
         "Universidad Privada Norbert Wiener S.A."
        ],
        [
         "630665bd9fa239004bde16a6",
         "Instituto San Ignacio De Loyola",
         "Universidad San Ignacio de Loyola S.R.L."
        ],
        [
         "630665bd9fa239004bde16ac",
         "Universidad Autónoma Del Perú",
         "Universidad Autónoma del Perú S.A.C."
        ],
        [
         "630665bd9fa239004bde16c7",
         "Universidad Privada Antenor Orrego",
         "Universidad Privada Antenor Orrego"
        ],
        [
         "630665bd9fa239004bde16ce",
         "Universidad Antonio Ruiz De Montoya",
         "Universidad Antonio Ruiz de Montoya"
        ],
        [
         "630665bd9fa239004bde16d7",
         "Universidad Nacional De Cañete",
         "Universidad Nacional de Cañete"
        ],
        [
         "630665bd9fa239004bde16ec",
         "Universidad Nacional De Frontera",
         "Universidad Nacional de Frontera"
        ],
        [
         "630665bd9fa239004bde171d",
         "Universidad Privada Del Norte",
         "Universidad Privada del Norte S.A.C."
        ],
        [
         "630665bd9fa239004bde172a",
         "Universidad San Martin De Porres",
         "Universidad de San Martín de Porres"
        ],
        [
         "630665bd9fa239004bde1740",
         "Universidad Privada Del Norte",
         "Universidad Privada del Norte S.A.C."
        ],
        [
         "630665b8594e18004af05b81",
         "Universidad Tecnológica Del Perú",
         "Universidad Tecnológica del Perú S.A.C."
        ],
        [
         "630665bd9fa239004bde14a7",
         "Universidad Cesar Vallejo",
         "Universidad César Vallejo S.A.C."
        ],
        [
         "63067656d7fa700008e7ffe9",
         "Upc",
         "Universidad Peruana de Ciencias Aplicadas S.A.C."
        ],
        [
         "630665bd9fa239004bde0163",
         "Universidad Científica Del Sur",
         "Universidad Científica del Sur S.A.C."
        ],
        [
         "630665b8594e18004af05cd3",
         "Universidad San Martin De Porres",
         "Universidad de San Martín de Porres"
        ],
        [
         "630682aed7fa700008e8054d",
         "Universidad Tecnológica Del Perú - Utp",
         "Universidad Tecnológica del Perú S.A.C."
        ],
        [
         "63068e62d7fa700008e80ffa",
         "Ucv",
         "Universidad César Vallejo S.A.C."
        ],
        [
         "6306905d0b25100008422f63",
         "Utp",
         "Universidad Tecnológica del Perú S.A.C."
        ],
        [
         "6306a40a1e599d0009d71271",
         "Utp",
         "Universidad Tecnológica del Perú S.A.C."
        ],
        [
         "630665bd9fa239004bde06d4",
         "Cesar Vallejo",
         "Universidad César Vallejo S.A.C."
        ],
        [
         "6306bbf00b251000084247f7",
         "Enrique Guzmán Y Valle",
         "Universidad Nacional de Educación Enrique Guzmán y Valle"
        ],
        [
         "6306bbf00b251000084247f7",
         "Universidad Nacional Enrique Guzmán Y Valle",
         "Universidad Nacional de Educación Enrique Guzmán y Valle"
        ],
        [
         "6306c22629da5b0008a08e6c",
         "Universidad San Ignacio De Loyola",
         "Universidad San Ignacio de Loyola S.R.L."
        ],
        [
         "6306c22629da5b0008a08e6c",
         "Instituto San Ignacio De Loyola",
         "Universidad San Ignacio de Loyola S.R.L."
        ],
        [
         "6306ca151e599d0009d726b5",
         "San Isidro De Piura",
         "Universidad de Piura"
        ],
        [
         "6306cba529da5b0008a092b4",
         "Universidad Nacional Del Callao - Unac",
         "Universidad Nacional del Callao"
        ],
        [
         "6306cba529da5b0008a092b4",
         "Universidad Nacional Federico Villarreal - Unfv",
         "Universidad Nacional Federico Villarreal"
        ],
        [
         "630665b89fa239004bddc812",
         "Upc",
         "Universidad Peruana de Ciencias Aplicadas S.A.C."
        ],
        [
         "6306cd870b2510000842505f",
         "Universidad Tecnológica Del Perú",
         "Universidad Tecnológica del Perú S.A.C."
        ],
        [
         "6306d2a829da5b0008a09699",
         "Universidad Cesar Vallejo",
         "Universidad César Vallejo S.A.C."
        ],
        [
         "6306d6099fa239004bdf063f",
         "Universidad Privada Del Norte",
         "Universidad Privada del Norte S.A.C."
        ],
        [
         "6306d6099fa239004bdf052b",
         "Universidad Católica Sedes Sapientiae - Ucss",
         "Universidad Católica Sedes Sapientiae"
        ],
        [
         "6306d63d594e18004af0ddb4",
         "Universidad San Ignacio De Loyola",
         "Universidad San Ignacio de Loyola S.R.L."
        ],
        [
         "6306d66b594e18004af0e2c5",
         "Universidad De Ciencias Aplicadas",
         "Universidad Peruana de Ciencias Aplicadas S.A.C."
        ],
        [
         "6306d777594e18004af0e887",
         "Universidad Privada Del Norte",
         "Universidad Privada del Norte S.A.C."
        ],
        [
         "6306d777594e18004af0e9dd",
         "Universidad Privada Del Norte - Unp",
         "Universidad Privada del Norte S.A.C."
        ],
        [
         "6306d8179fa239004bdf28b7",
         "Universidad Mayor De San Marcos",
         "Universidad Nacional Mayor de San Marcos"
        ],
        [
         "6306d6099fa239004bdf0f81",
         "Universidad De San Martin De Porres",
         "Universidad de San Martín de Porres"
        ],
        [
         "6306d6099fa239004bdf0f81",
         "Cetpro  Cayetano Heredia",
         "Universidad Peruana Cayetano Heredia"
        ],
        [
         "6306d777594e18004af0e659",
         "Universidad César Vallejo",
         "Universidad César Vallejo S.A.C."
        ],
        [
         "6306d777594e18004af0f163",
         "Universidad Cesar Vallejo - Ucv",
         "Universidad César Vallejo S.A.C."
        ],
        [
         "6306d63c594e18004af0dab4",
         "Universidad Tecnológica Del Perú",
         "Universidad Tecnológica del Perú S.A.C."
        ],
        [
         "6306d777594e18004af0f133",
         "Universidad Privada Del Norte",
         "Universidad Privada del Norte S.A.C."
        ],
        [
         "6306d6099fa239004bdf0495",
         "Universidad Nacional Del Callao",
         "Universidad Nacional del Callao"
        ],
        [
         "6306d777594e18004af0e8db",
         "Universidad Privada Del Norte",
         "Universidad Privada del Norte S.A.C."
        ],
        [
         "6306d852594e18004af1000e",
         "Instituto San Ignacio De Loyola - Isil",
         "Universidad San Ignacio de Loyola S.R.L."
        ],
        [
         "6306d852594e18004af1000e",
         "Instituto San Ignacio De Loyola",
         "Universidad San Ignacio de Loyola S.R.L."
        ],
        [
         "6306d8699fa239004bdf3225",
         "Upc",
         "Universidad Peruana de Ciencias Aplicadas S.A.C."
        ],
        [
         "6306d82b594e18004af0fbb1",
         "Universidad Peruana De Ciencias Aplicadas - Upc",
         "Universidad Peruana de Ciencias Aplicadas S.A.C."
        ],
        [
         "6306d82b594e18004af0fbb1",
         "Universidad Peruana De Ciencias Aplicadas - Upc",
         "Universidad Peruana de Ciencias Aplicadas S.A.C."
        ],
        [
         "6306d777594e18004af0f15d",
         "Universidad Cesar Vallejo",
         "Universidad César Vallejo S.A.C."
        ],
        [
         "6306d777594e18004af0eafd",
         "Universidad César Vallejo",
         "Universidad César Vallejo S.A.C."
        ],
        [
         "6306d63d594e18004af0e066",
         "Universidad Privada Del Norte",
         "Universidad Privada del Norte S.A.C."
        ],
        [
         "6306d777594e18004af0f0d3",
         "Universidad Privada Del Norte",
         "Universidad Privada del Norte S.A.C."
        ],
        [
         "6306d777594e18004af0edfd",
         "Universidad Privada Del Norte",
         "Universidad Privada del Norte S.A.C."
        ],
        [
         "6306d777594e18004af0e9e9",
         "Universidad Cesar Vallejo",
         "Universidad César Vallejo S.A.C."
        ],
        [
         "6306d63d594e18004af0de14",
         "Universidad Peruana De Ciencias Aplicadas - Upc",
         "Universidad Peruana de Ciencias Aplicadas S.A.C."
        ],
        [
         "6306d66b594e18004af0e2fb",
         "Universidad Nacional Del Callao",
         "Universidad Nacional del Callao"
        ],
        [
         "6306d63c594e18004af0d94c",
         "Universidad Privada Del Norte",
         "Universidad Privada del Norte S.A.C."
        ],
        [
         "6306d6099fa239004bdf03ed",
         "Universidad San Ignacio De Loyola - Usil",
         "Universidad San Ignacio de Loyola S.R.L."
        ],
        [
         "6306d63d594e18004af0dec2",
         "Universidad Cesar Vallejo - Ucv",
         "Universidad César Vallejo S.A.C."
        ],
        [
         "6306d8699fa239004bdf352b",
         "Universidad Privada Del Norte - Unp",
         "Universidad Privada del Norte S.A.C."
        ],
        [
         "6306d777594e18004af0f103",
         "Universidad Privada Del Norte",
         "Universidad Privada del Norte S.A.C."
        ],
        [
         "6306d802594e18004af0f32e",
         "Universidad Nacional De Educación Enrique Guzmán Y Valle - La Cantuta",
         "Universidad Nacional de Educación Enrique Guzmán y Valle"
        ],
        [
         "6306d777594e18004af0ebed",
         "Usmp",
         "Universidad de San Martín de Porres"
        ],
        [
         "6306d63c594e18004af0d9be",
         "Universidad Nacional Del Callao",
         "Universidad Nacional del Callao"
        ],
        [
         "6306d6099fa239004bdf0e31",
         "Universidad Cesar Vallejo - Ucv",
         "Universidad César Vallejo S.A.C."
        ],
        [
         "6306d6099fa239004bdf0e31",
         "Universidad Nacional De Ingeniería - Uni",
         "Universidad Nacional de Ingeniería"
        ],
        [
         "6306d6099fa239004bdf0e31",
         "Universidad Cesar Vallejo - Ucv",
         "Universidad César Vallejo S.A.C."
        ],
        [
         "6306d8179fa239004bdf2e63",
         "Universidad Tecnológica Del Perú - Utp",
         "Universidad Tecnológica del Perú S.A.C."
        ],
        [
         "6306d8179fa239004bdf2995",
         "Universidad De Ciencias Aplicadas",
         "Universidad Peruana de Ciencias Aplicadas S.A.C."
        ],
        [
         "6306d6099fa239004bdf0beb",
         "Universidad De San Martin De Porres - Usmp",
         "Universidad de San Martín de Porres"
        ],
        [
         "6306d63d594e18004af0dbce",
         "Universidad San Ignacio De Loyola - Usil",
         "Universidad San Ignacio de Loyola S.R.L."
        ],
        [
         "6306d63d594e18004af0dbce",
         "Instituto San Ignacio De Loyola",
         "Universidad San Ignacio de Loyola S.R.L."
        ],
        [
         "6306d78c9fa239004bdf2260",
         "Universidad Señor De Sipán - Uss",
         "Universidad Señor de Sipán S.A.C."
        ],
        [
         "6306d63c594e18004af0d6a0",
         "Universidad Nacional Del Callao",
         "Universidad Nacional del Callao"
        ],
        [
         "6306d63d594e18004af0dfee",
         "Universidad Privada Del  Norte",
         "Universidad Privada del Norte S.A.C."
        ],
        [
         "6306d777594e18004af0ee09",
         "Universidad Cientifica Del Sur",
         "Universidad Científica del Sur S.A.C."
        ],
        [
         "6306d63d594e18004af0daf6",
         "Universidad De Lima",
         "Universidad de Lima"
        ],
        [
         "6306d6099fa239004bdf0dfb",
         "Universidad Privada Del Norte",
         "Universidad Privada del Norte S.A.C."
        ],
        [
         "6306d853594e18004af104e8",
         "Universidad San Martin De Porres",
         "Universidad de San Martín de Porres"
        ],
        [
         "6306d63c594e18004af0d8da",
         "Universidad De Ciencias Aplicadas - Upc",
         "Universidad Peruana de Ciencias Aplicadas S.A.C."
        ],
        [
         "6306d8699fa239004bdf3387",
         "Universidad Señor De Sipán",
         "Universidad Señor de Sipán S.A.C."
        ],
        [
         "6306d777594e18004af0e767",
         "Universidad Privada Del Norte - Upn",
         "Universidad Privada del Norte S.A.C."
        ],
        [
         "6306d7ef9fa239004bdf257a",
         "Universidad Nacional De San Martín",
         "Universidad Nacional de San Martín"
        ],
        [
         "6306d802594e18004af0f62e",
         "Universidad Nacional Federico Villarreal",
         "Universidad Nacional Federico Villarreal"
        ],
        [
         "6306dc680b25100008425b50",
         "Universidad Católica Sedes Sapientiae",
         "Universidad Católica Sedes Sapientiae"
        ],
        [
         "6306d6549fa239004bdf1540",
         "Universidad De Lima",
         "Universidad de Lima"
        ],
        [
         "6306d63d594e18004af0dc88",
         "Cesar Vallejo",
         "Universidad César Vallejo S.A.C."
        ],
        [
         "6306d8179fa239004bdf2eab",
         "Universidad Nacional Del Callao",
         "Universidad Nacional del Callao"
        ],
        [
         "6306d8179fa239004bdf2eab",
         "Agustiniano San Martin De Porres",
         "Universidad de San Martín de Porres"
        ],
        [
         "6306d777594e18004af0e8bd",
         "Universidad Privada Del Norte",
         "Universidad Privada del Norte S.A.C."
        ],
        [
         "6306d6dd9fa239004bdf1ee5",
         "Universidad Tecnológica Del Perú - Utp",
         "Universidad Tecnológica del Perú S.A.C."
        ],
        [
         "6306d777594e18004af0eaf1",
         "Universidad Peruana De Ciencias Aplicadas",
         "Universidad Peruana de Ciencias Aplicadas S.A.C."
        ],
        [
         "6306d82b594e18004af0fcb9",
         "Universidad Privada Del Norte",
         "Universidad Privada del Norte S.A.C."
        ],
        [
         "6306d852594e18004af0ffa8",
         "Universidad Peruana De Ciencias Aplicadas",
         "Universidad Peruana de Ciencias Aplicadas S.A.C."
        ],
        [
         "6306d777594e18004af0ea19",
         "Universidad Privada Del Norte",
         "Universidad Privada del Norte S.A.C."
        ],
        [
         "6306d63d594e18004af0df3a",
         "Universidad Nacional Federico Villarreal",
         "Universidad Nacional Federico Villarreal"
        ],
        [
         "6306d777594e18004af0eac7",
         "Universidad César Vallejo",
         "Universidad César Vallejo S.A.C."
        ],
        [
         "6306d802594e18004af0f610",
         "Universidad Privada Del Norte",
         "Universidad Privada del Norte S.A.C."
        ],
        [
         "6306d82b594e18004af0fe81",
         "Universidad Nacional Federico Villarreal",
         "Universidad Nacional Federico Villarreal"
        ],
        [
         "6306d63d594e18004af0df5e",
         "Upc Universidad Peruana De Ciencias Aplicadas",
         "Universidad Peruana de Ciencias Aplicadas S.A.C."
        ],
        [
         "6306d6099fa239004bdf0aa7",
         "Universidad Católica Sedes Sapientiae",
         "Universidad Católica Sedes Sapientiae"
        ],
        [
         "6306d8179fa239004bdf273d",
         "Upc",
         "Universidad Peruana de Ciencias Aplicadas S.A.C."
        ],
        [
         "6306d8179fa239004bdf286f",
         "Upc",
         "Universidad Peruana de Ciencias Aplicadas S.A.C."
        ],
        [
         "6306d82b594e18004af0fc5f",
         "Universidad Privada Del Norte",
         "Universidad Privada del Norte S.A.C."
        ],
        [
         "6306d777594e18004af0eeb7",
         "Universidad Cesar Vallejo - Ucv",
         "Universidad César Vallejo S.A.C."
        ],
        [
         "6306d6099fa239004bdf0d41",
         "Universidad Privada Del Norte",
         "Universidad Privada del Norte S.A.C."
        ],
        [
         "6306d802594e18004af0fb5c",
         "Universidad San Martín De Porres",
         "Universidad de San Martín de Porres"
        ],
        [
         "6306d82b594e18004af0fbed",
         "Universidad Nacional Del Callao",
         "Universidad Nacional del Callao"
        ],
        [
         "6306d6099fa239004bdf0417",
         "Universidad Privada Del Norte - Upn",
         "Universidad Privada del Norte S.A.C."
        ],
        [
         "6306d777594e18004af0eb2d",
         "Universidad De San Martin De Porres - Usmp",
         "Universidad de San Martín de Porres"
        ],
        [
         "6306d777594e18004af0e791",
         "Universidad Ricardo Palma",
         "Universidad Ricardo Palma"
        ],
        [
         "6306d777594e18004af0ef05",
         "Upn",
         "Universidad Privada del Norte S.A.C."
        ],
        [
         "6306d777594e18004af0ed4f",
         "Universidad Ricardo Palma",
         "Universidad Ricardo Palma"
        ],
        [
         "6306d63d594e18004af0de32",
         "Universidad Privada Del Norte",
         "Universidad Privada del Norte S.A.C."
        ],
        [
         "6306d63c594e18004af0d802",
         "Universidad Privada Del Norte",
         "Universidad Privada del Norte S.A.C."
        ],
        [
         "6306dfa8d7fa700008e8409e",
         "Universidad Cesar Vallejo - Ucv",
         "Universidad César Vallejo S.A.C."
        ],
        [
         "6306dfa8d7fa700008e8409e",
         "Universidad Cesar Vallejo - Ucv",
         "Universidad César Vallejo S.A.C."
        ],
        [
         "6306d777594e18004af0ea6d",
         "Universidad Cesar Vallejo",
         "Universidad César Vallejo S.A.C."
        ],
        [
         "6306d63d594e18004af0e162",
         "Universidad Privada Del Norte",
         "Universidad Privada del Norte S.A.C."
        ],
        [
         "6306d6099fa239004bdf0dad",
         "Universidad Nacional Del Callao - Unac",
         "Universidad Nacional del Callao"
        ],
        [
         "6306d82b594e18004af0feff",
         "Upc",
         "Universidad Peruana de Ciencias Aplicadas S.A.C."
        ],
        [
         "6306d6099fa239004bdf0159",
         "Universidad San Ignacio De Loyola",
         "Universidad San Ignacio de Loyola S.R.L."
        ],
        [
         "6306d63d594e18004af0dece",
         "Universidad Tecnológica Del Perú - Utp",
         "Universidad Tecnológica del Perú S.A.C."
        ],
        [
         "6306d6dd9fa239004bdf1f81",
         "Universidad Tecnológica Del Perú",
         "Universidad Tecnológica del Perú S.A.C."
        ],
        [
         "6306d6099fa239004bdf01fb",
         "Utp",
         "Universidad Tecnológica del Perú S.A.C."
        ],
        [
         "6306d853594e18004af1017c",
         "Universidad Cesar Vallejo",
         "Universidad César Vallejo S.A.C."
        ],
        [
         "6306d777594e18004af0eb81",
         "Universalidad Privada Del Norte",
         "Universidad Privada del Norte S.A.C."
        ],
        [
         "6306d6dd9fa239004bdf207d",
         "Universidad Maria Auxiliadora",
         "Universidad María Auxiliadora S.A.C."
        ],
        [
         "6306d63c594e18004af0d99a",
         "Upn",
         "Universidad Privada del Norte S.A.C."
        ],
        [
         "6306d777594e18004af0e88d",
         "Universidad Cesar Vallejo - Ucv",
         "Universidad César Vallejo S.A.C."
        ],
        [
         "6306d8179fa239004bdf2a7f",
         "Universidad Privada Del Norte - Upn",
         "Universidad Privada del Norte S.A.C."
        ],
        [
         "6306d777594e18004af0e8f9",
         "Instituto San Ignacio De Loyola",
         "Universidad San Ignacio de Loyola S.R.L."
        ],
        [
         "6306d87c594e18004af1076b",
         "Universidad Privada Del Norte",
         "Universidad Privada del Norte S.A.C."
        ],
        [
         "6306d777594e18004af0ec35",
         "Universidad Tecnológica Del Perú",
         "Universidad Tecnológica del Perú S.A.C."
        ],
        [
         "6306d8179fa239004bdf2b27",
         "Universidad De San Martin De Porres",
         "Universidad de San Martín de Porres"
        ],
        [
         "6306d853594e18004af10386",
         "Universidad Nacional Agraria La Molina",
         "Universidad Nacional Agraria La Molina"
        ],
        [
         "6306d853594e18004af100d4",
         "Upc",
         "Universidad Peruana de Ciencias Aplicadas S.A.C."
        ],
        [
         "6306d802594e18004af0f72a",
         "Universidad Tecnológica Del Perú",
         "Universidad Tecnológica del Perú S.A.C."
        ],
        [
         "6306d802594e18004af0fafc",
         "Universidad San Ignacio De Loyola",
         "Universidad San Ignacio de Loyola S.R.L."
        ],
        [
         "6306d777594e18004af0e737",
         "Universidad Cesar Vallejo",
         "Universidad César Vallejo S.A.C."
        ],
        [
         "6306d802594e18004af0f694",
         "Universidad Tecnológica Del Perú",
         "Universidad Tecnológica del Perú S.A.C."
        ],
        [
         "6306d802594e18004af0f694",
         "Universidad Tecnológica Del Perú",
         "Universidad Tecnológica del Perú S.A.C."
        ],
        [
         "6306d777594e18004af0eae5",
         "Universidad Tecnológica Del Perú",
         "Universidad Tecnológica del Perú S.A.C."
        ],
        [
         "6306d777594e18004af0e953",
         "Universidad Tecnológica Del Perú",
         "Universidad Tecnológica del Perú S.A.C."
        ],
        [
         "6306d8179fa239004bdf2e27",
         "Universidad César Vallejo",
         "Universidad César Vallejo S.A.C."
        ],
        [
         "6306d82b594e18004af0fd37",
         "Universidad Señor De Sipan",
         "Universidad Señor de Sipán S.A.C."
        ],
        [
         "6306d63d594e18004af0dfa6",
         "Universidad Privada Del Norte",
         "Universidad Privada del Norte S.A.C."
        ],
        [
         "6306d777594e18004af0e707",
         "Universidad Nacional Del Callao",
         "Universidad Nacional del Callao"
        ],
        [
         "6306d777594e18004af0ef9b",
         "Universidad Tecnológica Del Perú",
         "Universidad Tecnológica del Perú S.A.C."
        ],
        [
         "6306d8179fa239004bdf2a37",
         "Universidad Peruana De Ciencias Aplicadas",
         "Universidad Peruana de Ciencias Aplicadas S.A.C."
        ],
        [
         "6306d8179fa239004bdf2a37",
         "Instituto San Ignacio De Loyola",
         "Universidad San Ignacio de Loyola S.R.L."
        ],
        [
         "6306d802594e18004af0fa1e",
         "Universidada Privada Del Norte",
         "Universidad Privada del Norte S.A.C."
        ],
        [
         "6306d777594e18004af0ee93",
         "Universidadcatólica Sedes Sapientiae",
         "Universidad Católica Sedes Sapientiae"
        ],
        [
         "6306d6549fa239004bdf10f6",
         "Universidad Nacional Federico Villarreal",
         "Universidad Nacional Federico Villarreal"
        ],
        [
         "6306d777594e18004af0f04f",
         "Universidad Privada Antenor Orrego",
         "Universidad Privada Antenor Orrego"
        ],
        [
         "6306d82b594e18004af0ff4d",
         "Universidad San Martin De Porres",
         "Universidad de San Martín de Porres"
        ],
        [
         "6306d6099fa239004bdf04d7",
         "Universidad Privada Del Norte - Upn",
         "Universidad Privada del Norte S.A.C."
        ],
        [
         "6306d777594e18004af0e761",
         "Universidad Nacional Del Callao",
         "Universidad Nacional del Callao"
        ],
        [
         "6306d8179fa239004bdf2e5d",
         "Universidad Peruana De Ciencias Aplicadas",
         "Universidad Peruana de Ciencias Aplicadas S.A.C."
        ],
        [
         "6306d8179fa239004bdf2b81",
         "Universidad Cesar Vallejo",
         "Universidad César Vallejo S.A.C."
        ],
        [
         "6306d6099fa239004bdf08a3",
         "Universidad Privada Del Norte",
         "Universidad Privada del Norte S.A.C."
        ],
        [
         "6306d6099fa239004bdf08a3",
         "Universidad De San Martin De Porres",
         "Universidad de San Martín de Porres"
        ],
        [
         "6306d777594e18004af0ec9b",
         "Politecnico Nacional Del Callao",
         "Universidad Nacional del Callao"
        ],
        [
         "6306d7c0594e18004af0f2b5",
         "Universidad San Martin De Porres",
         "Universidad de San Martín de Porres"
        ],
        [
         "6306d853594e18004af103bc",
         "Universidad Autónoma Del Perú - Ua",
         "Universidad Autónoma del Perú S.A.C."
        ],
        [
         "6306d67e9fa239004bdf1b6b",
         "Universidad Continental",
         "Universidad Continental S.A.C."
        ],
        [
         "6306d8179fa239004bdf2ddf",
         "Universidad Privada Norbert Wiener",
         "Universidad Privada Norbert Wiener S.A."
        ],
        [
         "6306d777594e18004af0ec4d",
         "Universidad Privada Del Norte - Upn",
         "Universidad Privada del Norte S.A.C."
        ],
        [
         "6306d777594e18004af0ec4d",
         "Centro De Idiomas De La Universidad De San Martin De Porres",
         "Universidad de San Martín de Porres"
        ],
        [
         "6306d802594e18004af0f5c2",
         "Universidad Privada Del Norte",
         "Universidad Privada del Norte S.A.C."
        ],
        [
         "6306d6099fa239004bdf0db9",
         "Universidad Privada Del Norte - Unp",
         "Universidad Privada del Norte S.A.C."
        ],
        [
         "6306d8179fa239004bdf2b21",
         "Universidad Cesar Vallejo",
         "Universidad César Vallejo S.A.C."
        ],
        [
         "6306d66b594e18004af0e26b",
         "Univercidad Cesar Vallejo",
         "Universidad César Vallejo S.A.C."
        ],
        [
         "6306d777594e18004af0e7af",
         "Universidad Cesar Vallejo",
         "Universidad César Vallejo S.A.C."
        ],
        [
         "6306d777594e18004af0f097",
         "Universidad Privada Del Norte",
         "Universidad Privada del Norte S.A.C."
        ],
        [
         "6306d777594e18004af0f079",
         "Universidad  Cesar  Vallejo",
         "Universidad César Vallejo S.A.C."
        ],
        [
         "6306d8179fa239004bdf296b",
         "Universidad Cesar Vallejo",
         "Universidad César Vallejo S.A.C."
        ],
        [
         "6306d6dd9fa239004bdf1fdb",
         "Asociacion Universidad Privada San Juan Bautista",
         "Universidad Privada San Juan Bautista S.A.C."
        ],
        [
         "6306d777594e18004af0e935",
         "Universidad Jose Faustino Sanchez Carrion",
         "Universidad Nacional José Faustino Sánchez Carrión"
        ],
        [
         "6306d777594e18004af0ed91",
         "Upn",
         "Universidad Privada del Norte S.A.C."
        ],
        [
         "6306d802594e18004af0fb92",
         "Universidad Privada San Juan Bautista",
         "Universidad Privada San Juan Bautista S.A.C."
        ],
        [
         "6306d777594e18004af0f037",
         "Universidad San Martin De Porres",
         "Universidad de San Martín de Porres"
        ],
        [
         "6306d82b594e18004af0fbf9",
         "Universidad Nacional Del Callao",
         "Universidad Nacional del Callao"
        ],
        [
         "6306d6099fa239004bdf0309",
         "Upn",
         "Universidad Privada del Norte S.A.C."
        ],
        [
         "6306d802594e18004af0f856",
         "Universidad César Vallejo",
         "Universidad César Vallejo S.A.C."
        ],
        [
         "6306d777594e18004af0e911",
         "Universidad San Martin De Porres",
         "Universidad de San Martín de Porres"
        ],
        [
         "6306d777594e18004af0e959",
         "Universidad Nacional Del Callao",
         "Universidad Nacional del Callao"
        ],
        [
         "6306d6099fa239004bdf0dd7",
         "Ucss",
         "Universidad Católica Sedes Sapientiae"
        ],
        [
         "6306d853594e18004af102ea",
         "Universidad Cesar Vallejo - Ucv",
         "Universidad César Vallejo S.A.C."
        ],
        [
         "6306d853594e18004af102ea",
         "Universidad Cesar Vallejo - Ucv",
         "Universidad César Vallejo S.A.C."
        ],
        [
         "6306d777594e18004af0ef5f",
         "Universidad Tecnológica Del Perú",
         "Universidad Tecnológica del Perú S.A.C."
        ],
        [
         "6306d777594e18004af0eaa9",
         "Universidad César Vallejo",
         "Universidad César Vallejo S.A.C."
        ],
        [
         "6306d6099fa239004bdf0f69",
         "Universidad Peruana Los Andes - Upla",
         "Universidad Peruana Los Andes"
        ],
        [
         "6306d6549fa239004bdf1750",
         "Universidad Privada Del Norte",
         "Universidad Privada del Norte S.A.C."
        ],
        [
         "6306d6099fa239004bdf0867",
         "Universidad Tecnológica Del Perú",
         "Universidad Tecnológica del Perú S.A.C."
        ],
        [
         "6306d8179fa239004bdf26cb",
         "Universidad San Ignacio De Loyola",
         "Universidad San Ignacio de Loyola S.R.L."
        ],
        [
         "6306faa61e599d0009d74349",
         "Universidad Nacional De Piura",
         "Universidad Nacional de Piura"
        ],
        [
         "6306d777594e18004af0f139",
         "Universidad Privada Del Norte - Upn",
         "Universidad Privada del Norte S.A.C."
        ],
        [
         "6306d6549fa239004bdf14aa",
         "Upc",
         "Universidad Peruana de Ciencias Aplicadas S.A.C."
        ],
        [
         "6306d63d594e18004af0dc1c",
         "Universidad Cesar Vallejo",
         "Universidad César Vallejo S.A.C."
        ],
        [
         "6306d67e9fa239004bdf1cc7",
         "Universidad Continental",
         "Universidad Continental S.A.C."
        ],
        [
         "6306d777594e18004af0e851",
         "Universidad Cesar Vallejo - Ucv",
         "Universidad César Vallejo S.A.C."
        ],
        [
         "6306d777594e18004af0e7fd",
         "Universidad Privada Del Norte",
         "Universidad Privada del Norte S.A.C."
        ],
        [
         "6306feca29da5b0008a0b2b9",
         "Tecnológica Del Perú",
         "Universidad Tecnológica del Perú S.A.C."
        ],
        [
         "6306d8179fa239004bdf276d",
         "Universidad Científica Del Sur - Ucsur",
         "Universidad Científica del Sur S.A.C."
        ],
        [
         "6306d777594e18004af0e701",
         "Universidad Privada San Juan Bautista",
         "Universidad Privada San Juan Bautista S.A.C."
        ],
        [
         "6306d8179fa239004bdf2ca1",
         "Universidad Cesar Vallejo - Ucv",
         "Universidad César Vallejo S.A.C."
        ],
        [
         "6306d777594e18004af0ecbf",
         "Universidad Privada Del Norte",
         "Universidad Privada del Norte S.A.C."
        ],
        [
         "6306d6549fa239004bdf171a",
         "Universidad Cesar Vallejo",
         "Universidad César Vallejo S.A.C."
        ],
        [
         "6306d8179fa239004bdf27b5",
         "Universidad De San Martin De Porres",
         "Universidad de San Martín de Porres"
        ],
        [
         "6306d6099fa239004bdf023d",
         "Universidad Privada Del Norte - Upn",
         "Universidad Privada del Norte S.A.C."
        ],
        [
         "6306d70e9fa239004bdf21b0",
         "Universidad Peruana Los Andes",
         "Universidad Peruana Los Andes"
        ],
        [
         "6306d6549fa239004bdf15ee",
         "Universidad Continental",
         "Universidad Continental S.A.C."
        ],
        [
         "6306d802594e18004af0f90a",
         "Universidad Cesar Vallejo",
         "Universidad César Vallejo S.A.C."
        ],
        [
         "6306d777594e18004af0e79d",
         "Universidad Tecnologica Del Peru",
         "Universidad Tecnológica del Perú S.A.C."
        ],
        [
         "6306d63c594e18004af0d772",
         "Universidad Tecnológica Del Perú",
         "Universidad Tecnológica del Perú S.A.C."
        ],
        [
         "6306d8179fa239004bdf28f3",
         "Universidad Privada Del Norte.",
         "Universidad Privada del Norte S.A.C."
        ],
        [
         "6306d63d594e18004af0e21c",
         "Universidad Cesar Vallejo",
         "Universidad César Vallejo S.A.C."
        ],
        [
         "6306d802594e18004af0f958",
         "Instituto Daniel Alcides Carrion",
         "Universidad Nacional Daniel Alcides Carrión"
        ],
        [
         "6306d66b594e18004af0e271",
         "Universidad De San Martin De Porres - Usmp",
         "Universidad de San Martín de Porres"
        ],
        [
         "6306d777594e18004af0e92f",
         "Universidad Peruana De Ciencias Aplicadas - Upc",
         "Universidad Peruana de Ciencias Aplicadas S.A.C."
        ],
        [
         "6306d777594e18004af0eaaf",
         "Universidad Privada Del Norte",
         "Universidad Privada del Norte S.A.C."
        ],
        [
         "6306d67e9fa239004bdf1a1b",
         "Universidad Continental",
         "Universidad Continental S.A.C."
        ],
        [
         "6306d777594e18004af0e749",
         "Universidad Privada Del Norte",
         "Universidad Privada del Norte S.A.C."
        ],
        [
         "6306d777594e18004af0e7f1",
         "Universidad Nacional De Ingeniería",
         "Universidad Nacional de Ingeniería"
        ],
        [
         "6306d8699fa239004bdf3297",
         "Usil",
         "Universidad San Ignacio de Loyola S.R.L."
        ],
        [
         "6306d777594e18004af0e9fb",
         "Universidad Nacional Federico Villarreal",
         "Universidad Nacional Federico Villarreal"
        ],
        [
         "6306d802594e18004af0f60a",
         "Universidad San Ignacio De Loyola - Usil",
         "Universidad San Ignacio de Loyola S.R.L."
        ],
        [
         "6306d777594e18004af0e785",
         "Universidad Peruana De Ciencias Aplicadas",
         "Universidad Peruana de Ciencias Aplicadas S.A.C."
        ],
        [
         "6306d82b594e18004af0fd61",
         "Universidad Tecnologica Del Peru",
         "Universidad Tecnológica del Perú S.A.C."
        ],
        [
         "6306d777594e18004af0ef65",
         "Universidad Cesar Vallejo",
         "Universidad César Vallejo S.A.C."
        ],
        [
         "6306d6099fa239004bdf0d29",
         "Universidad Ricardo Palma",
         "Universidad Ricardo Palma"
        ],
        [
         "6306d82b594e18004af0fd85",
         "Universidad Católica Sedes Sapientiae",
         "Universidad Católica Sedes Sapientiae"
        ],
        [
         "6306d777594e18004af0ee6f",
         "Universidad Privada Del Norte",
         "Universidad Privada del Norte S.A.C."
        ],
        [
         "6306d8179fa239004bdf283f",
         "Científica Del Sur",
         "Universidad Científica del Sur S.A.C."
        ],
        [
         "6306d6099fa239004bdf0def",
         "Universidad Cesar Vallejo - Ucv",
         "Universidad César Vallejo S.A.C."
        ],
        [
         "6306d777594e18004af0e8d5",
         "Upn",
         "Universidad Privada del Norte S.A.C."
        ],
        [
         "6306d6549fa239004bdf125e",
         "Utp",
         "Universidad Tecnológica del Perú S.A.C."
        ],
        [
         "6306d853594e18004af101ca",
         "Universidad Esan",
         "Universidad ESAN"
        ],
        [
         "6306d802594e18004af0f9e2",
         "Universidad César Vallejo",
         "Universidad César Vallejo S.A.C."
        ],
        [
         "6306d87b594e18004af10561",
         "Universidad Cesar Vallejo - Ucv",
         "Universidad César Vallejo S.A.C."
        ],
        [
         "6306d777594e18004af0ed79",
         "Universidad Cesar Vallejo",
         "Universidad César Vallejo S.A.C."
        ],
        [
         "630783ae1e599d0009d7513e",
         "Instituto San Ignacio De Loyola",
         "Universidad San Ignacio de Loyola S.R.L."
        ],
        [
         "6306d777594e18004af0ee69",
         "Universidad Continental",
         "Universidad Continental S.A.C."
        ],
        [
         "6306d777594e18004af0e977",
         "Universidad Cesar Vallejo",
         "Universidad César Vallejo S.A.C."
        ],
        [
         "6306d6099fa239004bdf0189",
         "Universidad Tecnológica Del Perú",
         "Universidad Tecnológica del Perú S.A.C."
        ],
        [
         "6306d802594e18004af0f98e",
         "Universidad De San Martín De Porres",
         "Universidad de San Martín de Porres"
        ],
        [
         "6306d777594e18004af0ee0f",
         "Universidad De San Martin De Porres - Usmp",
         "Universidad de San Martín de Porres"
        ],
        [
         "6306d6099fa239004bdf0945",
         "Universidad De San Martin De Porres - Usmp",
         "Universidad de San Martín de Porres"
        ],
        [
         "6306d6099fa239004bdf0543",
         "Universidad Nacional Mayor De San Marcos",
         "Universidad Nacional Mayor de San Marcos"
        ],
        [
         "6306d8179fa239004bdf27d9",
         "Instituto San Ignacio De Loyola",
         "Universidad San Ignacio de Loyola S.R.L."
        ],
        [
         "6306d777594e18004af0ebb7",
         "Científica Del Sur",
         "Universidad Científica del Sur S.A.C."
        ],
        [
         "6306d63d594e18004af0def8",
         "Utp",
         "Universidad Tecnológica del Perú S.A.C."
        ],
        [
         "6306d63d594e18004af0dce8",
         "Universidad Peruana De Ciencias Aplicadas - Upc",
         "Universidad Peruana de Ciencias Aplicadas S.A.C."
        ],
        [
         "6307923ce86a980008defa25",
         "Universidad Peruana De Ciencias Aplicadas",
         "Universidad Peruana de Ciencias Aplicadas S.A.C."
        ],
        [
         "6306d777594e18004af0efbf",
         "Instituto Federico Villarreal",
         "Universidad Nacional Federico Villarreal"
        ],
        [
         "6306d87b594e18004af10657",
         "Untels",
         "Universidad Nacional Tecnológica de Lima Sur"
        ],
        [
         "6306d853594e18004af104e2",
         "Universidad Tecnológica Del Perú",
         "Universidad Tecnológica del Perú S.A.C."
        ],
        [
         "6306d777594e18004af0eab5",
         "Universidad Privada Del Norte",
         "Universidad Privada del Norte S.A.C."
        ],
        [
         "6306d777594e18004af0f08b",
         "Cesar Vallejo",
         "Universidad César Vallejo S.A.C."
        ],
        [
         "6306d6099fa239004bdf08af",
         "Universidad Cesar Vallejo - Ucv",
         "Universidad César Vallejo S.A.C."
        ],
        [
         "6306d852594e18004af10038",
         "Universidad Tecnológica Del Perú",
         "Universidad Tecnológica del Perú S.A.C."
        ],
        [
         "6306d63c594e18004af0d76c",
         "Universidad Nacional De Educación Enrique Guzmán Y Valle  La Cantuta",
         "Universidad Nacional de Educación Enrique Guzmán y Valle"
        ],
        [
         "6306d8699fa239004bdf3489",
         "Universidad Privada Del Norte",
         "Universidad Privada del Norte S.A.C."
        ],
        [
         "6306d777594e18004af0e9cb",
         "Universidad Privada Del Norte",
         "Universidad Privada del Norte S.A.C."
        ],
        [
         "6306d6549fa239004bdf1270",
         "Universidad Privada De Tacna - Upt",
         "Universidad Privada de Tacna"
        ],
        [
         "6306d8179fa239004bdf2cb9",
         "Universidad San Martin  De Porres",
         "Universidad de San Martín de Porres"
        ],
        [
         "6306d777594e18004af0ee45",
         "Universidad Privada Del Norte",
         "Universidad Privada del Norte S.A.C."
        ],
        [
         "6306d6099fa239004bdf0b31",
         "Universidad Privada Del Norte",
         "Universidad Privada del Norte S.A.C."
        ],
        [
         "6306d777594e18004af0eff5",
         "Universidad Nacional Federico Villarreal - Unfv",
         "Universidad Nacional Federico Villarreal"
        ],
        [
         "6306d6099fa239004bdf1023",
         "Universidad Privada Del Norte",
         "Universidad Privada del Norte S.A.C."
        ],
        [
         "6306d82b594e18004af0fc3b",
         "Utp",
         "Universidad Tecnológica del Perú S.A.C."
        ],
        [
         "6306d8179fa239004bdf2c8f",
         "Universidad San Ignacio De Loyola",
         "Universidad San Ignacio de Loyola S.R.L."
        ],
        [
         "6306d8179fa239004bdf264d",
         "Universidad Cesar Vallejo",
         "Universidad César Vallejo S.A.C."
        ],
        [
         "6306d8699fa239004bdf3219",
         "Instituto San Ignacio De Loyola",
         "Universidad San Ignacio de Loyola S.R.L."
        ],
        [
         "6306d8699fa239004bdf3219",
         "Universidad Peruana De Ciencias Aplicadas - Upc",
         "Universidad Peruana de Ciencias Aplicadas S.A.C."
        ],
        [
         "6306d8699fa239004bdf3219",
         "Instituto San Ignacio De Loyola - Isil",
         "Universidad San Ignacio de Loyola S.R.L."
        ],
        [
         "6306d853594e18004af1014c",
         "Universidad Privada Del Norte",
         "Universidad Privada del Norte S.A.C."
        ],
        [
         "6306d802594e18004af0f54a",
         "Universidad Privada Del Norte",
         "Universidad Privada del Norte S.A.C."
        ],
        [
         "6306d802594e18004af0f6dc",
         "Continental",
         "Universidad Continental S.A.C."
        ],
        [
         "6306d6099fa239004bdf0885",
         "Universidad Privada Del Norte",
         "Universidad Privada del Norte S.A.C."
        ],
        [
         "6306d67e9fa239004bdf1b5f",
         "Universidad Continental",
         "Universidad Continental S.A.C."
        ],
        [
         "6306d67e9fa239004bdf1b5f",
         "Instituto Continental",
         "Universidad Continental S.A.C."
        ],
        [
         "6306d802594e18004af0f6be",
         "Universidad Privada Norbert Wiener",
         "Universidad Privada Norbert Wiener S.A."
        ],
        [
         "6306d802594e18004af0f6be",
         "Universidad Nacional De Trujillo - Unt",
         "Universidad Nacional de Trujillo"
        ],
        [
         "6306d63c594e18004af0da6c",
         "Universidad Tecnologica Del Peru",
         "Universidad Tecnológica del Perú S.A.C."
        ],
        [
         "6306d777594e18004af0ebbd",
         "Universidad Privada Del Norte",
         "Universidad Privada del Norte S.A.C."
        ],
        [
         "6306d87b594e18004af10723",
         "Universidad Nacional Del Callao - Unac",
         "Universidad Nacional del Callao"
        ],
        [
         "6306d6549fa239004bdf12be",
         "Universidad Privada Del Norte",
         "Universidad Privada del Norte S.A.C."
        ],
        [
         "6306d853594e18004af10134",
         "Universidad Privada Del Norte - Upn",
         "Universidad Privada del Norte S.A.C."
        ],
        [
         "6306d777594e18004af0ef8f",
         "Universidad Tecnológica Del Perú",
         "Universidad Tecnológica del Perú S.A.C."
        ],
        [
         "6306d777594e18004af0e7cd",
         "Universidad Tecnológica Del Perú",
         "Universidad Tecnológica del Perú S.A.C."
        ],
        [
         "6306d777594e18004af0e70d",
         "Upc",
         "Universidad Peruana de Ciencias Aplicadas S.A.C."
        ],
        [
         "6306d6dd9fa239004bdf1ecd",
         "Utp",
         "Universidad Tecnológica del Perú S.A.C."
        ],
        [
         "6307d1fc1e599d0009d78382",
         "Universidad San Ignacio De Loyola",
         "Universidad San Ignacio de Loyola S.R.L."
        ],
        [
         "6306d8179fa239004bdf2af1",
         "Universidad Tecnológica Del Perú",
         "Universidad Tecnológica del Perú S.A.C."
        ],
        [
         "6306d8699fa239004bdf33f3",
         "Universidad Tecnológica Del Perú - Utp",
         "Universidad Tecnológica del Perú S.A.C."
        ],
        [
         "6306d777594e18004af0efad",
         "Upn",
         "Universidad Privada del Norte S.A.C."
        ],
        [
         "6306d6099fa239004bdf0423",
         "Universidad Ricardo Palma",
         "Universidad Ricardo Palma"
        ],
        [
         "6306d63d594e18004af0dd06",
         "San Martín De Porres",
         "Universidad de San Martín de Porres"
        ],
        [
         "6306d777594e18004af0e827",
         "Ucss",
         "Universidad Católica Sedes Sapientiae"
        ],
        [
         "6306d6099fa239004bdf0fb1",
         "Universidad Nacional Federico Villarreal - Unfv",
         "Universidad Nacional Federico Villarreal"
        ],
        [
         "6306d63c594e18004af0d8ce",
         "Universidad Privada Del Norte",
         "Universidad Privada del Norte S.A.C."
        ],
        [
         "6306d802594e18004af0f46c",
         "Universidad Privada Del Norte - Upn",
         "Universidad Privada del Norte S.A.C."
        ],
        [
         "6306d66b594e18004af0e373",
         "Universidad Tecnológica Del Perú",
         "Universidad Tecnológica del Perú S.A.C."
        ],
        [
         "6306d8179fa239004bdf28cf",
         "Iep María Auxiliadora",
         "Universidad María Auxiliadora S.A.C."
        ],
        [
         "6306d777594e18004af0f00d",
         "Universidad Nacional De Educación Enrique Guzmán Y Valle",
         "Universidad Nacional de Educación Enrique Guzmán y Valle"
        ],
        [
         "6306d63d594e18004af0de26",
         "Universidad Peruana De Ciencias Aplicadas (upc)",
         "Universidad Peruana de Ciencias Aplicadas S.A.C."
        ],
        [
         "6306d63d594e18004af0e1da",
         "Universidad Católica Santo Toribio De Mogrovejo",
         "Universidad Católica Santo Toribio de Mogrovejo"
        ],
        [
         "6306d87c594e18004af10765",
         "Universidad Nacional Del Callao - Unac",
         "Universidad Nacional del Callao"
        ],
        [
         "630800e4d7fa700008e89d35",
         "Universidad Privada Del Norte",
         "Universidad Privada del Norte S.A.C."
        ],
        [
         "6306d8699fa239004bdf3435",
         "Upc",
         "Universidad Peruana de Ciencias Aplicadas S.A.C."
        ],
        [
         "6306d63d594e18004af0e11a",
         "Universidad César Vallejo",
         "Universidad César Vallejo S.A.C."
        ],
        [
         "630821df29da5b0008a10b31",
         "Universidad Privada Señor De Sipan",
         "Universidad Señor de Sipán S.A.C."
        ],
        [
         "6306d63d594e18004af0e234",
         "Universidad Privada Norbert Wiener",
         "Universidad Privada Norbert Wiener S.A."
        ],
        [
         "6306d63c594e18004af0d7ba",
         "San Ignacio De Loyola",
         "Universidad San Ignacio de Loyola S.R.L."
        ],
        [
         "6308254d29da5b0008a10c75",
         "Universidad San Ignacio De Loyola",
         "Universidad San Ignacio de Loyola S.R.L."
        ],
        [
         "6306d802594e18004af0f802",
         "Universidad Tecnológica Del Perú-utp",
         "Universidad Tecnológica del Perú S.A.C."
        ],
        [
         "630829a629da5b0008a10ddd",
         "Universidad De San Martin De Porres",
         "Universidad de San Martín de Porres"
        ],
        [
         "6306d853594e18004af104d6",
         "Universidad Tecnológica Del Perú",
         "Universidad Tecnológica del Perú S.A.C."
        ],
        [
         "630665bc594e18004af082f7",
         "I.e Por Convenio 0001 María Auxiliadora",
         "Universidad María Auxiliadora S.A.C."
        ],
        [
         "6306d777594e18004af0e6fb",
         "Instituto San Ignacio De Loyola",
         "Universidad San Ignacio de Loyola S.R.L."
        ],
        [
         "6306d63c594e18004af0d9dc",
         "Universidad Tecnológica Del Perú",
         "Universidad Tecnológica del Perú S.A.C."
        ],
        [
         "6306d6549fa239004bdf10d8",
         "Universidad Cesar Vallejo - Ucv",
         "Universidad César Vallejo S.A.C."
        ],
        [
         "6306d6549fa239004bdf10d8",
         "Universidad Privada Del Norte",
         "Universidad Privada del Norte S.A.C."
        ],
        [
         "6306d63d594e18004af0deaa",
         "Universidad Privada Del Norte",
         "Universidad Privada del Norte S.A.C."
        ],
        [
         "63083da5e86a980008df93a1",
         "Universidad De Piura",
         "Universidad de Piura"
        ],
        [
         "63083f2dd7fa700008e8b10a",
         "Univercidad Jose Faustino Sanchez Carrion",
         "Universidad Nacional José Faustino Sánchez Carrión"
        ],
        [
         "6308400be86a980008df9496",
         "Universidad Cesar Vallejo - Ucv",
         "Universidad César Vallejo S.A.C."
        ],
        [
         "6308407bb92f4f0008bfaf3a",
         "Universidad Tecnológica Del Perú - Utp",
         "Universidad Tecnológica del Perú S.A.C."
        ],
        [
         "6306d777594e18004af0e899",
         "Universidad De San Martín De Porres",
         "Universidad de San Martín de Porres"
        ],
        [
         "6306d853594e18004af1024e",
         "Universidad Cesar Vallejo",
         "Universidad César Vallejo S.A.C."
        ],
        [
         "6306d63d594e18004af0dda8",
         "Universidad Tecnológica Del Perú",
         "Universidad Tecnológica del Perú S.A.C."
        ],
        [
         "6306d8179fa239004bdf271f",
         "I.e 7069 César Vallejo",
         "Universidad César Vallejo S.A.C."
        ],
        [
         "6306d8699fa239004bdf3381",
         "Universidad Tecnológica Del Perú - Utp",
         "Universidad Tecnológica del Perú S.A.C."
        ],
        [
         "6306d6549fa239004bdf14c8",
         "Universidad Peruana De Ciencias Aplicadas",
         "Universidad Peruana de Ciencias Aplicadas S.A.C."
        ],
        [
         "6306d82b594e18004af0fbbd",
         "Universidad Peruana De Ciencias Aplicadas",
         "Universidad Peruana de Ciencias Aplicadas S.A.C."
        ],
        [
         "6306d6099fa239004bdf0ddd",
         "Unmsm",
         "Universidad Nacional Mayor de San Marcos"
        ],
        [
         "6306d777594e18004af0f085",
         "Universidad Tecnológica Del Perú",
         "Universidad Tecnológica del Perú S.A.C."
        ],
        [
         "6306d777594e18004af0ef11",
         "Universidad Cesar Vallejo",
         "Universidad César Vallejo S.A.C."
        ],
        [
         "6308c194b92f4f0008bfcaee",
         "Universidad Nacional Del Callao",
         "Universidad Nacional del Callao"
        ],
        [
         "6306d63d594e18004af0dc04",
         "Universidad Tecnológica Del Perú",
         "Universidad Tecnológica del Perú S.A.C."
        ],
        [
         "6308e5fe29da5b0008a13b64",
         "Universidad San Martín De Porres",
         "Universidad de San Martín de Porres"
        ],
        [
         "6308e882e86a980008e0054e",
         "Universidad Tecnologica Del Peru",
         "Universidad Tecnológica del Perú S.A.C."
        ],
        [
         "6306d8179fa239004bdf29bf",
         "Universidad Privada Del Norte",
         "Universidad Privada del Norte S.A.C."
        ],
        [
         "6306d777594e18004af0e6e9",
         "Universidad Privada Del Norte",
         "Universidad Privada del Norte S.A.C."
        ],
        [
         "6306d777594e18004af0f049",
         "Universidad Privada Del Norte",
         "Universidad Privada del Norte S.A.C."
        ],
        [
         "6306d777594e18004af0ed43",
         "Isil - Instituto San Ignacio De Loyola",
         "Universidad San Ignacio de Loyola S.R.L."
        ],
        [
         "6306d777594e18004af0eaa3",
         "Universidad San Martin De Porres",
         "Universidad de San Martín de Porres"
        ],
        [
         "6306d63d594e18004af0e1f8",
         "Universidad Ricardo Palma",
         "Universidad Ricardo Palma"
        ],
        [
         "630944cde86a980008e04c21",
         "Universidad Cesar Vallejo - Ucv",
         "Universidad César Vallejo S.A.C."
        ],
        [
         "6306d777594e18004af0ea2b",
         "Universidad César Vallejo",
         "Universidad César Vallejo S.A.C."
        ],
        [
         "63094d5c0b25100008434755",
         "Upc",
         "Universidad Peruana de Ciencias Aplicadas S.A.C."
        ],
        [
         "6306d8179fa239004bdf2a2b",
         "Universidad Peruana De Ciencias Aplicadas - Upc",
         "Universidad Peruana de Ciencias Aplicadas S.A.C."
        ],
        [
         "6306d777594e18004af0e893",
         "Universidad Tecnológica Del Perú - Utp",
         "Universidad Tecnológica del Perú S.A.C."
        ],
        [
         "6306d777594e18004af0e87b",
         "Universidad Nacional Del Callao",
         "Universidad Nacional del Callao"
        ],
        [
         "6306d82b594e18004af0fd6d",
         "Universidad  Nacional De Piura - Unp",
         "Universidad Nacional de Piura"
        ],
        [
         "6306d82b594e18004af0fd6d",
         "Universidad  Nacional De Piura - Unp",
         "Universidad Nacional de Piura"
        ],
        [
         "6309bdb2d7fa700008e949d6",
         "Universidad Privada Del Norte - Upn",
         "Universidad Privada del Norte S.A.C."
        ],
        [
         "6306d802594e18004af0f73c",
         "Universidad De San Martin De Porres",
         "Universidad de San Martín de Porres"
        ],
        [
         "6306d63c594e18004af0d712",
         "Universidad Tecnológica Del Perú",
         "Universidad Tecnológica del Perú S.A.C."
        ],
        [
         "630a2cd4d7fa700008e95018",
         "Universidad Tecnológica Del Perú",
         "Universidad Tecnológica del Perú S.A.C."
        ],
        [
         "6306d63d594e18004af0df7c",
         "Universidad Nacional Mayor De San Marcos",
         "Universidad Nacional Mayor de San Marcos"
        ],
        [
         "6306d8179fa239004bdf2d67",
         "Universidad Tecnológica Del Perú - Utp",
         "Universidad Tecnológica del Perú S.A.C."
        ],
        [
         "6306d853594e18004af10476",
         "Universidad De San Martin De Porres - Usmp",
         "Universidad de San Martín de Porres"
        ],
        [
         "630a7e57b92f4f0008c0aaa2",
         "Universidad Tecnológica Del Perú",
         "Universidad Tecnológica del Perú S.A.C."
        ],
        [
         "630a84f629da5b0008a1d681",
         "Universidad San Ignacio De Loyola - Usil",
         "Universidad San Ignacio de Loyola S.R.L."
        ],
        [
         "630a84f629da5b0008a1d681",
         "Instituto San Ignacio De Loyola - Isil",
         "Universidad San Ignacio de Loyola S.R.L."
        ],
        [
         "630a9adfd7fa700008e96a86",
         "Universidad Nacional De Piura",
         "Universidad Nacional de Piura"
        ],
        [
         "6306d82b594e18004af0fe4b",
         "Universidad Privada Del Norte",
         "Universidad Privada del Norte S.A.C."
        ],
        [
         "6306d777594e18004af0e7a9",
         "Universidad Privada Del Norte",
         "Universidad Privada del Norte S.A.C."
        ],
        [
         "6306d63d594e18004af0de20",
         "Universidad De Lima",
         "Universidad de Lima"
        ],
        [
         "630be93fe86a980008e0bf6e",
         "Universidad Nacional Federico Villarreal.",
         "Universidad Nacional Federico Villarreal"
        ],
        [
         "6306d777594e18004af0eed5",
         "Universidad Nacional Federico Villarreal - Unfv",
         "Universidad Nacional Federico Villarreal"
        ],
        [
         "630c4770d7fa700008e9929e",
         "Daniel Alcides Carrión",
         "Universidad Nacional Daniel Alcides Carrión"
        ],
        [
         "6306d8179fa239004bdf2b8d",
         "Universidad Peruana De Ciencias Aplicadas - Upc",
         "Universidad Peruana de Ciencias Aplicadas S.A.C."
        ],
        [
         "6306d63d594e18004af0e192",
         "Universidad Tecnológica Del Perú - Utp",
         "Universidad Tecnológica del Perú S.A.C."
        ],
        [
         "6306d777594e18004af0e815",
         "Universidad San Ignacio De Loyola - Usil",
         "Universidad San Ignacio de Loyola S.R.L."
        ],
        [
         "630cd8ddd7fa700008e99b17",
         "Instituto San Ignacio De Loyola - Isil",
         "Universidad San Ignacio de Loyola S.R.L."
        ],
        [
         "630ce0b31e599d0009d899ac",
         "Universidad Peruana De Ciencias Aplicadas",
         "Universidad Peruana de Ciencias Aplicadas S.A.C."
        ],
        [
         "6306d802594e18004af0f538",
         "Universidad Cesar Vallejo",
         "Universidad César Vallejo S.A.C."
        ],
        [
         "630cf7f7d7fa700008e9a93b",
         "Universidad Privada San Juan Bautista",
         "Universidad Privada San Juan Bautista S.A.C."
        ],
        [
         "630d071ad7fa700008e9aea4",
         "Universidad De Piura",
         "Universidad de Piura"
        ],
        [
         "6306d63c594e18004af0d736",
         "Universidad San Ignacio De Loyola",
         "Universidad San Ignacio de Loyola S.R.L."
        ],
        [
         "630d389db92f4f0008c0fd9f",
         "Universidad Privada Del Norte",
         "Universidad Privada del Norte S.A.C."
        ],
        [
         "630d39d3b92f4f0008c0fe87",
         "Universidad Nacional Del Callao",
         "Universidad Nacional del Callao"
        ],
        [
         "630d6fad9bdb400009f442c8",
         "Universidad Cesar Vallejo.",
         "Universidad César Vallejo S.A.C."
        ],
        [
         "630d7e907e5d980009c6e0a5",
         "Universidad Nacional De San Antonio Abad Del Cusco - Unsaac",
         "Universidad Nacional de San Antonio Abad del Cusco"
        ],
        [
         "630d7e907e5d980009c6e0a5",
         "Universidad Nacional De San Antonio Abad Del Cusco - Unsaac",
         "Universidad Nacional de San Antonio Abad del Cusco"
        ],
        [
         "6306d63d594e18004af0dc5e",
         "Universidad Privada Del Norte",
         "Universidad Privada del Norte S.A.C."
        ],
        [
         "630e3d989bdb400009f4573d",
         "Universidad Tecnológica Del Perú-utp",
         "Universidad Tecnológica del Perú S.A.C."
        ],
        [
         "630e863a516b7b0008dd5dfc",
         "Upc",
         "Universidad Peruana de Ciencias Aplicadas S.A.C."
        ],
        [
         "630e8bd0516b7b0008dd5eb5",
         "Universidad Privada Del Norte - Upn",
         "Universidad Privada del Norte S.A.C."
        ],
        [
         "6306d6dd9fa239004bdf1eb5",
         "Universidad Nacional De La Amazonía Peruana",
         "Universidad Nacional de la Amazonía Peruana"
        ],
        [
         "6306d82b594e18004af0fe63",
         "Universidad Católica Sedes Sapientiae - Ucss",
         "Universidad Católica Sedes Sapientiae"
        ],
        [
         "630665b89fa239004bddc497",
         "Instituto San Ignacio De Loyola",
         "Universidad San Ignacio de Loyola S.R.L."
        ],
        [
         "6306d8179fa239004bdf2d7f",
         "Universidad Ricardo Palma",
         "Universidad Ricardo Palma"
        ],
        [
         "630ec5ab9bdb400009f46e20",
         "Universidad Autónoma Del Perú - Ua",
         "Universidad Autónoma del Perú S.A.C."
        ],
        [
         "630ed0d61d665a00086fc39b",
         "Universidad San Ignacio De Loyola",
         "Universidad San Ignacio de Loyola S.R.L."
        ],
        [
         "630f9d077e5d980009c725f7",
         "Universidad Privada Norbert Wiener (uwiener)",
         "Universidad Privada Norbert Wiener S.A."
        ],
        [
         "6306d82b594e18004af0ff83",
         "Universidad Tecnológica Del Perú (utp)",
         "Universidad Tecnológica del Perú S.A.C."
        ],
        [
         "6306d8179fa239004bdf2a0d",
         "Universidad Nacional Agraria La Molina - La Molina",
         "Universidad Nacional Agraria La Molina"
        ],
        [
         "6306d6099fa239004bdf0399",
         "Universidad San Ignacio De Loyola - Usil",
         "Universidad San Ignacio de Loyola S.R.L."
        ],
        [
         "6306d63c594e18004af0d844",
         "Universidad Nacional Federico Villarreal",
         "Universidad Nacional Federico Villarreal"
        ],
        [
         "630ffd4e7e5d980009c74e82",
         "Universidad Cesar Vallejo",
         "Universidad César Vallejo S.A.C."
        ],
        [
         "630fff6c5a5f2e0009f8f002",
         "Centro De Informatica Y Telecomunicacion De La Universidad Nacional  De Tumbes",
         "Universidad Nacional de Tumbes"
        ],
        [
         "6306d853594e18004af1006e",
         "Universidad Nacional Del Callao - Unac",
         "Universidad Nacional del Callao"
        ],
        [
         "631028df5a5f2e0009f8ff85",
         "Universidad De San Martin De Porres - Usmp",
         "Universidad de San Martín de Porres"
        ],
        [
         "631056af5a5f2e0009f908ea",
         "Universidad Cesar Vallejo - Ucv",
         "Universidad César Vallejo S.A.C."
        ],
        [
         "6310c17b5a5f2e0009f9104b",
         "Universidad Tecnológica Del Perú",
         "Universidad Tecnológica del Perú S.A.C."
        ],
        [
         "6306d777594e18004af0e923",
         "Universidad Tecnológica Del Perú",
         "Universidad Tecnológica del Perú S.A.C."
        ],
        [
         "6310d7429bdb400009f4d8f9",
         "Universidad Privada Del Norte - Unp",
         "Universidad Privada del Norte S.A.C."
        ],
        [
         "6310f0d01d665a0008703762",
         "Universidad Tecnológica Del Perú",
         "Universidad Tecnológica del Perú S.A.C."
        ],
        [
         "631109f57e5d980009c79124",
         "Universidad Tecnológica Del Perú",
         "Universidad Tecnológica del Perú S.A.C."
        ],
        [
         "63110a109bdb400009f4fa94",
         "Unfv",
         "Universidad Nacional Federico Villarreal"
        ],
        [
         "63111ffb4253530009af7954",
         "Universidad Católica Sedes Sapientiae - Ucss",
         "Universidad Católica Sedes Sapientiae"
        ],
        [
         "6306d802594e18004af0f706",
         "Instituto San Ignacio De Loyola Isil",
         "Universidad San Ignacio de Loyola S.R.L."
        ],
        [
         "6306d802594e18004af0f760",
         "Universidad Nacional De Piura",
         "Universidad Nacional de Piura"
        ],
        [
         "6306d802594e18004af0fad8",
         "Universidad Cesar Vallejo",
         "Universidad César Vallejo S.A.C."
        ],
        [
         "6306d853594e18004af100e6",
         "Universidad De San Martín De Porres",
         "Universidad de San Martín de Porres"
        ],
        [
         "631166067e5d980009c7b49c",
         "Universidad Nacional Del Callao",
         "Universidad Nacional del Callao"
        ],
        [
         "6306d63d594e18004af0dcc4",
         "Universidad Cesar Vallejo",
         "Universidad César Vallejo S.A.C."
        ],
        [
         "63119faff4622c0008c18647",
         "Universidad Privada Del Norte",
         "Universidad Privada del Norte S.A.C."
        ],
        [
         "63120bce5073940008a1f648",
         "Universidad Privada Del Norte",
         "Universidad Privada del Norte S.A.C."
        ],
        [
         "631228135073940008a1fec0",
         "Universidad Tecnologica Del Peru",
         "Universidad Tecnológica del Perú S.A.C."
        ],
        [
         "631256826442660008f376b5",
         "Universidad  Privada  Del Norte",
         "Universidad Privada del Norte S.A.C."
        ],
        [
         "6306d82b594e18004af0fe03",
         "Universidad Cesar Vallejo",
         "Universidad César Vallejo S.A.C."
        ],
        [
         "63127e158ad71a0008d6fd53",
         "Universidad San Ignacio De Loyola - Usil",
         "Universidad San Ignacio de Loyola S.R.L."
        ],
        [
         "631280468ad71a0008d6fe12",
         "Universidad Privada Del Norte - Unp",
         "Universidad Privada del Norte S.A.C."
        ],
        [
         "6306d6dd9fa239004bdf1e7f",
         "Universidad Nacional Mayor De San Marcos",
         "Universidad Nacional Mayor de San Marcos"
        ],
        [
         "6306d6dd9fa239004bdf1e7f",
         "Universidad Nacional Del Callao",
         "Universidad Nacional del Callao"
        ],
        [
         "6306d6dd9fa239004bdf1e7f",
         "Universidad Nacional Mayor De San Marcos",
         "Universidad Nacional Mayor de San Marcos"
        ],
        [
         "631242cd6442660008f368a2",
         "Universidad Continental De Ciencias E Ingeniería - Ucci",
         "Universidad Continental S.A.C."
        ],
        [
         "631242cd6442660008f368a2",
         "Universidad Continental De Ciencias E Ingeniería - Ucci",
         "Universidad Continental S.A.C."
        ],
        [
         "631242cd6442660008f368a2",
         "Universidad Continental De Ciencias E Ingeniería - Ucci",
         "Universidad Continental S.A.C."
        ],
        [
         "631242cd6442660008f368a2",
         "Universidad Continental De Ciencias E Ingeniería - Ucci",
         "Universidad Continental S.A.C."
        ],
        [
         "631242cd6442660008f368a2",
         "Universidad Nacional Del Centro Del Peru",
         "Universidad Nacional del Centro del Perú"
        ],
        [
         "631242cd6442660008f368a2",
         "Universidad Continental De Ciencias E In",
         "Universidad Continental S.A.C."
        ],
        [
         "631242cd6442660008f368a2",
         "Universidad Nacional Del Centro Del Peru",
         "Universidad Nacional del Centro del Perú"
        ],
        [
         "631242cd6442660008f368a2",
         "Universidad Continental De Ciencias E Ingenieria",
         "Universidad Continental S.A.C."
        ],
        [
         "6317658fe5ee99003f0aa504",
         "Universidad Cesar Vallejo",
         "Universidad César Vallejo S.A.C."
        ],
        [
         "6306d8179fa239004bdf28a5",
         "Universidad De San Martín De Porres",
         "Universidad de San Martín de Porres"
        ],
        [
         "6306d802594e18004af0f4d2",
         "Universidad Privada Del Norte",
         "Universidad Privada del Norte S.A.C."
        ],
        [
         "6318d1339bc8d90009563dee",
         "Universidad San Martín De Porres",
         "Universidad de San Martín de Porres"
        ],
        [
         "6318ed821c7bdc00081b9bb6",
         "Universidad Peruana De Ciencias Aplicadas - Upc",
         "Universidad Peruana de Ciencias Aplicadas S.A.C."
        ],
        [
         "631910cf1c7bdc00081bad11",
         "Universidad Nacional Federico Villarreal",
         "Universidad Nacional Federico Villarreal"
        ],
        [
         "63191dd319d98e0008e9bacd",
         "Universidad Privada Del Norte",
         "Universidad Privada del Norte S.A.C."
        ],
        [
         "6306d777594e18004af0e695",
         "Universidad Nacional Agraria De La Selva - Unas",
         "Universidad Nacional Agraria de la Selva"
        ],
        [
         "631948461c7bdc00081bc6f8",
         "Universidad Ricardo Palma",
         "Universidad Ricardo Palma"
        ],
        [
         "631949178a691c00087c5d98",
         "Universidad Cesar Vallejo",
         "Universidad César Vallejo S.A.C."
        ],
        [
         "63194c678a691c00087c6039",
         "Universidad Tecnológica Del Perú",
         "Universidad Tecnológica del Perú S.A.C."
        ],
        [
         "63194fbd8a691c00087c61c3",
         "Universidad San Ignacio De Loyola - Usil",
         "Universidad San Ignacio de Loyola S.R.L."
        ],
        [
         "631952331c7bdc00081bccc6",
         "Universidad Privada Del Norte",
         "Universidad Privada del Norte S.A.C."
        ],
        [
         "631956249bc8d90009568215",
         "Unac",
         "Universidad Nacional del Callao"
        ],
        [
         "63195614c31a670008a59a1a",
         "Universidad Tecnológica Del Perú",
         "Universidad Tecnológica del Perú S.A.C."
        ],
        [
         "63195a19c31a670008a59b5f",
         "Universidad De Ciencias Aplicadas",
         "Universidad Peruana de Ciencias Aplicadas S.A.C."
        ],
        [
         "63195a19c31a670008a59b5f",
         "Le Cordon Bleu Peru",
         "Universidad Le Cordon Bleu S.A.C."
        ],
        [
         "63195a578a691c00087c68ff",
         "Universidad Continental",
         "Universidad Continental S.A.C."
        ],
        [
         "63195ccc8a691c00087c699e",
         "Universidad Nacional Federico Villarreal - Unfv",
         "Universidad Nacional Federico Villarreal"
        ],
        [
         "6319635219d98e0008e9dd05",
         "Universidad Privada Del Norte - Upn",
         "Universidad Privada del Norte S.A.C."
        ],
        [
         "6319658d1c7bdc00081bd442",
         "Instituto San Ignacio De Loyola - Isil",
         "Universidad San Ignacio de Loyola S.R.L."
        ],
        [
         "6319696a19d98e0008e9def9",
         "Universidad César Vallejo",
         "Universidad César Vallejo S.A.C."
        ],
        [
         "63196ea59bc8d90009568889",
         "Universidad Privada Del Norte",
         "Universidad Privada del Norte S.A.C."
        ],
        [
         "63197a058a691c00087c70f6",
         "Universidad Católica Sedes Sapientiae",
         "Universidad Católica Sedes Sapientiae"
        ],
        [
         "6319834acfc3230008d97c2d",
         "Universidad Jaime Bausate Y Meza",
         "Universidad Jaime Bausate y Meza"
        ],
        [
         "6319d4a419d98e0008e9e855",
         "Universidad Nacional De Educación Enrique Guzmán Y Valle - La Cantuta",
         "Universidad Nacional de Educación Enrique Guzmán y Valle"
        ],
        [
         "6319ed481c7bdc00081be00c",
         "Universidad Tecnológica Del Perú - Utp",
         "Universidad Tecnológica del Perú S.A.C."
        ],
        [
         "631a060519d98e0008e9ee89",
         "Universidad Nacional Federico Villarreal",
         "Universidad Nacional Federico Villarreal"
        ],
        [
         "631a0c5b9bc8d90009569a0b",
         "Universidad Nacional Mayor De San Marcos",
         "Universidad Nacional Mayor de San Marcos"
        ],
        [
         "631a385bc31a670008a5c351",
         "Universidad Privada Del Norte",
         "Universidad Privada del Norte S.A.C."
        ],
        [
         "631a42b1c31a670008a5c591",
         "Universidad Privada Del Norte - Upn",
         "Universidad Privada del Norte S.A.C."
        ],
        [
         "631a46b419d98e0008ea0db4",
         "Universidad César Vallejo",
         "Universidad César Vallejo S.A.C."
        ],
        [
         "631a87ca9bc8d9000956d025",
         "Universidad Nacional José Faustino Sánchez Carrión",
         "Universidad Nacional José Faustino Sánchez Carrión"
        ],
        [
         "631a937167f46700086816ed",
         "Universidad Nacional De La Amazonia Peruana - Unap",
         "Universidad Nacional de la Amazonía Peruana"
        ],
        [
         "631a9fad8ddb27000869af69",
         "Universidad Ricardo Palma",
         "Universidad Ricardo Palma"
        ],
        [
         "631aadcb1c56340008d6ae47",
         "Universidad César Vallejo",
         "Universidad César Vallejo S.A.C."
        ],
        [
         "631b37501c56340008d6b7f0",
         "Universidad Tecnológica Del Perú",
         "Universidad Tecnológica del Perú S.A.C."
        ],
        [
         "631b42ff756c7c0009647844",
         "Universidad Nacional Federico Villarreal",
         "Universidad Nacional Federico Villarreal"
        ],
        [
         "631a58a18a691c00087ca0e0",
         "Cesar Vallejo",
         "Universidad César Vallejo S.A.C."
        ],
        [
         "631a58a18a691c00087ca0e0",
         "Cesar Vallejo",
         "Universidad César Vallejo S.A.C."
        ],
        [
         "631b49ddbac1bc000908cbba",
         "Universidad Privada Del Norte",
         "Universidad Privada del Norte S.A.C."
        ],
        [
         "631b5c451c56340008d6bcc1",
         "Universidad Tecnologica Del Peru",
         "Universidad Tecnológica del Perú S.A.C."
        ],
        [
         "631b596067f4670008682b46",
         "Pontificia Universidad Católica Del Perú",
         "Pontificia Universidad Católica del Perú"
        ],
        [
         "631b596067f4670008682b46",
         "Universidad Nacional Mayor De San Marcos",
         "Universidad Nacional Mayor de San Marcos"
        ],
        [
         "6306d802594e18004af0f7b4",
         "Universidad Nacional Mayor De San Marcos",
         "Universidad Nacional Mayor de San Marcos"
        ],
        [
         "631be713756c7c000964a4c3",
         "Universidad Tecnológica Del Perú",
         "Universidad Tecnológica del Perú S.A.C."
        ],
        [
         "631cce4a8ddb27000869fe8f",
         "Universidad Tecnológica Del Perú",
         "Universidad Tecnológica del Perú S.A.C."
        ],
        [
         "631ccfb68ddb27000869fe97",
         "Universidad Privada San Juan Bautista",
         "Universidad Privada San Juan Bautista S.A.C."
        ],
        [
         "631ce60967f4670008686b9e",
         "Universidad Nacional Del Callao",
         "Universidad Nacional del Callao"
        ],
        [
         "631d24df1c56340008d70886",
         "Universidad Cesar Vallejo",
         "Universidad César Vallejo S.A.C."
        ],
        [
         "631eb2161c56340008d71f7a",
         "Univesidad Nacional Mayor De San Marcos",
         "Universidad Nacional Mayor de San Marcos"
        ],
        [
         "631e0d02bac1bc0009092e1d",
         "Universidad Privada Antenor Orrego",
         "Universidad Privada Antenor Orrego"
        ],
        [
         "631f4e5367f4670008689418",
         "Universidad Privada Del Norte",
         "Universidad Privada del Norte S.A.C."
        ],
        [
         "631f4250756c7c000964e3c2",
         "Universidad Cesar Vallejo - Ucv",
         "Universidad César Vallejo S.A.C."
        ],
        [
         "631fb94bbac1bc0009096a76",
         "Universidad Privada Del Norte - Upn",
         "Universidad Privada del Norte S.A.C."
        ],
        [
         "631f9c0dec32bd0007ba453f",
         "Universidad Privada Del Norte",
         "Universidad Privada del Norte S.A.C."
        ],
        [
         "631f9c0dec32bd0007ba453f",
         "Universidad Mayor De San Marcos",
         "Universidad Nacional Mayor de San Marcos"
        ],
        [
         "631f5afe844cb4003f2ddb79",
         "Universidad Privada Del Norte",
         "Universidad Privada del Norte S.A.C."
        ],
        [
         "631ff421469d5700083df48f",
         "Universidad Peruana De Ciencias Aplicadas",
         "Universidad Peruana de Ciencias Aplicadas S.A.C."
        ],
        [
         "63201345e5ee99003f13743b",
         "Universidad Privada Del Norte - Upn",
         "Universidad Privada del Norte S.A.C."
        ],
        [
         "63201345e5ee99003f13743b",
         "Universidad Cesar Vallejo - Ucv",
         "Universidad César Vallejo S.A.C."
        ],
        [
         "63201345e5ee99003f1375e5",
         "Universidad Privada Del Norte ( Upn )",
         "Universidad Privada del Norte S.A.C."
        ],
        [
         "6320b774e5ee99003f15525d",
         "Univ Cesar Vallejo",
         "Universidad César Vallejo S.A.C."
        ],
        [
         "63201345e5ee99003f1372b5",
         "Universidad Privada Del Norte",
         "Universidad Privada del Norte S.A.C."
        ],
        [
         "6320b774e5ee99003f155257",
         "Universidad Nacional De Educación Enrique Guzman Y Valle",
         "Universidad Nacional de Educación Enrique Guzmán y Valle"
        ],
        [
         "6321f446e5ee99003f166cc4",
         "Universidad Federico Villarreal",
         "Universidad Nacional Federico Villarreal"
        ],
        [
         "6321f446e5ee99003f166cb8",
         "Universidad Nacional Del Callao",
         "Universidad Nacional del Callao"
        ],
        [
         "63201345e5ee99003f1375bb",
         "Universidad Privada Del Norte",
         "Universidad Privada del Norte S.A.C."
        ],
        [
         "632356b4e5ee99003f1779dd",
         "Universidad Federico Villarreal",
         "Universidad Nacional Federico Villarreal"
        ],
        [
         "631d38fe469d5700083d9b0e",
         "Universidad San Ignacio De Loyola",
         "Universidad San Ignacio de Loyola S.R.L."
        ],
        [
         "632356b4e5ee99003f1779e9",
         "Universidad Nacional De San Martín",
         "Universidad Nacional de San Martín"
        ],
        [
         "63290f672ff5e80008d83c43",
         "Universidad Cientifica  Del Sur",
         "Universidad Científica del Sur S.A.C."
        ],
        [
         "6306d777594e18004af0ec7d",
         "Utp",
         "Universidad Tecnológica del Perú S.A.C."
        ],
        [
         "632b232a35b6d50040d3452e",
         "Universidad César Vallejo",
         "Universidad César Vallejo S.A.C."
        ],
        [
         "632c74527e473700401d4670",
         "Universidad Cesar Vallejo - Ucv",
         "Universidad César Vallejo S.A.C."
        ],
        [
         "632c74527e473700401d4652",
         "Cesar Vallejo",
         "Universidad César Vallejo S.A.C."
        ],
        [
         "632c74527e473700401d4664",
         "Univeridad Privada Del Norte",
         "Universidad Privada del Norte S.A.C."
        ],
        [
         "633757fd7e473700402fbff9",
         "José Cayetano Heredia",
         "Universidad Peruana Cayetano Heredia"
        ],
        [
         "6337bc26ea7d3a0008c7b250",
         "Universidad Católica Sedes Sapientiae",
         "Universidad Católica Sedes Sapientiae"
        ],
        [
         "633aff6832fb480008052f9d",
         "Universidad Autónoma De Ica",
         "Universidad Autónoma de Ica S.A.C."
        ],
        [
         "633aff6832fb480008052fb1",
         "Cesar Vallejo",
         "Universidad César Vallejo S.A.C."
        ],
        [
         "633aff6832fb480008052fb1",
         "Cesar Vallejo",
         "Universidad César Vallejo S.A.C."
        ],
        [
         "633aff6832fb480008052fb9",
         "Univesidad César Vallejo",
         "Universidad César Vallejo S.A.C."
        ],
        [
         "633aff6832fb480008053005",
         "Universidad Privada Del Norte",
         "Universidad Privada del Norte S.A.C."
        ],
        [
         "633aff6832fb480008053043",
         "Universidad Privada Del Norte",
         "Universidad Privada del Norte S.A.C."
        ],
        [
         "633aff6832fb4800080530f8",
         "Universidad Tecnológica Del Perú",
         "Universidad Tecnológica del Perú S.A.C."
        ],
        [
         "633aff6832fb480008053135",
         "Universidad Nacional De Tumbes - Unt",
         "Universidad Nacional de Tumbes"
        ],
        [
         "633aff6832fb480008053059",
         "Universidad Nacional Del Callao Unac",
         "Universidad Nacional del Callao"
        ],
        [
         "633aff6832fb48000805312b",
         "Utp",
         "Universidad Tecnológica del Perú S.A.C."
        ],
        [
         "633aff6832fb4800080531ff",
         "Universidad Nacional Mayor De San Marcos",
         "Universidad Nacional Mayor de San Marcos"
        ],
        [
         "633aff6832fb4800080531b6",
         "I.e César Vallejo",
         "Universidad César Vallejo S.A.C."
        ],
        [
         "633aff6832fb4800080532bd",
         "Universidad Cesar Vallejo",
         "Universidad César Vallejo S.A.C."
        ],
        [
         "633aff6832fb480008052f93",
         "Universidad Privada Del Norte",
         "Universidad Privada del Norte S.A.C."
        ],
        [
         "633aff6832fb4800080532e9",
         "Universidad Privada Del Norte",
         "Universidad Privada del Norte S.A.C."
        ],
        [
         "633aff6832fb4800080532fb",
         "Universidad Nacional Del Callao - Unac",
         "Universidad Nacional del Callao"
        ],
        [
         "633aff6832fb48000805331b",
         "Universidad Tecnológica Del Perú",
         "Universidad Tecnológica del Perú S.A.C."
        ],
        [
         "633aff6832fb480008053327",
         "Universidad Privada Del Norte",
         "Universidad Privada del Norte S.A.C."
        ],
        [
         "633aff6832fb48000805332e",
         "Universidad Privada Del Norte - Upn",
         "Universidad Privada del Norte S.A.C."
        ],
        [
         "633fd4e0ed0d7a00076650fb",
         "San Ignacio De Loyola",
         "Universidad San Ignacio de Loyola S.R.L."
        ],
        [
         "63102ceb1d665a00087019b7",
         "Utp",
         "Universidad Tecnológica del Perú S.A.C."
        ],
        [
         "6310bfd54253530009af4988",
         "Universidad Tecnológica Del Perú",
         "Universidad Tecnológica del Perú S.A.C."
        ],
        [
         "6310cc964253530009af4d77",
         "Universidad Privada Del Norte",
         "Universidad Privada del Norte S.A.C."
        ],
        [
         "631104575a5f2e0009f9304e",
         "Universidad Privada Del Norte",
         "Universidad Privada del Norte S.A.C."
        ],
        [
         "63112c8d9bdb400009f50857",
         "Universidad Privada Del Norte",
         "Universidad Privada del Norte S.A.C."
        ],
        [
         "63113bbd4253530009af851d",
         "Universidad Cesar Vallejo",
         "Universidad César Vallejo S.A.C."
        ],
        [
         "63113bbd4253530009af851d",
         "Universidad Cesar Vallejo",
         "Universidad César Vallejo S.A.C."
        ],
        [
         "6311438c4253530009af889e",
         "Universidad Tecnológica Del Perú",
         "Universidad Tecnológica del Perú S.A.C."
        ],
        [
         "63115f954253530009af9439",
         "Universidad Tecnológica Del Perú",
         "Universidad Tecnológica del Perú S.A.C."
        ],
        [
         "631168355a5f2e0009f95ad1",
         "Universidad De Ciencias Aplicadas",
         "Universidad Peruana de Ciencias Aplicadas S.A.C."
        ],
        [
         "63116b965a5f2e0009f95cb3",
         "Universidad Privada Antenor Orrego",
         "Universidad Privada Antenor Orrego"
        ],
        [
         "63117268f4622c0008c17c3d",
         "Universidad Privada Del Norte",
         "Universidad Privada del Norte S.A.C."
        ],
        [
         "63121bf803ed1f00085bed81",
         "Universidad Privada Del Norte",
         "Universidad Privada del Norte S.A.C."
        ],
        [
         "6312222d0d11cc000ad2d040",
         "Universidad San Agustín De Arequipa",
         "Universidad Nacional de San Agustín de Arequipa"
        ],
        [
         "63121ff403ed1f00085bee9f",
         "Upc",
         "Universidad Peruana de Ciencias Aplicadas S.A.C."
        ],
        [
         "631242e803ed1f00085bfd05",
         "Ricardo Palma",
         "Universidad Ricardo Palma"
        ],
        [
         "631254698ad71a0008d6f0a7",
         "Universidad  Privada  Del Norte",
         "Universidad Privada del Norte S.A.C."
        ],
        [
         "631260545073940008a21857",
         "Universidad Autonoma Del Peru",
         "Universidad Autónoma del Perú S.A.C."
        ],
        [
         "6312a4a8e5ee99003f0868a4",
         "Universidad Tecnológica Del Perú",
         "Universidad Tecnológica del Perú S.A.C."
        ],
        [
         "6312a43d844cb4003f22de4c",
         "Universidad Cesar Vallejo - Ucv",
         "Universidad César Vallejo S.A.C."
        ],
        [
         "6312a4a8e5ee99003f0863d0",
         "Universidad Tecnológica Del Perú",
         "Universidad Tecnológica del Perú S.A.C."
        ],
        [
         "6312a43d844cb4003f22e026",
         "Universidad Privada Del Norte",
         "Universidad Privada del Norte S.A.C."
        ],
        [
         "63128e34844cb4003f22c784",
         "Universidad Privada Del Norte",
         "Universidad Privada del Norte S.A.C."
        ],
        [
         "6312a4a8e5ee99003f086b26",
         "Universidad Nacional De Cañete",
         "Universidad Nacional de Cañete"
        ],
        [
         "63128e34844cb4003f22bf0e",
         "Universidad Tecnológica Del Perú",
         "Universidad Tecnológica del Perú S.A.C."
        ],
        [
         "6312a4a8e5ee99003f0863e2",
         "Universidad Tecnológica Del Perú - Utp",
         "Universidad Tecnológica del Perú S.A.C."
        ],
        [
         "6312a4a8e5ee99003f0865ec",
         "Universidad Peruana De Ciencias Aplicadas",
         "Universidad Peruana de Ciencias Aplicadas S.A.C."
        ],
        [
         "6312a4a8e5ee99003f085fc2",
         "Universidad Privada Del Norte",
         "Universidad Privada del Norte S.A.C."
        ],
        [
         "63128e34844cb4003f22baca",
         "Universidad Privada Del Norte",
         "Universidad Privada del Norte S.A.C."
        ],
        [
         "63128e34844cb4003f22ba58",
         "Upn",
         "Universidad Privada del Norte S.A.C."
        ],
        [
         "63128e34844cb4003f22bd6a",
         "Universidad Privada Del Norte",
         "Universidad Privada del Norte S.A.C."
        ],
        [
         "63128e34844cb4003f22bdf4",
         "Universidad Privada Del Norte",
         "Universidad Privada del Norte S.A.C."
        ],
        [
         "6312a4a8e5ee99003f086802",
         "Universidad Cesar Vallejo",
         "Universidad César Vallejo S.A.C."
        ],
        [
         "6312a4a8e5ee99003f085f02",
         "Utp",
         "Universidad Tecnológica del Perú S.A.C."
        ],
        [
         "63128e34844cb4003f22ba9a",
         "Universidad Tecnológica Del Perú",
         "Universidad Tecnológica del Perú S.A.C."
        ],
        [
         "63128e34844cb4003f22bd7c",
         "Universidad Nacional Del Callao",
         "Universidad Nacional del Callao"
        ],
        [
         "6312a4a8e5ee99003f085698",
         "Universidad Cesar Vallejo",
         "Universidad César Vallejo S.A.C."
        ],
        [
         "63128e34844cb4003f22c0a6",
         "Univerdidad Privada Norbert Wiener",
         "Universidad Privada Norbert Wiener S.A."
        ],
        [
         "6312a4a8e5ee99003f086a48",
         "Universidad De San Martín De Porres",
         "Universidad de San Martín de Porres"
        ],
        [
         "6312a4a8e5ee99003f086a0c",
         "Universidad Nacional Del Callao",
         "Universidad Nacional del Callao"
        ],
        [
         "6312a4a8e5ee99003f086832",
         "Universidad De San Martin De Porres",
         "Universidad de San Martín de Porres"
        ],
        [
         "63128e33844cb4003f22b8d8",
         "Universidad Nacional Federico Villarreal - Unfv",
         "Universidad Nacional Federico Villarreal"
        ],
        [
         "6312a4a8e5ee99003f085932",
         "Universidad Privada Del Norte",
         "Universidad Privada del Norte S.A.C."
        ],
        [
         "63128e34844cb4003f22c6c4",
         "Universidad Cesar Vallejo  Ucv",
         "Universidad César Vallejo S.A.C."
        ],
        [
         "6312a43d844cb4003f22e632",
         "Universidad Privada Del Norte",
         "Universidad Privada del Norte S.A.C."
        ],
        [
         "63128e34844cb4003f22c544",
         "Universidad César Vallejo",
         "Universidad César Vallejo S.A.C."
        ],
        [
         "6312a4a8e5ee99003f086400",
         "Universidad Privada Del Norte",
         "Universidad Privada del Norte S.A.C."
        ],
        [
         "6312a4a8e5ee99003f0864fc",
         "Daniel Alcides Carrión",
         "Universidad Nacional Daniel Alcides Carrión"
        ],
        [
         "63128e34844cb4003f22c19c",
         "Universidad Nacional Santiago Antúnez De Mayolo, Huaraz",
         "Universidad Nacional Santiago Antúnez de Mayolo"
        ],
        [
         "6312b39a5073940008a23c8b",
         "Universidad Nacional De Piura",
         "Universidad Nacional de Piura"
        ],
        [
         "6312a4a8e5ee99003f086c52",
         "Instituto San Ignacio De Loyola",
         "Universidad San Ignacio de Loyola S.R.L."
        ],
        [
         "6312a4a8e5ee99003f08581e",
         "Universidad Científica Del Sur",
         "Universidad Científica del Sur S.A.C."
        ],
        [
         "6312a43d844cb4003f22dde6",
         "Universidad Privada Del Norte",
         "Universidad Privada del Norte S.A.C."
        ],
        [
         "63128e34844cb4003f22bb9c",
         "Universidad Nacional Del Callao",
         "Universidad Nacional del Callao"
        ],
        [
         "6312a43d844cb4003f22dfcc",
         "Universodad Privada Del Norte",
         "Universidad Privada del Norte S.A.C."
        ],
        [
         "6312b796f4622c0008c1d6f8",
         "Universidad Peruana De Ciencias Aplicadas - Upc",
         "Universidad Peruana de Ciencias Aplicadas S.A.C."
        ],
        [
         "63128e34844cb4003f22bcc8",
         "Usil",
         "Universidad San Ignacio de Loyola S.R.L."
        ],
        [
         "63128e33844cb4003f22b794",
         "Universidad Cesar Vallejo - Ucv",
         "Universidad César Vallejo S.A.C."
        ],
        [
         "63128e33844cb4003f22b794",
         "Universidad Privada Del Norte",
         "Universidad Privada del Norte S.A.C."
        ],
        [
         "63128e34844cb4003f22bbba",
         "Universidad Cesar Vallejo",
         "Universidad César Vallejo S.A.C."
        ],
        [
         "6312a4a8e5ee99003f085f5c",
         "Usil",
         "Universidad San Ignacio de Loyola S.R.L."
        ],
        [
         "63128e34844cb4003f22bbf0",
         "Universidad De Ciencias Aplicadas - Upc",
         "Universidad Peruana de Ciencias Aplicadas S.A.C."
        ],
        [
         "6312a4a8e5ee99003f086046",
         "Universidad Privada Del Norte",
         "Universidad Privada del Norte S.A.C."
        ],
        [
         "63128e34844cb4003f22c4f6",
         "Universidad Privada Del Norte",
         "Universidad Privada del Norte S.A.C."
        ],
        [
         "6312a4a8e5ee99003f086868",
         "Universidad Cesar Vallejo - Ucv",
         "Universidad César Vallejo S.A.C."
        ],
        [
         "6312a4a8e5ee99003f086070",
         "Universidad Privada Del Norte",
         "Universidad Privada del Norte S.A.C."
        ],
        [
         "6312a4a8e5ee99003f086ac6",
         "Universidad Tecnológica Del Perú",
         "Universidad Tecnológica del Perú S.A.C."
        ],
        [
         "6312a4a8e5ee99003f08573a",
         "Universidad Privada Del Norte",
         "Universidad Privada del Norte S.A.C."
        ],
        [
         "6312a4a8e5ee99003f0858c6",
         "Universidad Peruana De Ciencias Aplicadas",
         "Universidad Peruana de Ciencias Aplicadas S.A.C."
        ],
        [
         "6312a4a8e5ee99003f0858c6",
         "I.e Por Convenio 0001 María Auxiliadora",
         "Universidad María Auxiliadora S.A.C."
        ],
        [
         "63128e34844cb4003f22c778",
         "Universidad Privada Del Norte (upn)",
         "Universidad Privada del Norte S.A.C."
        ],
        [
         "63128e34844cb4003f22c778",
         "Universidad Peruana De Ciencias Aplicadas (upc)",
         "Universidad Peruana de Ciencias Aplicadas S.A.C."
        ],
        [
         "6312a4a8e5ee99003f086622",
         "Instituto De La Clínica Ricardo Palma",
         "Universidad Ricardo Palma"
        ],
        [
         "6312a4a8e5ee99003f086622",
         "Universidad Le Cordon Bleu",
         "Universidad Le Cordon Bleu S.A.C."
        ],
        [
         "6312a4a8e5ee99003f086184",
         "Universidad Tecnológica Del Perú",
         "Universidad Tecnológica del Perú S.A.C."
        ],
        [
         "6312a4a8e5ee99003f086874",
         "Utp",
         "Universidad Tecnológica del Perú S.A.C."
        ],
        [
         "6312a4a8e5ee99003f086aae",
         "Universidad Privada Del Norte",
         "Universidad Privada del Norte S.A.C."
        ],
        [
         "63128e34844cb4003f22c8b0",
         "Universidad Nacional Del Callao",
         "Universidad Nacional del Callao"
        ],
        [
         "6312a4a8e5ee99003f086b02",
         "Universidad Tecnológica Del Perú",
         "Universidad Tecnológica del Perú S.A.C."
        ],
        [
         "6312a4a8e5ee99003f0866a0",
         "Universidad Autonoma Del Peru",
         "Universidad Autónoma del Perú S.A.C."
        ],
        [
         "6312e01f5073940008a248fc",
         "Universidad Peruana De Ciencias Aplicadas - Upc",
         "Universidad Peruana de Ciencias Aplicadas S.A.C."
        ],
        [
         "6312a4a9e5ee99003f086cd0",
         "Universidad Tecnológica Del Perú",
         "Universidad Tecnológica del Perú S.A.C."
        ],
        [
         "63128e34844cb4003f22c03a",
         "Universidad Ricardo Palma",
         "Universidad Ricardo Palma"
        ],
        [
         "6312a4a8e5ee99003f0856e0",
         "Universidad San Ignacio De Loyola",
         "Universidad San Ignacio de Loyola S.R.L."
        ],
        [
         "6312a4a8e5ee99003f085a76",
         "Universidad San Martín De Porres",
         "Universidad de San Martín de Porres"
        ],
        [
         "6312a4a8e5ee99003f0859f2",
         "Universidad Tecnológica Del Perú",
         "Universidad Tecnológica del Perú S.A.C."
        ],
        [
         "6312a4a8e5ee99003f085b2a",
         "Universidad Nacional Mayor De San Marcos",
         "Universidad Nacional Mayor de San Marcos"
        ],
        [
         "63128e34844cb4003f22bf20",
         "Universidad Peruana De Ciencias Aplicada",
         "Universidad Peruana de Ciencias Aplicadas S.A.C."
        ],
        [
         "63128e34844cb4003f22c60a",
         "Univerisdad Tecnologica Del Peru",
         "Universidad Tecnológica del Perú S.A.C."
        ],
        [
         "6312a4a8e5ee99003f086b68",
         "Universidad Privada Del Norte",
         "Universidad Privada del Norte S.A.C."
        ],
        [
         "63128e34844cb4003f22c292",
         "Universidad Cesar Vallejo - Ucv",
         "Universidad César Vallejo S.A.C."
        ],
        [
         "6312a4a8e5ee99003f086208",
         "Universidad Nacional Mayor De San Marcos",
         "Universidad Nacional Mayor de San Marcos"
        ],
        [
         "6312a4a8e5ee99003f085c74",
         "Universidad Tecnológica Del Perú",
         "Universidad Tecnológica del Perú S.A.C."
        ],
        [
         "6312a4a8e5ee99003f085b9c",
         "Universidad Peruana De Ciencias Aplicadas - Upc",
         "Universidad Peruana de Ciencias Aplicadas S.A.C."
        ],
        [
         "63128e34844cb4003f22c86e",
         "Universidad Cesar Vallejo",
         "Universidad César Vallejo S.A.C."
        ],
        [
         "6312a4a8e5ee99003f086568",
         "Universidad Privada Del Norte",
         "Universidad Privada del Norte S.A.C."
        ],
        [
         "63128e33844cb4003f22b87e",
         "Upc",
         "Universidad Peruana de Ciencias Aplicadas S.A.C."
        ],
        [
         "6312a4a8e5ee99003f085d2e",
         "Universidad San Ignacio De Loyola",
         "Universidad San Ignacio de Loyola S.R.L."
        ],
        [
         "63128e33844cb4003f22b8fc",
         "Universidad Privada Del Norte",
         "Universidad Privada del Norte S.A.C."
        ],
        [
         "63128e34844cb4003f22c61c",
         "Instituto San Ignacio De Loyola - Isil",
         "Universidad San Ignacio de Loyola S.R.L."
        ],
        [
         "6312a4a8e5ee99003f085bd8",
         "Universidad Ricardo Palma",
         "Universidad Ricardo Palma"
        ],
        [
         "6312a4a8e5ee99003f0865e0",
         "Universidad Privada Del Norte",
         "Universidad Privada del Norte S.A.C."
        ],
        [
         "63128e34844cb4003f22be4e",
         "Ucv",
         "Universidad César Vallejo S.A.C."
        ],
        [
         "6312a4a8e5ee99003f085fb0",
         "Universidad Privada Del Norte - Upn",
         "Universidad Privada del Norte S.A.C."
        ],
        [
         "6312a4a8e5ee99003f086c04",
         "Universidad De San Martin De Porres - Usmp",
         "Universidad de San Martín de Porres"
        ],
        [
         "63128e34844cb4003f22c928",
         "Universidad Peruana De Ciencias Aplicadas",
         "Universidad Peruana de Ciencias Aplicadas S.A.C."
        ],
        [
         "6312a4a8e5ee99003f086028",
         "Universidad Privada Del Norte",
         "Universidad Privada del Norte S.A.C."
        ],
        [
         "6312a4a8e5ee99003f085dfa",
         "Upc",
         "Universidad Peruana de Ciencias Aplicadas S.A.C."
        ],
        [
         "63128e34844cb4003f22c43c",
         "Universidad Cesar Vallejo",
         "Universidad César Vallejo S.A.C."
        ],
        [
         "6312a4a8e5ee99003f08650e",
         "Universidad Privada Del Norte",
         "Universidad Privada del Norte S.A.C."
        ],
        [
         "6312a43d844cb4003f22e548",
         "Universidad César Vallejo",
         "Universidad César Vallejo S.A.C."
        ],
        [
         "6312a4a9e5ee99003f086d54",
         "Universidad Tecnologica Del Peru",
         "Universidad Tecnológica del Perú S.A.C."
        ],
        [
         "6312a4a8e5ee99003f0864b4",
         "César Vallejo",
         "Universidad César Vallejo S.A.C."
        ],
        [
         "6312a4a9e5ee99003f086d18",
         "Universidad Cesar Vallejo",
         "Universidad César Vallejo S.A.C."
        ],
        [
         "63128e34844cb4003f22c74e",
         "Cesar Vallejo",
         "Universidad César Vallejo S.A.C."
        ],
        [
         "6313e0db8ad71a0008d743d8",
         "Universidad Nacional Federico Villarreal",
         "Universidad Nacional Federico Villarreal"
        ],
        [
         "6312a4a8e5ee99003f08639a",
         "Utp",
         "Universidad Tecnológica del Perú S.A.C."
        ],
        [
         "63128e34844cb4003f22c3e2",
         "Universidad Peruana De Ciencias Aplicadas",
         "Universidad Peruana de Ciencias Aplicadas S.A.C."
        ],
        [
         "6312a43d844cb4003f22e4d6",
         "Universidad Nacional De Trujillo",
         "Universidad Nacional de Trujillo"
        ],
        [
         "6312a43d844cb4003f22e62c",
         "Universidad Privada Del Norte - Unp",
         "Universidad Privada del Norte S.A.C."
        ],
        [
         "6312a43d844cb4003f22e62c",
         "Universidad Privada Antenor Orrego",
         "Universidad Privada Antenor Orrego"
        ],
        [
         "63143bd6f4622c0008c2105b",
         "Universidad Nacional Del Callao",
         "Universidad Nacional del Callao"
        ],
        [
         "63128e34844cb4003f22c136",
         "Universidad Nacional Del Callao",
         "Universidad Nacional del Callao"
        ],
        [
         "6312a4a8e5ee99003f085d58",
         "Universidad Nacional Federico Villarreal - Unfv",
         "Universidad Nacional Federico Villarreal"
        ],
        [
         "6312a4a8e5ee99003f0858a8",
         "Universidad Cesar Vallejo",
         "Universidad César Vallejo S.A.C."
        ],
        [
         "63128e34844cb4003f22c6dc",
         "Universidad Privada Del Norte",
         "Universidad Privada del Norte S.A.C."
        ],
        [
         "6312a43d844cb4003f22e2fc",
         "Universidad Privada Del Norte",
         "Universidad Privada del Norte S.A.C."
        ],
        [
         "63128e34844cb4003f22bc32",
         "Universidad Privada Del Norte - Unp",
         "Universidad Privada del Norte S.A.C."
        ],
        [
         "6314d39b0d11cc000ad35818",
         "Universidad Cesar Vallejo - Ucv",
         "Universidad César Vallejo S.A.C."
        ],
        [
         "6312a4a9e5ee99003f086d42",
         "San Ignacio De Loyola",
         "Universidad San Ignacio de Loyola S.R.L."
        ],
        [
         "6312a4a8e5ee99003f08567a",
         "Universidad Esan",
         "Universidad ESAN"
        ],
        [
         "631539e05073940008a2812c",
         "Universidad Privada Del Norte",
         "Universidad Privada del Norte S.A.C."
        ],
        [
         "6312a4a8e5ee99003f08658c",
         "Universidad Nacional De Educación Enrique Guzmán Y Valle - La Cantuta",
         "Universidad Nacional de Educación Enrique Guzmán y Valle"
        ],
        [
         "6312a4a8e5ee99003f085896",
         "Universidad Nacional Mayor De San Marcos",
         "Universidad Nacional Mayor de San Marcos"
        ],
        [
         "63128e34844cb4003f22c1c0",
         "Universidad Privada Del Norte",
         "Universidad Privada del Norte S.A.C."
        ],
        [
         "6312a4a8e5ee99003f08691c",
         "Universidad Nacional Mayor De San Marcos",
         "Universidad Nacional Mayor de San Marcos"
        ],
        [
         "6315636103ed1f00085ec4bf",
         "Universidad Privada Del Norte",
         "Universidad Privada del Norte S.A.C."
        ],
        [
         "6312a4a8e5ee99003f0859f8",
         "Universidad Tecnológica Del Perú",
         "Universidad Tecnológica del Perú S.A.C."
        ],
        [
         "631576600d11cc000ad36f95",
         "Universidad Privada Del Norte",
         "Universidad Privada del Norte S.A.C."
        ],
        [
         "6315ac5703ed1f00085ecd2d",
         "Universidad César Vallejo",
         "Universidad César Vallejo S.A.C."
        ],
        [
         "6312a4a8e5ee99003f08644e",
         "Universidad Peruana De Ciencias Aplicadas.",
         "Universidad Peruana de Ciencias Aplicadas S.A.C."
        ],
        [
         "63160d575073940008a292fe",
         "Instituto Continental",
         "Universidad Continental S.A.C."
        ],
        [
         "631612b88ad71a0008d77107",
         "Universidad Privada Del Norte",
         "Universidad Privada del Norte S.A.C."
        ],
        [
         "6312a43d844cb4003f22e0a4",
         "Universidad Nacional De Trujillo",
         "Universidad Nacional de Trujillo"
        ],
        [
         "63161d1a8ad71a0008d774c6",
         "San Martin De Porres",
         "Universidad de San Martín de Porres"
        ],
        [
         "63162c11844cb4003f239ae9",
         "Universidad Privada Del Norte",
         "Universidad Privada del Norte S.A.C."
        ],
        [
         "63162c11844cb4003f239ac5",
         "Universidad Nacional Tecnológica De Lima Sur",
         "Universidad Nacional Tecnológica de Lima Sur"
        ],
        [
         "63128e34844cb4003f22c826",
         "Universidad Nacional Federico Villarreal",
         "Universidad Nacional Federico Villarreal"
        ],
        [
         "6312a4a8e5ee99003f085c9e",
         "Upc",
         "Universidad Peruana de Ciencias Aplicadas S.A.C."
        ],
        [
         "63162c11844cb4003f239acb",
         "Universidad Cesar Vallejo",
         "Universidad César Vallejo S.A.C."
        ],
        [
         "631659676442660008f41b15",
         "Universidad Tecnológica Del Perú - Utp",
         "Universidad Tecnológica del Perú S.A.C."
        ],
        [
         "631662740d11cc000ad39aed",
         "Ricardo Palma",
         "Universidad Ricardo Palma"
        ],
        [
         "63166a6f6442660008f421d8",
         "Universidad Privada Del Norte",
         "Universidad Privada del Norte S.A.C."
        ],
        [
         "63166c310d11cc000ad39dfd",
         "Universidad Privada Del Norte",
         "Universidad Privada del Norte S.A.C."
        ],
        [
         "63167df88ad71a0008d798ac",
         "Upc",
         "Universidad Peruana de Ciencias Aplicadas S.A.C."
        ],
        [
         "631689b30d11cc000ad3a8ff",
         "Universidad Tecnológica Del Perú",
         "Universidad Tecnológica del Perú S.A.C."
        ],
        [
         "63168cb95073940008a2f9e1",
         "Universidad Nacional Mayor De San Marcos",
         "Universidad Nacional Mayor de San Marcos"
        ],
        [
         "6316922c03ed1f00085f71cf",
         "Universidad Cesar Vallejo",
         "Universidad César Vallejo S.A.C."
        ],
        [
         "6316a6eb5073940008a30408",
         "Universidad Privada Del Norte",
         "Universidad Privada del Norte S.A.C."
        ],
        [
         "6316a6c86442660008f4393c",
         "Utp",
         "Universidad Tecnológica del Perú S.A.C."
        ],
        [
         "6316ab2303ed1f00085f797d",
         "Universidad Privada Del Norte",
         "Universidad Privada del Norte S.A.C."
        ],
        [
         "6316b4dc03ed1f00085f7c26",
         "Universidad Nacional De Ingenieria",
         "Universidad Nacional de Ingeniería"
        ],
        [
         "6316b4dc03ed1f00085f7c26",
         "Colegio La Salle",
         "Universidad La Salle"
        ],
        [
         "6316cffd8ad71a0008d83a39",
         "Universidad Tecnológica Del Perú - Utp",
         "Universidad Tecnológica del Perú S.A.C."
        ],
        [
         "6316e9c2f4622c0008c27bac",
         "Universidad Nacional Mayor De San Marcos",
         "Universidad Nacional Mayor de San Marcos"
        ],
        [
         "63174f7e03ed1f00085f8be3",
         "Universidad Cesar Vallejo",
         "Universidad César Vallejo S.A.C."
        ],
        [
         "631774ee03ed1f00085f9661",
         "Instituto San Ignacio De Loyola",
         "Universidad San Ignacio de Loyola S.R.L."
        ],
        [
         "63177aa18ad71a0008d84cc9",
         "Ucv",
         "Universidad César Vallejo S.A.C."
        ],
        [
         "6312a4a8e5ee99003f085d8e",
         "San Ignacio De Loyola - Isil",
         "Universidad San Ignacio de Loyola S.R.L."
        ],
        [
         "631766b2e5ee99003f0aa522",
         "Universidad César Vallejo",
         "Universidad César Vallejo S.A.C."
        ],
        [
         "6312a43d844cb4003f22e48e",
         "Universidad Cesar Vallejo",
         "Universidad César Vallejo S.A.C."
        ],
        [
         "6317a85103ed1f00085fb88b",
         "Universidad César Vallejo",
         "Universidad César Vallejo S.A.C."
        ],
        [
         "6317a85103ed1f00085fb88b",
         "I.e.p José María Arguedas",
         "Universidad Nacional José María Arguedas"
        ],
        [
         "6317a85103ed1f00085fb88b",
         "I.e Jec Daniel Alcides Carrión",
         "Universidad Nacional Daniel Alcides Carrión"
        ],
        [
         "6317966f0d11cc000ad3e293",
         "Universidad Tecnologica Del Peru",
         "Universidad Tecnológica del Perú S.A.C."
        ],
        [
         "6317b54f03ed1f00085fbd48",
         "Universidad Nacional Del Callao",
         "Universidad Nacional del Callao"
        ],
        [
         "6317b71a03ed1f00085fbe19",
         "Universidad San Ignacio De Loyola - Usil",
         "Universidad San Ignacio de Loyola S.R.L."
        ],
        [
         "6317b71a03ed1f00085fbe19",
         "Instituto San Ignacio De Loyola - Isil",
         "Universidad San Ignacio de Loyola S.R.L."
        ],
        [
         "63162c11844cb4003f239afb",
         "Universidad San Ignacio De Loyola",
         "Universidad San Ignacio de Loyola S.R.L."
        ],
        [
         "6317c0c20d11cc000ad3f9ad",
         "Universidad Nacional Del Callao",
         "Universidad Nacional del Callao"
        ],
        [
         "6317db0919d98e0008e970e2",
         "Universidad Privada Del Norte",
         "Universidad Privada del Norte S.A.C."
        ],
        [
         "6317dfaacfc3230008d91339",
         "Universidad Cesar Vallejo - Ucv",
         "Universidad César Vallejo S.A.C."
        ],
        [
         "63128e34844cb4003f22beb4",
         "Universidad César Vallejo",
         "Universidad César Vallejo S.A.C."
        ],
        [
         "6317ed9a9bc8d90009562124",
         "Universidad Tecnológica Del Perú - Utp",
         "Universidad Tecnológica del Perú S.A.C."
        ],
        [
         "631800c48a691c00087bed56",
         "Universidad Cesar Vallejo",
         "Universidad César Vallejo S.A.C."
        ],
        [
         "6312a4a8e5ee99003f086c8e",
         "\"Universidad Particular \"\"san Martín De Porres\"\"\"",
         "Universidad de San Martín de Porres"
        ],
        [
         "631820571c7bdc00081b7bba",
         "Universidad De San Martín De Porres",
         "Universidad de San Martín de Porres"
        ],
        [
         "631831868a691c00087bf9e3",
         "Universidad San Ignacio De Loyola",
         "Universidad San Ignacio de Loyola S.R.L."
        ],
        [
         "6318ba879bc8d90009563849",
         "Universidad Privada Del Norte",
         "Universidad Privada del Norte S.A.C."
        ],
        [
         "631766b2e5ee99003f0aa54c",
         "Universidad Privada Del Norte",
         "Universidad Privada del Norte S.A.C."
        ],
        [
         "6318bec2cfc3230008d92c47",
         "Universidad Nacional Federico Villarreal - Unfv",
         "Universidad Nacional Federico Villarreal"
        ],
        [
         "6318c52a1c7bdc00081b8900",
         "Universidad Cesar Vallejo - Ucv",
         "Universidad César Vallejo S.A.C."
        ],
        [
         "6318ea5a8a691c00087c2f0e",
         "Universidad Peruana De Ciencias Aplicadas - Upc",
         "Universidad Peruana de Ciencias Aplicadas S.A.C."
        ],
        [
         "63190f121c7bdc00081bac19",
         "Universidad Nacional Federico Villarreal",
         "Universidad Nacional Federico Villarreal"
        ],
        [
         "63191b3e8a691c00087c435f",
         "Universidad Privada Del Norte",
         "Universidad Privada del Norte S.A.C."
        ],
        [
         "6319297319d98e0008e9c0d4",
         "Utp",
         "Universidad Tecnológica del Perú S.A.C."
        ],
        [
         "63162c1c5073940008a29ea7",
         "Universidad Cesar Vallejo",
         "Universidad César Vallejo S.A.C."
        ],
        [
         "6319486119d98e0008e9cfdd",
         "Universidad Cesar Vallejo",
         "Universidad César Vallejo S.A.C."
        ],
        [
         "6312a4a8e5ee99003f086ae4",
         "Universidad Nacional Federico Villarreal",
         "Universidad Nacional Federico Villarreal"
        ],
        [
         "63128e34844cb4003f22c4c6",
         "Universidad Privada Del Norte",
         "Universidad Privada del Norte S.A.C."
        ],
        [
         "63197cba19d98e0008e9e49e",
         "Universidad Privada Del Norte",
         "Universidad Privada del Norte S.A.C."
        ],
        [
         "6312a4a8e5ee99003f086676",
         "Universidad Nacional Del Centro Del Perú - Uncp",
         "Universidad Nacional del Centro del Perú"
        ],
        [
         "631a080e1c7bdc00081be4be",
         "Universidad San Martin De Porres",
         "Universidad de San Martín de Porres"
        ],
        [
         "631a08ce19d98e0008e9ef34",
         "Universidad Cesar Vallejo",
         "Universidad César Vallejo S.A.C."
        ],
        [
         "631a12b69bc8d90009569c44",
         "Universidad Privada Del Norte",
         "Universidad Privada del Norte S.A.C."
        ],
        [
         "631a1af89bc8d90009569f9f",
         "Universidad Tecnologica Del Peru",
         "Universidad Tecnológica del Perú S.A.C."
        ],
        [
         "631a53accfc3230008d9a6bf",
         "Universidad Autónoma De Ica",
         "Universidad Autónoma de Ica S.A.C."
        ],
        [
         "631a5a93c31a670008a5d587",
         "Universidad Nacional Mayor De San Marcos - Unmsm",
         "Universidad Nacional Mayor de San Marcos"
        ],
        [
         "631a5b651c7bdc00081c0761",
         "Cesar Vallejo",
         "Universidad César Vallejo S.A.C."
        ],
        [
         "631a5b651c7bdc00081c0761",
         "Cesar Vallejo",
         "Universidad César Vallejo S.A.C."
        ],
        [
         "631a6d459bc8d9000956c396",
         "Universidad Cesar Vallejo",
         "Universidad César Vallejo S.A.C."
        ],
        [
         "631a753b8a691c00087cae0c",
         "Univesidad César Vallejo",
         "Universidad César Vallejo S.A.C."
        ],
        [
         "631a86048a691c00087cb4e4",
         "Universidad Nacional José Faustino Sánchez Carrión",
         "Universidad Nacional José Faustino Sánchez Carrión"
        ],
        [
         "631aa07d469d5700083d410d",
         "Universidad Nacional De Piura",
         "Universidad Nacional de Piura"
        ],
        [
         "631ab6f91c56340008d6b0aa",
         "Universidad Peruana De Ciencias Aplicadas - Upc",
         "Universidad Peruana de Ciencias Aplicadas S.A.C."
        ],
        [
         "631b412e756c7c000964782d",
         "Universidad Tecnológica Del Perú",
         "Universidad Tecnológica del Perú S.A.C."
        ],
        [
         "631b89a7756c7c0009648679",
         "Universidad De San Martin De Porres - Usmp",
         "Universidad de San Martín de Porres"
        ],
        [
         "631b8e6067f467000868371c",
         "Universidad Privada Del Norte",
         "Universidad Privada del Norte S.A.C."
        ],
        [
         "631ba9568ddb27000869dccf",
         "Universidad Privada Del Norte - Upn",
         "Universidad Privada del Norte S.A.C."
        ],
        [
         "63128e34844cb4003f22bde2",
         "Upn",
         "Universidad Privada del Norte S.A.C."
        ],
        [
         "631cc245bac1bc000909153e",
         "Universidad Jaime Bausate Y Meza",
         "Universidad Jaime Bausate y Meza"
        ],
        [
         "631cd3cebac1bc0009091e8d",
         "Universidad Privada De Ciencias Aplicadas",
         "Universidad Peruana de Ciencias Aplicadas S.A.C."
        ],
        [
         "631ce90b756c7c000964c0f8",
         "Universidad Esan",
         "Universidad ESAN"
        ],
        [
         "631d25981c56340008d70895",
         "Universidad Tecnológica Del Perú",
         "Universidad Tecnológica del Perú S.A.C."
        ],
        [
         "631e0d3767f4670008687aba",
         "Universidad Privada Antenor Orrego",
         "Universidad Privada Antenor Orrego"
        ],
        [
         "631e0f961c56340008d710cc",
         "Unfv",
         "Universidad Nacional Federico Villarreal"
        ],
        [
         "631e661167f46700086883ce",
         "Usmp",
         "Universidad de San Martín de Porres"
        ],
        [
         "631e726b756c7c000964d9a3",
         "Upc",
         "Universidad Peruana de Ciencias Aplicadas S.A.C."
        ],
        [
         "63128e33844cb4003f22b986",
         "Universidad Continental",
         "Universidad Continental S.A.C."
        ],
        [
         "631f48a38ddb2700086a2c06",
         "Universidad Jaime Bausate Y Meza - Jbm",
         "Universidad Jaime Bausate y Meza"
        ],
        [
         "631f5c7d67f4670008689707",
         "Universidad Tecnológica Del Perú",
         "Universidad Tecnológica del Perú S.A.C."
        ],
        [
         "631f5e7d8ddb2700086a310a",
         "Universidad César Vallejo",
         "Universidad César Vallejo S.A.C."
        ],
        [
         "631f6657bac1bc0009094a39",
         "Universidad Peruana De Ciencias Aplicadas",
         "Universidad Peruana de Ciencias Aplicadas S.A.C."
        ],
        [
         "631f974c8ddb2700086a42d0",
         "Utp",
         "Universidad Tecnológica del Perú S.A.C."
        ],
        [
         "631f9d77bac1bc0009095db7",
         "Universidad Privada Del Norte",
         "Universidad Privada del Norte S.A.C."
        ],
        [
         "631fa091756c7c000965026d",
         "Universidad Tecnológica Del Perú",
         "Universidad Tecnológica del Perú S.A.C."
        ],
        [
         "631fccab469d5700083de2a7",
         "Universidad Privada Del Norte",
         "Universidad Privada del Norte S.A.C."
        ],
        [
         "631fce27bac1bc00090972fd",
         "Universidad San Ignacio De Loyola - Usil",
         "Universidad San Ignacio de Loyola S.R.L."
        ],
        [
         "631fd43e1c56340008d75b61",
         "Univesidad  Cesar Vallejo",
         "Universidad César Vallejo S.A.C."
        ],
        [
         "631ff753756c7c0009652c47",
         "Universidad Nacional Agraria La Molina",
         "Universidad Nacional Agraria La Molina"
        ],
        [
         "631ff753756c7c0009652c47",
         "Universidad De Lima",
         "Universidad de Lima"
        ],
        [
         "63200c48bac1bc0009098d90",
         "Universidad San Ignacio De Loyola",
         "Universidad San Ignacio de Loyola S.R.L."
        ],
        [
         "63200cf467f467000868de12",
         "Universidad Tecnológica Del Perú - Utp",
         "Universidad Tecnológica del Perú S.A.C."
        ],
        [
         "63200d1f67f467000868de35",
         "Universidad Tecnológica Del Perú",
         "Universidad Tecnológica del Perú S.A.C."
        ],
        [
         "63200f70e5ee99003f133eef",
         "Utp",
         "Universidad Tecnológica del Perú S.A.C."
        ],
        [
         "63200f70e5ee99003f135905",
         "Universidad Cesar Vallejo",
         "Universidad César Vallejo S.A.C."
        ],
        [
         "63200f70e5ee99003f133f19",
         "Universidad Privada Norbert Wiener",
         "Universidad Privada Norbert Wiener S.A."
        ],
        [
         "63200f70e5ee99003f1346e1",
         "Utp",
         "Universidad Tecnológica del Perú S.A.C."
        ],
        [
         "63200feb67f467000868e040",
         "Universidad Tecnologica Del Peru",
         "Universidad Tecnológica del Perú S.A.C."
        ],
        [
         "63200f70e5ee99003f133607",
         "Upn",
         "Universidad Privada del Norte S.A.C."
        ],
        [
         "63200f70e5ee99003f13551b",
         "Universidad Privada Del Norte - Unp",
         "Universidad Privada del Norte S.A.C."
        ],
        [
         "63200f70e5ee99003f135587",
         "Universidad Cesar Vallejo",
         "Universidad César Vallejo S.A.C."
        ],
        [
         "63200f70e5ee99003f134855",
         "Universidad Privada Del Norte",
         "Universidad Privada del Norte S.A.C."
        ],
        [
         "63200ecb1c56340008d775ef",
         "Universidad Privada San Juan Bautista - Upsjb",
         "Universidad Privada San Juan Bautista S.A.C."
        ],
        [
         "63200f71e5ee99003f135fb3",
         "Universidad Privada Del Norte",
         "Universidad Privada del Norte S.A.C."
        ],
        [
         "63200f71e5ee99003f136841",
         "Universidad San Martin De Porres",
         "Universidad de San Martín de Porres"
        ],
        [
         "63200f71e5ee99003f135f53",
         "Universidad Peruana De Ciencias Aplicadas - Upc",
         "Universidad Peruana de Ciencias Aplicadas S.A.C."
        ],
        [
         "63200f70e5ee99003f135407",
         "Universidad Privada Del Norte",
         "Universidad Privada del Norte S.A.C."
        ],
        [
         "63200f70e5ee99003f134a89",
         "Universidad Tecnologica Del Peru",
         "Universidad Tecnológica del Perú S.A.C."
        ],
        [
         "63200f70e5ee99003f134f4b",
         "Universidad Privada Del Norte",
         "Universidad Privada del Norte S.A.C."
        ],
        [
         "63200f70e5ee99003f134f51",
         "Universidad Autónoma Del Perú - Ua",
         "Universidad Autónoma del Perú S.A.C."
        ],
        [
         "63200f71e5ee99003f13602b",
         "Universidad Privada Del Norte - Upn",
         "Universidad Privada del Norte S.A.C."
        ],
        [
         "63200f71e5ee99003f13602b",
         "Universidad De San Martin De Porres - Usmp",
         "Universidad de San Martín de Porres"
        ],
        [
         "63200f71e5ee99003f136517",
         "Academia Cesar Vallejo",
         "Universidad César Vallejo S.A.C."
        ],
        [
         "63200f70e5ee99003f1354a3",
         "Universidad Tecnológica Del Perú",
         "Universidad Tecnológica del Perú S.A.C."
        ],
        [
         "63200f70e5ee99003f13589f",
         "Utp",
         "Universidad Tecnológica del Perú S.A.C."
        ],
        [
         "63200f71e5ee99003f1361f9",
         "Universidad Tecnológica Del Perú",
         "Universidad Tecnológica del Perú S.A.C."
        ],
        [
         "63200f71e5ee99003f136007",
         "Universidad Privada San Juan Bautista",
         "Universidad Privada San Juan Bautista S.A.C."
        ],
        [
         "63200f71e5ee99003f1361cf",
         "Universidad Cesar Vallejo",
         "Universidad César Vallejo S.A.C."
        ],
        [
         "63200f70e5ee99003f135479",
         "Universidad Tecnológica Del Perú - Utp",
         "Universidad Tecnológica del Perú S.A.C."
        ],
        [
         "63200f70e5ee99003f1337f9",
         "Cesar Vallejo",
         "Universidad César Vallejo S.A.C."
        ],
        [
         "63200f70e5ee99003f134591",
         "Universidad De Piura - Campus Lima",
         "Universidad de Piura"
        ],
        [
         "63200f70e5ee99003f134a7d",
         "Universidad Naciónal Federico Villarreal",
         "Universidad Nacional Federico Villarreal"
        ],
        [
         "63200f70e5ee99003f134aad",
         "Universidad De Ciencias Aplicadas",
         "Universidad Peruana de Ciencias Aplicadas S.A.C."
        ],
        [
         "63200f70e5ee99003f134597",
         "Universidad Privada San Juan Bautista",
         "Universidad Privada San Juan Bautista S.A.C."
        ],
        [
         "63200f71e5ee99003f135eed",
         "Instituto San Ignacio De Loyola",
         "Universidad San Ignacio de Loyola S.R.L."
        ],
        [
         "63200f71e5ee99003f1363f7",
         "Universidad Nacional De La Amazonia Peruana",
         "Universidad Nacional de la Amazonía Peruana"
        ],
        [
         "63200f71e5ee99003f135da3",
         "Científica Del Sur",
         "Universidad Científica del Sur S.A.C."
        ],
        [
         "63200f70e5ee99003f134075",
         "Upc Universidad Peruana De Ciencias Aplicadas",
         "Universidad Peruana de Ciencias Aplicadas S.A.C."
        ],
        [
         "63200f70e5ee99003f134075",
         "Upc",
         "Universidad Peruana de Ciencias Aplicadas S.A.C."
        ],
        [
         "63200f70e5ee99003f135125",
         "Universidad Privada Del Norte",
         "Universidad Privada del Norte S.A.C."
        ],
        [
         "63200f71e5ee99003f135a8b",
         "Universidad Nacional De La Amazonia Peruana - Unap",
         "Universidad Nacional de la Amazonía Peruana"
        ],
        [
         "63208db4bac1bc000909ad30",
         "Instituto San Ignacio De Loyola",
         "Universidad San Ignacio de Loyola S.R.L."
        ],
        [
         "63200f71e5ee99003f136247",
         "Universidad Peruana De Ciencias Aplicadas - Upc",
         "Universidad Peruana de Ciencias Aplicadas S.A.C."
        ],
        [
         "63200f71e5ee99003f136247",
         "Ricardo Palma N°5099",
         "Universidad Ricardo Palma"
        ],
        [
         "63200f71e5ee99003f135ad9",
         "Universidad Enrique Guzman Y Valle",
         "Universidad Nacional de Educación Enrique Guzmán y Valle"
        ],
        [
         "63200f70e5ee99003f13489d",
         "Universidad Autónoma Del Perú",
         "Universidad Autónoma del Perú S.A.C."
        ],
        [
         "6312a4a8e5ee99003f085b30",
         "San Ignacio De Loyola",
         "Universidad San Ignacio de Loyola S.R.L."
        ],
        [
         "63200f71e5ee99003f13676f",
         "Universidad Privada Del Norte",
         "Universidad Privada del Norte S.A.C."
        ],
        [
         "6320b286844cb4003f31ff21",
         "Universidad Privada Del Norte",
         "Universidad Privada del Norte S.A.C."
        ],
        [
         "6320b286844cb4003f31fa2f",
         "Universidad Tecnológica Del Perú",
         "Universidad Tecnológica del Perú S.A.C."
        ],
        [
         "63200f70e5ee99003f1344ef",
         "Universidad De San Martin De Porres - Usmp",
         "Universidad de San Martín de Porres"
        ],
        [
         "6320b286844cb4003f31f8b5",
         "Universidad Privada Del Norte",
         "Universidad Privada del Norte S.A.C."
        ],
        [
         "6320b286844cb4003f31fed9",
         "Upla",
         "Universidad Peruana Los Andes"
        ],
        [
         "6320b286844cb4003f32018b",
         "Universidad Privada César Vallejo",
         "Universidad César Vallejo S.A.C."
        ],
        [
         "6320b286844cb4003f31fcab",
         "Universidad Tecnológica Del Perú",
         "Universidad Tecnológica del Perú S.A.C."
        ],
        [
         "63200f70e5ee99003f134a0b",
         "Universidad Cesar Vallejo",
         "Universidad César Vallejo S.A.C."
        ],
        [
         "63200f70e5ee99003f135461",
         "Universidad De San Martin De Porres",
         "Universidad de San Martín de Porres"
        ],
        [
         "6320c48e756c7c0009657910",
         "Universidad Nacional José Faustino Sánchez Carrión",
         "Universidad Nacional José Faustino Sánchez Carrión"
        ],
        [
         "63200f70e5ee99003f134c93",
         "Universidad Nacional Federico Villarreal",
         "Universidad Nacional Federico Villarreal"
        ],
        [
         "63200f70e5ee99003f1337b7",
         "Instituto Daniel Alcides Carrion",
         "Universidad Nacional Daniel Alcides Carrión"
        ],
        [
         "6320b286844cb4003f31fa11",
         "Universidad Cesar Vallejo",
         "Universidad César Vallejo S.A.C."
        ],
        [
         "6320b286844cb4003f320077",
         "Universidad Privada Del Norte - Unp",
         "Universidad Privada del Norte S.A.C."
        ],
        [
         "6320d87467f4670008692c79",
         "Universidad Tecnológica Del Perú",
         "Universidad Tecnológica del Perú S.A.C."
        ],
        [
         "6320b286844cb4003f3203fb",
         "Universidad Nacional De Tumbes - Unt",
         "Universidad Nacional de Tumbes"
        ],
        [
         "6320dec367f4670008692ffa",
         "Universidad Cesar Vallejo",
         "Universidad César Vallejo S.A.C."
        ],
        [
         "63200f71e5ee99003f136271",
         "Universidad Nacional Federico Villarreal",
         "Universidad Nacional Federico Villarreal"
        ],
        [
         "6320e1e667f467000869318d",
         "Universidad Privada San Juan Bautista",
         "Universidad Privada San Juan Bautista S.A.C."
        ],
        [
         "6320b286844cb4003f31f819",
         "Universidad Privada Del Norte",
         "Universidad Privada del Norte S.A.C."
        ],
        [
         "6320b286844cb4003f31fe07",
         "Mártir Daniel Alcides Carrión 0142",
         "Universidad Nacional Daniel Alcides Carrión"
        ],
        [
         "6320b286844cb4003f31fd05",
         "Universidad Católica Sedes Sapientiae - Ucss",
         "Universidad Católica Sedes Sapientiae"
        ],
        [
         "63200f70e5ee99003f1342cd",
         "Universidad Privada San Juan Bautista",
         "Universidad Privada San Juan Bautista S.A.C."
        ],
        [
         "63200f70e5ee99003f134ce7",
         "Universidad Privada Del Norte",
         "Universidad Privada del Norte S.A.C."
        ],
        [
         "63200f70e5ee99003f133bef",
         "Universidad Tecnológica Del Perú",
         "Universidad Tecnológica del Perú S.A.C."
        ],
        [
         "63200f70e5ee99003f133bef",
         "Universidad De San Martin De Porres - Usmp",
         "Universidad de San Martín de Porres"
        ],
        [
         "63200f70e5ee99003f1346b1",
         "Universidad Privada Del Norte",
         "Universidad Privada del Norte S.A.C."
        ],
        [
         "6320b286844cb4003f32036b",
         "Universidad Privada Del Norte - Upn",
         "Universidad Privada del Norte S.A.C."
        ],
        [
         "6320b286844cb4003f32036b",
         "Universidad Privada Del Norte - Upn",
         "Universidad Privada del Norte S.A.C."
        ],
        [
         "63200f70e5ee99003f133871",
         "Universidad Privada Del Norte",
         "Universidad Privada del Norte S.A.C."
        ],
        [
         "63212c338ddb2700086af6ca",
         "Universidad Privada Del Norte",
         "Universidad Privada del Norte S.A.C."
        ],
        [
         "63200f70e5ee99003f1357c1",
         "Universidad Tecnológica Del Perú",
         "Universidad Tecnológica del Perú S.A.C."
        ],
        [
         "63200f70e5ee99003f133fd3",
         "Universidad Privada Del Norte",
         "Universidad Privada del Norte S.A.C."
        ],
        [
         "63200f70e5ee99003f133fd3",
         "Universidad Privada Del Norte - Upn",
         "Universidad Privada del Norte S.A.C."
        ],
        [
         "6321fddaf737840008623a62",
         "Universidad Católica Sedes Sapientiae",
         "Universidad Católica Sedes Sapientiae"
        ],
        [
         "63200f71e5ee99003f135e69",
         "Universidad Nacional Del Callao Unac",
         "Universidad Nacional del Callao"
        ],
        [
         "63222504e5ee99003f17022f",
         "Universidad Nacional Mayor De San Marcos",
         "Universidad Nacional Mayor de San Marcos"
        ],
        [
         "632225ca844cb4003f33dac2",
         "Universidad Cesar Vallejo",
         "Universidad César Vallejo S.A.C."
        ],
        [
         "632225ca844cb4003f33e01a",
         "Universidad Peruana De Ciencias Aplicadas",
         "Universidad Peruana de Ciencias Aplicadas S.A.C."
        ],
        [
         "632225ca844cb4003f33dd44",
         "Universidad Nacional Agraria La Molina",
         "Universidad Nacional Agraria La Molina"
        ],
        [
         "63222504e5ee99003f16fc65",
         "Universidad Privada Del Norte",
         "Universidad Privada del Norte S.A.C."
        ],
        [
         "632225ca844cb4003f33d9e4",
         "Universidad Privada Del Norte",
         "Universidad Privada del Norte S.A.C."
        ],
        [
         "632225ca844cb4003f33dbee",
         "Universidad Privada Del Norte",
         "Universidad Privada del Norte S.A.C."
        ],
        [
         "632225ca844cb4003f33e290",
         "Universidad Cesar Vallejo",
         "Universidad César Vallejo S.A.C."
        ],
        [
         "632225ca844cb4003f33dbd6",
         "Universidad Privada Del Norte",
         "Universidad Privada del Norte S.A.C."
        ],
        [
         "63222828e5ee99003f172959",
         "Universidad Privada Del Norte",
         "Universidad Privada del Norte S.A.C."
        ],
        [
         "63222828e5ee99003f17332b",
         "Universidad San Martin De Porres",
         "Universidad de San Martín de Porres"
        ],
        [
         "632225ca844cb4003f33dcb4",
         "Utp",
         "Universidad Tecnológica del Perú S.A.C."
        ],
        [
         "63222828e5ee99003f172c3b",
         "Uch",
         "Asociación Civil Universidad de Ciencias y Humanidades"
        ],
        [
         "63222a52dd74a60009784b86",
         "Universidad Peruana De Ciencias Aplicadas",
         "Universidad Peruana de Ciencias Aplicadas S.A.C."
        ],
        [
         "63222828e5ee99003f173a81",
         "Universidad Cesar Vallejo",
         "Universidad César Vallejo S.A.C."
        ],
        [
         "63222828e5ee99003f172ce9",
         "Univ Privada San Juan Bautista",
         "Universidad Privada San Juan Bautista S.A.C."
        ],
        [
         "632225ca844cb4003f33dd68",
         "Universidad Privada Del Norte",
         "Universidad Privada del Norte S.A.C."
        ],
        [
         "632225ca844cb4003f33e650",
         "Universidad Privada Del Norte",
         "Universidad Privada del Norte S.A.C."
        ],
        [
         "63222504e5ee99003f170235",
         "Unmsm",
         "Universidad Nacional Mayor de San Marcos"
        ],
        [
         "63222828e5ee99003f173955",
         "I.e.p César Vallejo Mendoza",
         "Universidad César Vallejo S.A.C."
        ],
        [
         "63222504e5ee99003f16fd1f",
         "Universidad Tecnológica Del Perú",
         "Universidad Tecnológica del Perú S.A.C."
        ],
        [
         "632231c23f580700080c4167",
         "Universida Nacional Del Callao",
         "Universidad Nacional del Callao"
        ],
        [
         "632225ca844cb4003f33e3c2",
         "Universidad Privada Del Norte",
         "Universidad Privada del Norte S.A.C."
        ],
        [
         "63222828e5ee99003f1735e3",
         "Universidad Privada Antenor Orrego - Upao",
         "Universidad Privada Antenor Orrego"
        ],
        [
         "6321ff0de5ee99003f169e2c",
         "Instituto Daniel Alcides Carrion",
         "Universidad Nacional Daniel Alcides Carrión"
        ],
        [
         "63222504e5ee99003f1700c1",
         "Universidad Cesar Vallejo",
         "Universidad César Vallejo S.A.C."
        ],
        [
         "6322355e107693000854451b",
         "Universidad De Ciencias Aplicadas",
         "Universidad Peruana de Ciencias Aplicadas S.A.C."
        ],
        [
         "63222828e5ee99003f173205",
         "Cesar Vallejo",
         "Universidad César Vallejo S.A.C."
        ],
        [
         "63222504e5ee99003f16fde5",
         "Universidad Privada Del Norte",
         "Universidad Privada del Norte S.A.C."
        ],
        [
         "63222828e5ee99003f172f41",
         "Universidad San Martín De Porres",
         "Universidad de San Martín de Porres"
        ],
        [
         "632225ca844cb4003f33db5e",
         "Instituto Ricardo Palma",
         "Universidad Ricardo Palma"
        ],
        [
         "63222504e5ee99003f16fcd7",
         "Universidad Peruana De Ciencias Aplicadas - Upc",
         "Universidad Peruana de Ciencias Aplicadas S.A.C."
        ],
        [
         "63222828e5ee99003f1738c5",
         "Universidad Nacional Del Callao",
         "Universidad Nacional del Callao"
        ],
        [
         "6312a4a8e5ee99003f086220",
         "Universidad Cesar Vallejo",
         "Universidad César Vallejo S.A.C."
        ],
        [
         "632225ca844cb4003f33db40",
         "Universidad De San Martin De Porres",
         "Universidad de San Martín de Porres"
        ],
        [
         "6320b286844cb4003f3203d1",
         "Utp",
         "Universidad Tecnológica del Perú S.A.C."
        ],
        [
         "632244c81076930008544ac1",
         "Universidad De San Martín De Porres",
         "Universidad de San Martín de Porres"
        ],
        [
         "63222828e5ee99003f172fe3",
         "Universidad Privada Del Norte",
         "Universidad Privada del Norte S.A.C."
        ],
        [
         "63222828e5ee99003f1733df",
         "Universidad Cesar Vallejo",
         "Universidad César Vallejo S.A.C."
        ],
        [
         "63222828e5ee99003f1733df",
         "Universidad Nacional Del Callao",
         "Universidad Nacional del Callao"
        ],
        [
         "632225ca844cb4003f33dfd8",
         "Universidad Tecnologica Del Peru",
         "Universidad Tecnológica del Perú S.A.C."
        ],
        [
         "63222504e5ee99003f16fa6d",
         "Universidad Católica Sedes Sapientiae",
         "Universidad Católica Sedes Sapientiae"
        ],
        [
         "6321ff0de5ee99003f169e08",
         "Universidad Católica Sedes Sapientiae",
         "Universidad Católica Sedes Sapientiae"
        ],
        [
         "6322585554294b0009268749",
         "Utp",
         "Universidad Tecnológica del Perú S.A.C."
        ],
        [
         "632225ca844cb4003f33e59c",
         "Universidad Privada Del Norte",
         "Universidad Privada del Norte S.A.C."
        ],
        [
         "63222505e5ee99003f170631",
         "Jose Maria Arguedas",
         "Universidad Nacional José María Arguedas"
        ],
        [
         "632225ca844cb4003f33e584",
         "Universidad Privada Del Norte",
         "Universidad Privada del Norte S.A.C."
        ],
        [
         "632225ca844cb4003f33e1e8",
         "Maria Auxiliadora",
         "Universidad María Auxiliadora S.A.C."
        ],
        [
         "63222828e5ee99003f1729e9",
         "Upn",
         "Universidad Privada del Norte S.A.C."
        ],
        [
         "63222828e5ee99003f172a4f",
         "Cesar Vallejo",
         "Universidad César Vallejo S.A.C."
        ],
        [
         "63222828e5ee99003f172a4f",
         "Ricardo Palma 5099",
         "Universidad Ricardo Palma"
        ],
        [
         "63200f70e5ee99003f135281",
         "Utp",
         "Universidad Tecnológica del Perú S.A.C."
        ],
        [
         "632225ca844cb4003f33e5e4",
         "Universidad De Lima",
         "Universidad de Lima"
        ],
        [
         "632225ca844cb4003f33e5e4",
         "Universidad San Ignacio De Loyola",
         "Universidad San Ignacio de Loyola S.R.L."
        ],
        [
         "63222505e5ee99003f1706f1",
         "Universidad Tecnológica Del Perú",
         "Universidad Tecnológica del Perú S.A.C."
        ],
        [
         "63222504e5ee99003f170199",
         "110 San Marcos",
         "Universidad Nacional Mayor de San Marcos"
        ],
        [
         "6322ba1f1076930008547140",
         "Universidad Peruana De Ciencias Aplicadas",
         "Universidad Peruana de Ciencias Aplicadas S.A.C."
        ],
        [
         "63222504e5ee99003f16f359",
         "Universidad Particular San Martin De Porres",
         "Universidad de San Martín de Porres"
        ],
        [
         "6322cf49dd74a60009787fe0",
         "Universidad San Ignacio De Loyola(cpel)",
         "Universidad San Ignacio de Loyola S.R.L."
        ],
        [
         "6322d01854294b000926a693",
         "Universidad Cesar Vallejo",
         "Universidad César Vallejo S.A.C."
        ],
        [
         "632225ca844cb4003f33e6f2",
         "Universidad Nacional Mayor De San Marcos",
         "Universidad Nacional Mayor de San Marcos"
        ],
        [
         "63222504e5ee99003f16f2ff",
         "Universidad Tecnológica Del Perú",
         "Universidad Tecnológica del Perú S.A.C."
        ],
        [
         "63222504e5ee99003f16f2ff",
         "San José La Salle",
         "Universidad La Salle"
        ],
        [
         "632225ca844cb4003f33eb4e",
         "Universidad Tecnológica Del Perú",
         "Universidad Tecnológica del Perú S.A.C."
        ],
        [
         "632225ca844cb4003f33e500",
         "Universidad Privada Del Norte",
         "Universidad Privada del Norte S.A.C."
        ],
        [
         "63222504e5ee99003f16f959",
         "Universidad Privada Del Norte",
         "Universidad Privada del Norte S.A.C."
        ],
        [
         "63222504e5ee99003f16f5f3",
         "Universidad Privada Del Norte",
         "Universidad Privada del Norte S.A.C."
        ],
        [
         "632347a38fcf7b0009661bdd",
         "Universidad Tecnológica Del Perú - Utp",
         "Universidad Tecnológica del Perú S.A.C."
        ],
        [
         "6312a4a8e5ee99003f08677e",
         "Universidad Cesar Vallejo",
         "Universidad César Vallejo S.A.C."
        ],
        [
         "63128e34844cb4003f22ca18",
         "Universidad Cesar Vallejo",
         "Universidad César Vallejo S.A.C."
        ],
        [
         "632225ca844cb4003f33e9da",
         "Universidad Nacional Mayor De San Marcos",
         "Universidad Nacional Mayor de San Marcos"
        ],
        [
         "632225ca844cb4003f33da80",
         "Ucv",
         "Universidad César Vallejo S.A.C."
        ],
        [
         "632225ca844cb4003f33e566",
         "Universidad Tecnológica Del Perú",
         "Universidad Tecnológica del Perú S.A.C."
        ],
        [
         "632225ca844cb4003f33ddda",
         "Ricardo Palma",
         "Universidad Ricardo Palma"
        ],
        [
         "63222504e5ee99003f170367",
         "Upsjb",
         "Universidad Privada San Juan Bautista S.A.C."
        ],
        [
         "632225ca844cb4003f33e194",
         "Universidad Nacional Del Callao",
         "Universidad Nacional del Callao"
        ],
        [
         "63200f70e5ee99003f13554b",
         "Universidad Cesar Vallejo - Ucv",
         "Universidad César Vallejo S.A.C."
        ],
        [
         "632225ca844cb4003f33eab8",
         "Universidad Privada Del Norte",
         "Universidad Privada del Norte S.A.C."
        ],
        [
         "63222828e5ee99003f172a79",
         "Universidad Cesar Vallejo",
         "Universidad César Vallejo S.A.C."
        ],
        [
         "6312a4a8e5ee99003f085776",
         "Universidad Cesar Vallejo",
         "Universidad César Vallejo S.A.C."
        ],
        [
         "6323d168107693000855032e",
         "Universidad Privada Señor De Sipan",
         "Universidad Señor de Sipán S.A.C."
        ],
        [
         "6323fa0b07cea60008252c2f",
         "Instituto San Ignacio De Loyola - Isil",
         "Universidad San Ignacio de Loyola S.R.L."
        ],
        [
         "632225ca844cb4003f33e680",
         "Universidad De Lima",
         "Universidad de Lima"
        ],
        [
         "63222505e5ee99003f170433",
         "Universidad Cesar Vallejo.",
         "Universidad César Vallejo S.A.C."
        ],
        [
         "63222504e5ee99003f16f557",
         "Upc",
         "Universidad Peruana de Ciencias Aplicadas S.A.C."
        ],
        [
         "63128e34844cb4003f22c610",
         "Universidad Tecnológica Del Perú - Utp",
         "Universidad Tecnológica del Perú S.A.C."
        ],
        [
         "6324a0b5a82561004072ada4",
         "Instituto Superior Tecnológico Continental",
         "Universidad Continental S.A.C."
        ],
        [
         "632225ca844cb4003f33db64",
         "Jose Maria Arguedas 2027",
         "Universidad Nacional José María Arguedas"
        ],
        [
         "63222828e5ee99003f173997",
         "Cesar Vallejo",
         "Universidad César Vallejo S.A.C."
        ],
        [
         "63250d5a36d47f00088aca56",
         "Universidad Privada Cesar Vallejo",
         "Universidad César Vallejo S.A.C."
        ],
        [
         "632518d236d47f00088acccc",
         "Universidad Privada Del Norte",
         "Universidad Privada del Norte S.A.C."
        ],
        [
         "6320b286844cb4003f31fec1",
         "Universidad Privada Del Norte - Upn",
         "Universidad Privada del Norte S.A.C."
        ],
        [
         "63252a8a4df37200081bc09d",
         "Escuela De Postgrado - Universidad Católica Sedes Sapientiae",
         "Universidad Católica Sedes Sapientiae"
        ],
        [
         "63252a8a4df37200081bc09d",
         "Universidad Católica Sedes Sapientiae - Ucss",
         "Universidad Católica Sedes Sapientiae"
        ],
        [
         "63200f70e5ee99003f134b49",
         "Universidad Privada Del Norte",
         "Universidad Privada del Norte S.A.C."
        ],
        [
         "632543db2ff5e80008d7bdee",
         "Universidad Privada Del Norte",
         "Universidad Privada del Norte S.A.C."
        ],
        [
         "6325d6b107cea600082570a6",
         "Universidad Peruana De Ciencias Aplicadas - Upc",
         "Universidad Peruana de Ciencias Aplicadas S.A.C."
        ],
        [
         "6325f6b7ded60b0009efbada",
         "Universidad César Vallejo",
         "Universidad César Vallejo S.A.C."
        ],
        [
         "63277e8aded60b0009efdd6b",
         "Universidad Nacional Federico Villarreal",
         "Universidad Nacional Federico Villarreal"
        ],
        [
         "63278004cc8427000916ed3f",
         "Universidad Privada Del Norte",
         "Universidad Privada del Norte S.A.C."
        ],
        [
         "6327a2cfcc8427000916f0d7",
         "Universidad Peruana De Ciencias Aplicadas",
         "Universidad Peruana de Ciencias Aplicadas S.A.C."
        ],
        [
         "63222504e5ee99003f170361",
         "Universidad Cesar Vallejo",
         "Universidad César Vallejo S.A.C."
        ],
        [
         "632225ca844cb4003f33dc6c",
         "I.e César Vallejo",
         "Universidad César Vallejo S.A.C."
        ],
        [
         "6327fb3eded60b0009efee59",
         "Universidad Privada Del Norte",
         "Universidad Privada del Norte S.A.C."
        ],
        [
         "6328cc9cded60b0009f00db3",
         "Universidad Tecnológica Del Perú - Utp",
         "Universidad Tecnológica del Perú S.A.C."
        ],
        [
         "6329122f36d47f00088b8a5e",
         "Universidad Privada San Juan Bautista",
         "Universidad Privada San Juan Bautista S.A.C."
        ],
        [
         "63128e33844cb4003f22b8c6",
         "Universidad Católica Sedes Sapientiae - Ucss",
         "Universidad Católica Sedes Sapientiae"
        ],
        [
         "63128e33844cb4003f22b8c6",
         "Universidad Privada San Juan Bautista - Upsjb",
         "Universidad Privada San Juan Bautista S.A.C."
        ],
        [
         "632920464df37200081c5522",
         "Universidad Privada Del Norte - Upn",
         "Universidad Privada del Norte S.A.C."
        ],
        [
         "63293141cc842700091751b9",
         "Instituto San Ignacio De Loyola",
         "Universidad San Ignacio de Loyola S.R.L."
        ],
        [
         "63200f70e5ee99003f1342e5",
         "Universidad Tecnológica Del Perú-utp",
         "Universidad Tecnológica del Perú S.A.C."
        ],
        [
         "632a3846ded60b0009f08c0d",
         "Universidad Peruana De Ciencias Aplicadas-upc",
         "Universidad Peruana de Ciencias Aplicadas S.A.C."
        ],
        [
         "632a3f2d4df37200081ca417",
         "Universidad Privada Del Norte",
         "Universidad Privada del Norte S.A.C."
        ],
        [
         "632a41a7d1b76a0040939d1b",
         "Universidad César Vallejo",
         "Universidad César Vallejo S.A.C."
        ],
        [
         "632a41a7d1b76a0040939d27",
         "Universidad Cesar Vallejo",
         "Universidad César Vallejo S.A.C."
        ],
        [
         "632a41a7d1b76a0040939d21",
         "Universidad César Vallejo",
         "Universidad César Vallejo S.A.C."
        ],
        [
         "632a73704df37200081cbf9b",
         "Universidad Privada Del Norte",
         "Universidad Privada del Norte S.A.C."
        ],
        [
         "632b0fd336d47f00088c1cb1",
         "Usil",
         "Universidad San Ignacio de Loyola S.R.L."
        ],
        [
         "632b47142ff5e80008d8de24",
         "Universidad Privada Del Norte",
         "Universidad Privada del Norte S.A.C."
        ],
        [
         "632b4aa107cea6000826ddf3",
         "Instituto San Ignacio De Loyola - Isil",
         "Universidad San Ignacio de Loyola S.R.L."
        ],
        [
         "632b6b98ded60b0009f0f1fa",
         "Universidad Privada Del Norte - Upn",
         "Universidad Privada del Norte S.A.C."
        ],
        [
         "632bc49307cea60008271bd4",
         "Universidad Tecnologica Del Peru U.t.p",
         "Universidad Tecnológica del Perú S.A.C."
        ],
        [
         "632bec132ff5e80008d9350d",
         "Universidad Privada Del Norte",
         "Universidad Privada del Norte S.A.C."
        ],
        [
         "632bee1d2ff5e80008d936f7",
         "Daniel Alcides Carrion",
         "Universidad Nacional Daniel Alcides Carrión"
        ],
        [
         "632befc14df37200081d5ba2",
         "Universidad Peruana De Ciencias Aplicadas",
         "Universidad Peruana de Ciencias Aplicadas S.A.C."
        ],
        [
         "632bf1ddded60b0009f12ecb",
         "Universidad César Vallejo",
         "Universidad César Vallejo S.A.C."
        ],
        [
         "632bf24536d47f00088c8691",
         "Universidad Privada Del Norte",
         "Universidad Privada del Norte S.A.C."
        ],
        [
         "632bf2a9cc8427000918b22b",
         "Universidad Cesar Vallejo",
         "Universidad César Vallejo S.A.C."
        ],
        [
         "632bfd11ded60b0009f13283",
         "Universidad Privada Cesar Vallejo",
         "Universidad César Vallejo S.A.C."
        ],
        [
         "632c5ca507cea60008273c75",
         "Universidad Privada Del Norte",
         "Universidad Privada del Norte S.A.C."
        ],
        [
         "632c652fded60b0009f14059",
         "Untels",
         "Universidad Nacional Tecnológica de Lima Sur"
        ],
        [
         "632c90f607cea600082756ae",
         "Instituto Federico Villarreal",
         "Universidad Nacional Federico Villarreal"
        ],
        [
         "632c9726ded60b0009f16084",
         "Universidad Cesar Vallejo",
         "Universidad César Vallejo S.A.C."
        ],
        [
         "63128e34844cb4003f22c08e",
         "Universidad Privada Del Norte",
         "Universidad Privada del Norte S.A.C."
        ],
        [
         "632cbe4636d47f00088ccbde",
         "Universidad Ricardo Palma",
         "Universidad Ricardo Palma"
        ],
        [
         "63200f70e5ee99003f133b0b",
         "Universidad Tecnológica Del Perú",
         "Universidad Tecnológica del Perú S.A.C."
        ],
        [
         "632ceacc07cea60008278b20",
         "Universidad Nacional Del Callao",
         "Universidad Nacional del Callao"
        ],
        [
         "632ceafa4df37200081dbab8",
         "Universidad Privada Del Norte",
         "Universidad Privada del Norte S.A.C."
        ],
        [
         "632d0edb1fb7e50008d3a935",
         "Universidad Continental",
         "Universidad Continental S.A.C."
        ],
        [
         "632d0edb1fb7e50008d3a935",
         "Universidad Esan",
         "Universidad ESAN"
        ],
        [
         "632d1767e0486e0008265dcf",
         "Universidad Nacional Federico Villarreal",
         "Universidad Nacional Federico Villarreal"
        ],
        [
         "63222828e5ee99003f172ecf",
         "Universidad Tecnológica Del Perú",
         "Universidad Tecnológica del Perú S.A.C."
        ],
        [
         "632d5b5a11da310008e3bc31",
         "Instituto San Ignacio De Loyola",
         "Universidad San Ignacio de Loyola S.R.L."
        ],
        [
         "6320b286844cb4003f31fa1d",
         "Universidad Privada Del Norte",
         "Universidad Privada del Norte S.A.C."
        ],
        [
         "63288757d1b76a0040915ebe",
         "Universidad Tecnológica Del Perú - Utp",
         "Universidad Tecnológica del Perú S.A.C."
        ],
        [
         "632e95912201690008fb0774",
         "Autónoma Del Perú",
         "Universidad Autónoma del Perú S.A.C."
        ],
        [
         "632f832ae0486e0008275a4e",
         "Universidad Autonoma Del Peru",
         "Universidad Autónoma del Perú S.A.C."
        ],
        [
         "6330a91b662c7d000996b116",
         "Universidad Nacional Mayor De San Marcos - Unmsm",
         "Universidad Nacional Mayor de San Marcos"
        ],
        [
         "6330da9f662c7d000996b4e9",
         "U. Ricardo Palma",
         "Universidad Ricardo Palma"
        ],
        [
         "63222828e5ee99003f172cf5",
         "Universidad Cesar Vallejo",
         "Universidad César Vallejo S.A.C."
        ],
        [
         "6331d96e2da20600098062ec",
         "Universidad Autónoma Del Perú",
         "Universidad Autónoma del Perú S.A.C."
        ],
        [
         "63322ad01fb7e50008d51130",
         "Universidad San Ignacio De Loyola",
         "Universidad San Ignacio de Loyola S.R.L."
        ],
        [
         "633254b7e0486e000827e27f",
         "Universidad Nacional Del Callao - Unac",
         "Universidad Nacional del Callao"
        ],
        [
         "63329bae11da310008e4d8aa",
         "Universidad Cesar Vallejo - Ucv",
         "Universidad César Vallejo S.A.C."
        ],
        [
         "6333036a2201690008fbd032",
         "Mártir Daniel Alcides Carrión",
         "Universidad Nacional Daniel Alcides Carrión"
        ],
        [
         "633314be35b6d50040dc44f0",
         "Universidad Cesar Vallejo",
         "Universidad César Vallejo S.A.C."
        ],
        [
         "63335b5c1fb7e50008d562a3",
         "Universidad César Vallejo",
         "Universidad César Vallejo S.A.C."
        ],
        [
         "63128e34844cb4003f22bc20",
         "Universidad Privada Del Norte",
         "Universidad Privada del Norte S.A.C."
        ],
        [
         "633388a035b6d50040dcd41e",
         "Usil",
         "Universidad San Ignacio de Loyola S.R.L."
        ],
        [
         "633314be35b6d50040dc44de",
         "Universidad Privada Del Norte",
         "Universidad Privada del Norte S.A.C."
        ],
        [
         "6333d47811da310008e538f9",
         "Upn",
         "Universidad Privada del Norte S.A.C."
        ],
        [
         "6333fe3a5ed3120009ab9bde",
         "Universidad Privada Del Norte",
         "Universidad Privada del Norte S.A.C."
        ],
        [
         "633492b2eb7e8b000954503f",
         "Universidad Tecnológica Del Perú",
         "Universidad Tecnológica del Perú S.A.C."
        ],
        [
         "6334a5c50b33a90008e8567b",
         "Universidad Privada Del Norte",
         "Universidad Privada del Norte S.A.C."
        ],
        [
         "6334b0200dd666000838c010",
         "Universidad De San Martin De Porres",
         "Universidad de San Martín de Porres"
        ],
        [
         "63200f70e5ee99003f1356ef",
         "Universidad Peruana De Ciencias Aplicadas",
         "Universidad Peruana de Ciencias Aplicadas S.A.C."
        ],
        [
         "6334cb6b601bec000889e7ff",
         "Universidad Privada Del Norte",
         "Universidad Privada del Norte S.A.C."
        ],
        [
         "63350cda601bec00088a01f0",
         "Universidad Privada Del Norte - Upn",
         "Universidad Privada del Norte S.A.C."
        ],
        [
         "63352504eb7e8b000954892d",
         "Universidad Tecnológica Del Perú - Utp",
         "Universidad Tecnológica del Perú S.A.C."
        ],
        [
         "6335acfd35b6d50040df797b",
         "Utp",
         "Universidad Tecnológica del Perú S.A.C."
        ],
        [
         "6335ca1beb7e8b0009549dd8",
         "Universidad Científica Del Sur",
         "Universidad Científica del Sur S.A.C."
        ],
        [
         "6336198a5ed3120009aefc4b",
         "Universidad Privada Del Norte",
         "Universidad Privada del Norte S.A.C."
        ],
        [
         "63372ea1ea7d3a0008c77ce2",
         "Universidad Cesar Vallejo",
         "Universidad César Vallejo S.A.C."
        ],
        [
         "6338b235e86b9a0008a24f36",
         "Universidad De San Martín De Porres",
         "Universidad de San Martín de Porres"
        ],
        [
         "633a048902dfe10008393613",
         "Universidad San Ignacio De Loyola",
         "Universidad San Ignacio de Loyola S.R.L."
        ],
        [
         "633a50ffe86b9a0008a27066",
         "Universidad Peruana De Ciencias Aplicadas",
         "Universidad Peruana de Ciencias Aplicadas S.A.C."
        ],
        [
         "63102ceb1d665a00087019b7",
         "Utp",
         "Universidad Tecnológica del Perú S.A.C."
        ],
        [
         "6310bfd54253530009af4988",
         "Universidad Tecnológica Del Perú",
         "Universidad Tecnológica del Perú S.A.C."
        ],
        [
         "6310cc964253530009af4d77",
         "Universidad Privada Del Norte",
         "Universidad Privada del Norte S.A.C."
        ],
        [
         "631104575a5f2e0009f9304e",
         "Universidad Privada Del Norte",
         "Universidad Privada del Norte S.A.C."
        ],
        [
         "63112c8d9bdb400009f50857",
         "Universidad Privada Del Norte",
         "Universidad Privada del Norte S.A.C."
        ],
        [
         "63113bbd4253530009af851d",
         "Universidad Cesar Vallejo",
         "Universidad César Vallejo S.A.C."
        ],
        [
         "63113bbd4253530009af851d",
         "Universidad Cesar Vallejo",
         "Universidad César Vallejo S.A.C."
        ],
        [
         "6311438c4253530009af889e",
         "Universidad Tecnológica Del Perú",
         "Universidad Tecnológica del Perú S.A.C."
        ],
        [
         "63115f954253530009af9439",
         "Universidad Tecnológica Del Perú",
         "Universidad Tecnológica del Perú S.A.C."
        ],
        [
         "631168355a5f2e0009f95ad1",
         "Universidad De Ciencias Aplicadas",
         "Universidad Peruana de Ciencias Aplicadas S.A.C."
        ],
        [
         "63116b965a5f2e0009f95cb3",
         "Universidad Privada Antenor Orrego",
         "Universidad Privada Antenor Orrego"
        ],
        [
         "63117268f4622c0008c17c3d",
         "Universidad Privada Del Norte",
         "Universidad Privada del Norte S.A.C."
        ],
        [
         "63121bf803ed1f00085bed81",
         "Universidad Privada Del Norte",
         "Universidad Privada del Norte S.A.C."
        ],
        [
         "6312222d0d11cc000ad2d040",
         "Universidad San Agustín De Arequipa",
         "Universidad Nacional de San Agustín de Arequipa"
        ],
        [
         "63121ff403ed1f00085bee9f",
         "Upc",
         "Universidad Peruana de Ciencias Aplicadas S.A.C."
        ],
        [
         "631242e803ed1f00085bfd05",
         "Ricardo Palma",
         "Universidad Ricardo Palma"
        ],
        [
         "631254698ad71a0008d6f0a7",
         "Universidad  Privada  Del Norte",
         "Universidad Privada del Norte S.A.C."
        ],
        [
         "631260545073940008a21857",
         "Universidad Autonoma Del Peru",
         "Universidad Autónoma del Perú S.A.C."
        ],
        [
         "6312a4a8e5ee99003f0868a4",
         "Universidad Tecnológica Del Perú",
         "Universidad Tecnológica del Perú S.A.C."
        ],
        [
         "6312a43d844cb4003f22de4c",
         "Universidad Cesar Vallejo - Ucv",
         "Universidad César Vallejo S.A.C."
        ],
        [
         "6312a4a8e5ee99003f0863d0",
         "Universidad Tecnológica Del Perú",
         "Universidad Tecnológica del Perú S.A.C."
        ],
        [
         "6312a43d844cb4003f22e026",
         "Universidad Privada Del Norte",
         "Universidad Privada del Norte S.A.C."
        ],
        [
         "63128e34844cb4003f22c784",
         "Universidad Privada Del Norte",
         "Universidad Privada del Norte S.A.C."
        ],
        [
         "6312a4a8e5ee99003f086b26",
         "Universidad Nacional De Cañete",
         "Universidad Nacional de Cañete"
        ],
        [
         "63128e34844cb4003f22bf0e",
         "Universidad Tecnológica Del Perú",
         "Universidad Tecnológica del Perú S.A.C."
        ],
        [
         "6312a4a8e5ee99003f0863e2",
         "Universidad Tecnológica Del Perú - Utp",
         "Universidad Tecnológica del Perú S.A.C."
        ],
        [
         "6312a4a8e5ee99003f0865ec",
         "Universidad Peruana De Ciencias Aplicadas",
         "Universidad Peruana de Ciencias Aplicadas S.A.C."
        ],
        [
         "6312a4a8e5ee99003f085fc2",
         "Universidad Privada Del Norte",
         "Universidad Privada del Norte S.A.C."
        ],
        [
         "63128e34844cb4003f22baca",
         "Universidad Privada Del Norte",
         "Universidad Privada del Norte S.A.C."
        ],
        [
         "63128e34844cb4003f22ba58",
         "Upn",
         "Universidad Privada del Norte S.A.C."
        ],
        [
         "63128e34844cb4003f22bd6a",
         "Universidad Privada Del Norte",
         "Universidad Privada del Norte S.A.C."
        ],
        [
         "63128e34844cb4003f22bdf4",
         "Universidad Privada Del Norte",
         "Universidad Privada del Norte S.A.C."
        ],
        [
         "6312a4a8e5ee99003f086802",
         "Universidad Cesar Vallejo",
         "Universidad César Vallejo S.A.C."
        ],
        [
         "6312a4a8e5ee99003f085f02",
         "Utp",
         "Universidad Tecnológica del Perú S.A.C."
        ],
        [
         "63128e34844cb4003f22ba9a",
         "Universidad Tecnológica Del Perú",
         "Universidad Tecnológica del Perú S.A.C."
        ],
        [
         "63128e34844cb4003f22bd7c",
         "Universidad Nacional Del Callao",
         "Universidad Nacional del Callao"
        ],
        [
         "6312a4a8e5ee99003f085698",
         "Universidad Cesar Vallejo",
         "Universidad César Vallejo S.A.C."
        ],
        [
         "63128e34844cb4003f22c0a6",
         "Univerdidad Privada Norbert Wiener",
         "Universidad Privada Norbert Wiener S.A."
        ],
        [
         "6312a4a8e5ee99003f086a48",
         "Universidad De San Martín De Porres",
         "Universidad de San Martín de Porres"
        ],
        [
         "6312a4a8e5ee99003f086a0c",
         "Universidad Nacional Del Callao",
         "Universidad Nacional del Callao"
        ],
        [
         "6312a4a8e5ee99003f086832",
         "Universidad De San Martin De Porres",
         "Universidad de San Martín de Porres"
        ],
        [
         "63128e33844cb4003f22b8d8",
         "Universidad Nacional Federico Villarreal - Unfv",
         "Universidad Nacional Federico Villarreal"
        ],
        [
         "6312a4a8e5ee99003f085932",
         "Universidad Privada Del Norte",
         "Universidad Privada del Norte S.A.C."
        ],
        [
         "63128e34844cb4003f22c6c4",
         "Universidad Cesar Vallejo  Ucv",
         "Universidad César Vallejo S.A.C."
        ],
        [
         "6312a43d844cb4003f22e632",
         "Universidad Privada Del Norte",
         "Universidad Privada del Norte S.A.C."
        ],
        [
         "63128e34844cb4003f22c544",
         "Universidad César Vallejo",
         "Universidad César Vallejo S.A.C."
        ],
        [
         "6312a4a8e5ee99003f086400",
         "Universidad Privada Del Norte",
         "Universidad Privada del Norte S.A.C."
        ],
        [
         "6312a4a8e5ee99003f0864fc",
         "Daniel Alcides Carrión",
         "Universidad Nacional Daniel Alcides Carrión"
        ],
        [
         "63128e34844cb4003f22c19c",
         "Universidad Nacional Santiago Antúnez De Mayolo, Huaraz",
         "Universidad Nacional Santiago Antúnez de Mayolo"
        ],
        [
         "6312b39a5073940008a23c8b",
         "Universidad Nacional De Piura",
         "Universidad Nacional de Piura"
        ],
        [
         "6312a4a8e5ee99003f086c52",
         "Instituto San Ignacio De Loyola",
         "Universidad San Ignacio de Loyola S.R.L."
        ],
        [
         "6312a4a8e5ee99003f08581e",
         "Universidad Científica Del Sur",
         "Universidad Científica del Sur S.A.C."
        ],
        [
         "6312a43d844cb4003f22dde6",
         "Universidad Privada Del Norte",
         "Universidad Privada del Norte S.A.C."
        ],
        [
         "63128e34844cb4003f22bb9c",
         "Universidad Nacional Del Callao",
         "Universidad Nacional del Callao"
        ],
        [
         "6312a43d844cb4003f22dfcc",
         "Universodad Privada Del Norte",
         "Universidad Privada del Norte S.A.C."
        ],
        [
         "6312b796f4622c0008c1d6f8",
         "Universidad Peruana De Ciencias Aplicadas - Upc",
         "Universidad Peruana de Ciencias Aplicadas S.A.C."
        ],
        [
         "63128e34844cb4003f22bcc8",
         "Usil",
         "Universidad San Ignacio de Loyola S.R.L."
        ],
        [
         "63128e33844cb4003f22b794",
         "Universidad Cesar Vallejo - Ucv",
         "Universidad César Vallejo S.A.C."
        ],
        [
         "63128e33844cb4003f22b794",
         "Universidad Privada Del Norte",
         "Universidad Privada del Norte S.A.C."
        ],
        [
         "63128e34844cb4003f22bbba",
         "Universidad Cesar Vallejo",
         "Universidad César Vallejo S.A.C."
        ],
        [
         "6312a4a8e5ee99003f085f5c",
         "Usil",
         "Universidad San Ignacio de Loyola S.R.L."
        ],
        [
         "63128e34844cb4003f22bbf0",
         "Universidad De Ciencias Aplicadas - Upc",
         "Universidad Peruana de Ciencias Aplicadas S.A.C."
        ],
        [
         "6312a4a8e5ee99003f086046",
         "Universidad Privada Del Norte",
         "Universidad Privada del Norte S.A.C."
        ],
        [
         "63128e34844cb4003f22c4f6",
         "Universidad Privada Del Norte",
         "Universidad Privada del Norte S.A.C."
        ],
        [
         "6312a4a8e5ee99003f086868",
         "Universidad Cesar Vallejo - Ucv",
         "Universidad César Vallejo S.A.C."
        ],
        [
         "6312a4a8e5ee99003f086070",
         "Universidad Privada Del Norte",
         "Universidad Privada del Norte S.A.C."
        ],
        [
         "6312a4a8e5ee99003f086ac6",
         "Universidad Tecnológica Del Perú",
         "Universidad Tecnológica del Perú S.A.C."
        ],
        [
         "6312a4a8e5ee99003f08573a",
         "Universidad Privada Del Norte",
         "Universidad Privada del Norte S.A.C."
        ],
        [
         "6312a4a8e5ee99003f0858c6",
         "Universidad Peruana De Ciencias Aplicadas",
         "Universidad Peruana de Ciencias Aplicadas S.A.C."
        ],
        [
         "6312a4a8e5ee99003f0858c6",
         "I.e Por Convenio 0001 María Auxiliadora",
         "Universidad María Auxiliadora S.A.C."
        ],
        [
         "63128e34844cb4003f22c778",
         "Universidad Privada Del Norte (upn)",
         "Universidad Privada del Norte S.A.C."
        ],
        [
         "63128e34844cb4003f22c778",
         "Universidad Peruana De Ciencias Aplicadas (upc)",
         "Universidad Peruana de Ciencias Aplicadas S.A.C."
        ],
        [
         "6312a4a8e5ee99003f086622",
         "Instituto De La Clínica Ricardo Palma",
         "Universidad Ricardo Palma"
        ],
        [
         "6312a4a8e5ee99003f086622",
         "Universidad Le Cordon Bleu",
         "Universidad Le Cordon Bleu S.A.C."
        ],
        [
         "6312a4a8e5ee99003f086184",
         "Universidad Tecnológica Del Perú",
         "Universidad Tecnológica del Perú S.A.C."
        ],
        [
         "6312a4a8e5ee99003f086874",
         "Utp",
         "Universidad Tecnológica del Perú S.A.C."
        ],
        [
         "6312a4a8e5ee99003f086aae",
         "Universidad Privada Del Norte",
         "Universidad Privada del Norte S.A.C."
        ],
        [
         "63128e34844cb4003f22c8b0",
         "Universidad Nacional Del Callao",
         "Universidad Nacional del Callao"
        ],
        [
         "6312a4a8e5ee99003f086b02",
         "Universidad Tecnológica Del Perú",
         "Universidad Tecnológica del Perú S.A.C."
        ],
        [
         "6312a4a8e5ee99003f0866a0",
         "Universidad Autonoma Del Peru",
         "Universidad Autónoma del Perú S.A.C."
        ],
        [
         "6312e01f5073940008a248fc",
         "Universidad Peruana De Ciencias Aplicadas - Upc",
         "Universidad Peruana de Ciencias Aplicadas S.A.C."
        ],
        [
         "6312a4a9e5ee99003f086cd0",
         "Universidad Tecnológica Del Perú",
         "Universidad Tecnológica del Perú S.A.C."
        ],
        [
         "63128e34844cb4003f22c03a",
         "Universidad Ricardo Palma",
         "Universidad Ricardo Palma"
        ],
        [
         "6312a4a8e5ee99003f0856e0",
         "Universidad San Ignacio De Loyola",
         "Universidad San Ignacio de Loyola S.R.L."
        ],
        [
         "6312a4a8e5ee99003f085a76",
         "Universidad San Martín De Porres",
         "Universidad de San Martín de Porres"
        ],
        [
         "6312a4a8e5ee99003f0859f2",
         "Universidad Tecnológica Del Perú",
         "Universidad Tecnológica del Perú S.A.C."
        ],
        [
         "6312a4a8e5ee99003f085b2a",
         "Universidad Nacional Mayor De San Marcos",
         "Universidad Nacional Mayor de San Marcos"
        ],
        [
         "63128e34844cb4003f22bf20",
         "Universidad Peruana De Ciencias Aplicada",
         "Universidad Peruana de Ciencias Aplicadas S.A.C."
        ],
        [
         "63128e34844cb4003f22c60a",
         "Univerisdad Tecnologica Del Peru",
         "Universidad Tecnológica del Perú S.A.C."
        ],
        [
         "6312a4a8e5ee99003f086b68",
         "Universidad Privada Del Norte",
         "Universidad Privada del Norte S.A.C."
        ],
        [
         "63128e34844cb4003f22c292",
         "Universidad Cesar Vallejo - Ucv",
         "Universidad César Vallejo S.A.C."
        ],
        [
         "6312a4a8e5ee99003f086208",
         "Universidad Nacional Mayor De San Marcos",
         "Universidad Nacional Mayor de San Marcos"
        ],
        [
         "6312a4a8e5ee99003f085c74",
         "Universidad Tecnológica Del Perú",
         "Universidad Tecnológica del Perú S.A.C."
        ],
        [
         "6312a4a8e5ee99003f085b9c",
         "Universidad Peruana De Ciencias Aplicadas - Upc",
         "Universidad Peruana de Ciencias Aplicadas S.A.C."
        ],
        [
         "63128e34844cb4003f22c86e",
         "Universidad Cesar Vallejo",
         "Universidad César Vallejo S.A.C."
        ],
        [
         "6312a4a8e5ee99003f086568",
         "Universidad Privada Del Norte",
         "Universidad Privada del Norte S.A.C."
        ],
        [
         "63128e33844cb4003f22b87e",
         "Upc",
         "Universidad Peruana de Ciencias Aplicadas S.A.C."
        ],
        [
         "6312a4a8e5ee99003f085d2e",
         "Universidad San Ignacio De Loyola",
         "Universidad San Ignacio de Loyola S.R.L."
        ],
        [
         "63128e33844cb4003f22b8fc",
         "Universidad Privada Del Norte",
         "Universidad Privada del Norte S.A.C."
        ],
        [
         "63128e34844cb4003f22c61c",
         "Instituto San Ignacio De Loyola - Isil",
         "Universidad San Ignacio de Loyola S.R.L."
        ],
        [
         "6312a4a8e5ee99003f085bd8",
         "Universidad Ricardo Palma",
         "Universidad Ricardo Palma"
        ],
        [
         "6312a4a8e5ee99003f0865e0",
         "Universidad Privada Del Norte",
         "Universidad Privada del Norte S.A.C."
        ],
        [
         "63128e34844cb4003f22be4e",
         "Ucv",
         "Universidad César Vallejo S.A.C."
        ],
        [
         "6312a4a8e5ee99003f085fb0",
         "Universidad Privada Del Norte - Upn",
         "Universidad Privada del Norte S.A.C."
        ],
        [
         "6312a4a8e5ee99003f086c04",
         "Universidad De San Martin De Porres - Usmp",
         "Universidad de San Martín de Porres"
        ],
        [
         "63128e34844cb4003f22c928",
         "Universidad Peruana De Ciencias Aplicadas",
         "Universidad Peruana de Ciencias Aplicadas S.A.C."
        ],
        [
         "6312a4a8e5ee99003f086028",
         "Universidad Privada Del Norte",
         "Universidad Privada del Norte S.A.C."
        ],
        [
         "6312a4a8e5ee99003f085dfa",
         "Upc",
         "Universidad Peruana de Ciencias Aplicadas S.A.C."
        ],
        [
         "63128e34844cb4003f22c43c",
         "Universidad Cesar Vallejo",
         "Universidad César Vallejo S.A.C."
        ],
        [
         "6312a4a8e5ee99003f08650e",
         "Universidad Privada Del Norte",
         "Universidad Privada del Norte S.A.C."
        ],
        [
         "6312a43d844cb4003f22e548",
         "Universidad César Vallejo",
         "Universidad César Vallejo S.A.C."
        ],
        [
         "6312a4a9e5ee99003f086d54",
         "Universidad Tecnologica Del Peru",
         "Universidad Tecnológica del Perú S.A.C."
        ],
        [
         "6312a4a8e5ee99003f0864b4",
         "César Vallejo",
         "Universidad César Vallejo S.A.C."
        ],
        [
         "6312a4a9e5ee99003f086d18",
         "Universidad Cesar Vallejo",
         "Universidad César Vallejo S.A.C."
        ],
        [
         "63128e34844cb4003f22c74e",
         "Cesar Vallejo",
         "Universidad César Vallejo S.A.C."
        ],
        [
         "6313e0db8ad71a0008d743d8",
         "Universidad Nacional Federico Villarreal",
         "Universidad Nacional Federico Villarreal"
        ],
        [
         "6312a4a8e5ee99003f08639a",
         "Utp",
         "Universidad Tecnológica del Perú S.A.C."
        ],
        [
         "63128e34844cb4003f22c3e2",
         "Universidad Peruana De Ciencias Aplicadas",
         "Universidad Peruana de Ciencias Aplicadas S.A.C."
        ],
        [
         "6312a43d844cb4003f22e4d6",
         "Universidad Nacional De Trujillo",
         "Universidad Nacional de Trujillo"
        ],
        [
         "6312a43d844cb4003f22e62c",
         "Universidad Privada Del Norte - Unp",
         "Universidad Privada del Norte S.A.C."
        ],
        [
         "6312a43d844cb4003f22e62c",
         "Universidad Privada Antenor Orrego",
         "Universidad Privada Antenor Orrego"
        ],
        [
         "63143bd6f4622c0008c2105b",
         "Universidad Nacional Del Callao",
         "Universidad Nacional del Callao"
        ],
        [
         "63128e34844cb4003f22c136",
         "Universidad Nacional Del Callao",
         "Universidad Nacional del Callao"
        ],
        [
         "6312a4a8e5ee99003f085d58",
         "Universidad Nacional Federico Villarreal - Unfv",
         "Universidad Nacional Federico Villarreal"
        ],
        [
         "6312a4a8e5ee99003f0858a8",
         "Universidad Cesar Vallejo",
         "Universidad César Vallejo S.A.C."
        ],
        [
         "63128e34844cb4003f22c6dc",
         "Universidad Privada Del Norte",
         "Universidad Privada del Norte S.A.C."
        ],
        [
         "6312a43d844cb4003f22e2fc",
         "Universidad Privada Del Norte",
         "Universidad Privada del Norte S.A.C."
        ],
        [
         "63128e34844cb4003f22bc32",
         "Universidad Privada Del Norte - Unp",
         "Universidad Privada del Norte S.A.C."
        ],
        [
         "6314d39b0d11cc000ad35818",
         "Universidad Cesar Vallejo - Ucv",
         "Universidad César Vallejo S.A.C."
        ],
        [
         "6312a4a9e5ee99003f086d42",
         "San Ignacio De Loyola",
         "Universidad San Ignacio de Loyola S.R.L."
        ],
        [
         "6312a4a8e5ee99003f08567a",
         "Universidad Esan",
         "Universidad ESAN"
        ],
        [
         "631539e05073940008a2812c",
         "Universidad Privada Del Norte",
         "Universidad Privada del Norte S.A.C."
        ],
        [
         "6312a4a8e5ee99003f08658c",
         "Universidad Nacional De Educación Enrique Guzmán Y Valle - La Cantuta",
         "Universidad Nacional de Educación Enrique Guzmán y Valle"
        ],
        [
         "6312a4a8e5ee99003f085896",
         "Universidad Nacional Mayor De San Marcos",
         "Universidad Nacional Mayor de San Marcos"
        ],
        [
         "63128e34844cb4003f22c1c0",
         "Universidad Privada Del Norte",
         "Universidad Privada del Norte S.A.C."
        ],
        [
         "6312a4a8e5ee99003f08691c",
         "Universidad Nacional Mayor De San Marcos",
         "Universidad Nacional Mayor de San Marcos"
        ],
        [
         "6315636103ed1f00085ec4bf",
         "Universidad Privada Del Norte",
         "Universidad Privada del Norte S.A.C."
        ],
        [
         "6312a4a8e5ee99003f0859f8",
         "Universidad Tecnológica Del Perú",
         "Universidad Tecnológica del Perú S.A.C."
        ],
        [
         "631576600d11cc000ad36f95",
         "Universidad Privada Del Norte",
         "Universidad Privada del Norte S.A.C."
        ],
        [
         "6315ac5703ed1f00085ecd2d",
         "Universidad César Vallejo",
         "Universidad César Vallejo S.A.C."
        ],
        [
         "6312a4a8e5ee99003f08644e",
         "Universidad Peruana De Ciencias Aplicadas.",
         "Universidad Peruana de Ciencias Aplicadas S.A.C."
        ],
        [
         "63160d575073940008a292fe",
         "Instituto Continental",
         "Universidad Continental S.A.C."
        ],
        [
         "631612b88ad71a0008d77107",
         "Universidad Privada Del Norte",
         "Universidad Privada del Norte S.A.C."
        ],
        [
         "6312a43d844cb4003f22e0a4",
         "Universidad Nacional De Trujillo",
         "Universidad Nacional de Trujillo"
        ],
        [
         "63161d1a8ad71a0008d774c6",
         "San Martin De Porres",
         "Universidad de San Martín de Porres"
        ],
        [
         "63162c11844cb4003f239ae9",
         "Universidad Privada Del Norte",
         "Universidad Privada del Norte S.A.C."
        ],
        [
         "63162c11844cb4003f239ac5",
         "Universidad Nacional Tecnológica De Lima Sur",
         "Universidad Nacional Tecnológica de Lima Sur"
        ],
        [
         "63128e34844cb4003f22c826",
         "Universidad Nacional Federico Villarreal",
         "Universidad Nacional Federico Villarreal"
        ],
        [
         "6312a4a8e5ee99003f085c9e",
         "Upc",
         "Universidad Peruana de Ciencias Aplicadas S.A.C."
        ],
        [
         "63162c11844cb4003f239acb",
         "Universidad Cesar Vallejo",
         "Universidad César Vallejo S.A.C."
        ],
        [
         "631659676442660008f41b15",
         "Universidad Tecnológica Del Perú - Utp",
         "Universidad Tecnológica del Perú S.A.C."
        ],
        [
         "631662740d11cc000ad39aed",
         "Ricardo Palma",
         "Universidad Ricardo Palma"
        ],
        [
         "63166a6f6442660008f421d8",
         "Universidad Privada Del Norte",
         "Universidad Privada del Norte S.A.C."
        ],
        [
         "63166c310d11cc000ad39dfd",
         "Universidad Privada Del Norte",
         "Universidad Privada del Norte S.A.C."
        ],
        [
         "63167df88ad71a0008d798ac",
         "Upc",
         "Universidad Peruana de Ciencias Aplicadas S.A.C."
        ],
        [
         "631689b30d11cc000ad3a8ff",
         "Universidad Tecnológica Del Perú",
         "Universidad Tecnológica del Perú S.A.C."
        ],
        [
         "63168cb95073940008a2f9e1",
         "Universidad Nacional Mayor De San Marcos",
         "Universidad Nacional Mayor de San Marcos"
        ],
        [
         "6316922c03ed1f00085f71cf",
         "Universidad Cesar Vallejo",
         "Universidad César Vallejo S.A.C."
        ],
        [
         "6316a6eb5073940008a30408",
         "Universidad Privada Del Norte",
         "Universidad Privada del Norte S.A.C."
        ],
        [
         "6316a6c86442660008f4393c",
         "Utp",
         "Universidad Tecnológica del Perú S.A.C."
        ],
        [
         "6316ab2303ed1f00085f797d",
         "Universidad Privada Del Norte",
         "Universidad Privada del Norte S.A.C."
        ],
        [
         "6316b4dc03ed1f00085f7c26",
         "Universidad Nacional De Ingenieria",
         "Universidad Nacional de Ingeniería"
        ],
        [
         "6316b4dc03ed1f00085f7c26",
         "Colegio La Salle",
         "Universidad La Salle"
        ],
        [
         "6316cffd8ad71a0008d83a39",
         "Universidad Tecnológica Del Perú - Utp",
         "Universidad Tecnológica del Perú S.A.C."
        ],
        [
         "6316e9c2f4622c0008c27bac",
         "Universidad Nacional Mayor De San Marcos",
         "Universidad Nacional Mayor de San Marcos"
        ],
        [
         "63174f7e03ed1f00085f8be3",
         "Universidad Cesar Vallejo",
         "Universidad César Vallejo S.A.C."
        ],
        [
         "631774ee03ed1f00085f9661",
         "Instituto San Ignacio De Loyola",
         "Universidad San Ignacio de Loyola S.R.L."
        ],
        [
         "63177aa18ad71a0008d84cc9",
         "Ucv",
         "Universidad César Vallejo S.A.C."
        ],
        [
         "6312a4a8e5ee99003f085d8e",
         "San Ignacio De Loyola - Isil",
         "Universidad San Ignacio de Loyola S.R.L."
        ],
        [
         "631766b2e5ee99003f0aa522",
         "Universidad César Vallejo",
         "Universidad César Vallejo S.A.C."
        ],
        [
         "6312a43d844cb4003f22e48e",
         "Universidad Cesar Vallejo",
         "Universidad César Vallejo S.A.C."
        ],
        [
         "6317a85103ed1f00085fb88b",
         "Universidad César Vallejo",
         "Universidad César Vallejo S.A.C."
        ],
        [
         "6317a85103ed1f00085fb88b",
         "I.e.p José María Arguedas",
         "Universidad Nacional José María Arguedas"
        ],
        [
         "6317a85103ed1f00085fb88b",
         "I.e Jec Daniel Alcides Carrión",
         "Universidad Nacional Daniel Alcides Carrión"
        ],
        [
         "6317966f0d11cc000ad3e293",
         "Universidad Tecnologica Del Peru",
         "Universidad Tecnológica del Perú S.A.C."
        ],
        [
         "6317b54f03ed1f00085fbd48",
         "Universidad Nacional Del Callao",
         "Universidad Nacional del Callao"
        ],
        [
         "6317b71a03ed1f00085fbe19",
         "Universidad San Ignacio De Loyola - Usil",
         "Universidad San Ignacio de Loyola S.R.L."
        ],
        [
         "6317b71a03ed1f00085fbe19",
         "Instituto San Ignacio De Loyola - Isil",
         "Universidad San Ignacio de Loyola S.R.L."
        ],
        [
         "63162c11844cb4003f239afb",
         "Universidad San Ignacio De Loyola",
         "Universidad San Ignacio de Loyola S.R.L."
        ],
        [
         "6317c0c20d11cc000ad3f9ad",
         "Universidad Nacional Del Callao",
         "Universidad Nacional del Callao"
        ],
        [
         "6317db0919d98e0008e970e2",
         "Universidad Privada Del Norte",
         "Universidad Privada del Norte S.A.C."
        ],
        [
         "6317dfaacfc3230008d91339",
         "Universidad Cesar Vallejo - Ucv",
         "Universidad César Vallejo S.A.C."
        ],
        [
         "63128e34844cb4003f22beb4",
         "Universidad César Vallejo",
         "Universidad César Vallejo S.A.C."
        ],
        [
         "6317ed9a9bc8d90009562124",
         "Universidad Tecnológica Del Perú - Utp",
         "Universidad Tecnológica del Perú S.A.C."
        ],
        [
         "631800c48a691c00087bed56",
         "Universidad Cesar Vallejo",
         "Universidad César Vallejo S.A.C."
        ],
        [
         "6312a4a8e5ee99003f086c8e",
         "\"Universidad Particular \"\"san Martín De Porres\"\"\"",
         "Universidad de San Martín de Porres"
        ],
        [
         "631820571c7bdc00081b7bba",
         "Universidad De San Martín De Porres",
         "Universidad de San Martín de Porres"
        ],
        [
         "631831868a691c00087bf9e3",
         "Universidad San Ignacio De Loyola",
         "Universidad San Ignacio de Loyola S.R.L."
        ],
        [
         "6318ba879bc8d90009563849",
         "Universidad Privada Del Norte",
         "Universidad Privada del Norte S.A.C."
        ],
        [
         "631766b2e5ee99003f0aa54c",
         "Universidad Privada Del Norte",
         "Universidad Privada del Norte S.A.C."
        ],
        [
         "6318bec2cfc3230008d92c47",
         "Universidad Nacional Federico Villarreal - Unfv",
         "Universidad Nacional Federico Villarreal"
        ],
        [
         "6318c52a1c7bdc00081b8900",
         "Universidad Cesar Vallejo - Ucv",
         "Universidad César Vallejo S.A.C."
        ],
        [
         "6318ea5a8a691c00087c2f0e",
         "Universidad Peruana De Ciencias Aplicadas - Upc",
         "Universidad Peruana de Ciencias Aplicadas S.A.C."
        ],
        [
         "63190f121c7bdc00081bac19",
         "Universidad Nacional Federico Villarreal",
         "Universidad Nacional Federico Villarreal"
        ],
        [
         "63191b3e8a691c00087c435f",
         "Universidad Privada Del Norte",
         "Universidad Privada del Norte S.A.C."
        ],
        [
         "6319297319d98e0008e9c0d4",
         "Utp",
         "Universidad Tecnológica del Perú S.A.C."
        ],
        [
         "63162c1c5073940008a29ea7",
         "Universidad Cesar Vallejo",
         "Universidad César Vallejo S.A.C."
        ],
        [
         "6319486119d98e0008e9cfdd",
         "Universidad Cesar Vallejo",
         "Universidad César Vallejo S.A.C."
        ],
        [
         "6312a4a8e5ee99003f086ae4",
         "Universidad Nacional Federico Villarreal",
         "Universidad Nacional Federico Villarreal"
        ],
        [
         "63128e34844cb4003f22c4c6",
         "Universidad Privada Del Norte",
         "Universidad Privada del Norte S.A.C."
        ],
        [
         "63197cba19d98e0008e9e49e",
         "Universidad Privada Del Norte",
         "Universidad Privada del Norte S.A.C."
        ],
        [
         "6312a4a8e5ee99003f086676",
         "Universidad Nacional Del Centro Del Perú - Uncp",
         "Universidad Nacional del Centro del Perú"
        ],
        [
         "631a080e1c7bdc00081be4be",
         "Universidad San Martin De Porres",
         "Universidad de San Martín de Porres"
        ],
        [
         "631a08ce19d98e0008e9ef34",
         "Universidad Cesar Vallejo",
         "Universidad César Vallejo S.A.C."
        ],
        [
         "631a12b69bc8d90009569c44",
         "Universidad Privada Del Norte",
         "Universidad Privada del Norte S.A.C."
        ],
        [
         "631a1af89bc8d90009569f9f",
         "Universidad Tecnologica Del Peru",
         "Universidad Tecnológica del Perú S.A.C."
        ],
        [
         "631a5a93c31a670008a5d587",
         "Universidad Nacional Mayor De San Marcos - Unmsm",
         "Universidad Nacional Mayor de San Marcos"
        ],
        [
         "631a6d459bc8d9000956c396",
         "Universidad Cesar Vallejo",
         "Universidad César Vallejo S.A.C."
        ],
        [
         "631a86048a691c00087cb4e4",
         "Universidad Nacional José Faustino Sánchez Carrión",
         "Universidad Nacional José Faustino Sánchez Carrión"
        ],
        [
         "631aa07d469d5700083d410d",
         "Universidad Nacional De Piura",
         "Universidad Nacional de Piura"
        ],
        [
         "631ab6f91c56340008d6b0aa",
         "Universidad Peruana De Ciencias Aplicadas - Upc",
         "Universidad Peruana de Ciencias Aplicadas S.A.C."
        ],
        [
         "631b412e756c7c000964782d",
         "Universidad Tecnológica Del Perú",
         "Universidad Tecnológica del Perú S.A.C."
        ],
        [
         "631b89a7756c7c0009648679",
         "Universidad De San Martin De Porres - Usmp",
         "Universidad de San Martín de Porres"
        ],
        [
         "631b8e6067f467000868371c",
         "Universidad Privada Del Norte",
         "Universidad Privada del Norte S.A.C."
        ],
        [
         "631ba9568ddb27000869dccf",
         "Universidad Privada Del Norte - Upn",
         "Universidad Privada del Norte S.A.C."
        ],
        [
         "63128e34844cb4003f22bde2",
         "Upn",
         "Universidad Privada del Norte S.A.C."
        ],
        [
         "631cc245bac1bc000909153e",
         "Universidad Jaime Bausate Y Meza",
         "Universidad Jaime Bausate y Meza"
        ],
        [
         "631cd3cebac1bc0009091e8d",
         "Universidad Privada De Ciencias Aplicadas",
         "Universidad Peruana de Ciencias Aplicadas S.A.C."
        ],
        [
         "631ce90b756c7c000964c0f8",
         "Universidad Esan",
         "Universidad ESAN"
        ],
        [
         "631d25981c56340008d70895",
         "Universidad Tecnológica Del Perú",
         "Universidad Tecnológica del Perú S.A.C."
        ],
        [
         "631e0d3767f4670008687aba",
         "Universidad Privada Antenor Orrego",
         "Universidad Privada Antenor Orrego"
        ],
        [
         "631e0f961c56340008d710cc",
         "Unfv",
         "Universidad Nacional Federico Villarreal"
        ],
        [
         "631e661167f46700086883ce",
         "Usmp",
         "Universidad de San Martín de Porres"
        ],
        [
         "631e726b756c7c000964d9a3",
         "Upc",
         "Universidad Peruana de Ciencias Aplicadas S.A.C."
        ],
        [
         "63128e33844cb4003f22b986",
         "Universidad Continental",
         "Universidad Continental S.A.C."
        ],
        [
         "631f48a38ddb2700086a2c06",
         "Universidad Jaime Bausate Y Meza - Jbm",
         "Universidad Jaime Bausate y Meza"
        ],
        [
         "631f5c7d67f4670008689707",
         "Universidad Tecnológica Del Perú",
         "Universidad Tecnológica del Perú S.A.C."
        ],
        [
         "631f5e7d8ddb2700086a310a",
         "Universidad César Vallejo",
         "Universidad César Vallejo S.A.C."
        ],
        [
         "631f6657bac1bc0009094a39",
         "Universidad Peruana De Ciencias Aplicadas",
         "Universidad Peruana de Ciencias Aplicadas S.A.C."
        ],
        [
         "631f974c8ddb2700086a42d0",
         "Utp",
         "Universidad Tecnológica del Perú S.A.C."
        ],
        [
         "631f9d77bac1bc0009095db7",
         "Universidad Privada Del Norte",
         "Universidad Privada del Norte S.A.C."
        ],
        [
         "631fa091756c7c000965026d",
         "Universidad Tecnológica Del Perú",
         "Universidad Tecnológica del Perú S.A.C."
        ],
        [
         "631fce27bac1bc00090972fd",
         "Universidad San Ignacio De Loyola - Usil",
         "Universidad San Ignacio de Loyola S.R.L."
        ],
        [
         "631fd43e1c56340008d75b61",
         "Univesidad  Cesar Vallejo",
         "Universidad César Vallejo S.A.C."
        ],
        [
         "631ff753756c7c0009652c47",
         "Universidad Nacional Agraria La Molina",
         "Universidad Nacional Agraria La Molina"
        ],
        [
         "631ff753756c7c0009652c47",
         "Universidad De Lima",
         "Universidad de Lima"
        ],
        [
         "63200c48bac1bc0009098d90",
         "Universidad San Ignacio De Loyola",
         "Universidad San Ignacio de Loyola S.R.L."
        ],
        [
         "63200cf467f467000868de12",
         "Universidad Tecnológica Del Perú - Utp",
         "Universidad Tecnológica del Perú S.A.C."
        ],
        [
         "63200d1f67f467000868de35",
         "Universidad Tecnológica Del Perú",
         "Universidad Tecnológica del Perú S.A.C."
        ],
        [
         "63200f70e5ee99003f133eef",
         "Utp",
         "Universidad Tecnológica del Perú S.A.C."
        ],
        [
         "63200f70e5ee99003f135905",
         "Universidad Cesar Vallejo",
         "Universidad César Vallejo S.A.C."
        ],
        [
         "63200f70e5ee99003f133f19",
         "Universidad Privada Norbert Wiener",
         "Universidad Privada Norbert Wiener S.A."
        ],
        [
         "63200f70e5ee99003f1346e1",
         "Utp",
         "Universidad Tecnológica del Perú S.A.C."
        ],
        [
         "63200feb67f467000868e040",
         "Universidad Tecnologica Del Peru",
         "Universidad Tecnológica del Perú S.A.C."
        ],
        [
         "63200f70e5ee99003f133607",
         "Upn",
         "Universidad Privada del Norte S.A.C."
        ],
        [
         "63200f70e5ee99003f13551b",
         "Universidad Privada Del Norte - Unp",
         "Universidad Privada del Norte S.A.C."
        ],
        [
         "63200f70e5ee99003f135587",
         "Universidad Cesar Vallejo",
         "Universidad César Vallejo S.A.C."
        ],
        [
         "63200f70e5ee99003f134855",
         "Universidad Privada Del Norte",
         "Universidad Privada del Norte S.A.C."
        ],
        [
         "63200ecb1c56340008d775ef",
         "Universidad Privada San Juan Bautista - Upsjb",
         "Universidad Privada San Juan Bautista S.A.C."
        ],
        [
         "63200f71e5ee99003f135fb3",
         "Universidad Privada Del Norte",
         "Universidad Privada del Norte S.A.C."
        ],
        [
         "63200f71e5ee99003f136841",
         "Universidad San Martin De Porres",
         "Universidad de San Martín de Porres"
        ],
        [
         "63200f71e5ee99003f135f53",
         "Universidad Peruana De Ciencias Aplicadas - Upc",
         "Universidad Peruana de Ciencias Aplicadas S.A.C."
        ],
        [
         "63200f70e5ee99003f135407",
         "Universidad Privada Del Norte",
         "Universidad Privada del Norte S.A.C."
        ],
        [
         "63200f70e5ee99003f134a89",
         "Universidad Tecnologica Del Peru",
         "Universidad Tecnológica del Perú S.A.C."
        ],
        [
         "63200f70e5ee99003f134f51",
         "Universidad Autónoma Del Perú - Ua",
         "Universidad Autónoma del Perú S.A.C."
        ],
        [
         "63200f71e5ee99003f13602b",
         "Universidad Privada Del Norte - Upn",
         "Universidad Privada del Norte S.A.C."
        ],
        [
         "63200f71e5ee99003f13602b",
         "Universidad De San Martin De Porres - Usmp",
         "Universidad de San Martín de Porres"
        ],
        [
         "63200f71e5ee99003f136517",
         "Academia Cesar Vallejo",
         "Universidad César Vallejo S.A.C."
        ],
        [
         "63200f70e5ee99003f1354a3",
         "Universidad Tecnológica Del Perú",
         "Universidad Tecnológica del Perú S.A.C."
        ],
        [
         "63200f70e5ee99003f13589f",
         "Utp",
         "Universidad Tecnológica del Perú S.A.C."
        ],
        [
         "63200f71e5ee99003f1361f9",
         "Universidad Tecnológica Del Perú",
         "Universidad Tecnológica del Perú S.A.C."
        ],
        [
         "63200f71e5ee99003f136007",
         "Universidad Privada San Juan Bautista",
         "Universidad Privada San Juan Bautista S.A.C."
        ],
        [
         "63200f71e5ee99003f1361cf",
         "Universidad Cesar Vallejo",
         "Universidad César Vallejo S.A.C."
        ],
        [
         "63200f70e5ee99003f135479",
         "Universidad Tecnológica Del Perú - Utp",
         "Universidad Tecnológica del Perú S.A.C."
        ],
        [
         "63200f70e5ee99003f1337f9",
         "Cesar Vallejo",
         "Universidad César Vallejo S.A.C."
        ],
        [
         "63200f70e5ee99003f134591",
         "Universidad De Piura - Campus Lima",
         "Universidad de Piura"
        ],
        [
         "63200f70e5ee99003f134a7d",
         "Universidad Naciónal Federico Villarreal",
         "Universidad Nacional Federico Villarreal"
        ],
        [
         "63200f70e5ee99003f134aad",
         "Universidad De Ciencias Aplicadas",
         "Universidad Peruana de Ciencias Aplicadas S.A.C."
        ],
        [
         "63200f70e5ee99003f134597",
         "Universidad Privada San Juan Bautista",
         "Universidad Privada San Juan Bautista S.A.C."
        ],
        [
         "63200f71e5ee99003f135eed",
         "Instituto San Ignacio De Loyola",
         "Universidad San Ignacio de Loyola S.R.L."
        ],
        [
         "63200f71e5ee99003f1363f7",
         "Universidad Nacional De La Amazonia Peruana",
         "Universidad Nacional de la Amazonía Peruana"
        ],
        [
         "63200f71e5ee99003f135da3",
         "Científica Del Sur",
         "Universidad Científica del Sur S.A.C."
        ],
        [
         "63200f70e5ee99003f134075",
         "Upc Universidad Peruana De Ciencias Aplicadas",
         "Universidad Peruana de Ciencias Aplicadas S.A.C."
        ],
        [
         "63200f70e5ee99003f134075",
         "Upc",
         "Universidad Peruana de Ciencias Aplicadas S.A.C."
        ],
        [
         "63200f70e5ee99003f135125",
         "Universidad Privada Del Norte",
         "Universidad Privada del Norte S.A.C."
        ],
        [
         "63200f71e5ee99003f135a8b",
         "Universidad Nacional De La Amazonia Peruana - Unap",
         "Universidad Nacional de la Amazonía Peruana"
        ],
        [
         "63208db4bac1bc000909ad30",
         "Instituto San Ignacio De Loyola",
         "Universidad San Ignacio de Loyola S.R.L."
        ],
        [
         "63200f71e5ee99003f136247",
         "Universidad Peruana De Ciencias Aplicadas - Upc",
         "Universidad Peruana de Ciencias Aplicadas S.A.C."
        ],
        [
         "63200f71e5ee99003f136247",
         "Ricardo Palma N°5099",
         "Universidad Ricardo Palma"
        ],
        [
         "63200f71e5ee99003f135ad9",
         "Universidad Enrique Guzman Y Valle",
         "Universidad Nacional de Educación Enrique Guzmán y Valle"
        ],
        [
         "63200f70e5ee99003f13489d",
         "Universidad Autónoma Del Perú",
         "Universidad Autónoma del Perú S.A.C."
        ],
        [
         "6312a4a8e5ee99003f085b30",
         "San Ignacio De Loyola",
         "Universidad San Ignacio de Loyola S.R.L."
        ],
        [
         "63200f71e5ee99003f13676f",
         "Universidad Privada Del Norte",
         "Universidad Privada del Norte S.A.C."
        ],
        [
         "6320b286844cb4003f31ff21",
         "Universidad Privada Del Norte",
         "Universidad Privada del Norte S.A.C."
        ],
        [
         "6320b286844cb4003f31fa2f",
         "Universidad Tecnológica Del Perú",
         "Universidad Tecnológica del Perú S.A.C."
        ],
        [
         "63200f70e5ee99003f1344ef",
         "Universidad De San Martin De Porres - Usmp",
         "Universidad de San Martín de Porres"
        ],
        [
         "6320b286844cb4003f31f8b5",
         "Universidad Privada Del Norte",
         "Universidad Privada del Norte S.A.C."
        ],
        [
         "6320b286844cb4003f31fed9",
         "Upla",
         "Universidad Peruana Los Andes"
        ],
        [
         "6320b286844cb4003f32018b",
         "Universidad Privada César Vallejo",
         "Universidad César Vallejo S.A.C."
        ],
        [
         "63200f70e5ee99003f134a0b",
         "Universidad Cesar Vallejo",
         "Universidad César Vallejo S.A.C."
        ],
        [
         "63200f70e5ee99003f135461",
         "Universidad De San Martin De Porres",
         "Universidad de San Martín de Porres"
        ],
        [
         "6320c48e756c7c0009657910",
         "Universidad Nacional José Faustino Sánchez Carrión",
         "Universidad Nacional José Faustino Sánchez Carrión"
        ],
        [
         "63200f70e5ee99003f134c93",
         "Universidad Nacional Federico Villarreal",
         "Universidad Nacional Federico Villarreal"
        ],
        [
         "63200f70e5ee99003f1337b7",
         "Instituto Daniel Alcides Carrion",
         "Universidad Nacional Daniel Alcides Carrión"
        ],
        [
         "6320b286844cb4003f31fa11",
         "Universidad Cesar Vallejo",
         "Universidad César Vallejo S.A.C."
        ],
        [
         "6320b286844cb4003f320077",
         "Universidad Privada Del Norte - Unp",
         "Universidad Privada del Norte S.A.C."
        ],
        [
         "6320d87467f4670008692c79",
         "Universidad Tecnológica Del Perú",
         "Universidad Tecnológica del Perú S.A.C."
        ],
        [
         "6320dec367f4670008692ffa",
         "Universidad Cesar Vallejo",
         "Universidad César Vallejo S.A.C."
        ],
        [
         "63200f71e5ee99003f136271",
         "Universidad Nacional Federico Villarreal",
         "Universidad Nacional Federico Villarreal"
        ],
        [
         "6320e1e667f467000869318d",
         "Universidad Privada San Juan Bautista",
         "Universidad Privada San Juan Bautista S.A.C."
        ],
        [
         "6320b286844cb4003f31f819",
         "Universidad Privada Del Norte",
         "Universidad Privada del Norte S.A.C."
        ],
        [
         "6320b286844cb4003f31fe07",
         "Mártir Daniel Alcides Carrión 0142",
         "Universidad Nacional Daniel Alcides Carrión"
        ],
        [
         "6320b286844cb4003f31fd05",
         "Universidad Católica Sedes Sapientiae - Ucss",
         "Universidad Católica Sedes Sapientiae"
        ],
        [
         "63200f70e5ee99003f1342cd",
         "Universidad Privada San Juan Bautista",
         "Universidad Privada San Juan Bautista S.A.C."
        ],
        [
         "63200f70e5ee99003f134ce7",
         "Universidad Privada Del Norte",
         "Universidad Privada del Norte S.A.C."
        ],
        [
         "63200f70e5ee99003f133bef",
         "Universidad Tecnológica Del Perú",
         "Universidad Tecnológica del Perú S.A.C."
        ],
        [
         "63200f70e5ee99003f133bef",
         "Universidad De San Martin De Porres - Usmp",
         "Universidad de San Martín de Porres"
        ],
        [
         "63200f70e5ee99003f1346b1",
         "Universidad Privada Del Norte",
         "Universidad Privada del Norte S.A.C."
        ],
        [
         "6320b286844cb4003f32036b",
         "Universidad Privada Del Norte - Upn",
         "Universidad Privada del Norte S.A.C."
        ],
        [
         "6320b286844cb4003f32036b",
         "Universidad Privada Del Norte - Upn",
         "Universidad Privada del Norte S.A.C."
        ],
        [
         "63200f70e5ee99003f133871",
         "Universidad Privada Del Norte",
         "Universidad Privada del Norte S.A.C."
        ],
        [
         "63212c338ddb2700086af6ca",
         "Universidad Privada Del Norte",
         "Universidad Privada del Norte S.A.C."
        ],
        [
         "63200f70e5ee99003f1357c1",
         "Universidad Tecnológica Del Perú",
         "Universidad Tecnológica del Perú S.A.C."
        ],
        [
         "63200f70e5ee99003f133fd3",
         "Universidad Privada Del Norte",
         "Universidad Privada del Norte S.A.C."
        ],
        [
         "63200f70e5ee99003f133fd3",
         "Universidad Privada Del Norte - Upn",
         "Universidad Privada del Norte S.A.C."
        ],
        [
         "6321fddaf737840008623a62",
         "Universidad Católica Sedes Sapientiae",
         "Universidad Católica Sedes Sapientiae"
        ],
        [
         "63222504e5ee99003f17022f",
         "Universidad Nacional Mayor De San Marcos",
         "Universidad Nacional Mayor de San Marcos"
        ],
        [
         "632225ca844cb4003f33dac2",
         "Universidad Cesar Vallejo",
         "Universidad César Vallejo S.A.C."
        ],
        [
         "632225ca844cb4003f33e01a",
         "Universidad Peruana De Ciencias Aplicadas",
         "Universidad Peruana de Ciencias Aplicadas S.A.C."
        ],
        [
         "632225ca844cb4003f33dd44",
         "Universidad Nacional Agraria La Molina",
         "Universidad Nacional Agraria La Molina"
        ],
        [
         "63222504e5ee99003f16fc65",
         "Universidad Privada Del Norte",
         "Universidad Privada del Norte S.A.C."
        ],
        [
         "632225ca844cb4003f33d9e4",
         "Universidad Privada Del Norte",
         "Universidad Privada del Norte S.A.C."
        ],
        [
         "632225ca844cb4003f33dbee",
         "Universidad Privada Del Norte",
         "Universidad Privada del Norte S.A.C."
        ],
        [
         "632225ca844cb4003f33e290",
         "Universidad Cesar Vallejo",
         "Universidad César Vallejo S.A.C."
        ],
        [
         "632225ca844cb4003f33dbd6",
         "Universidad Privada Del Norte",
         "Universidad Privada del Norte S.A.C."
        ],
        [
         "63222828e5ee99003f172959",
         "Universidad Privada Del Norte",
         "Universidad Privada del Norte S.A.C."
        ],
        [
         "63222828e5ee99003f17332b",
         "Universidad San Martin De Porres",
         "Universidad de San Martín de Porres"
        ],
        [
         "632225ca844cb4003f33dcb4",
         "Utp",
         "Universidad Tecnológica del Perú S.A.C."
        ],
        [
         "63222828e5ee99003f172c3b",
         "Uch",
         "Asociación Civil Universidad de Ciencias y Humanidades"
        ],
        [
         "63222a52dd74a60009784b86",
         "Universidad Peruana De Ciencias Aplicadas",
         "Universidad Peruana de Ciencias Aplicadas S.A.C."
        ],
        [
         "63222828e5ee99003f173a81",
         "Universidad Cesar Vallejo",
         "Universidad César Vallejo S.A.C."
        ],
        [
         "63222828e5ee99003f172ce9",
         "Univ Privada San Juan Bautista",
         "Universidad Privada San Juan Bautista S.A.C."
        ],
        [
         "632225ca844cb4003f33dd68",
         "Universidad Privada Del Norte",
         "Universidad Privada del Norte S.A.C."
        ],
        [
         "632225ca844cb4003f33e650",
         "Universidad Privada Del Norte",
         "Universidad Privada del Norte S.A.C."
        ],
        [
         "63222504e5ee99003f170235",
         "Unmsm",
         "Universidad Nacional Mayor de San Marcos"
        ],
        [
         "63222828e5ee99003f173955",
         "I.e.p César Vallejo Mendoza",
         "Universidad César Vallejo S.A.C."
        ],
        [
         "63222504e5ee99003f16fd1f",
         "Universidad Tecnológica Del Perú",
         "Universidad Tecnológica del Perú S.A.C."
        ],
        [
         "632231c23f580700080c4167",
         "Universida Nacional Del Callao",
         "Universidad Nacional del Callao"
        ],
        [
         "632225ca844cb4003f33e3c2",
         "Universidad Privada Del Norte",
         "Universidad Privada del Norte S.A.C."
        ],
        [
         "63222828e5ee99003f1735e3",
         "Universidad Privada Antenor Orrego - Upao",
         "Universidad Privada Antenor Orrego"
        ],
        [
         "6321ff0de5ee99003f169e2c",
         "Instituto Daniel Alcides Carrion",
         "Universidad Nacional Daniel Alcides Carrión"
        ],
        [
         "63222504e5ee99003f1700c1",
         "Universidad Cesar Vallejo",
         "Universidad César Vallejo S.A.C."
        ],
        [
         "6322355e107693000854451b",
         "Universidad De Ciencias Aplicadas",
         "Universidad Peruana de Ciencias Aplicadas S.A.C."
        ],
        [
         "63222828e5ee99003f173205",
         "Cesar Vallejo",
         "Universidad César Vallejo S.A.C."
        ],
        [
         "63222504e5ee99003f16fde5",
         "Universidad Privada Del Norte",
         "Universidad Privada del Norte S.A.C."
        ],
        [
         "63222828e5ee99003f172f41",
         "Universidad San Martín De Porres",
         "Universidad de San Martín de Porres"
        ],
        [
         "632225ca844cb4003f33db5e",
         "Instituto Ricardo Palma",
         "Universidad Ricardo Palma"
        ],
        [
         "63222504e5ee99003f16fcd7",
         "Universidad Peruana De Ciencias Aplicadas - Upc",
         "Universidad Peruana de Ciencias Aplicadas S.A.C."
        ],
        [
         "63222828e5ee99003f1738c5",
         "Universidad Nacional Del Callao",
         "Universidad Nacional del Callao"
        ],
        [
         "6312a4a8e5ee99003f086220",
         "Universidad Cesar Vallejo",
         "Universidad César Vallejo S.A.C."
        ],
        [
         "632225ca844cb4003f33db40",
         "Universidad De San Martin De Porres",
         "Universidad de San Martín de Porres"
        ],
        [
         "632244c81076930008544ac1",
         "Universidad De San Martín De Porres",
         "Universidad de San Martín de Porres"
        ],
        [
         "63222828e5ee99003f172fe3",
         "Universidad Privada Del Norte",
         "Universidad Privada del Norte S.A.C."
        ],
        [
         "63222828e5ee99003f1733df",
         "Universidad Cesar Vallejo",
         "Universidad César Vallejo S.A.C."
        ],
        [
         "63222828e5ee99003f1733df",
         "Universidad Nacional Del Callao",
         "Universidad Nacional del Callao"
        ],
        [
         "632225ca844cb4003f33dfd8",
         "Universidad Tecnologica Del Peru",
         "Universidad Tecnológica del Perú S.A.C."
        ],
        [
         "63222504e5ee99003f16fa6d",
         "Universidad Católica Sedes Sapientiae",
         "Universidad Católica Sedes Sapientiae"
        ],
        [
         "6321ff0de5ee99003f169e08",
         "Universidad Católica Sedes Sapientiae",
         "Universidad Católica Sedes Sapientiae"
        ],
        [
         "6322585554294b0009268749",
         "Utp",
         "Universidad Tecnológica del Perú S.A.C."
        ],
        [
         "632225ca844cb4003f33e59c",
         "Universidad Privada Del Norte",
         "Universidad Privada del Norte S.A.C."
        ],
        [
         "63222505e5ee99003f170631",
         "Jose Maria Arguedas",
         "Universidad Nacional José María Arguedas"
        ],
        [
         "632225ca844cb4003f33e584",
         "Universidad Privada Del Norte",
         "Universidad Privada del Norte S.A.C."
        ],
        [
         "632225ca844cb4003f33e1e8",
         "Maria Auxiliadora",
         "Universidad María Auxiliadora S.A.C."
        ],
        [
         "63222828e5ee99003f1729e9",
         "Upn",
         "Universidad Privada del Norte S.A.C."
        ],
        [
         "63222828e5ee99003f172a4f",
         "Cesar Vallejo",
         "Universidad César Vallejo S.A.C."
        ],
        [
         "63222828e5ee99003f172a4f",
         "Ricardo Palma 5099",
         "Universidad Ricardo Palma"
        ],
        [
         "63200f70e5ee99003f135281",
         "Utp",
         "Universidad Tecnológica del Perú S.A.C."
        ],
        [
         "632225ca844cb4003f33e5e4",
         "Universidad De Lima",
         "Universidad de Lima"
        ],
        [
         "632225ca844cb4003f33e5e4",
         "Universidad San Ignacio De Loyola",
         "Universidad San Ignacio de Loyola S.R.L."
        ],
        [
         "63222505e5ee99003f1706f1",
         "Universidad Tecnológica Del Perú",
         "Universidad Tecnológica del Perú S.A.C."
        ],
        [
         "63222504e5ee99003f170199",
         "110 San Marcos",
         "Universidad Nacional Mayor de San Marcos"
        ],
        [
         "6322ba1f1076930008547140",
         "Universidad Peruana De Ciencias Aplicadas",
         "Universidad Peruana de Ciencias Aplicadas S.A.C."
        ],
        [
         "63222504e5ee99003f16f359",
         "Universidad Particular San Martin De Porres",
         "Universidad de San Martín de Porres"
        ],
        [
         "6322cf49dd74a60009787fe0",
         "Universidad San Ignacio De Loyola(cpel)",
         "Universidad San Ignacio de Loyola S.R.L."
        ],
        [
         "6322d01854294b000926a693",
         "Universidad Cesar Vallejo",
         "Universidad César Vallejo S.A.C."
        ],
        [
         "632225ca844cb4003f33e6f2",
         "Universidad Nacional Mayor De San Marcos",
         "Universidad Nacional Mayor de San Marcos"
        ],
        [
         "63222504e5ee99003f16f2ff",
         "Universidad Tecnológica Del Perú",
         "Universidad Tecnológica del Perú S.A.C."
        ],
        [
         "63222504e5ee99003f16f2ff",
         "San José La Salle",
         "Universidad La Salle"
        ],
        [
         "632225ca844cb4003f33eb4e",
         "Universidad Tecnológica Del Perú",
         "Universidad Tecnológica del Perú S.A.C."
        ],
        [
         "632225ca844cb4003f33e500",
         "Universidad Privada Del Norte",
         "Universidad Privada del Norte S.A.C."
        ],
        [
         "63222504e5ee99003f16f959",
         "Universidad Privada Del Norte",
         "Universidad Privada del Norte S.A.C."
        ],
        [
         "63222504e5ee99003f16f5f3",
         "Universidad Privada Del Norte",
         "Universidad Privada del Norte S.A.C."
        ],
        [
         "632347a38fcf7b0009661bdd",
         "Universidad Tecnológica Del Perú - Utp",
         "Universidad Tecnológica del Perú S.A.C."
        ],
        [
         "6312a4a8e5ee99003f08677e",
         "Universidad Cesar Vallejo",
         "Universidad César Vallejo S.A.C."
        ],
        [
         "63128e34844cb4003f22ca18",
         "Universidad Cesar Vallejo",
         "Universidad César Vallejo S.A.C."
        ],
        [
         "632225ca844cb4003f33da80",
         "Ucv",
         "Universidad César Vallejo S.A.C."
        ],
        [
         "632225ca844cb4003f33e566",
         "Universidad Tecnológica Del Perú",
         "Universidad Tecnológica del Perú S.A.C."
        ],
        [
         "632225ca844cb4003f33ddda",
         "Ricardo Palma",
         "Universidad Ricardo Palma"
        ],
        [
         "63222504e5ee99003f170367",
         "Upsjb",
         "Universidad Privada San Juan Bautista S.A.C."
        ],
        [
         "632225ca844cb4003f33e194",
         "Universidad Nacional Del Callao",
         "Universidad Nacional del Callao"
        ],
        [
         "63200f70e5ee99003f13554b",
         "Universidad Cesar Vallejo - Ucv",
         "Universidad César Vallejo S.A.C."
        ],
        [
         "632225ca844cb4003f33eab8",
         "Universidad Privada Del Norte",
         "Universidad Privada del Norte S.A.C."
        ],
        [
         "63222828e5ee99003f172a79",
         "Universidad Cesar Vallejo",
         "Universidad César Vallejo S.A.C."
        ],
        [
         "6312a4a8e5ee99003f085776",
         "Universidad Cesar Vallejo",
         "Universidad César Vallejo S.A.C."
        ],
        [
         "6323d168107693000855032e",
         "Universidad Privada Señor De Sipan",
         "Universidad Señor de Sipán S.A.C."
        ],
        [
         "6323fa0b07cea60008252c2f",
         "Instituto San Ignacio De Loyola - Isil",
         "Universidad San Ignacio de Loyola S.R.L."
        ],
        [
         "632225ca844cb4003f33e680",
         "Universidad De Lima",
         "Universidad de Lima"
        ],
        [
         "63222505e5ee99003f170433",
         "Universidad Cesar Vallejo.",
         "Universidad César Vallejo S.A.C."
        ],
        [
         "63222504e5ee99003f16f557",
         "Upc",
         "Universidad Peruana de Ciencias Aplicadas S.A.C."
        ],
        [
         "63128e34844cb4003f22c610",
         "Universidad Tecnológica Del Perú - Utp",
         "Universidad Tecnológica del Perú S.A.C."
        ],
        [
         "6324a0b5a82561004072ada4",
         "Instituto Superior Tecnológico Continental",
         "Universidad Continental S.A.C."
        ],
        [
         "632225ca844cb4003f33db64",
         "Jose Maria Arguedas 2027",
         "Universidad Nacional José María Arguedas"
        ],
        [
         "63222828e5ee99003f173997",
         "Cesar Vallejo",
         "Universidad César Vallejo S.A.C."
        ],
        [
         "63250d5a36d47f00088aca56",
         "Universidad Privada Cesar Vallejo",
         "Universidad César Vallejo S.A.C."
        ],
        [
         "632518d236d47f00088acccc",
         "Universidad Privada Del Norte",
         "Universidad Privada del Norte S.A.C."
        ],
        [
         "6320b286844cb4003f31fec1",
         "Universidad Privada Del Norte - Upn",
         "Universidad Privada del Norte S.A.C."
        ],
        [
         "63252a8a4df37200081bc09d",
         "Escuela De Postgrado - Universidad Católica Sedes Sapientiae",
         "Universidad Católica Sedes Sapientiae"
        ],
        [
         "63252a8a4df37200081bc09d",
         "Universidad Católica Sedes Sapientiae - Ucss",
         "Universidad Católica Sedes Sapientiae"
        ],
        [
         "63200f70e5ee99003f134b49",
         "Universidad Privada Del Norte",
         "Universidad Privada del Norte S.A.C."
        ],
        [
         "632543db2ff5e80008d7bdee",
         "Universidad Privada Del Norte",
         "Universidad Privada del Norte S.A.C."
        ],
        [
         "6325d6b107cea600082570a6",
         "Universidad Peruana De Ciencias Aplicadas - Upc",
         "Universidad Peruana de Ciencias Aplicadas S.A.C."
        ],
        [
         "6325f6b7ded60b0009efbada",
         "Universidad César Vallejo",
         "Universidad César Vallejo S.A.C."
        ],
        [
         "63277e8aded60b0009efdd6b",
         "Universidad Nacional Federico Villarreal",
         "Universidad Nacional Federico Villarreal"
        ],
        [
         "63278004cc8427000916ed3f",
         "Universidad Privada Del Norte",
         "Universidad Privada del Norte S.A.C."
        ],
        [
         "6327a2cfcc8427000916f0d7",
         "Universidad Peruana De Ciencias Aplicadas",
         "Universidad Peruana de Ciencias Aplicadas S.A.C."
        ],
        [
         "63222504e5ee99003f170361",
         "Universidad Cesar Vallejo",
         "Universidad César Vallejo S.A.C."
        ],
        [
         "6327fb3eded60b0009efee59",
         "Universidad Privada Del Norte",
         "Universidad Privada del Norte S.A.C."
        ],
        [
         "6328cc9cded60b0009f00db3",
         "Universidad Tecnológica Del Perú - Utp",
         "Universidad Tecnológica del Perú S.A.C."
        ],
        [
         "6329122f36d47f00088b8a5e",
         "Universidad Privada San Juan Bautista",
         "Universidad Privada San Juan Bautista S.A.C."
        ],
        [
         "63128e33844cb4003f22b8c6",
         "Universidad Católica Sedes Sapientiae - Ucss",
         "Universidad Católica Sedes Sapientiae"
        ],
        [
         "63128e33844cb4003f22b8c6",
         "Universidad Privada San Juan Bautista - Upsjb",
         "Universidad Privada San Juan Bautista S.A.C."
        ],
        [
         "632920464df37200081c5522",
         "Universidad Privada Del Norte - Upn",
         "Universidad Privada del Norte S.A.C."
        ],
        [
         "63293141cc842700091751b9",
         "Instituto San Ignacio De Loyola",
         "Universidad San Ignacio de Loyola S.R.L."
        ],
        [
         "63200f70e5ee99003f1342e5",
         "Universidad Tecnológica Del Perú-utp",
         "Universidad Tecnológica del Perú S.A.C."
        ],
        [
         "632a3846ded60b0009f08c0d",
         "Universidad Peruana De Ciencias Aplicadas-upc",
         "Universidad Peruana de Ciencias Aplicadas S.A.C."
        ],
        [
         "632a3f2d4df37200081ca417",
         "Universidad Privada Del Norte",
         "Universidad Privada del Norte S.A.C."
        ],
        [
         "632a41a7d1b76a0040939d1b",
         "Universidad César Vallejo",
         "Universidad César Vallejo S.A.C."
        ],
        [
         "632a41a7d1b76a0040939d27",
         "Universidad Cesar Vallejo",
         "Universidad César Vallejo S.A.C."
        ],
        [
         "632a41a7d1b76a0040939d21",
         "Universidad César Vallejo",
         "Universidad César Vallejo S.A.C."
        ],
        [
         "632a73704df37200081cbf9b",
         "Universidad Privada Del Norte",
         "Universidad Privada del Norte S.A.C."
        ],
        [
         "632b0fd336d47f00088c1cb1",
         "Usil",
         "Universidad San Ignacio de Loyola S.R.L."
        ],
        [
         "632b47142ff5e80008d8de24",
         "Universidad Privada Del Norte",
         "Universidad Privada del Norte S.A.C."
        ],
        [
         "632b4aa107cea6000826ddf3",
         "Instituto San Ignacio De Loyola - Isil",
         "Universidad San Ignacio de Loyola S.R.L."
        ],
        [
         "632b6b98ded60b0009f0f1fa",
         "Universidad Privada Del Norte - Upn",
         "Universidad Privada del Norte S.A.C."
        ],
        [
         "632bc49307cea60008271bd4",
         "Universidad Tecnologica Del Peru U.t.p",
         "Universidad Tecnológica del Perú S.A.C."
        ],
        [
         "632bec132ff5e80008d9350d",
         "Universidad Privada Del Norte",
         "Universidad Privada del Norte S.A.C."
        ],
        [
         "632bee1d2ff5e80008d936f7",
         "Daniel Alcides Carrion",
         "Universidad Nacional Daniel Alcides Carrión"
        ],
        [
         "632befc14df37200081d5ba2",
         "Universidad Peruana De Ciencias Aplicadas",
         "Universidad Peruana de Ciencias Aplicadas S.A.C."
        ],
        [
         "632bf1ddded60b0009f12ecb",
         "Universidad César Vallejo",
         "Universidad César Vallejo S.A.C."
        ],
        [
         "632bf24536d47f00088c8691",
         "Universidad Privada Del Norte",
         "Universidad Privada del Norte S.A.C."
        ],
        [
         "632bf2a9cc8427000918b22b",
         "Universidad Cesar Vallejo",
         "Universidad César Vallejo S.A.C."
        ],
        [
         "632bfd11ded60b0009f13283",
         "Universidad Privada Cesar Vallejo",
         "Universidad César Vallejo S.A.C."
        ],
        [
         "632c5ca507cea60008273c75",
         "Universidad Privada Del Norte",
         "Universidad Privada del Norte S.A.C."
        ],
        [
         "632c652fded60b0009f14059",
         "Untels",
         "Universidad Nacional Tecnológica de Lima Sur"
        ],
        [
         "632c90f607cea600082756ae",
         "Instituto Federico Villarreal",
         "Universidad Nacional Federico Villarreal"
        ],
        [
         "632cbe4636d47f00088ccbde",
         "Universidad Ricardo Palma",
         "Universidad Ricardo Palma"
        ],
        [
         "63200f70e5ee99003f133b0b",
         "Universidad Tecnológica Del Perú",
         "Universidad Tecnológica del Perú S.A.C."
        ],
        [
         "632ceacc07cea60008278b20",
         "Universidad Nacional Del Callao",
         "Universidad Nacional del Callao"
        ],
        [
         "632d0edb1fb7e50008d3a935",
         "Universidad Continental",
         "Universidad Continental S.A.C."
        ],
        [
         "632d0edb1fb7e50008d3a935",
         "Universidad Esan",
         "Universidad ESAN"
        ],
        [
         "632d1767e0486e0008265dcf",
         "Universidad Nacional Federico Villarreal",
         "Universidad Nacional Federico Villarreal"
        ],
        [
         "63222828e5ee99003f172ecf",
         "Universidad Tecnológica Del Perú",
         "Universidad Tecnológica del Perú S.A.C."
        ],
        [
         "632d5b5a11da310008e3bc31",
         "Instituto San Ignacio De Loyola",
         "Universidad San Ignacio de Loyola S.R.L."
        ],
        [
         "6320b286844cb4003f31fa1d",
         "Universidad Privada Del Norte",
         "Universidad Privada del Norte S.A.C."
        ],
        [
         "63288757d1b76a0040915ebe",
         "Universidad Tecnológica Del Perú - Utp",
         "Universidad Tecnológica del Perú S.A.C."
        ],
        [
         "632e95912201690008fb0774",
         "Autónoma Del Perú",
         "Universidad Autónoma del Perú S.A.C."
        ],
        [
         "632f832ae0486e0008275a4e",
         "Universidad Autonoma Del Peru",
         "Universidad Autónoma del Perú S.A.C."
        ],
        [
         "6330a91b662c7d000996b116",
         "Universidad Nacional Mayor De San Marcos - Unmsm",
         "Universidad Nacional Mayor de San Marcos"
        ],
        [
         "6330da9f662c7d000996b4e9",
         "U. Ricardo Palma",
         "Universidad Ricardo Palma"
        ],
        [
         "63222828e5ee99003f172cf5",
         "Universidad Cesar Vallejo",
         "Universidad César Vallejo S.A.C."
        ],
        [
         "6331d96e2da20600098062ec",
         "Universidad Autónoma Del Perú",
         "Universidad Autónoma del Perú S.A.C."
        ],
        [
         "63322ad01fb7e50008d51130",
         "Universidad San Ignacio De Loyola",
         "Universidad San Ignacio de Loyola S.R.L."
        ],
        [
         "63329bae11da310008e4d8aa",
         "Universidad Cesar Vallejo - Ucv",
         "Universidad César Vallejo S.A.C."
        ],
        [
         "6333036a2201690008fbd032",
         "Mártir Daniel Alcides Carrión",
         "Universidad Nacional Daniel Alcides Carrión"
        ],
        [
         "633314be35b6d50040dc44f0",
         "Universidad Cesar Vallejo",
         "Universidad César Vallejo S.A.C."
        ],
        [
         "63335b5c1fb7e50008d562a3",
         "Universidad César Vallejo",
         "Universidad César Vallejo S.A.C."
        ],
        [
         "63128e34844cb4003f22bc20",
         "Universidad Privada Del Norte",
         "Universidad Privada del Norte S.A.C."
        ],
        [
         "633388a035b6d50040dcd41e",
         "Usil",
         "Universidad San Ignacio de Loyola S.R.L."
        ],
        [
         "633314be35b6d50040dc44de",
         "Universidad Privada Del Norte",
         "Universidad Privada del Norte S.A.C."
        ],
        [
         "6333d47811da310008e538f9",
         "Upn",
         "Universidad Privada del Norte S.A.C."
        ],
        [
         "6333fe3a5ed3120009ab9bde",
         "Universidad Privada Del Norte",
         "Universidad Privada del Norte S.A.C."
        ],
        [
         "6334a5c50b33a90008e8567b",
         "Universidad Privada Del Norte",
         "Universidad Privada del Norte S.A.C."
        ],
        [
         "6334b0200dd666000838c010",
         "Universidad De San Martin De Porres",
         "Universidad de San Martín de Porres"
        ],
        [
         "63200f70e5ee99003f1356ef",
         "Universidad Peruana De Ciencias Aplicadas",
         "Universidad Peruana de Ciencias Aplicadas S.A.C."
        ],
        [
         "63352504eb7e8b000954892d",
         "Universidad Tecnológica Del Perú - Utp",
         "Universidad Tecnológica del Perú S.A.C."
        ],
        [
         "6335acfd35b6d50040df797b",
         "Utp",
         "Universidad Tecnológica del Perú S.A.C."
        ],
        [
         "6335ca1beb7e8b0009549dd8",
         "Universidad Científica Del Sur",
         "Universidad Científica del Sur S.A.C."
        ],
        [
         "6336198a5ed3120009aefc4b",
         "Universidad Privada Del Norte",
         "Universidad Privada del Norte S.A.C."
        ],
        [
         "63372ea1ea7d3a0008c77ce2",
         "Universidad Cesar Vallejo",
         "Universidad César Vallejo S.A.C."
        ],
        [
         "6338b235e86b9a0008a24f36",
         "Universidad De San Martín De Porres",
         "Universidad de San Martín de Porres"
        ],
        [
         "633a048902dfe10008393613",
         "Universidad San Ignacio De Loyola",
         "Universidad San Ignacio de Loyola S.R.L."
        ],
        [
         "633a50ffe86b9a0008a27066",
         "Universidad Peruana De Ciencias Aplicadas",
         "Universidad Peruana de Ciencias Aplicadas S.A.C."
        ],
        [
         "633b42bca09afe0008f4fb5b",
         "Universidad Privada Del Norte",
         "Universidad Privada del Norte S.A.C."
        ],
        [
         "633b479102dfe10008397670",
         "Universidad Peruana Los Andes - Upla",
         "Universidad Peruana Los Andes"
        ],
        [
         "633cff9bf844e600094927a2",
         "Universidad Científica Del Sur",
         "Universidad Científica del Sur S.A.C."
        ],
        [
         "633dd0ddb26dc80009bc2061",
         "Universidad Señor De Sipan",
         "Universidad Señor de Sipán S.A.C."
        ],
        [
         "633dee6b0ea4bd0008917326",
         "Universidad Tecnológica Del Perú",
         "Universidad Tecnológica del Perú S.A.C."
        ],
        [
         "633deedfe282c90008a3dbd8",
         "Universidad Privada Del Norte",
         "Universidad Privada del Norte S.A.C."
        ],
        [
         "633df3cb816cc80008575a01",
         "Universidad Cesar Vallejo",
         "Universidad César Vallejo S.A.C."
        ],
        [
         "633f3b127e47370040358125",
         "Universidad Cesar Vallejo - Ucv",
         "Universidad César Vallejo S.A.C."
        ],
        [
         "633f51fb80b9d30009c9dcc4",
         "Universidad César Vallejo",
         "Universidad César Vallejo S.A.C."
        ],
        [
         "63128e33844cb4003f22b764",
         "Universidad San Ignacio De Loyola",
         "Universidad San Ignacio de Loyola S.R.L."
        ],
        [
         "63222504e5ee99003f16f8c9",
         "Universidad San Ignacio De Loyola",
         "Universidad San Ignacio de Loyola S.R.L."
        ],
        [
         "634066cced0d7a000766658f",
         "Universidad Privada Del Norte",
         "Universidad Privada del Norte S.A.C."
        ],
        [
         "6340399835b6d50040ee29c6",
         "Universidad César Vallejo",
         "Universidad César Vallejo S.A.C."
        ],
        [
         "6340a60a2d149d0009b4f736",
         "Universidad De San Martin De Porres - Usmp",
         "Universidad de San Martín de Porres"
        ],
        [
         "6340e49d6f9d1d0009ae03a0",
         "Universidad Nacional Daniel Alcides Carrión - Undac",
         "Universidad Nacional Daniel Alcides Carrión"
        ],
        [
         "6340ea4be65ec50008d33751",
         "Universidad Cesar Vallejo",
         "Universidad César Vallejo S.A.C."
        ],
        [
         "63416bf80448640008e05fca",
         "Universidad Peruana De Ciencias Aplicadas",
         "Universidad Peruana de Ciencias Aplicadas S.A.C."
        ],
        [
         "634238296f9d1d0009ae2ba9",
         "Universidad Peruana De Ciencias Aplicadas",
         "Universidad Peruana de Ciencias Aplicadas S.A.C."
        ],
        [
         "634246c26f9d1d0009ae2c3b",
         "Upn",
         "Universidad Privada del Norte S.A.C."
        ],
        [
         "6345a9831c4e12000ad5af6b",
         "San Ignacio De Loyola",
         "Universidad San Ignacio de Loyola S.R.L."
        ],
        [
         "6345b8430122c700096cc203",
         "Unsaac",
         "Universidad Nacional de San Antonio Abad del Cusco"
        ],
        [
         "63457e827e47370040391d04",
         "Universidad Cesar Vallejo - Ucv",
         "Universidad César Vallejo S.A.C."
        ],
        [
         "63457e827e47370040391d16",
         "Universidad Privada Del Norte - Unp",
         "Universidad Privada del Norte S.A.C."
        ],
        [
         "63457e827e47370040391cbc",
         "Universidad Tecnológica Del Perú - Utp",
         "Universidad Tecnológica del Perú S.A.C."
        ],
        [
         "6346424a27ee550009de43e2",
         "Utp",
         "Universidad Tecnológica del Perú S.A.C."
        ],
        [
         "634715d1c999a6000884ec21",
         "Universidad Peruana De Ciencias Aplicadas - Upc",
         "Universidad Peruana de Ciencias Aplicadas S.A.C."
        ],
        [
         "63471daac999a6000884f2b0",
         "Universidad Continental",
         "Universidad Continental S.A.C."
        ],
        [
         "6347628feb924b0008ed718a",
         "Universidad Peruana Los Andes",
         "Universidad Peruana Los Andes"
        ],
        [
         "634829d9eb924b0008ed8b4e",
         "Universidad Privada Del Norte - Upn",
         "Universidad Privada del Norte S.A.C."
        ],
        [
         "6348587a1ef0cb00090a4b18",
         "Universidad César Vallejo",
         "Universidad César Vallejo S.A.C."
        ],
        [
         "6348c2911ef0cb00090a8a4b",
         "Universidad Tecnológica Del Perú",
         "Universidad Tecnológica del Perú S.A.C."
        ],
        [
         "634955a4bf94c20009cde2d6",
         "Universidad De San Martín De Porres",
         "Universidad de San Martín de Porres"
        ],
        [
         "634a4c071528ff0009cef509",
         "Universidad Tecnológica Del Perú",
         "Universidad Tecnológica del Perú S.A.C."
        ],
        [
         "634afdb4901e650008bdd921",
         "Universidad De San Martín De Porres",
         "Universidad de San Martín de Porres"
        ],
        [
         "634b7b93bf94c20009ce6b21",
         "Universidad Peruana De Ciencias Aplicadas",
         "Universidad Peruana de Ciencias Aplicadas S.A.C."
        ],
        [
         "634ccb371528ff0009cf3ac4",
         "Universidad Privada Del Norte",
         "Universidad Privada del Norte S.A.C."
        ],
        [
         "633f3b127e47370040358137",
         "Universidad Cesar Vallejo - Ucv",
         "Universidad César Vallejo S.A.C."
        ],
        [
         "634da2192ee72a00086226bb",
         "Utp",
         "Universidad Tecnológica del Perú S.A.C."
        ],
        [
         "634dd708bf94c20009ced4c2",
         "Universidad Tecnológica Del Perú",
         "Universidad Tecnológica del Perú S.A.C."
        ],
        [
         "634e96b6901e650008be7ebe",
         "Universidad San Ignacio De Loyola",
         "Universidad San Ignacio de Loyola S.R.L."
        ],
        [
         "634ea0071528ff0009d03131",
         "Universidad Cesar Vallejo",
         "Universidad César Vallejo S.A.C."
        ],
        [
         "634ecad196916500096f59e3",
         "Universidad San Martin De Porres",
         "Universidad de San Martín de Porres"
        ],
        [
         "634f0ee396916500096f7a29",
         "Universidad Autónoma Del Perú",
         "Universidad Autónoma del Perú S.A.C."
        ],
        [
         "634f5f73bf94c20009cf469f",
         "Universidad Privada Cesar Vallejo",
         "Universidad César Vallejo S.A.C."
        ],
        [
         "6312a4a8e5ee99003f0863ac",
         "Universidad Cesar Vallejo - Ucv",
         "Universidad César Vallejo S.A.C."
        ],
        [
         "6312a4a8e5ee99003f0863ac",
         "Universidad Cesar Vallejo - Ucv",
         "Universidad César Vallejo S.A.C."
        ]
       ],
       "datasetInfos": [],
       "dbfsResultPath": null,
       "isJsonSchema": true,
       "metadata": {},
       "overflow": false,
       "plotOptions": {
        "customPlotOptions": {},
        "displayType": "table",
        "pivotAggregation": null,
        "pivotColumns": null,
        "xColumns": null,
        "yColumns": null
       },
       "removedWidgets": [],
       "schema": [
        {
         "metadata": "{}",
         "name": "candidateId",
         "type": "\"string\""
        },
        {
         "metadata": "{}",
         "name": "value",
         "type": "\"string\""
        },
        {
         "metadata": "{}",
         "name": "universidad_homologada",
         "type": "\"string\""
        }
       ],
       "type": "table"
      }
     },
     "output_type": "display_data"
    }
   ],
   "source": [
    "data_homologada.display()"
   ]
  },
  {
   "cell_type": "markdown",
   "metadata": {
    "application/vnd.databricks.v1+cell": {
     "cellMetadata": {},
     "inputWidgets": {},
     "nuid": "b5f2a20e-fec0-4601-8526-b493cc1c8cdd",
     "showTitle": false,
     "title": ""
    }
   },
   "source": [
    "#Transormacion Diccionario"
   ]
  },
  {
   "cell_type": "code",
   "execution_count": 0,
   "metadata": {
    "application/vnd.databricks.v1+cell": {
     "cellMetadata": {
      "byteLimit": 2048000,
      "rowLimit": 10000
     },
     "inputWidgets": {},
     "nuid": "c60baf60-40da-4d2e-90a7-190d36410a74",
     "showTitle": false,
     "title": ""
    }
   },
   "outputs": [
    {
     "output_type": "display_data",
     "data": {
      "text/html": [
       "<style scoped>\n  .ansiout {\n    display: block;\n    unicode-bidi: embed;\n    white-space: pre-wrap;\n    word-wrap: break-word;\n    word-break: break-all;\n    font-family: \"Source Code Pro\", \"Menlo\", monospace;;\n    font-size: 13px;\n    color: #555;\n    margin-left: 4px;\n    line-height: 19px;\n  }\n</style>\n<div class=\"ansiout\">[{&#39;nombre_universidad&#39;: &#39;Universidad Nacional Agraria La Molina&#39;, &#39;sinonimos&#39;: [&#39;Universidad Nacional Agraria La Molina&#39;, &#39;Universidad Nacional Agraria La Molina - La Molina&#39;, &#39;Unalm&#39;]}, {&#39;nombre_universidad&#39;: &#39;Universidad de Ingeniería y Tecnología&#39;, &#39;sinonimos&#39;: [&#39;Utec&#39;]}, {&#39;nombre_universidad&#39;: &#39;Universidad Nacional de Jaén&#39;, &#39;sinonimos&#39;: [&#39;Universidad Nacional De Jaén&#39;]}, {&#39;nombre_universidad&#39;: &#39;Universidad Nacional del Altiplano&#39;, &#39;sinonimos&#39;: [&#39;Universidad Nacional Del Altiplano&#39;]}, {&#39;nombre_universidad&#39;: &#39;Universidad ESAN&#39;, &#39;sinonimos&#39;: [&#39;Universidad Esan&#39;]}, {&#39;nombre_universidad&#39;: &#39;Universidad San Ignacio de Loyola S.R.L.&#39;, &#39;sinonimos&#39;: [&#39;Universidad San Ignacio De Loyola&#39;, &#39;Instituto San Ignacio De Loyola Isil&#39;, &#39;San Ignacio De Loyola - Isil&#39;, &#39;Universidad San Ignacio De Loyola(cpel)&#39;, &#39;San Ignacio De Loyola&#39;, &#39;Isil - Instituto San Ignacio De Loyola&#39;, &#39;Instituto San Ignacio De Loyola (isil)&#39;, &#39;Usil - San Ignacio De Loyola&#39;, &#39;Instituto San Ignacio De Loyola&#39;, &#39;Instituto Superior San Ignacio De Loyola (isil)&#39;, &#39;Univesidad San Ignacio De Loyola&#39;, &#39;San Ignacio  De Loyola&#39;, &#39;Universidad San Ignacio De Loyola - Usil&#39;, &#39;Isil ( Instituto San Ignacio De Loyola)&#39;, &#39;Usil&#39;, &#39;Instituto San Ignacio De Loyola - Isil&#39;]}, {&#39;nombre_universidad&#39;: &#39;Universidad Nacional de San Martín&#39;, &#39;sinonimos&#39;: [&#39;Universidad Nacional De San Martín&#39;, &#39;Universidad Nacional De San Martin&#39;]}, {&#39;nombre_universidad&#39;: &#39;Universidad Nacional del Callao&#39;, &#39;sinonimos&#39;: [&#39;Universidad Nacional Del Callao&#39;, &#39;Universidad Nacional Del Callao Unac&#39;, &#39;Universidad Nacional Del Callao - Unac&#39;, &#39;Politecnico Nacional Del Callao&#39;, &#39;Universida Nacional Del Callao&#39;, &#39;Unac&#39;, &#39;Universidad  Nacional  Del Callao&#39;]}, {&#39;nombre_universidad&#39;: &#39;Universidad Nacional Amazónica de Madre de Dios&#39;, &#39;sinonimos&#39;: [&#39;Universidad Nacional Amazónica De Madre De Dios&#39;]}, {&#39;nombre_universidad&#39;: &#39;Universidad Nacional de Ucayali&#39;, &#39;sinonimos&#39;: [&#39;Universidad Nacional De Ucayali&#39;]}, {&#39;nombre_universidad&#39;: &#39;Universidad Católica de Trujillo Benedicto XVI&#39;, &#39;sinonimos&#39;: [&#39;Universidad Católica De Trujillo Benedicto Xvi&#39;]}, {&#39;nombre_universidad&#39;: &#39;Universidad Tecnológica de los Andes&#39;, &#39;sinonimos&#39;: [&#39;Universidad Tecnológica De Los Andes&#39;, &#39;Universidad Tecnologica De Los Andes&#39;]}, {&#39;nombre_universidad&#39;: &#39;Universidad de Huánuco&#39;, &#39;sinonimos&#39;: [&#39;Universidad De Huánuco&#39;, &#39;San Juan Bosco De Huanuco&#39;, &#39;Universidad De Huánuco - Udh&#39;, &#39;Juan Bosco De Huánuco&#39;, &#39;Universidad De Huanuco&#39;, &#39;Juan Bosco De Huanuco&#39;]}, {&#39;nombre_universidad&#39;: &#39;Universidad Nacional de Piura&#39;, &#39;sinonimos&#39;: [&#39;Universidad Nacional De Piura&#39;, &#39;Universidad  Nacional De Piura - Unp&#39;, &#39;Escuela Técnica Superior De La Universidad Nacional De Piura&#39;, &#39;Escuela Tecnica Superior De Universidad Nacional De Piura&#39;]}, {&#39;nombre_universidad&#39;: &#39;Universidad Nacional Agraria de la Selva&#39;, &#39;sinonimos&#39;: [&#39;Universidad Nacional Agraria De La Selva - Unas&#39;, &#39;Universidad Nacional Agraria De La Selva&#39;]}, {&#39;nombre_universidad&#39;: &#39;Universidad Nacional de San Agustín de Arequipa&#39;, &#39;sinonimos&#39;: [&#39;Universidad Nacional De San Agustín De Arequipa&#39;, &#39;Universidad Nacional De San Agustin De Arequipa&#39;, &#39;Universidad San Agustín De Arequipa&#39;]}, {&#39;nombre_universidad&#39;: &#39;Universidad Nacional de Frontera&#39;, &#39;sinonimos&#39;: [&#39;Universidad Nacional De Fronteras&#39;, &#39;Universidad Nacional De Frontera&#39;]}, {&#39;nombre_universidad&#39;: &#39;Universidad Señor de Sipán S.A.C.&#39;, &#39;sinonimos&#39;: [&#39;Universidad Señor De Sipán - Uss&#39;, &#39;Universidad Señor De Sipan&#39;, &#39;Universidad Privada Señor De Sipan&#39;, &#39;Universidad Señor De Sipán&#39;]}, {&#39;nombre_universidad&#39;: &#39;Universidad Privada de Tacna&#39;, &#39;sinonimos&#39;: [&#39;Upt&#39;, &#39;Universidad Privada De Tacna - Upt&#39;, &#39;Universidad Privada De Tacna&#39;]}, {&#39;nombre_universidad&#39;: &#39;Universidad Marcelino Champagnat&#39;, &#39;sinonimos&#39;: [&#39;Universidad Marcelino Champagnat&#39;]}, {&#39;nombre_universidad&#39;: &#39;Universidad Católica San Pablo&#39;, &#39;sinonimos&#39;: [&#39;Universidad Católica San Pablo&#39;, &#39;Universidad Catolica San Pablo&#39;]}, {&#39;nombre_universidad&#39;: &#39;Universidad Peruana Cayetano Heredia&#39;, &#39;sinonimos&#39;: [&#39;José Cayetano Heredia&#39;, &#39;Universidad Peruana Cayetano Heredia&#39;, &#39;Cetpro  Cayetano Heredia&#39;]}, {&#39;nombre_universidad&#39;: &#39;Universidad de Lima&#39;, &#39;sinonimos&#39;: [&#39;Universidad De Lima&#39;, &#39;Universidad De Lima - Ulima&#39;]}, {&#39;nombre_universidad&#39;: &#39;Universidad Nacional de San Cristóbal de Huamanga&#39;, &#39;sinonimos&#39;: [&#39;Universidad Nacional De San Cristóbal De Huamanga&#39;]}, {&#39;nombre_universidad&#39;: &#39;Universidad Nacional de la Amazonía Peruana&#39;, &#39;sinonimos&#39;: [&#39;Universidad Nacional De La Amazonia Peruana - Unap&#39;, &#39;Universidad Nacional De La Amazonía Peruana&#39;, &#39;Universida Nacional De La Amazonia Peruana&#39;, &#39;Universidad Nacional De La  Amazonia Peruana&#39;, &#39;Universidad Nacional De La Amazonia Peruana (unap)&#39;, &#39;Universidad Nacional De La Amazonia Peruana&#39;, &#39;Unap&#39;]}, {&#39;nombre_universidad&#39;: &#39;Universidad Católica de Santa María&#39;, &#39;sinonimos&#39;: [&#39;Universidad Católica De Santa María&#39;, &#39;Universidad Católica De Santa Maria&#39;]}, {&#39;nombre_universidad&#39;: &#39;Universidad Nacional de Ingeniería&#39;, &#39;sinonimos&#39;: [&#39;Universidad Nacional De Ingeniería - Uni&#39;, &#39;Universidad Nacional De Ingeniería&#39;, &#39;Universidad Nacional De Ingenieria&#39;]}, {&#39;nombre_universidad&#39;: &#39;Universidad Tecnológica del Perú S.A.C.&#39;, &#39;sinonimos&#39;: [&#39;Universidad Tecnologica Del Peru U.t.p&#39;, &#39;Universidad Tecnologica Del Peru&#39;, &#39;Universidad Tecnológica Del Perú (utp)&#39;, &#39;Utp&#39;, &#39;Tecnológica Del Perú&#39;, &#39;Universidad Tecnológica Del Perú&#39;, &#39;Universidad Católica Tecnologica Del Peru&#39;, &#39;Universidad Tecnológica Del Perú - Utp&#39;, &#39;Utp - Universidad Tecnológica Del Perú&#39;, &#39;Univerisdad Tecnologica Del Peru&#39;, &#39;Universidad Tecnológica Del Perú-utp&#39;]}, {&#39;nombre_universidad&#39;: &#39;Universidad del Pacífico&#39;, &#39;sinonimos&#39;: [&#39;Universidad Del Pacifico&#39;, &#39;Universidad Del Pacífico&#39;]}, {&#39;nombre_universidad&#39;: &#39;Universidad de Piura&#39;, &#39;sinonimos&#39;: [&#39;San Isidro De Piura&#39;, &#39;Universidad De Piura&#39;, &#39;Udep&#39;, &#39;Universidad De Piura - Campus Lima&#39;]}, {&#39;nombre_universidad&#39;: &#39;Universidad Femenina del Sagrado Corazón&#39;, &#39;sinonimos&#39;: [&#39;Universidad Femenina Del Sagrado Corazón - Unife&#39;, &#39;Universidad Femenina Del Sagrado Corazón&#39;, &#39;Unife&#39;, &#39;Universidad Femenina Del Sagrado Corazon&#39;]}, {&#39;nombre_universidad&#39;: &#39;Universidad Andina del Cusco&#39;, &#39;sinonimos&#39;: [&#39;Universidad Andina Del Cusco&#39;, &#39;Uac&#39;]}, {&#39;nombre_universidad&#39;: &#39;Universidad Nacional de Huancavelica&#39;, &#39;sinonimos&#39;: [&#39;Universidad Nacional De Huancavelica&#39;]}, {&#39;nombre_universidad&#39;: &#39;Universidad Continental S.A.C.&#39;, &#39;sinonimos&#39;: [&#39;Universidad Continental De Ciencias E Ingeniería - Ucci&#39;, &#39;Institulo Continental&#39;, &#39;Instituto Superior Tecnológico Continental&#39;, &#39;Universidad Continental De Ciencias E Ingenieria&#39;, &#39;Continental&#39;, &#39;Universidad Continental De Ciencias E In&#39;, &#39;Instituto Continental&#39;, &#39;Universidad Continental&#39;]}, {&#39;nombre_universidad&#39;: &#39;Universidad Jaime Bausate y Meza&#39;, &#39;sinonimos&#39;: [&#39;Universidad Jaime Bausate Y Meza - Jbm&#39;, &#39;Universidad Jaime Bausate Y Meza&#39;]}, {&#39;nombre_universidad&#39;: &#39;Universidad Nacional Tecnológica de Lima Sur&#39;, &#39;sinonimos&#39;: [&#39;Universidad Nacional Tecnológica De Lima Sur&#39;, &#39;Untels&#39;]}, {&#39;nombre_universidad&#39;: &#39;Universidad Antonio Ruiz de Montoya&#39;, &#39;sinonimos&#39;: [&#39;Universidad Antonio Ruiz De Montoya&#39;]}, {&#39;nombre_universidad&#39;: &#39;Universidad Peruana Los Andes&#39;, &#39;sinonimos&#39;: [&#39;Upla&#39;, &#39;Universidad Peruana Los Andes (upla)&#39;, &#39;Universidad Peruana Los Andes&#39;, &#39;Universidad Peruana Los Andes - Upla&#39;]}, {&#39;nombre_universidad&#39;: &#39;Universidad Ricardo Palma&#39;, &#39;sinonimos&#39;: [&#39;Ricardo Palma 5099&#39;, &#39;Universidad Ricardo Palma&#39;, &#39;U. Ricardo Palma&#39;, &#39;Ricardo Palma N°5099&#39;, &#39;Ricardo Palma&#39;, &#39;Instituto De La Clínica Ricardo Palma&#39;, &#39;Instituto Ricardo Palma&#39;, &#39;I.e. Ricardo Palma Soriano N°32483&#39;]}, {&#39;nombre_universidad&#39;: &#39;Universidad César Vallejo S.A.C.&#39;, &#39;sinonimos&#39;: [&#39;Univesidad  Cesar Vallejo&#39;, &#39;Universidad César Vallejo&#39;, &#39;Universidad César Vallejo (ucv)&#39;, &#39;Universidad  Cesar  Vallejo&#39;, &#39;Universidad Cesar Vallejo.&#39;, &#39;I.e César Vallejo&#39;, &#39;Univeraidad Cesar Vallejo&#39;, &#39;Univ Cesar Vallejo&#39;, &#39;Universidad Cesar Vallejo&#39;, &#39;Universidad Cesar Vallejo  Ucv&#39;, &#39;Universidas Cesar Vallejo&#39;, &#39;Universidad Privada César Vallejo&#39;, &#39;Univesidad Cesar Vallejo&#39;, &#39;César Vallejo&#39;, &#39;Univercidad Cesar Vallejo&#39;, &#39;Universidad Cesar Vallejo - Ucv&#39;, &#39;I.e 7069 César Vallejo&#39;, &#39;Ucv&#39;, &#39;César Vallejo - Lima&#39;, &#39;I.e.p César Vallejo Mendoza&#39;, &#39;Academia Cesar Vallejo&#39;, &#39;Universidad César Vallejo\\u200b&#39;, &#39;Universidad Cesar Vallejo Trujillo&#39;, &#39;Universidad Privada Cesar Vallejo&#39;, &#39;Univesidad César Vallejo&#39;, &#39;Cesar Vallejo&#39;]}, {&#39;nombre_universidad&#39;: &#39;Universidad Nacional del Santa&#39;, &#39;sinonimos&#39;: [&#39;Universidad Nacional Del Santa&#39;]}, {&#39;nombre_universidad&#39;: &#39;Universidad Nacional Federico Villarreal&#39;, &#39;sinonimos&#39;: [&#39;Universidad Nacional Federico Villarreal - Unfv&#39;, &#39;Instituto Federico Villarreal&#39;, &#39;Universidad Federico Villarreal&#39;, &#39;Unfv&#39;, &#39;Universidad Naciónal Federico Villarreal&#39;, &#39;Iep Federico Villarreal&#39;, &#39;Universidad Nacional Federico Villarreal&#39;, &#39;Universidad Nacional Federico Villarreal.&#39;]}, {&#39;nombre_universidad&#39;: &#39;Universidad Nacional Hermilio Valdizán de Huánuco&#39;, &#39;sinonimos&#39;: [&#39;Unheval&#39;]}, {&#39;nombre_universidad&#39;: &#39;Universidad Nacional Santiago Antúnez de Mayolo&#39;, &#39;sinonimos&#39;: [&#39;I.e. Santiago Antúnez De Mayolo&#39;, &#39;I.s.t.p Santiago Antunez De Mayolo - Huancayo&#39;, &#39;Universidad Nacional Santiago Antúnez De Mayolo, Huaraz&#39;]}, {&#39;nombre_universidad&#39;: &#39;Universidad Nacional San Luis Gonzaga de Ica&#39;, &#39;sinonimos&#39;: [&#39;Universidad Nacional San Luis Gonzaga De Ica - Unica&#39;, &#39;Universidad Nacional San Luis Gonzaga De Ica&#39;, &#39;San Luis Gonzaga De Ica&#39;, &#39;Universidad San Luis Gonzaga De Ica&#39;]}, {&#39;nombre_universidad&#39;: &#39;Universidad Católica Santo Toribio de Mogrovejo&#39;, &#39;sinonimos&#39;: [&#39;Universidad Católica Santo Toribio De Mogrovejo&#39;, &#39;Usat&#39;, &#39;Santo Toribio De Mogrovejo&#39;]}, {&#39;nombre_universidad&#39;: &#39;Universidad Nacional del Centro del Perú&#39;, &#39;sinonimos&#39;: [&#39;Universidad Nacional Del Centro Del Perú - Uncp&#39;, &#39;Universidad Nacional Del Centro Del Peru&#39;, &#39;Universidad Nacional Del Centro Del Perú&#39;]}, {&#39;nombre_universidad&#39;: &#39;Universidad Nacional Mayor de San Marcos&#39;, &#39;sinonimos&#39;: [&#39;Universidad Nacional Mayor De San Marcos - Unmsm&#39;, &#39;I.e.p. San Marcos&#39;, &#39;Unmsm&#39;, &#39;Instituto Superior Tecnologico Publico San Marcos&#39;, &#39;Universidad San Marcos&#39;, &#39;Universidad Nacional Mayor De San Marcos&#39;, &#39;110 San Marcos&#39;, &#39;Univesidad Nacional Mayor De San Marcos&#39;, &#39;Universidad Mayor De San Marcos&#39;, &#39;San Marcos 00503&#39;]}, {&#39;nombre_universidad&#39;: &#39;Universidad Le Cordon Bleu S.A.C.&#39;, &#39;sinonimos&#39;: [&#39;Universidad Le Cordon Bleu&#39;, &#39;Le Cordon Bleu Peru&#39;]}, {&#39;nombre_universidad&#39;: &#39;Universidad Autónoma del Perú S.A.C.&#39;, &#39;sinonimos&#39;: [&#39;Autónoma Del Perú&#39;, &#39;Universidad Autónoma Del Perú&#39;, &#39;Universidad Autónoma Del Perú - Ua&#39;, &#39;Universidad Autonoma Del Peru&#39;]}, {&#39;nombre_universidad&#39;: &#39;Asociación Civil Universidad de Ciencias y Humanidades&#39;, &#39;sinonimos&#39;: [&#39;Uch&#39;]}, {&#39;nombre_universidad&#39;: &#39;Universidad Nacional Micaela Bastidas de Apurímac&#39;, &#39;sinonimos&#39;: [&#39;Universidad Nacional Micaela Bastidas De Apurímac&#39;, &#39;Universidad Nacional Micaela Bastidas De Apurimac&#39;]}, {&#39;nombre_universidad&#39;: &#39;Universidad Nacional de Tumbes&#39;, &#39;sinonimos&#39;: [&#39;Universidad Nacional De Tumbes&#39;, &#39;Centro De Informatica Y Telecomunicacion De La Universidad Nacional  De Tumbes&#39;, &#39;Universidad Nacional De Tumbes - Unt&#39;]}, {&#39;nombre_universidad&#39;: &#39;Universidad Privada San Juan Bautista S.A.C.&#39;, &#39;sinonimos&#39;: [&#39;Univ Privada San Juan Bautista&#39;, &#39;Universidad Privada San Juan Bautista&#39;, &#39;Universidad Privada San Juan Bautista - Upsjb&#39;, &#39;Upsjb&#39;, &#39;Universidad Privada San Juan  Bautista&#39;, &#39;Asociacion Universidad Privada San Juan Bautista&#39;]}, {&#39;nombre_universidad&#39;: &#39;Universidad Peruana Unión&#39;, &#39;sinonimos&#39;: [&#39;Universidad Peruana Unión&#39;, &#39;Univresidad Peruana Unión&#39;, &#39;Universidad Peruana Unión - Upeu&#39;]}, {&#39;nombre_universidad&#39;: &#39;Universidad Nacional de Moquegua&#39;, &#39;sinonimos&#39;: [&#39;Universidad Nacional De Moquegua&#39;]}, {&#39;nombre_universidad&#39;: &#39;Pontificia Universidad Católica del Perú&#39;, &#39;sinonimos&#39;: [&#39;Pontificia Universidad Católica Del Perú - Pucp&#39;, &#39;Pucp&#39;, &#39;Pontificia Universidad Católica Del Perú&#39;, &#39;Instituto De Idiomas De La Pontificia Universidad Católica Del Perú&#39;]}, {&#39;nombre_universidad&#39;: &#39;Universidad Privada Norbert Wiener S.A.&#39;, &#39;sinonimos&#39;: [&#39;Universidad Privada Norbert Wiener&#39;, &#39;Univerdidad Privada Norbert Wiener&#39;, &#39;Universidad Privada Norbert Wiener - U Wiener&#39;, &#39;Universidad Privada Norbert Wiener (uwiener)&#39;, &#39;Universida Privada Norbert Wiener&#39;]}, {&#39;nombre_universidad&#39;: &#39;Universidad Católica Sedes Sapientiae&#39;, &#39;sinonimos&#39;: [&#39;Ucss&#39;, &#39;Universidadcatólica Sedes Sapientiae&#39;, &#39;Escuela De Postgrado - Universidad Católica Sedes Sapientiae&#39;, &#39;Universidad Católica Sedes Sapientiae - Ucss&#39;, &#39;Universidad Católica Sedes Sapientiae&#39;]}, {&#39;nombre_universidad&#39;: &#39;Universidad Nacional José María Arguedas&#39;, &#39;sinonimos&#39;: [&#39;Lalito José María Arguedas&#39;, &#39;Jose Maria Arguedas 2027&#39;, &#39;I.e.p José María Arguedas&#39;, &#39;Jose Maria Arguedas&#39;]}, {&#39;nombre_universidad&#39;: &#39;Universidad Nacional de Trujillo&#39;, &#39;sinonimos&#39;: [&#39;Universidad Nacional De Trujillo - Unitru&#39;, &#39;Universidad Nacional De Trujillo&#39;, &#39;Universidad Nacional De Trujillo - Unt&#39;]}, {&#39;nombre_universidad&#39;: &#39;Universidad María Auxiliadora S.A.C.&#39;, &#39;sinonimos&#39;: [&#39;Maria Auxiliadora - Chosica&#39;, &#39;Maria Auxiliadora&#39;, &#39;I. E 00 María Auxiliadora, Cercado De Lima&#39;, &#39;I.e Por Convenio 0001 María Auxiliadora&#39;, &#39;I.e.p Maria Auxiliadora&#39;, &#39;Institución Educativa María Auxiliadora-chulucanas&#39;, &#39;I.e Por Convenio 000 María Auxiliadora&#39;, &#39;María Auxiliadora - Breña&#39;, &#39;Iep María Auxiliadora&#39;, &#39;Universidad Maria Auxiliadora&#39;, &#39;Universidad  Maria Auxiliadora&#39;]}, {&#39;nombre_universidad&#39;: &#39;Universidad La Salle&#39;, &#39;sinonimos&#39;: [&#39;Colegio La Salle&#39;, &#39;Universidad La Salle&#39;, &#39;San José La Salle&#39;, &#39;San Miguel De La Salle&#39;]}, {&#39;nombre_universidad&#39;: &#39;Universidad Privada del Norte S.A.C.&#39;, &#39;sinonimos&#39;: [&#39;Universidad Privada Del Norte.&#39;, &#39;Universidad Privada Del Norte - Unp&#39;, &#39;Universidad  Privada  Del Norte&#39;, &#39;Universidada Privada Del Norte&#39;, &#39;Universidad Privada Del Norte (upn)&#39;, &#39;Universidad Privada Del Norte ( Upn )&#39;, &#39;Universalidad Privada Del Norte&#39;, &#39;Upn&#39;, &#39;Univesidad Privada Del Norte&#39;, &#39;Universidad Privada Del  Norte&#39;, &#39;Univeridad Privada Del Norte&#39;, &#39;Univerisdad Privada Del Norte&#39;, &#39;Universidad Privada Del Norte&#39;, &#39;Universidad Privada Del Norte - Upn&#39;, &#39;Universidad Privada Del Norte Upn&#39;, &#39;Universodad Privada Del Norte&#39;]}, {&#39;nombre_universidad&#39;: &#39;Universidad Nacional de San Antonio Abad del Cusco&#39;, &#39;sinonimos&#39;: [&#39;Unsaac&#39;, &#39;San Antonio Abad Del Cusco&#39;, &#39;Universidad Nacional San Antonio Abad Del Cusco&#39;, &#39;Universidad Nacional De San Antonio Abad Del Cusco - Unsaac&#39;]}, {&#39;nombre_universidad&#39;: &#39;Universidad Nacional Jorge Basadre Grohmann&#39;, &#39;sinonimos&#39;: [&#39;Jorge Basadre Grohmann 6089&#39;]}, {&#39;nombre_universidad&#39;: &#39;Universidad Nacional de Educación Enrique Guzmán y Valle&#39;, &#39;sinonimos&#39;: [&#39;Universidad Nacional Enrique Guzmán Y Valle&#39;, &#39;Enrique Guzmán Y Valle 3084&#39;, &#39;Universidad Nacional De Educación Enrique Guzmán Y Valle  La Cantuta&#39;, &#39;Universidad Nacional De Educación Enrique Guzmán Y Valle&#39;, &#39;Universidad Nacional De Educacion Enrique Guzman Y Valle Une&#39;, &#39;Universidad Nacional De Educación Enrique Guzman Y Valle&#39;, &#39;Universidad Nacional De Educación Enrique Guzmán Y Valle - La Cantuta&#39;, &#39;Enrique Guzmán Y Valle&#39;, &#39;Universidad Enrique Guzmán Y Valle- La Cantuta&#39;, &#39;Universidad Enrique Guzman Y Valle&#39;]}, {&#39;nombre_universidad&#39;: &#39;Universidad de San Martín de Porres&#39;, &#39;sinonimos&#39;: [&#39;Centro De Idiomas De La Universidad De San Martin De Porres&#39;, &#39;I.e.p San Martín De Porres&#39;, &#39;Universidad San Martín De Porres&#39;, &#39;&#34;Universidad Particular &#34;&#34;san Martín De Porres&#34;&#34;&#34;&#39;, &#39;Usmp&#39;, &#39;Universidad Particular San Martin De Porres&#39;, &#39;Universidad De San Martin De Porres - Lima&#39;, &#39;Universidad San Martin  De Porres&#39;, &#39;Universidad De San Martin De Porres&#39;, &#39;San Martin De Porres&#39;, &#39;San Martín De Porres&#39;, &#39;Universidad De San Martin De Porres - Usmp&#39;, &#39;Centro De Idiomas De La Universidad De San Martín De Porres&#39;, &#39;Universidad San Martin De Porres&#39;, &#39;Universidad De San Martín De Porres&#39;, &#39;Agustiniano San Martin De Porres&#39;]}, {&#39;nombre_universidad&#39;: &#39;Universidad Científica del Sur S.A.C.&#39;, &#39;sinonimos&#39;: [&#39;Universidad Científica Del Sur - Ucsur&#39;, &#39;Universidad Cientifica  Del Sur&#39;, &#39;Científica Del Sur&#39;, &#39;Universidad Científica Del Sur&#39;, &#39;Universidad Cientifica Del Sur&#39;]}, {&#39;nombre_universidad&#39;: &#39;Universidad Nacional José Faustino Sánchez Carrión&#39;, &#39;sinonimos&#39;: [&#39;Universidad Nacional José Faustino Sánchez Carrión&#39;, &#39;Universidad Nacional José Faustino  Sánchez Carrión&#39;, &#39;Universidad Nacional Jose Faustino Sanchez Carrion&#39;, &#39;José Faustino Sánchez Carrión&#39;, &#39;Univercidad Jose Faustino Sanchez Carrion&#39;, &#39;Universidad Jose Faustino Sanchez Carrion&#39;]}, {&#39;nombre_universidad&#39;: &#39;Universidad Nacional Daniel Alcides Carrión&#39;, &#39;sinonimos&#39;: [&#39;Mártir Daniel Alcides Carrión&#39;, &#39;Daniel Alcides Carrion&#39;, &#39;Universidad Nacional Daniel Alcides Carrion&#39;, &#39;I.e Jec Daniel Alcides Carrión&#39;, &#39;Universidad Nacional Daniel Alcides Carrión - Undac&#39;, &#39;Instituto Daniel Alcides Carrion&#39;, &#39;Universidad Nacional Daniel Alcides Carrión&#39;, &#39;Mártir Daniel Alcides Carrión 0142&#39;, &#39;Undac&#39;, &#39;Daniel Alcides Carrión&#39;]}, {&#39;nombre_universidad&#39;: &#39;Universidad Autónoma de Ica S.A.C.&#39;, &#39;sinonimos&#39;: [&#39;Universidad Autónoma De Ica&#39;, &#39;Universidad Autonoma De  Ica&#39;, &#39;Universidad Autonoma De Ica&#39;]}, {&#39;nombre_universidad&#39;: &#39;Universidad Privada Antenor Orrego&#39;, &#39;sinonimos&#39;: [&#39;Upao&#39;, &#39;Universidad Privada Antenor Orrego&#39;, &#39;Universidad Privada Antenor Orrego - Upao&#39;]}, {&#39;nombre_universidad&#39;: &#39;Universidad Nacional de Cañete&#39;, &#39;sinonimos&#39;: [&#39;Universidad Nacional De Cañete&#39;]}, {&#39;nombre_universidad&#39;: &#39;Universidad Peruana de Ciencias Aplicadas S.A.C.&#39;, &#39;sinonimos&#39;: [&#39;Upc Universidad Peruana De Ciencias Aplicadas&#39;, &#39;Universidad Peruana De Ciencias Aplicadas&#39;, &#39;Universidad Privada De Ciencias Aplicadas&#39;, &#39;Upc - Universidad Peruana De Ciencias Aplicadas&#39;, &#39;Universidad Peruana De Ciencias Aplicadas (upc)&#39;, &#39;Universidad Peruana De Ciencias Aplicadas-upc&#39;, &#39;Upc&#39;, &#39;Universidad Peruana De Ciencias Aplicada&#39;, &#39;Universidad Peruana De Ciencias Aplicadas.&#39;, &#39;Universidad Peruana De Ciencias Aplicadas - Upc&#39;, &#39;Universidad Peruana  De Ciencias Aplicadas&#39;, &#39;Universida Peruana De Ciencias Aplicadas&#39;, &#39;Universidad De Ciencias Aplicadas&#39;, &#39;Universidad De Ciencias Aplicadas - Upc&#39;]}]\n</div>"
      ]
     },
     "metadata": {
      "application/vnd.databricks.v1+output": {
       "addedWidgets": {},
       "arguments": {},
       "data": "<div class=\"ansiout\">[{&#39;nombre_universidad&#39;: &#39;Universidad Nacional Agraria La Molina&#39;, &#39;sinonimos&#39;: [&#39;Universidad Nacional Agraria La Molina&#39;, &#39;Universidad Nacional Agraria La Molina - La Molina&#39;, &#39;Unalm&#39;]}, {&#39;nombre_universidad&#39;: &#39;Universidad de Ingeniería y Tecnología&#39;, &#39;sinonimos&#39;: [&#39;Utec&#39;]}, {&#39;nombre_universidad&#39;: &#39;Universidad Nacional de Jaén&#39;, &#39;sinonimos&#39;: [&#39;Universidad Nacional De Jaén&#39;]}, {&#39;nombre_universidad&#39;: &#39;Universidad Nacional del Altiplano&#39;, &#39;sinonimos&#39;: [&#39;Universidad Nacional Del Altiplano&#39;]}, {&#39;nombre_universidad&#39;: &#39;Universidad ESAN&#39;, &#39;sinonimos&#39;: [&#39;Universidad Esan&#39;]}, {&#39;nombre_universidad&#39;: &#39;Universidad San Ignacio de Loyola S.R.L.&#39;, &#39;sinonimos&#39;: [&#39;Universidad San Ignacio De Loyola&#39;, &#39;Instituto San Ignacio De Loyola Isil&#39;, &#39;San Ignacio De Loyola - Isil&#39;, &#39;Universidad San Ignacio De Loyola(cpel)&#39;, &#39;San Ignacio De Loyola&#39;, &#39;Isil - Instituto San Ignacio De Loyola&#39;, &#39;Instituto San Ignacio De Loyola (isil)&#39;, &#39;Usil - San Ignacio De Loyola&#39;, &#39;Instituto San Ignacio De Loyola&#39;, &#39;Instituto Superior San Ignacio De Loyola (isil)&#39;, &#39;Univesidad San Ignacio De Loyola&#39;, &#39;San Ignacio  De Loyola&#39;, &#39;Universidad San Ignacio De Loyola - Usil&#39;, &#39;Isil ( Instituto San Ignacio De Loyola)&#39;, &#39;Usil&#39;, &#39;Instituto San Ignacio De Loyola - Isil&#39;]}, {&#39;nombre_universidad&#39;: &#39;Universidad Nacional de San Martín&#39;, &#39;sinonimos&#39;: [&#39;Universidad Nacional De San Martín&#39;, &#39;Universidad Nacional De San Martin&#39;]}, {&#39;nombre_universidad&#39;: &#39;Universidad Nacional del Callao&#39;, &#39;sinonimos&#39;: [&#39;Universidad Nacional Del Callao&#39;, &#39;Universidad Nacional Del Callao Unac&#39;, &#39;Universidad Nacional Del Callao - Unac&#39;, &#39;Politecnico Nacional Del Callao&#39;, &#39;Universida Nacional Del Callao&#39;, &#39;Unac&#39;, &#39;Universidad  Nacional  Del Callao&#39;]}, {&#39;nombre_universidad&#39;: &#39;Universidad Nacional Amazónica de Madre de Dios&#39;, &#39;sinonimos&#39;: [&#39;Universidad Nacional Amazónica De Madre De Dios&#39;]}, {&#39;nombre_universidad&#39;: &#39;Universidad Nacional de Ucayali&#39;, &#39;sinonimos&#39;: [&#39;Universidad Nacional De Ucayali&#39;]}, {&#39;nombre_universidad&#39;: &#39;Universidad Católica de Trujillo Benedicto XVI&#39;, &#39;sinonimos&#39;: [&#39;Universidad Católica De Trujillo Benedicto Xvi&#39;]}, {&#39;nombre_universidad&#39;: &#39;Universidad Tecnológica de los Andes&#39;, &#39;sinonimos&#39;: [&#39;Universidad Tecnológica De Los Andes&#39;, &#39;Universidad Tecnologica De Los Andes&#39;]}, {&#39;nombre_universidad&#39;: &#39;Universidad de Huánuco&#39;, &#39;sinonimos&#39;: [&#39;Universidad De Huánuco&#39;, &#39;San Juan Bosco De Huanuco&#39;, &#39;Universidad De Huánuco - Udh&#39;, &#39;Juan Bosco De Huánuco&#39;, &#39;Universidad De Huanuco&#39;, &#39;Juan Bosco De Huanuco&#39;]}, {&#39;nombre_universidad&#39;: &#39;Universidad Nacional de Piura&#39;, &#39;sinonimos&#39;: [&#39;Universidad Nacional De Piura&#39;, &#39;Universidad  Nacional De Piura - Unp&#39;, &#39;Escuela Técnica Superior De La Universidad Nacional De Piura&#39;, &#39;Escuela Tecnica Superior De Universidad Nacional De Piura&#39;]}, {&#39;nombre_universidad&#39;: &#39;Universidad Nacional Agraria de la Selva&#39;, &#39;sinonimos&#39;: [&#39;Universidad Nacional Agraria De La Selva - Unas&#39;, &#39;Universidad Nacional Agraria De La Selva&#39;]}, {&#39;nombre_universidad&#39;: &#39;Universidad Nacional de San Agustín de Arequipa&#39;, &#39;sinonimos&#39;: [&#39;Universidad Nacional De San Agustín De Arequipa&#39;, &#39;Universidad Nacional De San Agustin De Arequipa&#39;, &#39;Universidad San Agustín De Arequipa&#39;]}, {&#39;nombre_universidad&#39;: &#39;Universidad Nacional de Frontera&#39;, &#39;sinonimos&#39;: [&#39;Universidad Nacional De Fronteras&#39;, &#39;Universidad Nacional De Frontera&#39;]}, {&#39;nombre_universidad&#39;: &#39;Universidad Señor de Sipán S.A.C.&#39;, &#39;sinonimos&#39;: [&#39;Universidad Señor De Sipán - Uss&#39;, &#39;Universidad Señor De Sipan&#39;, &#39;Universidad Privada Señor De Sipan&#39;, &#39;Universidad Señor De Sipán&#39;]}, {&#39;nombre_universidad&#39;: &#39;Universidad Privada de Tacna&#39;, &#39;sinonimos&#39;: [&#39;Upt&#39;, &#39;Universidad Privada De Tacna - Upt&#39;, &#39;Universidad Privada De Tacna&#39;]}, {&#39;nombre_universidad&#39;: &#39;Universidad Marcelino Champagnat&#39;, &#39;sinonimos&#39;: [&#39;Universidad Marcelino Champagnat&#39;]}, {&#39;nombre_universidad&#39;: &#39;Universidad Católica San Pablo&#39;, &#39;sinonimos&#39;: [&#39;Universidad Católica San Pablo&#39;, &#39;Universidad Catolica San Pablo&#39;]}, {&#39;nombre_universidad&#39;: &#39;Universidad Peruana Cayetano Heredia&#39;, &#39;sinonimos&#39;: [&#39;José Cayetano Heredia&#39;, &#39;Universidad Peruana Cayetano Heredia&#39;, &#39;Cetpro  Cayetano Heredia&#39;]}, {&#39;nombre_universidad&#39;: &#39;Universidad de Lima&#39;, &#39;sinonimos&#39;: [&#39;Universidad De Lima&#39;, &#39;Universidad De Lima - Ulima&#39;]}, {&#39;nombre_universidad&#39;: &#39;Universidad Nacional de San Cristóbal de Huamanga&#39;, &#39;sinonimos&#39;: [&#39;Universidad Nacional De San Cristóbal De Huamanga&#39;]}, {&#39;nombre_universidad&#39;: &#39;Universidad Nacional de la Amazonía Peruana&#39;, &#39;sinonimos&#39;: [&#39;Universidad Nacional De La Amazonia Peruana - Unap&#39;, &#39;Universidad Nacional De La Amazonía Peruana&#39;, &#39;Universida Nacional De La Amazonia Peruana&#39;, &#39;Universidad Nacional De La  Amazonia Peruana&#39;, &#39;Universidad Nacional De La Amazonia Peruana (unap)&#39;, &#39;Universidad Nacional De La Amazonia Peruana&#39;, &#39;Unap&#39;]}, {&#39;nombre_universidad&#39;: &#39;Universidad Católica de Santa María&#39;, &#39;sinonimos&#39;: [&#39;Universidad Católica De Santa María&#39;, &#39;Universidad Católica De Santa Maria&#39;]}, {&#39;nombre_universidad&#39;: &#39;Universidad Nacional de Ingeniería&#39;, &#39;sinonimos&#39;: [&#39;Universidad Nacional De Ingeniería - Uni&#39;, &#39;Universidad Nacional De Ingeniería&#39;, &#39;Universidad Nacional De Ingenieria&#39;]}, {&#39;nombre_universidad&#39;: &#39;Universidad Tecnológica del Perú S.A.C.&#39;, &#39;sinonimos&#39;: [&#39;Universidad Tecnologica Del Peru U.t.p&#39;, &#39;Universidad Tecnologica Del Peru&#39;, &#39;Universidad Tecnológica Del Perú (utp)&#39;, &#39;Utp&#39;, &#39;Tecnológica Del Perú&#39;, &#39;Universidad Tecnológica Del Perú&#39;, &#39;Universidad Católica Tecnologica Del Peru&#39;, &#39;Universidad Tecnológica Del Perú - Utp&#39;, &#39;Utp - Universidad Tecnológica Del Perú&#39;, &#39;Univerisdad Tecnologica Del Peru&#39;, &#39;Universidad Tecnológica Del Perú-utp&#39;]}, {&#39;nombre_universidad&#39;: &#39;Universidad del Pacífico&#39;, &#39;sinonimos&#39;: [&#39;Universidad Del Pacifico&#39;, &#39;Universidad Del Pacífico&#39;]}, {&#39;nombre_universidad&#39;: &#39;Universidad de Piura&#39;, &#39;sinonimos&#39;: [&#39;San Isidro De Piura&#39;, &#39;Universidad De Piura&#39;, &#39;Udep&#39;, &#39;Universidad De Piura - Campus Lima&#39;]}, {&#39;nombre_universidad&#39;: &#39;Universidad Femenina del Sagrado Corazón&#39;, &#39;sinonimos&#39;: [&#39;Universidad Femenina Del Sagrado Corazón - Unife&#39;, &#39;Universidad Femenina Del Sagrado Corazón&#39;, &#39;Unife&#39;, &#39;Universidad Femenina Del Sagrado Corazon&#39;]}, {&#39;nombre_universidad&#39;: &#39;Universidad Andina del Cusco&#39;, &#39;sinonimos&#39;: [&#39;Universidad Andina Del Cusco&#39;, &#39;Uac&#39;]}, {&#39;nombre_universidad&#39;: &#39;Universidad Nacional de Huancavelica&#39;, &#39;sinonimos&#39;: [&#39;Universidad Nacional De Huancavelica&#39;]}, {&#39;nombre_universidad&#39;: &#39;Universidad Continental S.A.C.&#39;, &#39;sinonimos&#39;: [&#39;Universidad Continental De Ciencias E Ingeniería - Ucci&#39;, &#39;Institulo Continental&#39;, &#39;Instituto Superior Tecnológico Continental&#39;, &#39;Universidad Continental De Ciencias E Ingenieria&#39;, &#39;Continental&#39;, &#39;Universidad Continental De Ciencias E In&#39;, &#39;Instituto Continental&#39;, &#39;Universidad Continental&#39;]}, {&#39;nombre_universidad&#39;: &#39;Universidad Jaime Bausate y Meza&#39;, &#39;sinonimos&#39;: [&#39;Universidad Jaime Bausate Y Meza - Jbm&#39;, &#39;Universidad Jaime Bausate Y Meza&#39;]}, {&#39;nombre_universidad&#39;: &#39;Universidad Nacional Tecnológica de Lima Sur&#39;, &#39;sinonimos&#39;: [&#39;Universidad Nacional Tecnológica De Lima Sur&#39;, &#39;Untels&#39;]}, {&#39;nombre_universidad&#39;: &#39;Universidad Antonio Ruiz de Montoya&#39;, &#39;sinonimos&#39;: [&#39;Universidad Antonio Ruiz De Montoya&#39;]}, {&#39;nombre_universidad&#39;: &#39;Universidad Peruana Los Andes&#39;, &#39;sinonimos&#39;: [&#39;Upla&#39;, &#39;Universidad Peruana Los Andes (upla)&#39;, &#39;Universidad Peruana Los Andes&#39;, &#39;Universidad Peruana Los Andes - Upla&#39;]}, {&#39;nombre_universidad&#39;: &#39;Universidad Ricardo Palma&#39;, &#39;sinonimos&#39;: [&#39;Ricardo Palma 5099&#39;, &#39;Universidad Ricardo Palma&#39;, &#39;U. Ricardo Palma&#39;, &#39;Ricardo Palma N°5099&#39;, &#39;Ricardo Palma&#39;, &#39;Instituto De La Clínica Ricardo Palma&#39;, &#39;Instituto Ricardo Palma&#39;, &#39;I.e. Ricardo Palma Soriano N°32483&#39;]}, {&#39;nombre_universidad&#39;: &#39;Universidad César Vallejo S.A.C.&#39;, &#39;sinonimos&#39;: [&#39;Univesidad  Cesar Vallejo&#39;, &#39;Universidad César Vallejo&#39;, &#39;Universidad César Vallejo (ucv)&#39;, &#39;Universidad  Cesar  Vallejo&#39;, &#39;Universidad Cesar Vallejo.&#39;, &#39;I.e César Vallejo&#39;, &#39;Univeraidad Cesar Vallejo&#39;, &#39;Univ Cesar Vallejo&#39;, &#39;Universidad Cesar Vallejo&#39;, &#39;Universidad Cesar Vallejo  Ucv&#39;, &#39;Universidas Cesar Vallejo&#39;, &#39;Universidad Privada César Vallejo&#39;, &#39;Univesidad Cesar Vallejo&#39;, &#39;César Vallejo&#39;, &#39;Univercidad Cesar Vallejo&#39;, &#39;Universidad Cesar Vallejo - Ucv&#39;, &#39;I.e 7069 César Vallejo&#39;, &#39;Ucv&#39;, &#39;César Vallejo - Lima&#39;, &#39;I.e.p César Vallejo Mendoza&#39;, &#39;Academia Cesar Vallejo&#39;, &#39;Universidad César Vallejo\\u200b&#39;, &#39;Universidad Cesar Vallejo Trujillo&#39;, &#39;Universidad Privada Cesar Vallejo&#39;, &#39;Univesidad César Vallejo&#39;, &#39;Cesar Vallejo&#39;]}, {&#39;nombre_universidad&#39;: &#39;Universidad Nacional del Santa&#39;, &#39;sinonimos&#39;: [&#39;Universidad Nacional Del Santa&#39;]}, {&#39;nombre_universidad&#39;: &#39;Universidad Nacional Federico Villarreal&#39;, &#39;sinonimos&#39;: [&#39;Universidad Nacional Federico Villarreal - Unfv&#39;, &#39;Instituto Federico Villarreal&#39;, &#39;Universidad Federico Villarreal&#39;, &#39;Unfv&#39;, &#39;Universidad Naciónal Federico Villarreal&#39;, &#39;Iep Federico Villarreal&#39;, &#39;Universidad Nacional Federico Villarreal&#39;, &#39;Universidad Nacional Federico Villarreal.&#39;]}, {&#39;nombre_universidad&#39;: &#39;Universidad Nacional Hermilio Valdizán de Huánuco&#39;, &#39;sinonimos&#39;: [&#39;Unheval&#39;]}, {&#39;nombre_universidad&#39;: &#39;Universidad Nacional Santiago Antúnez de Mayolo&#39;, &#39;sinonimos&#39;: [&#39;I.e. Santiago Antúnez De Mayolo&#39;, &#39;I.s.t.p Santiago Antunez De Mayolo - Huancayo&#39;, &#39;Universidad Nacional Santiago Antúnez De Mayolo, Huaraz&#39;]}, {&#39;nombre_universidad&#39;: &#39;Universidad Nacional San Luis Gonzaga de Ica&#39;, &#39;sinonimos&#39;: [&#39;Universidad Nacional San Luis Gonzaga De Ica - Unica&#39;, &#39;Universidad Nacional San Luis Gonzaga De Ica&#39;, &#39;San Luis Gonzaga De Ica&#39;, &#39;Universidad San Luis Gonzaga De Ica&#39;]}, {&#39;nombre_universidad&#39;: &#39;Universidad Católica Santo Toribio de Mogrovejo&#39;, &#39;sinonimos&#39;: [&#39;Universidad Católica Santo Toribio De Mogrovejo&#39;, &#39;Usat&#39;, &#39;Santo Toribio De Mogrovejo&#39;]}, {&#39;nombre_universidad&#39;: &#39;Universidad Nacional del Centro del Perú&#39;, &#39;sinonimos&#39;: [&#39;Universidad Nacional Del Centro Del Perú - Uncp&#39;, &#39;Universidad Nacional Del Centro Del Peru&#39;, &#39;Universidad Nacional Del Centro Del Perú&#39;]}, {&#39;nombre_universidad&#39;: &#39;Universidad Nacional Mayor de San Marcos&#39;, &#39;sinonimos&#39;: [&#39;Universidad Nacional Mayor De San Marcos - Unmsm&#39;, &#39;I.e.p. San Marcos&#39;, &#39;Unmsm&#39;, &#39;Instituto Superior Tecnologico Publico San Marcos&#39;, &#39;Universidad San Marcos&#39;, &#39;Universidad Nacional Mayor De San Marcos&#39;, &#39;110 San Marcos&#39;, &#39;Univesidad Nacional Mayor De San Marcos&#39;, &#39;Universidad Mayor De San Marcos&#39;, &#39;San Marcos 00503&#39;]}, {&#39;nombre_universidad&#39;: &#39;Universidad Le Cordon Bleu S.A.C.&#39;, &#39;sinonimos&#39;: [&#39;Universidad Le Cordon Bleu&#39;, &#39;Le Cordon Bleu Peru&#39;]}, {&#39;nombre_universidad&#39;: &#39;Universidad Autónoma del Perú S.A.C.&#39;, &#39;sinonimos&#39;: [&#39;Autónoma Del Perú&#39;, &#39;Universidad Autónoma Del Perú&#39;, &#39;Universidad Autónoma Del Perú - Ua&#39;, &#39;Universidad Autonoma Del Peru&#39;]}, {&#39;nombre_universidad&#39;: &#39;Asociación Civil Universidad de Ciencias y Humanidades&#39;, &#39;sinonimos&#39;: [&#39;Uch&#39;]}, {&#39;nombre_universidad&#39;: &#39;Universidad Nacional Micaela Bastidas de Apurímac&#39;, &#39;sinonimos&#39;: [&#39;Universidad Nacional Micaela Bastidas De Apurímac&#39;, &#39;Universidad Nacional Micaela Bastidas De Apurimac&#39;]}, {&#39;nombre_universidad&#39;: &#39;Universidad Nacional de Tumbes&#39;, &#39;sinonimos&#39;: [&#39;Universidad Nacional De Tumbes&#39;, &#39;Centro De Informatica Y Telecomunicacion De La Universidad Nacional  De Tumbes&#39;, &#39;Universidad Nacional De Tumbes - Unt&#39;]}, {&#39;nombre_universidad&#39;: &#39;Universidad Privada San Juan Bautista S.A.C.&#39;, &#39;sinonimos&#39;: [&#39;Univ Privada San Juan Bautista&#39;, &#39;Universidad Privada San Juan Bautista&#39;, &#39;Universidad Privada San Juan Bautista - Upsjb&#39;, &#39;Upsjb&#39;, &#39;Universidad Privada San Juan  Bautista&#39;, &#39;Asociacion Universidad Privada San Juan Bautista&#39;]}, {&#39;nombre_universidad&#39;: &#39;Universidad Peruana Unión&#39;, &#39;sinonimos&#39;: [&#39;Universidad Peruana Unión&#39;, &#39;Univresidad Peruana Unión&#39;, &#39;Universidad Peruana Unión - Upeu&#39;]}, {&#39;nombre_universidad&#39;: &#39;Universidad Nacional de Moquegua&#39;, &#39;sinonimos&#39;: [&#39;Universidad Nacional De Moquegua&#39;]}, {&#39;nombre_universidad&#39;: &#39;Pontificia Universidad Católica del Perú&#39;, &#39;sinonimos&#39;: [&#39;Pontificia Universidad Católica Del Perú - Pucp&#39;, &#39;Pucp&#39;, &#39;Pontificia Universidad Católica Del Perú&#39;, &#39;Instituto De Idiomas De La Pontificia Universidad Católica Del Perú&#39;]}, {&#39;nombre_universidad&#39;: &#39;Universidad Privada Norbert Wiener S.A.&#39;, &#39;sinonimos&#39;: [&#39;Universidad Privada Norbert Wiener&#39;, &#39;Univerdidad Privada Norbert Wiener&#39;, &#39;Universidad Privada Norbert Wiener - U Wiener&#39;, &#39;Universidad Privada Norbert Wiener (uwiener)&#39;, &#39;Universida Privada Norbert Wiener&#39;]}, {&#39;nombre_universidad&#39;: &#39;Universidad Católica Sedes Sapientiae&#39;, &#39;sinonimos&#39;: [&#39;Ucss&#39;, &#39;Universidadcatólica Sedes Sapientiae&#39;, &#39;Escuela De Postgrado - Universidad Católica Sedes Sapientiae&#39;, &#39;Universidad Católica Sedes Sapientiae - Ucss&#39;, &#39;Universidad Católica Sedes Sapientiae&#39;]}, {&#39;nombre_universidad&#39;: &#39;Universidad Nacional José María Arguedas&#39;, &#39;sinonimos&#39;: [&#39;Lalito José María Arguedas&#39;, &#39;Jose Maria Arguedas 2027&#39;, &#39;I.e.p José María Arguedas&#39;, &#39;Jose Maria Arguedas&#39;]}, {&#39;nombre_universidad&#39;: &#39;Universidad Nacional de Trujillo&#39;, &#39;sinonimos&#39;: [&#39;Universidad Nacional De Trujillo - Unitru&#39;, &#39;Universidad Nacional De Trujillo&#39;, &#39;Universidad Nacional De Trujillo - Unt&#39;]}, {&#39;nombre_universidad&#39;: &#39;Universidad María Auxiliadora S.A.C.&#39;, &#39;sinonimos&#39;: [&#39;Maria Auxiliadora - Chosica&#39;, &#39;Maria Auxiliadora&#39;, &#39;I. E 00 María Auxiliadora, Cercado De Lima&#39;, &#39;I.e Por Convenio 0001 María Auxiliadora&#39;, &#39;I.e.p Maria Auxiliadora&#39;, &#39;Institución Educativa María Auxiliadora-chulucanas&#39;, &#39;I.e Por Convenio 000 María Auxiliadora&#39;, &#39;María Auxiliadora - Breña&#39;, &#39;Iep María Auxiliadora&#39;, &#39;Universidad Maria Auxiliadora&#39;, &#39;Universidad  Maria Auxiliadora&#39;]}, {&#39;nombre_universidad&#39;: &#39;Universidad La Salle&#39;, &#39;sinonimos&#39;: [&#39;Colegio La Salle&#39;, &#39;Universidad La Salle&#39;, &#39;San José La Salle&#39;, &#39;San Miguel De La Salle&#39;]}, {&#39;nombre_universidad&#39;: &#39;Universidad Privada del Norte S.A.C.&#39;, &#39;sinonimos&#39;: [&#39;Universidad Privada Del Norte.&#39;, &#39;Universidad Privada Del Norte - Unp&#39;, &#39;Universidad  Privada  Del Norte&#39;, &#39;Universidada Privada Del Norte&#39;, &#39;Universidad Privada Del Norte (upn)&#39;, &#39;Universidad Privada Del Norte ( Upn )&#39;, &#39;Universalidad Privada Del Norte&#39;, &#39;Upn&#39;, &#39;Univesidad Privada Del Norte&#39;, &#39;Universidad Privada Del  Norte&#39;, &#39;Univeridad Privada Del Norte&#39;, &#39;Univerisdad Privada Del Norte&#39;, &#39;Universidad Privada Del Norte&#39;, &#39;Universidad Privada Del Norte - Upn&#39;, &#39;Universidad Privada Del Norte Upn&#39;, &#39;Universodad Privada Del Norte&#39;]}, {&#39;nombre_universidad&#39;: &#39;Universidad Nacional de San Antonio Abad del Cusco&#39;, &#39;sinonimos&#39;: [&#39;Unsaac&#39;, &#39;San Antonio Abad Del Cusco&#39;, &#39;Universidad Nacional San Antonio Abad Del Cusco&#39;, &#39;Universidad Nacional De San Antonio Abad Del Cusco - Unsaac&#39;]}, {&#39;nombre_universidad&#39;: &#39;Universidad Nacional Jorge Basadre Grohmann&#39;, &#39;sinonimos&#39;: [&#39;Jorge Basadre Grohmann 6089&#39;]}, {&#39;nombre_universidad&#39;: &#39;Universidad Nacional de Educación Enrique Guzmán y Valle&#39;, &#39;sinonimos&#39;: [&#39;Universidad Nacional Enrique Guzmán Y Valle&#39;, &#39;Enrique Guzmán Y Valle 3084&#39;, &#39;Universidad Nacional De Educación Enrique Guzmán Y Valle  La Cantuta&#39;, &#39;Universidad Nacional De Educación Enrique Guzmán Y Valle&#39;, &#39;Universidad Nacional De Educacion Enrique Guzman Y Valle Une&#39;, &#39;Universidad Nacional De Educación Enrique Guzman Y Valle&#39;, &#39;Universidad Nacional De Educación Enrique Guzmán Y Valle - La Cantuta&#39;, &#39;Enrique Guzmán Y Valle&#39;, &#39;Universidad Enrique Guzmán Y Valle- La Cantuta&#39;, &#39;Universidad Enrique Guzman Y Valle&#39;]}, {&#39;nombre_universidad&#39;: &#39;Universidad de San Martín de Porres&#39;, &#39;sinonimos&#39;: [&#39;Centro De Idiomas De La Universidad De San Martin De Porres&#39;, &#39;I.e.p San Martín De Porres&#39;, &#39;Universidad San Martín De Porres&#39;, &#39;&#34;Universidad Particular &#34;&#34;san Martín De Porres&#34;&#34;&#34;&#39;, &#39;Usmp&#39;, &#39;Universidad Particular San Martin De Porres&#39;, &#39;Universidad De San Martin De Porres - Lima&#39;, &#39;Universidad San Martin  De Porres&#39;, &#39;Universidad De San Martin De Porres&#39;, &#39;San Martin De Porres&#39;, &#39;San Martín De Porres&#39;, &#39;Universidad De San Martin De Porres - Usmp&#39;, &#39;Centro De Idiomas De La Universidad De San Martín De Porres&#39;, &#39;Universidad San Martin De Porres&#39;, &#39;Universidad De San Martín De Porres&#39;, &#39;Agustiniano San Martin De Porres&#39;]}, {&#39;nombre_universidad&#39;: &#39;Universidad Científica del Sur S.A.C.&#39;, &#39;sinonimos&#39;: [&#39;Universidad Científica Del Sur - Ucsur&#39;, &#39;Universidad Cientifica  Del Sur&#39;, &#39;Científica Del Sur&#39;, &#39;Universidad Científica Del Sur&#39;, &#39;Universidad Cientifica Del Sur&#39;]}, {&#39;nombre_universidad&#39;: &#39;Universidad Nacional José Faustino Sánchez Carrión&#39;, &#39;sinonimos&#39;: [&#39;Universidad Nacional José Faustino Sánchez Carrión&#39;, &#39;Universidad Nacional José Faustino  Sánchez Carrión&#39;, &#39;Universidad Nacional Jose Faustino Sanchez Carrion&#39;, &#39;José Faustino Sánchez Carrión&#39;, &#39;Univercidad Jose Faustino Sanchez Carrion&#39;, &#39;Universidad Jose Faustino Sanchez Carrion&#39;]}, {&#39;nombre_universidad&#39;: &#39;Universidad Nacional Daniel Alcides Carrión&#39;, &#39;sinonimos&#39;: [&#39;Mártir Daniel Alcides Carrión&#39;, &#39;Daniel Alcides Carrion&#39;, &#39;Universidad Nacional Daniel Alcides Carrion&#39;, &#39;I.e Jec Daniel Alcides Carrión&#39;, &#39;Universidad Nacional Daniel Alcides Carrión - Undac&#39;, &#39;Instituto Daniel Alcides Carrion&#39;, &#39;Universidad Nacional Daniel Alcides Carrión&#39;, &#39;Mártir Daniel Alcides Carrión 0142&#39;, &#39;Undac&#39;, &#39;Daniel Alcides Carrión&#39;]}, {&#39;nombre_universidad&#39;: &#39;Universidad Autónoma de Ica S.A.C.&#39;, &#39;sinonimos&#39;: [&#39;Universidad Autónoma De Ica&#39;, &#39;Universidad Autonoma De  Ica&#39;, &#39;Universidad Autonoma De Ica&#39;]}, {&#39;nombre_universidad&#39;: &#39;Universidad Privada Antenor Orrego&#39;, &#39;sinonimos&#39;: [&#39;Upao&#39;, &#39;Universidad Privada Antenor Orrego&#39;, &#39;Universidad Privada Antenor Orrego - Upao&#39;]}, {&#39;nombre_universidad&#39;: &#39;Universidad Nacional de Cañete&#39;, &#39;sinonimos&#39;: [&#39;Universidad Nacional De Cañete&#39;]}, {&#39;nombre_universidad&#39;: &#39;Universidad Peruana de Ciencias Aplicadas S.A.C.&#39;, &#39;sinonimos&#39;: [&#39;Upc Universidad Peruana De Ciencias Aplicadas&#39;, &#39;Universidad Peruana De Ciencias Aplicadas&#39;, &#39;Universidad Privada De Ciencias Aplicadas&#39;, &#39;Upc - Universidad Peruana De Ciencias Aplicadas&#39;, &#39;Universidad Peruana De Ciencias Aplicadas (upc)&#39;, &#39;Universidad Peruana De Ciencias Aplicadas-upc&#39;, &#39;Upc&#39;, &#39;Universidad Peruana De Ciencias Aplicada&#39;, &#39;Universidad Peruana De Ciencias Aplicadas.&#39;, &#39;Universidad Peruana De Ciencias Aplicadas - Upc&#39;, &#39;Universidad Peruana  De Ciencias Aplicadas&#39;, &#39;Universida Peruana De Ciencias Aplicadas&#39;, &#39;Universidad De Ciencias Aplicadas&#39;, &#39;Universidad De Ciencias Aplicadas - Upc&#39;]}]\n</div>",
       "datasetInfos": [],
       "metadata": {},
       "removedWidgets": [],
       "type": "html"
      }
     },
     "output_type": "display_data"
    }
   ],
   "source": [
    "unpivot = \"stack(1, 'value',value) as (ex_colum, value)\"\n",
    "\n",
    "unpivot_data = data_homologada.select(col(\"universidad_homologada\"), expr(unpivot)).distinct() \\\n",
    "                              .drop('ex_colum')\n",
    "\n",
    "\n",
    "df_array_data = unpivot_data.groupBy(\"universidad_homologada\").agg(collect_list(\"value\").alias(\"value\"))\n",
    "\n",
    "# Crear la lista de diccionarios\n",
    "lista_sinonimos = []\n",
    "for row in df_array_data.collect():\n",
    "    universidad = row.universidad_homologada\n",
    "    sinonimos = row.value\n",
    "    sinonimos_dict = {\"nombre_universidad\": universidad, \"sinonimos\": sinonimos}\n",
    "    lista_sinonimos.append(sinonimos_dict)\n",
    "\n",
    "# Imprimir la lista\n",
    "print(lista_sinonimos)"
   ]
  }
 ],
 "metadata": {
  "application/vnd.databricks.v1+notebook": {
   "dashboards": [],
   "language": "python",
   "notebookMetadata": {
    "pythonIndentUnit": 4
   },
   "notebookName": "homologacion_datos",
   "notebookOrigID": 4040697436136189,
   "widgets": {}
  }
 },
 "nbformat": 4,
 "nbformat_minor": 0
}
